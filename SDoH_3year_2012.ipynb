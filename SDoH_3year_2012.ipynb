{
 "cells": [
  {
   "cell_type": "code",
   "execution_count": 1,
   "id": "1ceae829-a03e-466e-9656-2a34dbac8e37",
   "metadata": {},
   "outputs": [],
   "source": [
    "import pandas as pd\n",
    "import numpy as np\n",
    "import matplotlib.pyplot as plt\n",
    "import dask.dataframe as ddf\n",
    "from pandas import Series, DataFrame\n",
    "%matplotlib inline"
   ]
  },
  {
   "cell_type": "code",
   "execution_count": 2,
   "id": "331165ba-98cf-46d9-8529-d0a720926159",
   "metadata": {},
   "outputs": [],
   "source": [
    "import seaborn as sn\n",
    "import plotly.express as px"
   ]
  },
  {
   "cell_type": "markdown",
   "id": "7e4454ad-3fe4-4bb7-b924-8fcf489f2803",
   "metadata": {},
   "source": [
    "### Request for Census Tract Level Population data from Census API"
   ]
  },
  {
   "cell_type": "code",
   "execution_count": 3,
   "id": "c29f7104-19c9-49cf-9161-e5d226f6481c",
   "metadata": {},
   "outputs": [],
   "source": [
    "stateCode = ['01', '02', '04', '05', '06', '08', '09', '10', '11', '12', '13', '15', '16',\n",
    "             '17', '18', '19', '20', '21', '22', '23', '24', '25', '26', '27', '28', '29',\n",
    "            '30', '31', '32', '33', '34', '35', '36', '37', '38', '39', '40', '41', '42', \n",
    "             '44', '45', '46', '47', '48', '49', '50', '51', '53', '54', '55', '56']"
   ]
  },
  {
   "cell_type": "code",
   "execution_count": 4,
   "id": "0178df59-4807-43ba-a82b-9ac9fde763f4",
   "metadata": {},
   "outputs": [
    {
     "data": {
      "text/plain": [
       "51"
      ]
     },
     "execution_count": 4,
     "metadata": {},
     "output_type": "execute_result"
    }
   ],
   "source": [
    "len(stateCode)"
   ]
  },
  {
   "cell_type": "code",
   "execution_count": 5,
   "id": "0767a76a-e446-4a73-a850-7861f44c5f9c",
   "metadata": {},
   "outputs": [],
   "source": [
    "import requests\n",
    "import pandas as pd\n",
    "from datetime import datetime\n",
    "import time\n",
    "import json\n",
    "from io import StringIO"
   ]
  },
  {
   "cell_type": "code",
   "execution_count": 6,
   "id": "d9dc7da1-6aa4-4484-ba06-53ae6f7b9d67",
   "metadata": {},
   "outputs": [],
   "source": [
    "def collectAll_county(year, variables):\n",
    "    basic_url = 'https://api.census.gov/data/' + year + '/acs/acs3?get=NAME,'+ variables + '&for=county:*&in=state:*&key=250f58e35283d400e4185b197e3abe9021079afe'\n",
    "    r = requests.get(basic_url)\n",
    "    x = r.json()\n",
    "    print(x[0])\n",
    "    variable_list = variables.split(',')\n",
    "    column_list = ['county_name']\n",
    "    for item in variable_list:\n",
    "        column_list.append(item)\n",
    "    column_list.append('state code')\n",
    "    column_list.append('county code')\n",
    "    df = pd.DataFrame(x[1:])\n",
    "    df.columns = column_list\n",
    "    return df"
   ]
  },
  {
   "cell_type": "markdown",
   "id": "2cf40e7f-4f06-4d86-b47e-a4418022d334",
   "metadata": {},
   "source": [
    "#### Total population: B01003_001E"
   ]
  },
  {
   "cell_type": "code",
   "execution_count": 8,
   "id": "6c80f31f-3474-4c99-9d06-094da34df9d2",
   "metadata": {},
   "outputs": [],
   "source": [
    "year = '2012'\n",
    "variables = 'B01003_001E'"
   ]
  },
  {
   "cell_type": "code",
   "execution_count": 9,
   "id": "1c3cbc10-f564-4d44-94ee-24486b705c9c",
   "metadata": {},
   "outputs": [
    {
     "name": "stdout",
     "output_type": "stream",
     "text": [
      "['NAME', 'B01003_001E', 'state', 'county']\n"
     ]
    },
    {
     "data": {
      "text/html": [
       "<div>\n",
       "<style scoped>\n",
       "    .dataframe tbody tr th:only-of-type {\n",
       "        vertical-align: middle;\n",
       "    }\n",
       "\n",
       "    .dataframe tbody tr th {\n",
       "        vertical-align: top;\n",
       "    }\n",
       "\n",
       "    .dataframe thead th {\n",
       "        text-align: right;\n",
       "    }\n",
       "</style>\n",
       "<table border=\"1\" class=\"dataframe\">\n",
       "  <thead>\n",
       "    <tr style=\"text-align: right;\">\n",
       "      <th></th>\n",
       "      <th>county_name</th>\n",
       "      <th>B01003_001E</th>\n",
       "      <th>state code</th>\n",
       "      <th>county code</th>\n",
       "    </tr>\n",
       "  </thead>\n",
       "  <tbody>\n",
       "    <tr>\n",
       "      <th>0</th>\n",
       "      <td>Autauga County, Alabama</td>\n",
       "      <td>55180</td>\n",
       "      <td>01</td>\n",
       "      <td>001</td>\n",
       "    </tr>\n",
       "    <tr>\n",
       "      <th>1</th>\n",
       "      <td>Baldwin County, Alabama</td>\n",
       "      <td>186965</td>\n",
       "      <td>01</td>\n",
       "      <td>003</td>\n",
       "    </tr>\n",
       "    <tr>\n",
       "      <th>2</th>\n",
       "      <td>Barbour County, Alabama</td>\n",
       "      <td>27293</td>\n",
       "      <td>01</td>\n",
       "      <td>005</td>\n",
       "    </tr>\n",
       "    <tr>\n",
       "      <th>3</th>\n",
       "      <td>Bibb County, Alabama</td>\n",
       "      <td>22733</td>\n",
       "      <td>01</td>\n",
       "      <td>007</td>\n",
       "    </tr>\n",
       "    <tr>\n",
       "      <th>4</th>\n",
       "      <td>Blount County, Alabama</td>\n",
       "      <td>57644</td>\n",
       "      <td>01</td>\n",
       "      <td>009</td>\n",
       "    </tr>\n",
       "  </tbody>\n",
       "</table>\n",
       "</div>"
      ],
      "text/plain": [
       "               county_name B01003_001E state code county code\n",
       "0  Autauga County, Alabama       55180         01         001\n",
       "1  Baldwin County, Alabama      186965         01         003\n",
       "2  Barbour County, Alabama       27293         01         005\n",
       "3     Bibb County, Alabama       22733         01         007\n",
       "4   Blount County, Alabama       57644         01         009"
      ]
     },
     "execution_count": 9,
     "metadata": {},
     "output_type": "execute_result"
    }
   ],
   "source": [
    "pop_09 = collectAll_county(year,variables)\n",
    "pop_09.head()"
   ]
  },
  {
   "cell_type": "code",
   "execution_count": 10,
   "id": "f0c3f3ea-2b57-4b94-8a49-de9648453f76",
   "metadata": {},
   "outputs": [
    {
     "data": {
      "text/plain": [
       "(1909, 4)"
      ]
     },
     "execution_count": 10,
     "metadata": {},
     "output_type": "execute_result"
    }
   ],
   "source": [
    "pop_09.shape"
   ]
  },
  {
   "cell_type": "markdown",
   "id": "60163fad-ec5e-4e88-9f4a-8842397bedfb",
   "metadata": {},
   "source": [
    "#### 1.per capita income: B19301_001E"
   ]
  },
  {
   "cell_type": "code",
   "execution_count": 11,
   "id": "5be9c9d4-1b1e-4cac-87ef-67af4321d3d1",
   "metadata": {},
   "outputs": [
    {
     "name": "stdout",
     "output_type": "stream",
     "text": [
      "['NAME', 'B19301_001E', 'state', 'county']\n"
     ]
    }
   ],
   "source": [
    "variables = 'B19301_001E'\n",
    "df1 = collectAll_county(year,variables)"
   ]
  },
  {
   "cell_type": "code",
   "execution_count": 12,
   "id": "2c56e829-7a86-4f8f-bac9-fcb7861ab45a",
   "metadata": {},
   "outputs": [
    {
     "data": {
      "text/plain": [
       "(1909, 4)"
      ]
     },
     "execution_count": 12,
     "metadata": {},
     "output_type": "execute_result"
    }
   ],
   "source": [
    "df1.shape"
   ]
  },
  {
   "cell_type": "code",
   "execution_count": 13,
   "id": "36bfc372-bdf7-43bf-8885-8fba42110dcf",
   "metadata": {},
   "outputs": [
    {
     "data": {
      "text/html": [
       "<div>\n",
       "<style scoped>\n",
       "    .dataframe tbody tr th:only-of-type {\n",
       "        vertical-align: middle;\n",
       "    }\n",
       "\n",
       "    .dataframe tbody tr th {\n",
       "        vertical-align: top;\n",
       "    }\n",
       "\n",
       "    .dataframe thead th {\n",
       "        text-align: right;\n",
       "    }\n",
       "</style>\n",
       "<table border=\"1\" class=\"dataframe\">\n",
       "  <thead>\n",
       "    <tr style=\"text-align: right;\">\n",
       "      <th></th>\n",
       "      <th>county_name</th>\n",
       "      <th>per_capita_income</th>\n",
       "      <th>state code</th>\n",
       "      <th>county code</th>\n",
       "      <th>fips</th>\n",
       "    </tr>\n",
       "  </thead>\n",
       "  <tbody>\n",
       "    <tr>\n",
       "      <th>0</th>\n",
       "      <td>Union County, Georgia</td>\n",
       "      <td>21240</td>\n",
       "      <td>13</td>\n",
       "      <td>291</td>\n",
       "      <td>13291</td>\n",
       "    </tr>\n",
       "    <tr>\n",
       "      <th>1</th>\n",
       "      <td>Upson County, Georgia</td>\n",
       "      <td>17193</td>\n",
       "      <td>13</td>\n",
       "      <td>293</td>\n",
       "      <td>13293</td>\n",
       "    </tr>\n",
       "    <tr>\n",
       "      <th>2</th>\n",
       "      <td>Walker County, Georgia</td>\n",
       "      <td>20316</td>\n",
       "      <td>13</td>\n",
       "      <td>295</td>\n",
       "      <td>13295</td>\n",
       "    </tr>\n",
       "    <tr>\n",
       "      <th>3</th>\n",
       "      <td>Walton County, Georgia</td>\n",
       "      <td>22524</td>\n",
       "      <td>13</td>\n",
       "      <td>297</td>\n",
       "      <td>13297</td>\n",
       "    </tr>\n",
       "    <tr>\n",
       "      <th>4</th>\n",
       "      <td>Ware County, Georgia</td>\n",
       "      <td>17767</td>\n",
       "      <td>13</td>\n",
       "      <td>299</td>\n",
       "      <td>13299</td>\n",
       "    </tr>\n",
       "  </tbody>\n",
       "</table>\n",
       "</div>"
      ],
      "text/plain": [
       "              county_name per_capita_income state code county code   fips\n",
       "0   Union County, Georgia             21240         13         291  13291\n",
       "1   Upson County, Georgia             17193         13         293  13293\n",
       "2  Walker County, Georgia             20316         13         295  13295\n",
       "3  Walton County, Georgia             22524         13         297  13297\n",
       "4    Ware County, Georgia             17767         13         299  13299"
      ]
     },
     "execution_count": 13,
     "metadata": {},
     "output_type": "execute_result"
    }
   ],
   "source": [
    "df1 = df1.rename(columns = {'B19301_001E': 'per_capita_income'})\n",
    "df1['fips'] = df1['state code'] + df1['county code']\n",
    "df1.head()"
   ]
  },
  {
   "cell_type": "markdown",
   "id": "20e579a0-3071-459e-9389-37b5c7699577",
   "metadata": {},
   "source": [
    "#### 2.Percent of Population Below Poverty Level: (C17002_002E+C17002_003E)/C17002_001E"
   ]
  },
  {
   "cell_type": "code",
   "execution_count": 14,
   "id": "26ecf325-eb30-4168-a61f-cae373c3a0da",
   "metadata": {},
   "outputs": [
    {
     "name": "stdout",
     "output_type": "stream",
     "text": [
      "['NAME', 'C17002_002E', 'C17002_003E', 'C17002_001E', 'state', 'county']\n"
     ]
    }
   ],
   "source": [
    "variables = 'C17002_002E,C17002_003E,C17002_001E'\n",
    "df2 = collectAll_county(year,variables)"
   ]
  },
  {
   "cell_type": "code",
   "execution_count": 15,
   "id": "af388139-f295-4ea8-8cda-a7f3f9cf07f5",
   "metadata": {},
   "outputs": [],
   "source": [
    "df2['C17002_002E'] = df2['C17002_002E'].astype('int')\n",
    "df2['C17002_003E'] = df2['C17002_003E'].astype('int')\n",
    "df2['C17002_001E'] = df2['C17002_001E'].astype('int')"
   ]
  },
  {
   "cell_type": "code",
   "execution_count": 16,
   "id": "b05ccb73-f46d-48ab-86d9-0a05a0768e36",
   "metadata": {},
   "outputs": [],
   "source": [
    "df2['percent_below_poverty'] = ((df2['C17002_002E'] + df2['C17002_003E'])/df2['C17002_001E'])*100"
   ]
  },
  {
   "cell_type": "code",
   "execution_count": 17,
   "id": "07d65dd3-cfe5-4fc9-91cf-c077b6c98d2f",
   "metadata": {},
   "outputs": [
    {
     "data": {
      "text/html": [
       "<div>\n",
       "<style scoped>\n",
       "    .dataframe tbody tr th:only-of-type {\n",
       "        vertical-align: middle;\n",
       "    }\n",
       "\n",
       "    .dataframe tbody tr th {\n",
       "        vertical-align: top;\n",
       "    }\n",
       "\n",
       "    .dataframe thead th {\n",
       "        text-align: right;\n",
       "    }\n",
       "</style>\n",
       "<table border=\"1\" class=\"dataframe\">\n",
       "  <thead>\n",
       "    <tr style=\"text-align: right;\">\n",
       "      <th></th>\n",
       "      <th>county_name</th>\n",
       "      <th>C17002_002E</th>\n",
       "      <th>C17002_003E</th>\n",
       "      <th>C17002_001E</th>\n",
       "      <th>state code</th>\n",
       "      <th>county code</th>\n",
       "      <th>percent_below_poverty</th>\n",
       "      <th>fips</th>\n",
       "    </tr>\n",
       "  </thead>\n",
       "  <tbody>\n",
       "    <tr>\n",
       "      <th>0</th>\n",
       "      <td>Autauga County, Alabama</td>\n",
       "      <td>3272</td>\n",
       "      <td>3997</td>\n",
       "      <td>54820</td>\n",
       "      <td>01</td>\n",
       "      <td>001</td>\n",
       "      <td>13.259759</td>\n",
       "      <td>01001</td>\n",
       "    </tr>\n",
       "    <tr>\n",
       "      <th>1</th>\n",
       "      <td>Baldwin County, Alabama</td>\n",
       "      <td>9947</td>\n",
       "      <td>14467</td>\n",
       "      <td>184625</td>\n",
       "      <td>01</td>\n",
       "      <td>003</td>\n",
       "      <td>13.223561</td>\n",
       "      <td>01003</td>\n",
       "    </tr>\n",
       "    <tr>\n",
       "      <th>2</th>\n",
       "      <td>Barbour County, Alabama</td>\n",
       "      <td>3155</td>\n",
       "      <td>3091</td>\n",
       "      <td>24435</td>\n",
       "      <td>01</td>\n",
       "      <td>005</td>\n",
       "      <td>25.561694</td>\n",
       "      <td>01005</td>\n",
       "    </tr>\n",
       "    <tr>\n",
       "      <th>3</th>\n",
       "      <td>Bibb County, Alabama</td>\n",
       "      <td>1444</td>\n",
       "      <td>3265</td>\n",
       "      <td>21425</td>\n",
       "      <td>01</td>\n",
       "      <td>007</td>\n",
       "      <td>21.978996</td>\n",
       "      <td>01007</td>\n",
       "    </tr>\n",
       "    <tr>\n",
       "      <th>4</th>\n",
       "      <td>Blount County, Alabama</td>\n",
       "      <td>3655</td>\n",
       "      <td>5265</td>\n",
       "      <td>57124</td>\n",
       "      <td>01</td>\n",
       "      <td>009</td>\n",
       "      <td>15.615153</td>\n",
       "      <td>01009</td>\n",
       "    </tr>\n",
       "  </tbody>\n",
       "</table>\n",
       "</div>"
      ],
      "text/plain": [
       "               county_name  C17002_002E  C17002_003E  C17002_001E state code  \\\n",
       "0  Autauga County, Alabama         3272         3997        54820         01   \n",
       "1  Baldwin County, Alabama         9947        14467       184625         01   \n",
       "2  Barbour County, Alabama         3155         3091        24435         01   \n",
       "3     Bibb County, Alabama         1444         3265        21425         01   \n",
       "4   Blount County, Alabama         3655         5265        57124         01   \n",
       "\n",
       "  county code  percent_below_poverty   fips  \n",
       "0         001              13.259759  01001  \n",
       "1         003              13.223561  01003  \n",
       "2         005              25.561694  01005  \n",
       "3         007              21.978996  01007  \n",
       "4         009              15.615153  01009  "
      ]
     },
     "execution_count": 17,
     "metadata": {},
     "output_type": "execute_result"
    }
   ],
   "source": [
    "df2['fips'] = df2['state code'] + df2['county code']\n",
    "df2.head()"
   ]
  },
  {
   "cell_type": "code",
   "execution_count": 18,
   "id": "fab4ae9e-48cb-4bc6-981f-cf9640035bf8",
   "metadata": {},
   "outputs": [
    {
     "data": {
      "text/plain": [
       "(1909, 8)"
      ]
     },
     "execution_count": 18,
     "metadata": {},
     "output_type": "execute_result"
    }
   ],
   "source": [
    "df2.shape"
   ]
  },
  {
   "cell_type": "markdown",
   "id": "ff2773ce-bbd4-4af5-b139-167dfacd87b3",
   "metadata": {},
   "source": [
    "#### 3.Percent of Population 25+ with Less than a 12th Grade Education: (B15002_003E,B15002_004E,B15002_005E,B15002_003E,B15002_006E,B15002_007E,B15002_008E,B15002_009E,B15002_010E,B15002_020E,B15002_021E,B15002_022E,B15002_023E,B15002_024E,B15002_025E,B15002_026E,B15002_027E)/B15003_001E"
   ]
  },
  {
   "cell_type": "code",
   "execution_count": 19,
   "id": "f74fbcc1-230e-43ae-a328-403cf0170abf",
   "metadata": {},
   "outputs": [],
   "source": [
    "def collectAll_county2(year, variables):\n",
    "    basic_url = 'https://api.census.gov/data/' + year + '/acs/acs1?get=NAME,'+ variables + '&for=county:*&in=state:*'\n",
    "    r = requests.get(basic_url)\n",
    "    x = r.json()\n",
    "    print(x[0])\n",
    "    variable_list = variables.split(',')\n",
    "    column_list = ['county_name']\n",
    "    for item in variable_list:\n",
    "        column_list.append(item)\n",
    "    column_list.append('state code')\n",
    "    column_list.append('county code')\n",
    "    df = pd.DataFrame(x[1:])\n",
    "    df.columns = column_list\n",
    "    return df"
   ]
  },
  {
   "cell_type": "code",
   "execution_count": 20,
   "id": "4dce7e7d-55ac-4065-a65a-0bc55367a58b",
   "metadata": {},
   "outputs": [
    {
     "name": "stdout",
     "output_type": "stream",
     "text": [
      "['NAME', 'B15002_003E', 'B15002_004E', 'B15002_005E', 'B15002_006E', 'B15002_007E', 'B15002_008E', 'B15002_009E', 'B15002_010E', 'B15002_020E', 'B15002_021E', 'B15002_022E', 'B15002_023E', 'B15002_024E', 'B15002_025E', 'B15002_026E', 'B15002_027E', 'B15002_001E', 'state', 'county']\n"
     ]
    }
   ],
   "source": [
    "variables = 'B15002_003E,B15002_004E,B15002_005E,B15002_006E,B15002_007E,B15002_008E,B15002_009E,B15002_010E,B15002_020E,B15002_021E,B15002_022E,B15002_023E,B15002_024E,B15002_025E,B15002_026E,B15002_027E,B15002_001E'\n",
    "df3 = collectAll_county(year,variables)"
   ]
  },
  {
   "cell_type": "code",
   "execution_count": 21,
   "id": "b5d87626-551f-44f6-8814-8cd148424b59",
   "metadata": {},
   "outputs": [
    {
     "data": {
      "text/plain": [
       "(1909, 20)"
      ]
     },
     "execution_count": 21,
     "metadata": {},
     "output_type": "execute_result"
    }
   ],
   "source": [
    "df3.shape"
   ]
  },
  {
   "cell_type": "code",
   "execution_count": 22,
   "id": "12beeedf-46a1-4ae9-ba56-8989e86c05d7",
   "metadata": {},
   "outputs": [],
   "source": [
    "def changeInteger(value):\n",
    "    if value != None:\n",
    "        return int(value)\n",
    "    else:\n",
    "        return np.nan"
   ]
  },
  {
   "cell_type": "code",
   "execution_count": 23,
   "id": "6de4e5bd-4da3-4617-9211-c07583bce770",
   "metadata": {},
   "outputs": [],
   "source": [
    "df3['B15002_003E'] = df3['B15002_003E'].apply(changeInteger)\n",
    "df3['B15002_004E'] = df3['B15002_004E'].apply(changeInteger)\n",
    "df3['B15002_005E'] = df3['B15002_005E'].apply(changeInteger)\n",
    "df3['B15002_006E'] = df3['B15002_006E'].apply(changeInteger)\n",
    "df3['B15002_007E'] = df3['B15002_007E'].apply(changeInteger)\n",
    "df3['B15002_008E'] = df3['B15002_008E'].apply(changeInteger)\n",
    "df3['B15002_009E'] = df3['B15002_009E'].apply(changeInteger)\n",
    "df3['B15002_010E'] = df3['B15002_010E'].apply(changeInteger)\n",
    "df3['B15002_020E'] = df3['B15002_020E'].apply(changeInteger)\n",
    "df3['B15002_021E'] = df3['B15002_021E'].apply(changeInteger)\n",
    "df3['B15002_022E'] = df3['B15002_022E'].apply(changeInteger)\n",
    "df3['B15002_023E'] = df3['B15002_023E'].apply(changeInteger)\n",
    "df3['B15002_024E'] = df3['B15002_024E'].apply(changeInteger)\n",
    "df3['B15002_025E'] = df3['B15002_025E'].apply(changeInteger)\n",
    "df3['B15002_026E'] = df3['B15002_026E'].apply(changeInteger)\n",
    "df3['B15002_027E'] = df3['B15002_027E'].apply(changeInteger)\n",
    "df3['B15002_001E'] = df3['B15002_001E'].apply(changeInteger)"
   ]
  },
  {
   "cell_type": "code",
   "execution_count": 24,
   "id": "f70ce502-8e2b-4228-a121-5a617bfc4b49",
   "metadata": {},
   "outputs": [],
   "source": [
    "df3['percent_no_highschool_diploma'] = ((df3['B15002_003E']+df3['B15002_004E']+df3['B15002_005E']+df3['B15002_006E']+df3['B15002_007E']+df3['B15002_008E']+df3['B15002_009E']\n",
    "                                       +df3['B15002_010E']+df3['B15002_020E']+df3['B15002_021E']+df3['B15002_022E']+df3['B15002_023E']+df3['B15002_024E']+df3['B15002_025E']+df3['B15002_003E']\n",
    "                                       +df3['B15002_026E']+df3['B15002_027E'])/df3['B15002_001E'])*100"
   ]
  },
  {
   "cell_type": "code",
   "execution_count": 25,
   "id": "54da8218-8404-48da-9676-20d89484b1de",
   "metadata": {},
   "outputs": [
    {
     "data": {
      "text/html": [
       "<div>\n",
       "<style scoped>\n",
       "    .dataframe tbody tr th:only-of-type {\n",
       "        vertical-align: middle;\n",
       "    }\n",
       "\n",
       "    .dataframe tbody tr th {\n",
       "        vertical-align: top;\n",
       "    }\n",
       "\n",
       "    .dataframe thead th {\n",
       "        text-align: right;\n",
       "    }\n",
       "</style>\n",
       "<table border=\"1\" class=\"dataframe\">\n",
       "  <thead>\n",
       "    <tr style=\"text-align: right;\">\n",
       "      <th></th>\n",
       "      <th>county_name</th>\n",
       "      <th>B15002_003E</th>\n",
       "      <th>B15002_004E</th>\n",
       "      <th>B15002_005E</th>\n",
       "      <th>B15002_006E</th>\n",
       "      <th>B15002_007E</th>\n",
       "      <th>B15002_008E</th>\n",
       "      <th>B15002_009E</th>\n",
       "      <th>B15002_010E</th>\n",
       "      <th>B15002_020E</th>\n",
       "      <th>...</th>\n",
       "      <th>B15002_023E</th>\n",
       "      <th>B15002_024E</th>\n",
       "      <th>B15002_025E</th>\n",
       "      <th>B15002_026E</th>\n",
       "      <th>B15002_027E</th>\n",
       "      <th>B15002_001E</th>\n",
       "      <th>state code</th>\n",
       "      <th>county code</th>\n",
       "      <th>percent_no_highschool_diploma</th>\n",
       "      <th>fips</th>\n",
       "    </tr>\n",
       "  </thead>\n",
       "  <tbody>\n",
       "    <tr>\n",
       "      <th>0</th>\n",
       "      <td>Poinsett County, Arkansas</td>\n",
       "      <td>219.0</td>\n",
       "      <td>132.0</td>\n",
       "      <td>159.0</td>\n",
       "      <td>332.0</td>\n",
       "      <td>353.0</td>\n",
       "      <td>482.0</td>\n",
       "      <td>356.0</td>\n",
       "      <td>241.0</td>\n",
       "      <td>110.0</td>\n",
       "      <td>...</td>\n",
       "      <td>548.0</td>\n",
       "      <td>246.0</td>\n",
       "      <td>385.0</td>\n",
       "      <td>502.0</td>\n",
       "      <td>78.0</td>\n",
       "      <td>16419.0</td>\n",
       "      <td>05</td>\n",
       "      <td>111</td>\n",
       "      <td>28.302576</td>\n",
       "      <td>05111</td>\n",
       "    </tr>\n",
       "    <tr>\n",
       "      <th>1</th>\n",
       "      <td>Polk County, Arkansas</td>\n",
       "      <td>48.0</td>\n",
       "      <td>52.0</td>\n",
       "      <td>46.0</td>\n",
       "      <td>251.0</td>\n",
       "      <td>207.0</td>\n",
       "      <td>252.0</td>\n",
       "      <td>237.0</td>\n",
       "      <td>177.0</td>\n",
       "      <td>123.0</td>\n",
       "      <td>...</td>\n",
       "      <td>219.0</td>\n",
       "      <td>124.0</td>\n",
       "      <td>203.0</td>\n",
       "      <td>199.0</td>\n",
       "      <td>127.0</td>\n",
       "      <td>14356.0</td>\n",
       "      <td>05</td>\n",
       "      <td>113</td>\n",
       "      <td>16.731680</td>\n",
       "      <td>05113</td>\n",
       "    </tr>\n",
       "    <tr>\n",
       "      <th>2</th>\n",
       "      <td>Pope County, Arkansas</td>\n",
       "      <td>295.0</td>\n",
       "      <td>185.0</td>\n",
       "      <td>217.0</td>\n",
       "      <td>693.0</td>\n",
       "      <td>741.0</td>\n",
       "      <td>387.0</td>\n",
       "      <td>830.0</td>\n",
       "      <td>153.0</td>\n",
       "      <td>125.0</td>\n",
       "      <td>...</td>\n",
       "      <td>432.0</td>\n",
       "      <td>585.0</td>\n",
       "      <td>586.0</td>\n",
       "      <td>782.0</td>\n",
       "      <td>108.0</td>\n",
       "      <td>39044.0</td>\n",
       "      <td>05</td>\n",
       "      <td>115</td>\n",
       "      <td>18.151316</td>\n",
       "      <td>05115</td>\n",
       "    </tr>\n",
       "    <tr>\n",
       "      <th>3</th>\n",
       "      <td>Pulaski County, Arkansas</td>\n",
       "      <td>1085.0</td>\n",
       "      <td>525.0</td>\n",
       "      <td>1022.0</td>\n",
       "      <td>1709.0</td>\n",
       "      <td>1423.0</td>\n",
       "      <td>2025.0</td>\n",
       "      <td>2929.0</td>\n",
       "      <td>2038.0</td>\n",
       "      <td>1056.0</td>\n",
       "      <td>...</td>\n",
       "      <td>1826.0</td>\n",
       "      <td>1494.0</td>\n",
       "      <td>3313.0</td>\n",
       "      <td>4223.0</td>\n",
       "      <td>1974.0</td>\n",
       "      <td>257851.0</td>\n",
       "      <td>05</td>\n",
       "      <td>119</td>\n",
       "      <td>11.258440</td>\n",
       "      <td>05119</td>\n",
       "    </tr>\n",
       "    <tr>\n",
       "      <th>4</th>\n",
       "      <td>St. Francis County, Arkansas</td>\n",
       "      <td>250.0</td>\n",
       "      <td>77.0</td>\n",
       "      <td>84.0</td>\n",
       "      <td>394.0</td>\n",
       "      <td>387.0</td>\n",
       "      <td>432.0</td>\n",
       "      <td>374.0</td>\n",
       "      <td>315.0</td>\n",
       "      <td>191.0</td>\n",
       "      <td>...</td>\n",
       "      <td>157.0</td>\n",
       "      <td>300.0</td>\n",
       "      <td>348.0</td>\n",
       "      <td>473.0</td>\n",
       "      <td>100.0</td>\n",
       "      <td>19020.0</td>\n",
       "      <td>05</td>\n",
       "      <td>123</td>\n",
       "      <td>23.175605</td>\n",
       "      <td>05123</td>\n",
       "    </tr>\n",
       "  </tbody>\n",
       "</table>\n",
       "<p>5 rows × 22 columns</p>\n",
       "</div>"
      ],
      "text/plain": [
       "                    county_name  B15002_003E  B15002_004E  B15002_005E  \\\n",
       "0     Poinsett County, Arkansas        219.0        132.0        159.0   \n",
       "1         Polk County, Arkansas         48.0         52.0         46.0   \n",
       "2         Pope County, Arkansas        295.0        185.0        217.0   \n",
       "3      Pulaski County, Arkansas       1085.0        525.0       1022.0   \n",
       "4  St. Francis County, Arkansas        250.0         77.0         84.0   \n",
       "\n",
       "   B15002_006E  B15002_007E  B15002_008E  B15002_009E  B15002_010E  \\\n",
       "0        332.0        353.0        482.0        356.0        241.0   \n",
       "1        251.0        207.0        252.0        237.0        177.0   \n",
       "2        693.0        741.0        387.0        830.0        153.0   \n",
       "3       1709.0       1423.0       2025.0       2929.0       2038.0   \n",
       "4        394.0        387.0        432.0        374.0        315.0   \n",
       "\n",
       "   B15002_020E  ...  B15002_023E  B15002_024E  B15002_025E  B15002_026E  \\\n",
       "0        110.0  ...        548.0        246.0        385.0        502.0   \n",
       "1        123.0  ...        219.0        124.0        203.0        199.0   \n",
       "2        125.0  ...        432.0        585.0        586.0        782.0   \n",
       "3       1056.0  ...       1826.0       1494.0       3313.0       4223.0   \n",
       "4        191.0  ...        157.0        300.0        348.0        473.0   \n",
       "\n",
       "   B15002_027E  B15002_001E  state code  county code  \\\n",
       "0         78.0      16419.0          05          111   \n",
       "1        127.0      14356.0          05          113   \n",
       "2        108.0      39044.0          05          115   \n",
       "3       1974.0     257851.0          05          119   \n",
       "4        100.0      19020.0          05          123   \n",
       "\n",
       "  percent_no_highschool_diploma   fips  \n",
       "0                     28.302576  05111  \n",
       "1                     16.731680  05113  \n",
       "2                     18.151316  05115  \n",
       "3                     11.258440  05119  \n",
       "4                     23.175605  05123  \n",
       "\n",
       "[5 rows x 22 columns]"
      ]
     },
     "execution_count": 25,
     "metadata": {},
     "output_type": "execute_result"
    }
   ],
   "source": [
    "df3['fips'] = df3['state code'] + df3['county code']\n",
    "df3.head()"
   ]
  },
  {
   "cell_type": "markdown",
   "id": "af41671e-ba16-4dbd-b37e-b5f7848aa36f",
   "metadata": {},
   "source": [
    "#### 4.Percent of Population Living in Mobile Homes: (B25033_006E+B25033_007E+B25033_012E+B25033_013E)/B25033_001E"
   ]
  },
  {
   "cell_type": "code",
   "execution_count": 26,
   "id": "c03e75e9-89db-4898-92ba-3d9f9ac528f1",
   "metadata": {},
   "outputs": [
    {
     "name": "stdout",
     "output_type": "stream",
     "text": [
      "['NAME', 'B25033_006E', 'B25033_007E', 'B25033_012E', 'B25033_013E', 'B25033_001E', 'state', 'county']\n"
     ]
    }
   ],
   "source": [
    "variables = 'B25033_006E,B25033_007E,B25033_012E,B25033_013E,B25033_001E'\n",
    "df4 = collectAll_county(year,variables)"
   ]
  },
  {
   "cell_type": "code",
   "execution_count": 27,
   "id": "12709efa-2915-43d6-b6e6-daeddcf01714",
   "metadata": {},
   "outputs": [
    {
     "data": {
      "text/plain": [
       "(1909, 8)"
      ]
     },
     "execution_count": 27,
     "metadata": {},
     "output_type": "execute_result"
    }
   ],
   "source": [
    "df4.shape"
   ]
  },
  {
   "cell_type": "code",
   "execution_count": 28,
   "id": "389f3ccf-4a99-4580-b9f3-11d448fcb052",
   "metadata": {},
   "outputs": [],
   "source": [
    "df4['B25033_006E'] = df4['B25033_006E'].apply(changeInteger)\n",
    "df4['B25033_007E'] = df4['B25033_007E'].apply(changeInteger)\n",
    "df4['B25033_012E'] = df4['B25033_012E'].apply(changeInteger)\n",
    "df4['B25033_013E'] = df4['B25033_013E'].apply(changeInteger)\n",
    "df4['B25033_001E'] = df4['B25033_001E'].apply(changeInteger)"
   ]
  },
  {
   "cell_type": "code",
   "execution_count": 29,
   "id": "e129c423-3162-4e27-bdbc-b519908fe576",
   "metadata": {},
   "outputs": [],
   "source": [
    "df4['percent_mobile_homes'] = ((df4['B25033_006E'] + df4['B25033_007E'] + df4['B25033_012E'] + df4['B25033_013E'])/df4['B25033_001E'])*100"
   ]
  },
  {
   "cell_type": "code",
   "execution_count": 30,
   "id": "7afc1666-b2dd-4559-99ad-a203776381ed",
   "metadata": {},
   "outputs": [
    {
     "data": {
      "text/html": [
       "<div>\n",
       "<style scoped>\n",
       "    .dataframe tbody tr th:only-of-type {\n",
       "        vertical-align: middle;\n",
       "    }\n",
       "\n",
       "    .dataframe tbody tr th {\n",
       "        vertical-align: top;\n",
       "    }\n",
       "\n",
       "    .dataframe thead th {\n",
       "        text-align: right;\n",
       "    }\n",
       "</style>\n",
       "<table border=\"1\" class=\"dataframe\">\n",
       "  <thead>\n",
       "    <tr style=\"text-align: right;\">\n",
       "      <th></th>\n",
       "      <th>county_name</th>\n",
       "      <th>B25033_006E</th>\n",
       "      <th>B25033_007E</th>\n",
       "      <th>B25033_012E</th>\n",
       "      <th>B25033_013E</th>\n",
       "      <th>B25033_001E</th>\n",
       "      <th>state code</th>\n",
       "      <th>county code</th>\n",
       "      <th>percent_mobile_homes</th>\n",
       "      <th>fips</th>\n",
       "    </tr>\n",
       "  </thead>\n",
       "  <tbody>\n",
       "    <tr>\n",
       "      <th>0</th>\n",
       "      <td>Blaine County, Idaho</td>\n",
       "      <td>1152.0</td>\n",
       "      <td>0.0</td>\n",
       "      <td>587.0</td>\n",
       "      <td>0.0</td>\n",
       "      <td>20876.0</td>\n",
       "      <td>16</td>\n",
       "      <td>013</td>\n",
       "      <td>8.330140</td>\n",
       "      <td>16013</td>\n",
       "    </tr>\n",
       "    <tr>\n",
       "      <th>1</th>\n",
       "      <td>Bonner County, Idaho</td>\n",
       "      <td>5366.0</td>\n",
       "      <td>223.0</td>\n",
       "      <td>2132.0</td>\n",
       "      <td>0.0</td>\n",
       "      <td>40335.0</td>\n",
       "      <td>16</td>\n",
       "      <td>017</td>\n",
       "      <td>19.142184</td>\n",
       "      <td>16017</td>\n",
       "    </tr>\n",
       "    <tr>\n",
       "      <th>2</th>\n",
       "      <td>Bonneville County, Idaho</td>\n",
       "      <td>3412.0</td>\n",
       "      <td>8.0</td>\n",
       "      <td>1961.0</td>\n",
       "      <td>0.0</td>\n",
       "      <td>104591.0</td>\n",
       "      <td>16</td>\n",
       "      <td>019</td>\n",
       "      <td>5.144802</td>\n",
       "      <td>16019</td>\n",
       "    </tr>\n",
       "    <tr>\n",
       "      <th>3</th>\n",
       "      <td>Canyon County, Idaho</td>\n",
       "      <td>9067.0</td>\n",
       "      <td>91.0</td>\n",
       "      <td>3553.0</td>\n",
       "      <td>0.0</td>\n",
       "      <td>188635.0</td>\n",
       "      <td>16</td>\n",
       "      <td>027</td>\n",
       "      <td>6.738410</td>\n",
       "      <td>16027</td>\n",
       "    </tr>\n",
       "    <tr>\n",
       "      <th>4</th>\n",
       "      <td>Cassia County, Idaho</td>\n",
       "      <td>2089.0</td>\n",
       "      <td>0.0</td>\n",
       "      <td>1133.0</td>\n",
       "      <td>0.0</td>\n",
       "      <td>22733.0</td>\n",
       "      <td>16</td>\n",
       "      <td>031</td>\n",
       "      <td>14.173228</td>\n",
       "      <td>16031</td>\n",
       "    </tr>\n",
       "  </tbody>\n",
       "</table>\n",
       "</div>"
      ],
      "text/plain": [
       "                county_name  B25033_006E  B25033_007E  B25033_012E  \\\n",
       "0      Blaine County, Idaho       1152.0          0.0        587.0   \n",
       "1      Bonner County, Idaho       5366.0        223.0       2132.0   \n",
       "2  Bonneville County, Idaho       3412.0          8.0       1961.0   \n",
       "3      Canyon County, Idaho       9067.0         91.0       3553.0   \n",
       "4      Cassia County, Idaho       2089.0          0.0       1133.0   \n",
       "\n",
       "   B25033_013E  B25033_001E state code county code  percent_mobile_homes  \\\n",
       "0          0.0      20876.0         16         013              8.330140   \n",
       "1          0.0      40335.0         16         017             19.142184   \n",
       "2          0.0     104591.0         16         019              5.144802   \n",
       "3          0.0     188635.0         16         027              6.738410   \n",
       "4          0.0      22733.0         16         031             14.173228   \n",
       "\n",
       "    fips  \n",
       "0  16013  \n",
       "1  16017  \n",
       "2  16019  \n",
       "3  16027  \n",
       "4  16031  "
      ]
     },
     "execution_count": 30,
     "metadata": {},
     "output_type": "execute_result"
    }
   ],
   "source": [
    "df4['fips'] = df4['state code'] + df4['county code']\n",
    "df4.head()"
   ]
  },
  {
   "cell_type": "markdown",
   "id": "cdeaf879-eae7-4624-88f6-1b784b1e41c2",
   "metadata": {},
   "source": [
    "#### 5.Percent of Population with No Vehicle Available: (B25044_003E+B25044_010E)/B25044_001E"
   ]
  },
  {
   "cell_type": "code",
   "execution_count": 31,
   "id": "fc92edb5-03e2-4528-baf7-a3eeaae03484",
   "metadata": {},
   "outputs": [
    {
     "name": "stdout",
     "output_type": "stream",
     "text": [
      "['NAME', 'B25044_003E', 'B25044_010E', 'B25044_001E', 'state', 'county']\n"
     ]
    }
   ],
   "source": [
    "variables = 'B25044_003E,B25044_010E,B25044_001E'\n",
    "df5 = collectAll_county(year,variables)"
   ]
  },
  {
   "cell_type": "code",
   "execution_count": 32,
   "id": "ffe766d8-b979-441c-88cd-5e76f428bebf",
   "metadata": {},
   "outputs": [
    {
     "data": {
      "text/plain": [
       "(1909, 6)"
      ]
     },
     "execution_count": 32,
     "metadata": {},
     "output_type": "execute_result"
    }
   ],
   "source": [
    "df5.shape"
   ]
  },
  {
   "cell_type": "code",
   "execution_count": 33,
   "id": "7fee86e0-d3a9-4465-b16e-5396daeac844",
   "metadata": {},
   "outputs": [],
   "source": [
    "df5['B25044_003E'] = df5['B25044_003E'].apply(changeInteger)\n",
    "df5['B25044_010E'] = df5['B25044_010E'].apply(changeInteger)\n",
    "df5['B25044_001E'] = df5['B25044_001E'].apply(changeInteger)"
   ]
  },
  {
   "cell_type": "code",
   "execution_count": 34,
   "id": "6e2646ff-10d6-4960-8da9-6c8b4d0f8268",
   "metadata": {},
   "outputs": [],
   "source": [
    "df5['percent_no_vehicle'] = ((df5['B25044_003E'] + df5['B25044_010E'])/df5['B25044_001E'])*100"
   ]
  },
  {
   "cell_type": "code",
   "execution_count": 35,
   "id": "9d38e22b-b76e-4345-91c7-40b408bb3d17",
   "metadata": {},
   "outputs": [
    {
     "data": {
      "text/html": [
       "<div>\n",
       "<style scoped>\n",
       "    .dataframe tbody tr th:only-of-type {\n",
       "        vertical-align: middle;\n",
       "    }\n",
       "\n",
       "    .dataframe tbody tr th {\n",
       "        vertical-align: top;\n",
       "    }\n",
       "\n",
       "    .dataframe thead th {\n",
       "        text-align: right;\n",
       "    }\n",
       "</style>\n",
       "<table border=\"1\" class=\"dataframe\">\n",
       "  <thead>\n",
       "    <tr style=\"text-align: right;\">\n",
       "      <th></th>\n",
       "      <th>county_name</th>\n",
       "      <th>B25044_003E</th>\n",
       "      <th>B25044_010E</th>\n",
       "      <th>B25044_001E</th>\n",
       "      <th>state code</th>\n",
       "      <th>county code</th>\n",
       "      <th>percent_no_vehicle</th>\n",
       "      <th>fips</th>\n",
       "    </tr>\n",
       "  </thead>\n",
       "  <tbody>\n",
       "    <tr>\n",
       "      <th>0</th>\n",
       "      <td>Jackson County, Florida</td>\n",
       "      <td>374</td>\n",
       "      <td>559</td>\n",
       "      <td>15148</td>\n",
       "      <td>12</td>\n",
       "      <td>063</td>\n",
       "      <td>6.159229</td>\n",
       "      <td>12063</td>\n",
       "    </tr>\n",
       "    <tr>\n",
       "      <th>1</th>\n",
       "      <td>Lake County, Florida</td>\n",
       "      <td>2380</td>\n",
       "      <td>3475</td>\n",
       "      <td>114640</td>\n",
       "      <td>12</td>\n",
       "      <td>069</td>\n",
       "      <td>5.107292</td>\n",
       "      <td>12069</td>\n",
       "    </tr>\n",
       "    <tr>\n",
       "      <th>2</th>\n",
       "      <td>Lee County, Florida</td>\n",
       "      <td>4128</td>\n",
       "      <td>8422</td>\n",
       "      <td>238476</td>\n",
       "      <td>12</td>\n",
       "      <td>071</td>\n",
       "      <td>5.262584</td>\n",
       "      <td>12071</td>\n",
       "    </tr>\n",
       "    <tr>\n",
       "      <th>3</th>\n",
       "      <td>Leon County, Florida</td>\n",
       "      <td>1639</td>\n",
       "      <td>6021</td>\n",
       "      <td>109003</td>\n",
       "      <td>12</td>\n",
       "      <td>073</td>\n",
       "      <td>7.027330</td>\n",
       "      <td>12073</td>\n",
       "    </tr>\n",
       "    <tr>\n",
       "      <th>4</th>\n",
       "      <td>Levy County, Florida</td>\n",
       "      <td>512</td>\n",
       "      <td>673</td>\n",
       "      <td>16180</td>\n",
       "      <td>12</td>\n",
       "      <td>075</td>\n",
       "      <td>7.323857</td>\n",
       "      <td>12075</td>\n",
       "    </tr>\n",
       "  </tbody>\n",
       "</table>\n",
       "</div>"
      ],
      "text/plain": [
       "               county_name  B25044_003E  B25044_010E  B25044_001E state code  \\\n",
       "0  Jackson County, Florida          374          559        15148         12   \n",
       "1     Lake County, Florida         2380         3475       114640         12   \n",
       "2      Lee County, Florida         4128         8422       238476         12   \n",
       "3     Leon County, Florida         1639         6021       109003         12   \n",
       "4     Levy County, Florida          512          673        16180         12   \n",
       "\n",
       "  county code  percent_no_vehicle   fips  \n",
       "0         063            6.159229  12063  \n",
       "1         069            5.107292  12069  \n",
       "2         071            5.262584  12071  \n",
       "3         073            7.027330  12073  \n",
       "4         075            7.323857  12075  "
      ]
     },
     "execution_count": 35,
     "metadata": {},
     "output_type": "execute_result"
    }
   ],
   "source": [
    "df5['fips'] = df5['state code'] + df5['county code']\n",
    "df5.head()"
   ]
  },
  {
   "cell_type": "markdown",
   "id": "2decc903-1e73-4a35-90ae-c0105c6d44ba",
   "metadata": {},
   "source": [
    "#### 6.Percent of Population Unemployed:sum(B21005_006E, B21005_007E, B21005_011E,B21005_012E,B21005_017E,B21005_022E,B21005_028E,B21005_029E,B21005_033E,B21005_034E)/B21005_001E"
   ]
  },
  {
   "cell_type": "code",
   "execution_count": 36,
   "id": "1fa00e51-9547-406a-8a0b-f9e3fe00dba2",
   "metadata": {},
   "outputs": [
    {
     "name": "stdout",
     "output_type": "stream",
     "text": [
      "['NAME', 'B21005_006E', 'B21005_007E', 'B21005_011E', 'B21005_012E', 'B21005_017E', 'B21005_022E', 'B21005_028E', 'B21005_029E', 'B21005_033E', 'B21005_034E', 'B21005_001E', 'state', 'county']\n"
     ]
    }
   ],
   "source": [
    "variables = 'B21005_006E,B21005_007E,B21005_011E,B21005_012E,B21005_017E,B21005_022E,B21005_028E,B21005_029E,B21005_033E,B21005_034E,B21005_001E'\n",
    "df6 = collectAll_county2(year,variables)"
   ]
  },
  {
   "cell_type": "code",
   "execution_count": 37,
   "id": "6be9f1b2-0ffe-44ff-8f4e-ec9c8190f1fa",
   "metadata": {},
   "outputs": [
    {
     "data": {
      "text/plain": [
       "(825, 14)"
      ]
     },
     "execution_count": 37,
     "metadata": {},
     "output_type": "execute_result"
    }
   ],
   "source": [
    "df6.shape"
   ]
  },
  {
   "cell_type": "code",
   "execution_count": 38,
   "id": "8a6b8b0a-3756-48f9-938f-e4eda374eaa8",
   "metadata": {},
   "outputs": [],
   "source": [
    "df6['B21005_006E'] = df6['B21005_006E'].apply(changeInteger)\n",
    "df6['B21005_007E'] = df6['B21005_007E'].apply(changeInteger)\n",
    "df6['B21005_011E'] = df6['B21005_011E'].apply(changeInteger)\n",
    "df6['B21005_012E'] = df6['B21005_012E'].apply(changeInteger)\n",
    "df6['B21005_017E'] = df6['B21005_017E'].apply(changeInteger)\n",
    "df6['B21005_022E'] = df6['B21005_022E'].apply(changeInteger)\n",
    "df6['B21005_028E'] = df6['B21005_028E'].apply(changeInteger)\n",
    "df6['B21005_029E'] = df6['B21005_029E'].apply(changeInteger)\n",
    "df6['B21005_033E'] = df6['B21005_033E'].apply(changeInteger)\n",
    "df6['B21005_034E'] = df6['B21005_034E'].apply(changeInteger)\n",
    "df6['B21005_001E'] = df6['B21005_001E'].apply(changeInteger)"
   ]
  },
  {
   "cell_type": "code",
   "execution_count": 39,
   "id": "52819727-7ad5-4d5f-8c15-8c629af18aea",
   "metadata": {},
   "outputs": [],
   "source": [
    "df6['percent_unemployed_CDC'] = ((df6['B21005_006E']+df6['B21005_007E']+df6['B21005_011E']+df6['B21005_012E']+df6['B21005_017E']+df6['B21005_022E']+df6['B21005_028E']+df6['B21005_029E']+df6['B21005_033E']+df6['B21005_034E'])/df6['B21005_001E'])*100"
   ]
  },
  {
   "cell_type": "code",
   "execution_count": 40,
   "id": "454d2d22-5100-46b6-a390-7f4e17d2d386",
   "metadata": {},
   "outputs": [
    {
     "data": {
      "text/html": [
       "<div>\n",
       "<style scoped>\n",
       "    .dataframe tbody tr th:only-of-type {\n",
       "        vertical-align: middle;\n",
       "    }\n",
       "\n",
       "    .dataframe tbody tr th {\n",
       "        vertical-align: top;\n",
       "    }\n",
       "\n",
       "    .dataframe thead th {\n",
       "        text-align: right;\n",
       "    }\n",
       "</style>\n",
       "<table border=\"1\" class=\"dataframe\">\n",
       "  <thead>\n",
       "    <tr style=\"text-align: right;\">\n",
       "      <th></th>\n",
       "      <th>county_name</th>\n",
       "      <th>B21005_006E</th>\n",
       "      <th>B21005_007E</th>\n",
       "      <th>B21005_011E</th>\n",
       "      <th>B21005_012E</th>\n",
       "      <th>B21005_017E</th>\n",
       "      <th>B21005_022E</th>\n",
       "      <th>B21005_028E</th>\n",
       "      <th>B21005_029E</th>\n",
       "      <th>B21005_033E</th>\n",
       "      <th>B21005_034E</th>\n",
       "      <th>B21005_001E</th>\n",
       "      <th>state code</th>\n",
       "      <th>county code</th>\n",
       "      <th>percent_unemployed_CDC</th>\n",
       "      <th>fips</th>\n",
       "    </tr>\n",
       "  </thead>\n",
       "  <tbody>\n",
       "    <tr>\n",
       "      <th>0</th>\n",
       "      <td>Platte County, Missouri</td>\n",
       "      <td>63</td>\n",
       "      <td>75</td>\n",
       "      <td>1197</td>\n",
       "      <td>2316</td>\n",
       "      <td>80</td>\n",
       "      <td>974</td>\n",
       "      <td>13</td>\n",
       "      <td>484</td>\n",
       "      <td>249</td>\n",
       "      <td>3081</td>\n",
       "      <td>58747</td>\n",
       "      <td>29</td>\n",
       "      <td>165</td>\n",
       "      <td>14.523295</td>\n",
       "      <td>29165</td>\n",
       "    </tr>\n",
       "    <tr>\n",
       "      <th>1</th>\n",
       "      <td>St. Francois County, Missouri</td>\n",
       "      <td>52</td>\n",
       "      <td>168</td>\n",
       "      <td>1605</td>\n",
       "      <td>4063</td>\n",
       "      <td>75</td>\n",
       "      <td>756</td>\n",
       "      <td>41</td>\n",
       "      <td>1113</td>\n",
       "      <td>40</td>\n",
       "      <td>3244</td>\n",
       "      <td>41976</td>\n",
       "      <td>29</td>\n",
       "      <td>187</td>\n",
       "      <td>26.579474</td>\n",
       "      <td>29187</td>\n",
       "    </tr>\n",
       "    <tr>\n",
       "      <th>2</th>\n",
       "      <td>St. Louis city, Missouri</td>\n",
       "      <td>38</td>\n",
       "      <td>326</td>\n",
       "      <td>12304</td>\n",
       "      <td>24385</td>\n",
       "      <td>445</td>\n",
       "      <td>7464</td>\n",
       "      <td>174</td>\n",
       "      <td>2971</td>\n",
       "      <td>1426</td>\n",
       "      <td>12342</td>\n",
       "      <td>214565</td>\n",
       "      <td>29</td>\n",
       "      <td>510</td>\n",
       "      <td>28.837415</td>\n",
       "      <td>29510</td>\n",
       "    </tr>\n",
       "    <tr>\n",
       "      <th>3</th>\n",
       "      <td>Christian County, Missouri</td>\n",
       "      <td>0</td>\n",
       "      <td>0</td>\n",
       "      <td>1166</td>\n",
       "      <td>3855</td>\n",
       "      <td>374</td>\n",
       "      <td>666</td>\n",
       "      <td>12</td>\n",
       "      <td>509</td>\n",
       "      <td>412</td>\n",
       "      <td>3020</td>\n",
       "      <td>47601</td>\n",
       "      <td>29</td>\n",
       "      <td>043</td>\n",
       "      <td>21.037373</td>\n",
       "      <td>29043</td>\n",
       "    </tr>\n",
       "    <tr>\n",
       "      <th>4</th>\n",
       "      <td>Jasper County, Missouri</td>\n",
       "      <td>55</td>\n",
       "      <td>65</td>\n",
       "      <td>1659</td>\n",
       "      <td>4127</td>\n",
       "      <td>76</td>\n",
       "      <td>1449</td>\n",
       "      <td>203</td>\n",
       "      <td>573</td>\n",
       "      <td>609</td>\n",
       "      <td>3823</td>\n",
       "      <td>70389</td>\n",
       "      <td>29</td>\n",
       "      <td>097</td>\n",
       "      <td>17.955931</td>\n",
       "      <td>29097</td>\n",
       "    </tr>\n",
       "  </tbody>\n",
       "</table>\n",
       "</div>"
      ],
      "text/plain": [
       "                     county_name  B21005_006E  B21005_007E  B21005_011E  \\\n",
       "0        Platte County, Missouri           63           75         1197   \n",
       "1  St. Francois County, Missouri           52          168         1605   \n",
       "2       St. Louis city, Missouri           38          326        12304   \n",
       "3     Christian County, Missouri            0            0         1166   \n",
       "4        Jasper County, Missouri           55           65         1659   \n",
       "\n",
       "   B21005_012E  B21005_017E  B21005_022E  B21005_028E  B21005_029E  \\\n",
       "0         2316           80          974           13          484   \n",
       "1         4063           75          756           41         1113   \n",
       "2        24385          445         7464          174         2971   \n",
       "3         3855          374          666           12          509   \n",
       "4         4127           76         1449          203          573   \n",
       "\n",
       "   B21005_033E  B21005_034E  B21005_001E state code county code  \\\n",
       "0          249         3081        58747         29         165   \n",
       "1           40         3244        41976         29         187   \n",
       "2         1426        12342       214565         29         510   \n",
       "3          412         3020        47601         29         043   \n",
       "4          609         3823        70389         29         097   \n",
       "\n",
       "   percent_unemployed_CDC   fips  \n",
       "0               14.523295  29165  \n",
       "1               26.579474  29187  \n",
       "2               28.837415  29510  \n",
       "3               21.037373  29043  \n",
       "4               17.955931  29097  "
      ]
     },
     "execution_count": 40,
     "metadata": {},
     "output_type": "execute_result"
    }
   ],
   "source": [
    "df6['fips'] = df6['state code'] + df6['county code']\n",
    "df6.head()"
   ]
  },
  {
   "cell_type": "markdown",
   "id": "c9948355-bd31-4ab4-b7ee-c96586f8d3b1",
   "metadata": {},
   "source": [
    "#### 7.Percent of Population Living In Accommodations with Less Than 1 Room Per Person/Crowding: (B25014_005E+B25014_006E+B25014_007E+B25014_011E+B25014_012E+B25014_013E)/B25014_001E"
   ]
  },
  {
   "cell_type": "code",
   "execution_count": 41,
   "id": "cfca2197-92ec-4373-b8a3-39914cde1365",
   "metadata": {},
   "outputs": [
    {
     "name": "stdout",
     "output_type": "stream",
     "text": [
      "['NAME', 'B25014_005E', 'B25014_006E', 'B25014_007E', 'B25014_011E', 'B25014_012E', 'B25014_013E', 'B25014_001E', 'state', 'county']\n"
     ]
    }
   ],
   "source": [
    "variables = 'B25014_005E,B25014_006E,B25014_007E,B25014_011E,B25014_012E,B25014_013E,B25014_001E'\n",
    "df7 = collectAll_county(year,variables)"
   ]
  },
  {
   "cell_type": "code",
   "execution_count": 42,
   "id": "89125aba-8565-4a24-a3ac-bb5be0e22c56",
   "metadata": {},
   "outputs": [
    {
     "data": {
      "text/plain": [
       "(1909, 10)"
      ]
     },
     "execution_count": 42,
     "metadata": {},
     "output_type": "execute_result"
    }
   ],
   "source": [
    "df7.shape"
   ]
  },
  {
   "cell_type": "code",
   "execution_count": 43,
   "id": "b3a8bf30-04b1-44e3-9a3e-aeaf19720ff0",
   "metadata": {},
   "outputs": [],
   "source": [
    "df7['B25014_005E'] = df7['B25014_005E'].apply(changeInteger)\n",
    "df7['B25014_006E'] = df7['B25014_006E'].apply(changeInteger)\n",
    "df7['B25014_007E'] = df7['B25014_007E'].apply(changeInteger)\n",
    "df7['B25014_011E'] = df7['B25014_011E'].apply(changeInteger)\n",
    "df7['B25014_012E'] = df7['B25014_012E'].apply(changeInteger)\n",
    "df7['B25014_013E'] = df7['B25014_013E'].apply(changeInteger)\n",
    "df7['B25014_001E'] = df7['B25014_001E'].apply(changeInteger)"
   ]
  },
  {
   "cell_type": "code",
   "execution_count": 44,
   "id": "9f70d284-1e36-410e-9abe-2285db087ffb",
   "metadata": {},
   "outputs": [],
   "source": [
    "df7['percent_overcrowding'] = ((df7['B25014_005E']+df7['B25014_006E']+df7['B25014_007E']+df7['B25014_011E']+df7['B25014_012E']+df7['B25014_013E'])/df7['B25014_001E'])*100"
   ]
  },
  {
   "cell_type": "code",
   "execution_count": 45,
   "id": "072747b0-747e-41f3-8b2f-4a39a3e76d97",
   "metadata": {},
   "outputs": [
    {
     "data": {
      "text/html": [
       "<div>\n",
       "<style scoped>\n",
       "    .dataframe tbody tr th:only-of-type {\n",
       "        vertical-align: middle;\n",
       "    }\n",
       "\n",
       "    .dataframe tbody tr th {\n",
       "        vertical-align: top;\n",
       "    }\n",
       "\n",
       "    .dataframe thead th {\n",
       "        text-align: right;\n",
       "    }\n",
       "</style>\n",
       "<table border=\"1\" class=\"dataframe\">\n",
       "  <thead>\n",
       "    <tr style=\"text-align: right;\">\n",
       "      <th></th>\n",
       "      <th>county_name</th>\n",
       "      <th>B25014_005E</th>\n",
       "      <th>B25014_006E</th>\n",
       "      <th>B25014_007E</th>\n",
       "      <th>B25014_011E</th>\n",
       "      <th>B25014_012E</th>\n",
       "      <th>B25014_013E</th>\n",
       "      <th>B25014_001E</th>\n",
       "      <th>state code</th>\n",
       "      <th>county code</th>\n",
       "      <th>percent_overcrowding</th>\n",
       "      <th>fips</th>\n",
       "    </tr>\n",
       "  </thead>\n",
       "  <tbody>\n",
       "    <tr>\n",
       "      <th>0</th>\n",
       "      <td>Jay County, Indiana</td>\n",
       "      <td>74.0</td>\n",
       "      <td>10.0</td>\n",
       "      <td>0.0</td>\n",
       "      <td>53.0</td>\n",
       "      <td>0.0</td>\n",
       "      <td>0.0</td>\n",
       "      <td>8131.0</td>\n",
       "      <td>18</td>\n",
       "      <td>075</td>\n",
       "      <td>1.684910</td>\n",
       "      <td>18075</td>\n",
       "    </tr>\n",
       "    <tr>\n",
       "      <th>1</th>\n",
       "      <td>Jefferson County, Indiana</td>\n",
       "      <td>128.0</td>\n",
       "      <td>0.0</td>\n",
       "      <td>0.0</td>\n",
       "      <td>187.0</td>\n",
       "      <td>0.0</td>\n",
       "      <td>0.0</td>\n",
       "      <td>12664.0</td>\n",
       "      <td>18</td>\n",
       "      <td>077</td>\n",
       "      <td>2.487366</td>\n",
       "      <td>18077</td>\n",
       "    </tr>\n",
       "    <tr>\n",
       "      <th>2</th>\n",
       "      <td>Jennings County, Indiana</td>\n",
       "      <td>106.0</td>\n",
       "      <td>44.0</td>\n",
       "      <td>0.0</td>\n",
       "      <td>46.0</td>\n",
       "      <td>24.0</td>\n",
       "      <td>0.0</td>\n",
       "      <td>10534.0</td>\n",
       "      <td>18</td>\n",
       "      <td>079</td>\n",
       "      <td>2.088475</td>\n",
       "      <td>18079</td>\n",
       "    </tr>\n",
       "    <tr>\n",
       "      <th>3</th>\n",
       "      <td>Johnson County, Indiana</td>\n",
       "      <td>269.0</td>\n",
       "      <td>0.0</td>\n",
       "      <td>0.0</td>\n",
       "      <td>475.0</td>\n",
       "      <td>98.0</td>\n",
       "      <td>80.0</td>\n",
       "      <td>52464.0</td>\n",
       "      <td>18</td>\n",
       "      <td>081</td>\n",
       "      <td>1.757396</td>\n",
       "      <td>18081</td>\n",
       "    </tr>\n",
       "    <tr>\n",
       "      <th>4</th>\n",
       "      <td>Knox County, Indiana</td>\n",
       "      <td>68.0</td>\n",
       "      <td>0.0</td>\n",
       "      <td>0.0</td>\n",
       "      <td>104.0</td>\n",
       "      <td>6.0</td>\n",
       "      <td>2.0</td>\n",
       "      <td>14591.0</td>\n",
       "      <td>18</td>\n",
       "      <td>083</td>\n",
       "      <td>1.233637</td>\n",
       "      <td>18083</td>\n",
       "    </tr>\n",
       "  </tbody>\n",
       "</table>\n",
       "</div>"
      ],
      "text/plain": [
       "                 county_name  B25014_005E  B25014_006E  B25014_007E  \\\n",
       "0        Jay County, Indiana         74.0         10.0          0.0   \n",
       "1  Jefferson County, Indiana        128.0          0.0          0.0   \n",
       "2   Jennings County, Indiana        106.0         44.0          0.0   \n",
       "3    Johnson County, Indiana        269.0          0.0          0.0   \n",
       "4       Knox County, Indiana         68.0          0.0          0.0   \n",
       "\n",
       "   B25014_011E  B25014_012E  B25014_013E  B25014_001E state code county code  \\\n",
       "0         53.0          0.0          0.0       8131.0         18         075   \n",
       "1        187.0          0.0          0.0      12664.0         18         077   \n",
       "2         46.0         24.0          0.0      10534.0         18         079   \n",
       "3        475.0         98.0         80.0      52464.0         18         081   \n",
       "4        104.0          6.0          2.0      14591.0         18         083   \n",
       "\n",
       "   percent_overcrowding   fips  \n",
       "0              1.684910  18075  \n",
       "1              2.487366  18077  \n",
       "2              2.088475  18079  \n",
       "3              1.757396  18081  \n",
       "4              1.233637  18083  "
      ]
     },
     "execution_count": 45,
     "metadata": {},
     "output_type": "execute_result"
    }
   ],
   "source": [
    "df7['fips'] = df7['state code'] + df7['county code']\n",
    "df7.head()"
   ]
  },
  {
   "cell_type": "markdown",
   "id": "3aac238c-3f49-4579-86e9-27be71f44e3a",
   "metadata": {},
   "source": [
    "#### 8.Percent of Housing Units with 10+ Units in Structure: (B25024_007E+B25024_008E+B25024_009E)/B25024_001E"
   ]
  },
  {
   "cell_type": "code",
   "execution_count": 46,
   "id": "d9c481fc-3286-4ff1-a75e-4a6f1f1106e1",
   "metadata": {},
   "outputs": [
    {
     "name": "stdout",
     "output_type": "stream",
     "text": [
      "['NAME', 'B25024_007E', 'B25024_008E', 'B25024_009E', 'B25024_001E', 'state', 'county']\n"
     ]
    }
   ],
   "source": [
    "variables = 'B25024_007E,B25024_008E,B25024_009E,B25024_001E'\n",
    "df8 = collectAll_county(year,variables)"
   ]
  },
  {
   "cell_type": "code",
   "execution_count": 47,
   "id": "d7134adf-29cd-4150-80d1-6def45982559",
   "metadata": {},
   "outputs": [
    {
     "data": {
      "text/plain": [
       "(1909, 7)"
      ]
     },
     "execution_count": 47,
     "metadata": {},
     "output_type": "execute_result"
    }
   ],
   "source": [
    "df8.shape"
   ]
  },
  {
   "cell_type": "code",
   "execution_count": 48,
   "id": "468626db-72ee-467d-aa73-85803b8ebaae",
   "metadata": {},
   "outputs": [],
   "source": [
    "df8['B25024_007E'] = df8['B25024_007E'].apply(changeInteger)\n",
    "df8['B25024_008E'] = df8['B25024_008E'].apply(changeInteger)\n",
    "df8['B25024_009E'] = df8['B25024_009E'].apply(changeInteger)\n",
    "df8['B25024_001E'] = df8['B25024_001E'].apply(changeInteger)"
   ]
  },
  {
   "cell_type": "code",
   "execution_count": 49,
   "id": "580441b5-fa08-4898-b73f-565ed16106d8",
   "metadata": {},
   "outputs": [],
   "source": [
    "df8['percent_multi_unit_housing'] = ((df8['B25024_007E']+df8['B25024_008E']+df8['B25024_009E'])/df8['B25024_001E'])*100"
   ]
  },
  {
   "cell_type": "code",
   "execution_count": 50,
   "id": "a7fe92c1-17f6-43a4-a116-f6294d828159",
   "metadata": {},
   "outputs": [
    {
     "data": {
      "text/html": [
       "<div>\n",
       "<style scoped>\n",
       "    .dataframe tbody tr th:only-of-type {\n",
       "        vertical-align: middle;\n",
       "    }\n",
       "\n",
       "    .dataframe tbody tr th {\n",
       "        vertical-align: top;\n",
       "    }\n",
       "\n",
       "    .dataframe thead th {\n",
       "        text-align: right;\n",
       "    }\n",
       "</style>\n",
       "<table border=\"1\" class=\"dataframe\">\n",
       "  <thead>\n",
       "    <tr style=\"text-align: right;\">\n",
       "      <th></th>\n",
       "      <th>county_name</th>\n",
       "      <th>B25024_007E</th>\n",
       "      <th>B25024_008E</th>\n",
       "      <th>B25024_009E</th>\n",
       "      <th>B25024_001E</th>\n",
       "      <th>state code</th>\n",
       "      <th>county code</th>\n",
       "      <th>percent_multi_unit_housing</th>\n",
       "      <th>fips</th>\n",
       "    </tr>\n",
       "  </thead>\n",
       "  <tbody>\n",
       "    <tr>\n",
       "      <th>0</th>\n",
       "      <td>Fayette County, Kentucky</td>\n",
       "      <td>9964.0</td>\n",
       "      <td>8153.0</td>\n",
       "      <td>6219.0</td>\n",
       "      <td>135963.0</td>\n",
       "      <td>21</td>\n",
       "      <td>067</td>\n",
       "      <td>17.898987</td>\n",
       "      <td>21067</td>\n",
       "    </tr>\n",
       "    <tr>\n",
       "      <th>1</th>\n",
       "      <td>Floyd County, Kentucky</td>\n",
       "      <td>207.0</td>\n",
       "      <td>43.0</td>\n",
       "      <td>144.0</td>\n",
       "      <td>18186.0</td>\n",
       "      <td>21</td>\n",
       "      <td>071</td>\n",
       "      <td>2.166502</td>\n",
       "      <td>21071</td>\n",
       "    </tr>\n",
       "    <tr>\n",
       "      <th>2</th>\n",
       "      <td>Franklin County, Kentucky</td>\n",
       "      <td>554.0</td>\n",
       "      <td>821.0</td>\n",
       "      <td>403.0</td>\n",
       "      <td>23242.0</td>\n",
       "      <td>21</td>\n",
       "      <td>073</td>\n",
       "      <td>7.649944</td>\n",
       "      <td>21073</td>\n",
       "    </tr>\n",
       "    <tr>\n",
       "      <th>3</th>\n",
       "      <td>Grant County, Kentucky</td>\n",
       "      <td>44.0</td>\n",
       "      <td>25.0</td>\n",
       "      <td>20.0</td>\n",
       "      <td>9957.0</td>\n",
       "      <td>21</td>\n",
       "      <td>081</td>\n",
       "      <td>0.893844</td>\n",
       "      <td>21081</td>\n",
       "    </tr>\n",
       "    <tr>\n",
       "      <th>4</th>\n",
       "      <td>Graves County, Kentucky</td>\n",
       "      <td>194.0</td>\n",
       "      <td>108.0</td>\n",
       "      <td>0.0</td>\n",
       "      <td>16766.0</td>\n",
       "      <td>21</td>\n",
       "      <td>083</td>\n",
       "      <td>1.801264</td>\n",
       "      <td>21083</td>\n",
       "    </tr>\n",
       "  </tbody>\n",
       "</table>\n",
       "</div>"
      ],
      "text/plain": [
       "                 county_name  B25024_007E  B25024_008E  B25024_009E  \\\n",
       "0   Fayette County, Kentucky       9964.0       8153.0       6219.0   \n",
       "1     Floyd County, Kentucky        207.0         43.0        144.0   \n",
       "2  Franklin County, Kentucky        554.0        821.0        403.0   \n",
       "3     Grant County, Kentucky         44.0         25.0         20.0   \n",
       "4    Graves County, Kentucky        194.0        108.0          0.0   \n",
       "\n",
       "   B25024_001E state code county code  percent_multi_unit_housing   fips  \n",
       "0     135963.0         21         067                   17.898987  21067  \n",
       "1      18186.0         21         071                    2.166502  21071  \n",
       "2      23242.0         21         073                    7.649944  21073  \n",
       "3       9957.0         21         081                    0.893844  21081  \n",
       "4      16766.0         21         083                    1.801264  21083  "
      ]
     },
     "execution_count": 50,
     "metadata": {},
     "output_type": "execute_result"
    }
   ],
   "source": [
    "df8['fips'] = df8['state code'] + df8['county code']\n",
    "df8.head()"
   ]
  },
  {
   "cell_type": "markdown",
   "id": "045aa5cc-659a-49fc-8928-86e41fa267c0",
   "metadata": {},
   "source": [
    "#### 9.Percent Of Population 65+: (B01001_020E,B01001_021E,B01001_022E,B01001_023E,B01001_024E,B01001_025E,B01001_044E,B01001_045E,B01001_046E,B01001_047E,B01001_049E)/B01001_001E"
   ]
  },
  {
   "cell_type": "code",
   "execution_count": 51,
   "id": "482dcdb3-80fd-4bbc-940b-2179aa106937",
   "metadata": {},
   "outputs": [
    {
     "name": "stdout",
     "output_type": "stream",
     "text": [
      "['NAME', 'B01001_020E', 'B01001_021E', 'B01001_022E', 'B01001_023E', 'B01001_024E', 'B01001_025E', 'B01001_044E', 'B01001_045E', 'B01001_046E', 'B01001_047E', 'B01001_048E', 'B01001_049E', 'B01001_001E', 'state', 'county']\n"
     ]
    }
   ],
   "source": [
    "variables = 'B01001_020E,B01001_021E,B01001_022E,B01001_023E,B01001_024E,B01001_025E,B01001_044E,B01001_045E,B01001_046E,B01001_047E,B01001_048E,B01001_049E,B01001_001E'\n",
    "df9 = collectAll_county(year,variables)"
   ]
  },
  {
   "cell_type": "code",
   "execution_count": 52,
   "id": "77b05482-58e0-4579-9068-4226dd49aa19",
   "metadata": {},
   "outputs": [
    {
     "data": {
      "text/plain": [
       "(1909, 16)"
      ]
     },
     "execution_count": 52,
     "metadata": {},
     "output_type": "execute_result"
    }
   ],
   "source": [
    "df9.shape"
   ]
  },
  {
   "cell_type": "code",
   "execution_count": 53,
   "id": "117d94de-9b6a-4912-b6f3-c5167ebbe6f0",
   "metadata": {},
   "outputs": [],
   "source": [
    "df9['B01001_020E'] = df9['B01001_020E'].apply(changeInteger)\n",
    "df9['B01001_021E'] = df9['B01001_021E'].apply(changeInteger)\n",
    "df9['B01001_022E'] = df9['B01001_022E'].apply(changeInteger)\n",
    "df9['B01001_023E'] = df9['B01001_023E'].apply(changeInteger)\n",
    "df9['B01001_024E'] = df9['B01001_024E'].apply(changeInteger)\n",
    "df9['B01001_025E'] = df9['B01001_025E'].apply(changeInteger)\n",
    "df9['B01001_044E'] = df9['B01001_044E'].apply(changeInteger)\n",
    "df9['B01001_045E'] = df9['B01001_045E'].apply(changeInteger)\n",
    "df9['B01001_046E'] = df9['B01001_046E'].apply(changeInteger)\n",
    "df9['B01001_047E'] = df9['B01001_047E'].apply(changeInteger)\n",
    "df9['B01001_048E'] = df9['B01001_048E'].apply(changeInteger)\n",
    "df9['B01001_049E'] = df9['B01001_049E'].apply(changeInteger)\n",
    "df9['B01001_001E'] = df9['B01001_001E'].apply(changeInteger)"
   ]
  },
  {
   "cell_type": "code",
   "execution_count": 54,
   "id": "cd9b0d69-3ed6-4340-9d81-c00cef379245",
   "metadata": {},
   "outputs": [],
   "source": [
    "df9['percent_age_65_and_older'] = ((df9['B01001_020E']+df9['B01001_021E']+df9['B01001_022E']+df9['B01001_023E']+df9['B01001_024E']+df9['B01001_025E']+df9['B01001_044E']\n",
    "                                  +df9['B01001_045E']+df9['B01001_046E']+df9['B01001_047E']+df9['B01001_048E']+df9['B01001_049E'])/df9['B01001_001E'])*100"
   ]
  },
  {
   "cell_type": "code",
   "execution_count": 55,
   "id": "9f8e8e5a-8892-4e65-9db9-a34f06a90cdb",
   "metadata": {},
   "outputs": [
    {
     "data": {
      "text/html": [
       "<div>\n",
       "<style scoped>\n",
       "    .dataframe tbody tr th:only-of-type {\n",
       "        vertical-align: middle;\n",
       "    }\n",
       "\n",
       "    .dataframe tbody tr th {\n",
       "        vertical-align: top;\n",
       "    }\n",
       "\n",
       "    .dataframe thead th {\n",
       "        text-align: right;\n",
       "    }\n",
       "</style>\n",
       "<table border=\"1\" class=\"dataframe\">\n",
       "  <thead>\n",
       "    <tr style=\"text-align: right;\">\n",
       "      <th></th>\n",
       "      <th>county_name</th>\n",
       "      <th>B01001_020E</th>\n",
       "      <th>B01001_021E</th>\n",
       "      <th>B01001_022E</th>\n",
       "      <th>B01001_023E</th>\n",
       "      <th>B01001_024E</th>\n",
       "      <th>B01001_025E</th>\n",
       "      <th>B01001_044E</th>\n",
       "      <th>B01001_045E</th>\n",
       "      <th>B01001_046E</th>\n",
       "      <th>B01001_047E</th>\n",
       "      <th>B01001_048E</th>\n",
       "      <th>B01001_049E</th>\n",
       "      <th>B01001_001E</th>\n",
       "      <th>state code</th>\n",
       "      <th>county code</th>\n",
       "      <th>percent_age_65_and_older</th>\n",
       "      <th>fips</th>\n",
       "    </tr>\n",
       "  </thead>\n",
       "  <tbody>\n",
       "    <tr>\n",
       "      <th>0</th>\n",
       "      <td>Escambia County, Florida</td>\n",
       "      <td>3026</td>\n",
       "      <td>3879</td>\n",
       "      <td>4413</td>\n",
       "      <td>3613</td>\n",
       "      <td>2378</td>\n",
       "      <td>1843</td>\n",
       "      <td>3028</td>\n",
       "      <td>4009</td>\n",
       "      <td>6218</td>\n",
       "      <td>4690</td>\n",
       "      <td>3244</td>\n",
       "      <td>3918</td>\n",
       "      <td>300150</td>\n",
       "      <td>12</td>\n",
       "      <td>033</td>\n",
       "      <td>14.745627</td>\n",
       "      <td>12033</td>\n",
       "    </tr>\n",
       "    <tr>\n",
       "      <th>1</th>\n",
       "      <td>Flagler County, Florida</td>\n",
       "      <td>1349</td>\n",
       "      <td>2425</td>\n",
       "      <td>3425</td>\n",
       "      <td>2159</td>\n",
       "      <td>1436</td>\n",
       "      <td>1112</td>\n",
       "      <td>1761</td>\n",
       "      <td>2236</td>\n",
       "      <td>3540</td>\n",
       "      <td>2234</td>\n",
       "      <td>1488</td>\n",
       "      <td>1850</td>\n",
       "      <td>97229</td>\n",
       "      <td>12</td>\n",
       "      <td>035</td>\n",
       "      <td>25.727921</td>\n",
       "      <td>12035</td>\n",
       "    </tr>\n",
       "    <tr>\n",
       "      <th>2</th>\n",
       "      <td>Gadsden County, Florida</td>\n",
       "      <td>237</td>\n",
       "      <td>572</td>\n",
       "      <td>892</td>\n",
       "      <td>539</td>\n",
       "      <td>378</td>\n",
       "      <td>140</td>\n",
       "      <td>535</td>\n",
       "      <td>773</td>\n",
       "      <td>780</td>\n",
       "      <td>670</td>\n",
       "      <td>446</td>\n",
       "      <td>538</td>\n",
       "      <td>47177</td>\n",
       "      <td>12</td>\n",
       "      <td>039</td>\n",
       "      <td>13.777900</td>\n",
       "      <td>12039</td>\n",
       "    </tr>\n",
       "    <tr>\n",
       "      <th>3</th>\n",
       "      <td>Hardee County, Florida</td>\n",
       "      <td>148</td>\n",
       "      <td>425</td>\n",
       "      <td>496</td>\n",
       "      <td>348</td>\n",
       "      <td>190</td>\n",
       "      <td>164</td>\n",
       "      <td>300</td>\n",
       "      <td>220</td>\n",
       "      <td>388</td>\n",
       "      <td>576</td>\n",
       "      <td>94</td>\n",
       "      <td>325</td>\n",
       "      <td>27158</td>\n",
       "      <td>12</td>\n",
       "      <td>049</td>\n",
       "      <td>13.528242</td>\n",
       "      <td>12049</td>\n",
       "    </tr>\n",
       "    <tr>\n",
       "      <th>4</th>\n",
       "      <td>Hendry County, Florida</td>\n",
       "      <td>402</td>\n",
       "      <td>298</td>\n",
       "      <td>675</td>\n",
       "      <td>257</td>\n",
       "      <td>372</td>\n",
       "      <td>366</td>\n",
       "      <td>232</td>\n",
       "      <td>237</td>\n",
       "      <td>690</td>\n",
       "      <td>368</td>\n",
       "      <td>258</td>\n",
       "      <td>307</td>\n",
       "      <td>38387</td>\n",
       "      <td>12</td>\n",
       "      <td>051</td>\n",
       "      <td>11.623727</td>\n",
       "      <td>12051</td>\n",
       "    </tr>\n",
       "  </tbody>\n",
       "</table>\n",
       "</div>"
      ],
      "text/plain": [
       "                county_name  B01001_020E  B01001_021E  B01001_022E  \\\n",
       "0  Escambia County, Florida         3026         3879         4413   \n",
       "1   Flagler County, Florida         1349         2425         3425   \n",
       "2   Gadsden County, Florida          237          572          892   \n",
       "3    Hardee County, Florida          148          425          496   \n",
       "4    Hendry County, Florida          402          298          675   \n",
       "\n",
       "   B01001_023E  B01001_024E  B01001_025E  B01001_044E  B01001_045E  \\\n",
       "0         3613         2378         1843         3028         4009   \n",
       "1         2159         1436         1112         1761         2236   \n",
       "2          539          378          140          535          773   \n",
       "3          348          190          164          300          220   \n",
       "4          257          372          366          232          237   \n",
       "\n",
       "   B01001_046E  B01001_047E  B01001_048E  B01001_049E  B01001_001E state code  \\\n",
       "0         6218         4690         3244         3918       300150         12   \n",
       "1         3540         2234         1488         1850        97229         12   \n",
       "2          780          670          446          538        47177         12   \n",
       "3          388          576           94          325        27158         12   \n",
       "4          690          368          258          307        38387         12   \n",
       "\n",
       "  county code  percent_age_65_and_older   fips  \n",
       "0         033                 14.745627  12033  \n",
       "1         035                 25.727921  12035  \n",
       "2         039                 13.777900  12039  \n",
       "3         049                 13.528242  12049  \n",
       "4         051                 11.623727  12051  "
      ]
     },
     "execution_count": 55,
     "metadata": {},
     "output_type": "execute_result"
    }
   ],
   "source": [
    "df9['fips'] = df9['state code'] + df9['county code']\n",
    "df9.head()"
   ]
  },
  {
   "cell_type": "markdown",
   "id": "dcb04516-8d7f-4ad2-beb3-e688daa12187",
   "metadata": {},
   "source": [
    "#### 10.Percent Of Population Who Do Not Speak English: B99163_005E/B99163_001E"
   ]
  },
  {
   "cell_type": "code",
   "execution_count": 56,
   "id": "f97dbc43-c00a-4e2b-b8c3-8db219707786",
   "metadata": {},
   "outputs": [
    {
     "name": "stdout",
     "output_type": "stream",
     "text": [
      "['NAME', 'B99163_005E', 'B99163_001E', 'state', 'county']\n"
     ]
    }
   ],
   "source": [
    "variables = 'B99163_005E,B99163_001E'\n",
    "df10 = collectAll_county(year,variables)"
   ]
  },
  {
   "cell_type": "code",
   "execution_count": 57,
   "id": "86a48711-061f-4a53-b7bb-a0523aa745f1",
   "metadata": {},
   "outputs": [
    {
     "data": {
      "text/plain": [
       "(1909, 5)"
      ]
     },
     "execution_count": 57,
     "metadata": {},
     "output_type": "execute_result"
    }
   ],
   "source": [
    "df10.shape"
   ]
  },
  {
   "cell_type": "code",
   "execution_count": 58,
   "id": "c87745bc-19ae-4efc-904d-7390a39c3c9d",
   "metadata": {},
   "outputs": [],
   "source": [
    "df10['B99163_005E'] = df10['B99163_005E'].apply(changeInteger)\n",
    "df10['B99163_001E'] = df10['B99163_001E'].apply(changeInteger)"
   ]
  },
  {
   "cell_type": "code",
   "execution_count": 59,
   "id": "79fc7f2e-ce55-499c-ab8b-aa573ca1801f",
   "metadata": {},
   "outputs": [],
   "source": [
    "df10['percent_limited_english_abilities'] = (df10['B99163_005E']/df10['B99163_001E'])*100"
   ]
  },
  {
   "cell_type": "code",
   "execution_count": 60,
   "id": "da196dd1-f265-41f4-8394-30c7bb0ac2b7",
   "metadata": {},
   "outputs": [
    {
     "data": {
      "text/html": [
       "<div>\n",
       "<style scoped>\n",
       "    .dataframe tbody tr th:only-of-type {\n",
       "        vertical-align: middle;\n",
       "    }\n",
       "\n",
       "    .dataframe tbody tr th {\n",
       "        vertical-align: top;\n",
       "    }\n",
       "\n",
       "    .dataframe thead th {\n",
       "        text-align: right;\n",
       "    }\n",
       "</style>\n",
       "<table border=\"1\" class=\"dataframe\">\n",
       "  <thead>\n",
       "    <tr style=\"text-align: right;\">\n",
       "      <th></th>\n",
       "      <th>county_name</th>\n",
       "      <th>B99163_005E</th>\n",
       "      <th>B99163_001E</th>\n",
       "      <th>state code</th>\n",
       "      <th>county code</th>\n",
       "      <th>percent_limited_english_abilities</th>\n",
       "      <th>fips</th>\n",
       "    </tr>\n",
       "  </thead>\n",
       "  <tbody>\n",
       "    <tr>\n",
       "      <th>0</th>\n",
       "      <td>Autauga County, Alabama</td>\n",
       "      <td>1345</td>\n",
       "      <td>51643</td>\n",
       "      <td>01</td>\n",
       "      <td>001</td>\n",
       "      <td>2.604419</td>\n",
       "      <td>01001</td>\n",
       "    </tr>\n",
       "    <tr>\n",
       "      <th>1</th>\n",
       "      <td>Baldwin County, Alabama</td>\n",
       "      <td>9903</td>\n",
       "      <td>175445</td>\n",
       "      <td>01</td>\n",
       "      <td>003</td>\n",
       "      <td>5.644504</td>\n",
       "      <td>01003</td>\n",
       "    </tr>\n",
       "    <tr>\n",
       "      <th>2</th>\n",
       "      <td>Barbour County, Alabama</td>\n",
       "      <td>1112</td>\n",
       "      <td>25790</td>\n",
       "      <td>01</td>\n",
       "      <td>005</td>\n",
       "      <td>4.311749</td>\n",
       "      <td>01005</td>\n",
       "    </tr>\n",
       "    <tr>\n",
       "      <th>3</th>\n",
       "      <td>Bibb County, Alabama</td>\n",
       "      <td>379</td>\n",
       "      <td>21565</td>\n",
       "      <td>01</td>\n",
       "      <td>007</td>\n",
       "      <td>1.757477</td>\n",
       "      <td>01007</td>\n",
       "    </tr>\n",
       "    <tr>\n",
       "      <th>4</th>\n",
       "      <td>Blount County, Alabama</td>\n",
       "      <td>3915</td>\n",
       "      <td>54077</td>\n",
       "      <td>01</td>\n",
       "      <td>009</td>\n",
       "      <td>7.239677</td>\n",
       "      <td>01009</td>\n",
       "    </tr>\n",
       "  </tbody>\n",
       "</table>\n",
       "</div>"
      ],
      "text/plain": [
       "               county_name  B99163_005E  B99163_001E state code county code  \\\n",
       "0  Autauga County, Alabama         1345        51643         01         001   \n",
       "1  Baldwin County, Alabama         9903       175445         01         003   \n",
       "2  Barbour County, Alabama         1112        25790         01         005   \n",
       "3     Bibb County, Alabama          379        21565         01         007   \n",
       "4   Blount County, Alabama         3915        54077         01         009   \n",
       "\n",
       "   percent_limited_english_abilities   fips  \n",
       "0                           2.604419  01001  \n",
       "1                           5.644504  01003  \n",
       "2                           4.311749  01005  \n",
       "3                           1.757477  01007  \n",
       "4                           7.239677  01009  "
      ]
     },
     "execution_count": 60,
     "metadata": {},
     "output_type": "execute_result"
    }
   ],
   "source": [
    "df10['fips'] = df10['state code'] + df10['county code']\n",
    "df10.head()"
   ]
  },
  {
   "cell_type": "markdown",
   "id": "230a9265-4827-498c-9cae-c18df3f821b6",
   "metadata": {},
   "source": [
    "#### 11.Percent of Population 17 Years of Age and Under: (B01001_003E+B01001_004E+B01001_005E+B01001_006E+B01001_027E+B01001_028E+B01001_029E+B01001_030E)/B01003_001E"
   ]
  },
  {
   "cell_type": "code",
   "execution_count": 61,
   "id": "43b38a7d-f7ca-4595-8f39-91f898996c9a",
   "metadata": {},
   "outputs": [
    {
     "name": "stdout",
     "output_type": "stream",
     "text": [
      "['NAME', 'B01001_003E', 'B01001_004E', 'B01001_005E', 'B01001_006E', 'B01001_027E', 'B01001_028E', 'B01001_029E', 'B01001_030E', 'B01003_001E', 'state', 'county']\n"
     ]
    }
   ],
   "source": [
    "variables = 'B01001_003E,B01001_004E,B01001_005E,B01001_006E,B01001_027E,B01001_028E,B01001_029E,B01001_030E,B01003_001E'\n",
    "df11 = collectAll_county(year,variables)"
   ]
  },
  {
   "cell_type": "code",
   "execution_count": 62,
   "id": "aab660f8-39a7-4dc8-ae57-9a715c2bb20e",
   "metadata": {},
   "outputs": [
    {
     "data": {
      "text/plain": [
       "(1909, 12)"
      ]
     },
     "execution_count": 62,
     "metadata": {},
     "output_type": "execute_result"
    }
   ],
   "source": [
    "df11.shape"
   ]
  },
  {
   "cell_type": "code",
   "execution_count": 63,
   "id": "3e91d91d-0f62-45e1-aa28-feb685e79554",
   "metadata": {},
   "outputs": [],
   "source": [
    "df11['B01001_003E'] = df11['B01001_003E'].apply(changeInteger)\n",
    "df11['B01001_004E'] = df11['B01001_004E'].apply(changeInteger)\n",
    "df11['B01001_005E'] = df11['B01001_005E'].apply(changeInteger)\n",
    "df11['B01001_006E'] = df11['B01001_006E'].apply(changeInteger)\n",
    "df11['B01001_027E'] = df11['B01001_027E'].apply(changeInteger)\n",
    "df11['B01001_028E'] = df11['B01001_028E'].apply(changeInteger)\n",
    "df11['B01001_029E'] = df11['B01001_029E'].apply(changeInteger)\n",
    "df11['B01001_030E'] = df11['B01001_030E'].apply(changeInteger)\n",
    "df11['B01003_001E'] = df11['B01003_001E'].apply(changeInteger)"
   ]
  },
  {
   "cell_type": "code",
   "execution_count": 64,
   "id": "7ef3e8d6-ddb3-4693-8418-2b8891a87a16",
   "metadata": {},
   "outputs": [],
   "source": [
    "df11['percent_age_17_and_younger'] = ((df11['B01001_003E']+df11['B01001_004E']+df11['B01001_005E']+df11['B01001_006E']+df11['B01001_027E']+df11['B01001_028E']+df11['B01001_029E']+df11['B01001_030E'])/df11['B01003_001E'])*100"
   ]
  },
  {
   "cell_type": "code",
   "execution_count": 65,
   "id": "b4e9178e-a1d3-479b-8a8f-35eb701d327d",
   "metadata": {},
   "outputs": [
    {
     "data": {
      "text/html": [
       "<div>\n",
       "<style scoped>\n",
       "    .dataframe tbody tr th:only-of-type {\n",
       "        vertical-align: middle;\n",
       "    }\n",
       "\n",
       "    .dataframe tbody tr th {\n",
       "        vertical-align: top;\n",
       "    }\n",
       "\n",
       "    .dataframe thead th {\n",
       "        text-align: right;\n",
       "    }\n",
       "</style>\n",
       "<table border=\"1\" class=\"dataframe\">\n",
       "  <thead>\n",
       "    <tr style=\"text-align: right;\">\n",
       "      <th></th>\n",
       "      <th>county_name</th>\n",
       "      <th>B01001_003E</th>\n",
       "      <th>B01001_004E</th>\n",
       "      <th>B01001_005E</th>\n",
       "      <th>B01001_006E</th>\n",
       "      <th>B01001_027E</th>\n",
       "      <th>B01001_028E</th>\n",
       "      <th>B01001_029E</th>\n",
       "      <th>B01001_030E</th>\n",
       "      <th>B01003_001E</th>\n",
       "      <th>state code</th>\n",
       "      <th>county code</th>\n",
       "      <th>percent_age_17_and_younger</th>\n",
       "      <th>fips</th>\n",
       "    </tr>\n",
       "  </thead>\n",
       "  <tbody>\n",
       "    <tr>\n",
       "      <th>0</th>\n",
       "      <td>Autauga County, Alabama</td>\n",
       "      <td>1860</td>\n",
       "      <td>2220</td>\n",
       "      <td>1890</td>\n",
       "      <td>1267</td>\n",
       "      <td>1677</td>\n",
       "      <td>2204</td>\n",
       "      <td>2082</td>\n",
       "      <td>1253</td>\n",
       "      <td>55180</td>\n",
       "      <td>01</td>\n",
       "      <td>001</td>\n",
       "      <td>26.192461</td>\n",
       "      <td>01001</td>\n",
       "    </tr>\n",
       "    <tr>\n",
       "      <th>1</th>\n",
       "      <td>Baldwin County, Alabama</td>\n",
       "      <td>5765</td>\n",
       "      <td>6074</td>\n",
       "      <td>6076</td>\n",
       "      <td>3770</td>\n",
       "      <td>5755</td>\n",
       "      <td>6127</td>\n",
       "      <td>5703</td>\n",
       "      <td>3333</td>\n",
       "      <td>186965</td>\n",
       "      <td>01</td>\n",
       "      <td>003</td>\n",
       "      <td>22.786618</td>\n",
       "      <td>01003</td>\n",
       "    </tr>\n",
       "    <tr>\n",
       "      <th>2</th>\n",
       "      <td>Barbour County, Alabama</td>\n",
       "      <td>797</td>\n",
       "      <td>812</td>\n",
       "      <td>882</td>\n",
       "      <td>520</td>\n",
       "      <td>706</td>\n",
       "      <td>1134</td>\n",
       "      <td>556</td>\n",
       "      <td>468</td>\n",
       "      <td>27293</td>\n",
       "      <td>01</td>\n",
       "      <td>005</td>\n",
       "      <td>21.525666</td>\n",
       "      <td>01005</td>\n",
       "    </tr>\n",
       "    <tr>\n",
       "      <th>3</th>\n",
       "      <td>Bibb County, Alabama</td>\n",
       "      <td>610</td>\n",
       "      <td>615</td>\n",
       "      <td>735</td>\n",
       "      <td>697</td>\n",
       "      <td>558</td>\n",
       "      <td>964</td>\n",
       "      <td>645</td>\n",
       "      <td>370</td>\n",
       "      <td>22733</td>\n",
       "      <td>01</td>\n",
       "      <td>007</td>\n",
       "      <td>22.847842</td>\n",
       "      <td>01007</td>\n",
       "    </tr>\n",
       "    <tr>\n",
       "      <th>4</th>\n",
       "      <td>Blount County, Alabama</td>\n",
       "      <td>1819</td>\n",
       "      <td>1565</td>\n",
       "      <td>2458</td>\n",
       "      <td>1335</td>\n",
       "      <td>1748</td>\n",
       "      <td>2195</td>\n",
       "      <td>1686</td>\n",
       "      <td>1151</td>\n",
       "      <td>57644</td>\n",
       "      <td>01</td>\n",
       "      <td>009</td>\n",
       "      <td>24.212407</td>\n",
       "      <td>01009</td>\n",
       "    </tr>\n",
       "  </tbody>\n",
       "</table>\n",
       "</div>"
      ],
      "text/plain": [
       "               county_name  B01001_003E  B01001_004E  B01001_005E  \\\n",
       "0  Autauga County, Alabama         1860         2220         1890   \n",
       "1  Baldwin County, Alabama         5765         6074         6076   \n",
       "2  Barbour County, Alabama          797          812          882   \n",
       "3     Bibb County, Alabama          610          615          735   \n",
       "4   Blount County, Alabama         1819         1565         2458   \n",
       "\n",
       "   B01001_006E  B01001_027E  B01001_028E  B01001_029E  B01001_030E  \\\n",
       "0         1267         1677         2204         2082         1253   \n",
       "1         3770         5755         6127         5703         3333   \n",
       "2          520          706         1134          556          468   \n",
       "3          697          558          964          645          370   \n",
       "4         1335         1748         2195         1686         1151   \n",
       "\n",
       "   B01003_001E state code county code  percent_age_17_and_younger   fips  \n",
       "0        55180         01         001                   26.192461  01001  \n",
       "1       186965         01         003                   22.786618  01003  \n",
       "2        27293         01         005                   21.525666  01005  \n",
       "3        22733         01         007                   22.847842  01007  \n",
       "4        57644         01         009                   24.212407  01009  "
      ]
     },
     "execution_count": 65,
     "metadata": {},
     "output_type": "execute_result"
    }
   ],
   "source": [
    "df11['fips'] = df11['state code'] + df11['county code']\n",
    "df11.head()"
   ]
  },
  {
   "cell_type": "markdown",
   "id": "0dc9064e-fd0b-4281-8771-366259395f20",
   "metadata": {},
   "source": [
    "#### 12.Percent Minority: 1-(B03002_003E/B03002_001E)"
   ]
  },
  {
   "cell_type": "code",
   "execution_count": 66,
   "id": "0c50e5e9-378c-4077-80f2-687a37f92625",
   "metadata": {},
   "outputs": [
    {
     "name": "stdout",
     "output_type": "stream",
     "text": [
      "['NAME', 'B03002_003E', 'B03002_001E', 'state', 'county']\n"
     ]
    }
   ],
   "source": [
    "variables = 'B03002_003E,B03002_001E'\n",
    "df12 = collectAll_county(year,variables)"
   ]
  },
  {
   "cell_type": "code",
   "execution_count": 67,
   "id": "e07e365e-585c-4b97-ba5e-25fa6039d637",
   "metadata": {},
   "outputs": [
    {
     "data": {
      "text/plain": [
       "(1909, 5)"
      ]
     },
     "execution_count": 67,
     "metadata": {},
     "output_type": "execute_result"
    }
   ],
   "source": [
    "df12.shape"
   ]
  },
  {
   "cell_type": "code",
   "execution_count": 68,
   "id": "dbe1bd76-0991-4fd4-a082-6f9a49c9abd3",
   "metadata": {},
   "outputs": [],
   "source": [
    "df12['B03002_003E'] = df12['B03002_003E'].apply(changeInteger)\n",
    "df12['B03002_001E'] = df12['B03002_001E'].apply(changeInteger)"
   ]
  },
  {
   "cell_type": "code",
   "execution_count": 69,
   "id": "156010fd-f12e-4306-b90e-e4b0183df959",
   "metadata": {},
   "outputs": [],
   "source": [
    "df12['percent_minorities'] = (1 - (df12['B03002_003E']/df12['B03002_001E']))*100"
   ]
  },
  {
   "cell_type": "code",
   "execution_count": 70,
   "id": "7ef360b7-92cf-445f-a5fc-04cbe424922f",
   "metadata": {},
   "outputs": [
    {
     "data": {
      "text/html": [
       "<div>\n",
       "<style scoped>\n",
       "    .dataframe tbody tr th:only-of-type {\n",
       "        vertical-align: middle;\n",
       "    }\n",
       "\n",
       "    .dataframe tbody tr th {\n",
       "        vertical-align: top;\n",
       "    }\n",
       "\n",
       "    .dataframe thead th {\n",
       "        text-align: right;\n",
       "    }\n",
       "</style>\n",
       "<table border=\"1\" class=\"dataframe\">\n",
       "  <thead>\n",
       "    <tr style=\"text-align: right;\">\n",
       "      <th></th>\n",
       "      <th>county_name</th>\n",
       "      <th>B03002_003E</th>\n",
       "      <th>B03002_001E</th>\n",
       "      <th>state code</th>\n",
       "      <th>county code</th>\n",
       "      <th>percent_minorities</th>\n",
       "      <th>fips</th>\n",
       "    </tr>\n",
       "  </thead>\n",
       "  <tbody>\n",
       "    <tr>\n",
       "      <th>0</th>\n",
       "      <td>Calhoun County, Alabama</td>\n",
       "      <td>86436.0</td>\n",
       "      <td>117845.0</td>\n",
       "      <td>01</td>\n",
       "      <td>015</td>\n",
       "      <td>26.652807</td>\n",
       "      <td>01015</td>\n",
       "    </tr>\n",
       "    <tr>\n",
       "      <th>1</th>\n",
       "      <td>Cullman County, Alabama</td>\n",
       "      <td>74350.0</td>\n",
       "      <td>80463.0</td>\n",
       "      <td>01</td>\n",
       "      <td>043</td>\n",
       "      <td>7.597281</td>\n",
       "      <td>01043</td>\n",
       "    </tr>\n",
       "    <tr>\n",
       "      <th>2</th>\n",
       "      <td>Dale County, Alabama</td>\n",
       "      <td>35304.0</td>\n",
       "      <td>50306.0</td>\n",
       "      <td>01</td>\n",
       "      <td>045</td>\n",
       "      <td>29.821492</td>\n",
       "      <td>01045</td>\n",
       "    </tr>\n",
       "    <tr>\n",
       "      <th>3</th>\n",
       "      <td>Houston County, Alabama</td>\n",
       "      <td>69953.0</td>\n",
       "      <td>102538.0</td>\n",
       "      <td>01</td>\n",
       "      <td>069</td>\n",
       "      <td>31.778463</td>\n",
       "      <td>01069</td>\n",
       "    </tr>\n",
       "    <tr>\n",
       "      <th>4</th>\n",
       "      <td>Jefferson County, Alabama</td>\n",
       "      <td>338167.0</td>\n",
       "      <td>659122.0</td>\n",
       "      <td>01</td>\n",
       "      <td>073</td>\n",
       "      <td>48.694324</td>\n",
       "      <td>01073</td>\n",
       "    </tr>\n",
       "  </tbody>\n",
       "</table>\n",
       "</div>"
      ],
      "text/plain": [
       "                 county_name  B03002_003E  B03002_001E state code county code  \\\n",
       "0    Calhoun County, Alabama      86436.0     117845.0         01         015   \n",
       "1    Cullman County, Alabama      74350.0      80463.0         01         043   \n",
       "2       Dale County, Alabama      35304.0      50306.0         01         045   \n",
       "3    Houston County, Alabama      69953.0     102538.0         01         069   \n",
       "4  Jefferson County, Alabama     338167.0     659122.0         01         073   \n",
       "\n",
       "   percent_minorities   fips  \n",
       "0           26.652807  01015  \n",
       "1            7.597281  01043  \n",
       "2           29.821492  01045  \n",
       "3           31.778463  01069  \n",
       "4           48.694324  01073  "
      ]
     },
     "execution_count": 70,
     "metadata": {},
     "output_type": "execute_result"
    }
   ],
   "source": [
    "df12['fips'] = df12['state code'] + df12['county code']\n",
    "df12.head()"
   ]
  },
  {
   "cell_type": "markdown",
   "id": "9733cd2c-c058-4c64-af28-8b32a4c8c066",
   "metadata": {},
   "source": [
    "#### 13.Percent of Population with a Disability: (B18101_004E+B18101_007E+B18101_010E+B18101_013E+B18101_016E+B18101_019E)/B18101_002E + (B18101_023E+B18101_026E+B18101_029E+B18101_032E+B18101_035E+B18101_038E)/B18101_021E"
   ]
  },
  {
   "cell_type": "code",
   "execution_count": 71,
   "id": "9d1f58e4-a62a-4b64-b7d4-9e75900dd490",
   "metadata": {},
   "outputs": [
    {
     "name": "stdout",
     "output_type": "stream",
     "text": [
      "['NAME', 'B18101_004E', 'B18101_007E', 'B18101_010E', 'B18101_013E', 'B18101_016E', 'B18101_019E', 'B18101_002E', 'B18101_023E', 'B18101_026E', 'B18101_029E', 'B18101_032E', 'B18101_035E', 'B18101_038E', 'B18101_021E', 'state', 'county']\n"
     ]
    }
   ],
   "source": [
    "variables = 'B18101_004E,B18101_007E,B18101_010E,B18101_013E,B18101_016E,B18101_019E,B18101_002E,B18101_023E,B18101_026E,B18101_029E,B18101_032E,B18101_035E,B18101_038E,B18101_021E'\n",
    "df13 = collectAll_county2(year,variables)"
   ]
  },
  {
   "cell_type": "code",
   "execution_count": 72,
   "id": "33abb6e8-5a53-423b-a4b2-c6b14f590b39",
   "metadata": {},
   "outputs": [
    {
     "data": {
      "text/plain": [
       "(825, 17)"
      ]
     },
     "execution_count": 72,
     "metadata": {},
     "output_type": "execute_result"
    }
   ],
   "source": [
    "df13.shape"
   ]
  },
  {
   "cell_type": "code",
   "execution_count": 73,
   "id": "27f65624-f448-401a-804f-ae498856af93",
   "metadata": {},
   "outputs": [],
   "source": [
    "df13['B18101_004E'] = df13['B18101_004E'].apply(changeInteger)\n",
    "df13['B18101_007E'] = df13['B18101_007E'].apply(changeInteger)\n",
    "df13['B18101_010E'] = df13['B18101_010E'].apply(changeInteger)\n",
    "df13['B18101_013E'] = df13['B18101_013E'].apply(changeInteger)\n",
    "df13['B18101_016E'] = df13['B18101_016E'].apply(changeInteger)\n",
    "df13['B18101_002E'] = df13['B18101_002E'].apply(changeInteger)\n",
    "df13['B18101_023E'] = df13['B18101_023E'].apply(changeInteger)\n",
    "df13['B18101_026E'] = df13['B18101_026E'].apply(changeInteger)\n",
    "df13['B18101_029E'] = df13['B18101_029E'].apply(changeInteger)\n",
    "df13['B18101_032E'] = df13['B18101_032E'].apply(changeInteger)\n",
    "df13['B18101_035E'] = df13['B18101_035E'].apply(changeInteger)\n",
    "df13['B18101_038E'] = df13['B18101_038E'].apply(changeInteger)\n",
    "df13['B18101_021E'] = df13['B18101_021E'].apply(changeInteger)"
   ]
  },
  {
   "cell_type": "code",
   "execution_count": 74,
   "id": "3152ec37-5bda-4767-a23b-4af35f4a80a7",
   "metadata": {},
   "outputs": [],
   "source": [
    "df13['percent_disabled'] = ((df13['B18101_004E']+df13['B18101_007E']+df13['B18101_010E']+df13['B18101_013E']+df13['B18101_016E'])/df13['B18101_002E'] + (df13['B18101_023E']+df13['B18101_026E']+df13['B18101_029E']+df13['B18101_032E']+df13['B18101_035E']+df13['B18101_038E'])/df13['B18101_021E'])*100"
   ]
  },
  {
   "cell_type": "code",
   "execution_count": 75,
   "id": "2ff35508-4ed4-4ee4-89e6-459ec0fb53f4",
   "metadata": {},
   "outputs": [
    {
     "data": {
      "text/html": [
       "<div>\n",
       "<style scoped>\n",
       "    .dataframe tbody tr th:only-of-type {\n",
       "        vertical-align: middle;\n",
       "    }\n",
       "\n",
       "    .dataframe tbody tr th {\n",
       "        vertical-align: top;\n",
       "    }\n",
       "\n",
       "    .dataframe thead th {\n",
       "        text-align: right;\n",
       "    }\n",
       "</style>\n",
       "<table border=\"1\" class=\"dataframe\">\n",
       "  <thead>\n",
       "    <tr style=\"text-align: right;\">\n",
       "      <th></th>\n",
       "      <th>county_name</th>\n",
       "      <th>B18101_004E</th>\n",
       "      <th>B18101_007E</th>\n",
       "      <th>B18101_010E</th>\n",
       "      <th>B18101_013E</th>\n",
       "      <th>B18101_016E</th>\n",
       "      <th>B18101_019E</th>\n",
       "      <th>B18101_002E</th>\n",
       "      <th>B18101_023E</th>\n",
       "      <th>B18101_026E</th>\n",
       "      <th>B18101_029E</th>\n",
       "      <th>B18101_032E</th>\n",
       "      <th>B18101_035E</th>\n",
       "      <th>B18101_038E</th>\n",
       "      <th>B18101_021E</th>\n",
       "      <th>state code</th>\n",
       "      <th>county code</th>\n",
       "      <th>percent_disabled</th>\n",
       "      <th>fips</th>\n",
       "    </tr>\n",
       "  </thead>\n",
       "  <tbody>\n",
       "    <tr>\n",
       "      <th>0</th>\n",
       "      <td>Platte County, Missouri</td>\n",
       "      <td>0</td>\n",
       "      <td>475</td>\n",
       "      <td>645</td>\n",
       "      <td>1951</td>\n",
       "      <td>706</td>\n",
       "      <td>1233</td>\n",
       "      <td>45032</td>\n",
       "      <td>0</td>\n",
       "      <td>298</td>\n",
       "      <td>320</td>\n",
       "      <td>1492</td>\n",
       "      <td>541</td>\n",
       "      <td>1504</td>\n",
       "      <td>46255</td>\n",
       "      <td>29</td>\n",
       "      <td>165</td>\n",
       "      <td>17.370182</td>\n",
       "      <td>29165</td>\n",
       "    </tr>\n",
       "    <tr>\n",
       "      <th>1</th>\n",
       "      <td>St. Francois County, Missouri</td>\n",
       "      <td>76</td>\n",
       "      <td>952</td>\n",
       "      <td>308</td>\n",
       "      <td>2779</td>\n",
       "      <td>781</td>\n",
       "      <td>987</td>\n",
       "      <td>29456</td>\n",
       "      <td>0</td>\n",
       "      <td>613</td>\n",
       "      <td>695</td>\n",
       "      <td>2988</td>\n",
       "      <td>531</td>\n",
       "      <td>1369</td>\n",
       "      <td>29913</td>\n",
       "      <td>29</td>\n",
       "      <td>187</td>\n",
       "      <td>37.334804</td>\n",
       "      <td>29187</td>\n",
       "    </tr>\n",
       "    <tr>\n",
       "      <th>2</th>\n",
       "      <td>St. Louis city, Missouri</td>\n",
       "      <td>0</td>\n",
       "      <td>1680</td>\n",
       "      <td>3875</td>\n",
       "      <td>10157</td>\n",
       "      <td>2686</td>\n",
       "      <td>2965</td>\n",
       "      <td>149887</td>\n",
       "      <td>30</td>\n",
       "      <td>725</td>\n",
       "      <td>2980</td>\n",
       "      <td>12848</td>\n",
       "      <td>3556</td>\n",
       "      <td>5024</td>\n",
       "      <td>163410</td>\n",
       "      <td>29</td>\n",
       "      <td>510</td>\n",
       "      <td>27.673271</td>\n",
       "      <td>29510</td>\n",
       "    </tr>\n",
       "    <tr>\n",
       "      <th>3</th>\n",
       "      <td>Christian County, Missouri</td>\n",
       "      <td>0</td>\n",
       "      <td>413</td>\n",
       "      <td>560</td>\n",
       "      <td>1930</td>\n",
       "      <td>806</td>\n",
       "      <td>473</td>\n",
       "      <td>38843</td>\n",
       "      <td>71</td>\n",
       "      <td>108</td>\n",
       "      <td>317</td>\n",
       "      <td>1317</td>\n",
       "      <td>1086</td>\n",
       "      <td>1518</td>\n",
       "      <td>40427</td>\n",
       "      <td>29</td>\n",
       "      <td>043</td>\n",
       "      <td>20.474562</td>\n",
       "      <td>29043</td>\n",
       "    </tr>\n",
       "    <tr>\n",
       "      <th>4</th>\n",
       "      <td>Jasper County, Missouri</td>\n",
       "      <td>0</td>\n",
       "      <td>1091</td>\n",
       "      <td>578</td>\n",
       "      <td>2766</td>\n",
       "      <td>1360</td>\n",
       "      <td>1107</td>\n",
       "      <td>56355</td>\n",
       "      <td>99</td>\n",
       "      <td>678</td>\n",
       "      <td>385</td>\n",
       "      <td>3486</td>\n",
       "      <td>1308</td>\n",
       "      <td>1968</td>\n",
       "      <td>57807</td>\n",
       "      <td>29</td>\n",
       "      <td>097</td>\n",
       "      <td>23.990710</td>\n",
       "      <td>29097</td>\n",
       "    </tr>\n",
       "  </tbody>\n",
       "</table>\n",
       "</div>"
      ],
      "text/plain": [
       "                     county_name  B18101_004E  B18101_007E  B18101_010E  \\\n",
       "0        Platte County, Missouri            0          475          645   \n",
       "1  St. Francois County, Missouri           76          952          308   \n",
       "2       St. Louis city, Missouri            0         1680         3875   \n",
       "3     Christian County, Missouri            0          413          560   \n",
       "4        Jasper County, Missouri            0         1091          578   \n",
       "\n",
       "   B18101_013E  B18101_016E B18101_019E  B18101_002E  B18101_023E  \\\n",
       "0         1951          706        1233        45032            0   \n",
       "1         2779          781         987        29456            0   \n",
       "2        10157         2686        2965       149887           30   \n",
       "3         1930          806         473        38843           71   \n",
       "4         2766         1360        1107        56355           99   \n",
       "\n",
       "   B18101_026E  B18101_029E  B18101_032E  B18101_035E  B18101_038E  \\\n",
       "0          298          320         1492          541         1504   \n",
       "1          613          695         2988          531         1369   \n",
       "2          725         2980        12848         3556         5024   \n",
       "3          108          317         1317         1086         1518   \n",
       "4          678          385         3486         1308         1968   \n",
       "\n",
       "   B18101_021E state code county code  percent_disabled   fips  \n",
       "0        46255         29         165         17.370182  29165  \n",
       "1        29913         29         187         37.334804  29187  \n",
       "2       163410         29         510         27.673271  29510  \n",
       "3        40427         29         043         20.474562  29043  \n",
       "4        57807         29         097         23.990710  29097  "
      ]
     },
     "execution_count": 75,
     "metadata": {},
     "output_type": "execute_result"
    }
   ],
   "source": [
    "df13['fips'] = df13['state code'] + df13['county code']\n",
    "df13.head()"
   ]
  },
  {
   "cell_type": "markdown",
   "id": "e94438b4-e185-4f2d-89cd-369beeacf4be",
   "metadata": {},
   "source": [
    "#### 14.Percent of Population Living in Group Quarters: B26001_001E/B01003_001E"
   ]
  },
  {
   "cell_type": "code",
   "execution_count": 76,
   "id": "c4352062-4f3f-4d14-8968-3c70d8a3228f",
   "metadata": {},
   "outputs": [
    {
     "name": "stdout",
     "output_type": "stream",
     "text": [
      "['NAME', 'B26001_001E', 'B01003_001E', 'state', 'county']\n"
     ]
    }
   ],
   "source": [
    "variables = 'B26001_001E,B01003_001E'\n",
    "df14 = collectAll_county(year,variables)"
   ]
  },
  {
   "cell_type": "code",
   "execution_count": 77,
   "id": "ce36db24-97f4-43c4-bb4b-43ad3181d51b",
   "metadata": {},
   "outputs": [
    {
     "data": {
      "text/plain": [
       "(1909, 5)"
      ]
     },
     "execution_count": 77,
     "metadata": {},
     "output_type": "execute_result"
    }
   ],
   "source": [
    "df14.shape"
   ]
  },
  {
   "cell_type": "code",
   "execution_count": 78,
   "id": "67a5eb8e-0e90-4e1e-8c02-b74ac7717e5d",
   "metadata": {},
   "outputs": [],
   "source": [
    "df14['B26001_001E'] = df14['B26001_001E'].apply(changeInteger)\n",
    "df14['B01003_001E'] = df14['B01003_001E'].apply(changeInteger)"
   ]
  },
  {
   "cell_type": "code",
   "execution_count": 79,
   "id": "0fc7a5a2-9133-4096-b752-b1241ab76905",
   "metadata": {},
   "outputs": [],
   "source": [
    "df14['percent_institutionalized_in_group_quarters'] = (df14['B26001_001E']/df14['B01003_001E'])*100"
   ]
  },
  {
   "cell_type": "code",
   "execution_count": 80,
   "id": "a499fda8-15f8-448e-93fd-aa3b2eb601cf",
   "metadata": {},
   "outputs": [
    {
     "data": {
      "text/html": [
       "<div>\n",
       "<style scoped>\n",
       "    .dataframe tbody tr th:only-of-type {\n",
       "        vertical-align: middle;\n",
       "    }\n",
       "\n",
       "    .dataframe tbody tr th {\n",
       "        vertical-align: top;\n",
       "    }\n",
       "\n",
       "    .dataframe thead th {\n",
       "        text-align: right;\n",
       "    }\n",
       "</style>\n",
       "<table border=\"1\" class=\"dataframe\">\n",
       "  <thead>\n",
       "    <tr style=\"text-align: right;\">\n",
       "      <th></th>\n",
       "      <th>county_name</th>\n",
       "      <th>B26001_001E</th>\n",
       "      <th>B01003_001E</th>\n",
       "      <th>state code</th>\n",
       "      <th>county code</th>\n",
       "      <th>percent_institutionalized_in_group_quarters</th>\n",
       "      <th>fips</th>\n",
       "    </tr>\n",
       "  </thead>\n",
       "  <tbody>\n",
       "    <tr>\n",
       "      <th>0</th>\n",
       "      <td>Autauga County, Alabama</td>\n",
       "      <td>423.0</td>\n",
       "      <td>55180</td>\n",
       "      <td>01</td>\n",
       "      <td>001</td>\n",
       "      <td>0.766582</td>\n",
       "      <td>01001</td>\n",
       "    </tr>\n",
       "    <tr>\n",
       "      <th>1</th>\n",
       "      <td>Baldwin County, Alabama</td>\n",
       "      <td>2486.0</td>\n",
       "      <td>186965</td>\n",
       "      <td>01</td>\n",
       "      <td>003</td>\n",
       "      <td>1.329661</td>\n",
       "      <td>01003</td>\n",
       "    </tr>\n",
       "    <tr>\n",
       "      <th>2</th>\n",
       "      <td>Barbour County, Alabama</td>\n",
       "      <td>2860.0</td>\n",
       "      <td>27293</td>\n",
       "      <td>01</td>\n",
       "      <td>005</td>\n",
       "      <td>10.478877</td>\n",
       "      <td>01005</td>\n",
       "    </tr>\n",
       "    <tr>\n",
       "      <th>3</th>\n",
       "      <td>Bibb County, Alabama</td>\n",
       "      <td>1321.0</td>\n",
       "      <td>22733</td>\n",
       "      <td>01</td>\n",
       "      <td>007</td>\n",
       "      <td>5.810936</td>\n",
       "      <td>01007</td>\n",
       "    </tr>\n",
       "    <tr>\n",
       "      <th>4</th>\n",
       "      <td>Blount County, Alabama</td>\n",
       "      <td>578.0</td>\n",
       "      <td>57644</td>\n",
       "      <td>01</td>\n",
       "      <td>009</td>\n",
       "      <td>1.002706</td>\n",
       "      <td>01009</td>\n",
       "    </tr>\n",
       "  </tbody>\n",
       "</table>\n",
       "</div>"
      ],
      "text/plain": [
       "               county_name  B26001_001E  B01003_001E state code county code  \\\n",
       "0  Autauga County, Alabama        423.0        55180         01         001   \n",
       "1  Baldwin County, Alabama       2486.0       186965         01         003   \n",
       "2  Barbour County, Alabama       2860.0        27293         01         005   \n",
       "3     Bibb County, Alabama       1321.0        22733         01         007   \n",
       "4   Blount County, Alabama        578.0        57644         01         009   \n",
       "\n",
       "   percent_institutionalized_in_group_quarters   fips  \n",
       "0                                     0.766582  01001  \n",
       "1                                     1.329661  01003  \n",
       "2                                    10.478877  01005  \n",
       "3                                     5.810936  01007  \n",
       "4                                     1.002706  01009  "
      ]
     },
     "execution_count": 80,
     "metadata": {},
     "output_type": "execute_result"
    }
   ],
   "source": [
    "df14['fips'] = df14['state code'] + df14['county code']\n",
    "df14.head()"
   ]
  },
  {
   "cell_type": "markdown",
   "id": "74b84cad-5d54-44dd-9cb8-1c663ac8ca10",
   "metadata": {},
   "source": [
    "#### 15.Percent of Children Living in Single Parent Households: (B09008_010E+B09008_011E+B09008_012E)/B09008_001E"
   ]
  },
  {
   "cell_type": "code",
   "execution_count": 81,
   "id": "bff02592-6a29-43d7-92c2-5b580485d18c",
   "metadata": {},
   "outputs": [
    {
     "name": "stdout",
     "output_type": "stream",
     "text": [
      "['NAME', 'B09008_010E', 'B09008_011E', 'B09008_012E', 'B09008_001E', 'state', 'county']\n"
     ]
    }
   ],
   "source": [
    "variables = 'B09008_010E,B09008_011E,B09008_012E,B09008_001E'\n",
    "df15 = collectAll_county2(year,variables)"
   ]
  },
  {
   "cell_type": "code",
   "execution_count": 82,
   "id": "cc8d4588-83c4-4f84-84d0-1a379ce8de09",
   "metadata": {},
   "outputs": [
    {
     "data": {
      "text/plain": [
       "(825, 7)"
      ]
     },
     "execution_count": 82,
     "metadata": {},
     "output_type": "execute_result"
    }
   ],
   "source": [
    "df15.shape"
   ]
  },
  {
   "cell_type": "code",
   "execution_count": 83,
   "id": "0aecfcf2-8774-4221-b2b3-d671c79d60e7",
   "metadata": {},
   "outputs": [],
   "source": [
    "df15['B09008_010E'] = df15['B09008_010E'].apply(changeInteger)\n",
    "df15['B09008_011E'] = df15['B09008_011E'].apply(changeInteger)\n",
    "df15['B09008_012E'] = df15['B09008_012E'].apply(changeInteger)\n",
    "df15['B09008_001E'] = df15['B09008_001E'].apply(changeInteger)"
   ]
  },
  {
   "cell_type": "code",
   "execution_count": 84,
   "id": "48279050-99e3-401e-97d2-801d995710c2",
   "metadata": {},
   "outputs": [],
   "source": [
    "df15['percent_single_parent_households_CDC'] = ((df15['B09008_010E'] + df15['B09008_011E']+df15['B09008_012E'])/df15['B09008_001E'])*100"
   ]
  },
  {
   "cell_type": "code",
   "execution_count": 85,
   "id": "ff96d4cd-45ba-4f4c-b57b-5b4c0f397a84",
   "metadata": {},
   "outputs": [
    {
     "data": {
      "text/html": [
       "<div>\n",
       "<style scoped>\n",
       "    .dataframe tbody tr th:only-of-type {\n",
       "        vertical-align: middle;\n",
       "    }\n",
       "\n",
       "    .dataframe tbody tr th {\n",
       "        vertical-align: top;\n",
       "    }\n",
       "\n",
       "    .dataframe thead th {\n",
       "        text-align: right;\n",
       "    }\n",
       "</style>\n",
       "<table border=\"1\" class=\"dataframe\">\n",
       "  <thead>\n",
       "    <tr style=\"text-align: right;\">\n",
       "      <th></th>\n",
       "      <th>county_name</th>\n",
       "      <th>B09008_010E</th>\n",
       "      <th>B09008_011E</th>\n",
       "      <th>B09008_012E</th>\n",
       "      <th>B09008_001E</th>\n",
       "      <th>state code</th>\n",
       "      <th>county code</th>\n",
       "      <th>percent_single_parent_households_CDC</th>\n",
       "      <th>fips</th>\n",
       "    </tr>\n",
       "  </thead>\n",
       "  <tbody>\n",
       "    <tr>\n",
       "      <th>0</th>\n",
       "      <td>Oneida County, New York</td>\n",
       "      <td>2254.0</td>\n",
       "      <td>13303.0</td>\n",
       "      <td>191.0</td>\n",
       "      <td>49725.0</td>\n",
       "      <td>36</td>\n",
       "      <td>065</td>\n",
       "      <td>31.670186</td>\n",
       "      <td>36065</td>\n",
       "    </tr>\n",
       "    <tr>\n",
       "      <th>1</th>\n",
       "      <td>Onondaga County, New York</td>\n",
       "      <td>3812.0</td>\n",
       "      <td>24660.0</td>\n",
       "      <td>315.0</td>\n",
       "      <td>103219.0</td>\n",
       "      <td>36</td>\n",
       "      <td>067</td>\n",
       "      <td>27.889245</td>\n",
       "      <td>36067</td>\n",
       "    </tr>\n",
       "    <tr>\n",
       "      <th>2</th>\n",
       "      <td>Ontario County, New York</td>\n",
       "      <td>1019.0</td>\n",
       "      <td>3756.0</td>\n",
       "      <td>20.0</td>\n",
       "      <td>23333.0</td>\n",
       "      <td>36</td>\n",
       "      <td>069</td>\n",
       "      <td>20.550294</td>\n",
       "      <td>36069</td>\n",
       "    </tr>\n",
       "    <tr>\n",
       "      <th>3</th>\n",
       "      <td>Orange County, New York</td>\n",
       "      <td>3117.0</td>\n",
       "      <td>14070.0</td>\n",
       "      <td>130.0</td>\n",
       "      <td>97165.0</td>\n",
       "      <td>36</td>\n",
       "      <td>071</td>\n",
       "      <td>17.822261</td>\n",
       "      <td>36071</td>\n",
       "    </tr>\n",
       "    <tr>\n",
       "      <th>4</th>\n",
       "      <td>Oswego County, New York</td>\n",
       "      <td>1668.0</td>\n",
       "      <td>4659.0</td>\n",
       "      <td>47.0</td>\n",
       "      <td>27081.0</td>\n",
       "      <td>36</td>\n",
       "      <td>075</td>\n",
       "      <td>23.536797</td>\n",
       "      <td>36075</td>\n",
       "    </tr>\n",
       "  </tbody>\n",
       "</table>\n",
       "</div>"
      ],
      "text/plain": [
       "                 county_name  B09008_010E  B09008_011E  B09008_012E  \\\n",
       "0    Oneida County, New York       2254.0      13303.0        191.0   \n",
       "1  Onondaga County, New York       3812.0      24660.0        315.0   \n",
       "2   Ontario County, New York       1019.0       3756.0         20.0   \n",
       "3    Orange County, New York       3117.0      14070.0        130.0   \n",
       "4    Oswego County, New York       1668.0       4659.0         47.0   \n",
       "\n",
       "   B09008_001E state code county code  percent_single_parent_households_CDC  \\\n",
       "0      49725.0         36         065                             31.670186   \n",
       "1     103219.0         36         067                             27.889245   \n",
       "2      23333.0         36         069                             20.550294   \n",
       "3      97165.0         36         071                             17.822261   \n",
       "4      27081.0         36         075                             23.536797   \n",
       "\n",
       "    fips  \n",
       "0  36065  \n",
       "1  36067  \n",
       "2  36069  \n",
       "3  36071  \n",
       "4  36075  "
      ]
     },
     "execution_count": 85,
     "metadata": {},
     "output_type": "execute_result"
    }
   ],
   "source": [
    "df15['fips'] = df15['state code'] + df15['county code']\n",
    "df15.head()"
   ]
  },
  {
   "cell_type": "markdown",
   "id": "5acf173f-f4e1-4ded-a20b-61609a7be6a1",
   "metadata": {},
   "source": [
    "### age 18 to 34\n",
    "#### (B01001_007E+B01001_008E+B01001_009E+B01001_010E+B01001_011E+B01001_012E+B01001_031E+B01001_032E+B01001_033E+B01001_034E+B01001_035E+B01001_036E)/B01001_001E"
   ]
  },
  {
   "cell_type": "code",
   "execution_count": 86,
   "id": "330f9eb3-7e29-4ad8-9245-a595906bc370",
   "metadata": {},
   "outputs": [
    {
     "name": "stdout",
     "output_type": "stream",
     "text": [
      "['NAME', 'B01001_007E', 'B01001_008E', 'B01001_009E', 'B01001_010E', 'B01001_011E', 'B01001_012E', 'B01001_031E', 'B01001_032E', 'B01001_033E', 'B01001_034E', 'B01001_035E', 'B01001_036E', 'B01001_001E', 'state', 'county']\n"
     ]
    }
   ],
   "source": [
    "variables = 'B01001_007E,B01001_008E,B01001_009E,B01001_010E,B01001_011E,B01001_012E,B01001_031E,B01001_032E,B01001_033E,B01001_034E,B01001_035E,B01001_036E,B01001_001E'\n",
    "df16 = collectAll_county(year,variables)"
   ]
  },
  {
   "cell_type": "code",
   "execution_count": 87,
   "id": "6f63b764-614b-49c4-ab6e-c7844b362c09",
   "metadata": {},
   "outputs": [],
   "source": [
    "df16['B01001_007E'] = df16['B01001_007E'].apply(changeInteger)\n",
    "df16['B01001_008E'] = df16['B01001_008E'].apply(changeInteger)\n",
    "df16['B01001_009E'] = df16['B01001_009E'].apply(changeInteger)\n",
    "df16['B01001_010E'] = df16['B01001_010E'].apply(changeInteger)\n",
    "df16['B01001_011E'] = df16['B01001_011E'].apply(changeInteger)\n",
    "df16['B01001_012E'] = df16['B01001_012E'].apply(changeInteger)\n",
    "df16['B01001_031E'] = df16['B01001_031E'].apply(changeInteger)\n",
    "df16['B01001_032E'] = df16['B01001_032E'].apply(changeInteger)\n",
    "df16['B01001_033E'] = df16['B01001_033E'].apply(changeInteger)\n",
    "df16['B01001_034E'] = df16['B01001_034E'].apply(changeInteger)\n",
    "df16['B01001_035E'] = df16['B01001_035E'].apply(changeInteger)\n",
    "df16['B01001_036E'] = df16['B01001_036E'].apply(changeInteger)\n",
    "df16['B01001_001E'] = df16['B01001_001E'].apply(changeInteger)"
   ]
  },
  {
   "cell_type": "code",
   "execution_count": 88,
   "id": "086b601c-6584-4cec-b89e-6738c02f4918",
   "metadata": {},
   "outputs": [],
   "source": [
    "df16['percent_age_18_to_34'] = ((df16['B01001_007E'] + df16['B01001_008E'] +df16['B01001_009E'] +df16['B01001_010E'] +df16['B01001_011E']+df16['B01001_012E']+df16['B01001_031E']+df16['B01001_032E']+df16['B01001_033E']+df16['B01001_034E']+df16['B01001_035E']+df16['B01001_036E'])/df16['B01001_001E'])*100"
   ]
  },
  {
   "cell_type": "code",
   "execution_count": 89,
   "id": "4cf1c1e8-6ddb-4691-b8dd-fdf25c669094",
   "metadata": {},
   "outputs": [
    {
     "data": {
      "text/html": [
       "<div>\n",
       "<style scoped>\n",
       "    .dataframe tbody tr th:only-of-type {\n",
       "        vertical-align: middle;\n",
       "    }\n",
       "\n",
       "    .dataframe tbody tr th {\n",
       "        vertical-align: top;\n",
       "    }\n",
       "\n",
       "    .dataframe thead th {\n",
       "        text-align: right;\n",
       "    }\n",
       "</style>\n",
       "<table border=\"1\" class=\"dataframe\">\n",
       "  <thead>\n",
       "    <tr style=\"text-align: right;\">\n",
       "      <th></th>\n",
       "      <th>county_name</th>\n",
       "      <th>B01001_007E</th>\n",
       "      <th>B01001_008E</th>\n",
       "      <th>B01001_009E</th>\n",
       "      <th>B01001_010E</th>\n",
       "      <th>B01001_011E</th>\n",
       "      <th>B01001_012E</th>\n",
       "      <th>B01001_031E</th>\n",
       "      <th>B01001_032E</th>\n",
       "      <th>B01001_033E</th>\n",
       "      <th>B01001_034E</th>\n",
       "      <th>B01001_035E</th>\n",
       "      <th>B01001_036E</th>\n",
       "      <th>B01001_001E</th>\n",
       "      <th>state code</th>\n",
       "      <th>county code</th>\n",
       "      <th>percent_age_18_to_34</th>\n",
       "      <th>fips</th>\n",
       "    </tr>\n",
       "  </thead>\n",
       "  <tbody>\n",
       "    <tr>\n",
       "      <th>0</th>\n",
       "      <td>Escambia County, Florida</td>\n",
       "      <td>7093</td>\n",
       "      <td>3077</td>\n",
       "      <td>3125</td>\n",
       "      <td>7633</td>\n",
       "      <td>11067</td>\n",
       "      <td>9055</td>\n",
       "      <td>5053</td>\n",
       "      <td>2863</td>\n",
       "      <td>2745</td>\n",
       "      <td>7382</td>\n",
       "      <td>10247</td>\n",
       "      <td>8463</td>\n",
       "      <td>300150</td>\n",
       "      <td>12</td>\n",
       "      <td>033</td>\n",
       "      <td>25.921373</td>\n",
       "      <td>12033</td>\n",
       "    </tr>\n",
       "    <tr>\n",
       "      <th>1</th>\n",
       "      <td>Flagler County, Florida</td>\n",
       "      <td>918</td>\n",
       "      <td>810</td>\n",
       "      <td>246</td>\n",
       "      <td>1389</td>\n",
       "      <td>1874</td>\n",
       "      <td>2100</td>\n",
       "      <td>1088</td>\n",
       "      <td>586</td>\n",
       "      <td>476</td>\n",
       "      <td>1006</td>\n",
       "      <td>2131</td>\n",
       "      <td>2898</td>\n",
       "      <td>97229</td>\n",
       "      <td>12</td>\n",
       "      <td>035</td>\n",
       "      <td>15.964373</td>\n",
       "      <td>12035</td>\n",
       "    </tr>\n",
       "    <tr>\n",
       "      <th>2</th>\n",
       "      <td>Gadsden County, Florida</td>\n",
       "      <td>705</td>\n",
       "      <td>459</td>\n",
       "      <td>338</td>\n",
       "      <td>703</td>\n",
       "      <td>1559</td>\n",
       "      <td>1678</td>\n",
       "      <td>432</td>\n",
       "      <td>308</td>\n",
       "      <td>239</td>\n",
       "      <td>718</td>\n",
       "      <td>1626</td>\n",
       "      <td>1296</td>\n",
       "      <td>47177</td>\n",
       "      <td>12</td>\n",
       "      <td>039</td>\n",
       "      <td>21.326070</td>\n",
       "      <td>12039</td>\n",
       "    </tr>\n",
       "    <tr>\n",
       "      <th>3</th>\n",
       "      <td>Hardee County, Florida</td>\n",
       "      <td>759</td>\n",
       "      <td>315</td>\n",
       "      <td>201</td>\n",
       "      <td>459</td>\n",
       "      <td>1048</td>\n",
       "      <td>998</td>\n",
       "      <td>399</td>\n",
       "      <td>46</td>\n",
       "      <td>462</td>\n",
       "      <td>391</td>\n",
       "      <td>623</td>\n",
       "      <td>751</td>\n",
       "      <td>27158</td>\n",
       "      <td>12</td>\n",
       "      <td>049</td>\n",
       "      <td>23.757272</td>\n",
       "      <td>12049</td>\n",
       "    </tr>\n",
       "    <tr>\n",
       "      <th>4</th>\n",
       "      <td>Hendry County, Florida</td>\n",
       "      <td>647</td>\n",
       "      <td>294</td>\n",
       "      <td>524</td>\n",
       "      <td>933</td>\n",
       "      <td>1597</td>\n",
       "      <td>1558</td>\n",
       "      <td>642</td>\n",
       "      <td>216</td>\n",
       "      <td>518</td>\n",
       "      <td>534</td>\n",
       "      <td>953</td>\n",
       "      <td>1128</td>\n",
       "      <td>38387</td>\n",
       "      <td>12</td>\n",
       "      <td>051</td>\n",
       "      <td>24.862584</td>\n",
       "      <td>12051</td>\n",
       "    </tr>\n",
       "  </tbody>\n",
       "</table>\n",
       "</div>"
      ],
      "text/plain": [
       "                county_name  B01001_007E  B01001_008E  B01001_009E  \\\n",
       "0  Escambia County, Florida         7093         3077         3125   \n",
       "1   Flagler County, Florida          918          810          246   \n",
       "2   Gadsden County, Florida          705          459          338   \n",
       "3    Hardee County, Florida          759          315          201   \n",
       "4    Hendry County, Florida          647          294          524   \n",
       "\n",
       "   B01001_010E  B01001_011E  B01001_012E  B01001_031E  B01001_032E  \\\n",
       "0         7633        11067         9055         5053         2863   \n",
       "1         1389         1874         2100         1088          586   \n",
       "2          703         1559         1678          432          308   \n",
       "3          459         1048          998          399           46   \n",
       "4          933         1597         1558          642          216   \n",
       "\n",
       "   B01001_033E  B01001_034E  B01001_035E  B01001_036E  B01001_001E state code  \\\n",
       "0         2745         7382        10247         8463       300150         12   \n",
       "1          476         1006         2131         2898        97229         12   \n",
       "2          239          718         1626         1296        47177         12   \n",
       "3          462          391          623          751        27158         12   \n",
       "4          518          534          953         1128        38387         12   \n",
       "\n",
       "  county code  percent_age_18_to_34   fips  \n",
       "0         033             25.921373  12033  \n",
       "1         035             15.964373  12035  \n",
       "2         039             21.326070  12039  \n",
       "3         049             23.757272  12049  \n",
       "4         051             24.862584  12051  "
      ]
     },
     "execution_count": 89,
     "metadata": {},
     "output_type": "execute_result"
    }
   ],
   "source": [
    "df16['fips'] = df16['state code'] + df16['county code']\n",
    "df16.head()"
   ]
  },
  {
   "cell_type": "code",
   "execution_count": 90,
   "id": "d9b661b1-c70b-4bc0-9cfc-cbd10fe37064",
   "metadata": {},
   "outputs": [
    {
     "data": {
      "text/plain": [
       "(1909, 18)"
      ]
     },
     "execution_count": 90,
     "metadata": {},
     "output_type": "execute_result"
    }
   ],
   "source": [
    "df16.shape"
   ]
  },
  {
   "cell_type": "markdown",
   "id": "730d8f25-cb06-4ce0-a74f-40a10c7452cd",
   "metadata": {},
   "source": [
    "### Age 35 to 44\n",
    "#### (B01001_013E+B01001_014E+B01001_037E+B01001_038E)/B01001_001E"
   ]
  },
  {
   "cell_type": "code",
   "execution_count": 91,
   "id": "9af10f52-ae54-49c9-a1aa-ba06033d2da1",
   "metadata": {},
   "outputs": [
    {
     "name": "stdout",
     "output_type": "stream",
     "text": [
      "['NAME', 'B01001_013E', 'B01001_014E', 'B01001_037E', 'B01001_038E', 'B01001_001E', 'state', 'county']\n"
     ]
    }
   ],
   "source": [
    "variables = 'B01001_013E,B01001_014E,B01001_037E,B01001_038E,B01001_001E'\n",
    "df17 = collectAll_county(year,variables)"
   ]
  },
  {
   "cell_type": "code",
   "execution_count": 92,
   "id": "aaeddf1d-e065-40c7-a7f5-bec08e79b9b6",
   "metadata": {},
   "outputs": [],
   "source": [
    "df17['B01001_013E'] = df17['B01001_013E'].apply(changeInteger)\n",
    "df17['B01001_014E'] = df17['B01001_014E'].apply(changeInteger)\n",
    "df17['B01001_037E'] = df17['B01001_037E'].apply(changeInteger)\n",
    "df17['B01001_038E'] = df17['B01001_038E'].apply(changeInteger)\n",
    "df17['B01001_001E'] = df17['B01001_001E'].apply(changeInteger)"
   ]
  },
  {
   "cell_type": "code",
   "execution_count": 93,
   "id": "2bb876f3-e566-4853-9177-a199142f5ed9",
   "metadata": {},
   "outputs": [],
   "source": [
    "df17['percent_age_35_to_44'] = ((df17['B01001_013E']+df17['B01001_014E'] +df17['B01001_037E']+df17['B01001_038E'])/df17['B01001_001E'])*100"
   ]
  },
  {
   "cell_type": "code",
   "execution_count": 94,
   "id": "836957f4-52ed-41b9-9824-e21c2defff0c",
   "metadata": {},
   "outputs": [
    {
     "data": {
      "text/html": [
       "<div>\n",
       "<style scoped>\n",
       "    .dataframe tbody tr th:only-of-type {\n",
       "        vertical-align: middle;\n",
       "    }\n",
       "\n",
       "    .dataframe tbody tr th {\n",
       "        vertical-align: top;\n",
       "    }\n",
       "\n",
       "    .dataframe thead th {\n",
       "        text-align: right;\n",
       "    }\n",
       "</style>\n",
       "<table border=\"1\" class=\"dataframe\">\n",
       "  <thead>\n",
       "    <tr style=\"text-align: right;\">\n",
       "      <th></th>\n",
       "      <th>county_name</th>\n",
       "      <th>B01001_013E</th>\n",
       "      <th>B01001_014E</th>\n",
       "      <th>B01001_037E</th>\n",
       "      <th>B01001_038E</th>\n",
       "      <th>B01001_001E</th>\n",
       "      <th>state code</th>\n",
       "      <th>county code</th>\n",
       "      <th>percent_age_35_to_44</th>\n",
       "      <th>fips</th>\n",
       "    </tr>\n",
       "  </thead>\n",
       "  <tbody>\n",
       "    <tr>\n",
       "      <th>0</th>\n",
       "      <td>Escambia County, Florida</td>\n",
       "      <td>8660</td>\n",
       "      <td>8252</td>\n",
       "      <td>8002</td>\n",
       "      <td>8814</td>\n",
       "      <td>300150</td>\n",
       "      <td>12</td>\n",
       "      <td>033</td>\n",
       "      <td>11.237048</td>\n",
       "      <td>12033</td>\n",
       "    </tr>\n",
       "    <tr>\n",
       "      <th>1</th>\n",
       "      <td>Flagler County, Florida</td>\n",
       "      <td>2040</td>\n",
       "      <td>2799</td>\n",
       "      <td>2681</td>\n",
       "      <td>2896</td>\n",
       "      <td>97229</td>\n",
       "      <td>12</td>\n",
       "      <td>035</td>\n",
       "      <td>10.712853</td>\n",
       "      <td>12035</td>\n",
       "    </tr>\n",
       "    <tr>\n",
       "      <th>2</th>\n",
       "      <td>Gadsden County, Florida</td>\n",
       "      <td>1430</td>\n",
       "      <td>1647</td>\n",
       "      <td>1418</td>\n",
       "      <td>1561</td>\n",
       "      <td>47177</td>\n",
       "      <td>12</td>\n",
       "      <td>039</td>\n",
       "      <td>12.836764</td>\n",
       "      <td>12039</td>\n",
       "    </tr>\n",
       "    <tr>\n",
       "      <th>3</th>\n",
       "      <td>Hardee County, Florida</td>\n",
       "      <td>998</td>\n",
       "      <td>959</td>\n",
       "      <td>960</td>\n",
       "      <td>691</td>\n",
       "      <td>27158</td>\n",
       "      <td>12</td>\n",
       "      <td>049</td>\n",
       "      <td>13.285220</td>\n",
       "      <td>12049</td>\n",
       "    </tr>\n",
       "    <tr>\n",
       "      <th>4</th>\n",
       "      <td>Hendry County, Florida</td>\n",
       "      <td>1136</td>\n",
       "      <td>1484</td>\n",
       "      <td>1348</td>\n",
       "      <td>1079</td>\n",
       "      <td>38387</td>\n",
       "      <td>12</td>\n",
       "      <td>051</td>\n",
       "      <td>13.147680</td>\n",
       "      <td>12051</td>\n",
       "    </tr>\n",
       "  </tbody>\n",
       "</table>\n",
       "</div>"
      ],
      "text/plain": [
       "                county_name  B01001_013E  B01001_014E  B01001_037E  \\\n",
       "0  Escambia County, Florida         8660         8252         8002   \n",
       "1   Flagler County, Florida         2040         2799         2681   \n",
       "2   Gadsden County, Florida         1430         1647         1418   \n",
       "3    Hardee County, Florida          998          959          960   \n",
       "4    Hendry County, Florida         1136         1484         1348   \n",
       "\n",
       "   B01001_038E  B01001_001E state code county code  percent_age_35_to_44  \\\n",
       "0         8814       300150         12         033             11.237048   \n",
       "1         2896        97229         12         035             10.712853   \n",
       "2         1561        47177         12         039             12.836764   \n",
       "3          691        27158         12         049             13.285220   \n",
       "4         1079        38387         12         051             13.147680   \n",
       "\n",
       "    fips  \n",
       "0  12033  \n",
       "1  12035  \n",
       "2  12039  \n",
       "3  12049  \n",
       "4  12051  "
      ]
     },
     "execution_count": 94,
     "metadata": {},
     "output_type": "execute_result"
    }
   ],
   "source": [
    "df17['fips'] = df17['state code'] + df17['county code']\n",
    "df17.head()"
   ]
  },
  {
   "cell_type": "code",
   "execution_count": 95,
   "id": "d38de85f-8ed4-407f-b9fd-03a2bb4634f9",
   "metadata": {},
   "outputs": [
    {
     "data": {
      "text/plain": [
       "(1909, 10)"
      ]
     },
     "execution_count": 95,
     "metadata": {},
     "output_type": "execute_result"
    }
   ],
   "source": [
    "df17.shape"
   ]
  },
  {
   "cell_type": "markdown",
   "id": "eec42697-16ef-4a3d-b612-6a5632b1f442",
   "metadata": {},
   "source": [
    "### age 45 to 54\n",
    "#### (B01001_015E+B01001_016E+B01001_039E+B01001_040E)/B01001_001E"
   ]
  },
  {
   "cell_type": "code",
   "execution_count": 96,
   "id": "8223d7d3-da3b-4190-8c0f-877c3c61c359",
   "metadata": {},
   "outputs": [
    {
     "name": "stdout",
     "output_type": "stream",
     "text": [
      "['NAME', 'B01001_015E', 'B01001_016E', 'B01001_039E', 'B01001_040E', 'B01001_001E', 'state', 'county']\n"
     ]
    }
   ],
   "source": [
    "variables = 'B01001_015E,B01001_016E,B01001_039E,B01001_040E,B01001_001E'\n",
    "df18 = collectAll_county(year,variables)"
   ]
  },
  {
   "cell_type": "code",
   "execution_count": 97,
   "id": "64f93c52-adf3-4d36-9056-dc703c2df649",
   "metadata": {},
   "outputs": [],
   "source": [
    "df18['B01001_015E'] = df18['B01001_015E'].apply(changeInteger)\n",
    "df18['B01001_016E'] = df18['B01001_016E'].apply(changeInteger)\n",
    "df18['B01001_039E'] = df18['B01001_039E'].apply(changeInteger)\n",
    "df18['B01001_040E'] = df18['B01001_040E'].apply(changeInteger)\n",
    "df18['B01001_001E'] = df18['B01001_001E'].apply(changeInteger)"
   ]
  },
  {
   "cell_type": "code",
   "execution_count": 98,
   "id": "833adef1-1d4e-47ec-a6e1-40e3bef59ed6",
   "metadata": {},
   "outputs": [],
   "source": [
    "df18['percent_age_45_to_54'] = ((df18['B01001_015E']+df18['B01001_016E'] +df18['B01001_039E']+df18['B01001_040E'])/df18['B01001_001E'])*100"
   ]
  },
  {
   "cell_type": "code",
   "execution_count": 99,
   "id": "095b777f-0191-4a9f-a2a1-cf635a3a34bf",
   "metadata": {},
   "outputs": [
    {
     "data": {
      "text/html": [
       "<div>\n",
       "<style scoped>\n",
       "    .dataframe tbody tr th:only-of-type {\n",
       "        vertical-align: middle;\n",
       "    }\n",
       "\n",
       "    .dataframe tbody tr th {\n",
       "        vertical-align: top;\n",
       "    }\n",
       "\n",
       "    .dataframe thead th {\n",
       "        text-align: right;\n",
       "    }\n",
       "</style>\n",
       "<table border=\"1\" class=\"dataframe\">\n",
       "  <thead>\n",
       "    <tr style=\"text-align: right;\">\n",
       "      <th></th>\n",
       "      <th>county_name</th>\n",
       "      <th>B01001_015E</th>\n",
       "      <th>B01001_016E</th>\n",
       "      <th>B01001_039E</th>\n",
       "      <th>B01001_040E</th>\n",
       "      <th>B01001_001E</th>\n",
       "      <th>state code</th>\n",
       "      <th>county code</th>\n",
       "      <th>percent_age_45_to_54</th>\n",
       "      <th>fips</th>\n",
       "    </tr>\n",
       "  </thead>\n",
       "  <tbody>\n",
       "    <tr>\n",
       "      <th>0</th>\n",
       "      <td>Escambia County, Florida</td>\n",
       "      <td>10078</td>\n",
       "      <td>10783</td>\n",
       "      <td>10253</td>\n",
       "      <td>11251</td>\n",
       "      <td>300150</td>\n",
       "      <td>12</td>\n",
       "      <td>033</td>\n",
       "      <td>14.114609</td>\n",
       "      <td>12033</td>\n",
       "    </tr>\n",
       "    <tr>\n",
       "      <th>1</th>\n",
       "      <td>Flagler County, Florida</td>\n",
       "      <td>2815</td>\n",
       "      <td>3431</td>\n",
       "      <td>2805</td>\n",
       "      <td>3524</td>\n",
       "      <td>97229</td>\n",
       "      <td>12</td>\n",
       "      <td>035</td>\n",
       "      <td>12.933384</td>\n",
       "      <td>12035</td>\n",
       "    </tr>\n",
       "    <tr>\n",
       "      <th>2</th>\n",
       "      <td>Gadsden County, Florida</td>\n",
       "      <td>1559</td>\n",
       "      <td>1959</td>\n",
       "      <td>1709</td>\n",
       "      <td>1767</td>\n",
       "      <td>47177</td>\n",
       "      <td>12</td>\n",
       "      <td>039</td>\n",
       "      <td>14.825021</td>\n",
       "      <td>12039</td>\n",
       "    </tr>\n",
       "    <tr>\n",
       "      <th>3</th>\n",
       "      <td>Hardee County, Florida</td>\n",
       "      <td>1087</td>\n",
       "      <td>752</td>\n",
       "      <td>651</td>\n",
       "      <td>698</td>\n",
       "      <td>27158</td>\n",
       "      <td>12</td>\n",
       "      <td>049</td>\n",
       "      <td>11.738714</td>\n",
       "      <td>12049</td>\n",
       "    </tr>\n",
       "    <tr>\n",
       "      <th>4</th>\n",
       "      <td>Hendry County, Florida</td>\n",
       "      <td>1827</td>\n",
       "      <td>879</td>\n",
       "      <td>996</td>\n",
       "      <td>1072</td>\n",
       "      <td>38387</td>\n",
       "      <td>12</td>\n",
       "      <td>051</td>\n",
       "      <td>12.436502</td>\n",
       "      <td>12051</td>\n",
       "    </tr>\n",
       "  </tbody>\n",
       "</table>\n",
       "</div>"
      ],
      "text/plain": [
       "                county_name  B01001_015E  B01001_016E  B01001_039E  \\\n",
       "0  Escambia County, Florida        10078        10783        10253   \n",
       "1   Flagler County, Florida         2815         3431         2805   \n",
       "2   Gadsden County, Florida         1559         1959         1709   \n",
       "3    Hardee County, Florida         1087          752          651   \n",
       "4    Hendry County, Florida         1827          879          996   \n",
       "\n",
       "   B01001_040E  B01001_001E state code county code  percent_age_45_to_54  \\\n",
       "0        11251       300150         12         033             14.114609   \n",
       "1         3524        97229         12         035             12.933384   \n",
       "2         1767        47177         12         039             14.825021   \n",
       "3          698        27158         12         049             11.738714   \n",
       "4         1072        38387         12         051             12.436502   \n",
       "\n",
       "    fips  \n",
       "0  12033  \n",
       "1  12035  \n",
       "2  12039  \n",
       "3  12049  \n",
       "4  12051  "
      ]
     },
     "execution_count": 99,
     "metadata": {},
     "output_type": "execute_result"
    }
   ],
   "source": [
    "df18['fips'] = df18['state code'] + df18['county code']\n",
    "df18.head()"
   ]
  },
  {
   "cell_type": "code",
   "execution_count": 100,
   "id": "bff38139-7fc5-4e8c-bed4-1f36dbc09d0e",
   "metadata": {},
   "outputs": [
    {
     "data": {
      "text/plain": [
       "(1909, 10)"
      ]
     },
     "execution_count": 100,
     "metadata": {},
     "output_type": "execute_result"
    }
   ],
   "source": [
    "df18.shape"
   ]
  },
  {
   "cell_type": "markdown",
   "id": "b6ec620f-65e9-4e13-83c3-1370b878b0e5",
   "metadata": {},
   "source": [
    "### age 55 to 64\n",
    "#### (B01001_017E+B01001_018E+B01001_019E+B01001_041E+B01001_042E+B01001_043E)/B01001_001E"
   ]
  },
  {
   "cell_type": "code",
   "execution_count": 101,
   "id": "579965cf-2f83-4d77-8177-1e0ba2fb9873",
   "metadata": {},
   "outputs": [
    {
     "name": "stdout",
     "output_type": "stream",
     "text": [
      "['NAME', 'B01001_017E', 'B01001_018E', 'B01001_019E', 'B01001_041E', 'B01001_042E', 'B01001_043E', 'B01001_001E', 'state', 'county']\n"
     ]
    }
   ],
   "source": [
    "variables = 'B01001_017E,B01001_018E,B01001_019E,B01001_041E,B01001_042E,B01001_043E,B01001_001E'\n",
    "df19 = collectAll_county(year,variables)"
   ]
  },
  {
   "cell_type": "code",
   "execution_count": 102,
   "id": "a61b7263-c36b-4e7b-bce2-3fd3b470bfc9",
   "metadata": {},
   "outputs": [],
   "source": [
    "df19['B01001_017E'] = df19['B01001_017E'].apply(changeInteger)\n",
    "df19['B01001_018E'] = df19['B01001_018E'].apply(changeInteger)\n",
    "df19['B01001_019E'] = df19['B01001_019E'].apply(changeInteger)\n",
    "df19['B01001_041E'] = df19['B01001_041E'].apply(changeInteger)\n",
    "df19['B01001_042E'] = df19['B01001_042E'].apply(changeInteger)\n",
    "df19['B01001_043E'] = df19['B01001_043E'].apply(changeInteger)\n",
    "df19['B01001_001E'] = df19['B01001_001E'].apply(changeInteger)"
   ]
  },
  {
   "cell_type": "code",
   "execution_count": 103,
   "id": "92d9ba4c-765a-48a3-8b96-f46f63118d0c",
   "metadata": {},
   "outputs": [],
   "source": [
    "df19['percent_age_55_to_64'] = ((df19['B01001_017E']+df19['B01001_018E'] +df19['B01001_019E']+df19['B01001_041E']+df19['B01001_042E']+df19['B01001_043E'])/df19['B01001_001E'])*100"
   ]
  },
  {
   "cell_type": "code",
   "execution_count": 104,
   "id": "cc37eab1-db3a-4a0d-b5ae-253140921bd2",
   "metadata": {},
   "outputs": [
    {
     "data": {
      "text/html": [
       "<div>\n",
       "<style scoped>\n",
       "    .dataframe tbody tr th:only-of-type {\n",
       "        vertical-align: middle;\n",
       "    }\n",
       "\n",
       "    .dataframe tbody tr th {\n",
       "        vertical-align: top;\n",
       "    }\n",
       "\n",
       "    .dataframe thead th {\n",
       "        text-align: right;\n",
       "    }\n",
       "</style>\n",
       "<table border=\"1\" class=\"dataframe\">\n",
       "  <thead>\n",
       "    <tr style=\"text-align: right;\">\n",
       "      <th></th>\n",
       "      <th>county_name</th>\n",
       "      <th>B01001_017E</th>\n",
       "      <th>B01001_018E</th>\n",
       "      <th>B01001_019E</th>\n",
       "      <th>B01001_041E</th>\n",
       "      <th>B01001_042E</th>\n",
       "      <th>B01001_043E</th>\n",
       "      <th>B01001_001E</th>\n",
       "      <th>state code</th>\n",
       "      <th>county code</th>\n",
       "      <th>percent_age_55_to_64</th>\n",
       "      <th>fips</th>\n",
       "    </tr>\n",
       "  </thead>\n",
       "  <tbody>\n",
       "    <tr>\n",
       "      <th>0</th>\n",
       "      <td>Escambia County, Florida</td>\n",
       "      <td>9127</td>\n",
       "      <td>3182</td>\n",
       "      <td>5656</td>\n",
       "      <td>10775</td>\n",
       "      <td>3720</td>\n",
       "      <td>5591</td>\n",
       "      <td>300150</td>\n",
       "      <td>12</td>\n",
       "      <td>033</td>\n",
       "      <td>12.677328</td>\n",
       "      <td>12033</td>\n",
       "    </tr>\n",
       "    <tr>\n",
       "      <th>1</th>\n",
       "      <td>Flagler County, Florida</td>\n",
       "      <td>2983</td>\n",
       "      <td>1439</td>\n",
       "      <td>2213</td>\n",
       "      <td>3742</td>\n",
       "      <td>2159</td>\n",
       "      <td>2370</td>\n",
       "      <td>97229</td>\n",
       "      <td>12</td>\n",
       "      <td>035</td>\n",
       "      <td>15.330817</td>\n",
       "      <td>12035</td>\n",
       "    </tr>\n",
       "    <tr>\n",
       "      <th>2</th>\n",
       "      <td>Gadsden County, Florida</td>\n",
       "      <td>1761</td>\n",
       "      <td>604</td>\n",
       "      <td>976</td>\n",
       "      <td>1782</td>\n",
       "      <td>510</td>\n",
       "      <td>983</td>\n",
       "      <td>47177</td>\n",
       "      <td>12</td>\n",
       "      <td>039</td>\n",
       "      <td>14.023783</td>\n",
       "      <td>12039</td>\n",
       "    </tr>\n",
       "    <tr>\n",
       "      <th>3</th>\n",
       "      <td>Hardee County, Florida</td>\n",
       "      <td>890</td>\n",
       "      <td>246</td>\n",
       "      <td>298</td>\n",
       "      <td>567</td>\n",
       "      <td>351</td>\n",
       "      <td>452</td>\n",
       "      <td>27158</td>\n",
       "      <td>12</td>\n",
       "      <td>049</td>\n",
       "      <td>10.324766</td>\n",
       "      <td>12049</td>\n",
       "    </tr>\n",
       "    <tr>\n",
       "      <th>4</th>\n",
       "      <td>Hendry County, Florida</td>\n",
       "      <td>1069</td>\n",
       "      <td>390</td>\n",
       "      <td>371</td>\n",
       "      <td>1186</td>\n",
       "      <td>157</td>\n",
       "      <td>645</td>\n",
       "      <td>38387</td>\n",
       "      <td>12</td>\n",
       "      <td>051</td>\n",
       "      <td>9.946075</td>\n",
       "      <td>12051</td>\n",
       "    </tr>\n",
       "  </tbody>\n",
       "</table>\n",
       "</div>"
      ],
      "text/plain": [
       "                county_name  B01001_017E  B01001_018E  B01001_019E  \\\n",
       "0  Escambia County, Florida         9127         3182         5656   \n",
       "1   Flagler County, Florida         2983         1439         2213   \n",
       "2   Gadsden County, Florida         1761          604          976   \n",
       "3    Hardee County, Florida          890          246          298   \n",
       "4    Hendry County, Florida         1069          390          371   \n",
       "\n",
       "   B01001_041E  B01001_042E  B01001_043E  B01001_001E state code county code  \\\n",
       "0        10775         3720         5591       300150         12         033   \n",
       "1         3742         2159         2370        97229         12         035   \n",
       "2         1782          510          983        47177         12         039   \n",
       "3          567          351          452        27158         12         049   \n",
       "4         1186          157          645        38387         12         051   \n",
       "\n",
       "   percent_age_55_to_64   fips  \n",
       "0             12.677328  12033  \n",
       "1             15.330817  12035  \n",
       "2             14.023783  12039  \n",
       "3             10.324766  12049  \n",
       "4              9.946075  12051  "
      ]
     },
     "execution_count": 104,
     "metadata": {},
     "output_type": "execute_result"
    }
   ],
   "source": [
    "df19['fips'] = df19['state code'] + df19['county code']\n",
    "df19.head()"
   ]
  },
  {
   "cell_type": "code",
   "execution_count": 105,
   "id": "4ed461b2-bb26-4730-8eff-f7c673e1fc6e",
   "metadata": {},
   "outputs": [
    {
     "data": {
      "text/plain": [
       "(1909, 12)"
      ]
     },
     "execution_count": 105,
     "metadata": {},
     "output_type": "execute_result"
    }
   ],
   "source": [
    "df19.shape"
   ]
  },
  {
   "cell_type": "markdown",
   "id": "9b41ea5e-df49-4b9f-9ea3-cfc5fb3f952b",
   "metadata": {},
   "source": [
    "### Combine 19 dataframes together"
   ]
  },
  {
   "cell_type": "code",
   "execution_count": 106,
   "id": "d3ce192e-6369-4897-85fa-d603ecd0eae4",
   "metadata": {},
   "outputs": [],
   "source": [
    "df = df1[['fips','per_capita_income']].merge(df2[['fips', 'percent_below_poverty']], on = 'fips', how = 'left')"
   ]
  },
  {
   "cell_type": "code",
   "execution_count": 107,
   "id": "769784f8-1230-4254-a8a5-e3fd82346352",
   "metadata": {},
   "outputs": [
    {
     "data": {
      "text/html": [
       "<div>\n",
       "<style scoped>\n",
       "    .dataframe tbody tr th:only-of-type {\n",
       "        vertical-align: middle;\n",
       "    }\n",
       "\n",
       "    .dataframe tbody tr th {\n",
       "        vertical-align: top;\n",
       "    }\n",
       "\n",
       "    .dataframe thead th {\n",
       "        text-align: right;\n",
       "    }\n",
       "</style>\n",
       "<table border=\"1\" class=\"dataframe\">\n",
       "  <thead>\n",
       "    <tr style=\"text-align: right;\">\n",
       "      <th></th>\n",
       "      <th>fips</th>\n",
       "      <th>per_capita_income</th>\n",
       "      <th>percent_below_poverty</th>\n",
       "      <th>percent_no_highschool_diploma</th>\n",
       "      <th>percent_mobile_homes</th>\n",
       "      <th>percent_no_vehicle</th>\n",
       "      <th>percent_overcrowding</th>\n",
       "      <th>percent_multi_unit_housing</th>\n",
       "      <th>percent_age_65_and_older</th>\n",
       "      <th>percent_limited_english_abilities</th>\n",
       "      <th>percent_minorities</th>\n",
       "      <th>percent_institutionalized_in_group_quarters</th>\n",
       "      <th>percent_age_18_to_34</th>\n",
       "      <th>percent_age_35_to_44</th>\n",
       "      <th>percent_age_45_to_54</th>\n",
       "      <th>percent_age_55_to_64</th>\n",
       "    </tr>\n",
       "  </thead>\n",
       "  <tbody>\n",
       "    <tr>\n",
       "      <th>0</th>\n",
       "      <td>13291</td>\n",
       "      <td>21240</td>\n",
       "      <td>19.038755</td>\n",
       "      <td>15.668938</td>\n",
       "      <td>16.550573</td>\n",
       "      <td>6.688326</td>\n",
       "      <td>NaN</td>\n",
       "      <td>2.509570</td>\n",
       "      <td>27.787138</td>\n",
       "      <td>5.541513</td>\n",
       "      <td>NaN</td>\n",
       "      <td>1.900215</td>\n",
       "      <td>13.891229</td>\n",
       "      <td>9.894224</td>\n",
       "      <td>13.591688</td>\n",
       "      <td>16.947487</td>\n",
       "    </tr>\n",
       "    <tr>\n",
       "      <th>1</th>\n",
       "      <td>13293</td>\n",
       "      <td>17193</td>\n",
       "      <td>21.039208</td>\n",
       "      <td>24.885070</td>\n",
       "      <td>13.797291</td>\n",
       "      <td>9.577662</td>\n",
       "      <td>4.133307</td>\n",
       "      <td>1.273624</td>\n",
       "      <td>16.260465</td>\n",
       "      <td>1.544004</td>\n",
       "      <td>NaN</td>\n",
       "      <td>1.942326</td>\n",
       "      <td>18.887442</td>\n",
       "      <td>12.926512</td>\n",
       "      <td>14.746047</td>\n",
       "      <td>14.187907</td>\n",
       "    </tr>\n",
       "    <tr>\n",
       "      <th>2</th>\n",
       "      <td>13295</td>\n",
       "      <td>20316</td>\n",
       "      <td>17.531942</td>\n",
       "      <td>21.280834</td>\n",
       "      <td>15.760821</td>\n",
       "      <td>5.766820</td>\n",
       "      <td>2.674467</td>\n",
       "      <td>1.622233</td>\n",
       "      <td>15.315250</td>\n",
       "      <td>2.404949</td>\n",
       "      <td>8.207725</td>\n",
       "      <td>1.901274</td>\n",
       "      <td>19.825486</td>\n",
       "      <td>13.285570</td>\n",
       "      <td>14.830811</td>\n",
       "      <td>13.430026</td>\n",
       "    </tr>\n",
       "    <tr>\n",
       "      <th>3</th>\n",
       "      <td>13297</td>\n",
       "      <td>22524</td>\n",
       "      <td>15.923361</td>\n",
       "      <td>17.031771</td>\n",
       "      <td>5.540083</td>\n",
       "      <td>4.975906</td>\n",
       "      <td>2.358088</td>\n",
       "      <td>1.048283</td>\n",
       "      <td>12.468713</td>\n",
       "      <td>5.465659</td>\n",
       "      <td>NaN</td>\n",
       "      <td>0.754457</td>\n",
       "      <td>19.918386</td>\n",
       "      <td>14.373836</td>\n",
       "      <td>14.778348</td>\n",
       "      <td>12.016750</td>\n",
       "    </tr>\n",
       "    <tr>\n",
       "      <th>4</th>\n",
       "      <td>13299</td>\n",
       "      <td>17767</td>\n",
       "      <td>25.701757</td>\n",
       "      <td>18.143196</td>\n",
       "      <td>17.397521</td>\n",
       "      <td>10.828121</td>\n",
       "      <td>4.069023</td>\n",
       "      <td>3.035124</td>\n",
       "      <td>15.344823</td>\n",
       "      <td>5.759225</td>\n",
       "      <td>NaN</td>\n",
       "      <td>7.139893</td>\n",
       "      <td>22.755816</td>\n",
       "      <td>12.063958</td>\n",
       "      <td>13.712689</td>\n",
       "      <td>12.570196</td>\n",
       "    </tr>\n",
       "  </tbody>\n",
       "</table>\n",
       "</div>"
      ],
      "text/plain": [
       "    fips per_capita_income  percent_below_poverty  \\\n",
       "0  13291             21240              19.038755   \n",
       "1  13293             17193              21.039208   \n",
       "2  13295             20316              17.531942   \n",
       "3  13297             22524              15.923361   \n",
       "4  13299             17767              25.701757   \n",
       "\n",
       "   percent_no_highschool_diploma  percent_mobile_homes  percent_no_vehicle  \\\n",
       "0                      15.668938             16.550573            6.688326   \n",
       "1                      24.885070             13.797291            9.577662   \n",
       "2                      21.280834             15.760821            5.766820   \n",
       "3                      17.031771              5.540083            4.975906   \n",
       "4                      18.143196             17.397521           10.828121   \n",
       "\n",
       "   percent_overcrowding  percent_multi_unit_housing  percent_age_65_and_older  \\\n",
       "0                   NaN                    2.509570                 27.787138   \n",
       "1              4.133307                    1.273624                 16.260465   \n",
       "2              2.674467                    1.622233                 15.315250   \n",
       "3              2.358088                    1.048283                 12.468713   \n",
       "4              4.069023                    3.035124                 15.344823   \n",
       "\n",
       "   percent_limited_english_abilities  percent_minorities  \\\n",
       "0                           5.541513                 NaN   \n",
       "1                           1.544004                 NaN   \n",
       "2                           2.404949            8.207725   \n",
       "3                           5.465659                 NaN   \n",
       "4                           5.759225                 NaN   \n",
       "\n",
       "   percent_institutionalized_in_group_quarters  percent_age_18_to_34  \\\n",
       "0                                     1.900215             13.891229   \n",
       "1                                     1.942326             18.887442   \n",
       "2                                     1.901274             19.825486   \n",
       "3                                     0.754457             19.918386   \n",
       "4                                     7.139893             22.755816   \n",
       "\n",
       "   percent_age_35_to_44  percent_age_45_to_54  percent_age_55_to_64  \n",
       "0              9.894224             13.591688             16.947487  \n",
       "1             12.926512             14.746047             14.187907  \n",
       "2             13.285570             14.830811             13.430026  \n",
       "3             14.373836             14.778348             12.016750  \n",
       "4             12.063958             13.712689             12.570196  "
      ]
     },
     "execution_count": 107,
     "metadata": {},
     "output_type": "execute_result"
    }
   ],
   "source": [
    "df = df.merge(df3[['fips', 'percent_no_highschool_diploma']], on = 'fips', how = 'left')\n",
    "df = df.merge(df4[['fips', 'percent_mobile_homes']], on = 'fips', how = 'left')\n",
    "df = df.merge(df5[['fips', 'percent_no_vehicle']], on = 'fips', how = 'left')\n",
    "df = df.merge(df7[['fips', 'percent_overcrowding']], on = 'fips', how = 'left')\n",
    "df = df.merge(df8[['fips', 'percent_multi_unit_housing']], on = 'fips', how = 'left')\n",
    "df = df.merge(df9[['fips', 'percent_age_65_and_older']], on = 'fips', how = 'left')\n",
    "df = df.merge(df10[['fips', 'percent_limited_english_abilities']], on = 'fips', how = 'left')\n",
    "df = df.merge(df12[['fips', 'percent_minorities']], on = 'fips', how = 'left')\n",
    "df = df.merge(df14[['fips', 'percent_institutionalized_in_group_quarters']], on = 'fips', how = 'left')\n",
    "df = df.merge(df16[['fips', 'percent_age_18_to_34']], on = 'fips', how = 'left')\n",
    "df = df.merge(df17[['fips', 'percent_age_35_to_44']], on = 'fips', how = 'left')\n",
    "df = df.merge(df18[['fips', 'percent_age_45_to_54']], on = 'fips', how = 'left')\n",
    "df = df.merge(df19[['fips', 'percent_age_55_to_64']], on = 'fips', how = 'left')\n",
    "df.head()"
   ]
  },
  {
   "cell_type": "code",
   "execution_count": 108,
   "id": "8fb672d1-2308-45ba-aeb7-56bb577e7d66",
   "metadata": {},
   "outputs": [
    {
     "data": {
      "text/html": [
       "<div>\n",
       "<style scoped>\n",
       "    .dataframe tbody tr th:only-of-type {\n",
       "        vertical-align: middle;\n",
       "    }\n",
       "\n",
       "    .dataframe tbody tr th {\n",
       "        vertical-align: top;\n",
       "    }\n",
       "\n",
       "    .dataframe thead th {\n",
       "        text-align: right;\n",
       "    }\n",
       "</style>\n",
       "<table border=\"1\" class=\"dataframe\">\n",
       "  <thead>\n",
       "    <tr style=\"text-align: right;\">\n",
       "      <th></th>\n",
       "      <th>fips</th>\n",
       "      <th>per_capita_income</th>\n",
       "      <th>percent_below_poverty</th>\n",
       "      <th>percent_no_highschool_diploma</th>\n",
       "      <th>percent_mobile_homes</th>\n",
       "      <th>percent_no_vehicle</th>\n",
       "      <th>percent_overcrowding</th>\n",
       "      <th>percent_multi_unit_housing</th>\n",
       "      <th>percent_age_65_and_older</th>\n",
       "      <th>percent_limited_english_abilities</th>\n",
       "      <th>percent_minorities</th>\n",
       "      <th>percent_institutionalized_in_group_quarters</th>\n",
       "      <th>percent_age_18_to_34</th>\n",
       "      <th>percent_age_35_to_44</th>\n",
       "      <th>percent_age_45_to_54</th>\n",
       "      <th>percent_age_55_to_64</th>\n",
       "    </tr>\n",
       "  </thead>\n",
       "  <tbody>\n",
       "    <tr>\n",
       "      <th>0</th>\n",
       "      <td>13291</td>\n",
       "      <td>21240</td>\n",
       "      <td>19.038755</td>\n",
       "      <td>15.668938</td>\n",
       "      <td>16.550573</td>\n",
       "      <td>6.688326</td>\n",
       "      <td>NaN</td>\n",
       "      <td>2.509570</td>\n",
       "      <td>27.787138</td>\n",
       "      <td>5.541513</td>\n",
       "      <td>NaN</td>\n",
       "      <td>1.900215</td>\n",
       "      <td>13.891229</td>\n",
       "      <td>9.894224</td>\n",
       "      <td>13.591688</td>\n",
       "      <td>16.947487</td>\n",
       "    </tr>\n",
       "    <tr>\n",
       "      <th>1</th>\n",
       "      <td>13293</td>\n",
       "      <td>17193</td>\n",
       "      <td>21.039208</td>\n",
       "      <td>24.885070</td>\n",
       "      <td>13.797291</td>\n",
       "      <td>9.577662</td>\n",
       "      <td>4.133307</td>\n",
       "      <td>1.273624</td>\n",
       "      <td>16.260465</td>\n",
       "      <td>1.544004</td>\n",
       "      <td>NaN</td>\n",
       "      <td>1.942326</td>\n",
       "      <td>18.887442</td>\n",
       "      <td>12.926512</td>\n",
       "      <td>14.746047</td>\n",
       "      <td>14.187907</td>\n",
       "    </tr>\n",
       "    <tr>\n",
       "      <th>2</th>\n",
       "      <td>13295</td>\n",
       "      <td>20316</td>\n",
       "      <td>17.531942</td>\n",
       "      <td>21.280834</td>\n",
       "      <td>15.760821</td>\n",
       "      <td>5.766820</td>\n",
       "      <td>2.674467</td>\n",
       "      <td>1.622233</td>\n",
       "      <td>15.315250</td>\n",
       "      <td>2.404949</td>\n",
       "      <td>8.207725</td>\n",
       "      <td>1.901274</td>\n",
       "      <td>19.825486</td>\n",
       "      <td>13.285570</td>\n",
       "      <td>14.830811</td>\n",
       "      <td>13.430026</td>\n",
       "    </tr>\n",
       "    <tr>\n",
       "      <th>3</th>\n",
       "      <td>13297</td>\n",
       "      <td>22524</td>\n",
       "      <td>15.923361</td>\n",
       "      <td>17.031771</td>\n",
       "      <td>5.540083</td>\n",
       "      <td>4.975906</td>\n",
       "      <td>2.358088</td>\n",
       "      <td>1.048283</td>\n",
       "      <td>12.468713</td>\n",
       "      <td>5.465659</td>\n",
       "      <td>NaN</td>\n",
       "      <td>0.754457</td>\n",
       "      <td>19.918386</td>\n",
       "      <td>14.373836</td>\n",
       "      <td>14.778348</td>\n",
       "      <td>12.016750</td>\n",
       "    </tr>\n",
       "    <tr>\n",
       "      <th>4</th>\n",
       "      <td>13299</td>\n",
       "      <td>17767</td>\n",
       "      <td>25.701757</td>\n",
       "      <td>18.143196</td>\n",
       "      <td>17.397521</td>\n",
       "      <td>10.828121</td>\n",
       "      <td>4.069023</td>\n",
       "      <td>3.035124</td>\n",
       "      <td>15.344823</td>\n",
       "      <td>5.759225</td>\n",
       "      <td>NaN</td>\n",
       "      <td>7.139893</td>\n",
       "      <td>22.755816</td>\n",
       "      <td>12.063958</td>\n",
       "      <td>13.712689</td>\n",
       "      <td>12.570196</td>\n",
       "    </tr>\n",
       "  </tbody>\n",
       "</table>\n",
       "</div>"
      ],
      "text/plain": [
       "    fips per_capita_income  percent_below_poverty  \\\n",
       "0  13291             21240              19.038755   \n",
       "1  13293             17193              21.039208   \n",
       "2  13295             20316              17.531942   \n",
       "3  13297             22524              15.923361   \n",
       "4  13299             17767              25.701757   \n",
       "\n",
       "   percent_no_highschool_diploma  percent_mobile_homes  percent_no_vehicle  \\\n",
       "0                      15.668938             16.550573            6.688326   \n",
       "1                      24.885070             13.797291            9.577662   \n",
       "2                      21.280834             15.760821            5.766820   \n",
       "3                      17.031771              5.540083            4.975906   \n",
       "4                      18.143196             17.397521           10.828121   \n",
       "\n",
       "   percent_overcrowding  percent_multi_unit_housing  percent_age_65_and_older  \\\n",
       "0                   NaN                    2.509570                 27.787138   \n",
       "1              4.133307                    1.273624                 16.260465   \n",
       "2              2.674467                    1.622233                 15.315250   \n",
       "3              2.358088                    1.048283                 12.468713   \n",
       "4              4.069023                    3.035124                 15.344823   \n",
       "\n",
       "   percent_limited_english_abilities  percent_minorities  \\\n",
       "0                           5.541513                 NaN   \n",
       "1                           1.544004                 NaN   \n",
       "2                           2.404949            8.207725   \n",
       "3                           5.465659                 NaN   \n",
       "4                           5.759225                 NaN   \n",
       "\n",
       "   percent_institutionalized_in_group_quarters  percent_age_18_to_34  \\\n",
       "0                                     1.900215             13.891229   \n",
       "1                                     1.942326             18.887442   \n",
       "2                                     1.901274             19.825486   \n",
       "3                                     0.754457             19.918386   \n",
       "4                                     7.139893             22.755816   \n",
       "\n",
       "   percent_age_35_to_44  percent_age_45_to_54  percent_age_55_to_64  \n",
       "0              9.894224             13.591688             16.947487  \n",
       "1             12.926512             14.746047             14.187907  \n",
       "2             13.285570             14.830811             13.430026  \n",
       "3             14.373836             14.778348             12.016750  \n",
       "4             12.063958             13.712689             12.570196  "
      ]
     },
     "execution_count": 108,
     "metadata": {},
     "output_type": "execute_result"
    }
   ],
   "source": [
    "df.head()"
   ]
  },
  {
   "cell_type": "code",
   "execution_count": 109,
   "id": "9ee5d6d3-6642-4cd7-8bcf-b966a22230a4",
   "metadata": {},
   "outputs": [
    {
     "data": {
      "text/html": [
       "<div>\n",
       "<style scoped>\n",
       "    .dataframe tbody tr th:only-of-type {\n",
       "        vertical-align: middle;\n",
       "    }\n",
       "\n",
       "    .dataframe tbody tr th {\n",
       "        vertical-align: top;\n",
       "    }\n",
       "\n",
       "    .dataframe thead th {\n",
       "        text-align: right;\n",
       "    }\n",
       "</style>\n",
       "<table border=\"1\" class=\"dataframe\">\n",
       "  <thead>\n",
       "    <tr style=\"text-align: right;\">\n",
       "      <th></th>\n",
       "      <th>fips</th>\n",
       "      <th>per_capita_income</th>\n",
       "      <th>percent_below_poverty</th>\n",
       "      <th>percent_no_highschool_diploma</th>\n",
       "      <th>percent_mobile_homes</th>\n",
       "      <th>percent_no_vehicle</th>\n",
       "      <th>percent_overcrowding</th>\n",
       "      <th>percent_multi_unit_housing</th>\n",
       "      <th>percent_age_65_and_older</th>\n",
       "      <th>percent_limited_english_abilities</th>\n",
       "      <th>percent_minorities</th>\n",
       "      <th>percent_institutionalized_in_group_quarters</th>\n",
       "      <th>percent_age_18_to_34</th>\n",
       "      <th>percent_age_35_to_44</th>\n",
       "      <th>percent_age_45_to_54</th>\n",
       "      <th>percent_age_55_to_64</th>\n",
       "    </tr>\n",
       "  </thead>\n",
       "  <tbody>\n",
       "    <tr>\n",
       "      <th>1515</th>\n",
       "      <td>01001</td>\n",
       "      <td>24288</td>\n",
       "      <td>13.259759</td>\n",
       "      <td>16.503259</td>\n",
       "      <td>20.691418</td>\n",
       "      <td>5.669717</td>\n",
       "      <td>3.684816</td>\n",
       "      <td>2.994388</td>\n",
       "      <td>12.848858</td>\n",
       "      <td>2.604419</td>\n",
       "      <td>NaN</td>\n",
       "      <td>0.766582</td>\n",
       "      <td>20.416818</td>\n",
       "      <td>14.534252</td>\n",
       "      <td>15.166727</td>\n",
       "      <td>10.840884</td>\n",
       "    </tr>\n",
       "    <tr>\n",
       "      <th>1516</th>\n",
       "      <td>01003</td>\n",
       "      <td>26854</td>\n",
       "      <td>13.223561</td>\n",
       "      <td>11.200963</td>\n",
       "      <td>12.849701</td>\n",
       "      <td>3.388881</td>\n",
       "      <td>1.517552</td>\n",
       "      <td>18.532413</td>\n",
       "      <td>17.147594</td>\n",
       "      <td>5.644504</td>\n",
       "      <td>NaN</td>\n",
       "      <td>1.329661</td>\n",
       "      <td>19.069879</td>\n",
       "      <td>12.691145</td>\n",
       "      <td>14.513946</td>\n",
       "      <td>13.790816</td>\n",
       "    </tr>\n",
       "    <tr>\n",
       "      <th>1517</th>\n",
       "      <td>01005</td>\n",
       "      <td>16337</td>\n",
       "      <td>25.561694</td>\n",
       "      <td>26.584544</td>\n",
       "      <td>23.726108</td>\n",
       "      <td>9.427464</td>\n",
       "      <td>NaN</td>\n",
       "      <td>0.987842</td>\n",
       "      <td>14.912249</td>\n",
       "      <td>4.311749</td>\n",
       "      <td>NaN</td>\n",
       "      <td>10.478877</td>\n",
       "      <td>22.045946</td>\n",
       "      <td>13.955959</td>\n",
       "      <td>14.446928</td>\n",
       "      <td>13.113252</td>\n",
       "    </tr>\n",
       "    <tr>\n",
       "      <th>1518</th>\n",
       "      <td>01007</td>\n",
       "      <td>15270</td>\n",
       "      <td>21.978996</td>\n",
       "      <td>28.814993</td>\n",
       "      <td>32.850738</td>\n",
       "      <td>3.264387</td>\n",
       "      <td>NaN</td>\n",
       "      <td>NaN</td>\n",
       "      <td>13.887300</td>\n",
       "      <td>1.757477</td>\n",
       "      <td>NaN</td>\n",
       "      <td>5.810936</td>\n",
       "      <td>22.641094</td>\n",
       "      <td>13.803721</td>\n",
       "      <td>15.466502</td>\n",
       "      <td>11.353539</td>\n",
       "    </tr>\n",
       "    <tr>\n",
       "      <th>1519</th>\n",
       "      <td>01009</td>\n",
       "      <td>20304</td>\n",
       "      <td>15.615153</td>\n",
       "      <td>24.195808</td>\n",
       "      <td>21.557495</td>\n",
       "      <td>3.690072</td>\n",
       "      <td>1.274066</td>\n",
       "      <td>1.390343</td>\n",
       "      <td>15.273055</td>\n",
       "      <td>7.239677</td>\n",
       "      <td>NaN</td>\n",
       "      <td>1.002706</td>\n",
       "      <td>19.986469</td>\n",
       "      <td>13.369995</td>\n",
       "      <td>14.079523</td>\n",
       "      <td>13.078551</td>\n",
       "    </tr>\n",
       "  </tbody>\n",
       "</table>\n",
       "</div>"
      ],
      "text/plain": [
       "       fips per_capita_income  percent_below_poverty  \\\n",
       "1515  01001             24288              13.259759   \n",
       "1516  01003             26854              13.223561   \n",
       "1517  01005             16337              25.561694   \n",
       "1518  01007             15270              21.978996   \n",
       "1519  01009             20304              15.615153   \n",
       "\n",
       "      percent_no_highschool_diploma  percent_mobile_homes  percent_no_vehicle  \\\n",
       "1515                      16.503259             20.691418            5.669717   \n",
       "1516                      11.200963             12.849701            3.388881   \n",
       "1517                      26.584544             23.726108            9.427464   \n",
       "1518                      28.814993             32.850738            3.264387   \n",
       "1519                      24.195808             21.557495            3.690072   \n",
       "\n",
       "      percent_overcrowding  percent_multi_unit_housing  \\\n",
       "1515              3.684816                    2.994388   \n",
       "1516              1.517552                   18.532413   \n",
       "1517                   NaN                    0.987842   \n",
       "1518                   NaN                         NaN   \n",
       "1519              1.274066                    1.390343   \n",
       "\n",
       "      percent_age_65_and_older  percent_limited_english_abilities  \\\n",
       "1515                 12.848858                           2.604419   \n",
       "1516                 17.147594                           5.644504   \n",
       "1517                 14.912249                           4.311749   \n",
       "1518                 13.887300                           1.757477   \n",
       "1519                 15.273055                           7.239677   \n",
       "\n",
       "      percent_minorities  percent_institutionalized_in_group_quarters  \\\n",
       "1515                 NaN                                     0.766582   \n",
       "1516                 NaN                                     1.329661   \n",
       "1517                 NaN                                    10.478877   \n",
       "1518                 NaN                                     5.810936   \n",
       "1519                 NaN                                     1.002706   \n",
       "\n",
       "      percent_age_18_to_34  percent_age_35_to_44  percent_age_45_to_54  \\\n",
       "1515             20.416818             14.534252             15.166727   \n",
       "1516             19.069879             12.691145             14.513946   \n",
       "1517             22.045946             13.955959             14.446928   \n",
       "1518             22.641094             13.803721             15.466502   \n",
       "1519             19.986469             13.369995             14.079523   \n",
       "\n",
       "      percent_age_55_to_64  \n",
       "1515             10.840884  \n",
       "1516             13.790816  \n",
       "1517             13.113252  \n",
       "1518             11.353539  \n",
       "1519             13.078551  "
      ]
     },
     "execution_count": 109,
     "metadata": {},
     "output_type": "execute_result"
    }
   ],
   "source": [
    "df = df.sort_values('fips')\n",
    "df.head()"
   ]
  },
  {
   "cell_type": "code",
   "execution_count": 110,
   "id": "e71a412f-110f-413e-bb0f-db2f9dd71ea4",
   "metadata": {},
   "outputs": [],
   "source": [
    "df.to_csv('SDoH_3years/Social_Economic_3years_2012.csv')"
   ]
  },
  {
   "cell_type": "code",
   "execution_count": null,
   "id": "37ed9bf1-115d-4c43-9e7d-b07bb7fdaf85",
   "metadata": {},
   "outputs": [],
   "source": []
  },
  {
   "cell_type": "code",
   "execution_count": null,
   "id": "c7bed9e1-5e20-4643-97df-44f9b42f6fcc",
   "metadata": {},
   "outputs": [],
   "source": []
  },
  {
   "cell_type": "code",
   "execution_count": null,
   "id": "e16f5171-7956-41a4-a6f6-333c3bb1446b",
   "metadata": {},
   "outputs": [],
   "source": []
  }
 ],
 "metadata": {
  "kernelspec": {
   "display_name": "MyEnv",
   "language": "python",
   "name": "myenv"
  },
  "language_info": {
   "codemirror_mode": {
    "name": "ipython",
    "version": 3
   },
   "file_extension": ".py",
   "mimetype": "text/x-python",
   "name": "python",
   "nbconvert_exporter": "python",
   "pygments_lexer": "ipython3",
   "version": "3.7.11"
  }
 },
 "nbformat": 4,
 "nbformat_minor": 5
}
