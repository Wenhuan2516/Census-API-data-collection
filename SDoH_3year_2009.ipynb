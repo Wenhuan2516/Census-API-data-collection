{
 "cells": [
  {
   "cell_type": "code",
   "execution_count": 1,
   "id": "1ceae829-a03e-466e-9656-2a34dbac8e37",
   "metadata": {},
   "outputs": [],
   "source": [
    "import pandas as pd\n",
    "import numpy as np\n",
    "import matplotlib.pyplot as plt\n",
    "import dask.dataframe as ddf\n",
    "from pandas import Series, DataFrame\n",
    "%matplotlib inline"
   ]
  },
  {
   "cell_type": "code",
   "execution_count": 2,
   "id": "331165ba-98cf-46d9-8529-d0a720926159",
   "metadata": {},
   "outputs": [],
   "source": [
    "import seaborn as sn\n",
    "import plotly.express as px"
   ]
  },
  {
   "cell_type": "markdown",
   "id": "7e4454ad-3fe4-4bb7-b924-8fcf489f2803",
   "metadata": {},
   "source": [
    "### Request for Census Tract Level Population data from Census API"
   ]
  },
  {
   "cell_type": "code",
   "execution_count": 3,
   "id": "c29f7104-19c9-49cf-9161-e5d226f6481c",
   "metadata": {},
   "outputs": [],
   "source": [
    "stateCode = ['01', '02', '04', '05', '06', '08', '09', '10', '11', '12', '13', '15', '16',\n",
    "             '17', '18', '19', '20', '21', '22', '23', '24', '25', '26', '27', '28', '29',\n",
    "            '30', '31', '32', '33', '34', '35', '36', '37', '38', '39', '40', '41', '42', \n",
    "             '44', '45', '46', '47', '48', '49', '50', '51', '53', '54', '55', '56']"
   ]
  },
  {
   "cell_type": "code",
   "execution_count": 4,
   "id": "0178df59-4807-43ba-a82b-9ac9fde763f4",
   "metadata": {},
   "outputs": [
    {
     "data": {
      "text/plain": [
       "51"
      ]
     },
     "execution_count": 4,
     "metadata": {},
     "output_type": "execute_result"
    }
   ],
   "source": [
    "len(stateCode)"
   ]
  },
  {
   "cell_type": "code",
   "execution_count": 5,
   "id": "0767a76a-e446-4a73-a850-7861f44c5f9c",
   "metadata": {},
   "outputs": [],
   "source": [
    "import requests\n",
    "import pandas as pd\n",
    "from datetime import datetime\n",
    "import time\n",
    "import json\n",
    "from io import StringIO"
   ]
  },
  {
   "cell_type": "code",
   "execution_count": 6,
   "id": "d9dc7da1-6aa4-4484-ba06-53ae6f7b9d67",
   "metadata": {},
   "outputs": [],
   "source": [
    "def collectAll_county(year, variables):\n",
    "    basic_url = 'https://api.census.gov/data/' + year + '/acs/acs3?get=NAME,'+ variables + '&for=county:*&in=state:*&key=250f58e35283d400e4185b197e3abe9021079afe'\n",
    "    r = requests.get(basic_url)\n",
    "    x = r.json()\n",
    "    print(x[0])\n",
    "    variable_list = variables.split(',')\n",
    "    column_list = ['county_name']\n",
    "    for item in variable_list:\n",
    "        column_list.append(item)\n",
    "    column_list.append('state code')\n",
    "    column_list.append('county code')\n",
    "    df = pd.DataFrame(x[1:])\n",
    "    df.columns = column_list\n",
    "    return df"
   ]
  },
  {
   "cell_type": "markdown",
   "id": "2cf40e7f-4f06-4d86-b47e-a4418022d334",
   "metadata": {},
   "source": [
    "#### Total population: B01003_001E"
   ]
  },
  {
   "cell_type": "code",
   "execution_count": 7,
   "id": "6c80f31f-3474-4c99-9d06-094da34df9d2",
   "metadata": {},
   "outputs": [],
   "source": [
    "year = '2009'\n",
    "variables = 'B01003_001E'"
   ]
  },
  {
   "cell_type": "code",
   "execution_count": 8,
   "id": "1c3cbc10-f564-4d44-94ee-24486b705c9c",
   "metadata": {},
   "outputs": [
    {
     "name": "stdout",
     "output_type": "stream",
     "text": [
      "['NAME', 'B01003_001E', 'state', 'county']\n"
     ]
    },
    {
     "data": {
      "text/html": [
       "<div>\n",
       "<style scoped>\n",
       "    .dataframe tbody tr th:only-of-type {\n",
       "        vertical-align: middle;\n",
       "    }\n",
       "\n",
       "    .dataframe tbody tr th {\n",
       "        vertical-align: top;\n",
       "    }\n",
       "\n",
       "    .dataframe thead th {\n",
       "        text-align: right;\n",
       "    }\n",
       "</style>\n",
       "<table border=\"1\" class=\"dataframe\">\n",
       "  <thead>\n",
       "    <tr style=\"text-align: right;\">\n",
       "      <th></th>\n",
       "      <th>county_name</th>\n",
       "      <th>B01003_001E</th>\n",
       "      <th>state code</th>\n",
       "      <th>county code</th>\n",
       "    </tr>\n",
       "  </thead>\n",
       "  <tbody>\n",
       "    <tr>\n",
       "      <th>0</th>\n",
       "      <td>Autauga County, Alabama</td>\n",
       "      <td>50315</td>\n",
       "      <td>01</td>\n",
       "      <td>001</td>\n",
       "    </tr>\n",
       "    <tr>\n",
       "      <th>1</th>\n",
       "      <td>Baldwin County, Alabama</td>\n",
       "      <td>176302</td>\n",
       "      <td>01</td>\n",
       "      <td>003</td>\n",
       "    </tr>\n",
       "    <tr>\n",
       "      <th>2</th>\n",
       "      <td>Barbour County, Alabama</td>\n",
       "      <td>29770</td>\n",
       "      <td>01</td>\n",
       "      <td>005</td>\n",
       "    </tr>\n",
       "    <tr>\n",
       "      <th>3</th>\n",
       "      <td>Bibb County, Alabama</td>\n",
       "      <td>21554</td>\n",
       "      <td>01</td>\n",
       "      <td>007</td>\n",
       "    </tr>\n",
       "    <tr>\n",
       "      <th>4</th>\n",
       "      <td>Blount County, Alabama</td>\n",
       "      <td>57668</td>\n",
       "      <td>01</td>\n",
       "      <td>009</td>\n",
       "    </tr>\n",
       "  </tbody>\n",
       "</table>\n",
       "</div>"
      ],
      "text/plain": [
       "               county_name B01003_001E state code county code\n",
       "0  Autauga County, Alabama       50315         01         001\n",
       "1  Baldwin County, Alabama      176302         01         003\n",
       "2  Barbour County, Alabama       29770         01         005\n",
       "3     Bibb County, Alabama       21554         01         007\n",
       "4   Blount County, Alabama       57668         01         009"
      ]
     },
     "execution_count": 8,
     "metadata": {},
     "output_type": "execute_result"
    }
   ],
   "source": [
    "pop_09 = collectAll_county(year,variables)\n",
    "pop_09.head()"
   ]
  },
  {
   "cell_type": "code",
   "execution_count": 9,
   "id": "f0c3f3ea-2b57-4b94-8a49-de9648453f76",
   "metadata": {},
   "outputs": [
    {
     "data": {
      "text/plain": [
       "(1888, 4)"
      ]
     },
     "execution_count": 9,
     "metadata": {},
     "output_type": "execute_result"
    }
   ],
   "source": [
    "pop_09.shape"
   ]
  },
  {
   "cell_type": "markdown",
   "id": "60163fad-ec5e-4e88-9f4a-8842397bedfb",
   "metadata": {},
   "source": [
    "#### 1.per capita income: B19301_001E"
   ]
  },
  {
   "cell_type": "code",
   "execution_count": 10,
   "id": "5be9c9d4-1b1e-4cac-87ef-67af4321d3d1",
   "metadata": {},
   "outputs": [
    {
     "name": "stdout",
     "output_type": "stream",
     "text": [
      "['NAME', 'B19301_001E', 'state', 'county']\n"
     ]
    }
   ],
   "source": [
    "variables = 'B19301_001E'\n",
    "df1 = collectAll_county(year,variables)"
   ]
  },
  {
   "cell_type": "code",
   "execution_count": 11,
   "id": "2c56e829-7a86-4f8f-bac9-fcb7861ab45a",
   "metadata": {},
   "outputs": [
    {
     "data": {
      "text/plain": [
       "(1888, 4)"
      ]
     },
     "execution_count": 11,
     "metadata": {},
     "output_type": "execute_result"
    }
   ],
   "source": [
    "df1.shape"
   ]
  },
  {
   "cell_type": "code",
   "execution_count": 12,
   "id": "36bfc372-bdf7-43bf-8885-8fba42110dcf",
   "metadata": {},
   "outputs": [
    {
     "data": {
      "text/html": [
       "<div>\n",
       "<style scoped>\n",
       "    .dataframe tbody tr th:only-of-type {\n",
       "        vertical-align: middle;\n",
       "    }\n",
       "\n",
       "    .dataframe tbody tr th {\n",
       "        vertical-align: top;\n",
       "    }\n",
       "\n",
       "    .dataframe thead th {\n",
       "        text-align: right;\n",
       "    }\n",
       "</style>\n",
       "<table border=\"1\" class=\"dataframe\">\n",
       "  <thead>\n",
       "    <tr style=\"text-align: right;\">\n",
       "      <th></th>\n",
       "      <th>county_name</th>\n",
       "      <th>per_capita_income</th>\n",
       "      <th>state code</th>\n",
       "      <th>county code</th>\n",
       "      <th>fips</th>\n",
       "    </tr>\n",
       "  </thead>\n",
       "  <tbody>\n",
       "    <tr>\n",
       "      <th>0</th>\n",
       "      <td>Lincoln County, Oklahoma</td>\n",
       "      <td>20457</td>\n",
       "      <td>40</td>\n",
       "      <td>081</td>\n",
       "      <td>40081</td>\n",
       "    </tr>\n",
       "    <tr>\n",
       "      <th>1</th>\n",
       "      <td>Logan County, Oklahoma</td>\n",
       "      <td>23122</td>\n",
       "      <td>40</td>\n",
       "      <td>083</td>\n",
       "      <td>40083</td>\n",
       "    </tr>\n",
       "    <tr>\n",
       "      <th>2</th>\n",
       "      <td>McClain County, Oklahoma</td>\n",
       "      <td>23358</td>\n",
       "      <td>40</td>\n",
       "      <td>087</td>\n",
       "      <td>40087</td>\n",
       "    </tr>\n",
       "    <tr>\n",
       "      <th>3</th>\n",
       "      <td>McCurtain County, Oklahoma</td>\n",
       "      <td>17394</td>\n",
       "      <td>40</td>\n",
       "      <td>089</td>\n",
       "      <td>40089</td>\n",
       "    </tr>\n",
       "    <tr>\n",
       "      <th>4</th>\n",
       "      <td>Mayes County, Oklahoma</td>\n",
       "      <td>19456</td>\n",
       "      <td>40</td>\n",
       "      <td>097</td>\n",
       "      <td>40097</td>\n",
       "    </tr>\n",
       "  </tbody>\n",
       "</table>\n",
       "</div>"
      ],
      "text/plain": [
       "                  county_name per_capita_income state code county code   fips\n",
       "0    Lincoln County, Oklahoma             20457         40         081  40081\n",
       "1      Logan County, Oklahoma             23122         40         083  40083\n",
       "2    McClain County, Oklahoma             23358         40         087  40087\n",
       "3  McCurtain County, Oklahoma             17394         40         089  40089\n",
       "4      Mayes County, Oklahoma             19456         40         097  40097"
      ]
     },
     "execution_count": 12,
     "metadata": {},
     "output_type": "execute_result"
    }
   ],
   "source": [
    "df1 = df1.rename(columns = {'B19301_001E': 'per_capita_income'})\n",
    "df1['fips'] = df1['state code'] + df1['county code']\n",
    "df1.head()"
   ]
  },
  {
   "cell_type": "markdown",
   "id": "20e579a0-3071-459e-9389-37b5c7699577",
   "metadata": {},
   "source": [
    "#### 2.Percent of Population Below Poverty Level: (C17002_002E+C17002_003E)/C17002_001E"
   ]
  },
  {
   "cell_type": "code",
   "execution_count": 13,
   "id": "26ecf325-eb30-4168-a61f-cae373c3a0da",
   "metadata": {},
   "outputs": [
    {
     "name": "stdout",
     "output_type": "stream",
     "text": [
      "['NAME', 'C17002_002E', 'C17002_003E', 'C17002_001E', 'state', 'county']\n"
     ]
    }
   ],
   "source": [
    "variables = 'C17002_002E,C17002_003E,C17002_001E'\n",
    "df2 = collectAll_county(year,variables)"
   ]
  },
  {
   "cell_type": "code",
   "execution_count": 14,
   "id": "af388139-f295-4ea8-8cda-a7f3f9cf07f5",
   "metadata": {},
   "outputs": [],
   "source": [
    "df2['C17002_002E'] = df2['C17002_002E'].astype('int')\n",
    "df2['C17002_003E'] = df2['C17002_003E'].astype('int')\n",
    "df2['C17002_001E'] = df2['C17002_001E'].astype('int')"
   ]
  },
  {
   "cell_type": "code",
   "execution_count": 15,
   "id": "b05ccb73-f46d-48ab-86d9-0a05a0768e36",
   "metadata": {},
   "outputs": [],
   "source": [
    "df2['percent_below_poverty'] = ((df2['C17002_002E'] + df2['C17002_003E'])/df2['C17002_001E'])*100"
   ]
  },
  {
   "cell_type": "code",
   "execution_count": 16,
   "id": "07d65dd3-cfe5-4fc9-91cf-c077b6c98d2f",
   "metadata": {},
   "outputs": [
    {
     "data": {
      "text/html": [
       "<div>\n",
       "<style scoped>\n",
       "    .dataframe tbody tr th:only-of-type {\n",
       "        vertical-align: middle;\n",
       "    }\n",
       "\n",
       "    .dataframe tbody tr th {\n",
       "        vertical-align: top;\n",
       "    }\n",
       "\n",
       "    .dataframe thead th {\n",
       "        text-align: right;\n",
       "    }\n",
       "</style>\n",
       "<table border=\"1\" class=\"dataframe\">\n",
       "  <thead>\n",
       "    <tr style=\"text-align: right;\">\n",
       "      <th></th>\n",
       "      <th>county_name</th>\n",
       "      <th>C17002_002E</th>\n",
       "      <th>C17002_003E</th>\n",
       "      <th>C17002_001E</th>\n",
       "      <th>state code</th>\n",
       "      <th>county code</th>\n",
       "      <th>percent_below_poverty</th>\n",
       "      <th>fips</th>\n",
       "    </tr>\n",
       "  </thead>\n",
       "  <tbody>\n",
       "    <tr>\n",
       "      <th>0</th>\n",
       "      <td>Montgomery County, Maryland</td>\n",
       "      <td>23199</td>\n",
       "      <td>32678</td>\n",
       "      <td>946697</td>\n",
       "      <td>24</td>\n",
       "      <td>031</td>\n",
       "      <td>5.902311</td>\n",
       "      <td>24031</td>\n",
       "    </tr>\n",
       "    <tr>\n",
       "      <th>1</th>\n",
       "      <td>Prince George's County, Maryland</td>\n",
       "      <td>29640</td>\n",
       "      <td>28868</td>\n",
       "      <td>809053</td>\n",
       "      <td>24</td>\n",
       "      <td>033</td>\n",
       "      <td>7.231665</td>\n",
       "      <td>24033</td>\n",
       "    </tr>\n",
       "    <tr>\n",
       "      <th>2</th>\n",
       "      <td>Queen Anne's County, Maryland</td>\n",
       "      <td>891</td>\n",
       "      <td>1474</td>\n",
       "      <td>46649</td>\n",
       "      <td>24</td>\n",
       "      <td>035</td>\n",
       "      <td>5.069776</td>\n",
       "      <td>24035</td>\n",
       "    </tr>\n",
       "    <tr>\n",
       "      <th>3</th>\n",
       "      <td>St. Mary's County, Maryland</td>\n",
       "      <td>4124</td>\n",
       "      <td>3742</td>\n",
       "      <td>98612</td>\n",
       "      <td>24</td>\n",
       "      <td>037</td>\n",
       "      <td>7.976717</td>\n",
       "      <td>24037</td>\n",
       "    </tr>\n",
       "    <tr>\n",
       "      <th>4</th>\n",
       "      <td>Somerset County, Maryland</td>\n",
       "      <td>1755</td>\n",
       "      <td>1632</td>\n",
       "      <td>19783</td>\n",
       "      <td>24</td>\n",
       "      <td>039</td>\n",
       "      <td>17.120760</td>\n",
       "      <td>24039</td>\n",
       "    </tr>\n",
       "  </tbody>\n",
       "</table>\n",
       "</div>"
      ],
      "text/plain": [
       "                        county_name  C17002_002E  C17002_003E  C17002_001E  \\\n",
       "0       Montgomery County, Maryland        23199        32678       946697   \n",
       "1  Prince George's County, Maryland        29640        28868       809053   \n",
       "2     Queen Anne's County, Maryland          891         1474        46649   \n",
       "3       St. Mary's County, Maryland         4124         3742        98612   \n",
       "4         Somerset County, Maryland         1755         1632        19783   \n",
       "\n",
       "  state code county code  percent_below_poverty   fips  \n",
       "0         24         031               5.902311  24031  \n",
       "1         24         033               7.231665  24033  \n",
       "2         24         035               5.069776  24035  \n",
       "3         24         037               7.976717  24037  \n",
       "4         24         039              17.120760  24039  "
      ]
     },
     "execution_count": 16,
     "metadata": {},
     "output_type": "execute_result"
    }
   ],
   "source": [
    "df2['fips'] = df2['state code'] + df2['county code']\n",
    "df2.head()"
   ]
  },
  {
   "cell_type": "code",
   "execution_count": 17,
   "id": "fab4ae9e-48cb-4bc6-981f-cf9640035bf8",
   "metadata": {},
   "outputs": [
    {
     "data": {
      "text/plain": [
       "(1888, 8)"
      ]
     },
     "execution_count": 17,
     "metadata": {},
     "output_type": "execute_result"
    }
   ],
   "source": [
    "df2.shape"
   ]
  },
  {
   "cell_type": "markdown",
   "id": "ff2773ce-bbd4-4af5-b139-167dfacd87b3",
   "metadata": {},
   "source": [
    "#### 3.Percent of Population 25+ with Less than a 12th Grade Education: (B15002_003E,B15002_004E,B15002_005E,B15002_003E,B15002_006E,B15002_007E,B15002_008E,B15002_009E,B15002_010E,B15002_020E,B15002_021E,B15002_022E,B15002_023E,B15002_024E,B15002_025E,B15002_026E,B15002_027E)/B15003_001E"
   ]
  },
  {
   "cell_type": "code",
   "execution_count": 18,
   "id": "f74fbcc1-230e-43ae-a328-403cf0170abf",
   "metadata": {},
   "outputs": [],
   "source": [
    "def collectAll_county2(year, variables):\n",
    "    basic_url = 'https://api.census.gov/data/' + year + '/acs/acs1?get=NAME,'+ variables + '&for=county:*&in=state:*'\n",
    "    r = requests.get(basic_url)\n",
    "    x = r.json()\n",
    "    print(x[0])\n",
    "    variable_list = variables.split(',')\n",
    "    column_list = ['county_name']\n",
    "    for item in variable_list:\n",
    "        column_list.append(item)\n",
    "    column_list.append('state code')\n",
    "    column_list.append('county code')\n",
    "    df = pd.DataFrame(x[1:])\n",
    "    df.columns = column_list\n",
    "    return df"
   ]
  },
  {
   "cell_type": "code",
   "execution_count": 19,
   "id": "4dce7e7d-55ac-4065-a65a-0bc55367a58b",
   "metadata": {},
   "outputs": [
    {
     "name": "stdout",
     "output_type": "stream",
     "text": [
      "['NAME', 'B15002_003E', 'B15002_004E', 'B15002_005E', 'B15002_006E', 'B15002_007E', 'B15002_008E', 'B15002_009E', 'B15002_010E', 'B15002_020E', 'B15002_021E', 'B15002_022E', 'B15002_023E', 'B15002_024E', 'B15002_025E', 'B15002_026E', 'B15002_027E', 'B15002_001E', 'state', 'county']\n"
     ]
    }
   ],
   "source": [
    "variables = 'B15002_003E,B15002_004E,B15002_005E,B15002_006E,B15002_007E,B15002_008E,B15002_009E,B15002_010E,B15002_020E,B15002_021E,B15002_022E,B15002_023E,B15002_024E,B15002_025E,B15002_026E,B15002_027E,B15002_001E'\n",
    "df3 = collectAll_county(year,variables)"
   ]
  },
  {
   "cell_type": "code",
   "execution_count": 20,
   "id": "b5d87626-551f-44f6-8814-8cd148424b59",
   "metadata": {},
   "outputs": [
    {
     "data": {
      "text/plain": [
       "(1888, 20)"
      ]
     },
     "execution_count": 20,
     "metadata": {},
     "output_type": "execute_result"
    }
   ],
   "source": [
    "df3.shape"
   ]
  },
  {
   "cell_type": "code",
   "execution_count": 21,
   "id": "12beeedf-46a1-4ae9-ba56-8989e86c05d7",
   "metadata": {},
   "outputs": [],
   "source": [
    "def changeInteger(value):\n",
    "    if value != None:\n",
    "        return int(value)\n",
    "    else:\n",
    "        return np.nan"
   ]
  },
  {
   "cell_type": "code",
   "execution_count": 22,
   "id": "6de4e5bd-4da3-4617-9211-c07583bce770",
   "metadata": {},
   "outputs": [],
   "source": [
    "df3['B15002_003E'] = df3['B15002_003E'].apply(changeInteger)\n",
    "df3['B15002_004E'] = df3['B15002_004E'].apply(changeInteger)\n",
    "df3['B15002_005E'] = df3['B15002_005E'].apply(changeInteger)\n",
    "df3['B15002_006E'] = df3['B15002_006E'].apply(changeInteger)\n",
    "df3['B15002_007E'] = df3['B15002_007E'].apply(changeInteger)\n",
    "df3['B15002_008E'] = df3['B15002_008E'].apply(changeInteger)\n",
    "df3['B15002_009E'] = df3['B15002_009E'].apply(changeInteger)\n",
    "df3['B15002_010E'] = df3['B15002_010E'].apply(changeInteger)\n",
    "df3['B15002_020E'] = df3['B15002_020E'].apply(changeInteger)\n",
    "df3['B15002_021E'] = df3['B15002_021E'].apply(changeInteger)\n",
    "df3['B15002_022E'] = df3['B15002_022E'].apply(changeInteger)\n",
    "df3['B15002_023E'] = df3['B15002_023E'].apply(changeInteger)\n",
    "df3['B15002_024E'] = df3['B15002_024E'].apply(changeInteger)\n",
    "df3['B15002_025E'] = df3['B15002_025E'].apply(changeInteger)\n",
    "df3['B15002_026E'] = df3['B15002_026E'].apply(changeInteger)\n",
    "df3['B15002_027E'] = df3['B15002_027E'].apply(changeInteger)\n",
    "df3['B15002_001E'] = df3['B15002_001E'].apply(changeInteger)"
   ]
  },
  {
   "cell_type": "code",
   "execution_count": 23,
   "id": "f70ce502-8e2b-4228-a121-5a617bfc4b49",
   "metadata": {},
   "outputs": [],
   "source": [
    "df3['percent_no_highschool_diploma'] = ((df3['B15002_003E']+df3['B15002_004E']+df3['B15002_005E']+df3['B15002_006E']+df3['B15002_007E']+df3['B15002_008E']+df3['B15002_009E']\n",
    "                                       +df3['B15002_010E']+df3['B15002_020E']+df3['B15002_021E']+df3['B15002_022E']+df3['B15002_023E']+df3['B15002_024E']+df3['B15002_025E']+df3['B15002_003E']\n",
    "                                       +df3['B15002_026E']+df3['B15002_027E'])/df3['B15002_001E'])*100"
   ]
  },
  {
   "cell_type": "code",
   "execution_count": 24,
   "id": "54da8218-8404-48da-9676-20d89484b1de",
   "metadata": {},
   "outputs": [
    {
     "data": {
      "text/html": [
       "<div>\n",
       "<style scoped>\n",
       "    .dataframe tbody tr th:only-of-type {\n",
       "        vertical-align: middle;\n",
       "    }\n",
       "\n",
       "    .dataframe tbody tr th {\n",
       "        vertical-align: top;\n",
       "    }\n",
       "\n",
       "    .dataframe thead th {\n",
       "        text-align: right;\n",
       "    }\n",
       "</style>\n",
       "<table border=\"1\" class=\"dataframe\">\n",
       "  <thead>\n",
       "    <tr style=\"text-align: right;\">\n",
       "      <th></th>\n",
       "      <th>county_name</th>\n",
       "      <th>B15002_003E</th>\n",
       "      <th>B15002_004E</th>\n",
       "      <th>B15002_005E</th>\n",
       "      <th>B15002_006E</th>\n",
       "      <th>B15002_007E</th>\n",
       "      <th>B15002_008E</th>\n",
       "      <th>B15002_009E</th>\n",
       "      <th>B15002_010E</th>\n",
       "      <th>B15002_020E</th>\n",
       "      <th>...</th>\n",
       "      <th>B15002_023E</th>\n",
       "      <th>B15002_024E</th>\n",
       "      <th>B15002_025E</th>\n",
       "      <th>B15002_026E</th>\n",
       "      <th>B15002_027E</th>\n",
       "      <th>B15002_001E</th>\n",
       "      <th>state code</th>\n",
       "      <th>county code</th>\n",
       "      <th>percent_no_highschool_diploma</th>\n",
       "      <th>fips</th>\n",
       "    </tr>\n",
       "  </thead>\n",
       "  <tbody>\n",
       "    <tr>\n",
       "      <th>0</th>\n",
       "      <td>Cumberland County, Maine</td>\n",
       "      <td>236.0</td>\n",
       "      <td>79.0</td>\n",
       "      <td>141.0</td>\n",
       "      <td>1100.0</td>\n",
       "      <td>1096.0</td>\n",
       "      <td>1178.0</td>\n",
       "      <td>1285.0</td>\n",
       "      <td>1146.0</td>\n",
       "      <td>533.0</td>\n",
       "      <td>...</td>\n",
       "      <td>1366.0</td>\n",
       "      <td>870.0</td>\n",
       "      <td>1341.0</td>\n",
       "      <td>877.0</td>\n",
       "      <td>901.0</td>\n",
       "      <td>192366.0</td>\n",
       "      <td>23</td>\n",
       "      <td>005</td>\n",
       "      <td>6.727800</td>\n",
       "      <td>23005</td>\n",
       "    </tr>\n",
       "    <tr>\n",
       "      <th>1</th>\n",
       "      <td>Franklin County, Maine</td>\n",
       "      <td>106.0</td>\n",
       "      <td>0.0</td>\n",
       "      <td>45.0</td>\n",
       "      <td>156.0</td>\n",
       "      <td>200.0</td>\n",
       "      <td>460.0</td>\n",
       "      <td>421.0</td>\n",
       "      <td>72.0</td>\n",
       "      <td>24.0</td>\n",
       "      <td>...</td>\n",
       "      <td>381.0</td>\n",
       "      <td>108.0</td>\n",
       "      <td>191.0</td>\n",
       "      <td>268.0</td>\n",
       "      <td>61.0</td>\n",
       "      <td>20481.0</td>\n",
       "      <td>23</td>\n",
       "      <td>007</td>\n",
       "      <td>12.704458</td>\n",
       "      <td>23007</td>\n",
       "    </tr>\n",
       "    <tr>\n",
       "      <th>2</th>\n",
       "      <td>Hancock County, Maine</td>\n",
       "      <td>39.0</td>\n",
       "      <td>8.0</td>\n",
       "      <td>123.0</td>\n",
       "      <td>440.0</td>\n",
       "      <td>380.0</td>\n",
       "      <td>308.0</td>\n",
       "      <td>347.0</td>\n",
       "      <td>136.0</td>\n",
       "      <td>45.0</td>\n",
       "      <td>...</td>\n",
       "      <td>252.0</td>\n",
       "      <td>326.0</td>\n",
       "      <td>401.0</td>\n",
       "      <td>153.0</td>\n",
       "      <td>199.0</td>\n",
       "      <td>38384.0</td>\n",
       "      <td>23</td>\n",
       "      <td>009</td>\n",
       "      <td>8.886515</td>\n",
       "      <td>23009</td>\n",
       "    </tr>\n",
       "    <tr>\n",
       "      <th>3</th>\n",
       "      <td>Kennebec County, Maine</td>\n",
       "      <td>131.0</td>\n",
       "      <td>65.0</td>\n",
       "      <td>169.0</td>\n",
       "      <td>1207.0</td>\n",
       "      <td>681.0</td>\n",
       "      <td>661.0</td>\n",
       "      <td>547.0</td>\n",
       "      <td>489.0</td>\n",
       "      <td>239.0</td>\n",
       "      <td>...</td>\n",
       "      <td>1093.0</td>\n",
       "      <td>580.0</td>\n",
       "      <td>542.0</td>\n",
       "      <td>656.0</td>\n",
       "      <td>360.0</td>\n",
       "      <td>84361.0</td>\n",
       "      <td>23</td>\n",
       "      <td>011</td>\n",
       "      <td>9.352663</td>\n",
       "      <td>23011</td>\n",
       "    </tr>\n",
       "    <tr>\n",
       "      <th>4</th>\n",
       "      <td>Knox County, Maine</td>\n",
       "      <td>33.0</td>\n",
       "      <td>142.0</td>\n",
       "      <td>0.0</td>\n",
       "      <td>663.0</td>\n",
       "      <td>224.0</td>\n",
       "      <td>311.0</td>\n",
       "      <td>149.0</td>\n",
       "      <td>195.0</td>\n",
       "      <td>21.0</td>\n",
       "      <td>...</td>\n",
       "      <td>229.0</td>\n",
       "      <td>234.0</td>\n",
       "      <td>577.0</td>\n",
       "      <td>219.0</td>\n",
       "      <td>175.0</td>\n",
       "      <td>29900.0</td>\n",
       "      <td>23</td>\n",
       "      <td>013</td>\n",
       "      <td>10.719064</td>\n",
       "      <td>23013</td>\n",
       "    </tr>\n",
       "  </tbody>\n",
       "</table>\n",
       "<p>5 rows × 22 columns</p>\n",
       "</div>"
      ],
      "text/plain": [
       "                county_name  B15002_003E  B15002_004E  B15002_005E  \\\n",
       "0  Cumberland County, Maine        236.0         79.0        141.0   \n",
       "1    Franklin County, Maine        106.0          0.0         45.0   \n",
       "2     Hancock County, Maine         39.0          8.0        123.0   \n",
       "3    Kennebec County, Maine        131.0         65.0        169.0   \n",
       "4        Knox County, Maine         33.0        142.0          0.0   \n",
       "\n",
       "   B15002_006E  B15002_007E  B15002_008E  B15002_009E  B15002_010E  \\\n",
       "0       1100.0       1096.0       1178.0       1285.0       1146.0   \n",
       "1        156.0        200.0        460.0        421.0         72.0   \n",
       "2        440.0        380.0        308.0        347.0        136.0   \n",
       "3       1207.0        681.0        661.0        547.0        489.0   \n",
       "4        663.0        224.0        311.0        149.0        195.0   \n",
       "\n",
       "   B15002_020E  ...  B15002_023E  B15002_024E  B15002_025E  B15002_026E  \\\n",
       "0        533.0  ...       1366.0        870.0       1341.0        877.0   \n",
       "1         24.0  ...        381.0        108.0        191.0        268.0   \n",
       "2         45.0  ...        252.0        326.0        401.0        153.0   \n",
       "3        239.0  ...       1093.0        580.0        542.0        656.0   \n",
       "4         21.0  ...        229.0        234.0        577.0        219.0   \n",
       "\n",
       "   B15002_027E  B15002_001E  state code  county code  \\\n",
       "0        901.0     192366.0          23          005   \n",
       "1         61.0      20481.0          23          007   \n",
       "2        199.0      38384.0          23          009   \n",
       "3        360.0      84361.0          23          011   \n",
       "4        175.0      29900.0          23          013   \n",
       "\n",
       "  percent_no_highschool_diploma   fips  \n",
       "0                      6.727800  23005  \n",
       "1                     12.704458  23007  \n",
       "2                      8.886515  23009  \n",
       "3                      9.352663  23011  \n",
       "4                     10.719064  23013  \n",
       "\n",
       "[5 rows x 22 columns]"
      ]
     },
     "execution_count": 24,
     "metadata": {},
     "output_type": "execute_result"
    }
   ],
   "source": [
    "df3['fips'] = df3['state code'] + df3['county code']\n",
    "df3.head()"
   ]
  },
  {
   "cell_type": "markdown",
   "id": "af41671e-ba16-4dbd-b37e-b5f7848aa36f",
   "metadata": {},
   "source": [
    "#### 4.Percent of Population Living in Mobile Homes: (B25033_006E+B25033_007E+B25033_012E+B25033_013E)/B25033_001E"
   ]
  },
  {
   "cell_type": "code",
   "execution_count": 25,
   "id": "c03e75e9-89db-4898-92ba-3d9f9ac528f1",
   "metadata": {},
   "outputs": [
    {
     "name": "stdout",
     "output_type": "stream",
     "text": [
      "['NAME', 'B25033_006E', 'B25033_007E', 'B25033_012E', 'B25033_013E', 'B25033_001E', 'state', 'county']\n"
     ]
    }
   ],
   "source": [
    "variables = 'B25033_006E,B25033_007E,B25033_012E,B25033_013E,B25033_001E'\n",
    "df4 = collectAll_county(year,variables)"
   ]
  },
  {
   "cell_type": "code",
   "execution_count": 26,
   "id": "12709efa-2915-43d6-b6e6-daeddcf01714",
   "metadata": {},
   "outputs": [
    {
     "data": {
      "text/plain": [
       "(1888, 8)"
      ]
     },
     "execution_count": 26,
     "metadata": {},
     "output_type": "execute_result"
    }
   ],
   "source": [
    "df4.shape"
   ]
  },
  {
   "cell_type": "code",
   "execution_count": 27,
   "id": "389f3ccf-4a99-4580-b9f3-11d448fcb052",
   "metadata": {},
   "outputs": [],
   "source": [
    "df4['B25033_006E'] = df4['B25033_006E'].apply(changeInteger)\n",
    "df4['B25033_007E'] = df4['B25033_007E'].apply(changeInteger)\n",
    "df4['B25033_012E'] = df4['B25033_012E'].apply(changeInteger)\n",
    "df4['B25033_013E'] = df4['B25033_013E'].apply(changeInteger)\n",
    "df4['B25033_001E'] = df4['B25033_001E'].apply(changeInteger)"
   ]
  },
  {
   "cell_type": "code",
   "execution_count": 28,
   "id": "e129c423-3162-4e27-bdbc-b519908fe576",
   "metadata": {},
   "outputs": [],
   "source": [
    "df4['percent_mobile_homes'] = ((df4['B25033_006E'] + df4['B25033_007E'] + df4['B25033_012E'] + df4['B25033_013E'])/df4['B25033_001E'])*100"
   ]
  },
  {
   "cell_type": "code",
   "execution_count": 29,
   "id": "7afc1666-b2dd-4559-99ad-a203776381ed",
   "metadata": {},
   "outputs": [
    {
     "data": {
      "text/html": [
       "<div>\n",
       "<style scoped>\n",
       "    .dataframe tbody tr th:only-of-type {\n",
       "        vertical-align: middle;\n",
       "    }\n",
       "\n",
       "    .dataframe tbody tr th {\n",
       "        vertical-align: top;\n",
       "    }\n",
       "\n",
       "    .dataframe thead th {\n",
       "        text-align: right;\n",
       "    }\n",
       "</style>\n",
       "<table border=\"1\" class=\"dataframe\">\n",
       "  <thead>\n",
       "    <tr style=\"text-align: right;\">\n",
       "      <th></th>\n",
       "      <th>county_name</th>\n",
       "      <th>B25033_006E</th>\n",
       "      <th>B25033_007E</th>\n",
       "      <th>B25033_012E</th>\n",
       "      <th>B25033_013E</th>\n",
       "      <th>B25033_001E</th>\n",
       "      <th>state code</th>\n",
       "      <th>county code</th>\n",
       "      <th>percent_mobile_homes</th>\n",
       "      <th>fips</th>\n",
       "    </tr>\n",
       "  </thead>\n",
       "  <tbody>\n",
       "    <tr>\n",
       "      <th>0</th>\n",
       "      <td>Lee County, Florida</td>\n",
       "      <td>36652.0</td>\n",
       "      <td>654.0</td>\n",
       "      <td>8197.0</td>\n",
       "      <td>104.0</td>\n",
       "      <td>579928.0</td>\n",
       "      <td>12</td>\n",
       "      <td>071</td>\n",
       "      <td>7.864252</td>\n",
       "      <td>12071</td>\n",
       "    </tr>\n",
       "    <tr>\n",
       "      <th>1</th>\n",
       "      <td>Leon County, Florida</td>\n",
       "      <td>13002.0</td>\n",
       "      <td>15.0</td>\n",
       "      <td>8768.0</td>\n",
       "      <td>82.0</td>\n",
       "      <td>251672.0</td>\n",
       "      <td>12</td>\n",
       "      <td>073</td>\n",
       "      <td>8.688690</td>\n",
       "      <td>12073</td>\n",
       "    </tr>\n",
       "    <tr>\n",
       "      <th>2</th>\n",
       "      <td>Levy County, Florida</td>\n",
       "      <td>13974.0</td>\n",
       "      <td>87.0</td>\n",
       "      <td>4607.0</td>\n",
       "      <td>0.0</td>\n",
       "      <td>38109.0</td>\n",
       "      <td>12</td>\n",
       "      <td>075</td>\n",
       "      <td>48.985804</td>\n",
       "      <td>12075</td>\n",
       "    </tr>\n",
       "    <tr>\n",
       "      <th>3</th>\n",
       "      <td>Manatee County, Florida</td>\n",
       "      <td>27777.0</td>\n",
       "      <td>480.0</td>\n",
       "      <td>3697.0</td>\n",
       "      <td>46.0</td>\n",
       "      <td>312997.0</td>\n",
       "      <td>12</td>\n",
       "      <td>081</td>\n",
       "      <td>10.223740</td>\n",
       "      <td>12081</td>\n",
       "    </tr>\n",
       "    <tr>\n",
       "      <th>4</th>\n",
       "      <td>Marion County, Florida</td>\n",
       "      <td>48026.0</td>\n",
       "      <td>390.0</td>\n",
       "      <td>15980.0</td>\n",
       "      <td>188.0</td>\n",
       "      <td>319926.0</td>\n",
       "      <td>12</td>\n",
       "      <td>083</td>\n",
       "      <td>20.187168</td>\n",
       "      <td>12083</td>\n",
       "    </tr>\n",
       "  </tbody>\n",
       "</table>\n",
       "</div>"
      ],
      "text/plain": [
       "               county_name  B25033_006E  B25033_007E  B25033_012E  \\\n",
       "0      Lee County, Florida      36652.0        654.0       8197.0   \n",
       "1     Leon County, Florida      13002.0         15.0       8768.0   \n",
       "2     Levy County, Florida      13974.0         87.0       4607.0   \n",
       "3  Manatee County, Florida      27777.0        480.0       3697.0   \n",
       "4   Marion County, Florida      48026.0        390.0      15980.0   \n",
       "\n",
       "   B25033_013E  B25033_001E state code county code  percent_mobile_homes  \\\n",
       "0        104.0     579928.0         12         071              7.864252   \n",
       "1         82.0     251672.0         12         073              8.688690   \n",
       "2          0.0      38109.0         12         075             48.985804   \n",
       "3         46.0     312997.0         12         081             10.223740   \n",
       "4        188.0     319926.0         12         083             20.187168   \n",
       "\n",
       "    fips  \n",
       "0  12071  \n",
       "1  12073  \n",
       "2  12075  \n",
       "3  12081  \n",
       "4  12083  "
      ]
     },
     "execution_count": 29,
     "metadata": {},
     "output_type": "execute_result"
    }
   ],
   "source": [
    "df4['fips'] = df4['state code'] + df4['county code']\n",
    "df4.head()"
   ]
  },
  {
   "cell_type": "markdown",
   "id": "cdeaf879-eae7-4624-88f6-1b784b1e41c2",
   "metadata": {},
   "source": [
    "#### 5.Percent of Population with No Vehicle Available: (B25044_003E+B25044_010E)/B25044_001E"
   ]
  },
  {
   "cell_type": "code",
   "execution_count": 30,
   "id": "fc92edb5-03e2-4528-baf7-a3eeaae03484",
   "metadata": {},
   "outputs": [
    {
     "name": "stdout",
     "output_type": "stream",
     "text": [
      "['NAME', 'B25044_003E', 'B25044_010E', 'B25044_001E', 'state', 'county']\n"
     ]
    }
   ],
   "source": [
    "variables = 'B25044_003E,B25044_010E,B25044_001E'\n",
    "df5 = collectAll_county(year,variables)"
   ]
  },
  {
   "cell_type": "code",
   "execution_count": 31,
   "id": "ffe766d8-b979-441c-88cd-5e76f428bebf",
   "metadata": {},
   "outputs": [
    {
     "data": {
      "text/plain": [
       "(1888, 6)"
      ]
     },
     "execution_count": 31,
     "metadata": {},
     "output_type": "execute_result"
    }
   ],
   "source": [
    "df5.shape"
   ]
  },
  {
   "cell_type": "code",
   "execution_count": 32,
   "id": "7fee86e0-d3a9-4465-b16e-5396daeac844",
   "metadata": {},
   "outputs": [],
   "source": [
    "df5['B25044_003E'] = df5['B25044_003E'].apply(changeInteger)\n",
    "df5['B25044_010E'] = df5['B25044_010E'].apply(changeInteger)\n",
    "df5['B25044_001E'] = df5['B25044_001E'].apply(changeInteger)"
   ]
  },
  {
   "cell_type": "code",
   "execution_count": 33,
   "id": "6e2646ff-10d6-4960-8da9-6c8b4d0f8268",
   "metadata": {},
   "outputs": [],
   "source": [
    "df5['percent_no_vehicle'] = ((df5['B25044_003E'] + df5['B25044_010E'])/df5['B25044_001E'])*100"
   ]
  },
  {
   "cell_type": "code",
   "execution_count": 34,
   "id": "9d38e22b-b76e-4345-91c7-40b408bb3d17",
   "metadata": {},
   "outputs": [
    {
     "data": {
      "text/html": [
       "<div>\n",
       "<style scoped>\n",
       "    .dataframe tbody tr th:only-of-type {\n",
       "        vertical-align: middle;\n",
       "    }\n",
       "\n",
       "    .dataframe tbody tr th {\n",
       "        vertical-align: top;\n",
       "    }\n",
       "\n",
       "    .dataframe thead th {\n",
       "        text-align: right;\n",
       "    }\n",
       "</style>\n",
       "<table border=\"1\" class=\"dataframe\">\n",
       "  <thead>\n",
       "    <tr style=\"text-align: right;\">\n",
       "      <th></th>\n",
       "      <th>county_name</th>\n",
       "      <th>B25044_003E</th>\n",
       "      <th>B25044_010E</th>\n",
       "      <th>B25044_001E</th>\n",
       "      <th>state code</th>\n",
       "      <th>county code</th>\n",
       "      <th>percent_no_vehicle</th>\n",
       "      <th>fips</th>\n",
       "    </tr>\n",
       "  </thead>\n",
       "  <tbody>\n",
       "    <tr>\n",
       "      <th>0</th>\n",
       "      <td>Conway County, Arkansas</td>\n",
       "      <td>287</td>\n",
       "      <td>416</td>\n",
       "      <td>7960</td>\n",
       "      <td>05</td>\n",
       "      <td>029</td>\n",
       "      <td>8.831658</td>\n",
       "      <td>05029</td>\n",
       "    </tr>\n",
       "    <tr>\n",
       "      <th>1</th>\n",
       "      <td>Autauga County, Alabama</td>\n",
       "      <td>338</td>\n",
       "      <td>448</td>\n",
       "      <td>18548</td>\n",
       "      <td>01</td>\n",
       "      <td>001</td>\n",
       "      <td>4.237654</td>\n",
       "      <td>01001</td>\n",
       "    </tr>\n",
       "    <tr>\n",
       "      <th>2</th>\n",
       "      <td>Baldwin County, Alabama</td>\n",
       "      <td>1008</td>\n",
       "      <td>1247</td>\n",
       "      <td>69993</td>\n",
       "      <td>01</td>\n",
       "      <td>003</td>\n",
       "      <td>3.221751</td>\n",
       "      <td>01003</td>\n",
       "    </tr>\n",
       "    <tr>\n",
       "      <th>3</th>\n",
       "      <td>Barbour County, Alabama</td>\n",
       "      <td>366</td>\n",
       "      <td>884</td>\n",
       "      <td>10650</td>\n",
       "      <td>01</td>\n",
       "      <td>005</td>\n",
       "      <td>11.737089</td>\n",
       "      <td>01005</td>\n",
       "    </tr>\n",
       "    <tr>\n",
       "      <th>4</th>\n",
       "      <td>Bibb County, Alabama</td>\n",
       "      <td>257</td>\n",
       "      <td>279</td>\n",
       "      <td>7498</td>\n",
       "      <td>01</td>\n",
       "      <td>007</td>\n",
       "      <td>7.148573</td>\n",
       "      <td>01007</td>\n",
       "    </tr>\n",
       "  </tbody>\n",
       "</table>\n",
       "</div>"
      ],
      "text/plain": [
       "               county_name  B25044_003E  B25044_010E  B25044_001E state code  \\\n",
       "0  Conway County, Arkansas          287          416         7960         05   \n",
       "1  Autauga County, Alabama          338          448        18548         01   \n",
       "2  Baldwin County, Alabama         1008         1247        69993         01   \n",
       "3  Barbour County, Alabama          366          884        10650         01   \n",
       "4     Bibb County, Alabama          257          279         7498         01   \n",
       "\n",
       "  county code  percent_no_vehicle   fips  \n",
       "0         029            8.831658  05029  \n",
       "1         001            4.237654  01001  \n",
       "2         003            3.221751  01003  \n",
       "3         005           11.737089  01005  \n",
       "4         007            7.148573  01007  "
      ]
     },
     "execution_count": 34,
     "metadata": {},
     "output_type": "execute_result"
    }
   ],
   "source": [
    "df5['fips'] = df5['state code'] + df5['county code']\n",
    "df5.head()"
   ]
  },
  {
   "cell_type": "markdown",
   "id": "2decc903-1e73-4a35-90ae-c0105c6d44ba",
   "metadata": {},
   "source": [
    "#### 6.Percent of Population Unemployed:sum(B21005_006E, B21005_007E, B21005_011E,B21005_012E,B21005_017E,B21005_022E,B21005_028E,B21005_029E,B21005_033E,B21005_034E)/B21005_001E"
   ]
  },
  {
   "cell_type": "code",
   "execution_count": 35,
   "id": "1fa00e51-9547-406a-8a0b-f9e3fe00dba2",
   "metadata": {},
   "outputs": [
    {
     "name": "stdout",
     "output_type": "stream",
     "text": [
      "['NAME', 'B21005_006E', 'B21005_007E', 'B21005_011E', 'B21005_012E', 'B21005_017E', 'B21005_022E', 'B21005_028E', 'B21005_029E', 'B21005_033E', 'B21005_034E', 'B21005_001E', 'state', 'county']\n"
     ]
    }
   ],
   "source": [
    "variables = 'B21005_006E,B21005_007E,B21005_011E,B21005_012E,B21005_017E,B21005_022E,B21005_028E,B21005_029E,B21005_033E,B21005_034E,B21005_001E'\n",
    "df6 = collectAll_county2(year,variables)"
   ]
  },
  {
   "cell_type": "code",
   "execution_count": 36,
   "id": "6be9f1b2-0ffe-44ff-8f4e-ec9c8190f1fa",
   "metadata": {},
   "outputs": [
    {
     "data": {
      "text/plain": [
       "(805, 14)"
      ]
     },
     "execution_count": 36,
     "metadata": {},
     "output_type": "execute_result"
    }
   ],
   "source": [
    "df6.shape"
   ]
  },
  {
   "cell_type": "code",
   "execution_count": 37,
   "id": "8a6b8b0a-3756-48f9-938f-e4eda374eaa8",
   "metadata": {},
   "outputs": [],
   "source": [
    "df6['B21005_006E'] = df6['B21005_006E'].apply(changeInteger)\n",
    "df6['B21005_007E'] = df6['B21005_007E'].apply(changeInteger)\n",
    "df6['B21005_011E'] = df6['B21005_011E'].apply(changeInteger)\n",
    "df6['B21005_012E'] = df6['B21005_012E'].apply(changeInteger)\n",
    "df6['B21005_017E'] = df6['B21005_017E'].apply(changeInteger)\n",
    "df6['B21005_022E'] = df6['B21005_022E'].apply(changeInteger)\n",
    "df6['B21005_028E'] = df6['B21005_028E'].apply(changeInteger)\n",
    "df6['B21005_029E'] = df6['B21005_029E'].apply(changeInteger)\n",
    "df6['B21005_033E'] = df6['B21005_033E'].apply(changeInteger)\n",
    "df6['B21005_034E'] = df6['B21005_034E'].apply(changeInteger)\n",
    "df6['B21005_001E'] = df6['B21005_001E'].apply(changeInteger)"
   ]
  },
  {
   "cell_type": "code",
   "execution_count": 38,
   "id": "52819727-7ad5-4d5f-8c15-8c629af18aea",
   "metadata": {},
   "outputs": [],
   "source": [
    "df6['percent_unemployed_CDC'] = ((df6['B21005_006E']+df6['B21005_007E']+df6['B21005_011E']+df6['B21005_012E']+df6['B21005_017E']+df6['B21005_022E']+df6['B21005_028E']+df6['B21005_029E']+df6['B21005_033E']+df6['B21005_034E'])/df6['B21005_001E'])*100"
   ]
  },
  {
   "cell_type": "code",
   "execution_count": 39,
   "id": "454d2d22-5100-46b6-a390-7f4e17d2d386",
   "metadata": {},
   "outputs": [
    {
     "data": {
      "text/html": [
       "<div>\n",
       "<style scoped>\n",
       "    .dataframe tbody tr th:only-of-type {\n",
       "        vertical-align: middle;\n",
       "    }\n",
       "\n",
       "    .dataframe tbody tr th {\n",
       "        vertical-align: top;\n",
       "    }\n",
       "\n",
       "    .dataframe thead th {\n",
       "        text-align: right;\n",
       "    }\n",
       "</style>\n",
       "<table border=\"1\" class=\"dataframe\">\n",
       "  <thead>\n",
       "    <tr style=\"text-align: right;\">\n",
       "      <th></th>\n",
       "      <th>county_name</th>\n",
       "      <th>B21005_006E</th>\n",
       "      <th>B21005_007E</th>\n",
       "      <th>B21005_011E</th>\n",
       "      <th>B21005_012E</th>\n",
       "      <th>B21005_017E</th>\n",
       "      <th>B21005_022E</th>\n",
       "      <th>B21005_028E</th>\n",
       "      <th>B21005_029E</th>\n",
       "      <th>B21005_033E</th>\n",
       "      <th>B21005_034E</th>\n",
       "      <th>B21005_001E</th>\n",
       "      <th>state code</th>\n",
       "      <th>county code</th>\n",
       "      <th>percent_unemployed_CDC</th>\n",
       "      <th>fips</th>\n",
       "    </tr>\n",
       "  </thead>\n",
       "  <tbody>\n",
       "    <tr>\n",
       "      <th>0</th>\n",
       "      <td>El Paso County, Texas</td>\n",
       "      <td>823.0</td>\n",
       "      <td>1755.0</td>\n",
       "      <td>10813.0</td>\n",
       "      <td>50077.0</td>\n",
       "      <td>466.0</td>\n",
       "      <td>6630.0</td>\n",
       "      <td>203.0</td>\n",
       "      <td>3897.0</td>\n",
       "      <td>2010.0</td>\n",
       "      <td>24290.0</td>\n",
       "      <td>423429.0</td>\n",
       "      <td>48</td>\n",
       "      <td>141</td>\n",
       "      <td>23.844375</td>\n",
       "      <td>48141</td>\n",
       "    </tr>\n",
       "    <tr>\n",
       "      <th>1</th>\n",
       "      <td>Fort Bend County, Texas</td>\n",
       "      <td>352.0</td>\n",
       "      <td>434.0</td>\n",
       "      <td>6057.0</td>\n",
       "      <td>34494.0</td>\n",
       "      <td>148.0</td>\n",
       "      <td>6817.0</td>\n",
       "      <td>271.0</td>\n",
       "      <td>2135.0</td>\n",
       "      <td>1866.0</td>\n",
       "      <td>14930.0</td>\n",
       "      <td>354913.0</td>\n",
       "      <td>48</td>\n",
       "      <td>157</td>\n",
       "      <td>19.019872</td>\n",
       "      <td>48157</td>\n",
       "    </tr>\n",
       "    <tr>\n",
       "      <th>2</th>\n",
       "      <td>Galveston County, Texas</td>\n",
       "      <td>44.0</td>\n",
       "      <td>37.0</td>\n",
       "      <td>4753.0</td>\n",
       "      <td>13366.0</td>\n",
       "      <td>605.0</td>\n",
       "      <td>5456.0</td>\n",
       "      <td>244.0</td>\n",
       "      <td>1711.0</td>\n",
       "      <td>1057.0</td>\n",
       "      <td>9532.0</td>\n",
       "      <td>179791.0</td>\n",
       "      <td>48</td>\n",
       "      <td>167</td>\n",
       "      <td>20.470991</td>\n",
       "      <td>48167</td>\n",
       "    </tr>\n",
       "    <tr>\n",
       "      <th>3</th>\n",
       "      <td>Grayson County, Texas</td>\n",
       "      <td>0.0</td>\n",
       "      <td>0.0</td>\n",
       "      <td>3160.0</td>\n",
       "      <td>4524.0</td>\n",
       "      <td>372.0</td>\n",
       "      <td>2033.0</td>\n",
       "      <td>137.0</td>\n",
       "      <td>626.0</td>\n",
       "      <td>621.0</td>\n",
       "      <td>4877.0</td>\n",
       "      <td>72210.0</td>\n",
       "      <td>48</td>\n",
       "      <td>181</td>\n",
       "      <td>22.642293</td>\n",
       "      <td>48181</td>\n",
       "    </tr>\n",
       "    <tr>\n",
       "      <th>4</th>\n",
       "      <td>Gregg County, Texas</td>\n",
       "      <td>0.0</td>\n",
       "      <td>123.0</td>\n",
       "      <td>2210.0</td>\n",
       "      <td>5072.0</td>\n",
       "      <td>135.0</td>\n",
       "      <td>1018.0</td>\n",
       "      <td>0.0</td>\n",
       "      <td>879.0</td>\n",
       "      <td>360.0</td>\n",
       "      <td>3485.0</td>\n",
       "      <td>70942.0</td>\n",
       "      <td>48</td>\n",
       "      <td>183</td>\n",
       "      <td>18.722337</td>\n",
       "      <td>48183</td>\n",
       "    </tr>\n",
       "  </tbody>\n",
       "</table>\n",
       "</div>"
      ],
      "text/plain": [
       "               county_name  B21005_006E  B21005_007E  B21005_011E  \\\n",
       "0    El Paso County, Texas        823.0       1755.0      10813.0   \n",
       "1  Fort Bend County, Texas        352.0        434.0       6057.0   \n",
       "2  Galveston County, Texas         44.0         37.0       4753.0   \n",
       "3    Grayson County, Texas          0.0          0.0       3160.0   \n",
       "4      Gregg County, Texas          0.0        123.0       2210.0   \n",
       "\n",
       "   B21005_012E  B21005_017E  B21005_022E  B21005_028E  B21005_029E  \\\n",
       "0      50077.0        466.0       6630.0        203.0       3897.0   \n",
       "1      34494.0        148.0       6817.0        271.0       2135.0   \n",
       "2      13366.0        605.0       5456.0        244.0       1711.0   \n",
       "3       4524.0        372.0       2033.0        137.0        626.0   \n",
       "4       5072.0        135.0       1018.0          0.0        879.0   \n",
       "\n",
       "   B21005_033E  B21005_034E  B21005_001E state code county code  \\\n",
       "0       2010.0      24290.0     423429.0         48         141   \n",
       "1       1866.0      14930.0     354913.0         48         157   \n",
       "2       1057.0       9532.0     179791.0         48         167   \n",
       "3        621.0       4877.0      72210.0         48         181   \n",
       "4        360.0       3485.0      70942.0         48         183   \n",
       "\n",
       "   percent_unemployed_CDC   fips  \n",
       "0               23.844375  48141  \n",
       "1               19.019872  48157  \n",
       "2               20.470991  48167  \n",
       "3               22.642293  48181  \n",
       "4               18.722337  48183  "
      ]
     },
     "execution_count": 39,
     "metadata": {},
     "output_type": "execute_result"
    }
   ],
   "source": [
    "df6['fips'] = df6['state code'] + df6['county code']\n",
    "df6.head()"
   ]
  },
  {
   "cell_type": "markdown",
   "id": "c9948355-bd31-4ab4-b7ee-c96586f8d3b1",
   "metadata": {},
   "source": [
    "#### 7.Percent of Population Living In Accommodations with Less Than 1 Room Per Person/Crowding: (B25014_005E+B25014_006E+B25014_007E+B25014_011E+B25014_012E+B25014_013E)/B25014_001E"
   ]
  },
  {
   "cell_type": "code",
   "execution_count": 40,
   "id": "cfca2197-92ec-4373-b8a3-39914cde1365",
   "metadata": {},
   "outputs": [
    {
     "name": "stdout",
     "output_type": "stream",
     "text": [
      "['NAME', 'B25014_005E', 'B25014_006E', 'B25014_007E', 'B25014_011E', 'B25014_012E', 'B25014_013E', 'B25014_001E', 'state', 'county']\n"
     ]
    }
   ],
   "source": [
    "variables = 'B25014_005E,B25014_006E,B25014_007E,B25014_011E,B25014_012E,B25014_013E,B25014_001E'\n",
    "df7 = collectAll_county(year,variables)"
   ]
  },
  {
   "cell_type": "code",
   "execution_count": 41,
   "id": "89125aba-8565-4a24-a3ac-bb5be0e22c56",
   "metadata": {},
   "outputs": [
    {
     "data": {
      "text/plain": [
       "(1888, 10)"
      ]
     },
     "execution_count": 41,
     "metadata": {},
     "output_type": "execute_result"
    }
   ],
   "source": [
    "df7.shape"
   ]
  },
  {
   "cell_type": "code",
   "execution_count": 42,
   "id": "b3a8bf30-04b1-44e3-9a3e-aeaf19720ff0",
   "metadata": {},
   "outputs": [],
   "source": [
    "df7['B25014_005E'] = df7['B25014_005E'].apply(changeInteger)\n",
    "df7['B25014_006E'] = df7['B25014_006E'].apply(changeInteger)\n",
    "df7['B25014_007E'] = df7['B25014_007E'].apply(changeInteger)\n",
    "df7['B25014_011E'] = df7['B25014_011E'].apply(changeInteger)\n",
    "df7['B25014_012E'] = df7['B25014_012E'].apply(changeInteger)\n",
    "df7['B25014_013E'] = df7['B25014_013E'].apply(changeInteger)\n",
    "df7['B25014_001E'] = df7['B25014_001E'].apply(changeInteger)"
   ]
  },
  {
   "cell_type": "code",
   "execution_count": 43,
   "id": "9f70d284-1e36-410e-9abe-2285db087ffb",
   "metadata": {},
   "outputs": [],
   "source": [
    "df7['percent_overcrowding'] = ((df7['B25014_005E']+df7['B25014_006E']+df7['B25014_007E']+df7['B25014_011E']+df7['B25014_012E']+df7['B25014_013E'])/df7['B25014_001E'])*100"
   ]
  },
  {
   "cell_type": "code",
   "execution_count": 44,
   "id": "072747b0-747e-41f3-8b2f-4a39a3e76d97",
   "metadata": {},
   "outputs": [
    {
     "data": {
      "text/html": [
       "<div>\n",
       "<style scoped>\n",
       "    .dataframe tbody tr th:only-of-type {\n",
       "        vertical-align: middle;\n",
       "    }\n",
       "\n",
       "    .dataframe tbody tr th {\n",
       "        vertical-align: top;\n",
       "    }\n",
       "\n",
       "    .dataframe thead th {\n",
       "        text-align: right;\n",
       "    }\n",
       "</style>\n",
       "<table border=\"1\" class=\"dataframe\">\n",
       "  <thead>\n",
       "    <tr style=\"text-align: right;\">\n",
       "      <th></th>\n",
       "      <th>county_name</th>\n",
       "      <th>B25014_005E</th>\n",
       "      <th>B25014_006E</th>\n",
       "      <th>B25014_007E</th>\n",
       "      <th>B25014_011E</th>\n",
       "      <th>B25014_012E</th>\n",
       "      <th>B25014_013E</th>\n",
       "      <th>B25014_001E</th>\n",
       "      <th>state code</th>\n",
       "      <th>county code</th>\n",
       "      <th>percent_overcrowding</th>\n",
       "      <th>fips</th>\n",
       "    </tr>\n",
       "  </thead>\n",
       "  <tbody>\n",
       "    <tr>\n",
       "      <th>0</th>\n",
       "      <td>Clinton County, Illinois</td>\n",
       "      <td>87.0</td>\n",
       "      <td>6.0</td>\n",
       "      <td>0.0</td>\n",
       "      <td>141.0</td>\n",
       "      <td>6.0</td>\n",
       "      <td>0.0</td>\n",
       "      <td>13987.0</td>\n",
       "      <td>17</td>\n",
       "      <td>027</td>\n",
       "      <td>1.715879</td>\n",
       "      <td>17027</td>\n",
       "    </tr>\n",
       "    <tr>\n",
       "      <th>1</th>\n",
       "      <td>Coles County, Illinois</td>\n",
       "      <td>74.0</td>\n",
       "      <td>0.0</td>\n",
       "      <td>0.0</td>\n",
       "      <td>92.0</td>\n",
       "      <td>90.0</td>\n",
       "      <td>5.0</td>\n",
       "      <td>21452.0</td>\n",
       "      <td>17</td>\n",
       "      <td>029</td>\n",
       "      <td>1.216670</td>\n",
       "      <td>17029</td>\n",
       "    </tr>\n",
       "    <tr>\n",
       "      <th>2</th>\n",
       "      <td>Cook County, Illinois</td>\n",
       "      <td>22446.0</td>\n",
       "      <td>3940.0</td>\n",
       "      <td>1484.0</td>\n",
       "      <td>29669.0</td>\n",
       "      <td>12113.0</td>\n",
       "      <td>5415.0</td>\n",
       "      <td>1939904.0</td>\n",
       "      <td>17</td>\n",
       "      <td>031</td>\n",
       "      <td>3.869624</td>\n",
       "      <td>17031</td>\n",
       "    </tr>\n",
       "    <tr>\n",
       "      <th>3</th>\n",
       "      <td>DeKalb County, Illinois</td>\n",
       "      <td>415.0</td>\n",
       "      <td>159.0</td>\n",
       "      <td>0.0</td>\n",
       "      <td>445.0</td>\n",
       "      <td>12.0</td>\n",
       "      <td>32.0</td>\n",
       "      <td>37145.0</td>\n",
       "      <td>17</td>\n",
       "      <td>037</td>\n",
       "      <td>2.861758</td>\n",
       "      <td>17037</td>\n",
       "    </tr>\n",
       "    <tr>\n",
       "      <th>4</th>\n",
       "      <td>DuPage County, Illinois</td>\n",
       "      <td>2304.0</td>\n",
       "      <td>304.0</td>\n",
       "      <td>88.0</td>\n",
       "      <td>2814.0</td>\n",
       "      <td>330.0</td>\n",
       "      <td>30.0</td>\n",
       "      <td>338213.0</td>\n",
       "      <td>17</td>\n",
       "      <td>043</td>\n",
       "      <td>1.735593</td>\n",
       "      <td>17043</td>\n",
       "    </tr>\n",
       "  </tbody>\n",
       "</table>\n",
       "</div>"
      ],
      "text/plain": [
       "                county_name  B25014_005E  B25014_006E  B25014_007E  \\\n",
       "0  Clinton County, Illinois         87.0          6.0          0.0   \n",
       "1    Coles County, Illinois         74.0          0.0          0.0   \n",
       "2     Cook County, Illinois      22446.0       3940.0       1484.0   \n",
       "3   DeKalb County, Illinois        415.0        159.0          0.0   \n",
       "4   DuPage County, Illinois       2304.0        304.0         88.0   \n",
       "\n",
       "   B25014_011E  B25014_012E  B25014_013E  B25014_001E state code county code  \\\n",
       "0        141.0          6.0          0.0      13987.0         17         027   \n",
       "1         92.0         90.0          5.0      21452.0         17         029   \n",
       "2      29669.0      12113.0       5415.0    1939904.0         17         031   \n",
       "3        445.0         12.0         32.0      37145.0         17         037   \n",
       "4       2814.0        330.0         30.0     338213.0         17         043   \n",
       "\n",
       "   percent_overcrowding   fips  \n",
       "0              1.715879  17027  \n",
       "1              1.216670  17029  \n",
       "2              3.869624  17031  \n",
       "3              2.861758  17037  \n",
       "4              1.735593  17043  "
      ]
     },
     "execution_count": 44,
     "metadata": {},
     "output_type": "execute_result"
    }
   ],
   "source": [
    "df7['fips'] = df7['state code'] + df7['county code']\n",
    "df7.head()"
   ]
  },
  {
   "cell_type": "markdown",
   "id": "3aac238c-3f49-4579-86e9-27be71f44e3a",
   "metadata": {},
   "source": [
    "#### 8.Percent of Housing Units with 10+ Units in Structure: (B25024_007E+B25024_008E+B25024_009E)/B25024_001E"
   ]
  },
  {
   "cell_type": "code",
   "execution_count": 45,
   "id": "d9c481fc-3286-4ff1-a75e-4a6f1f1106e1",
   "metadata": {},
   "outputs": [
    {
     "name": "stdout",
     "output_type": "stream",
     "text": [
      "['NAME', 'B25024_007E', 'B25024_008E', 'B25024_009E', 'B25024_001E', 'state', 'county']\n"
     ]
    }
   ],
   "source": [
    "variables = 'B25024_007E,B25024_008E,B25024_009E,B25024_001E'\n",
    "df8 = collectAll_county(year,variables)"
   ]
  },
  {
   "cell_type": "code",
   "execution_count": 46,
   "id": "d7134adf-29cd-4150-80d1-6def45982559",
   "metadata": {},
   "outputs": [
    {
     "data": {
      "text/plain": [
       "(1888, 7)"
      ]
     },
     "execution_count": 46,
     "metadata": {},
     "output_type": "execute_result"
    }
   ],
   "source": [
    "df8.shape"
   ]
  },
  {
   "cell_type": "code",
   "execution_count": 47,
   "id": "468626db-72ee-467d-aa73-85803b8ebaae",
   "metadata": {},
   "outputs": [],
   "source": [
    "df8['B25024_007E'] = df8['B25024_007E'].apply(changeInteger)\n",
    "df8['B25024_008E'] = df8['B25024_008E'].apply(changeInteger)\n",
    "df8['B25024_009E'] = df8['B25024_009E'].apply(changeInteger)\n",
    "df8['B25024_001E'] = df8['B25024_001E'].apply(changeInteger)"
   ]
  },
  {
   "cell_type": "code",
   "execution_count": 48,
   "id": "580441b5-fa08-4898-b73f-565ed16106d8",
   "metadata": {},
   "outputs": [],
   "source": [
    "df8['percent_multi_unit_housing'] = ((df8['B25024_007E']+df8['B25024_008E']+df8['B25024_009E'])/df8['B25024_001E'])*100"
   ]
  },
  {
   "cell_type": "code",
   "execution_count": 49,
   "id": "a7fe92c1-17f6-43a4-a116-f6294d828159",
   "metadata": {},
   "outputs": [
    {
     "data": {
      "text/html": [
       "<div>\n",
       "<style scoped>\n",
       "    .dataframe tbody tr th:only-of-type {\n",
       "        vertical-align: middle;\n",
       "    }\n",
       "\n",
       "    .dataframe tbody tr th {\n",
       "        vertical-align: top;\n",
       "    }\n",
       "\n",
       "    .dataframe thead th {\n",
       "        text-align: right;\n",
       "    }\n",
       "</style>\n",
       "<table border=\"1\" class=\"dataframe\">\n",
       "  <thead>\n",
       "    <tr style=\"text-align: right;\">\n",
       "      <th></th>\n",
       "      <th>county_name</th>\n",
       "      <th>B25024_007E</th>\n",
       "      <th>B25024_008E</th>\n",
       "      <th>B25024_009E</th>\n",
       "      <th>B25024_001E</th>\n",
       "      <th>state code</th>\n",
       "      <th>county code</th>\n",
       "      <th>percent_multi_unit_housing</th>\n",
       "      <th>fips</th>\n",
       "    </tr>\n",
       "  </thead>\n",
       "  <tbody>\n",
       "    <tr>\n",
       "      <th>0</th>\n",
       "      <td>Daviess County, Indiana</td>\n",
       "      <td>36.0</td>\n",
       "      <td>69.0</td>\n",
       "      <td>165.0</td>\n",
       "      <td>12380.0</td>\n",
       "      <td>18</td>\n",
       "      <td>027</td>\n",
       "      <td>2.180937</td>\n",
       "      <td>18027</td>\n",
       "    </tr>\n",
       "    <tr>\n",
       "      <th>1</th>\n",
       "      <td>Dearborn County, Indiana</td>\n",
       "      <td>553.0</td>\n",
       "      <td>344.0</td>\n",
       "      <td>45.0</td>\n",
       "      <td>20151.0</td>\n",
       "      <td>18</td>\n",
       "      <td>029</td>\n",
       "      <td>4.674706</td>\n",
       "      <td>18029</td>\n",
       "    </tr>\n",
       "    <tr>\n",
       "      <th>2</th>\n",
       "      <td>Decatur County, Indiana</td>\n",
       "      <td>237.0</td>\n",
       "      <td>179.0</td>\n",
       "      <td>56.0</td>\n",
       "      <td>10907.0</td>\n",
       "      <td>18</td>\n",
       "      <td>031</td>\n",
       "      <td>4.327496</td>\n",
       "      <td>18031</td>\n",
       "    </tr>\n",
       "    <tr>\n",
       "      <th>3</th>\n",
       "      <td>DeKalb County, Indiana</td>\n",
       "      <td>219.0</td>\n",
       "      <td>479.0</td>\n",
       "      <td>146.0</td>\n",
       "      <td>17540.0</td>\n",
       "      <td>18</td>\n",
       "      <td>033</td>\n",
       "      <td>4.811859</td>\n",
       "      <td>18033</td>\n",
       "    </tr>\n",
       "    <tr>\n",
       "      <th>4</th>\n",
       "      <td>Delaware County, Indiana</td>\n",
       "      <td>2369.0</td>\n",
       "      <td>525.0</td>\n",
       "      <td>660.0</td>\n",
       "      <td>52988.0</td>\n",
       "      <td>18</td>\n",
       "      <td>035</td>\n",
       "      <td>6.707179</td>\n",
       "      <td>18035</td>\n",
       "    </tr>\n",
       "  </tbody>\n",
       "</table>\n",
       "</div>"
      ],
      "text/plain": [
       "                county_name  B25024_007E  B25024_008E  B25024_009E  \\\n",
       "0   Daviess County, Indiana         36.0         69.0        165.0   \n",
       "1  Dearborn County, Indiana        553.0        344.0         45.0   \n",
       "2   Decatur County, Indiana        237.0        179.0         56.0   \n",
       "3    DeKalb County, Indiana        219.0        479.0        146.0   \n",
       "4  Delaware County, Indiana       2369.0        525.0        660.0   \n",
       "\n",
       "   B25024_001E state code county code  percent_multi_unit_housing   fips  \n",
       "0      12380.0         18         027                    2.180937  18027  \n",
       "1      20151.0         18         029                    4.674706  18029  \n",
       "2      10907.0         18         031                    4.327496  18031  \n",
       "3      17540.0         18         033                    4.811859  18033  \n",
       "4      52988.0         18         035                    6.707179  18035  "
      ]
     },
     "execution_count": 49,
     "metadata": {},
     "output_type": "execute_result"
    }
   ],
   "source": [
    "df8['fips'] = df8['state code'] + df8['county code']\n",
    "df8.head()"
   ]
  },
  {
   "cell_type": "markdown",
   "id": "045aa5cc-659a-49fc-8928-86e41fa267c0",
   "metadata": {},
   "source": [
    "#### 9.Percent Of Population 65+: (B01001_020E,B01001_021E,B01001_022E,B01001_023E,B01001_024E,B01001_025E,B01001_044E,B01001_045E,B01001_046E,B01001_047E,B01001_049E)/B01001_001E"
   ]
  },
  {
   "cell_type": "code",
   "execution_count": 50,
   "id": "482dcdb3-80fd-4bbc-940b-2179aa106937",
   "metadata": {},
   "outputs": [
    {
     "name": "stdout",
     "output_type": "stream",
     "text": [
      "['NAME', 'B01001_020E', 'B01001_021E', 'B01001_022E', 'B01001_023E', 'B01001_024E', 'B01001_025E', 'B01001_044E', 'B01001_045E', 'B01001_046E', 'B01001_047E', 'B01001_048E', 'B01001_049E', 'B01001_001E', 'state', 'county']\n"
     ]
    }
   ],
   "source": [
    "variables = 'B01001_020E,B01001_021E,B01001_022E,B01001_023E,B01001_024E,B01001_025E,B01001_044E,B01001_045E,B01001_046E,B01001_047E,B01001_048E,B01001_049E,B01001_001E'\n",
    "df9 = collectAll_county(year,variables)"
   ]
  },
  {
   "cell_type": "code",
   "execution_count": 51,
   "id": "77b05482-58e0-4579-9068-4226dd49aa19",
   "metadata": {},
   "outputs": [
    {
     "data": {
      "text/plain": [
       "(1888, 16)"
      ]
     },
     "execution_count": 51,
     "metadata": {},
     "output_type": "execute_result"
    }
   ],
   "source": [
    "df9.shape"
   ]
  },
  {
   "cell_type": "code",
   "execution_count": 52,
   "id": "117d94de-9b6a-4912-b6f3-c5167ebbe6f0",
   "metadata": {},
   "outputs": [],
   "source": [
    "df9['B01001_020E'] = df9['B01001_020E'].apply(changeInteger)\n",
    "df9['B01001_021E'] = df9['B01001_021E'].apply(changeInteger)\n",
    "df9['B01001_022E'] = df9['B01001_022E'].apply(changeInteger)\n",
    "df9['B01001_023E'] = df9['B01001_023E'].apply(changeInteger)\n",
    "df9['B01001_024E'] = df9['B01001_024E'].apply(changeInteger)\n",
    "df9['B01001_025E'] = df9['B01001_025E'].apply(changeInteger)\n",
    "df9['B01001_044E'] = df9['B01001_044E'].apply(changeInteger)\n",
    "df9['B01001_045E'] = df9['B01001_045E'].apply(changeInteger)\n",
    "df9['B01001_046E'] = df9['B01001_046E'].apply(changeInteger)\n",
    "df9['B01001_047E'] = df9['B01001_047E'].apply(changeInteger)\n",
    "df9['B01001_048E'] = df9['B01001_048E'].apply(changeInteger)\n",
    "df9['B01001_049E'] = df9['B01001_049E'].apply(changeInteger)\n",
    "df9['B01001_001E'] = df9['B01001_001E'].apply(changeInteger)"
   ]
  },
  {
   "cell_type": "code",
   "execution_count": 53,
   "id": "cd9b0d69-3ed6-4340-9d81-c00cef379245",
   "metadata": {},
   "outputs": [],
   "source": [
    "df9['percent_age_65_and_older'] = ((df9['B01001_020E']+df9['B01001_021E']+df9['B01001_022E']+df9['B01001_023E']+df9['B01001_024E']+df9['B01001_025E']+df9['B01001_044E']\n",
    "                                  +df9['B01001_045E']+df9['B01001_046E']+df9['B01001_047E']+df9['B01001_048E']+df9['B01001_049E'])/df9['B01001_001E'])*100"
   ]
  },
  {
   "cell_type": "code",
   "execution_count": 54,
   "id": "9f8e8e5a-8892-4e65-9db9-a34f06a90cdb",
   "metadata": {},
   "outputs": [
    {
     "data": {
      "text/html": [
       "<div>\n",
       "<style scoped>\n",
       "    .dataframe tbody tr th:only-of-type {\n",
       "        vertical-align: middle;\n",
       "    }\n",
       "\n",
       "    .dataframe tbody tr th {\n",
       "        vertical-align: top;\n",
       "    }\n",
       "\n",
       "    .dataframe thead th {\n",
       "        text-align: right;\n",
       "    }\n",
       "</style>\n",
       "<table border=\"1\" class=\"dataframe\">\n",
       "  <thead>\n",
       "    <tr style=\"text-align: right;\">\n",
       "      <th></th>\n",
       "      <th>county_name</th>\n",
       "      <th>B01001_020E</th>\n",
       "      <th>B01001_021E</th>\n",
       "      <th>B01001_022E</th>\n",
       "      <th>B01001_023E</th>\n",
       "      <th>B01001_024E</th>\n",
       "      <th>B01001_025E</th>\n",
       "      <th>B01001_044E</th>\n",
       "      <th>B01001_045E</th>\n",
       "      <th>B01001_046E</th>\n",
       "      <th>B01001_047E</th>\n",
       "      <th>B01001_048E</th>\n",
       "      <th>B01001_049E</th>\n",
       "      <th>B01001_001E</th>\n",
       "      <th>state code</th>\n",
       "      <th>county code</th>\n",
       "      <th>percent_age_65_and_older</th>\n",
       "      <th>fips</th>\n",
       "    </tr>\n",
       "  </thead>\n",
       "  <tbody>\n",
       "    <tr>\n",
       "      <th>0</th>\n",
       "      <td>Cumberland County, Maine</td>\n",
       "      <td>2330</td>\n",
       "      <td>2723</td>\n",
       "      <td>3783</td>\n",
       "      <td>3073</td>\n",
       "      <td>2372</td>\n",
       "      <td>1858</td>\n",
       "      <td>2690</td>\n",
       "      <td>3128</td>\n",
       "      <td>4299</td>\n",
       "      <td>4864</td>\n",
       "      <td>3175</td>\n",
       "      <td>4227</td>\n",
       "      <td>277365</td>\n",
       "      <td>23</td>\n",
       "      <td>005</td>\n",
       "      <td>13.888558</td>\n",
       "      <td>23005</td>\n",
       "    </tr>\n",
       "    <tr>\n",
       "      <th>1</th>\n",
       "      <td>Franklin County, Maine</td>\n",
       "      <td>252</td>\n",
       "      <td>475</td>\n",
       "      <td>479</td>\n",
       "      <td>455</td>\n",
       "      <td>115</td>\n",
       "      <td>179</td>\n",
       "      <td>304</td>\n",
       "      <td>367</td>\n",
       "      <td>544</td>\n",
       "      <td>262</td>\n",
       "      <td>254</td>\n",
       "      <td>605</td>\n",
       "      <td>29758</td>\n",
       "      <td>23</td>\n",
       "      <td>007</td>\n",
       "      <td>14.419652</td>\n",
       "      <td>23007</td>\n",
       "    </tr>\n",
       "    <tr>\n",
       "      <th>2</th>\n",
       "      <td>Hancock County, Maine</td>\n",
       "      <td>777</td>\n",
       "      <td>599</td>\n",
       "      <td>896</td>\n",
       "      <td>641</td>\n",
       "      <td>581</td>\n",
       "      <td>470</td>\n",
       "      <td>578</td>\n",
       "      <td>780</td>\n",
       "      <td>1175</td>\n",
       "      <td>688</td>\n",
       "      <td>776</td>\n",
       "      <td>1008</td>\n",
       "      <td>53397</td>\n",
       "      <td>23</td>\n",
       "      <td>009</td>\n",
       "      <td>16.796824</td>\n",
       "      <td>23009</td>\n",
       "    </tr>\n",
       "    <tr>\n",
       "      <th>3</th>\n",
       "      <td>Kennebec County, Maine</td>\n",
       "      <td>981</td>\n",
       "      <td>1229</td>\n",
       "      <td>2211</td>\n",
       "      <td>1480</td>\n",
       "      <td>1056</td>\n",
       "      <td>859</td>\n",
       "      <td>1293</td>\n",
       "      <td>1602</td>\n",
       "      <td>2045</td>\n",
       "      <td>1998</td>\n",
       "      <td>1668</td>\n",
       "      <td>1777</td>\n",
       "      <td>120997</td>\n",
       "      <td>23</td>\n",
       "      <td>011</td>\n",
       "      <td>15.040869</td>\n",
       "      <td>23011</td>\n",
       "    </tr>\n",
       "    <tr>\n",
       "      <th>4</th>\n",
       "      <td>Knox County, Maine</td>\n",
       "      <td>419</td>\n",
       "      <td>616</td>\n",
       "      <td>757</td>\n",
       "      <td>554</td>\n",
       "      <td>438</td>\n",
       "      <td>447</td>\n",
       "      <td>521</td>\n",
       "      <td>607</td>\n",
       "      <td>997</td>\n",
       "      <td>739</td>\n",
       "      <td>928</td>\n",
       "      <td>617</td>\n",
       "      <td>40867</td>\n",
       "      <td>23</td>\n",
       "      <td>013</td>\n",
       "      <td>18.694790</td>\n",
       "      <td>23013</td>\n",
       "    </tr>\n",
       "  </tbody>\n",
       "</table>\n",
       "</div>"
      ],
      "text/plain": [
       "                county_name  B01001_020E  B01001_021E  B01001_022E  \\\n",
       "0  Cumberland County, Maine         2330         2723         3783   \n",
       "1    Franklin County, Maine          252          475          479   \n",
       "2     Hancock County, Maine          777          599          896   \n",
       "3    Kennebec County, Maine          981         1229         2211   \n",
       "4        Knox County, Maine          419          616          757   \n",
       "\n",
       "   B01001_023E  B01001_024E  B01001_025E  B01001_044E  B01001_045E  \\\n",
       "0         3073         2372         1858         2690         3128   \n",
       "1          455          115          179          304          367   \n",
       "2          641          581          470          578          780   \n",
       "3         1480         1056          859         1293         1602   \n",
       "4          554          438          447          521          607   \n",
       "\n",
       "   B01001_046E  B01001_047E  B01001_048E  B01001_049E  B01001_001E state code  \\\n",
       "0         4299         4864         3175         4227       277365         23   \n",
       "1          544          262          254          605        29758         23   \n",
       "2         1175          688          776         1008        53397         23   \n",
       "3         2045         1998         1668         1777       120997         23   \n",
       "4          997          739          928          617        40867         23   \n",
       "\n",
       "  county code  percent_age_65_and_older   fips  \n",
       "0         005                 13.888558  23005  \n",
       "1         007                 14.419652  23007  \n",
       "2         009                 16.796824  23009  \n",
       "3         011                 15.040869  23011  \n",
       "4         013                 18.694790  23013  "
      ]
     },
     "execution_count": 54,
     "metadata": {},
     "output_type": "execute_result"
    }
   ],
   "source": [
    "df9['fips'] = df9['state code'] + df9['county code']\n",
    "df9.head()"
   ]
  },
  {
   "cell_type": "markdown",
   "id": "dcb04516-8d7f-4ad2-beb3-e688daa12187",
   "metadata": {},
   "source": [
    "#### 10.Percent Of Population Who Do Not Speak English: B99163_005E/B99163_001E"
   ]
  },
  {
   "cell_type": "code",
   "execution_count": 55,
   "id": "f97dbc43-c00a-4e2b-b8c3-8db219707786",
   "metadata": {},
   "outputs": [
    {
     "name": "stdout",
     "output_type": "stream",
     "text": [
      "['NAME', 'B99163_005E', 'B99163_001E', 'state', 'county']\n"
     ]
    }
   ],
   "source": [
    "variables = 'B99163_005E,B99163_001E'\n",
    "df10 = collectAll_county(year,variables)"
   ]
  },
  {
   "cell_type": "code",
   "execution_count": 56,
   "id": "86a48711-061f-4a53-b7bb-a0523aa745f1",
   "metadata": {},
   "outputs": [
    {
     "data": {
      "text/plain": [
       "(1888, 5)"
      ]
     },
     "execution_count": 56,
     "metadata": {},
     "output_type": "execute_result"
    }
   ],
   "source": [
    "df10.shape"
   ]
  },
  {
   "cell_type": "code",
   "execution_count": 57,
   "id": "c87745bc-19ae-4efc-904d-7390a39c3c9d",
   "metadata": {},
   "outputs": [],
   "source": [
    "df10['B99163_005E'] = df10['B99163_005E'].apply(changeInteger)\n",
    "df10['B99163_001E'] = df10['B99163_001E'].apply(changeInteger)"
   ]
  },
  {
   "cell_type": "code",
   "execution_count": 58,
   "id": "79fc7f2e-ce55-499c-ab8b-aa573ca1801f",
   "metadata": {},
   "outputs": [],
   "source": [
    "df10['percent_limited_english_abilities'] = (df10['B99163_005E']/df10['B99163_001E'])*100"
   ]
  },
  {
   "cell_type": "code",
   "execution_count": 59,
   "id": "da196dd1-f265-41f4-8394-30c7bb0ac2b7",
   "metadata": {},
   "outputs": [
    {
     "data": {
      "text/html": [
       "<div>\n",
       "<style scoped>\n",
       "    .dataframe tbody tr th:only-of-type {\n",
       "        vertical-align: middle;\n",
       "    }\n",
       "\n",
       "    .dataframe tbody tr th {\n",
       "        vertical-align: top;\n",
       "    }\n",
       "\n",
       "    .dataframe thead th {\n",
       "        text-align: right;\n",
       "    }\n",
       "</style>\n",
       "<table border=\"1\" class=\"dataframe\">\n",
       "  <thead>\n",
       "    <tr style=\"text-align: right;\">\n",
       "      <th></th>\n",
       "      <th>county_name</th>\n",
       "      <th>B99163_005E</th>\n",
       "      <th>B99163_001E</th>\n",
       "      <th>state code</th>\n",
       "      <th>county code</th>\n",
       "      <th>percent_limited_english_abilities</th>\n",
       "      <th>fips</th>\n",
       "    </tr>\n",
       "  </thead>\n",
       "  <tbody>\n",
       "    <tr>\n",
       "      <th>0</th>\n",
       "      <td>Autauga County, Alabama</td>\n",
       "      <td>1992</td>\n",
       "      <td>46761</td>\n",
       "      <td>01</td>\n",
       "      <td>001</td>\n",
       "      <td>4.259960</td>\n",
       "      <td>01001</td>\n",
       "    </tr>\n",
       "    <tr>\n",
       "      <th>1</th>\n",
       "      <td>Baldwin County, Alabama</td>\n",
       "      <td>6481</td>\n",
       "      <td>165239</td>\n",
       "      <td>01</td>\n",
       "      <td>003</td>\n",
       "      <td>3.922198</td>\n",
       "      <td>01003</td>\n",
       "    </tr>\n",
       "    <tr>\n",
       "      <th>2</th>\n",
       "      <td>Barbour County, Alabama</td>\n",
       "      <td>1578</td>\n",
       "      <td>28134</td>\n",
       "      <td>01</td>\n",
       "      <td>005</td>\n",
       "      <td>5.608872</td>\n",
       "      <td>01005</td>\n",
       "    </tr>\n",
       "    <tr>\n",
       "      <th>3</th>\n",
       "      <td>Bibb County, Alabama</td>\n",
       "      <td>398</td>\n",
       "      <td>20243</td>\n",
       "      <td>01</td>\n",
       "      <td>007</td>\n",
       "      <td>1.966112</td>\n",
       "      <td>01007</td>\n",
       "    </tr>\n",
       "    <tr>\n",
       "      <th>4</th>\n",
       "      <td>Blount County, Alabama</td>\n",
       "      <td>3265</td>\n",
       "      <td>53851</td>\n",
       "      <td>01</td>\n",
       "      <td>009</td>\n",
       "      <td>6.063026</td>\n",
       "      <td>01009</td>\n",
       "    </tr>\n",
       "  </tbody>\n",
       "</table>\n",
       "</div>"
      ],
      "text/plain": [
       "               county_name  B99163_005E  B99163_001E state code county code  \\\n",
       "0  Autauga County, Alabama         1992        46761         01         001   \n",
       "1  Baldwin County, Alabama         6481       165239         01         003   \n",
       "2  Barbour County, Alabama         1578        28134         01         005   \n",
       "3     Bibb County, Alabama          398        20243         01         007   \n",
       "4   Blount County, Alabama         3265        53851         01         009   \n",
       "\n",
       "   percent_limited_english_abilities   fips  \n",
       "0                           4.259960  01001  \n",
       "1                           3.922198  01003  \n",
       "2                           5.608872  01005  \n",
       "3                           1.966112  01007  \n",
       "4                           6.063026  01009  "
      ]
     },
     "execution_count": 59,
     "metadata": {},
     "output_type": "execute_result"
    }
   ],
   "source": [
    "df10['fips'] = df10['state code'] + df10['county code']\n",
    "df10.head()"
   ]
  },
  {
   "cell_type": "markdown",
   "id": "230a9265-4827-498c-9cae-c18df3f821b6",
   "metadata": {},
   "source": [
    "#### 11.Percent of Population 17 Years of Age and Under: (B01001_003E+B01001_004E+B01001_005E+B01001_006E+B01001_027E+B01001_028E+B01001_029E+B01001_030E)/B01003_001E"
   ]
  },
  {
   "cell_type": "code",
   "execution_count": 60,
   "id": "43b38a7d-f7ca-4595-8f39-91f898996c9a",
   "metadata": {},
   "outputs": [
    {
     "name": "stdout",
     "output_type": "stream",
     "text": [
      "['NAME', 'B01001_003E', 'B01001_004E', 'B01001_005E', 'B01001_006E', 'B01001_027E', 'B01001_028E', 'B01001_029E', 'B01001_030E', 'B01003_001E', 'state', 'county']\n"
     ]
    }
   ],
   "source": [
    "variables = 'B01001_003E,B01001_004E,B01001_005E,B01001_006E,B01001_027E,B01001_028E,B01001_029E,B01001_030E,B01003_001E'\n",
    "df11 = collectAll_county(year,variables)"
   ]
  },
  {
   "cell_type": "code",
   "execution_count": 61,
   "id": "aab660f8-39a7-4dc8-ae57-9a715c2bb20e",
   "metadata": {},
   "outputs": [
    {
     "data": {
      "text/plain": [
       "(1888, 12)"
      ]
     },
     "execution_count": 61,
     "metadata": {},
     "output_type": "execute_result"
    }
   ],
   "source": [
    "df11.shape"
   ]
  },
  {
   "cell_type": "code",
   "execution_count": 62,
   "id": "3e91d91d-0f62-45e1-aa28-feb685e79554",
   "metadata": {},
   "outputs": [],
   "source": [
    "df11['B01001_003E'] = df11['B01001_003E'].apply(changeInteger)\n",
    "df11['B01001_004E'] = df11['B01001_004E'].apply(changeInteger)\n",
    "df11['B01001_005E'] = df11['B01001_005E'].apply(changeInteger)\n",
    "df11['B01001_006E'] = df11['B01001_006E'].apply(changeInteger)\n",
    "df11['B01001_027E'] = df11['B01001_027E'].apply(changeInteger)\n",
    "df11['B01001_028E'] = df11['B01001_028E'].apply(changeInteger)\n",
    "df11['B01001_029E'] = df11['B01001_029E'].apply(changeInteger)\n",
    "df11['B01001_030E'] = df11['B01001_030E'].apply(changeInteger)\n",
    "df11['B01003_001E'] = df11['B01003_001E'].apply(changeInteger)"
   ]
  },
  {
   "cell_type": "code",
   "execution_count": 63,
   "id": "7ef3e8d6-ddb3-4693-8418-2b8891a87a16",
   "metadata": {},
   "outputs": [],
   "source": [
    "df11['percent_age_17_and_younger'] = ((df11['B01001_003E']+df11['B01001_004E']+df11['B01001_005E']+df11['B01001_006E']+df11['B01001_027E']+df11['B01001_028E']+df11['B01001_029E']+df11['B01001_030E'])/df11['B01003_001E'])*100"
   ]
  },
  {
   "cell_type": "code",
   "execution_count": 64,
   "id": "b4e9178e-a1d3-479b-8a8f-35eb701d327d",
   "metadata": {},
   "outputs": [
    {
     "data": {
      "text/html": [
       "<div>\n",
       "<style scoped>\n",
       "    .dataframe tbody tr th:only-of-type {\n",
       "        vertical-align: middle;\n",
       "    }\n",
       "\n",
       "    .dataframe tbody tr th {\n",
       "        vertical-align: top;\n",
       "    }\n",
       "\n",
       "    .dataframe thead th {\n",
       "        text-align: right;\n",
       "    }\n",
       "</style>\n",
       "<table border=\"1\" class=\"dataframe\">\n",
       "  <thead>\n",
       "    <tr style=\"text-align: right;\">\n",
       "      <th></th>\n",
       "      <th>county_name</th>\n",
       "      <th>B01001_003E</th>\n",
       "      <th>B01001_004E</th>\n",
       "      <th>B01001_005E</th>\n",
       "      <th>B01001_006E</th>\n",
       "      <th>B01001_027E</th>\n",
       "      <th>B01001_028E</th>\n",
       "      <th>B01001_029E</th>\n",
       "      <th>B01001_030E</th>\n",
       "      <th>B01003_001E</th>\n",
       "      <th>state code</th>\n",
       "      <th>county code</th>\n",
       "      <th>percent_age_17_and_younger</th>\n",
       "      <th>fips</th>\n",
       "    </tr>\n",
       "  </thead>\n",
       "  <tbody>\n",
       "    <tr>\n",
       "      <th>0</th>\n",
       "      <td>Autauga County, Alabama</td>\n",
       "      <td>1761</td>\n",
       "      <td>1643</td>\n",
       "      <td>2371</td>\n",
       "      <td>1315</td>\n",
       "      <td>1793</td>\n",
       "      <td>1780</td>\n",
       "      <td>2187</td>\n",
       "      <td>1318</td>\n",
       "      <td>50315</td>\n",
       "      <td>01</td>\n",
       "      <td>001</td>\n",
       "      <td>28.158601</td>\n",
       "      <td>01001</td>\n",
       "    </tr>\n",
       "    <tr>\n",
       "      <th>1</th>\n",
       "      <td>Baldwin County, Alabama</td>\n",
       "      <td>5546</td>\n",
       "      <td>5768</td>\n",
       "      <td>5680</td>\n",
       "      <td>3850</td>\n",
       "      <td>5517</td>\n",
       "      <td>5213</td>\n",
       "      <td>6052</td>\n",
       "      <td>3403</td>\n",
       "      <td>176302</td>\n",
       "      <td>01</td>\n",
       "      <td>003</td>\n",
       "      <td>23.271999</td>\n",
       "      <td>01003</td>\n",
       "    </tr>\n",
       "    <tr>\n",
       "      <th>2</th>\n",
       "      <td>Barbour County, Alabama</td>\n",
       "      <td>1076</td>\n",
       "      <td>934</td>\n",
       "      <td>902</td>\n",
       "      <td>469</td>\n",
       "      <td>560</td>\n",
       "      <td>964</td>\n",
       "      <td>767</td>\n",
       "      <td>789</td>\n",
       "      <td>29770</td>\n",
       "      <td>01</td>\n",
       "      <td>005</td>\n",
       "      <td>21.703057</td>\n",
       "      <td>01005</td>\n",
       "    </tr>\n",
       "    <tr>\n",
       "      <th>3</th>\n",
       "      <td>Bibb County, Alabama</td>\n",
       "      <td>685</td>\n",
       "      <td>740</td>\n",
       "      <td>779</td>\n",
       "      <td>536</td>\n",
       "      <td>626</td>\n",
       "      <td>920</td>\n",
       "      <td>636</td>\n",
       "      <td>182</td>\n",
       "      <td>21554</td>\n",
       "      <td>01</td>\n",
       "      <td>007</td>\n",
       "      <td>23.680059</td>\n",
       "      <td>01007</td>\n",
       "    </tr>\n",
       "    <tr>\n",
       "      <th>4</th>\n",
       "      <td>Blount County, Alabama</td>\n",
       "      <td>1962</td>\n",
       "      <td>2084</td>\n",
       "      <td>2116</td>\n",
       "      <td>1431</td>\n",
       "      <td>1855</td>\n",
       "      <td>1692</td>\n",
       "      <td>1982</td>\n",
       "      <td>1046</td>\n",
       "      <td>57668</td>\n",
       "      <td>01</td>\n",
       "      <td>009</td>\n",
       "      <td>24.568218</td>\n",
       "      <td>01009</td>\n",
       "    </tr>\n",
       "  </tbody>\n",
       "</table>\n",
       "</div>"
      ],
      "text/plain": [
       "               county_name  B01001_003E  B01001_004E  B01001_005E  \\\n",
       "0  Autauga County, Alabama         1761         1643         2371   \n",
       "1  Baldwin County, Alabama         5546         5768         5680   \n",
       "2  Barbour County, Alabama         1076          934          902   \n",
       "3     Bibb County, Alabama          685          740          779   \n",
       "4   Blount County, Alabama         1962         2084         2116   \n",
       "\n",
       "   B01001_006E  B01001_027E  B01001_028E  B01001_029E  B01001_030E  \\\n",
       "0         1315         1793         1780         2187         1318   \n",
       "1         3850         5517         5213         6052         3403   \n",
       "2          469          560          964          767          789   \n",
       "3          536          626          920          636          182   \n",
       "4         1431         1855         1692         1982         1046   \n",
       "\n",
       "   B01003_001E state code county code  percent_age_17_and_younger   fips  \n",
       "0        50315         01         001                   28.158601  01001  \n",
       "1       176302         01         003                   23.271999  01003  \n",
       "2        29770         01         005                   21.703057  01005  \n",
       "3        21554         01         007                   23.680059  01007  \n",
       "4        57668         01         009                   24.568218  01009  "
      ]
     },
     "execution_count": 64,
     "metadata": {},
     "output_type": "execute_result"
    }
   ],
   "source": [
    "df11['fips'] = df11['state code'] + df11['county code']\n",
    "df11.head()"
   ]
  },
  {
   "cell_type": "markdown",
   "id": "0dc9064e-fd0b-4281-8771-366259395f20",
   "metadata": {},
   "source": [
    "#### 12.Percent Minority: 1-(B03002_003E/B03002_001E)"
   ]
  },
  {
   "cell_type": "code",
   "execution_count": 65,
   "id": "0c50e5e9-378c-4077-80f2-687a37f92625",
   "metadata": {},
   "outputs": [
    {
     "name": "stdout",
     "output_type": "stream",
     "text": [
      "['NAME', 'B03002_003E', 'B03002_001E', 'state', 'county']\n"
     ]
    }
   ],
   "source": [
    "variables = 'B03002_003E,B03002_001E'\n",
    "df12 = collectAll_county(year,variables)"
   ]
  },
  {
   "cell_type": "code",
   "execution_count": 66,
   "id": "e07e365e-585c-4b97-ba5e-25fa6039d637",
   "metadata": {},
   "outputs": [
    {
     "data": {
      "text/plain": [
       "(1888, 5)"
      ]
     },
     "execution_count": 66,
     "metadata": {},
     "output_type": "execute_result"
    }
   ],
   "source": [
    "df12.shape"
   ]
  },
  {
   "cell_type": "code",
   "execution_count": 67,
   "id": "dbe1bd76-0991-4fd4-a082-6f9a49c9abd3",
   "metadata": {},
   "outputs": [],
   "source": [
    "df12['B03002_003E'] = df12['B03002_003E'].apply(changeInteger)\n",
    "df12['B03002_001E'] = df12['B03002_001E'].apply(changeInteger)"
   ]
  },
  {
   "cell_type": "code",
   "execution_count": 68,
   "id": "156010fd-f12e-4306-b90e-e4b0183df959",
   "metadata": {},
   "outputs": [],
   "source": [
    "df12['percent_minorities'] = (1 - (df12['B03002_003E']/df12['B03002_001E']))*100"
   ]
  },
  {
   "cell_type": "code",
   "execution_count": 69,
   "id": "7ef360b7-92cf-445f-a5fc-04cbe424922f",
   "metadata": {},
   "outputs": [
    {
     "data": {
      "text/html": [
       "<div>\n",
       "<style scoped>\n",
       "    .dataframe tbody tr th:only-of-type {\n",
       "        vertical-align: middle;\n",
       "    }\n",
       "\n",
       "    .dataframe tbody tr th {\n",
       "        vertical-align: top;\n",
       "    }\n",
       "\n",
       "    .dataframe thead th {\n",
       "        text-align: right;\n",
       "    }\n",
       "</style>\n",
       "<table border=\"1\" class=\"dataframe\">\n",
       "  <thead>\n",
       "    <tr style=\"text-align: right;\">\n",
       "      <th></th>\n",
       "      <th>county_name</th>\n",
       "      <th>B03002_003E</th>\n",
       "      <th>B03002_001E</th>\n",
       "      <th>state code</th>\n",
       "      <th>county code</th>\n",
       "      <th>percent_minorities</th>\n",
       "      <th>fips</th>\n",
       "    </tr>\n",
       "  </thead>\n",
       "  <tbody>\n",
       "    <tr>\n",
       "      <th>0</th>\n",
       "      <td>Kenai Peninsula Borough, Alaska</td>\n",
       "      <td>45258.0</td>\n",
       "      <td>53851.0</td>\n",
       "      <td>02</td>\n",
       "      <td>122</td>\n",
       "      <td>15.956992</td>\n",
       "      <td>02122</td>\n",
       "    </tr>\n",
       "    <tr>\n",
       "      <th>1</th>\n",
       "      <td>Matanuska-Susitna Borough, Alaska</td>\n",
       "      <td>71566.0</td>\n",
       "      <td>85367.0</td>\n",
       "      <td>02</td>\n",
       "      <td>170</td>\n",
       "      <td>16.166669</td>\n",
       "      <td>02170</td>\n",
       "    </tr>\n",
       "    <tr>\n",
       "      <th>2</th>\n",
       "      <td>Apache County, Arizona</td>\n",
       "      <td>13625.0</td>\n",
       "      <td>69796.0</td>\n",
       "      <td>04</td>\n",
       "      <td>001</td>\n",
       "      <td>80.478824</td>\n",
       "      <td>04001</td>\n",
       "    </tr>\n",
       "    <tr>\n",
       "      <th>3</th>\n",
       "      <td>Cochise County, Arizona</td>\n",
       "      <td>75609.0</td>\n",
       "      <td>128560.0</td>\n",
       "      <td>04</td>\n",
       "      <td>003</td>\n",
       "      <td>41.187772</td>\n",
       "      <td>04003</td>\n",
       "    </tr>\n",
       "    <tr>\n",
       "      <th>4</th>\n",
       "      <td>Coconino County, Arizona</td>\n",
       "      <td>69274.0</td>\n",
       "      <td>128575.0</td>\n",
       "      <td>04</td>\n",
       "      <td>005</td>\n",
       "      <td>46.121719</td>\n",
       "      <td>04005</td>\n",
       "    </tr>\n",
       "  </tbody>\n",
       "</table>\n",
       "</div>"
      ],
      "text/plain": [
       "                         county_name  B03002_003E  B03002_001E state code  \\\n",
       "0    Kenai Peninsula Borough, Alaska      45258.0      53851.0         02   \n",
       "1  Matanuska-Susitna Borough, Alaska      71566.0      85367.0         02   \n",
       "2             Apache County, Arizona      13625.0      69796.0         04   \n",
       "3            Cochise County, Arizona      75609.0     128560.0         04   \n",
       "4           Coconino County, Arizona      69274.0     128575.0         04   \n",
       "\n",
       "  county code  percent_minorities   fips  \n",
       "0         122           15.956992  02122  \n",
       "1         170           16.166669  02170  \n",
       "2         001           80.478824  04001  \n",
       "3         003           41.187772  04003  \n",
       "4         005           46.121719  04005  "
      ]
     },
     "execution_count": 69,
     "metadata": {},
     "output_type": "execute_result"
    }
   ],
   "source": [
    "df12['fips'] = df12['state code'] + df12['county code']\n",
    "df12.head()"
   ]
  },
  {
   "cell_type": "markdown",
   "id": "9733cd2c-c058-4c64-af28-8b32a4c8c066",
   "metadata": {},
   "source": [
    "#### 13.Percent of Population with a Disability: (B18101_004E+B18101_007E+B18101_010E+B18101_013E+B18101_016E+B18101_019E)/B18101_002E + (B18101_023E+B18101_026E+B18101_029E+B18101_032E+B18101_035E+B18101_038E)/B18101_021E"
   ]
  },
  {
   "cell_type": "code",
   "execution_count": 70,
   "id": "9d1f58e4-a62a-4b64-b7d4-9e75900dd490",
   "metadata": {},
   "outputs": [
    {
     "name": "stdout",
     "output_type": "stream",
     "text": [
      "['NAME', 'B18101_004E', 'B18101_007E', 'B18101_010E', 'B18101_013E', 'B18101_016E', 'B18101_019E', 'B18101_002E', 'B18101_023E', 'B18101_026E', 'B18101_029E', 'B18101_032E', 'B18101_035E', 'B18101_038E', 'B18101_021E', 'state', 'county']\n"
     ]
    }
   ],
   "source": [
    "variables = 'B18101_004E,B18101_007E,B18101_010E,B18101_013E,B18101_016E,B18101_019E,B18101_002E,B18101_023E,B18101_026E,B18101_029E,B18101_032E,B18101_035E,B18101_038E,B18101_021E'\n",
    "df13 = collectAll_county2(year,variables)"
   ]
  },
  {
   "cell_type": "code",
   "execution_count": 71,
   "id": "33abb6e8-5a53-423b-a4b2-c6b14f590b39",
   "metadata": {},
   "outputs": [
    {
     "data": {
      "text/plain": [
       "(805, 17)"
      ]
     },
     "execution_count": 71,
     "metadata": {},
     "output_type": "execute_result"
    }
   ],
   "source": [
    "df13.shape"
   ]
  },
  {
   "cell_type": "code",
   "execution_count": 72,
   "id": "27f65624-f448-401a-804f-ae498856af93",
   "metadata": {},
   "outputs": [],
   "source": [
    "df13['B18101_004E'] = df13['B18101_004E'].apply(changeInteger)\n",
    "df13['B18101_007E'] = df13['B18101_007E'].apply(changeInteger)\n",
    "df13['B18101_010E'] = df13['B18101_010E'].apply(changeInteger)\n",
    "df13['B18101_013E'] = df13['B18101_013E'].apply(changeInteger)\n",
    "df13['B18101_016E'] = df13['B18101_016E'].apply(changeInteger)\n",
    "df13['B18101_002E'] = df13['B18101_002E'].apply(changeInteger)\n",
    "df13['B18101_023E'] = df13['B18101_023E'].apply(changeInteger)\n",
    "df13['B18101_026E'] = df13['B18101_026E'].apply(changeInteger)\n",
    "df13['B18101_029E'] = df13['B18101_029E'].apply(changeInteger)\n",
    "df13['B18101_032E'] = df13['B18101_032E'].apply(changeInteger)\n",
    "df13['B18101_035E'] = df13['B18101_035E'].apply(changeInteger)\n",
    "df13['B18101_038E'] = df13['B18101_038E'].apply(changeInteger)\n",
    "df13['B18101_021E'] = df13['B18101_021E'].apply(changeInteger)"
   ]
  },
  {
   "cell_type": "code",
   "execution_count": 73,
   "id": "3152ec37-5bda-4767-a23b-4af35f4a80a7",
   "metadata": {},
   "outputs": [],
   "source": [
    "df13['percent_disabled'] = ((df13['B18101_004E']+df13['B18101_007E']+df13['B18101_010E']+df13['B18101_013E']+df13['B18101_016E'])/df13['B18101_002E'] + (df13['B18101_023E']+df13['B18101_026E']+df13['B18101_029E']+df13['B18101_032E']+df13['B18101_035E']+df13['B18101_038E'])/df13['B18101_021E'])*100"
   ]
  },
  {
   "cell_type": "code",
   "execution_count": 74,
   "id": "2ff35508-4ed4-4ee4-89e6-459ec0fb53f4",
   "metadata": {},
   "outputs": [
    {
     "data": {
      "text/html": [
       "<div>\n",
       "<style scoped>\n",
       "    .dataframe tbody tr th:only-of-type {\n",
       "        vertical-align: middle;\n",
       "    }\n",
       "\n",
       "    .dataframe tbody tr th {\n",
       "        vertical-align: top;\n",
       "    }\n",
       "\n",
       "    .dataframe thead th {\n",
       "        text-align: right;\n",
       "    }\n",
       "</style>\n",
       "<table border=\"1\" class=\"dataframe\">\n",
       "  <thead>\n",
       "    <tr style=\"text-align: right;\">\n",
       "      <th></th>\n",
       "      <th>county_name</th>\n",
       "      <th>B18101_004E</th>\n",
       "      <th>B18101_007E</th>\n",
       "      <th>B18101_010E</th>\n",
       "      <th>B18101_013E</th>\n",
       "      <th>B18101_016E</th>\n",
       "      <th>B18101_019E</th>\n",
       "      <th>B18101_002E</th>\n",
       "      <th>B18101_023E</th>\n",
       "      <th>B18101_026E</th>\n",
       "      <th>B18101_029E</th>\n",
       "      <th>B18101_032E</th>\n",
       "      <th>B18101_035E</th>\n",
       "      <th>B18101_038E</th>\n",
       "      <th>B18101_021E</th>\n",
       "      <th>state code</th>\n",
       "      <th>county code</th>\n",
       "      <th>percent_disabled</th>\n",
       "      <th>fips</th>\n",
       "    </tr>\n",
       "  </thead>\n",
       "  <tbody>\n",
       "    <tr>\n",
       "      <th>0</th>\n",
       "      <td>El Paso County, Texas</td>\n",
       "      <td>0</td>\n",
       "      <td>4649</td>\n",
       "      <td>3632</td>\n",
       "      <td>15570</td>\n",
       "      <td>5729</td>\n",
       "      <td>7714</td>\n",
       "      <td>347383</td>\n",
       "      <td>214</td>\n",
       "      <td>2309</td>\n",
       "      <td>3585</td>\n",
       "      <td>17446</td>\n",
       "      <td>7555</td>\n",
       "      <td>13989</td>\n",
       "      <td>383941</td>\n",
       "      <td>48</td>\n",
       "      <td>141</td>\n",
       "      <td>20.261173</td>\n",
       "      <td>48141</td>\n",
       "    </tr>\n",
       "    <tr>\n",
       "      <th>1</th>\n",
       "      <td>Fort Bend County, Texas</td>\n",
       "      <td>148</td>\n",
       "      <td>2730</td>\n",
       "      <td>2473</td>\n",
       "      <td>8295</td>\n",
       "      <td>2182</td>\n",
       "      <td>3709</td>\n",
       "      <td>272988</td>\n",
       "      <td>0</td>\n",
       "      <td>1637</td>\n",
       "      <td>1615</td>\n",
       "      <td>7413</td>\n",
       "      <td>2793</td>\n",
       "      <td>4939</td>\n",
       "      <td>278447</td>\n",
       "      <td>48</td>\n",
       "      <td>157</td>\n",
       "      <td>12.405059</td>\n",
       "      <td>48157</td>\n",
       "    </tr>\n",
       "    <tr>\n",
       "      <th>2</th>\n",
       "      <td>Galveston County, Texas</td>\n",
       "      <td>107</td>\n",
       "      <td>1802</td>\n",
       "      <td>980</td>\n",
       "      <td>6907</td>\n",
       "      <td>2046</td>\n",
       "      <td>2725</td>\n",
       "      <td>138863</td>\n",
       "      <td>0</td>\n",
       "      <td>968</td>\n",
       "      <td>1080</td>\n",
       "      <td>6778</td>\n",
       "      <td>2709</td>\n",
       "      <td>4987</td>\n",
       "      <td>145464</td>\n",
       "      <td>48</td>\n",
       "      <td>167</td>\n",
       "      <td>19.885966</td>\n",
       "      <td>48167</td>\n",
       "    </tr>\n",
       "    <tr>\n",
       "      <th>3</th>\n",
       "      <td>Grayson County, Texas</td>\n",
       "      <td>0</td>\n",
       "      <td>542</td>\n",
       "      <td>364</td>\n",
       "      <td>3851</td>\n",
       "      <td>1912</td>\n",
       "      <td>1603</td>\n",
       "      <td>57965</td>\n",
       "      <td>0</td>\n",
       "      <td>853</td>\n",
       "      <td>574</td>\n",
       "      <td>4168</td>\n",
       "      <td>1230</td>\n",
       "      <td>2649</td>\n",
       "      <td>60448</td>\n",
       "      <td>48</td>\n",
       "      <td>181</td>\n",
       "      <td>27.178194</td>\n",
       "      <td>48181</td>\n",
       "    </tr>\n",
       "    <tr>\n",
       "      <th>4</th>\n",
       "      <td>Gregg County, Texas</td>\n",
       "      <td>93</td>\n",
       "      <td>1371</td>\n",
       "      <td>1257</td>\n",
       "      <td>3394</td>\n",
       "      <td>1186</td>\n",
       "      <td>1236</td>\n",
       "      <td>56665</td>\n",
       "      <td>0</td>\n",
       "      <td>750</td>\n",
       "      <td>568</td>\n",
       "      <td>4653</td>\n",
       "      <td>1267</td>\n",
       "      <td>3063</td>\n",
       "      <td>61612</td>\n",
       "      <td>48</td>\n",
       "      <td>183</td>\n",
       "      <td>29.603642</td>\n",
       "      <td>48183</td>\n",
       "    </tr>\n",
       "  </tbody>\n",
       "</table>\n",
       "</div>"
      ],
      "text/plain": [
       "               county_name  B18101_004E  B18101_007E  B18101_010E  \\\n",
       "0    El Paso County, Texas            0         4649         3632   \n",
       "1  Fort Bend County, Texas          148         2730         2473   \n",
       "2  Galveston County, Texas          107         1802          980   \n",
       "3    Grayson County, Texas            0          542          364   \n",
       "4      Gregg County, Texas           93         1371         1257   \n",
       "\n",
       "   B18101_013E  B18101_016E B18101_019E  B18101_002E  B18101_023E  \\\n",
       "0        15570         5729        7714       347383          214   \n",
       "1         8295         2182        3709       272988            0   \n",
       "2         6907         2046        2725       138863            0   \n",
       "3         3851         1912        1603        57965            0   \n",
       "4         3394         1186        1236        56665            0   \n",
       "\n",
       "   B18101_026E  B18101_029E  B18101_032E  B18101_035E  B18101_038E  \\\n",
       "0         2309         3585        17446         7555        13989   \n",
       "1         1637         1615         7413         2793         4939   \n",
       "2          968         1080         6778         2709         4987   \n",
       "3          853          574         4168         1230         2649   \n",
       "4          750          568         4653         1267         3063   \n",
       "\n",
       "   B18101_021E state code county code  percent_disabled   fips  \n",
       "0       383941         48         141         20.261173  48141  \n",
       "1       278447         48         157         12.405059  48157  \n",
       "2       145464         48         167         19.885966  48167  \n",
       "3        60448         48         181         27.178194  48181  \n",
       "4        61612         48         183         29.603642  48183  "
      ]
     },
     "execution_count": 74,
     "metadata": {},
     "output_type": "execute_result"
    }
   ],
   "source": [
    "df13['fips'] = df13['state code'] + df13['county code']\n",
    "df13.head()"
   ]
  },
  {
   "cell_type": "markdown",
   "id": "e94438b4-e185-4f2d-89cd-369beeacf4be",
   "metadata": {},
   "source": [
    "#### 14.Percent of Population Living in Group Quarters: B26001_001E/B01003_001E"
   ]
  },
  {
   "cell_type": "code",
   "execution_count": 75,
   "id": "c4352062-4f3f-4d14-8968-3c70d8a3228f",
   "metadata": {},
   "outputs": [
    {
     "name": "stdout",
     "output_type": "stream",
     "text": [
      "['NAME', 'B26001_001E', 'B01003_001E', 'state', 'county']\n"
     ]
    }
   ],
   "source": [
    "variables = 'B26001_001E,B01003_001E'\n",
    "df14 = collectAll_county(year,variables)"
   ]
  },
  {
   "cell_type": "code",
   "execution_count": 76,
   "id": "ce36db24-97f4-43c4-bb4b-43ad3181d51b",
   "metadata": {},
   "outputs": [
    {
     "data": {
      "text/plain": [
       "(1888, 5)"
      ]
     },
     "execution_count": 76,
     "metadata": {},
     "output_type": "execute_result"
    }
   ],
   "source": [
    "df14.shape"
   ]
  },
  {
   "cell_type": "code",
   "execution_count": 77,
   "id": "67a5eb8e-0e90-4e1e-8c02-b74ac7717e5d",
   "metadata": {},
   "outputs": [],
   "source": [
    "df14['B26001_001E'] = df14['B26001_001E'].apply(changeInteger)\n",
    "df14['B01003_001E'] = df14['B01003_001E'].apply(changeInteger)"
   ]
  },
  {
   "cell_type": "code",
   "execution_count": 78,
   "id": "0fc7a5a2-9133-4096-b752-b1241ab76905",
   "metadata": {},
   "outputs": [],
   "source": [
    "df14['percent_institutionalized_in_group_quarters'] = (df14['B26001_001E']/df14['B01003_001E'])*100"
   ]
  },
  {
   "cell_type": "code",
   "execution_count": 79,
   "id": "a499fda8-15f8-448e-93fd-aa3b2eb601cf",
   "metadata": {},
   "outputs": [
    {
     "data": {
      "text/html": [
       "<div>\n",
       "<style scoped>\n",
       "    .dataframe tbody tr th:only-of-type {\n",
       "        vertical-align: middle;\n",
       "    }\n",
       "\n",
       "    .dataframe tbody tr th {\n",
       "        vertical-align: top;\n",
       "    }\n",
       "\n",
       "    .dataframe thead th {\n",
       "        text-align: right;\n",
       "    }\n",
       "</style>\n",
       "<table border=\"1\" class=\"dataframe\">\n",
       "  <thead>\n",
       "    <tr style=\"text-align: right;\">\n",
       "      <th></th>\n",
       "      <th>county_name</th>\n",
       "      <th>B26001_001E</th>\n",
       "      <th>B01003_001E</th>\n",
       "      <th>state code</th>\n",
       "      <th>county code</th>\n",
       "      <th>percent_institutionalized_in_group_quarters</th>\n",
       "      <th>fips</th>\n",
       "    </tr>\n",
       "  </thead>\n",
       "  <tbody>\n",
       "    <tr>\n",
       "      <th>0</th>\n",
       "      <td>Autauga County, Alabama</td>\n",
       "      <td>NaN</td>\n",
       "      <td>50315</td>\n",
       "      <td>01</td>\n",
       "      <td>001</td>\n",
       "      <td>NaN</td>\n",
       "      <td>01001</td>\n",
       "    </tr>\n",
       "    <tr>\n",
       "      <th>1</th>\n",
       "      <td>Baldwin County, Alabama</td>\n",
       "      <td>1909.0</td>\n",
       "      <td>176302</td>\n",
       "      <td>01</td>\n",
       "      <td>003</td>\n",
       "      <td>1.082801</td>\n",
       "      <td>01003</td>\n",
       "    </tr>\n",
       "    <tr>\n",
       "      <th>2</th>\n",
       "      <td>Barbour County, Alabama</td>\n",
       "      <td>2850.0</td>\n",
       "      <td>29770</td>\n",
       "      <td>01</td>\n",
       "      <td>005</td>\n",
       "      <td>9.573396</td>\n",
       "      <td>01005</td>\n",
       "    </tr>\n",
       "    <tr>\n",
       "      <th>3</th>\n",
       "      <td>Bibb County, Alabama</td>\n",
       "      <td>565.0</td>\n",
       "      <td>21554</td>\n",
       "      <td>01</td>\n",
       "      <td>007</td>\n",
       "      <td>2.621323</td>\n",
       "      <td>01007</td>\n",
       "    </tr>\n",
       "    <tr>\n",
       "      <th>4</th>\n",
       "      <td>Blount County, Alabama</td>\n",
       "      <td>400.0</td>\n",
       "      <td>57668</td>\n",
       "      <td>01</td>\n",
       "      <td>009</td>\n",
       "      <td>0.693626</td>\n",
       "      <td>01009</td>\n",
       "    </tr>\n",
       "  </tbody>\n",
       "</table>\n",
       "</div>"
      ],
      "text/plain": [
       "               county_name  B26001_001E  B01003_001E state code county code  \\\n",
       "0  Autauga County, Alabama          NaN        50315         01         001   \n",
       "1  Baldwin County, Alabama       1909.0       176302         01         003   \n",
       "2  Barbour County, Alabama       2850.0        29770         01         005   \n",
       "3     Bibb County, Alabama        565.0        21554         01         007   \n",
       "4   Blount County, Alabama        400.0        57668         01         009   \n",
       "\n",
       "   percent_institutionalized_in_group_quarters   fips  \n",
       "0                                          NaN  01001  \n",
       "1                                     1.082801  01003  \n",
       "2                                     9.573396  01005  \n",
       "3                                     2.621323  01007  \n",
       "4                                     0.693626  01009  "
      ]
     },
     "execution_count": 79,
     "metadata": {},
     "output_type": "execute_result"
    }
   ],
   "source": [
    "df14['fips'] = df14['state code'] + df14['county code']\n",
    "df14.head()"
   ]
  },
  {
   "cell_type": "markdown",
   "id": "74b84cad-5d54-44dd-9cb8-1c663ac8ca10",
   "metadata": {},
   "source": [
    "#### 15.Percent of Children Living in Single Parent Households: (B09008_010E+B09008_011E+B09008_012E)/B09008_001E"
   ]
  },
  {
   "cell_type": "code",
   "execution_count": 80,
   "id": "bff02592-6a29-43d7-92c2-5b580485d18c",
   "metadata": {},
   "outputs": [
    {
     "name": "stdout",
     "output_type": "stream",
     "text": [
      "['NAME', 'B09008_010E', 'B09008_011E', 'B09008_012E', 'B09008_001E', 'state', 'county']\n"
     ]
    }
   ],
   "source": [
    "variables = 'B09008_010E,B09008_011E,B09008_012E,B09008_001E'\n",
    "df15 = collectAll_county2(year,variables)"
   ]
  },
  {
   "cell_type": "code",
   "execution_count": 81,
   "id": "cc8d4588-83c4-4f84-84d0-1a379ce8de09",
   "metadata": {},
   "outputs": [
    {
     "data": {
      "text/plain": [
       "(805, 7)"
      ]
     },
     "execution_count": 81,
     "metadata": {},
     "output_type": "execute_result"
    }
   ],
   "source": [
    "df15.shape"
   ]
  },
  {
   "cell_type": "code",
   "execution_count": 82,
   "id": "0aecfcf2-8774-4221-b2b3-d671c79d60e7",
   "metadata": {},
   "outputs": [],
   "source": [
    "df15['B09008_010E'] = df15['B09008_010E'].apply(changeInteger)\n",
    "df15['B09008_011E'] = df15['B09008_011E'].apply(changeInteger)\n",
    "df15['B09008_012E'] = df15['B09008_012E'].apply(changeInteger)\n",
    "df15['B09008_001E'] = df15['B09008_001E'].apply(changeInteger)"
   ]
  },
  {
   "cell_type": "code",
   "execution_count": 83,
   "id": "48279050-99e3-401e-97d2-801d995710c2",
   "metadata": {},
   "outputs": [],
   "source": [
    "df15['percent_single_parent_households_CDC'] = ((df15['B09008_010E'] + df15['B09008_011E']+df15['B09008_012E'])/df15['B09008_001E'])*100"
   ]
  },
  {
   "cell_type": "code",
   "execution_count": 84,
   "id": "ff96d4cd-45ba-4f4c-b57b-5b4c0f397a84",
   "metadata": {},
   "outputs": [
    {
     "data": {
      "text/html": [
       "<div>\n",
       "<style scoped>\n",
       "    .dataframe tbody tr th:only-of-type {\n",
       "        vertical-align: middle;\n",
       "    }\n",
       "\n",
       "    .dataframe tbody tr th {\n",
       "        vertical-align: top;\n",
       "    }\n",
       "\n",
       "    .dataframe thead th {\n",
       "        text-align: right;\n",
       "    }\n",
       "</style>\n",
       "<table border=\"1\" class=\"dataframe\">\n",
       "  <thead>\n",
       "    <tr style=\"text-align: right;\">\n",
       "      <th></th>\n",
       "      <th>county_name</th>\n",
       "      <th>B09008_010E</th>\n",
       "      <th>B09008_011E</th>\n",
       "      <th>B09008_012E</th>\n",
       "      <th>B09008_001E</th>\n",
       "      <th>state code</th>\n",
       "      <th>county code</th>\n",
       "      <th>percent_single_parent_households_CDC</th>\n",
       "      <th>fips</th>\n",
       "    </tr>\n",
       "  </thead>\n",
       "  <tbody>\n",
       "    <tr>\n",
       "      <th>0</th>\n",
       "      <td>Denver County, Colorado</td>\n",
       "      <td>8384.0</td>\n",
       "      <td>35794.0</td>\n",
       "      <td>542.0</td>\n",
       "      <td>138980.0</td>\n",
       "      <td>08</td>\n",
       "      <td>031</td>\n",
       "      <td>32.177292</td>\n",
       "      <td>08031</td>\n",
       "    </tr>\n",
       "    <tr>\n",
       "      <th>1</th>\n",
       "      <td>Douglas County, Colorado</td>\n",
       "      <td>1975.0</td>\n",
       "      <td>6754.0</td>\n",
       "      <td>183.0</td>\n",
       "      <td>84609.0</td>\n",
       "      <td>08</td>\n",
       "      <td>035</td>\n",
       "      <td>10.533158</td>\n",
       "      <td>08035</td>\n",
       "    </tr>\n",
       "    <tr>\n",
       "      <th>2</th>\n",
       "      <td>El Paso County, Colorado</td>\n",
       "      <td>5511.0</td>\n",
       "      <td>27914.0</td>\n",
       "      <td>1225.0</td>\n",
       "      <td>156032.0</td>\n",
       "      <td>08</td>\n",
       "      <td>041</td>\n",
       "      <td>22.206983</td>\n",
       "      <td>08041</td>\n",
       "    </tr>\n",
       "    <tr>\n",
       "      <th>3</th>\n",
       "      <td>Jefferson County, Colorado</td>\n",
       "      <td>5015.0</td>\n",
       "      <td>18389.0</td>\n",
       "      <td>141.0</td>\n",
       "      <td>119687.0</td>\n",
       "      <td>08</td>\n",
       "      <td>059</td>\n",
       "      <td>19.672145</td>\n",
       "      <td>08059</td>\n",
       "    </tr>\n",
       "    <tr>\n",
       "      <th>4</th>\n",
       "      <td>Larimer County, Colorado</td>\n",
       "      <td>2198.0</td>\n",
       "      <td>8828.0</td>\n",
       "      <td>0.0</td>\n",
       "      <td>62469.0</td>\n",
       "      <td>08</td>\n",
       "      <td>069</td>\n",
       "      <td>17.650355</td>\n",
       "      <td>08069</td>\n",
       "    </tr>\n",
       "  </tbody>\n",
       "</table>\n",
       "</div>"
      ],
      "text/plain": [
       "                  county_name  B09008_010E  B09008_011E  B09008_012E  \\\n",
       "0     Denver County, Colorado       8384.0      35794.0        542.0   \n",
       "1    Douglas County, Colorado       1975.0       6754.0        183.0   \n",
       "2    El Paso County, Colorado       5511.0      27914.0       1225.0   \n",
       "3  Jefferson County, Colorado       5015.0      18389.0        141.0   \n",
       "4    Larimer County, Colorado       2198.0       8828.0          0.0   \n",
       "\n",
       "   B09008_001E state code county code  percent_single_parent_households_CDC  \\\n",
       "0     138980.0         08         031                             32.177292   \n",
       "1      84609.0         08         035                             10.533158   \n",
       "2     156032.0         08         041                             22.206983   \n",
       "3     119687.0         08         059                             19.672145   \n",
       "4      62469.0         08         069                             17.650355   \n",
       "\n",
       "    fips  \n",
       "0  08031  \n",
       "1  08035  \n",
       "2  08041  \n",
       "3  08059  \n",
       "4  08069  "
      ]
     },
     "execution_count": 84,
     "metadata": {},
     "output_type": "execute_result"
    }
   ],
   "source": [
    "df15['fips'] = df15['state code'] + df15['county code']\n",
    "df15.head()"
   ]
  },
  {
   "cell_type": "markdown",
   "id": "5acf173f-f4e1-4ded-a20b-61609a7be6a1",
   "metadata": {},
   "source": [
    "### age 18 to 34\n",
    "#### (B01001_007E+B01001_008E+B01001_009E+B01001_010E+B01001_011E+B01001_012E+B01001_031E+B01001_032E+B01001_033E+B01001_034E+B01001_035E+B01001_036E)/B01001_001E"
   ]
  },
  {
   "cell_type": "code",
   "execution_count": 85,
   "id": "330f9eb3-7e29-4ad8-9245-a595906bc370",
   "metadata": {},
   "outputs": [
    {
     "name": "stdout",
     "output_type": "stream",
     "text": [
      "['NAME', 'B01001_007E', 'B01001_008E', 'B01001_009E', 'B01001_010E', 'B01001_011E', 'B01001_012E', 'B01001_031E', 'B01001_032E', 'B01001_033E', 'B01001_034E', 'B01001_035E', 'B01001_036E', 'B01001_001E', 'state', 'county']\n"
     ]
    }
   ],
   "source": [
    "variables = 'B01001_007E,B01001_008E,B01001_009E,B01001_010E,B01001_011E,B01001_012E,B01001_031E,B01001_032E,B01001_033E,B01001_034E,B01001_035E,B01001_036E,B01001_001E'\n",
    "df16 = collectAll_county(year,variables)"
   ]
  },
  {
   "cell_type": "code",
   "execution_count": 86,
   "id": "6f63b764-614b-49c4-ab6e-c7844b362c09",
   "metadata": {},
   "outputs": [],
   "source": [
    "df16['B01001_007E'] = df16['B01001_007E'].apply(changeInteger)\n",
    "df16['B01001_008E'] = df16['B01001_008E'].apply(changeInteger)\n",
    "df16['B01001_009E'] = df16['B01001_009E'].apply(changeInteger)\n",
    "df16['B01001_010E'] = df16['B01001_010E'].apply(changeInteger)\n",
    "df16['B01001_011E'] = df16['B01001_011E'].apply(changeInteger)\n",
    "df16['B01001_012E'] = df16['B01001_012E'].apply(changeInteger)\n",
    "df16['B01001_031E'] = df16['B01001_031E'].apply(changeInteger)\n",
    "df16['B01001_032E'] = df16['B01001_032E'].apply(changeInteger)\n",
    "df16['B01001_033E'] = df16['B01001_033E'].apply(changeInteger)\n",
    "df16['B01001_034E'] = df16['B01001_034E'].apply(changeInteger)\n",
    "df16['B01001_035E'] = df16['B01001_035E'].apply(changeInteger)\n",
    "df16['B01001_036E'] = df16['B01001_036E'].apply(changeInteger)\n",
    "df16['B01001_001E'] = df16['B01001_001E'].apply(changeInteger)"
   ]
  },
  {
   "cell_type": "code",
   "execution_count": 87,
   "id": "086b601c-6584-4cec-b89e-6738c02f4918",
   "metadata": {},
   "outputs": [],
   "source": [
    "df16['percent_age_18_to_34'] = ((df16['B01001_007E'] + df16['B01001_008E'] +df16['B01001_009E'] +df16['B01001_010E'] +df16['B01001_011E']+df16['B01001_012E']+df16['B01001_031E']+df16['B01001_032E']+df16['B01001_033E']+df16['B01001_034E']+df16['B01001_035E']+df16['B01001_036E'])/df16['B01001_001E'])*100"
   ]
  },
  {
   "cell_type": "code",
   "execution_count": 88,
   "id": "4cf1c1e8-6ddb-4691-b8dd-fdf25c669094",
   "metadata": {},
   "outputs": [
    {
     "data": {
      "text/html": [
       "<div>\n",
       "<style scoped>\n",
       "    .dataframe tbody tr th:only-of-type {\n",
       "        vertical-align: middle;\n",
       "    }\n",
       "\n",
       "    .dataframe tbody tr th {\n",
       "        vertical-align: top;\n",
       "    }\n",
       "\n",
       "    .dataframe thead th {\n",
       "        text-align: right;\n",
       "    }\n",
       "</style>\n",
       "<table border=\"1\" class=\"dataframe\">\n",
       "  <thead>\n",
       "    <tr style=\"text-align: right;\">\n",
       "      <th></th>\n",
       "      <th>county_name</th>\n",
       "      <th>B01001_007E</th>\n",
       "      <th>B01001_008E</th>\n",
       "      <th>B01001_009E</th>\n",
       "      <th>B01001_010E</th>\n",
       "      <th>B01001_011E</th>\n",
       "      <th>B01001_012E</th>\n",
       "      <th>B01001_031E</th>\n",
       "      <th>B01001_032E</th>\n",
       "      <th>B01001_033E</th>\n",
       "      <th>B01001_034E</th>\n",
       "      <th>B01001_035E</th>\n",
       "      <th>B01001_036E</th>\n",
       "      <th>B01001_001E</th>\n",
       "      <th>state code</th>\n",
       "      <th>county code</th>\n",
       "      <th>percent_age_18_to_34</th>\n",
       "      <th>fips</th>\n",
       "    </tr>\n",
       "  </thead>\n",
       "  <tbody>\n",
       "    <tr>\n",
       "      <th>0</th>\n",
       "      <td>Cumberland County, Maine</td>\n",
       "      <td>4161</td>\n",
       "      <td>1857</td>\n",
       "      <td>2138</td>\n",
       "      <td>5614</td>\n",
       "      <td>9090</td>\n",
       "      <td>7943</td>\n",
       "      <td>3954</td>\n",
       "      <td>1938</td>\n",
       "      <td>1951</td>\n",
       "      <td>4929</td>\n",
       "      <td>8795</td>\n",
       "      <td>8387</td>\n",
       "      <td>277365</td>\n",
       "      <td>23</td>\n",
       "      <td>005</td>\n",
       "      <td>21.905071</td>\n",
       "      <td>23005</td>\n",
       "    </tr>\n",
       "    <tr>\n",
       "      <th>1</th>\n",
       "      <td>Franklin County, Maine</td>\n",
       "      <td>531</td>\n",
       "      <td>246</td>\n",
       "      <td>301</td>\n",
       "      <td>468</td>\n",
       "      <td>868</td>\n",
       "      <td>756</td>\n",
       "      <td>752</td>\n",
       "      <td>326</td>\n",
       "      <td>367</td>\n",
       "      <td>355</td>\n",
       "      <td>1003</td>\n",
       "      <td>844</td>\n",
       "      <td>29758</td>\n",
       "      <td>23</td>\n",
       "      <td>007</td>\n",
       "      <td>22.908126</td>\n",
       "      <td>23007</td>\n",
       "    </tr>\n",
       "    <tr>\n",
       "      <th>2</th>\n",
       "      <td>Hancock County, Maine</td>\n",
       "      <td>827</td>\n",
       "      <td>498</td>\n",
       "      <td>272</td>\n",
       "      <td>1083</td>\n",
       "      <td>1228</td>\n",
       "      <td>1186</td>\n",
       "      <td>751</td>\n",
       "      <td>376</td>\n",
       "      <td>242</td>\n",
       "      <td>864</td>\n",
       "      <td>1288</td>\n",
       "      <td>1300</td>\n",
       "      <td>53397</td>\n",
       "      <td>23</td>\n",
       "      <td>009</td>\n",
       "      <td>18.568459</td>\n",
       "      <td>23009</td>\n",
       "    </tr>\n",
       "    <tr>\n",
       "      <th>3</th>\n",
       "      <td>Kennebec County, Maine</td>\n",
       "      <td>1802</td>\n",
       "      <td>915</td>\n",
       "      <td>677</td>\n",
       "      <td>2271</td>\n",
       "      <td>3192</td>\n",
       "      <td>3027</td>\n",
       "      <td>1745</td>\n",
       "      <td>919</td>\n",
       "      <td>847</td>\n",
       "      <td>2004</td>\n",
       "      <td>3143</td>\n",
       "      <td>3326</td>\n",
       "      <td>120997</td>\n",
       "      <td>23</td>\n",
       "      <td>011</td>\n",
       "      <td>19.726109</td>\n",
       "      <td>23011</td>\n",
       "    </tr>\n",
       "    <tr>\n",
       "      <th>4</th>\n",
       "      <td>Knox County, Maine</td>\n",
       "      <td>444</td>\n",
       "      <td>296</td>\n",
       "      <td>280</td>\n",
       "      <td>698</td>\n",
       "      <td>1074</td>\n",
       "      <td>1035</td>\n",
       "      <td>398</td>\n",
       "      <td>271</td>\n",
       "      <td>252</td>\n",
       "      <td>503</td>\n",
       "      <td>902</td>\n",
       "      <td>959</td>\n",
       "      <td>40867</td>\n",
       "      <td>23</td>\n",
       "      <td>013</td>\n",
       "      <td>17.402794</td>\n",
       "      <td>23013</td>\n",
       "    </tr>\n",
       "  </tbody>\n",
       "</table>\n",
       "</div>"
      ],
      "text/plain": [
       "                county_name  B01001_007E  B01001_008E  B01001_009E  \\\n",
       "0  Cumberland County, Maine         4161         1857         2138   \n",
       "1    Franklin County, Maine          531          246          301   \n",
       "2     Hancock County, Maine          827          498          272   \n",
       "3    Kennebec County, Maine         1802          915          677   \n",
       "4        Knox County, Maine          444          296          280   \n",
       "\n",
       "   B01001_010E  B01001_011E  B01001_012E  B01001_031E  B01001_032E  \\\n",
       "0         5614         9090         7943         3954         1938   \n",
       "1          468          868          756          752          326   \n",
       "2         1083         1228         1186          751          376   \n",
       "3         2271         3192         3027         1745          919   \n",
       "4          698         1074         1035          398          271   \n",
       "\n",
       "   B01001_033E  B01001_034E  B01001_035E  B01001_036E  B01001_001E state code  \\\n",
       "0         1951         4929         8795         8387       277365         23   \n",
       "1          367          355         1003          844        29758         23   \n",
       "2          242          864         1288         1300        53397         23   \n",
       "3          847         2004         3143         3326       120997         23   \n",
       "4          252          503          902          959        40867         23   \n",
       "\n",
       "  county code  percent_age_18_to_34   fips  \n",
       "0         005             21.905071  23005  \n",
       "1         007             22.908126  23007  \n",
       "2         009             18.568459  23009  \n",
       "3         011             19.726109  23011  \n",
       "4         013             17.402794  23013  "
      ]
     },
     "execution_count": 88,
     "metadata": {},
     "output_type": "execute_result"
    }
   ],
   "source": [
    "df16['fips'] = df16['state code'] + df16['county code']\n",
    "df16.head()"
   ]
  },
  {
   "cell_type": "code",
   "execution_count": 89,
   "id": "d9b661b1-c70b-4bc0-9cfc-cbd10fe37064",
   "metadata": {},
   "outputs": [
    {
     "data": {
      "text/plain": [
       "(1888, 18)"
      ]
     },
     "execution_count": 89,
     "metadata": {},
     "output_type": "execute_result"
    }
   ],
   "source": [
    "df16.shape"
   ]
  },
  {
   "cell_type": "markdown",
   "id": "730d8f25-cb06-4ce0-a74f-40a10c7452cd",
   "metadata": {},
   "source": [
    "### Age 35 to 44\n",
    "#### (B01001_013E+B01001_014E+B01001_037E+B01001_038E)/B01001_001E"
   ]
  },
  {
   "cell_type": "code",
   "execution_count": 90,
   "id": "9af10f52-ae54-49c9-a1aa-ba06033d2da1",
   "metadata": {},
   "outputs": [
    {
     "name": "stdout",
     "output_type": "stream",
     "text": [
      "['NAME', 'B01001_013E', 'B01001_014E', 'B01001_037E', 'B01001_038E', 'B01001_001E', 'state', 'county']\n"
     ]
    }
   ],
   "source": [
    "variables = 'B01001_013E,B01001_014E,B01001_037E,B01001_038E,B01001_001E'\n",
    "df17 = collectAll_county(year,variables)"
   ]
  },
  {
   "cell_type": "code",
   "execution_count": 91,
   "id": "aaeddf1d-e065-40c7-a7f5-bec08e79b9b6",
   "metadata": {},
   "outputs": [],
   "source": [
    "df17['B01001_013E'] = df17['B01001_013E'].apply(changeInteger)\n",
    "df17['B01001_014E'] = df17['B01001_014E'].apply(changeInteger)\n",
    "df17['B01001_037E'] = df17['B01001_037E'].apply(changeInteger)\n",
    "df17['B01001_038E'] = df17['B01001_038E'].apply(changeInteger)\n",
    "df17['B01001_001E'] = df17['B01001_001E'].apply(changeInteger)"
   ]
  },
  {
   "cell_type": "code",
   "execution_count": 92,
   "id": "2bb876f3-e566-4853-9177-a199142f5ed9",
   "metadata": {},
   "outputs": [],
   "source": [
    "df17['percent_age_35_to_44'] = ((df17['B01001_013E']+df17['B01001_014E'] +df17['B01001_037E']+df17['B01001_038E'])/df17['B01001_001E'])*100"
   ]
  },
  {
   "cell_type": "code",
   "execution_count": 93,
   "id": "836957f4-52ed-41b9-9824-e21c2defff0c",
   "metadata": {},
   "outputs": [
    {
     "data": {
      "text/html": [
       "<div>\n",
       "<style scoped>\n",
       "    .dataframe tbody tr th:only-of-type {\n",
       "        vertical-align: middle;\n",
       "    }\n",
       "\n",
       "    .dataframe tbody tr th {\n",
       "        vertical-align: top;\n",
       "    }\n",
       "\n",
       "    .dataframe thead th {\n",
       "        text-align: right;\n",
       "    }\n",
       "</style>\n",
       "<table border=\"1\" class=\"dataframe\">\n",
       "  <thead>\n",
       "    <tr style=\"text-align: right;\">\n",
       "      <th></th>\n",
       "      <th>county_name</th>\n",
       "      <th>B01001_013E</th>\n",
       "      <th>B01001_014E</th>\n",
       "      <th>B01001_037E</th>\n",
       "      <th>B01001_038E</th>\n",
       "      <th>B01001_001E</th>\n",
       "      <th>state code</th>\n",
       "      <th>county code</th>\n",
       "      <th>percent_age_35_to_44</th>\n",
       "      <th>fips</th>\n",
       "    </tr>\n",
       "  </thead>\n",
       "  <tbody>\n",
       "    <tr>\n",
       "      <th>0</th>\n",
       "      <td>Cumberland County, Maine</td>\n",
       "      <td>9267</td>\n",
       "      <td>10380</td>\n",
       "      <td>9685</td>\n",
       "      <td>10855</td>\n",
       "      <td>277365</td>\n",
       "      <td>23</td>\n",
       "      <td>005</td>\n",
       "      <td>14.488850</td>\n",
       "      <td>23005</td>\n",
       "    </tr>\n",
       "    <tr>\n",
       "      <th>1</th>\n",
       "      <td>Franklin County, Maine</td>\n",
       "      <td>699</td>\n",
       "      <td>1060</td>\n",
       "      <td>1007</td>\n",
       "      <td>843</td>\n",
       "      <td>29758</td>\n",
       "      <td>23</td>\n",
       "      <td>007</td>\n",
       "      <td>12.127831</td>\n",
       "      <td>23007</td>\n",
       "    </tr>\n",
       "    <tr>\n",
       "      <th>2</th>\n",
       "      <td>Hancock County, Maine</td>\n",
       "      <td>1371</td>\n",
       "      <td>1881</td>\n",
       "      <td>1564</td>\n",
       "      <td>1863</td>\n",
       "      <td>53397</td>\n",
       "      <td>23</td>\n",
       "      <td>009</td>\n",
       "      <td>12.508193</td>\n",
       "      <td>23009</td>\n",
       "    </tr>\n",
       "    <tr>\n",
       "      <th>3</th>\n",
       "      <td>Kennebec County, Maine</td>\n",
       "      <td>3576</td>\n",
       "      <td>4660</td>\n",
       "      <td>4039</td>\n",
       "      <td>4451</td>\n",
       "      <td>120997</td>\n",
       "      <td>23</td>\n",
       "      <td>011</td>\n",
       "      <td>13.823483</td>\n",
       "      <td>23011</td>\n",
       "    </tr>\n",
       "    <tr>\n",
       "      <th>4</th>\n",
       "      <td>Knox County, Maine</td>\n",
       "      <td>1292</td>\n",
       "      <td>1395</td>\n",
       "      <td>1270</td>\n",
       "      <td>1258</td>\n",
       "      <td>40867</td>\n",
       "      <td>23</td>\n",
       "      <td>013</td>\n",
       "      <td>12.760907</td>\n",
       "      <td>23013</td>\n",
       "    </tr>\n",
       "  </tbody>\n",
       "</table>\n",
       "</div>"
      ],
      "text/plain": [
       "                county_name  B01001_013E  B01001_014E  B01001_037E  \\\n",
       "0  Cumberland County, Maine         9267        10380         9685   \n",
       "1    Franklin County, Maine          699         1060         1007   \n",
       "2     Hancock County, Maine         1371         1881         1564   \n",
       "3    Kennebec County, Maine         3576         4660         4039   \n",
       "4        Knox County, Maine         1292         1395         1270   \n",
       "\n",
       "   B01001_038E  B01001_001E state code county code  percent_age_35_to_44  \\\n",
       "0        10855       277365         23         005             14.488850   \n",
       "1          843        29758         23         007             12.127831   \n",
       "2         1863        53397         23         009             12.508193   \n",
       "3         4451       120997         23         011             13.823483   \n",
       "4         1258        40867         23         013             12.760907   \n",
       "\n",
       "    fips  \n",
       "0  23005  \n",
       "1  23007  \n",
       "2  23009  \n",
       "3  23011  \n",
       "4  23013  "
      ]
     },
     "execution_count": 93,
     "metadata": {},
     "output_type": "execute_result"
    }
   ],
   "source": [
    "df17['fips'] = df17['state code'] + df17['county code']\n",
    "df17.head()"
   ]
  },
  {
   "cell_type": "code",
   "execution_count": 94,
   "id": "d38de85f-8ed4-407f-b9fd-03a2bb4634f9",
   "metadata": {},
   "outputs": [
    {
     "data": {
      "text/plain": [
       "(1888, 10)"
      ]
     },
     "execution_count": 94,
     "metadata": {},
     "output_type": "execute_result"
    }
   ],
   "source": [
    "df17.shape"
   ]
  },
  {
   "cell_type": "markdown",
   "id": "eec42697-16ef-4a3d-b612-6a5632b1f442",
   "metadata": {},
   "source": [
    "### age 45 to 54\n",
    "#### (B01001_015E+B01001_016E+B01001_039E+B01001_040E)/B01001_001E"
   ]
  },
  {
   "cell_type": "code",
   "execution_count": 95,
   "id": "8223d7d3-da3b-4190-8c0f-877c3c61c359",
   "metadata": {},
   "outputs": [
    {
     "name": "stdout",
     "output_type": "stream",
     "text": [
      "['NAME', 'B01001_015E', 'B01001_016E', 'B01001_039E', 'B01001_040E', 'B01001_001E', 'state', 'county']\n"
     ]
    }
   ],
   "source": [
    "variables = 'B01001_015E,B01001_016E,B01001_039E,B01001_040E,B01001_001E'\n",
    "df18 = collectAll_county(year,variables)"
   ]
  },
  {
   "cell_type": "code",
   "execution_count": 96,
   "id": "64f93c52-adf3-4d36-9056-dc703c2df649",
   "metadata": {},
   "outputs": [],
   "source": [
    "df18['B01001_015E'] = df18['B01001_015E'].apply(changeInteger)\n",
    "df18['B01001_016E'] = df18['B01001_016E'].apply(changeInteger)\n",
    "df18['B01001_039E'] = df18['B01001_039E'].apply(changeInteger)\n",
    "df18['B01001_040E'] = df18['B01001_040E'].apply(changeInteger)\n",
    "df18['B01001_001E'] = df18['B01001_001E'].apply(changeInteger)"
   ]
  },
  {
   "cell_type": "code",
   "execution_count": 97,
   "id": "833adef1-1d4e-47ec-a6e1-40e3bef59ed6",
   "metadata": {},
   "outputs": [],
   "source": [
    "df18['percent_age_45_to_54'] = ((df18['B01001_015E']+df18['B01001_016E'] +df18['B01001_039E']+df18['B01001_040E'])/df18['B01001_001E'])*100"
   ]
  },
  {
   "cell_type": "code",
   "execution_count": 98,
   "id": "095b777f-0191-4a9f-a2a1-cf635a3a34bf",
   "metadata": {},
   "outputs": [
    {
     "data": {
      "text/html": [
       "<div>\n",
       "<style scoped>\n",
       "    .dataframe tbody tr th:only-of-type {\n",
       "        vertical-align: middle;\n",
       "    }\n",
       "\n",
       "    .dataframe tbody tr th {\n",
       "        vertical-align: top;\n",
       "    }\n",
       "\n",
       "    .dataframe thead th {\n",
       "        text-align: right;\n",
       "    }\n",
       "</style>\n",
       "<table border=\"1\" class=\"dataframe\">\n",
       "  <thead>\n",
       "    <tr style=\"text-align: right;\">\n",
       "      <th></th>\n",
       "      <th>county_name</th>\n",
       "      <th>B01001_015E</th>\n",
       "      <th>B01001_016E</th>\n",
       "      <th>B01001_039E</th>\n",
       "      <th>B01001_040E</th>\n",
       "      <th>B01001_001E</th>\n",
       "      <th>state code</th>\n",
       "      <th>county code</th>\n",
       "      <th>percent_age_45_to_54</th>\n",
       "      <th>fips</th>\n",
       "    </tr>\n",
       "  </thead>\n",
       "  <tbody>\n",
       "    <tr>\n",
       "      <th>0</th>\n",
       "      <td>Cumberland County, Maine</td>\n",
       "      <td>11311</td>\n",
       "      <td>10590</td>\n",
       "      <td>11816</td>\n",
       "      <td>11193</td>\n",
       "      <td>277365</td>\n",
       "      <td>23</td>\n",
       "      <td>005</td>\n",
       "      <td>16.191661</td>\n",
       "      <td>23005</td>\n",
       "    </tr>\n",
       "    <tr>\n",
       "      <th>1</th>\n",
       "      <td>Franklin County, Maine</td>\n",
       "      <td>1176</td>\n",
       "      <td>1224</td>\n",
       "      <td>1179</td>\n",
       "      <td>1224</td>\n",
       "      <td>29758</td>\n",
       "      <td>23</td>\n",
       "      <td>007</td>\n",
       "      <td>16.140198</td>\n",
       "      <td>23007</td>\n",
       "    </tr>\n",
       "    <tr>\n",
       "      <th>2</th>\n",
       "      <td>Hancock County, Maine</td>\n",
       "      <td>2117</td>\n",
       "      <td>2274</td>\n",
       "      <td>2316</td>\n",
       "      <td>2391</td>\n",
       "      <td>53397</td>\n",
       "      <td>23</td>\n",
       "      <td>009</td>\n",
       "      <td>17.038410</td>\n",
       "      <td>23009</td>\n",
       "    </tr>\n",
       "    <tr>\n",
       "      <th>3</th>\n",
       "      <td>Kennebec County, Maine</td>\n",
       "      <td>4887</td>\n",
       "      <td>4967</td>\n",
       "      <td>5352</td>\n",
       "      <td>5365</td>\n",
       "      <td>120997</td>\n",
       "      <td>23</td>\n",
       "      <td>011</td>\n",
       "      <td>17.001248</td>\n",
       "      <td>23011</td>\n",
       "    </tr>\n",
       "    <tr>\n",
       "      <th>4</th>\n",
       "      <td>Knox County, Maine</td>\n",
       "      <td>1646</td>\n",
       "      <td>1742</td>\n",
       "      <td>1676</td>\n",
       "      <td>1823</td>\n",
       "      <td>40867</td>\n",
       "      <td>23</td>\n",
       "      <td>013</td>\n",
       "      <td>16.852228</td>\n",
       "      <td>23013</td>\n",
       "    </tr>\n",
       "  </tbody>\n",
       "</table>\n",
       "</div>"
      ],
      "text/plain": [
       "                county_name  B01001_015E  B01001_016E  B01001_039E  \\\n",
       "0  Cumberland County, Maine        11311        10590        11816   \n",
       "1    Franklin County, Maine         1176         1224         1179   \n",
       "2     Hancock County, Maine         2117         2274         2316   \n",
       "3    Kennebec County, Maine         4887         4967         5352   \n",
       "4        Knox County, Maine         1646         1742         1676   \n",
       "\n",
       "   B01001_040E  B01001_001E state code county code  percent_age_45_to_54  \\\n",
       "0        11193       277365         23         005             16.191661   \n",
       "1         1224        29758         23         007             16.140198   \n",
       "2         2391        53397         23         009             17.038410   \n",
       "3         5365       120997         23         011             17.001248   \n",
       "4         1823        40867         23         013             16.852228   \n",
       "\n",
       "    fips  \n",
       "0  23005  \n",
       "1  23007  \n",
       "2  23009  \n",
       "3  23011  \n",
       "4  23013  "
      ]
     },
     "execution_count": 98,
     "metadata": {},
     "output_type": "execute_result"
    }
   ],
   "source": [
    "df18['fips'] = df18['state code'] + df18['county code']\n",
    "df18.head()"
   ]
  },
  {
   "cell_type": "code",
   "execution_count": 99,
   "id": "bff38139-7fc5-4e8c-bed4-1f36dbc09d0e",
   "metadata": {},
   "outputs": [
    {
     "data": {
      "text/plain": [
       "(1888, 10)"
      ]
     },
     "execution_count": 99,
     "metadata": {},
     "output_type": "execute_result"
    }
   ],
   "source": [
    "df18.shape"
   ]
  },
  {
   "cell_type": "markdown",
   "id": "b6ec620f-65e9-4e13-83c3-1370b878b0e5",
   "metadata": {},
   "source": [
    "### age 55 to 64\n",
    "#### (B01001_017E+B01001_018E+B01001_019E+B01001_041E+B01001_042E+B01001_043E)/B01001_001E"
   ]
  },
  {
   "cell_type": "code",
   "execution_count": 100,
   "id": "579965cf-2f83-4d77-8177-1e0ba2fb9873",
   "metadata": {},
   "outputs": [
    {
     "name": "stdout",
     "output_type": "stream",
     "text": [
      "['NAME', 'B01001_017E', 'B01001_018E', 'B01001_019E', 'B01001_041E', 'B01001_042E', 'B01001_043E', 'B01001_001E', 'state', 'county']\n"
     ]
    }
   ],
   "source": [
    "variables = 'B01001_017E,B01001_018E,B01001_019E,B01001_041E,B01001_042E,B01001_043E,B01001_001E'\n",
    "df19 = collectAll_county(year,variables)"
   ]
  },
  {
   "cell_type": "code",
   "execution_count": 101,
   "id": "a61b7263-c36b-4e7b-bce2-3fd3b470bfc9",
   "metadata": {},
   "outputs": [],
   "source": [
    "df19['B01001_017E'] = df19['B01001_017E'].apply(changeInteger)\n",
    "df19['B01001_018E'] = df19['B01001_018E'].apply(changeInteger)\n",
    "df19['B01001_019E'] = df19['B01001_019E'].apply(changeInteger)\n",
    "df19['B01001_041E'] = df19['B01001_041E'].apply(changeInteger)\n",
    "df19['B01001_042E'] = df19['B01001_042E'].apply(changeInteger)\n",
    "df19['B01001_043E'] = df19['B01001_043E'].apply(changeInteger)\n",
    "df19['B01001_001E'] = df19['B01001_001E'].apply(changeInteger)"
   ]
  },
  {
   "cell_type": "code",
   "execution_count": 102,
   "id": "92d9ba4c-765a-48a3-8b96-f46f63118d0c",
   "metadata": {},
   "outputs": [],
   "source": [
    "df19['percent_age_55_to_64'] = ((df19['B01001_017E']+df19['B01001_018E'] +df19['B01001_019E']+df19['B01001_041E']+df19['B01001_042E']+df19['B01001_043E'])/df19['B01001_001E'])*100"
   ]
  },
  {
   "cell_type": "code",
   "execution_count": 103,
   "id": "cc37eab1-db3a-4a0d-b5ae-253140921bd2",
   "metadata": {},
   "outputs": [
    {
     "data": {
      "text/html": [
       "<div>\n",
       "<style scoped>\n",
       "    .dataframe tbody tr th:only-of-type {\n",
       "        vertical-align: middle;\n",
       "    }\n",
       "\n",
       "    .dataframe tbody tr th {\n",
       "        vertical-align: top;\n",
       "    }\n",
       "\n",
       "    .dataframe thead th {\n",
       "        text-align: right;\n",
       "    }\n",
       "</style>\n",
       "<table border=\"1\" class=\"dataframe\">\n",
       "  <thead>\n",
       "    <tr style=\"text-align: right;\">\n",
       "      <th></th>\n",
       "      <th>county_name</th>\n",
       "      <th>B01001_017E</th>\n",
       "      <th>B01001_018E</th>\n",
       "      <th>B01001_019E</th>\n",
       "      <th>B01001_041E</th>\n",
       "      <th>B01001_042E</th>\n",
       "      <th>B01001_043E</th>\n",
       "      <th>B01001_001E</th>\n",
       "      <th>state code</th>\n",
       "      <th>county code</th>\n",
       "      <th>percent_age_55_to_64</th>\n",
       "      <th>fips</th>\n",
       "    </tr>\n",
       "  </thead>\n",
       "  <tbody>\n",
       "    <tr>\n",
       "      <th>0</th>\n",
       "      <td>Cumberland County, Maine</td>\n",
       "      <td>8774</td>\n",
       "      <td>3557</td>\n",
       "      <td>4286</td>\n",
       "      <td>9592</td>\n",
       "      <td>3780</td>\n",
       "      <td>4543</td>\n",
       "      <td>277365</td>\n",
       "      <td>23</td>\n",
       "      <td>005</td>\n",
       "      <td>12.450021</td>\n",
       "      <td>23005</td>\n",
       "    </tr>\n",
       "    <tr>\n",
       "      <th>1</th>\n",
       "      <td>Franklin County, Maine</td>\n",
       "      <td>1071</td>\n",
       "      <td>536</td>\n",
       "      <td>585</td>\n",
       "      <td>964</td>\n",
       "      <td>476</td>\n",
       "      <td>675</td>\n",
       "      <td>29758</td>\n",
       "      <td>23</td>\n",
       "      <td>007</td>\n",
       "      <td>14.473419</td>\n",
       "      <td>23007</td>\n",
       "    </tr>\n",
       "    <tr>\n",
       "      <th>2</th>\n",
       "      <td>Hancock County, Maine</td>\n",
       "      <td>2202</td>\n",
       "      <td>1025</td>\n",
       "      <td>919</td>\n",
       "      <td>2436</td>\n",
       "      <td>909</td>\n",
       "      <td>1145</td>\n",
       "      <td>53397</td>\n",
       "      <td>23</td>\n",
       "      <td>009</td>\n",
       "      <td>16.173193</td>\n",
       "      <td>23009</td>\n",
       "    </tr>\n",
       "    <tr>\n",
       "      <th>3</th>\n",
       "      <td>Kennebec County, Maine</td>\n",
       "      <td>4231</td>\n",
       "      <td>1488</td>\n",
       "      <td>2139</td>\n",
       "      <td>4264</td>\n",
       "      <td>1910</td>\n",
       "      <td>2145</td>\n",
       "      <td>120997</td>\n",
       "      <td>23</td>\n",
       "      <td>011</td>\n",
       "      <td>13.369753</td>\n",
       "      <td>23011</td>\n",
       "    </tr>\n",
       "    <tr>\n",
       "      <th>4</th>\n",
       "      <td>Knox County, Maine</td>\n",
       "      <td>1633</td>\n",
       "      <td>444</td>\n",
       "      <td>927</td>\n",
       "      <td>1678</td>\n",
       "      <td>584</td>\n",
       "      <td>922</td>\n",
       "      <td>40867</td>\n",
       "      <td>23</td>\n",
       "      <td>013</td>\n",
       "      <td>15.141801</td>\n",
       "      <td>23013</td>\n",
       "    </tr>\n",
       "  </tbody>\n",
       "</table>\n",
       "</div>"
      ],
      "text/plain": [
       "                county_name  B01001_017E  B01001_018E  B01001_019E  \\\n",
       "0  Cumberland County, Maine         8774         3557         4286   \n",
       "1    Franklin County, Maine         1071          536          585   \n",
       "2     Hancock County, Maine         2202         1025          919   \n",
       "3    Kennebec County, Maine         4231         1488         2139   \n",
       "4        Knox County, Maine         1633          444          927   \n",
       "\n",
       "   B01001_041E  B01001_042E  B01001_043E  B01001_001E state code county code  \\\n",
       "0         9592         3780         4543       277365         23         005   \n",
       "1          964          476          675        29758         23         007   \n",
       "2         2436          909         1145        53397         23         009   \n",
       "3         4264         1910         2145       120997         23         011   \n",
       "4         1678          584          922        40867         23         013   \n",
       "\n",
       "   percent_age_55_to_64   fips  \n",
       "0             12.450021  23005  \n",
       "1             14.473419  23007  \n",
       "2             16.173193  23009  \n",
       "3             13.369753  23011  \n",
       "4             15.141801  23013  "
      ]
     },
     "execution_count": 103,
     "metadata": {},
     "output_type": "execute_result"
    }
   ],
   "source": [
    "df19['fips'] = df19['state code'] + df19['county code']\n",
    "df19.head()"
   ]
  },
  {
   "cell_type": "code",
   "execution_count": 104,
   "id": "4ed461b2-bb26-4730-8eff-f7c673e1fc6e",
   "metadata": {},
   "outputs": [
    {
     "data": {
      "text/plain": [
       "(1888, 12)"
      ]
     },
     "execution_count": 104,
     "metadata": {},
     "output_type": "execute_result"
    }
   ],
   "source": [
    "df19.shape"
   ]
  },
  {
   "cell_type": "markdown",
   "id": "9b41ea5e-df49-4b9f-9ea3-cfc5fb3f952b",
   "metadata": {},
   "source": [
    "### Combine 19 dataframes together"
   ]
  },
  {
   "cell_type": "code",
   "execution_count": 105,
   "id": "d3ce192e-6369-4897-85fa-d603ecd0eae4",
   "metadata": {},
   "outputs": [],
   "source": [
    "df = df1[['fips','per_capita_income']].merge(df2[['fips', 'percent_below_poverty']], on = 'fips', how = 'left')"
   ]
  },
  {
   "cell_type": "code",
   "execution_count": 106,
   "id": "769784f8-1230-4254-a8a5-e3fd82346352",
   "metadata": {},
   "outputs": [
    {
     "data": {
      "text/html": [
       "<div>\n",
       "<style scoped>\n",
       "    .dataframe tbody tr th:only-of-type {\n",
       "        vertical-align: middle;\n",
       "    }\n",
       "\n",
       "    .dataframe tbody tr th {\n",
       "        vertical-align: top;\n",
       "    }\n",
       "\n",
       "    .dataframe thead th {\n",
       "        text-align: right;\n",
       "    }\n",
       "</style>\n",
       "<table border=\"1\" class=\"dataframe\">\n",
       "  <thead>\n",
       "    <tr style=\"text-align: right;\">\n",
       "      <th></th>\n",
       "      <th>fips</th>\n",
       "      <th>per_capita_income</th>\n",
       "      <th>percent_below_poverty</th>\n",
       "      <th>percent_no_highschool_diploma</th>\n",
       "      <th>percent_mobile_homes</th>\n",
       "      <th>percent_no_vehicle</th>\n",
       "      <th>percent_overcrowding</th>\n",
       "      <th>percent_multi_unit_housing</th>\n",
       "      <th>percent_age_65_and_older</th>\n",
       "      <th>percent_limited_english_abilities</th>\n",
       "      <th>percent_minorities</th>\n",
       "      <th>percent_institutionalized_in_group_quarters</th>\n",
       "      <th>percent_age_18_to_34</th>\n",
       "      <th>percent_age_35_to_44</th>\n",
       "      <th>percent_age_45_to_54</th>\n",
       "      <th>percent_age_55_to_64</th>\n",
       "    </tr>\n",
       "  </thead>\n",
       "  <tbody>\n",
       "    <tr>\n",
       "      <th>0</th>\n",
       "      <td>40081</td>\n",
       "      <td>20457</td>\n",
       "      <td>15.488120</td>\n",
       "      <td>14.794043</td>\n",
       "      <td>19.662551</td>\n",
       "      <td>3.316953</td>\n",
       "      <td>3.882064</td>\n",
       "      <td>0.575629</td>\n",
       "      <td>14.800075</td>\n",
       "      <td>1.956824</td>\n",
       "      <td>NaN</td>\n",
       "      <td>NaN</td>\n",
       "      <td>18.587153</td>\n",
       "      <td>12.875443</td>\n",
       "      <td>15.540078</td>\n",
       "      <td>12.741745</td>\n",
       "    </tr>\n",
       "    <tr>\n",
       "      <th>1</th>\n",
       "      <td>40083</td>\n",
       "      <td>23122</td>\n",
       "      <td>17.166271</td>\n",
       "      <td>16.072161</td>\n",
       "      <td>17.197107</td>\n",
       "      <td>5.827600</td>\n",
       "      <td>1.950627</td>\n",
       "      <td>NaN</td>\n",
       "      <td>12.231435</td>\n",
       "      <td>2.997752</td>\n",
       "      <td>NaN</td>\n",
       "      <td>3.736441</td>\n",
       "      <td>22.601168</td>\n",
       "      <td>13.209220</td>\n",
       "      <td>15.310805</td>\n",
       "      <td>12.020234</td>\n",
       "    </tr>\n",
       "    <tr>\n",
       "      <th>2</th>\n",
       "      <td>40087</td>\n",
       "      <td>23358</td>\n",
       "      <td>10.442478</td>\n",
       "      <td>11.140187</td>\n",
       "      <td>15.909793</td>\n",
       "      <td>1.587158</td>\n",
       "      <td>NaN</td>\n",
       "      <td>NaN</td>\n",
       "      <td>13.553328</td>\n",
       "      <td>4.446725</td>\n",
       "      <td>NaN</td>\n",
       "      <td>NaN</td>\n",
       "      <td>20.503752</td>\n",
       "      <td>13.039734</td>\n",
       "      <td>15.235576</td>\n",
       "      <td>11.886456</td>\n",
       "    </tr>\n",
       "    <tr>\n",
       "      <th>3</th>\n",
       "      <td>40089</td>\n",
       "      <td>17394</td>\n",
       "      <td>28.984880</td>\n",
       "      <td>20.697790</td>\n",
       "      <td>11.406996</td>\n",
       "      <td>8.912189</td>\n",
       "      <td>3.240134</td>\n",
       "      <td>1.565594</td>\n",
       "      <td>14.331420</td>\n",
       "      <td>5.010311</td>\n",
       "      <td>NaN</td>\n",
       "      <td>2.987083</td>\n",
       "      <td>20.123191</td>\n",
       "      <td>12.193518</td>\n",
       "      <td>14.277598</td>\n",
       "      <td>12.396842</td>\n",
       "    </tr>\n",
       "    <tr>\n",
       "      <th>4</th>\n",
       "      <td>40097</td>\n",
       "      <td>19456</td>\n",
       "      <td>17.892634</td>\n",
       "      <td>15.636391</td>\n",
       "      <td>19.364943</td>\n",
       "      <td>4.902779</td>\n",
       "      <td>2.566900</td>\n",
       "      <td>1.953973</td>\n",
       "      <td>15.733120</td>\n",
       "      <td>3.828278</td>\n",
       "      <td>NaN</td>\n",
       "      <td>0.965652</td>\n",
       "      <td>20.213644</td>\n",
       "      <td>11.950567</td>\n",
       "      <td>14.139544</td>\n",
       "      <td>12.693568</td>\n",
       "    </tr>\n",
       "  </tbody>\n",
       "</table>\n",
       "</div>"
      ],
      "text/plain": [
       "    fips per_capita_income  percent_below_poverty  \\\n",
       "0  40081             20457              15.488120   \n",
       "1  40083             23122              17.166271   \n",
       "2  40087             23358              10.442478   \n",
       "3  40089             17394              28.984880   \n",
       "4  40097             19456              17.892634   \n",
       "\n",
       "   percent_no_highschool_diploma  percent_mobile_homes  percent_no_vehicle  \\\n",
       "0                      14.794043             19.662551            3.316953   \n",
       "1                      16.072161             17.197107            5.827600   \n",
       "2                      11.140187             15.909793            1.587158   \n",
       "3                      20.697790             11.406996            8.912189   \n",
       "4                      15.636391             19.364943            4.902779   \n",
       "\n",
       "   percent_overcrowding  percent_multi_unit_housing  percent_age_65_and_older  \\\n",
       "0              3.882064                    0.575629                 14.800075   \n",
       "1              1.950627                         NaN                 12.231435   \n",
       "2                   NaN                         NaN                 13.553328   \n",
       "3              3.240134                    1.565594                 14.331420   \n",
       "4              2.566900                    1.953973                 15.733120   \n",
       "\n",
       "   percent_limited_english_abilities  percent_minorities  \\\n",
       "0                           1.956824                 NaN   \n",
       "1                           2.997752                 NaN   \n",
       "2                           4.446725                 NaN   \n",
       "3                           5.010311                 NaN   \n",
       "4                           3.828278                 NaN   \n",
       "\n",
       "   percent_institutionalized_in_group_quarters  percent_age_18_to_34  \\\n",
       "0                                          NaN             18.587153   \n",
       "1                                     3.736441             22.601168   \n",
       "2                                          NaN             20.503752   \n",
       "3                                     2.987083             20.123191   \n",
       "4                                     0.965652             20.213644   \n",
       "\n",
       "   percent_age_35_to_44  percent_age_45_to_54  percent_age_55_to_64  \n",
       "0             12.875443             15.540078             12.741745  \n",
       "1             13.209220             15.310805             12.020234  \n",
       "2             13.039734             15.235576             11.886456  \n",
       "3             12.193518             14.277598             12.396842  \n",
       "4             11.950567             14.139544             12.693568  "
      ]
     },
     "execution_count": 106,
     "metadata": {},
     "output_type": "execute_result"
    }
   ],
   "source": [
    "df = df.merge(df3[['fips', 'percent_no_highschool_diploma']], on = 'fips', how = 'left')\n",
    "df = df.merge(df4[['fips', 'percent_mobile_homes']], on = 'fips', how = 'left')\n",
    "df = df.merge(df5[['fips', 'percent_no_vehicle']], on = 'fips', how = 'left')\n",
    "df = df.merge(df7[['fips', 'percent_overcrowding']], on = 'fips', how = 'left')\n",
    "df = df.merge(df8[['fips', 'percent_multi_unit_housing']], on = 'fips', how = 'left')\n",
    "df = df.merge(df9[['fips', 'percent_age_65_and_older']], on = 'fips', how = 'left')\n",
    "df = df.merge(df10[['fips', 'percent_limited_english_abilities']], on = 'fips', how = 'left')\n",
    "df = df.merge(df12[['fips', 'percent_minorities']], on = 'fips', how = 'left')\n",
    "df = df.merge(df14[['fips', 'percent_institutionalized_in_group_quarters']], on = 'fips', how = 'left')\n",
    "df = df.merge(df16[['fips', 'percent_age_18_to_34']], on = 'fips', how = 'left')\n",
    "df = df.merge(df17[['fips', 'percent_age_35_to_44']], on = 'fips', how = 'left')\n",
    "df = df.merge(df18[['fips', 'percent_age_45_to_54']], on = 'fips', how = 'left')\n",
    "df = df.merge(df19[['fips', 'percent_age_55_to_64']], on = 'fips', how = 'left')\n",
    "df.head()"
   ]
  },
  {
   "cell_type": "code",
   "execution_count": 107,
   "id": "8fb672d1-2308-45ba-aeb7-56bb577e7d66",
   "metadata": {},
   "outputs": [
    {
     "data": {
      "text/html": [
       "<div>\n",
       "<style scoped>\n",
       "    .dataframe tbody tr th:only-of-type {\n",
       "        vertical-align: middle;\n",
       "    }\n",
       "\n",
       "    .dataframe tbody tr th {\n",
       "        vertical-align: top;\n",
       "    }\n",
       "\n",
       "    .dataframe thead th {\n",
       "        text-align: right;\n",
       "    }\n",
       "</style>\n",
       "<table border=\"1\" class=\"dataframe\">\n",
       "  <thead>\n",
       "    <tr style=\"text-align: right;\">\n",
       "      <th></th>\n",
       "      <th>fips</th>\n",
       "      <th>per_capita_income</th>\n",
       "      <th>percent_below_poverty</th>\n",
       "      <th>percent_no_highschool_diploma</th>\n",
       "      <th>percent_mobile_homes</th>\n",
       "      <th>percent_no_vehicle</th>\n",
       "      <th>percent_overcrowding</th>\n",
       "      <th>percent_multi_unit_housing</th>\n",
       "      <th>percent_age_65_and_older</th>\n",
       "      <th>percent_limited_english_abilities</th>\n",
       "      <th>percent_minorities</th>\n",
       "      <th>percent_institutionalized_in_group_quarters</th>\n",
       "      <th>percent_age_18_to_34</th>\n",
       "      <th>percent_age_35_to_44</th>\n",
       "      <th>percent_age_45_to_54</th>\n",
       "      <th>percent_age_55_to_64</th>\n",
       "    </tr>\n",
       "  </thead>\n",
       "  <tbody>\n",
       "    <tr>\n",
       "      <th>0</th>\n",
       "      <td>40081</td>\n",
       "      <td>20457</td>\n",
       "      <td>15.488120</td>\n",
       "      <td>14.794043</td>\n",
       "      <td>19.662551</td>\n",
       "      <td>3.316953</td>\n",
       "      <td>3.882064</td>\n",
       "      <td>0.575629</td>\n",
       "      <td>14.800075</td>\n",
       "      <td>1.956824</td>\n",
       "      <td>NaN</td>\n",
       "      <td>NaN</td>\n",
       "      <td>18.587153</td>\n",
       "      <td>12.875443</td>\n",
       "      <td>15.540078</td>\n",
       "      <td>12.741745</td>\n",
       "    </tr>\n",
       "    <tr>\n",
       "      <th>1</th>\n",
       "      <td>40083</td>\n",
       "      <td>23122</td>\n",
       "      <td>17.166271</td>\n",
       "      <td>16.072161</td>\n",
       "      <td>17.197107</td>\n",
       "      <td>5.827600</td>\n",
       "      <td>1.950627</td>\n",
       "      <td>NaN</td>\n",
       "      <td>12.231435</td>\n",
       "      <td>2.997752</td>\n",
       "      <td>NaN</td>\n",
       "      <td>3.736441</td>\n",
       "      <td>22.601168</td>\n",
       "      <td>13.209220</td>\n",
       "      <td>15.310805</td>\n",
       "      <td>12.020234</td>\n",
       "    </tr>\n",
       "    <tr>\n",
       "      <th>2</th>\n",
       "      <td>40087</td>\n",
       "      <td>23358</td>\n",
       "      <td>10.442478</td>\n",
       "      <td>11.140187</td>\n",
       "      <td>15.909793</td>\n",
       "      <td>1.587158</td>\n",
       "      <td>NaN</td>\n",
       "      <td>NaN</td>\n",
       "      <td>13.553328</td>\n",
       "      <td>4.446725</td>\n",
       "      <td>NaN</td>\n",
       "      <td>NaN</td>\n",
       "      <td>20.503752</td>\n",
       "      <td>13.039734</td>\n",
       "      <td>15.235576</td>\n",
       "      <td>11.886456</td>\n",
       "    </tr>\n",
       "    <tr>\n",
       "      <th>3</th>\n",
       "      <td>40089</td>\n",
       "      <td>17394</td>\n",
       "      <td>28.984880</td>\n",
       "      <td>20.697790</td>\n",
       "      <td>11.406996</td>\n",
       "      <td>8.912189</td>\n",
       "      <td>3.240134</td>\n",
       "      <td>1.565594</td>\n",
       "      <td>14.331420</td>\n",
       "      <td>5.010311</td>\n",
       "      <td>NaN</td>\n",
       "      <td>2.987083</td>\n",
       "      <td>20.123191</td>\n",
       "      <td>12.193518</td>\n",
       "      <td>14.277598</td>\n",
       "      <td>12.396842</td>\n",
       "    </tr>\n",
       "    <tr>\n",
       "      <th>4</th>\n",
       "      <td>40097</td>\n",
       "      <td>19456</td>\n",
       "      <td>17.892634</td>\n",
       "      <td>15.636391</td>\n",
       "      <td>19.364943</td>\n",
       "      <td>4.902779</td>\n",
       "      <td>2.566900</td>\n",
       "      <td>1.953973</td>\n",
       "      <td>15.733120</td>\n",
       "      <td>3.828278</td>\n",
       "      <td>NaN</td>\n",
       "      <td>0.965652</td>\n",
       "      <td>20.213644</td>\n",
       "      <td>11.950567</td>\n",
       "      <td>14.139544</td>\n",
       "      <td>12.693568</td>\n",
       "    </tr>\n",
       "  </tbody>\n",
       "</table>\n",
       "</div>"
      ],
      "text/plain": [
       "    fips per_capita_income  percent_below_poverty  \\\n",
       "0  40081             20457              15.488120   \n",
       "1  40083             23122              17.166271   \n",
       "2  40087             23358              10.442478   \n",
       "3  40089             17394              28.984880   \n",
       "4  40097             19456              17.892634   \n",
       "\n",
       "   percent_no_highschool_diploma  percent_mobile_homes  percent_no_vehicle  \\\n",
       "0                      14.794043             19.662551            3.316953   \n",
       "1                      16.072161             17.197107            5.827600   \n",
       "2                      11.140187             15.909793            1.587158   \n",
       "3                      20.697790             11.406996            8.912189   \n",
       "4                      15.636391             19.364943            4.902779   \n",
       "\n",
       "   percent_overcrowding  percent_multi_unit_housing  percent_age_65_and_older  \\\n",
       "0              3.882064                    0.575629                 14.800075   \n",
       "1              1.950627                         NaN                 12.231435   \n",
       "2                   NaN                         NaN                 13.553328   \n",
       "3              3.240134                    1.565594                 14.331420   \n",
       "4              2.566900                    1.953973                 15.733120   \n",
       "\n",
       "   percent_limited_english_abilities  percent_minorities  \\\n",
       "0                           1.956824                 NaN   \n",
       "1                           2.997752                 NaN   \n",
       "2                           4.446725                 NaN   \n",
       "3                           5.010311                 NaN   \n",
       "4                           3.828278                 NaN   \n",
       "\n",
       "   percent_institutionalized_in_group_quarters  percent_age_18_to_34  \\\n",
       "0                                          NaN             18.587153   \n",
       "1                                     3.736441             22.601168   \n",
       "2                                          NaN             20.503752   \n",
       "3                                     2.987083             20.123191   \n",
       "4                                     0.965652             20.213644   \n",
       "\n",
       "   percent_age_35_to_44  percent_age_45_to_54  percent_age_55_to_64  \n",
       "0             12.875443             15.540078             12.741745  \n",
       "1             13.209220             15.310805             12.020234  \n",
       "2             13.039734             15.235576             11.886456  \n",
       "3             12.193518             14.277598             12.396842  \n",
       "4             11.950567             14.139544             12.693568  "
      ]
     },
     "execution_count": 107,
     "metadata": {},
     "output_type": "execute_result"
    }
   ],
   "source": [
    "df.head()"
   ]
  },
  {
   "cell_type": "code",
   "execution_count": 108,
   "id": "9ee5d6d3-6642-4cd7-8bcf-b966a22230a4",
   "metadata": {},
   "outputs": [
    {
     "data": {
      "text/html": [
       "<div>\n",
       "<style scoped>\n",
       "    .dataframe tbody tr th:only-of-type {\n",
       "        vertical-align: middle;\n",
       "    }\n",
       "\n",
       "    .dataframe tbody tr th {\n",
       "        vertical-align: top;\n",
       "    }\n",
       "\n",
       "    .dataframe thead th {\n",
       "        text-align: right;\n",
       "    }\n",
       "</style>\n",
       "<table border=\"1\" class=\"dataframe\">\n",
       "  <thead>\n",
       "    <tr style=\"text-align: right;\">\n",
       "      <th></th>\n",
       "      <th>fips</th>\n",
       "      <th>per_capita_income</th>\n",
       "      <th>percent_below_poverty</th>\n",
       "      <th>percent_no_highschool_diploma</th>\n",
       "      <th>percent_mobile_homes</th>\n",
       "      <th>percent_no_vehicle</th>\n",
       "      <th>percent_overcrowding</th>\n",
       "      <th>percent_multi_unit_housing</th>\n",
       "      <th>percent_age_65_and_older</th>\n",
       "      <th>percent_limited_english_abilities</th>\n",
       "      <th>percent_minorities</th>\n",
       "      <th>percent_institutionalized_in_group_quarters</th>\n",
       "      <th>percent_age_18_to_34</th>\n",
       "      <th>percent_age_35_to_44</th>\n",
       "      <th>percent_age_45_to_54</th>\n",
       "      <th>percent_age_55_to_64</th>\n",
       "    </tr>\n",
       "  </thead>\n",
       "  <tbody>\n",
       "    <tr>\n",
       "      <th>940</th>\n",
       "      <td>01001</td>\n",
       "      <td>24317</td>\n",
       "      <td>9.475024</td>\n",
       "      <td>14.235980</td>\n",
       "      <td>17.805823</td>\n",
       "      <td>4.237654</td>\n",
       "      <td>0.975846</td>\n",
       "      <td>1.789087</td>\n",
       "      <td>11.127894</td>\n",
       "      <td>4.259960</td>\n",
       "      <td>NaN</td>\n",
       "      <td>NaN</td>\n",
       "      <td>20.383583</td>\n",
       "      <td>15.695121</td>\n",
       "      <td>14.363510</td>\n",
       "      <td>10.271291</td>\n",
       "    </tr>\n",
       "    <tr>\n",
       "      <th>941</th>\n",
       "      <td>01003</td>\n",
       "      <td>26261</td>\n",
       "      <td>11.691199</td>\n",
       "      <td>12.629850</td>\n",
       "      <td>14.328557</td>\n",
       "      <td>3.221751</td>\n",
       "      <td>2.180218</td>\n",
       "      <td>15.839057</td>\n",
       "      <td>16.884097</td>\n",
       "      <td>3.922198</td>\n",
       "      <td>15.145602</td>\n",
       "      <td>1.082801</td>\n",
       "      <td>19.151229</td>\n",
       "      <td>13.173986</td>\n",
       "      <td>14.831936</td>\n",
       "      <td>12.686753</td>\n",
       "    </tr>\n",
       "    <tr>\n",
       "      <th>942</th>\n",
       "      <td>01005</td>\n",
       "      <td>15750</td>\n",
       "      <td>24.431289</td>\n",
       "      <td>30.262033</td>\n",
       "      <td>28.387816</td>\n",
       "      <td>11.737089</td>\n",
       "      <td>3.079812</td>\n",
       "      <td>0.908741</td>\n",
       "      <td>13.530400</td>\n",
       "      <td>5.608872</td>\n",
       "      <td>NaN</td>\n",
       "      <td>9.573396</td>\n",
       "      <td>24.296271</td>\n",
       "      <td>14.548203</td>\n",
       "      <td>13.597581</td>\n",
       "      <td>12.324488</td>\n",
       "    </tr>\n",
       "    <tr>\n",
       "      <th>943</th>\n",
       "      <td>01007</td>\n",
       "      <td>20316</td>\n",
       "      <td>14.026395</td>\n",
       "      <td>22.476636</td>\n",
       "      <td>28.810329</td>\n",
       "      <td>7.148573</td>\n",
       "      <td>NaN</td>\n",
       "      <td>1.399404</td>\n",
       "      <td>13.278278</td>\n",
       "      <td>1.966112</td>\n",
       "      <td>NaN</td>\n",
       "      <td>2.621323</td>\n",
       "      <td>20.209706</td>\n",
       "      <td>18.052334</td>\n",
       "      <td>13.556648</td>\n",
       "      <td>11.222975</td>\n",
       "    </tr>\n",
       "    <tr>\n",
       "      <th>944</th>\n",
       "      <td>01009</td>\n",
       "      <td>20403</td>\n",
       "      <td>12.596527</td>\n",
       "      <td>29.656480</td>\n",
       "      <td>24.968569</td>\n",
       "      <td>4.361050</td>\n",
       "      <td>3.804320</td>\n",
       "      <td>0.495883</td>\n",
       "      <td>14.377124</td>\n",
       "      <td>6.063026</td>\n",
       "      <td>NaN</td>\n",
       "      <td>0.693626</td>\n",
       "      <td>20.331900</td>\n",
       "      <td>14.122217</td>\n",
       "      <td>14.465561</td>\n",
       "      <td>12.134980</td>\n",
       "    </tr>\n",
       "  </tbody>\n",
       "</table>\n",
       "</div>"
      ],
      "text/plain": [
       "      fips per_capita_income  percent_below_poverty  \\\n",
       "940  01001             24317               9.475024   \n",
       "941  01003             26261              11.691199   \n",
       "942  01005             15750              24.431289   \n",
       "943  01007             20316              14.026395   \n",
       "944  01009             20403              12.596527   \n",
       "\n",
       "     percent_no_highschool_diploma  percent_mobile_homes  percent_no_vehicle  \\\n",
       "940                      14.235980             17.805823            4.237654   \n",
       "941                      12.629850             14.328557            3.221751   \n",
       "942                      30.262033             28.387816           11.737089   \n",
       "943                      22.476636             28.810329            7.148573   \n",
       "944                      29.656480             24.968569            4.361050   \n",
       "\n",
       "     percent_overcrowding  percent_multi_unit_housing  \\\n",
       "940              0.975846                    1.789087   \n",
       "941              2.180218                   15.839057   \n",
       "942              3.079812                    0.908741   \n",
       "943                   NaN                    1.399404   \n",
       "944              3.804320                    0.495883   \n",
       "\n",
       "     percent_age_65_and_older  percent_limited_english_abilities  \\\n",
       "940                 11.127894                           4.259960   \n",
       "941                 16.884097                           3.922198   \n",
       "942                 13.530400                           5.608872   \n",
       "943                 13.278278                           1.966112   \n",
       "944                 14.377124                           6.063026   \n",
       "\n",
       "     percent_minorities  percent_institutionalized_in_group_quarters  \\\n",
       "940                 NaN                                          NaN   \n",
       "941           15.145602                                     1.082801   \n",
       "942                 NaN                                     9.573396   \n",
       "943                 NaN                                     2.621323   \n",
       "944                 NaN                                     0.693626   \n",
       "\n",
       "     percent_age_18_to_34  percent_age_35_to_44  percent_age_45_to_54  \\\n",
       "940             20.383583             15.695121             14.363510   \n",
       "941             19.151229             13.173986             14.831936   \n",
       "942             24.296271             14.548203             13.597581   \n",
       "943             20.209706             18.052334             13.556648   \n",
       "944             20.331900             14.122217             14.465561   \n",
       "\n",
       "     percent_age_55_to_64  \n",
       "940             10.271291  \n",
       "941             12.686753  \n",
       "942             12.324488  \n",
       "943             11.222975  \n",
       "944             12.134980  "
      ]
     },
     "execution_count": 108,
     "metadata": {},
     "output_type": "execute_result"
    }
   ],
   "source": [
    "df = df.sort_values('fips')\n",
    "df.head()"
   ]
  },
  {
   "cell_type": "code",
   "execution_count": 109,
   "id": "e71a412f-110f-413e-bb0f-db2f9dd71ea4",
   "metadata": {},
   "outputs": [],
   "source": [
    "df.to_csv('SDoH_3years/Social_Economic_3years_2009.csv')"
   ]
  },
  {
   "cell_type": "code",
   "execution_count": null,
   "id": "37ed9bf1-115d-4c43-9e7d-b07bb7fdaf85",
   "metadata": {},
   "outputs": [],
   "source": []
  },
  {
   "cell_type": "code",
   "execution_count": null,
   "id": "c7bed9e1-5e20-4643-97df-44f9b42f6fcc",
   "metadata": {},
   "outputs": [],
   "source": []
  },
  {
   "cell_type": "code",
   "execution_count": null,
   "id": "e16f5171-7956-41a4-a6f6-333c3bb1446b",
   "metadata": {},
   "outputs": [],
   "source": []
  }
 ],
 "metadata": {
  "kernelspec": {
   "display_name": "MyEnv",
   "language": "python",
   "name": "myenv"
  },
  "language_info": {
   "codemirror_mode": {
    "name": "ipython",
    "version": 3
   },
   "file_extension": ".py",
   "mimetype": "text/x-python",
   "name": "python",
   "nbconvert_exporter": "python",
   "pygments_lexer": "ipython3",
   "version": "3.7.11"
  }
 },
 "nbformat": 4,
 "nbformat_minor": 5
}
