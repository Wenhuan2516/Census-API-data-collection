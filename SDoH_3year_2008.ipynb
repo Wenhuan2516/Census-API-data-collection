{
 "cells": [
  {
   "cell_type": "code",
   "execution_count": 1,
   "id": "1ceae829-a03e-466e-9656-2a34dbac8e37",
   "metadata": {},
   "outputs": [],
   "source": [
    "import pandas as pd\n",
    "import numpy as np\n",
    "import matplotlib.pyplot as plt\n",
    "import dask.dataframe as ddf\n",
    "from pandas import Series, DataFrame\n",
    "%matplotlib inline"
   ]
  },
  {
   "cell_type": "code",
   "execution_count": 2,
   "id": "331165ba-98cf-46d9-8529-d0a720926159",
   "metadata": {},
   "outputs": [],
   "source": [
    "import seaborn as sn\n",
    "import plotly.express as px"
   ]
  },
  {
   "cell_type": "markdown",
   "id": "7e4454ad-3fe4-4bb7-b924-8fcf489f2803",
   "metadata": {},
   "source": [
    "### Request for Census Tract Level Population data from Census API"
   ]
  },
  {
   "cell_type": "code",
   "execution_count": 3,
   "id": "c29f7104-19c9-49cf-9161-e5d226f6481c",
   "metadata": {},
   "outputs": [],
   "source": [
    "stateCode = ['01', '02', '04', '05', '06', '08', '09', '10', '11', '12', '13', '15', '16',\n",
    "             '17', '18', '19', '20', '21', '22', '23', '24', '25', '26', '27', '28', '29',\n",
    "            '30', '31', '32', '33', '34', '35', '36', '37', '38', '39', '40', '41', '42', \n",
    "             '44', '45', '46', '47', '48', '49', '50', '51', '53', '54', '55', '56']"
   ]
  },
  {
   "cell_type": "code",
   "execution_count": 4,
   "id": "0178df59-4807-43ba-a82b-9ac9fde763f4",
   "metadata": {},
   "outputs": [
    {
     "data": {
      "text/plain": [
       "51"
      ]
     },
     "execution_count": 4,
     "metadata": {},
     "output_type": "execute_result"
    }
   ],
   "source": [
    "len(stateCode)"
   ]
  },
  {
   "cell_type": "code",
   "execution_count": 5,
   "id": "0767a76a-e446-4a73-a850-7861f44c5f9c",
   "metadata": {},
   "outputs": [],
   "source": [
    "import requests\n",
    "import pandas as pd\n",
    "from datetime import datetime\n",
    "import time\n",
    "import json\n",
    "from io import StringIO"
   ]
  },
  {
   "cell_type": "code",
   "execution_count": 6,
   "id": "d9dc7da1-6aa4-4484-ba06-53ae6f7b9d67",
   "metadata": {},
   "outputs": [],
   "source": [
    "def collectAll_county(year, variables):\n",
    "    basic_url = 'https://api.census.gov/data/' + year + '/acs/acs3?get=NAME,'+ variables + '&for=county:*&in=state:*&key=250f58e35283d400e4185b197e3abe9021079afe'\n",
    "    r = requests.get(basic_url)\n",
    "    x = r.json()\n",
    "    print(x[0])\n",
    "    variable_list = variables.split(',')\n",
    "    column_list = ['county_name']\n",
    "    for item in variable_list:\n",
    "        column_list.append(item)\n",
    "    column_list.append('state code')\n",
    "    column_list.append('county code')\n",
    "    df = pd.DataFrame(x[1:])\n",
    "    df.columns = column_list\n",
    "    return df"
   ]
  },
  {
   "cell_type": "markdown",
   "id": "2cf40e7f-4f06-4d86-b47e-a4418022d334",
   "metadata": {},
   "source": [
    "#### Total population: B01003_001E"
   ]
  },
  {
   "cell_type": "code",
   "execution_count": 7,
   "id": "6c80f31f-3474-4c99-9d06-094da34df9d2",
   "metadata": {},
   "outputs": [],
   "source": [
    "year = '2008'\n",
    "variables = 'B01003_001E'"
   ]
  },
  {
   "cell_type": "code",
   "execution_count": 8,
   "id": "1c3cbc10-f564-4d44-94ee-24486b705c9c",
   "metadata": {},
   "outputs": [
    {
     "name": "stdout",
     "output_type": "stream",
     "text": [
      "['NAME', 'B01003_001E', 'state', 'county']\n"
     ]
    },
    {
     "data": {
      "text/html": [
       "<div>\n",
       "<style scoped>\n",
       "    .dataframe tbody tr th:only-of-type {\n",
       "        vertical-align: middle;\n",
       "    }\n",
       "\n",
       "    .dataframe tbody tr th {\n",
       "        vertical-align: top;\n",
       "    }\n",
       "\n",
       "    .dataframe thead th {\n",
       "        text-align: right;\n",
       "    }\n",
       "</style>\n",
       "<table border=\"1\" class=\"dataframe\">\n",
       "  <thead>\n",
       "    <tr style=\"text-align: right;\">\n",
       "      <th></th>\n",
       "      <th>county_name</th>\n",
       "      <th>B01003_001E</th>\n",
       "      <th>state code</th>\n",
       "      <th>county code</th>\n",
       "    </tr>\n",
       "  </thead>\n",
       "  <tbody>\n",
       "    <tr>\n",
       "      <th>0</th>\n",
       "      <td>Riverside County, California</td>\n",
       "      <td>2055232</td>\n",
       "      <td>06</td>\n",
       "      <td>065</td>\n",
       "    </tr>\n",
       "    <tr>\n",
       "      <th>1</th>\n",
       "      <td>Sacramento County, California</td>\n",
       "      <td>1380708</td>\n",
       "      <td>06</td>\n",
       "      <td>067</td>\n",
       "    </tr>\n",
       "    <tr>\n",
       "      <th>2</th>\n",
       "      <td>San Benito County, California</td>\n",
       "      <td>54515</td>\n",
       "      <td>06</td>\n",
       "      <td>069</td>\n",
       "    </tr>\n",
       "    <tr>\n",
       "      <th>3</th>\n",
       "      <td>San Bernardino County, California</td>\n",
       "      <td>1999753</td>\n",
       "      <td>06</td>\n",
       "      <td>071</td>\n",
       "    </tr>\n",
       "    <tr>\n",
       "      <th>4</th>\n",
       "      <td>San Diego County, California</td>\n",
       "      <td>2965943</td>\n",
       "      <td>06</td>\n",
       "      <td>073</td>\n",
       "    </tr>\n",
       "  </tbody>\n",
       "</table>\n",
       "</div>"
      ],
      "text/plain": [
       "                         county_name B01003_001E state code county code\n",
       "0       Riverside County, California     2055232         06         065\n",
       "1      Sacramento County, California     1380708         06         067\n",
       "2      San Benito County, California       54515         06         069\n",
       "3  San Bernardino County, California     1999753         06         071\n",
       "4       San Diego County, California     2965943         06         073"
      ]
     },
     "execution_count": 8,
     "metadata": {},
     "output_type": "execute_result"
    }
   ],
   "source": [
    "pop_09 = collectAll_county(year,variables)\n",
    "pop_09.head()"
   ]
  },
  {
   "cell_type": "code",
   "execution_count": 9,
   "id": "f0c3f3ea-2b57-4b94-8a49-de9648453f76",
   "metadata": {},
   "outputs": [
    {
     "data": {
      "text/plain": [
       "(1887, 4)"
      ]
     },
     "execution_count": 9,
     "metadata": {},
     "output_type": "execute_result"
    }
   ],
   "source": [
    "pop_09.shape"
   ]
  },
  {
   "cell_type": "markdown",
   "id": "60163fad-ec5e-4e88-9f4a-8842397bedfb",
   "metadata": {},
   "source": [
    "#### 1.per capita income: B19301_001E"
   ]
  },
  {
   "cell_type": "code",
   "execution_count": 10,
   "id": "5be9c9d4-1b1e-4cac-87ef-67af4321d3d1",
   "metadata": {},
   "outputs": [
    {
     "name": "stdout",
     "output_type": "stream",
     "text": [
      "['NAME', 'B19301_001E', 'state', 'county']\n"
     ]
    }
   ],
   "source": [
    "variables = 'B19301_001E'\n",
    "df1 = collectAll_county(year,variables)"
   ]
  },
  {
   "cell_type": "code",
   "execution_count": 11,
   "id": "2c56e829-7a86-4f8f-bac9-fcb7861ab45a",
   "metadata": {},
   "outputs": [
    {
     "data": {
      "text/plain": [
       "(1887, 4)"
      ]
     },
     "execution_count": 11,
     "metadata": {},
     "output_type": "execute_result"
    }
   ],
   "source": [
    "df1.shape"
   ]
  },
  {
   "cell_type": "code",
   "execution_count": 12,
   "id": "36bfc372-bdf7-43bf-8885-8fba42110dcf",
   "metadata": {},
   "outputs": [
    {
     "data": {
      "text/html": [
       "<div>\n",
       "<style scoped>\n",
       "    .dataframe tbody tr th:only-of-type {\n",
       "        vertical-align: middle;\n",
       "    }\n",
       "\n",
       "    .dataframe tbody tr th {\n",
       "        vertical-align: top;\n",
       "    }\n",
       "\n",
       "    .dataframe thead th {\n",
       "        text-align: right;\n",
       "    }\n",
       "</style>\n",
       "<table border=\"1\" class=\"dataframe\">\n",
       "  <thead>\n",
       "    <tr style=\"text-align: right;\">\n",
       "      <th></th>\n",
       "      <th>county_name</th>\n",
       "      <th>per_capita_income</th>\n",
       "      <th>state code</th>\n",
       "      <th>county code</th>\n",
       "      <th>fips</th>\n",
       "    </tr>\n",
       "  </thead>\n",
       "  <tbody>\n",
       "    <tr>\n",
       "      <th>0</th>\n",
       "      <td>Fresno County, California</td>\n",
       "      <td>20640</td>\n",
       "      <td>06</td>\n",
       "      <td>019</td>\n",
       "      <td>06019</td>\n",
       "    </tr>\n",
       "    <tr>\n",
       "      <th>1</th>\n",
       "      <td>Glenn County, California</td>\n",
       "      <td>18754</td>\n",
       "      <td>06</td>\n",
       "      <td>021</td>\n",
       "      <td>06021</td>\n",
       "    </tr>\n",
       "    <tr>\n",
       "      <th>2</th>\n",
       "      <td>Humboldt County, California</td>\n",
       "      <td>23262</td>\n",
       "      <td>06</td>\n",
       "      <td>023</td>\n",
       "      <td>06023</td>\n",
       "    </tr>\n",
       "    <tr>\n",
       "      <th>3</th>\n",
       "      <td>Imperial County, California</td>\n",
       "      <td>16043</td>\n",
       "      <td>06</td>\n",
       "      <td>025</td>\n",
       "      <td>06025</td>\n",
       "    </tr>\n",
       "    <tr>\n",
       "      <th>4</th>\n",
       "      <td>Kern County, California</td>\n",
       "      <td>20410</td>\n",
       "      <td>06</td>\n",
       "      <td>029</td>\n",
       "      <td>06029</td>\n",
       "    </tr>\n",
       "  </tbody>\n",
       "</table>\n",
       "</div>"
      ],
      "text/plain": [
       "                   county_name per_capita_income state code county code   fips\n",
       "0    Fresno County, California             20640         06         019  06019\n",
       "1     Glenn County, California             18754         06         021  06021\n",
       "2  Humboldt County, California             23262         06         023  06023\n",
       "3  Imperial County, California             16043         06         025  06025\n",
       "4      Kern County, California             20410         06         029  06029"
      ]
     },
     "execution_count": 12,
     "metadata": {},
     "output_type": "execute_result"
    }
   ],
   "source": [
    "df1 = df1.rename(columns = {'B19301_001E': 'per_capita_income'})\n",
    "df1['fips'] = df1['state code'] + df1['county code']\n",
    "df1.head()"
   ]
  },
  {
   "cell_type": "markdown",
   "id": "20e579a0-3071-459e-9389-37b5c7699577",
   "metadata": {},
   "source": [
    "#### 2.Percent of Population Below Poverty Level: (C17002_002E+C17002_003E)/C17002_001E"
   ]
  },
  {
   "cell_type": "code",
   "execution_count": 13,
   "id": "26ecf325-eb30-4168-a61f-cae373c3a0da",
   "metadata": {},
   "outputs": [
    {
     "name": "stdout",
     "output_type": "stream",
     "text": [
      "['NAME', 'C17002_002E', 'C17002_003E', 'C17002_001E', 'state', 'county']\n"
     ]
    }
   ],
   "source": [
    "variables = 'C17002_002E,C17002_003E,C17002_001E'\n",
    "df2 = collectAll_county(year,variables)"
   ]
  },
  {
   "cell_type": "code",
   "execution_count": 14,
   "id": "af388139-f295-4ea8-8cda-a7f3f9cf07f5",
   "metadata": {},
   "outputs": [],
   "source": [
    "df2['C17002_002E'] = df2['C17002_002E'].astype('int')\n",
    "df2['C17002_003E'] = df2['C17002_003E'].astype('int')\n",
    "df2['C17002_001E'] = df2['C17002_001E'].astype('int')"
   ]
  },
  {
   "cell_type": "code",
   "execution_count": 15,
   "id": "b05ccb73-f46d-48ab-86d9-0a05a0768e36",
   "metadata": {},
   "outputs": [],
   "source": [
    "df2['percent_below_poverty'] = ((df2['C17002_002E'] + df2['C17002_003E'])/df2['C17002_001E'])*100"
   ]
  },
  {
   "cell_type": "code",
   "execution_count": 16,
   "id": "07d65dd3-cfe5-4fc9-91cf-c077b6c98d2f",
   "metadata": {},
   "outputs": [
    {
     "data": {
      "text/html": [
       "<div>\n",
       "<style scoped>\n",
       "    .dataframe tbody tr th:only-of-type {\n",
       "        vertical-align: middle;\n",
       "    }\n",
       "\n",
       "    .dataframe tbody tr th {\n",
       "        vertical-align: top;\n",
       "    }\n",
       "\n",
       "    .dataframe thead th {\n",
       "        text-align: right;\n",
       "    }\n",
       "</style>\n",
       "<table border=\"1\" class=\"dataframe\">\n",
       "  <thead>\n",
       "    <tr style=\"text-align: right;\">\n",
       "      <th></th>\n",
       "      <th>county_name</th>\n",
       "      <th>C17002_002E</th>\n",
       "      <th>C17002_003E</th>\n",
       "      <th>C17002_001E</th>\n",
       "      <th>state code</th>\n",
       "      <th>county code</th>\n",
       "      <th>percent_below_poverty</th>\n",
       "      <th>fips</th>\n",
       "    </tr>\n",
       "  </thead>\n",
       "  <tbody>\n",
       "    <tr>\n",
       "      <th>0</th>\n",
       "      <td>Broomfield County, Colorado</td>\n",
       "      <td>1808</td>\n",
       "      <td>2393</td>\n",
       "      <td>53139</td>\n",
       "      <td>08</td>\n",
       "      <td>014</td>\n",
       "      <td>7.905681</td>\n",
       "      <td>08014</td>\n",
       "    </tr>\n",
       "    <tr>\n",
       "      <th>1</th>\n",
       "      <td>Delta County, Colorado</td>\n",
       "      <td>1334</td>\n",
       "      <td>2116</td>\n",
       "      <td>29572</td>\n",
       "      <td>08</td>\n",
       "      <td>029</td>\n",
       "      <td>11.666441</td>\n",
       "      <td>08029</td>\n",
       "    </tr>\n",
       "    <tr>\n",
       "      <th>2</th>\n",
       "      <td>Denver County, Colorado</td>\n",
       "      <td>48668</td>\n",
       "      <td>58777</td>\n",
       "      <td>575484</td>\n",
       "      <td>08</td>\n",
       "      <td>031</td>\n",
       "      <td>18.670371</td>\n",
       "      <td>08031</td>\n",
       "    </tr>\n",
       "    <tr>\n",
       "      <th>3</th>\n",
       "      <td>Douglas County, Colorado</td>\n",
       "      <td>3922</td>\n",
       "      <td>3277</td>\n",
       "      <td>268855</td>\n",
       "      <td>08</td>\n",
       "      <td>035</td>\n",
       "      <td>2.677652</td>\n",
       "      <td>08035</td>\n",
       "    </tr>\n",
       "    <tr>\n",
       "      <th>4</th>\n",
       "      <td>Eagle County, Colorado</td>\n",
       "      <td>2634</td>\n",
       "      <td>2349</td>\n",
       "      <td>50564</td>\n",
       "      <td>08</td>\n",
       "      <td>037</td>\n",
       "      <td>9.854837</td>\n",
       "      <td>08037</td>\n",
       "    </tr>\n",
       "  </tbody>\n",
       "</table>\n",
       "</div>"
      ],
      "text/plain": [
       "                   county_name  C17002_002E  C17002_003E  C17002_001E  \\\n",
       "0  Broomfield County, Colorado         1808         2393        53139   \n",
       "1       Delta County, Colorado         1334         2116        29572   \n",
       "2      Denver County, Colorado        48668        58777       575484   \n",
       "3     Douglas County, Colorado         3922         3277       268855   \n",
       "4       Eagle County, Colorado         2634         2349        50564   \n",
       "\n",
       "  state code county code  percent_below_poverty   fips  \n",
       "0         08         014               7.905681  08014  \n",
       "1         08         029              11.666441  08029  \n",
       "2         08         031              18.670371  08031  \n",
       "3         08         035               2.677652  08035  \n",
       "4         08         037               9.854837  08037  "
      ]
     },
     "execution_count": 16,
     "metadata": {},
     "output_type": "execute_result"
    }
   ],
   "source": [
    "df2['fips'] = df2['state code'] + df2['county code']\n",
    "df2.head()"
   ]
  },
  {
   "cell_type": "code",
   "execution_count": 17,
   "id": "fab4ae9e-48cb-4bc6-981f-cf9640035bf8",
   "metadata": {},
   "outputs": [
    {
     "data": {
      "text/plain": [
       "(1887, 8)"
      ]
     },
     "execution_count": 17,
     "metadata": {},
     "output_type": "execute_result"
    }
   ],
   "source": [
    "df2.shape"
   ]
  },
  {
   "cell_type": "markdown",
   "id": "ff2773ce-bbd4-4af5-b139-167dfacd87b3",
   "metadata": {},
   "source": [
    "#### 3.Percent of Population 25+ with Less than a 12th Grade Education: (B15002_003E,B15002_004E,B15002_005E,B15002_003E,B15002_006E,B15002_007E,B15002_008E,B15002_009E,B15002_010E,B15002_020E,B15002_021E,B15002_022E,B15002_023E,B15002_024E,B15002_025E,B15002_026E,B15002_027E)/B15003_001E"
   ]
  },
  {
   "cell_type": "code",
   "execution_count": 18,
   "id": "f74fbcc1-230e-43ae-a328-403cf0170abf",
   "metadata": {},
   "outputs": [],
   "source": [
    "def collectAll_county2(year, variables):\n",
    "    basic_url = 'https://api.census.gov/data/' + year + '/acs/acs1?get=NAME,'+ variables + '&for=county:*&in=state:*'\n",
    "    r = requests.get(basic_url)\n",
    "    x = r.json()\n",
    "    print(x[0])\n",
    "    variable_list = variables.split(',')\n",
    "    column_list = ['county_name']\n",
    "    for item in variable_list:\n",
    "        column_list.append(item)\n",
    "    column_list.append('state code')\n",
    "    column_list.append('county code')\n",
    "    df = pd.DataFrame(x[1:])\n",
    "    df.columns = column_list\n",
    "    return df"
   ]
  },
  {
   "cell_type": "code",
   "execution_count": 19,
   "id": "4dce7e7d-55ac-4065-a65a-0bc55367a58b",
   "metadata": {},
   "outputs": [
    {
     "name": "stdout",
     "output_type": "stream",
     "text": [
      "['NAME', 'B15002_003E', 'B15002_004E', 'B15002_005E', 'B15002_006E', 'B15002_007E', 'B15002_008E', 'B15002_009E', 'B15002_010E', 'B15002_020E', 'B15002_021E', 'B15002_022E', 'B15002_023E', 'B15002_024E', 'B15002_025E', 'B15002_026E', 'B15002_027E', 'B15002_001E', 'state', 'county']\n"
     ]
    }
   ],
   "source": [
    "variables = 'B15002_003E,B15002_004E,B15002_005E,B15002_006E,B15002_007E,B15002_008E,B15002_009E,B15002_010E,B15002_020E,B15002_021E,B15002_022E,B15002_023E,B15002_024E,B15002_025E,B15002_026E,B15002_027E,B15002_001E'\n",
    "df3 = collectAll_county(year,variables)"
   ]
  },
  {
   "cell_type": "code",
   "execution_count": 20,
   "id": "b5d87626-551f-44f6-8814-8cd148424b59",
   "metadata": {},
   "outputs": [
    {
     "data": {
      "text/plain": [
       "(1887, 20)"
      ]
     },
     "execution_count": 20,
     "metadata": {},
     "output_type": "execute_result"
    }
   ],
   "source": [
    "df3.shape"
   ]
  },
  {
   "cell_type": "code",
   "execution_count": 21,
   "id": "12beeedf-46a1-4ae9-ba56-8989e86c05d7",
   "metadata": {},
   "outputs": [],
   "source": [
    "def changeInteger(value):\n",
    "    if value != None:\n",
    "        return int(value)\n",
    "    else:\n",
    "        return np.nan"
   ]
  },
  {
   "cell_type": "code",
   "execution_count": 22,
   "id": "6de4e5bd-4da3-4617-9211-c07583bce770",
   "metadata": {},
   "outputs": [],
   "source": [
    "df3['B15002_003E'] = df3['B15002_003E'].apply(changeInteger)\n",
    "df3['B15002_004E'] = df3['B15002_004E'].apply(changeInteger)\n",
    "df3['B15002_005E'] = df3['B15002_005E'].apply(changeInteger)\n",
    "df3['B15002_006E'] = df3['B15002_006E'].apply(changeInteger)\n",
    "df3['B15002_007E'] = df3['B15002_007E'].apply(changeInteger)\n",
    "df3['B15002_008E'] = df3['B15002_008E'].apply(changeInteger)\n",
    "df3['B15002_009E'] = df3['B15002_009E'].apply(changeInteger)\n",
    "df3['B15002_010E'] = df3['B15002_010E'].apply(changeInteger)\n",
    "df3['B15002_020E'] = df3['B15002_020E'].apply(changeInteger)\n",
    "df3['B15002_021E'] = df3['B15002_021E'].apply(changeInteger)\n",
    "df3['B15002_022E'] = df3['B15002_022E'].apply(changeInteger)\n",
    "df3['B15002_023E'] = df3['B15002_023E'].apply(changeInteger)\n",
    "df3['B15002_024E'] = df3['B15002_024E'].apply(changeInteger)\n",
    "df3['B15002_025E'] = df3['B15002_025E'].apply(changeInteger)\n",
    "df3['B15002_026E'] = df3['B15002_026E'].apply(changeInteger)\n",
    "df3['B15002_027E'] = df3['B15002_027E'].apply(changeInteger)\n",
    "df3['B15002_001E'] = df3['B15002_001E'].apply(changeInteger)"
   ]
  },
  {
   "cell_type": "code",
   "execution_count": 23,
   "id": "f70ce502-8e2b-4228-a121-5a617bfc4b49",
   "metadata": {},
   "outputs": [],
   "source": [
    "df3['percent_no_highschool_diploma'] = ((df3['B15002_003E']+df3['B15002_004E']+df3['B15002_005E']+df3['B15002_006E']+df3['B15002_007E']+df3['B15002_008E']+df3['B15002_009E']\n",
    "                                       +df3['B15002_010E']+df3['B15002_020E']+df3['B15002_021E']+df3['B15002_022E']+df3['B15002_023E']+df3['B15002_024E']+df3['B15002_025E']+df3['B15002_003E']\n",
    "                                       +df3['B15002_026E']+df3['B15002_027E'])/df3['B15002_001E'])*100"
   ]
  },
  {
   "cell_type": "code",
   "execution_count": 24,
   "id": "54da8218-8404-48da-9676-20d89484b1de",
   "metadata": {},
   "outputs": [
    {
     "data": {
      "text/html": [
       "<div>\n",
       "<style scoped>\n",
       "    .dataframe tbody tr th:only-of-type {\n",
       "        vertical-align: middle;\n",
       "    }\n",
       "\n",
       "    .dataframe tbody tr th {\n",
       "        vertical-align: top;\n",
       "    }\n",
       "\n",
       "    .dataframe thead th {\n",
       "        text-align: right;\n",
       "    }\n",
       "</style>\n",
       "<table border=\"1\" class=\"dataframe\">\n",
       "  <thead>\n",
       "    <tr style=\"text-align: right;\">\n",
       "      <th></th>\n",
       "      <th>county_name</th>\n",
       "      <th>B15002_003E</th>\n",
       "      <th>B15002_004E</th>\n",
       "      <th>B15002_005E</th>\n",
       "      <th>B15002_006E</th>\n",
       "      <th>B15002_007E</th>\n",
       "      <th>B15002_008E</th>\n",
       "      <th>B15002_009E</th>\n",
       "      <th>B15002_010E</th>\n",
       "      <th>B15002_020E</th>\n",
       "      <th>...</th>\n",
       "      <th>B15002_023E</th>\n",
       "      <th>B15002_024E</th>\n",
       "      <th>B15002_025E</th>\n",
       "      <th>B15002_026E</th>\n",
       "      <th>B15002_027E</th>\n",
       "      <th>B15002_001E</th>\n",
       "      <th>state code</th>\n",
       "      <th>county code</th>\n",
       "      <th>percent_no_highschool_diploma</th>\n",
       "      <th>fips</th>\n",
       "    </tr>\n",
       "  </thead>\n",
       "  <tbody>\n",
       "    <tr>\n",
       "      <th>0</th>\n",
       "      <td>Franklin County, Maine</td>\n",
       "      <td>66.0</td>\n",
       "      <td>0.0</td>\n",
       "      <td>31.0</td>\n",
       "      <td>268.0</td>\n",
       "      <td>154.0</td>\n",
       "      <td>498.0</td>\n",
       "      <td>326.0</td>\n",
       "      <td>180.0</td>\n",
       "      <td>10.0</td>\n",
       "      <td>...</td>\n",
       "      <td>421.0</td>\n",
       "      <td>151.0</td>\n",
       "      <td>236.0</td>\n",
       "      <td>247.0</td>\n",
       "      <td>160.0</td>\n",
       "      <td>20392.0</td>\n",
       "      <td>23</td>\n",
       "      <td>007</td>\n",
       "      <td>13.828953</td>\n",
       "      <td>23007</td>\n",
       "    </tr>\n",
       "    <tr>\n",
       "      <th>1</th>\n",
       "      <td>Hancock County, Maine</td>\n",
       "      <td>45.0</td>\n",
       "      <td>0.0</td>\n",
       "      <td>55.0</td>\n",
       "      <td>388.0</td>\n",
       "      <td>448.0</td>\n",
       "      <td>330.0</td>\n",
       "      <td>355.0</td>\n",
       "      <td>268.0</td>\n",
       "      <td>38.0</td>\n",
       "      <td>...</td>\n",
       "      <td>284.0</td>\n",
       "      <td>258.0</td>\n",
       "      <td>414.0</td>\n",
       "      <td>311.0</td>\n",
       "      <td>172.0</td>\n",
       "      <td>38160.0</td>\n",
       "      <td>23</td>\n",
       "      <td>009</td>\n",
       "      <td>9.174528</td>\n",
       "      <td>23009</td>\n",
       "    </tr>\n",
       "    <tr>\n",
       "      <th>2</th>\n",
       "      <td>Kennebec County, Maine</td>\n",
       "      <td>84.0</td>\n",
       "      <td>91.0</td>\n",
       "      <td>133.0</td>\n",
       "      <td>1062.0</td>\n",
       "      <td>734.0</td>\n",
       "      <td>943.0</td>\n",
       "      <td>698.0</td>\n",
       "      <td>612.0</td>\n",
       "      <td>166.0</td>\n",
       "      <td>...</td>\n",
       "      <td>958.0</td>\n",
       "      <td>640.0</td>\n",
       "      <td>596.0</td>\n",
       "      <td>768.0</td>\n",
       "      <td>581.0</td>\n",
       "      <td>84655.0</td>\n",
       "      <td>23</td>\n",
       "      <td>011</td>\n",
       "      <td>10.059654</td>\n",
       "      <td>23011</td>\n",
       "    </tr>\n",
       "    <tr>\n",
       "      <th>3</th>\n",
       "      <td>Knox County, Maine</td>\n",
       "      <td>0.0</td>\n",
       "      <td>164.0</td>\n",
       "      <td>60.0</td>\n",
       "      <td>639.0</td>\n",
       "      <td>276.0</td>\n",
       "      <td>303.0</td>\n",
       "      <td>287.0</td>\n",
       "      <td>244.0</td>\n",
       "      <td>17.0</td>\n",
       "      <td>...</td>\n",
       "      <td>310.0</td>\n",
       "      <td>326.0</td>\n",
       "      <td>417.0</td>\n",
       "      <td>202.0</td>\n",
       "      <td>163.0</td>\n",
       "      <td>29860.0</td>\n",
       "      <td>23</td>\n",
       "      <td>013</td>\n",
       "      <td>11.413262</td>\n",
       "      <td>23013</td>\n",
       "    </tr>\n",
       "    <tr>\n",
       "      <th>4</th>\n",
       "      <td>Lincoln County, Maine</td>\n",
       "      <td>23.0</td>\n",
       "      <td>15.0</td>\n",
       "      <td>145.0</td>\n",
       "      <td>217.0</td>\n",
       "      <td>150.0</td>\n",
       "      <td>137.0</td>\n",
       "      <td>317.0</td>\n",
       "      <td>184.0</td>\n",
       "      <td>10.0</td>\n",
       "      <td>...</td>\n",
       "      <td>247.0</td>\n",
       "      <td>129.0</td>\n",
       "      <td>226.0</td>\n",
       "      <td>61.0</td>\n",
       "      <td>97.0</td>\n",
       "      <td>25657.0</td>\n",
       "      <td>23</td>\n",
       "      <td>015</td>\n",
       "      <td>7.806836</td>\n",
       "      <td>23015</td>\n",
       "    </tr>\n",
       "  </tbody>\n",
       "</table>\n",
       "<p>5 rows × 22 columns</p>\n",
       "</div>"
      ],
      "text/plain": [
       "              county_name  B15002_003E  B15002_004E  B15002_005E  B15002_006E  \\\n",
       "0  Franklin County, Maine         66.0          0.0         31.0        268.0   \n",
       "1   Hancock County, Maine         45.0          0.0         55.0        388.0   \n",
       "2  Kennebec County, Maine         84.0         91.0        133.0       1062.0   \n",
       "3      Knox County, Maine          0.0        164.0         60.0        639.0   \n",
       "4   Lincoln County, Maine         23.0         15.0        145.0        217.0   \n",
       "\n",
       "   B15002_007E  B15002_008E  B15002_009E  B15002_010E  B15002_020E  ...  \\\n",
       "0        154.0        498.0        326.0        180.0         10.0  ...   \n",
       "1        448.0        330.0        355.0        268.0         38.0  ...   \n",
       "2        734.0        943.0        698.0        612.0        166.0  ...   \n",
       "3        276.0        303.0        287.0        244.0         17.0  ...   \n",
       "4        150.0        137.0        317.0        184.0         10.0  ...   \n",
       "\n",
       "   B15002_023E  B15002_024E  B15002_025E  B15002_026E  B15002_027E  \\\n",
       "0        421.0        151.0        236.0        247.0        160.0   \n",
       "1        284.0        258.0        414.0        311.0        172.0   \n",
       "2        958.0        640.0        596.0        768.0        581.0   \n",
       "3        310.0        326.0        417.0        202.0        163.0   \n",
       "4        247.0        129.0        226.0         61.0         97.0   \n",
       "\n",
       "   B15002_001E  state code  county code percent_no_highschool_diploma   fips  \n",
       "0      20392.0          23          007                     13.828953  23007  \n",
       "1      38160.0          23          009                      9.174528  23009  \n",
       "2      84655.0          23          011                     10.059654  23011  \n",
       "3      29860.0          23          013                     11.413262  23013  \n",
       "4      25657.0          23          015                      7.806836  23015  \n",
       "\n",
       "[5 rows x 22 columns]"
      ]
     },
     "execution_count": 24,
     "metadata": {},
     "output_type": "execute_result"
    }
   ],
   "source": [
    "df3['fips'] = df3['state code'] + df3['county code']\n",
    "df3.head()"
   ]
  },
  {
   "cell_type": "markdown",
   "id": "af41671e-ba16-4dbd-b37e-b5f7848aa36f",
   "metadata": {},
   "source": [
    "#### 4.Percent of Population Living in Mobile Homes: (B25033_006E+B25033_007E+B25033_012E+B25033_013E)/B25033_001E"
   ]
  },
  {
   "cell_type": "code",
   "execution_count": 25,
   "id": "c03e75e9-89db-4898-92ba-3d9f9ac528f1",
   "metadata": {},
   "outputs": [
    {
     "name": "stdout",
     "output_type": "stream",
     "text": [
      "['NAME', 'B25033_006E', 'B25033_007E', 'B25033_012E', 'B25033_013E', 'B25033_001E', 'state', 'county']\n"
     ]
    }
   ],
   "source": [
    "variables = 'B25033_006E,B25033_007E,B25033_012E,B25033_013E,B25033_001E'\n",
    "df4 = collectAll_county(year,variables)"
   ]
  },
  {
   "cell_type": "code",
   "execution_count": 26,
   "id": "12709efa-2915-43d6-b6e6-daeddcf01714",
   "metadata": {},
   "outputs": [
    {
     "data": {
      "text/plain": [
       "(1887, 8)"
      ]
     },
     "execution_count": 26,
     "metadata": {},
     "output_type": "execute_result"
    }
   ],
   "source": [
    "df4.shape"
   ]
  },
  {
   "cell_type": "code",
   "execution_count": 27,
   "id": "389f3ccf-4a99-4580-b9f3-11d448fcb052",
   "metadata": {},
   "outputs": [],
   "source": [
    "df4['B25033_006E'] = df4['B25033_006E'].apply(changeInteger)\n",
    "df4['B25033_007E'] = df4['B25033_007E'].apply(changeInteger)\n",
    "df4['B25033_012E'] = df4['B25033_012E'].apply(changeInteger)\n",
    "df4['B25033_013E'] = df4['B25033_013E'].apply(changeInteger)\n",
    "df4['B25033_001E'] = df4['B25033_001E'].apply(changeInteger)"
   ]
  },
  {
   "cell_type": "code",
   "execution_count": 28,
   "id": "e129c423-3162-4e27-bdbc-b519908fe576",
   "metadata": {},
   "outputs": [],
   "source": [
    "df4['percent_mobile_homes'] = ((df4['B25033_006E'] + df4['B25033_007E'] + df4['B25033_012E'] + df4['B25033_013E'])/df4['B25033_001E'])*100"
   ]
  },
  {
   "cell_type": "code",
   "execution_count": 29,
   "id": "7afc1666-b2dd-4559-99ad-a203776381ed",
   "metadata": {},
   "outputs": [
    {
     "data": {
      "text/html": [
       "<div>\n",
       "<style scoped>\n",
       "    .dataframe tbody tr th:only-of-type {\n",
       "        vertical-align: middle;\n",
       "    }\n",
       "\n",
       "    .dataframe tbody tr th {\n",
       "        vertical-align: top;\n",
       "    }\n",
       "\n",
       "    .dataframe thead th {\n",
       "        text-align: right;\n",
       "    }\n",
       "</style>\n",
       "<table border=\"1\" class=\"dataframe\">\n",
       "  <thead>\n",
       "    <tr style=\"text-align: right;\">\n",
       "      <th></th>\n",
       "      <th>county_name</th>\n",
       "      <th>B25033_006E</th>\n",
       "      <th>B25033_007E</th>\n",
       "      <th>B25033_012E</th>\n",
       "      <th>B25033_013E</th>\n",
       "      <th>B25033_001E</th>\n",
       "      <th>state code</th>\n",
       "      <th>county code</th>\n",
       "      <th>percent_mobile_homes</th>\n",
       "      <th>fips</th>\n",
       "    </tr>\n",
       "  </thead>\n",
       "  <tbody>\n",
       "    <tr>\n",
       "      <th>0</th>\n",
       "      <td>Autauga County, Alabama</td>\n",
       "      <td>7434.0</td>\n",
       "      <td>72.0</td>\n",
       "      <td>3093.0</td>\n",
       "      <td>0.0</td>\n",
       "      <td>49744.0</td>\n",
       "      <td>01</td>\n",
       "      <td>001</td>\n",
       "      <td>21.307092</td>\n",
       "      <td>01001</td>\n",
       "    </tr>\n",
       "    <tr>\n",
       "      <th>1</th>\n",
       "      <td>Baldwin County, Alabama</td>\n",
       "      <td>17793.0</td>\n",
       "      <td>214.0</td>\n",
       "      <td>8544.0</td>\n",
       "      <td>126.0</td>\n",
       "      <td>169739.0</td>\n",
       "      <td>01</td>\n",
       "      <td>003</td>\n",
       "      <td>15.716482</td>\n",
       "      <td>01003</td>\n",
       "    </tr>\n",
       "    <tr>\n",
       "      <th>2</th>\n",
       "      <td>Barbour County, Alabama</td>\n",
       "      <td>5608.0</td>\n",
       "      <td>0.0</td>\n",
       "      <td>2088.0</td>\n",
       "      <td>0.0</td>\n",
       "      <td>26568.0</td>\n",
       "      <td>01</td>\n",
       "      <td>005</td>\n",
       "      <td>28.967179</td>\n",
       "      <td>01005</td>\n",
       "    </tr>\n",
       "    <tr>\n",
       "      <th>3</th>\n",
       "      <td>Bibb County, Alabama</td>\n",
       "      <td>5614.0</td>\n",
       "      <td>0.0</td>\n",
       "      <td>906.0</td>\n",
       "      <td>0.0</td>\n",
       "      <td>20769.0</td>\n",
       "      <td>01</td>\n",
       "      <td>007</td>\n",
       "      <td>31.392941</td>\n",
       "      <td>01007</td>\n",
       "    </tr>\n",
       "    <tr>\n",
       "      <th>4</th>\n",
       "      <td>Blount County, Alabama</td>\n",
       "      <td>12031.0</td>\n",
       "      <td>0.0</td>\n",
       "      <td>3864.0</td>\n",
       "      <td>0.0</td>\n",
       "      <td>56024.0</td>\n",
       "      <td>01</td>\n",
       "      <td>009</td>\n",
       "      <td>28.371769</td>\n",
       "      <td>01009</td>\n",
       "    </tr>\n",
       "  </tbody>\n",
       "</table>\n",
       "</div>"
      ],
      "text/plain": [
       "               county_name  B25033_006E  B25033_007E  B25033_012E  \\\n",
       "0  Autauga County, Alabama       7434.0         72.0       3093.0   \n",
       "1  Baldwin County, Alabama      17793.0        214.0       8544.0   \n",
       "2  Barbour County, Alabama       5608.0          0.0       2088.0   \n",
       "3     Bibb County, Alabama       5614.0          0.0        906.0   \n",
       "4   Blount County, Alabama      12031.0          0.0       3864.0   \n",
       "\n",
       "   B25033_013E  B25033_001E state code county code  percent_mobile_homes  \\\n",
       "0          0.0      49744.0         01         001             21.307092   \n",
       "1        126.0     169739.0         01         003             15.716482   \n",
       "2          0.0      26568.0         01         005             28.967179   \n",
       "3          0.0      20769.0         01         007             31.392941   \n",
       "4          0.0      56024.0         01         009             28.371769   \n",
       "\n",
       "    fips  \n",
       "0  01001  \n",
       "1  01003  \n",
       "2  01005  \n",
       "3  01007  \n",
       "4  01009  "
      ]
     },
     "execution_count": 29,
     "metadata": {},
     "output_type": "execute_result"
    }
   ],
   "source": [
    "df4['fips'] = df4['state code'] + df4['county code']\n",
    "df4.head()"
   ]
  },
  {
   "cell_type": "markdown",
   "id": "cdeaf879-eae7-4624-88f6-1b784b1e41c2",
   "metadata": {},
   "source": [
    "#### 5.Percent of Population with No Vehicle Available: (B25044_003E+B25044_010E)/B25044_001E"
   ]
  },
  {
   "cell_type": "code",
   "execution_count": 30,
   "id": "fc92edb5-03e2-4528-baf7-a3eeaae03484",
   "metadata": {},
   "outputs": [
    {
     "name": "stdout",
     "output_type": "stream",
     "text": [
      "['NAME', 'B25044_003E', 'B25044_010E', 'B25044_001E', 'state', 'county']\n"
     ]
    }
   ],
   "source": [
    "variables = 'B25044_003E,B25044_010E,B25044_001E'\n",
    "df5 = collectAll_county(year,variables)"
   ]
  },
  {
   "cell_type": "code",
   "execution_count": 31,
   "id": "ffe766d8-b979-441c-88cd-5e76f428bebf",
   "metadata": {},
   "outputs": [
    {
     "data": {
      "text/plain": [
       "(1887, 6)"
      ]
     },
     "execution_count": 31,
     "metadata": {},
     "output_type": "execute_result"
    }
   ],
   "source": [
    "df5.shape"
   ]
  },
  {
   "cell_type": "code",
   "execution_count": 32,
   "id": "7fee86e0-d3a9-4465-b16e-5396daeac844",
   "metadata": {},
   "outputs": [],
   "source": [
    "df5['B25044_003E'] = df5['B25044_003E'].apply(changeInteger)\n",
    "df5['B25044_010E'] = df5['B25044_010E'].apply(changeInteger)\n",
    "df5['B25044_001E'] = df5['B25044_001E'].apply(changeInteger)"
   ]
  },
  {
   "cell_type": "code",
   "execution_count": 33,
   "id": "6e2646ff-10d6-4960-8da9-6c8b4d0f8268",
   "metadata": {},
   "outputs": [],
   "source": [
    "df5['percent_no_vehicle'] = ((df5['B25044_003E'] + df5['B25044_010E'])/df5['B25044_001E'])*100"
   ]
  },
  {
   "cell_type": "code",
   "execution_count": 34,
   "id": "9d38e22b-b76e-4345-91c7-40b408bb3d17",
   "metadata": {},
   "outputs": [
    {
     "data": {
      "text/html": [
       "<div>\n",
       "<style scoped>\n",
       "    .dataframe tbody tr th:only-of-type {\n",
       "        vertical-align: middle;\n",
       "    }\n",
       "\n",
       "    .dataframe tbody tr th {\n",
       "        vertical-align: top;\n",
       "    }\n",
       "\n",
       "    .dataframe thead th {\n",
       "        text-align: right;\n",
       "    }\n",
       "</style>\n",
       "<table border=\"1\" class=\"dataframe\">\n",
       "  <thead>\n",
       "    <tr style=\"text-align: right;\">\n",
       "      <th></th>\n",
       "      <th>county_name</th>\n",
       "      <th>B25044_003E</th>\n",
       "      <th>B25044_010E</th>\n",
       "      <th>B25044_001E</th>\n",
       "      <th>state code</th>\n",
       "      <th>county code</th>\n",
       "      <th>percent_no_vehicle</th>\n",
       "      <th>fips</th>\n",
       "    </tr>\n",
       "  </thead>\n",
       "  <tbody>\n",
       "    <tr>\n",
       "      <th>0</th>\n",
       "      <td>Conway County, Arkansas</td>\n",
       "      <td>326</td>\n",
       "      <td>351</td>\n",
       "      <td>8183</td>\n",
       "      <td>05</td>\n",
       "      <td>029</td>\n",
       "      <td>8.273249</td>\n",
       "      <td>05029</td>\n",
       "    </tr>\n",
       "    <tr>\n",
       "      <th>1</th>\n",
       "      <td>Craighead County, Arkansas</td>\n",
       "      <td>524</td>\n",
       "      <td>1708</td>\n",
       "      <td>34872</td>\n",
       "      <td>05</td>\n",
       "      <td>031</td>\n",
       "      <td>6.400551</td>\n",
       "      <td>05031</td>\n",
       "    </tr>\n",
       "    <tr>\n",
       "      <th>2</th>\n",
       "      <td>Crawford County, Arkansas</td>\n",
       "      <td>435</td>\n",
       "      <td>761</td>\n",
       "      <td>21254</td>\n",
       "      <td>05</td>\n",
       "      <td>033</td>\n",
       "      <td>5.627176</td>\n",
       "      <td>05033</td>\n",
       "    </tr>\n",
       "    <tr>\n",
       "      <th>3</th>\n",
       "      <td>Crittenden County, Arkansas</td>\n",
       "      <td>370</td>\n",
       "      <td>1541</td>\n",
       "      <td>20102</td>\n",
       "      <td>05</td>\n",
       "      <td>035</td>\n",
       "      <td>9.506517</td>\n",
       "      <td>05035</td>\n",
       "    </tr>\n",
       "    <tr>\n",
       "      <th>4</th>\n",
       "      <td>Faulkner County, Arkansas</td>\n",
       "      <td>323</td>\n",
       "      <td>1333</td>\n",
       "      <td>39462</td>\n",
       "      <td>05</td>\n",
       "      <td>045</td>\n",
       "      <td>4.196442</td>\n",
       "      <td>05045</td>\n",
       "    </tr>\n",
       "  </tbody>\n",
       "</table>\n",
       "</div>"
      ],
      "text/plain": [
       "                   county_name  B25044_003E  B25044_010E  B25044_001E  \\\n",
       "0      Conway County, Arkansas          326          351         8183   \n",
       "1   Craighead County, Arkansas          524         1708        34872   \n",
       "2    Crawford County, Arkansas          435          761        21254   \n",
       "3  Crittenden County, Arkansas          370         1541        20102   \n",
       "4    Faulkner County, Arkansas          323         1333        39462   \n",
       "\n",
       "  state code county code  percent_no_vehicle   fips  \n",
       "0         05         029            8.273249  05029  \n",
       "1         05         031            6.400551  05031  \n",
       "2         05         033            5.627176  05033  \n",
       "3         05         035            9.506517  05035  \n",
       "4         05         045            4.196442  05045  "
      ]
     },
     "execution_count": 34,
     "metadata": {},
     "output_type": "execute_result"
    }
   ],
   "source": [
    "df5['fips'] = df5['state code'] + df5['county code']\n",
    "df5.head()"
   ]
  },
  {
   "cell_type": "markdown",
   "id": "2decc903-1e73-4a35-90ae-c0105c6d44ba",
   "metadata": {},
   "source": [
    "#### 6.Percent of Population Unemployed:sum(B21005_006E, B21005_007E, B21005_011E,B21005_012E,B21005_017E,B21005_022E,B21005_028E,B21005_029E,B21005_033E,B21005_034E)/B21005_001E"
   ]
  },
  {
   "cell_type": "code",
   "execution_count": 35,
   "id": "1fa00e51-9547-406a-8a0b-f9e3fe00dba2",
   "metadata": {},
   "outputs": [
    {
     "name": "stdout",
     "output_type": "stream",
     "text": [
      "['NAME', 'B21005_006E', 'B21005_007E', 'B21005_011E', 'B21005_012E', 'B21005_017E', 'B21005_022E', 'B21005_028E', 'B21005_029E', 'B21005_033E', 'B21005_034E', 'B21005_001E', 'state', 'county']\n"
     ]
    }
   ],
   "source": [
    "variables = 'B21005_006E,B21005_007E,B21005_011E,B21005_012E,B21005_017E,B21005_022E,B21005_028E,B21005_029E,B21005_033E,B21005_034E,B21005_001E'\n",
    "df6 = collectAll_county2(year,variables)"
   ]
  },
  {
   "cell_type": "code",
   "execution_count": 36,
   "id": "6be9f1b2-0ffe-44ff-8f4e-ec9c8190f1fa",
   "metadata": {},
   "outputs": [
    {
     "data": {
      "text/plain": [
       "(802, 14)"
      ]
     },
     "execution_count": 36,
     "metadata": {},
     "output_type": "execute_result"
    }
   ],
   "source": [
    "df6.shape"
   ]
  },
  {
   "cell_type": "code",
   "execution_count": 37,
   "id": "8a6b8b0a-3756-48f9-938f-e4eda374eaa8",
   "metadata": {},
   "outputs": [],
   "source": [
    "df6['B21005_006E'] = df6['B21005_006E'].apply(changeInteger)\n",
    "df6['B21005_007E'] = df6['B21005_007E'].apply(changeInteger)\n",
    "df6['B21005_011E'] = df6['B21005_011E'].apply(changeInteger)\n",
    "df6['B21005_012E'] = df6['B21005_012E'].apply(changeInteger)\n",
    "df6['B21005_017E'] = df6['B21005_017E'].apply(changeInteger)\n",
    "df6['B21005_022E'] = df6['B21005_022E'].apply(changeInteger)\n",
    "df6['B21005_028E'] = df6['B21005_028E'].apply(changeInteger)\n",
    "df6['B21005_029E'] = df6['B21005_029E'].apply(changeInteger)\n",
    "df6['B21005_033E'] = df6['B21005_033E'].apply(changeInteger)\n",
    "df6['B21005_034E'] = df6['B21005_034E'].apply(changeInteger)\n",
    "df6['B21005_001E'] = df6['B21005_001E'].apply(changeInteger)"
   ]
  },
  {
   "cell_type": "code",
   "execution_count": 38,
   "id": "52819727-7ad5-4d5f-8c15-8c629af18aea",
   "metadata": {},
   "outputs": [],
   "source": [
    "df6['percent_unemployed_CDC'] = ((df6['B21005_006E']+df6['B21005_007E']+df6['B21005_011E']+df6['B21005_012E']+df6['B21005_017E']+df6['B21005_022E']+df6['B21005_028E']+df6['B21005_029E']+df6['B21005_033E']+df6['B21005_034E'])/df6['B21005_001E'])*100"
   ]
  },
  {
   "cell_type": "code",
   "execution_count": 39,
   "id": "454d2d22-5100-46b6-a390-7f4e17d2d386",
   "metadata": {},
   "outputs": [
    {
     "data": {
      "text/html": [
       "<div>\n",
       "<style scoped>\n",
       "    .dataframe tbody tr th:only-of-type {\n",
       "        vertical-align: middle;\n",
       "    }\n",
       "\n",
       "    .dataframe tbody tr th {\n",
       "        vertical-align: top;\n",
       "    }\n",
       "\n",
       "    .dataframe thead th {\n",
       "        text-align: right;\n",
       "    }\n",
       "</style>\n",
       "<table border=\"1\" class=\"dataframe\">\n",
       "  <thead>\n",
       "    <tr style=\"text-align: right;\">\n",
       "      <th></th>\n",
       "      <th>county_name</th>\n",
       "      <th>B21005_006E</th>\n",
       "      <th>B21005_007E</th>\n",
       "      <th>B21005_011E</th>\n",
       "      <th>B21005_012E</th>\n",
       "      <th>B21005_017E</th>\n",
       "      <th>B21005_022E</th>\n",
       "      <th>B21005_028E</th>\n",
       "      <th>B21005_029E</th>\n",
       "      <th>B21005_033E</th>\n",
       "      <th>B21005_034E</th>\n",
       "      <th>B21005_001E</th>\n",
       "      <th>state code</th>\n",
       "      <th>county code</th>\n",
       "      <th>percent_unemployed_CDC</th>\n",
       "      <th>fips</th>\n",
       "    </tr>\n",
       "  </thead>\n",
       "  <tbody>\n",
       "    <tr>\n",
       "      <th>0</th>\n",
       "      <td>Grayson County, Texas</td>\n",
       "      <td>0</td>\n",
       "      <td>27</td>\n",
       "      <td>1765</td>\n",
       "      <td>6754</td>\n",
       "      <td>0</td>\n",
       "      <td>765</td>\n",
       "      <td>302</td>\n",
       "      <td>937</td>\n",
       "      <td>360</td>\n",
       "      <td>4407</td>\n",
       "      <td>72839</td>\n",
       "      <td>48</td>\n",
       "      <td>181</td>\n",
       "      <td>21.028570</td>\n",
       "      <td>48181</td>\n",
       "    </tr>\n",
       "    <tr>\n",
       "      <th>1</th>\n",
       "      <td>Gregg County, Texas</td>\n",
       "      <td>151</td>\n",
       "      <td>259</td>\n",
       "      <td>1330</td>\n",
       "      <td>5832</td>\n",
       "      <td>0</td>\n",
       "      <td>598</td>\n",
       "      <td>0</td>\n",
       "      <td>840</td>\n",
       "      <td>135</td>\n",
       "      <td>4010</td>\n",
       "      <td>70480</td>\n",
       "      <td>48</td>\n",
       "      <td>183</td>\n",
       "      <td>18.664869</td>\n",
       "      <td>48183</td>\n",
       "    </tr>\n",
       "    <tr>\n",
       "      <th>2</th>\n",
       "      <td>Guadalupe County, Texas</td>\n",
       "      <td>113</td>\n",
       "      <td>0</td>\n",
       "      <td>2090</td>\n",
       "      <td>5490</td>\n",
       "      <td>98</td>\n",
       "      <td>1140</td>\n",
       "      <td>167</td>\n",
       "      <td>1122</td>\n",
       "      <td>58</td>\n",
       "      <td>2981</td>\n",
       "      <td>71335</td>\n",
       "      <td>48</td>\n",
       "      <td>187</td>\n",
       "      <td>18.586949</td>\n",
       "      <td>48187</td>\n",
       "    </tr>\n",
       "    <tr>\n",
       "      <th>3</th>\n",
       "      <td>Harris County, Texas</td>\n",
       "      <td>1743</td>\n",
       "      <td>2437</td>\n",
       "      <td>54418</td>\n",
       "      <td>205789</td>\n",
       "      <td>1339</td>\n",
       "      <td>36692</td>\n",
       "      <td>1207</td>\n",
       "      <td>14752</td>\n",
       "      <td>7776</td>\n",
       "      <td>106583</td>\n",
       "      <td>2521031</td>\n",
       "      <td>48</td>\n",
       "      <td>201</td>\n",
       "      <td>17.165041</td>\n",
       "      <td>48201</td>\n",
       "    </tr>\n",
       "    <tr>\n",
       "      <th>4</th>\n",
       "      <td>Hays County, Texas</td>\n",
       "      <td>0</td>\n",
       "      <td>0</td>\n",
       "      <td>4101</td>\n",
       "      <td>12156</td>\n",
       "      <td>422</td>\n",
       "      <td>694</td>\n",
       "      <td>0</td>\n",
       "      <td>351</td>\n",
       "      <td>637</td>\n",
       "      <td>3670</td>\n",
       "      <td>101391</td>\n",
       "      <td>48</td>\n",
       "      <td>209</td>\n",
       "      <td>21.728753</td>\n",
       "      <td>48209</td>\n",
       "    </tr>\n",
       "  </tbody>\n",
       "</table>\n",
       "</div>"
      ],
      "text/plain": [
       "               county_name  B21005_006E  B21005_007E  B21005_011E  \\\n",
       "0    Grayson County, Texas            0           27         1765   \n",
       "1      Gregg County, Texas          151          259         1330   \n",
       "2  Guadalupe County, Texas          113            0         2090   \n",
       "3     Harris County, Texas         1743         2437        54418   \n",
       "4       Hays County, Texas            0            0         4101   \n",
       "\n",
       "   B21005_012E  B21005_017E  B21005_022E  B21005_028E  B21005_029E  \\\n",
       "0         6754            0          765          302          937   \n",
       "1         5832            0          598            0          840   \n",
       "2         5490           98         1140          167         1122   \n",
       "3       205789         1339        36692         1207        14752   \n",
       "4        12156          422          694            0          351   \n",
       "\n",
       "   B21005_033E  B21005_034E  B21005_001E state code county code  \\\n",
       "0          360         4407        72839         48         181   \n",
       "1          135         4010        70480         48         183   \n",
       "2           58         2981        71335         48         187   \n",
       "3         7776       106583      2521031         48         201   \n",
       "4          637         3670       101391         48         209   \n",
       "\n",
       "   percent_unemployed_CDC   fips  \n",
       "0               21.028570  48181  \n",
       "1               18.664869  48183  \n",
       "2               18.586949  48187  \n",
       "3               17.165041  48201  \n",
       "4               21.728753  48209  "
      ]
     },
     "execution_count": 39,
     "metadata": {},
     "output_type": "execute_result"
    }
   ],
   "source": [
    "df6['fips'] = df6['state code'] + df6['county code']\n",
    "df6.head()"
   ]
  },
  {
   "cell_type": "markdown",
   "id": "c9948355-bd31-4ab4-b7ee-c96586f8d3b1",
   "metadata": {},
   "source": [
    "#### 7.Percent of Population Living In Accommodations with Less Than 1 Room Per Person/Crowding: (B25014_005E+B25014_006E+B25014_007E+B25014_011E+B25014_012E+B25014_013E)/B25014_001E"
   ]
  },
  {
   "cell_type": "code",
   "execution_count": 40,
   "id": "cfca2197-92ec-4373-b8a3-39914cde1365",
   "metadata": {},
   "outputs": [
    {
     "name": "stdout",
     "output_type": "stream",
     "text": [
      "['NAME', 'B25014_005E', 'B25014_006E', 'B25014_007E', 'B25014_011E', 'B25014_012E', 'B25014_013E', 'B25014_001E', 'state', 'county']\n"
     ]
    }
   ],
   "source": [
    "variables = 'B25014_005E,B25014_006E,B25014_007E,B25014_011E,B25014_012E,B25014_013E,B25014_001E'\n",
    "df7 = collectAll_county(year,variables)"
   ]
  },
  {
   "cell_type": "code",
   "execution_count": 41,
   "id": "89125aba-8565-4a24-a3ac-bb5be0e22c56",
   "metadata": {},
   "outputs": [
    {
     "data": {
      "text/plain": [
       "(1887, 10)"
      ]
     },
     "execution_count": 41,
     "metadata": {},
     "output_type": "execute_result"
    }
   ],
   "source": [
    "df7.shape"
   ]
  },
  {
   "cell_type": "code",
   "execution_count": 42,
   "id": "b3a8bf30-04b1-44e3-9a3e-aeaf19720ff0",
   "metadata": {},
   "outputs": [],
   "source": [
    "df7['B25014_005E'] = df7['B25014_005E'].apply(changeInteger)\n",
    "df7['B25014_006E'] = df7['B25014_006E'].apply(changeInteger)\n",
    "df7['B25014_007E'] = df7['B25014_007E'].apply(changeInteger)\n",
    "df7['B25014_011E'] = df7['B25014_011E'].apply(changeInteger)\n",
    "df7['B25014_012E'] = df7['B25014_012E'].apply(changeInteger)\n",
    "df7['B25014_013E'] = df7['B25014_013E'].apply(changeInteger)\n",
    "df7['B25014_001E'] = df7['B25014_001E'].apply(changeInteger)"
   ]
  },
  {
   "cell_type": "code",
   "execution_count": 43,
   "id": "9f70d284-1e36-410e-9abe-2285db087ffb",
   "metadata": {},
   "outputs": [],
   "source": [
    "df7['percent_overcrowding'] = ((df7['B25014_005E']+df7['B25014_006E']+df7['B25014_007E']+df7['B25014_011E']+df7['B25014_012E']+df7['B25014_013E'])/df7['B25014_001E'])*100"
   ]
  },
  {
   "cell_type": "code",
   "execution_count": 44,
   "id": "072747b0-747e-41f3-8b2f-4a39a3e76d97",
   "metadata": {},
   "outputs": [
    {
     "data": {
      "text/html": [
       "<div>\n",
       "<style scoped>\n",
       "    .dataframe tbody tr th:only-of-type {\n",
       "        vertical-align: middle;\n",
       "    }\n",
       "\n",
       "    .dataframe tbody tr th {\n",
       "        vertical-align: top;\n",
       "    }\n",
       "\n",
       "    .dataframe thead th {\n",
       "        text-align: right;\n",
       "    }\n",
       "</style>\n",
       "<table border=\"1\" class=\"dataframe\">\n",
       "  <thead>\n",
       "    <tr style=\"text-align: right;\">\n",
       "      <th></th>\n",
       "      <th>county_name</th>\n",
       "      <th>B25014_005E</th>\n",
       "      <th>B25014_006E</th>\n",
       "      <th>B25014_007E</th>\n",
       "      <th>B25014_011E</th>\n",
       "      <th>B25014_012E</th>\n",
       "      <th>B25014_013E</th>\n",
       "      <th>B25014_001E</th>\n",
       "      <th>state code</th>\n",
       "      <th>county code</th>\n",
       "      <th>percent_overcrowding</th>\n",
       "      <th>fips</th>\n",
       "    </tr>\n",
       "  </thead>\n",
       "  <tbody>\n",
       "    <tr>\n",
       "      <th>0</th>\n",
       "      <td>Boone County, Arkansas</td>\n",
       "      <td>126.0</td>\n",
       "      <td>0.0</td>\n",
       "      <td>9.0</td>\n",
       "      <td>78.0</td>\n",
       "      <td>85.0</td>\n",
       "      <td>0.0</td>\n",
       "      <td>13766.0</td>\n",
       "      <td>05</td>\n",
       "      <td>009</td>\n",
       "      <td>2.164754</td>\n",
       "      <td>05009</td>\n",
       "    </tr>\n",
       "    <tr>\n",
       "      <th>1</th>\n",
       "      <td>Carroll County, Arkansas</td>\n",
       "      <td>101.0</td>\n",
       "      <td>52.0</td>\n",
       "      <td>50.0</td>\n",
       "      <td>152.0</td>\n",
       "      <td>0.0</td>\n",
       "      <td>13.0</td>\n",
       "      <td>11019.0</td>\n",
       "      <td>05</td>\n",
       "      <td>015</td>\n",
       "      <td>3.339686</td>\n",
       "      <td>05015</td>\n",
       "    </tr>\n",
       "    <tr>\n",
       "      <th>2</th>\n",
       "      <td>Columbia County, Arkansas</td>\n",
       "      <td>39.0</td>\n",
       "      <td>14.0</td>\n",
       "      <td>0.0</td>\n",
       "      <td>107.0</td>\n",
       "      <td>20.0</td>\n",
       "      <td>0.0</td>\n",
       "      <td>10378.0</td>\n",
       "      <td>05</td>\n",
       "      <td>027</td>\n",
       "      <td>1.734438</td>\n",
       "      <td>05027</td>\n",
       "    </tr>\n",
       "    <tr>\n",
       "      <th>3</th>\n",
       "      <td>Craighead County, Arkansas</td>\n",
       "      <td>263.0</td>\n",
       "      <td>0.0</td>\n",
       "      <td>0.0</td>\n",
       "      <td>414.0</td>\n",
       "      <td>33.0</td>\n",
       "      <td>0.0</td>\n",
       "      <td>34872.0</td>\n",
       "      <td>05</td>\n",
       "      <td>031</td>\n",
       "      <td>2.036017</td>\n",
       "      <td>05031</td>\n",
       "    </tr>\n",
       "    <tr>\n",
       "      <th>4</th>\n",
       "      <td>Crawford County, Arkansas</td>\n",
       "      <td>227.0</td>\n",
       "      <td>37.0</td>\n",
       "      <td>0.0</td>\n",
       "      <td>98.0</td>\n",
       "      <td>0.0</td>\n",
       "      <td>31.0</td>\n",
       "      <td>21254.0</td>\n",
       "      <td>05</td>\n",
       "      <td>033</td>\n",
       "      <td>1.849064</td>\n",
       "      <td>05033</td>\n",
       "    </tr>\n",
       "  </tbody>\n",
       "</table>\n",
       "</div>"
      ],
      "text/plain": [
       "                  county_name  B25014_005E  B25014_006E  B25014_007E  \\\n",
       "0      Boone County, Arkansas        126.0          0.0          9.0   \n",
       "1    Carroll County, Arkansas        101.0         52.0         50.0   \n",
       "2   Columbia County, Arkansas         39.0         14.0          0.0   \n",
       "3  Craighead County, Arkansas        263.0          0.0          0.0   \n",
       "4   Crawford County, Arkansas        227.0         37.0          0.0   \n",
       "\n",
       "   B25014_011E  B25014_012E  B25014_013E  B25014_001E state code county code  \\\n",
       "0         78.0         85.0          0.0      13766.0         05         009   \n",
       "1        152.0          0.0         13.0      11019.0         05         015   \n",
       "2        107.0         20.0          0.0      10378.0         05         027   \n",
       "3        414.0         33.0          0.0      34872.0         05         031   \n",
       "4         98.0          0.0         31.0      21254.0         05         033   \n",
       "\n",
       "   percent_overcrowding   fips  \n",
       "0              2.164754  05009  \n",
       "1              3.339686  05015  \n",
       "2              1.734438  05027  \n",
       "3              2.036017  05031  \n",
       "4              1.849064  05033  "
      ]
     },
     "execution_count": 44,
     "metadata": {},
     "output_type": "execute_result"
    }
   ],
   "source": [
    "df7['fips'] = df7['state code'] + df7['county code']\n",
    "df7.head()"
   ]
  },
  {
   "cell_type": "markdown",
   "id": "3aac238c-3f49-4579-86e9-27be71f44e3a",
   "metadata": {},
   "source": [
    "#### 8.Percent of Housing Units with 10+ Units in Structure: (B25024_007E+B25024_008E+B25024_009E)/B25024_001E"
   ]
  },
  {
   "cell_type": "code",
   "execution_count": 45,
   "id": "d9c481fc-3286-4ff1-a75e-4a6f1f1106e1",
   "metadata": {},
   "outputs": [
    {
     "name": "stdout",
     "output_type": "stream",
     "text": [
      "['NAME', 'B25024_007E', 'B25024_008E', 'B25024_009E', 'B25024_001E', 'state', 'county']\n"
     ]
    }
   ],
   "source": [
    "variables = 'B25024_007E,B25024_008E,B25024_009E,B25024_001E'\n",
    "df8 = collectAll_county(year,variables)"
   ]
  },
  {
   "cell_type": "code",
   "execution_count": 46,
   "id": "d7134adf-29cd-4150-80d1-6def45982559",
   "metadata": {},
   "outputs": [
    {
     "data": {
      "text/plain": [
       "(1887, 7)"
      ]
     },
     "execution_count": 46,
     "metadata": {},
     "output_type": "execute_result"
    }
   ],
   "source": [
    "df8.shape"
   ]
  },
  {
   "cell_type": "code",
   "execution_count": 47,
   "id": "468626db-72ee-467d-aa73-85803b8ebaae",
   "metadata": {},
   "outputs": [],
   "source": [
    "df8['B25024_007E'] = df8['B25024_007E'].apply(changeInteger)\n",
    "df8['B25024_008E'] = df8['B25024_008E'].apply(changeInteger)\n",
    "df8['B25024_009E'] = df8['B25024_009E'].apply(changeInteger)\n",
    "df8['B25024_001E'] = df8['B25024_001E'].apply(changeInteger)"
   ]
  },
  {
   "cell_type": "code",
   "execution_count": 48,
   "id": "580441b5-fa08-4898-b73f-565ed16106d8",
   "metadata": {},
   "outputs": [],
   "source": [
    "df8['percent_multi_unit_housing'] = ((df8['B25024_007E']+df8['B25024_008E']+df8['B25024_009E'])/df8['B25024_001E'])*100"
   ]
  },
  {
   "cell_type": "code",
   "execution_count": 49,
   "id": "a7fe92c1-17f6-43a4-a116-f6294d828159",
   "metadata": {},
   "outputs": [
    {
     "data": {
      "text/html": [
       "<div>\n",
       "<style scoped>\n",
       "    .dataframe tbody tr th:only-of-type {\n",
       "        vertical-align: middle;\n",
       "    }\n",
       "\n",
       "    .dataframe tbody tr th {\n",
       "        vertical-align: top;\n",
       "    }\n",
       "\n",
       "    .dataframe thead th {\n",
       "        text-align: right;\n",
       "    }\n",
       "</style>\n",
       "<table border=\"1\" class=\"dataframe\">\n",
       "  <thead>\n",
       "    <tr style=\"text-align: right;\">\n",
       "      <th></th>\n",
       "      <th>county_name</th>\n",
       "      <th>B25024_007E</th>\n",
       "      <th>B25024_008E</th>\n",
       "      <th>B25024_009E</th>\n",
       "      <th>B25024_001E</th>\n",
       "      <th>state code</th>\n",
       "      <th>county code</th>\n",
       "      <th>percent_multi_unit_housing</th>\n",
       "      <th>fips</th>\n",
       "    </tr>\n",
       "  </thead>\n",
       "  <tbody>\n",
       "    <tr>\n",
       "      <th>0</th>\n",
       "      <td>Orange County, California</td>\n",
       "      <td>58041.0</td>\n",
       "      <td>43073.0</td>\n",
       "      <td>85412.0</td>\n",
       "      <td>1029310.0</td>\n",
       "      <td>06</td>\n",
       "      <td>059</td>\n",
       "      <td>18.121460</td>\n",
       "      <td>06059</td>\n",
       "    </tr>\n",
       "    <tr>\n",
       "      <th>1</th>\n",
       "      <td>Placer County, California</td>\n",
       "      <td>4168.0</td>\n",
       "      <td>1756.0</td>\n",
       "      <td>3851.0</td>\n",
       "      <td>144813.0</td>\n",
       "      <td>06</td>\n",
       "      <td>061</td>\n",
       "      <td>6.750085</td>\n",
       "      <td>06061</td>\n",
       "    </tr>\n",
       "    <tr>\n",
       "      <th>2</th>\n",
       "      <td>Plumas County, California</td>\n",
       "      <td>110.0</td>\n",
       "      <td>110.0</td>\n",
       "      <td>0.0</td>\n",
       "      <td>14900.0</td>\n",
       "      <td>06</td>\n",
       "      <td>063</td>\n",
       "      <td>1.476510</td>\n",
       "      <td>06063</td>\n",
       "    </tr>\n",
       "    <tr>\n",
       "      <th>3</th>\n",
       "      <td>Riverside County, California</td>\n",
       "      <td>26144.0</td>\n",
       "      <td>13547.0</td>\n",
       "      <td>17684.0</td>\n",
       "      <td>754415.0</td>\n",
       "      <td>06</td>\n",
       "      <td>065</td>\n",
       "      <td>7.605231</td>\n",
       "      <td>06065</td>\n",
       "    </tr>\n",
       "    <tr>\n",
       "      <th>4</th>\n",
       "      <td>Sacramento County, California</td>\n",
       "      <td>29550.0</td>\n",
       "      <td>13711.0</td>\n",
       "      <td>23097.0</td>\n",
       "      <td>547187.0</td>\n",
       "      <td>06</td>\n",
       "      <td>067</td>\n",
       "      <td>12.127116</td>\n",
       "      <td>06067</td>\n",
       "    </tr>\n",
       "  </tbody>\n",
       "</table>\n",
       "</div>"
      ],
      "text/plain": [
       "                     county_name  B25024_007E  B25024_008E  B25024_009E  \\\n",
       "0      Orange County, California      58041.0      43073.0      85412.0   \n",
       "1      Placer County, California       4168.0       1756.0       3851.0   \n",
       "2      Plumas County, California        110.0        110.0          0.0   \n",
       "3   Riverside County, California      26144.0      13547.0      17684.0   \n",
       "4  Sacramento County, California      29550.0      13711.0      23097.0   \n",
       "\n",
       "   B25024_001E state code county code  percent_multi_unit_housing   fips  \n",
       "0    1029310.0         06         059                   18.121460  06059  \n",
       "1     144813.0         06         061                    6.750085  06061  \n",
       "2      14900.0         06         063                    1.476510  06063  \n",
       "3     754415.0         06         065                    7.605231  06065  \n",
       "4     547187.0         06         067                   12.127116  06067  "
      ]
     },
     "execution_count": 49,
     "metadata": {},
     "output_type": "execute_result"
    }
   ],
   "source": [
    "df8['fips'] = df8['state code'] + df8['county code']\n",
    "df8.head()"
   ]
  },
  {
   "cell_type": "markdown",
   "id": "045aa5cc-659a-49fc-8928-86e41fa267c0",
   "metadata": {},
   "source": [
    "#### 9.Percent Of Population 65+: (B01001_020E,B01001_021E,B01001_022E,B01001_023E,B01001_024E,B01001_025E,B01001_044E,B01001_045E,B01001_046E,B01001_047E,B01001_049E)/B01001_001E"
   ]
  },
  {
   "cell_type": "code",
   "execution_count": 50,
   "id": "482dcdb3-80fd-4bbc-940b-2179aa106937",
   "metadata": {},
   "outputs": [
    {
     "name": "stdout",
     "output_type": "stream",
     "text": [
      "['NAME', 'B01001_020E', 'B01001_021E', 'B01001_022E', 'B01001_023E', 'B01001_024E', 'B01001_025E', 'B01001_044E', 'B01001_045E', 'B01001_046E', 'B01001_047E', 'B01001_048E', 'B01001_049E', 'B01001_001E', 'state', 'county']\n"
     ]
    }
   ],
   "source": [
    "variables = 'B01001_020E,B01001_021E,B01001_022E,B01001_023E,B01001_024E,B01001_025E,B01001_044E,B01001_045E,B01001_046E,B01001_047E,B01001_048E,B01001_049E,B01001_001E'\n",
    "df9 = collectAll_county(year,variables)"
   ]
  },
  {
   "cell_type": "code",
   "execution_count": 51,
   "id": "77b05482-58e0-4579-9068-4226dd49aa19",
   "metadata": {},
   "outputs": [
    {
     "data": {
      "text/plain": [
       "(1887, 16)"
      ]
     },
     "execution_count": 51,
     "metadata": {},
     "output_type": "execute_result"
    }
   ],
   "source": [
    "df9.shape"
   ]
  },
  {
   "cell_type": "code",
   "execution_count": 52,
   "id": "117d94de-9b6a-4912-b6f3-c5167ebbe6f0",
   "metadata": {},
   "outputs": [],
   "source": [
    "df9['B01001_020E'] = df9['B01001_020E'].apply(changeInteger)\n",
    "df9['B01001_021E'] = df9['B01001_021E'].apply(changeInteger)\n",
    "df9['B01001_022E'] = df9['B01001_022E'].apply(changeInteger)\n",
    "df9['B01001_023E'] = df9['B01001_023E'].apply(changeInteger)\n",
    "df9['B01001_024E'] = df9['B01001_024E'].apply(changeInteger)\n",
    "df9['B01001_025E'] = df9['B01001_025E'].apply(changeInteger)\n",
    "df9['B01001_044E'] = df9['B01001_044E'].apply(changeInteger)\n",
    "df9['B01001_045E'] = df9['B01001_045E'].apply(changeInteger)\n",
    "df9['B01001_046E'] = df9['B01001_046E'].apply(changeInteger)\n",
    "df9['B01001_047E'] = df9['B01001_047E'].apply(changeInteger)\n",
    "df9['B01001_048E'] = df9['B01001_048E'].apply(changeInteger)\n",
    "df9['B01001_049E'] = df9['B01001_049E'].apply(changeInteger)\n",
    "df9['B01001_001E'] = df9['B01001_001E'].apply(changeInteger)"
   ]
  },
  {
   "cell_type": "code",
   "execution_count": 53,
   "id": "cd9b0d69-3ed6-4340-9d81-c00cef379245",
   "metadata": {},
   "outputs": [],
   "source": [
    "df9['percent_age_65_and_older'] = ((df9['B01001_020E']+df9['B01001_021E']+df9['B01001_022E']+df9['B01001_023E']+df9['B01001_024E']+df9['B01001_025E']+df9['B01001_044E']\n",
    "                                  +df9['B01001_045E']+df9['B01001_046E']+df9['B01001_047E']+df9['B01001_048E']+df9['B01001_049E'])/df9['B01001_001E'])*100"
   ]
  },
  {
   "cell_type": "code",
   "execution_count": 54,
   "id": "9f8e8e5a-8892-4e65-9db9-a34f06a90cdb",
   "metadata": {},
   "outputs": [
    {
     "data": {
      "text/html": [
       "<div>\n",
       "<style scoped>\n",
       "    .dataframe tbody tr th:only-of-type {\n",
       "        vertical-align: middle;\n",
       "    }\n",
       "\n",
       "    .dataframe tbody tr th {\n",
       "        vertical-align: top;\n",
       "    }\n",
       "\n",
       "    .dataframe thead th {\n",
       "        text-align: right;\n",
       "    }\n",
       "</style>\n",
       "<table border=\"1\" class=\"dataframe\">\n",
       "  <thead>\n",
       "    <tr style=\"text-align: right;\">\n",
       "      <th></th>\n",
       "      <th>county_name</th>\n",
       "      <th>B01001_020E</th>\n",
       "      <th>B01001_021E</th>\n",
       "      <th>B01001_022E</th>\n",
       "      <th>B01001_023E</th>\n",
       "      <th>B01001_024E</th>\n",
       "      <th>B01001_025E</th>\n",
       "      <th>B01001_044E</th>\n",
       "      <th>B01001_045E</th>\n",
       "      <th>B01001_046E</th>\n",
       "      <th>B01001_047E</th>\n",
       "      <th>B01001_048E</th>\n",
       "      <th>B01001_049E</th>\n",
       "      <th>B01001_001E</th>\n",
       "      <th>state code</th>\n",
       "      <th>county code</th>\n",
       "      <th>percent_age_65_and_older</th>\n",
       "      <th>fips</th>\n",
       "    </tr>\n",
       "  </thead>\n",
       "  <tbody>\n",
       "    <tr>\n",
       "      <th>0</th>\n",
       "      <td>Franklin County, Maine</td>\n",
       "      <td>218</td>\n",
       "      <td>365</td>\n",
       "      <td>530</td>\n",
       "      <td>481</td>\n",
       "      <td>137</td>\n",
       "      <td>204</td>\n",
       "      <td>242</td>\n",
       "      <td>347</td>\n",
       "      <td>592</td>\n",
       "      <td>295</td>\n",
       "      <td>254</td>\n",
       "      <td>648</td>\n",
       "      <td>29882</td>\n",
       "      <td>23</td>\n",
       "      <td>007</td>\n",
       "      <td>14.433438</td>\n",
       "      <td>23007</td>\n",
       "    </tr>\n",
       "    <tr>\n",
       "      <th>1</th>\n",
       "      <td>Hancock County, Maine</td>\n",
       "      <td>573</td>\n",
       "      <td>731</td>\n",
       "      <td>770</td>\n",
       "      <td>763</td>\n",
       "      <td>461</td>\n",
       "      <td>490</td>\n",
       "      <td>461</td>\n",
       "      <td>825</td>\n",
       "      <td>1036</td>\n",
       "      <td>781</td>\n",
       "      <td>775</td>\n",
       "      <td>966</td>\n",
       "      <td>53183</td>\n",
       "      <td>23</td>\n",
       "      <td>009</td>\n",
       "      <td>16.230750</td>\n",
       "      <td>23009</td>\n",
       "    </tr>\n",
       "    <tr>\n",
       "      <th>2</th>\n",
       "      <td>Kennebec County, Maine</td>\n",
       "      <td>963</td>\n",
       "      <td>1386</td>\n",
       "      <td>1887</td>\n",
       "      <td>1526</td>\n",
       "      <td>1061</td>\n",
       "      <td>692</td>\n",
       "      <td>1200</td>\n",
       "      <td>1625</td>\n",
       "      <td>2005</td>\n",
       "      <td>2132</td>\n",
       "      <td>1714</td>\n",
       "      <td>1537</td>\n",
       "      <td>120711</td>\n",
       "      <td>23</td>\n",
       "      <td>011</td>\n",
       "      <td>14.686317</td>\n",
       "      <td>23011</td>\n",
       "    </tr>\n",
       "    <tr>\n",
       "      <th>3</th>\n",
       "      <td>Knox County, Maine</td>\n",
       "      <td>408</td>\n",
       "      <td>627</td>\n",
       "      <td>581</td>\n",
       "      <td>696</td>\n",
       "      <td>364</td>\n",
       "      <td>317</td>\n",
       "      <td>419</td>\n",
       "      <td>640</td>\n",
       "      <td>961</td>\n",
       "      <td>843</td>\n",
       "      <td>941</td>\n",
       "      <td>428</td>\n",
       "      <td>40738</td>\n",
       "      <td>23</td>\n",
       "      <td>013</td>\n",
       "      <td>17.735284</td>\n",
       "      <td>23013</td>\n",
       "    </tr>\n",
       "    <tr>\n",
       "      <th>4</th>\n",
       "      <td>Lincoln County, Maine</td>\n",
       "      <td>259</td>\n",
       "      <td>470</td>\n",
       "      <td>866</td>\n",
       "      <td>612</td>\n",
       "      <td>497</td>\n",
       "      <td>281</td>\n",
       "      <td>500</td>\n",
       "      <td>531</td>\n",
       "      <td>723</td>\n",
       "      <td>623</td>\n",
       "      <td>485</td>\n",
       "      <td>771</td>\n",
       "      <td>34730</td>\n",
       "      <td>23</td>\n",
       "      <td>015</td>\n",
       "      <td>19.055572</td>\n",
       "      <td>23015</td>\n",
       "    </tr>\n",
       "  </tbody>\n",
       "</table>\n",
       "</div>"
      ],
      "text/plain": [
       "              county_name  B01001_020E  B01001_021E  B01001_022E  B01001_023E  \\\n",
       "0  Franklin County, Maine          218          365          530          481   \n",
       "1   Hancock County, Maine          573          731          770          763   \n",
       "2  Kennebec County, Maine          963         1386         1887         1526   \n",
       "3      Knox County, Maine          408          627          581          696   \n",
       "4   Lincoln County, Maine          259          470          866          612   \n",
       "\n",
       "   B01001_024E  B01001_025E  B01001_044E  B01001_045E  B01001_046E  \\\n",
       "0          137          204          242          347          592   \n",
       "1          461          490          461          825         1036   \n",
       "2         1061          692         1200         1625         2005   \n",
       "3          364          317          419          640          961   \n",
       "4          497          281          500          531          723   \n",
       "\n",
       "   B01001_047E  B01001_048E  B01001_049E  B01001_001E state code county code  \\\n",
       "0          295          254          648        29882         23         007   \n",
       "1          781          775          966        53183         23         009   \n",
       "2         2132         1714         1537       120711         23         011   \n",
       "3          843          941          428        40738         23         013   \n",
       "4          623          485          771        34730         23         015   \n",
       "\n",
       "   percent_age_65_and_older   fips  \n",
       "0                 14.433438  23007  \n",
       "1                 16.230750  23009  \n",
       "2                 14.686317  23011  \n",
       "3                 17.735284  23013  \n",
       "4                 19.055572  23015  "
      ]
     },
     "execution_count": 54,
     "metadata": {},
     "output_type": "execute_result"
    }
   ],
   "source": [
    "df9['fips'] = df9['state code'] + df9['county code']\n",
    "df9.head()"
   ]
  },
  {
   "cell_type": "markdown",
   "id": "dcb04516-8d7f-4ad2-beb3-e688daa12187",
   "metadata": {},
   "source": [
    "#### 10.Percent Of Population Who Do Not Speak English: B99163_005E/B99163_001E"
   ]
  },
  {
   "cell_type": "code",
   "execution_count": 55,
   "id": "f97dbc43-c00a-4e2b-b8c3-8db219707786",
   "metadata": {},
   "outputs": [
    {
     "name": "stdout",
     "output_type": "stream",
     "text": [
      "['NAME', 'B99163_005E', 'B99163_001E', 'state', 'county']\n"
     ]
    }
   ],
   "source": [
    "variables = 'B99163_005E,B99163_001E'\n",
    "df10 = collectAll_county(year,variables)"
   ]
  },
  {
   "cell_type": "code",
   "execution_count": 56,
   "id": "86a48711-061f-4a53-b7bb-a0523aa745f1",
   "metadata": {},
   "outputs": [
    {
     "data": {
      "text/plain": [
       "(1887, 5)"
      ]
     },
     "execution_count": 56,
     "metadata": {},
     "output_type": "execute_result"
    }
   ],
   "source": [
    "df10.shape"
   ]
  },
  {
   "cell_type": "code",
   "execution_count": 57,
   "id": "c87745bc-19ae-4efc-904d-7390a39c3c9d",
   "metadata": {},
   "outputs": [],
   "source": [
    "df10['B99163_005E'] = df10['B99163_005E'].apply(changeInteger)\n",
    "df10['B99163_001E'] = df10['B99163_001E'].apply(changeInteger)"
   ]
  },
  {
   "cell_type": "code",
   "execution_count": 58,
   "id": "79fc7f2e-ce55-499c-ab8b-aa573ca1801f",
   "metadata": {},
   "outputs": [],
   "source": [
    "df10['percent_limited_english_abilities'] = (df10['B99163_005E']/df10['B99163_001E'])*100"
   ]
  },
  {
   "cell_type": "code",
   "execution_count": 59,
   "id": "da196dd1-f265-41f4-8394-30c7bb0ac2b7",
   "metadata": {},
   "outputs": [
    {
     "data": {
      "text/html": [
       "<div>\n",
       "<style scoped>\n",
       "    .dataframe tbody tr th:only-of-type {\n",
       "        vertical-align: middle;\n",
       "    }\n",
       "\n",
       "    .dataframe tbody tr th {\n",
       "        vertical-align: top;\n",
       "    }\n",
       "\n",
       "    .dataframe thead th {\n",
       "        text-align: right;\n",
       "    }\n",
       "</style>\n",
       "<table border=\"1\" class=\"dataframe\">\n",
       "  <thead>\n",
       "    <tr style=\"text-align: right;\">\n",
       "      <th></th>\n",
       "      <th>county_name</th>\n",
       "      <th>B99163_005E</th>\n",
       "      <th>B99163_001E</th>\n",
       "      <th>state code</th>\n",
       "      <th>county code</th>\n",
       "      <th>percent_limited_english_abilities</th>\n",
       "      <th>fips</th>\n",
       "    </tr>\n",
       "  </thead>\n",
       "  <tbody>\n",
       "    <tr>\n",
       "      <th>0</th>\n",
       "      <td>Crittenden County, Arkansas</td>\n",
       "      <td>1242</td>\n",
       "      <td>47771</td>\n",
       "      <td>05</td>\n",
       "      <td>035</td>\n",
       "      <td>2.599904</td>\n",
       "      <td>05035</td>\n",
       "    </tr>\n",
       "    <tr>\n",
       "      <th>1</th>\n",
       "      <td>Faulkner County, Arkansas</td>\n",
       "      <td>3598</td>\n",
       "      <td>97030</td>\n",
       "      <td>05</td>\n",
       "      <td>045</td>\n",
       "      <td>3.708132</td>\n",
       "      <td>05045</td>\n",
       "    </tr>\n",
       "    <tr>\n",
       "      <th>2</th>\n",
       "      <td>Garland County, Arkansas</td>\n",
       "      <td>5874</td>\n",
       "      <td>90502</td>\n",
       "      <td>05</td>\n",
       "      <td>051</td>\n",
       "      <td>6.490464</td>\n",
       "      <td>05051</td>\n",
       "    </tr>\n",
       "    <tr>\n",
       "      <th>3</th>\n",
       "      <td>Greene County, Arkansas</td>\n",
       "      <td>667</td>\n",
       "      <td>37578</td>\n",
       "      <td>05</td>\n",
       "      <td>055</td>\n",
       "      <td>1.774975</td>\n",
       "      <td>05055</td>\n",
       "    </tr>\n",
       "    <tr>\n",
       "      <th>4</th>\n",
       "      <td>Hempstead County, Arkansas</td>\n",
       "      <td>2833</td>\n",
       "      <td>21442</td>\n",
       "      <td>05</td>\n",
       "      <td>057</td>\n",
       "      <td>13.212387</td>\n",
       "      <td>05057</td>\n",
       "    </tr>\n",
       "  </tbody>\n",
       "</table>\n",
       "</div>"
      ],
      "text/plain": [
       "                   county_name  B99163_005E  B99163_001E state code  \\\n",
       "0  Crittenden County, Arkansas         1242        47771         05   \n",
       "1    Faulkner County, Arkansas         3598        97030         05   \n",
       "2     Garland County, Arkansas         5874        90502         05   \n",
       "3      Greene County, Arkansas          667        37578         05   \n",
       "4   Hempstead County, Arkansas         2833        21442         05   \n",
       "\n",
       "  county code  percent_limited_english_abilities   fips  \n",
       "0         035                           2.599904  05035  \n",
       "1         045                           3.708132  05045  \n",
       "2         051                           6.490464  05051  \n",
       "3         055                           1.774975  05055  \n",
       "4         057                          13.212387  05057  "
      ]
     },
     "execution_count": 59,
     "metadata": {},
     "output_type": "execute_result"
    }
   ],
   "source": [
    "df10['fips'] = df10['state code'] + df10['county code']\n",
    "df10.head()"
   ]
  },
  {
   "cell_type": "markdown",
   "id": "230a9265-4827-498c-9cae-c18df3f821b6",
   "metadata": {},
   "source": [
    "#### 11.Percent of Population 17 Years of Age and Under: (B01001_003E+B01001_004E+B01001_005E+B01001_006E+B01001_027E+B01001_028E+B01001_029E+B01001_030E)/B01003_001E"
   ]
  },
  {
   "cell_type": "code",
   "execution_count": 60,
   "id": "43b38a7d-f7ca-4595-8f39-91f898996c9a",
   "metadata": {},
   "outputs": [
    {
     "name": "stdout",
     "output_type": "stream",
     "text": [
      "['NAME', 'B01001_003E', 'B01001_004E', 'B01001_005E', 'B01001_006E', 'B01001_027E', 'B01001_028E', 'B01001_029E', 'B01001_030E', 'B01003_001E', 'state', 'county']\n"
     ]
    }
   ],
   "source": [
    "variables = 'B01001_003E,B01001_004E,B01001_005E,B01001_006E,B01001_027E,B01001_028E,B01001_029E,B01001_030E,B01003_001E'\n",
    "df11 = collectAll_county(year,variables)"
   ]
  },
  {
   "cell_type": "code",
   "execution_count": 61,
   "id": "aab660f8-39a7-4dc8-ae57-9a715c2bb20e",
   "metadata": {},
   "outputs": [
    {
     "data": {
      "text/plain": [
       "(1887, 12)"
      ]
     },
     "execution_count": 61,
     "metadata": {},
     "output_type": "execute_result"
    }
   ],
   "source": [
    "df11.shape"
   ]
  },
  {
   "cell_type": "code",
   "execution_count": 62,
   "id": "3e91d91d-0f62-45e1-aa28-feb685e79554",
   "metadata": {},
   "outputs": [],
   "source": [
    "df11['B01001_003E'] = df11['B01001_003E'].apply(changeInteger)\n",
    "df11['B01001_004E'] = df11['B01001_004E'].apply(changeInteger)\n",
    "df11['B01001_005E'] = df11['B01001_005E'].apply(changeInteger)\n",
    "df11['B01001_006E'] = df11['B01001_006E'].apply(changeInteger)\n",
    "df11['B01001_027E'] = df11['B01001_027E'].apply(changeInteger)\n",
    "df11['B01001_028E'] = df11['B01001_028E'].apply(changeInteger)\n",
    "df11['B01001_029E'] = df11['B01001_029E'].apply(changeInteger)\n",
    "df11['B01001_030E'] = df11['B01001_030E'].apply(changeInteger)\n",
    "df11['B01003_001E'] = df11['B01003_001E'].apply(changeInteger)"
   ]
  },
  {
   "cell_type": "code",
   "execution_count": 63,
   "id": "7ef3e8d6-ddb3-4693-8418-2b8891a87a16",
   "metadata": {},
   "outputs": [],
   "source": [
    "df11['percent_age_17_and_younger'] = ((df11['B01001_003E']+df11['B01001_004E']+df11['B01001_005E']+df11['B01001_006E']+df11['B01001_027E']+df11['B01001_028E']+df11['B01001_029E']+df11['B01001_030E'])/df11['B01003_001E'])*100"
   ]
  },
  {
   "cell_type": "code",
   "execution_count": 64,
   "id": "b4e9178e-a1d3-479b-8a8f-35eb701d327d",
   "metadata": {},
   "outputs": [
    {
     "data": {
      "text/html": [
       "<div>\n",
       "<style scoped>\n",
       "    .dataframe tbody tr th:only-of-type {\n",
       "        vertical-align: middle;\n",
       "    }\n",
       "\n",
       "    .dataframe tbody tr th {\n",
       "        vertical-align: top;\n",
       "    }\n",
       "\n",
       "    .dataframe thead th {\n",
       "        text-align: right;\n",
       "    }\n",
       "</style>\n",
       "<table border=\"1\" class=\"dataframe\">\n",
       "  <thead>\n",
       "    <tr style=\"text-align: right;\">\n",
       "      <th></th>\n",
       "      <th>county_name</th>\n",
       "      <th>B01001_003E</th>\n",
       "      <th>B01001_004E</th>\n",
       "      <th>B01001_005E</th>\n",
       "      <th>B01001_006E</th>\n",
       "      <th>B01001_027E</th>\n",
       "      <th>B01001_028E</th>\n",
       "      <th>B01001_029E</th>\n",
       "      <th>B01001_030E</th>\n",
       "      <th>B01003_001E</th>\n",
       "      <th>state code</th>\n",
       "      <th>county code</th>\n",
       "      <th>percent_age_17_and_younger</th>\n",
       "      <th>fips</th>\n",
       "    </tr>\n",
       "  </thead>\n",
       "  <tbody>\n",
       "    <tr>\n",
       "      <th>0</th>\n",
       "      <td>Riverside County, California</td>\n",
       "      <td>82856</td>\n",
       "      <td>76398</td>\n",
       "      <td>84355</td>\n",
       "      <td>50823</td>\n",
       "      <td>79538</td>\n",
       "      <td>73076</td>\n",
       "      <td>80693</td>\n",
       "      <td>48522</td>\n",
       "      <td>2055232</td>\n",
       "      <td>06</td>\n",
       "      <td>065</td>\n",
       "      <td>28.038732</td>\n",
       "      <td>06065</td>\n",
       "    </tr>\n",
       "    <tr>\n",
       "      <th>1</th>\n",
       "      <td>Sacramento County, California</td>\n",
       "      <td>52453</td>\n",
       "      <td>48543</td>\n",
       "      <td>51495</td>\n",
       "      <td>32498</td>\n",
       "      <td>50426</td>\n",
       "      <td>46707</td>\n",
       "      <td>48998</td>\n",
       "      <td>30883</td>\n",
       "      <td>1380708</td>\n",
       "      <td>06</td>\n",
       "      <td>067</td>\n",
       "      <td>26.218650</td>\n",
       "      <td>06067</td>\n",
       "    </tr>\n",
       "    <tr>\n",
       "      <th>2</th>\n",
       "      <td>San Benito County, California</td>\n",
       "      <td>2288</td>\n",
       "      <td>2149</td>\n",
       "      <td>2609</td>\n",
       "      <td>1446</td>\n",
       "      <td>2030</td>\n",
       "      <td>2199</td>\n",
       "      <td>2145</td>\n",
       "      <td>1354</td>\n",
       "      <td>54515</td>\n",
       "      <td>06</td>\n",
       "      <td>069</td>\n",
       "      <td>29.753279</td>\n",
       "      <td>06069</td>\n",
       "    </tr>\n",
       "    <tr>\n",
       "      <th>3</th>\n",
       "      <td>San Bernardino County, California</td>\n",
       "      <td>83516</td>\n",
       "      <td>80231</td>\n",
       "      <td>85536</td>\n",
       "      <td>54791</td>\n",
       "      <td>79748</td>\n",
       "      <td>75661</td>\n",
       "      <td>82010</td>\n",
       "      <td>52226</td>\n",
       "      <td>1999753</td>\n",
       "      <td>06</td>\n",
       "      <td>071</td>\n",
       "      <td>29.689617</td>\n",
       "      <td>06071</td>\n",
       "    </tr>\n",
       "    <tr>\n",
       "      <th>4</th>\n",
       "      <td>San Diego County, California</td>\n",
       "      <td>113491</td>\n",
       "      <td>100541</td>\n",
       "      <td>101251</td>\n",
       "      <td>63850</td>\n",
       "      <td>108672</td>\n",
       "      <td>93891</td>\n",
       "      <td>98241</td>\n",
       "      <td>60409</td>\n",
       "      <td>2965943</td>\n",
       "      <td>06</td>\n",
       "      <td>073</td>\n",
       "      <td>24.961572</td>\n",
       "      <td>06073</td>\n",
       "    </tr>\n",
       "  </tbody>\n",
       "</table>\n",
       "</div>"
      ],
      "text/plain": [
       "                         county_name  B01001_003E  B01001_004E  B01001_005E  \\\n",
       "0       Riverside County, California        82856        76398        84355   \n",
       "1      Sacramento County, California        52453        48543        51495   \n",
       "2      San Benito County, California         2288         2149         2609   \n",
       "3  San Bernardino County, California        83516        80231        85536   \n",
       "4       San Diego County, California       113491       100541       101251   \n",
       "\n",
       "   B01001_006E  B01001_027E  B01001_028E  B01001_029E  B01001_030E  \\\n",
       "0        50823        79538        73076        80693        48522   \n",
       "1        32498        50426        46707        48998        30883   \n",
       "2         1446         2030         2199         2145         1354   \n",
       "3        54791        79748        75661        82010        52226   \n",
       "4        63850       108672        93891        98241        60409   \n",
       "\n",
       "   B01003_001E state code county code  percent_age_17_and_younger   fips  \n",
       "0      2055232         06         065                   28.038732  06065  \n",
       "1      1380708         06         067                   26.218650  06067  \n",
       "2        54515         06         069                   29.753279  06069  \n",
       "3      1999753         06         071                   29.689617  06071  \n",
       "4      2965943         06         073                   24.961572  06073  "
      ]
     },
     "execution_count": 64,
     "metadata": {},
     "output_type": "execute_result"
    }
   ],
   "source": [
    "df11['fips'] = df11['state code'] + df11['county code']\n",
    "df11.head()"
   ]
  },
  {
   "cell_type": "markdown",
   "id": "0dc9064e-fd0b-4281-8771-366259395f20",
   "metadata": {},
   "source": [
    "#### 12.Percent Minority: 1-(B03002_003E/B03002_001E)"
   ]
  },
  {
   "cell_type": "code",
   "execution_count": 65,
   "id": "0c50e5e9-378c-4077-80f2-687a37f92625",
   "metadata": {},
   "outputs": [
    {
     "name": "stdout",
     "output_type": "stream",
     "text": [
      "['NAME', 'B03002_003E', 'B03002_001E', 'state', 'county']\n"
     ]
    }
   ],
   "source": [
    "variables = 'B03002_003E,B03002_001E'\n",
    "df12 = collectAll_county(year,variables)"
   ]
  },
  {
   "cell_type": "code",
   "execution_count": 66,
   "id": "e07e365e-585c-4b97-ba5e-25fa6039d637",
   "metadata": {},
   "outputs": [
    {
     "data": {
      "text/plain": [
       "(1887, 5)"
      ]
     },
     "execution_count": 66,
     "metadata": {},
     "output_type": "execute_result"
    }
   ],
   "source": [
    "df12.shape"
   ]
  },
  {
   "cell_type": "code",
   "execution_count": 67,
   "id": "dbe1bd76-0991-4fd4-a082-6f9a49c9abd3",
   "metadata": {},
   "outputs": [],
   "source": [
    "df12['B03002_003E'] = df12['B03002_003E'].apply(changeInteger)\n",
    "df12['B03002_001E'] = df12['B03002_001E'].apply(changeInteger)"
   ]
  },
  {
   "cell_type": "code",
   "execution_count": 68,
   "id": "156010fd-f12e-4306-b90e-e4b0183df959",
   "metadata": {},
   "outputs": [],
   "source": [
    "df12['percent_minorities'] = (1 - (df12['B03002_003E']/df12['B03002_001E']))*100"
   ]
  },
  {
   "cell_type": "code",
   "execution_count": 69,
   "id": "7ef360b7-92cf-445f-a5fc-04cbe424922f",
   "metadata": {},
   "outputs": [
    {
     "data": {
      "text/html": [
       "<div>\n",
       "<style scoped>\n",
       "    .dataframe tbody tr th:only-of-type {\n",
       "        vertical-align: middle;\n",
       "    }\n",
       "\n",
       "    .dataframe tbody tr th {\n",
       "        vertical-align: top;\n",
       "    }\n",
       "\n",
       "    .dataframe thead th {\n",
       "        text-align: right;\n",
       "    }\n",
       "</style>\n",
       "<table border=\"1\" class=\"dataframe\">\n",
       "  <thead>\n",
       "    <tr style=\"text-align: right;\">\n",
       "      <th></th>\n",
       "      <th>county_name</th>\n",
       "      <th>B03002_003E</th>\n",
       "      <th>B03002_001E</th>\n",
       "      <th>state code</th>\n",
       "      <th>county code</th>\n",
       "      <th>percent_minorities</th>\n",
       "      <th>fips</th>\n",
       "    </tr>\n",
       "  </thead>\n",
       "  <tbody>\n",
       "    <tr>\n",
       "      <th>0</th>\n",
       "      <td>Berrien County, Michigan</td>\n",
       "      <td>124583.0</td>\n",
       "      <td>159398.0</td>\n",
       "      <td>26</td>\n",
       "      <td>021</td>\n",
       "      <td>21.841554</td>\n",
       "      <td>26021</td>\n",
       "    </tr>\n",
       "    <tr>\n",
       "      <th>1</th>\n",
       "      <td>Seward County, Kansas</td>\n",
       "      <td>9181.0</td>\n",
       "      <td>22839.0</td>\n",
       "      <td>20</td>\n",
       "      <td>175</td>\n",
       "      <td>59.801217</td>\n",
       "      <td>20175</td>\n",
       "    </tr>\n",
       "    <tr>\n",
       "      <th>2</th>\n",
       "      <td>Shawnee County, Kansas</td>\n",
       "      <td>134765.0</td>\n",
       "      <td>173387.0</td>\n",
       "      <td>20</td>\n",
       "      <td>177</td>\n",
       "      <td>22.275026</td>\n",
       "      <td>20177</td>\n",
       "    </tr>\n",
       "    <tr>\n",
       "      <th>3</th>\n",
       "      <td>Wyandotte County, Kansas</td>\n",
       "      <td>73065.0</td>\n",
       "      <td>153698.0</td>\n",
       "      <td>20</td>\n",
       "      <td>209</td>\n",
       "      <td>52.461971</td>\n",
       "      <td>20209</td>\n",
       "    </tr>\n",
       "    <tr>\n",
       "      <th>4</th>\n",
       "      <td>Christian County, Kentucky</td>\n",
       "      <td>56012.0</td>\n",
       "      <td>79774.0</td>\n",
       "      <td>21</td>\n",
       "      <td>047</td>\n",
       "      <td>29.786647</td>\n",
       "      <td>21047</td>\n",
       "    </tr>\n",
       "  </tbody>\n",
       "</table>\n",
       "</div>"
      ],
      "text/plain": [
       "                  county_name  B03002_003E  B03002_001E state code  \\\n",
       "0    Berrien County, Michigan     124583.0     159398.0         26   \n",
       "1       Seward County, Kansas       9181.0      22839.0         20   \n",
       "2      Shawnee County, Kansas     134765.0     173387.0         20   \n",
       "3    Wyandotte County, Kansas      73065.0     153698.0         20   \n",
       "4  Christian County, Kentucky      56012.0      79774.0         21   \n",
       "\n",
       "  county code  percent_minorities   fips  \n",
       "0         021           21.841554  26021  \n",
       "1         175           59.801217  20175  \n",
       "2         177           22.275026  20177  \n",
       "3         209           52.461971  20209  \n",
       "4         047           29.786647  21047  "
      ]
     },
     "execution_count": 69,
     "metadata": {},
     "output_type": "execute_result"
    }
   ],
   "source": [
    "df12['fips'] = df12['state code'] + df12['county code']\n",
    "df12.head()"
   ]
  },
  {
   "cell_type": "markdown",
   "id": "9733cd2c-c058-4c64-af28-8b32a4c8c066",
   "metadata": {},
   "source": [
    "#### 13.Percent of Population with a Disability: (B18101_004E+B18101_007E+B18101_010E+B18101_013E+B18101_016E+B18101_019E)/B18101_002E + (B18101_023E+B18101_026E+B18101_029E+B18101_032E+B18101_035E+B18101_038E)/B18101_021E"
   ]
  },
  {
   "cell_type": "code",
   "execution_count": 70,
   "id": "9d1f58e4-a62a-4b64-b7d4-9e75900dd490",
   "metadata": {},
   "outputs": [
    {
     "name": "stdout",
     "output_type": "stream",
     "text": [
      "['NAME', 'B18101_004E', 'B18101_007E', 'B18101_010E', 'B18101_013E', 'B18101_016E', 'B18101_019E', 'B18101_002E', 'B18101_023E', 'B18101_026E', 'B18101_029E', 'B18101_032E', 'B18101_035E', 'B18101_038E', 'B18101_021E', 'state', 'county']\n"
     ]
    }
   ],
   "source": [
    "variables = 'B18101_004E,B18101_007E,B18101_010E,B18101_013E,B18101_016E,B18101_019E,B18101_002E,B18101_023E,B18101_026E,B18101_029E,B18101_032E,B18101_035E,B18101_038E,B18101_021E'\n",
    "df13 = collectAll_county2(year,variables)"
   ]
  },
  {
   "cell_type": "code",
   "execution_count": 71,
   "id": "33abb6e8-5a53-423b-a4b2-c6b14f590b39",
   "metadata": {},
   "outputs": [
    {
     "data": {
      "text/plain": [
       "(802, 17)"
      ]
     },
     "execution_count": 71,
     "metadata": {},
     "output_type": "execute_result"
    }
   ],
   "source": [
    "df13.shape"
   ]
  },
  {
   "cell_type": "code",
   "execution_count": 72,
   "id": "27f65624-f448-401a-804f-ae498856af93",
   "metadata": {},
   "outputs": [],
   "source": [
    "df13['B18101_004E'] = df13['B18101_004E'].apply(changeInteger)\n",
    "df13['B18101_007E'] = df13['B18101_007E'].apply(changeInteger)\n",
    "df13['B18101_010E'] = df13['B18101_010E'].apply(changeInteger)\n",
    "df13['B18101_013E'] = df13['B18101_013E'].apply(changeInteger)\n",
    "df13['B18101_016E'] = df13['B18101_016E'].apply(changeInteger)\n",
    "df13['B18101_002E'] = df13['B18101_002E'].apply(changeInteger)\n",
    "df13['B18101_023E'] = df13['B18101_023E'].apply(changeInteger)\n",
    "df13['B18101_026E'] = df13['B18101_026E'].apply(changeInteger)\n",
    "df13['B18101_029E'] = df13['B18101_029E'].apply(changeInteger)\n",
    "df13['B18101_032E'] = df13['B18101_032E'].apply(changeInteger)\n",
    "df13['B18101_035E'] = df13['B18101_035E'].apply(changeInteger)\n",
    "df13['B18101_038E'] = df13['B18101_038E'].apply(changeInteger)\n",
    "df13['B18101_021E'] = df13['B18101_021E'].apply(changeInteger)"
   ]
  },
  {
   "cell_type": "code",
   "execution_count": 73,
   "id": "3152ec37-5bda-4767-a23b-4af35f4a80a7",
   "metadata": {},
   "outputs": [],
   "source": [
    "df13['percent_disabled'] = ((df13['B18101_004E']+df13['B18101_007E']+df13['B18101_010E']+df13['B18101_013E']+df13['B18101_016E'])/df13['B18101_002E'] + (df13['B18101_023E']+df13['B18101_026E']+df13['B18101_029E']+df13['B18101_032E']+df13['B18101_035E']+df13['B18101_038E'])/df13['B18101_021E'])*100"
   ]
  },
  {
   "cell_type": "code",
   "execution_count": 74,
   "id": "2ff35508-4ed4-4ee4-89e6-459ec0fb53f4",
   "metadata": {},
   "outputs": [
    {
     "data": {
      "text/html": [
       "<div>\n",
       "<style scoped>\n",
       "    .dataframe tbody tr th:only-of-type {\n",
       "        vertical-align: middle;\n",
       "    }\n",
       "\n",
       "    .dataframe tbody tr th {\n",
       "        vertical-align: top;\n",
       "    }\n",
       "\n",
       "    .dataframe thead th {\n",
       "        text-align: right;\n",
       "    }\n",
       "</style>\n",
       "<table border=\"1\" class=\"dataframe\">\n",
       "  <thead>\n",
       "    <tr style=\"text-align: right;\">\n",
       "      <th></th>\n",
       "      <th>county_name</th>\n",
       "      <th>B18101_004E</th>\n",
       "      <th>B18101_007E</th>\n",
       "      <th>B18101_010E</th>\n",
       "      <th>B18101_013E</th>\n",
       "      <th>B18101_016E</th>\n",
       "      <th>B18101_019E</th>\n",
       "      <th>B18101_002E</th>\n",
       "      <th>B18101_023E</th>\n",
       "      <th>B18101_026E</th>\n",
       "      <th>B18101_029E</th>\n",
       "      <th>B18101_032E</th>\n",
       "      <th>B18101_035E</th>\n",
       "      <th>B18101_038E</th>\n",
       "      <th>B18101_021E</th>\n",
       "      <th>state code</th>\n",
       "      <th>county code</th>\n",
       "      <th>percent_disabled</th>\n",
       "      <th>fips</th>\n",
       "    </tr>\n",
       "  </thead>\n",
       "  <tbody>\n",
       "    <tr>\n",
       "      <th>0</th>\n",
       "      <td>Grayson County, Texas</td>\n",
       "      <td>64</td>\n",
       "      <td>505</td>\n",
       "      <td>903</td>\n",
       "      <td>2866</td>\n",
       "      <td>1401</td>\n",
       "      <td>2016</td>\n",
       "      <td>56846</td>\n",
       "      <td>0</td>\n",
       "      <td>11</td>\n",
       "      <td>391</td>\n",
       "      <td>3550</td>\n",
       "      <td>1342</td>\n",
       "      <td>2347</td>\n",
       "      <td>59893</td>\n",
       "      <td>48</td>\n",
       "      <td>181</td>\n",
       "      <td>22.853448</td>\n",
       "      <td>48181</td>\n",
       "    </tr>\n",
       "    <tr>\n",
       "      <th>1</th>\n",
       "      <td>Gregg County, Texas</td>\n",
       "      <td>95</td>\n",
       "      <td>599</td>\n",
       "      <td>555</td>\n",
       "      <td>2930</td>\n",
       "      <td>1025</td>\n",
       "      <td>1451</td>\n",
       "      <td>55825</td>\n",
       "      <td>0</td>\n",
       "      <td>600</td>\n",
       "      <td>1542</td>\n",
       "      <td>4636</td>\n",
       "      <td>1628</td>\n",
       "      <td>2264</td>\n",
       "      <td>60096</td>\n",
       "      <td>48</td>\n",
       "      <td>183</td>\n",
       "      <td>27.076914</td>\n",
       "      <td>48183</td>\n",
       "    </tr>\n",
       "    <tr>\n",
       "      <th>2</th>\n",
       "      <td>Guadalupe County, Texas</td>\n",
       "      <td>0</td>\n",
       "      <td>1423</td>\n",
       "      <td>1125</td>\n",
       "      <td>4246</td>\n",
       "      <td>951</td>\n",
       "      <td>1259</td>\n",
       "      <td>56868</td>\n",
       "      <td>0</td>\n",
       "      <td>679</td>\n",
       "      <td>1151</td>\n",
       "      <td>3486</td>\n",
       "      <td>1131</td>\n",
       "      <td>2490</td>\n",
       "      <td>58194</td>\n",
       "      <td>48</td>\n",
       "      <td>187</td>\n",
       "      <td>28.976512</td>\n",
       "      <td>48187</td>\n",
       "    </tr>\n",
       "    <tr>\n",
       "      <th>3</th>\n",
       "      <td>Harris County, Texas</td>\n",
       "      <td>419</td>\n",
       "      <td>20943</td>\n",
       "      <td>23977</td>\n",
       "      <td>72643</td>\n",
       "      <td>21701</td>\n",
       "      <td>23467</td>\n",
       "      <td>1983997</td>\n",
       "      <td>969</td>\n",
       "      <td>10548</td>\n",
       "      <td>18673</td>\n",
       "      <td>81461</td>\n",
       "      <td>29730</td>\n",
       "      <td>44680</td>\n",
       "      <td>1978224</td>\n",
       "      <td>48</td>\n",
       "      <td>201</td>\n",
       "      <td>16.445941</td>\n",
       "      <td>48201</td>\n",
       "    </tr>\n",
       "    <tr>\n",
       "      <th>4</th>\n",
       "      <td>Hays County, Texas</td>\n",
       "      <td>0</td>\n",
       "      <td>740</td>\n",
       "      <td>1779</td>\n",
       "      <td>2626</td>\n",
       "      <td>911</td>\n",
       "      <td>1692</td>\n",
       "      <td>74630</td>\n",
       "      <td>0</td>\n",
       "      <td>231</td>\n",
       "      <td>1335</td>\n",
       "      <td>2838</td>\n",
       "      <td>938</td>\n",
       "      <td>2231</td>\n",
       "      <td>73322</td>\n",
       "      <td>48</td>\n",
       "      <td>209</td>\n",
       "      <td>18.443114</td>\n",
       "      <td>48209</td>\n",
       "    </tr>\n",
       "  </tbody>\n",
       "</table>\n",
       "</div>"
      ],
      "text/plain": [
       "               county_name  B18101_004E  B18101_007E  B18101_010E  \\\n",
       "0    Grayson County, Texas           64          505          903   \n",
       "1      Gregg County, Texas           95          599          555   \n",
       "2  Guadalupe County, Texas            0         1423         1125   \n",
       "3     Harris County, Texas          419        20943        23977   \n",
       "4       Hays County, Texas            0          740         1779   \n",
       "\n",
       "   B18101_013E  B18101_016E B18101_019E  B18101_002E  B18101_023E  \\\n",
       "0         2866         1401        2016        56846            0   \n",
       "1         2930         1025        1451        55825            0   \n",
       "2         4246          951        1259        56868            0   \n",
       "3        72643        21701       23467      1983997          969   \n",
       "4         2626          911        1692        74630            0   \n",
       "\n",
       "   B18101_026E  B18101_029E  B18101_032E  B18101_035E  B18101_038E  \\\n",
       "0           11          391         3550         1342         2347   \n",
       "1          600         1542         4636         1628         2264   \n",
       "2          679         1151         3486         1131         2490   \n",
       "3        10548        18673        81461        29730        44680   \n",
       "4          231         1335         2838          938         2231   \n",
       "\n",
       "   B18101_021E state code county code  percent_disabled   fips  \n",
       "0        59893         48         181         22.853448  48181  \n",
       "1        60096         48         183         27.076914  48183  \n",
       "2        58194         48         187         28.976512  48187  \n",
       "3      1978224         48         201         16.445941  48201  \n",
       "4        73322         48         209         18.443114  48209  "
      ]
     },
     "execution_count": 74,
     "metadata": {},
     "output_type": "execute_result"
    }
   ],
   "source": [
    "df13['fips'] = df13['state code'] + df13['county code']\n",
    "df13.head()"
   ]
  },
  {
   "cell_type": "markdown",
   "id": "e94438b4-e185-4f2d-89cd-369beeacf4be",
   "metadata": {},
   "source": [
    "#### 14.Percent of Population Living in Group Quarters: B26001_001E/B01003_001E"
   ]
  },
  {
   "cell_type": "code",
   "execution_count": 75,
   "id": "c4352062-4f3f-4d14-8968-3c70d8a3228f",
   "metadata": {},
   "outputs": [
    {
     "name": "stdout",
     "output_type": "stream",
     "text": [
      "['NAME', 'B26001_001E', 'B01003_001E', 'state', 'county']\n"
     ]
    }
   ],
   "source": [
    "variables = 'B26001_001E,B01003_001E'\n",
    "df14 = collectAll_county(year,variables)"
   ]
  },
  {
   "cell_type": "code",
   "execution_count": 76,
   "id": "ce36db24-97f4-43c4-bb4b-43ad3181d51b",
   "metadata": {},
   "outputs": [
    {
     "data": {
      "text/plain": [
       "(1887, 5)"
      ]
     },
     "execution_count": 76,
     "metadata": {},
     "output_type": "execute_result"
    }
   ],
   "source": [
    "df14.shape"
   ]
  },
  {
   "cell_type": "code",
   "execution_count": 77,
   "id": "67a5eb8e-0e90-4e1e-8c02-b74ac7717e5d",
   "metadata": {},
   "outputs": [],
   "source": [
    "df14['B26001_001E'] = df14['B26001_001E'].apply(changeInteger)\n",
    "df14['B01003_001E'] = df14['B01003_001E'].apply(changeInteger)"
   ]
  },
  {
   "cell_type": "code",
   "execution_count": 78,
   "id": "0fc7a5a2-9133-4096-b752-b1241ab76905",
   "metadata": {},
   "outputs": [],
   "source": [
    "df14['percent_institutionalized_in_group_quarters'] = (df14['B26001_001E']/df14['B01003_001E'])*100"
   ]
  },
  {
   "cell_type": "code",
   "execution_count": 79,
   "id": "a499fda8-15f8-448e-93fd-aa3b2eb601cf",
   "metadata": {},
   "outputs": [
    {
     "data": {
      "text/html": [
       "<div>\n",
       "<style scoped>\n",
       "    .dataframe tbody tr th:only-of-type {\n",
       "        vertical-align: middle;\n",
       "    }\n",
       "\n",
       "    .dataframe tbody tr th {\n",
       "        vertical-align: top;\n",
       "    }\n",
       "\n",
       "    .dataframe thead th {\n",
       "        text-align: right;\n",
       "    }\n",
       "</style>\n",
       "<table border=\"1\" class=\"dataframe\">\n",
       "  <thead>\n",
       "    <tr style=\"text-align: right;\">\n",
       "      <th></th>\n",
       "      <th>county_name</th>\n",
       "      <th>B26001_001E</th>\n",
       "      <th>B01003_001E</th>\n",
       "      <th>state code</th>\n",
       "      <th>county code</th>\n",
       "      <th>percent_institutionalized_in_group_quarters</th>\n",
       "      <th>fips</th>\n",
       "    </tr>\n",
       "  </thead>\n",
       "  <tbody>\n",
       "    <tr>\n",
       "      <th>0</th>\n",
       "      <td>Riverside County, California</td>\n",
       "      <td>28744.0</td>\n",
       "      <td>2055232</td>\n",
       "      <td>06</td>\n",
       "      <td>065</td>\n",
       "      <td>1.398577</td>\n",
       "      <td>06065</td>\n",
       "    </tr>\n",
       "    <tr>\n",
       "      <th>1</th>\n",
       "      <td>Sacramento County, California</td>\n",
       "      <td>28671.0</td>\n",
       "      <td>1380708</td>\n",
       "      <td>06</td>\n",
       "      <td>067</td>\n",
       "      <td>2.076543</td>\n",
       "      <td>06067</td>\n",
       "    </tr>\n",
       "    <tr>\n",
       "      <th>2</th>\n",
       "      <td>San Benito County, California</td>\n",
       "      <td>NaN</td>\n",
       "      <td>54515</td>\n",
       "      <td>06</td>\n",
       "      <td>069</td>\n",
       "      <td>NaN</td>\n",
       "      <td>06069</td>\n",
       "    </tr>\n",
       "    <tr>\n",
       "      <th>3</th>\n",
       "      <td>San Bernardino County, California</td>\n",
       "      <td>44193.0</td>\n",
       "      <td>1999753</td>\n",
       "      <td>06</td>\n",
       "      <td>071</td>\n",
       "      <td>2.209923</td>\n",
       "      <td>06071</td>\n",
       "    </tr>\n",
       "    <tr>\n",
       "      <th>4</th>\n",
       "      <td>San Diego County, California</td>\n",
       "      <td>111740.0</td>\n",
       "      <td>2965943</td>\n",
       "      <td>06</td>\n",
       "      <td>073</td>\n",
       "      <td>3.767436</td>\n",
       "      <td>06073</td>\n",
       "    </tr>\n",
       "  </tbody>\n",
       "</table>\n",
       "</div>"
      ],
      "text/plain": [
       "                         county_name  B26001_001E  B01003_001E state code  \\\n",
       "0       Riverside County, California      28744.0      2055232         06   \n",
       "1      Sacramento County, California      28671.0      1380708         06   \n",
       "2      San Benito County, California          NaN        54515         06   \n",
       "3  San Bernardino County, California      44193.0      1999753         06   \n",
       "4       San Diego County, California     111740.0      2965943         06   \n",
       "\n",
       "  county code  percent_institutionalized_in_group_quarters   fips  \n",
       "0         065                                     1.398577  06065  \n",
       "1         067                                     2.076543  06067  \n",
       "2         069                                          NaN  06069  \n",
       "3         071                                     2.209923  06071  \n",
       "4         073                                     3.767436  06073  "
      ]
     },
     "execution_count": 79,
     "metadata": {},
     "output_type": "execute_result"
    }
   ],
   "source": [
    "df14['fips'] = df14['state code'] + df14['county code']\n",
    "df14.head()"
   ]
  },
  {
   "cell_type": "markdown",
   "id": "74b84cad-5d54-44dd-9cb8-1c663ac8ca10",
   "metadata": {},
   "source": [
    "#### 15.Percent of Children Living in Single Parent Households: (B09008_010E+B09008_011E+B09008_012E)/B09008_001E"
   ]
  },
  {
   "cell_type": "code",
   "execution_count": 80,
   "id": "bff02592-6a29-43d7-92c2-5b580485d18c",
   "metadata": {},
   "outputs": [
    {
     "name": "stdout",
     "output_type": "stream",
     "text": [
      "['NAME', 'B09008_010E', 'B09008_011E', 'B09008_012E', 'B09008_001E', 'state', 'county']\n"
     ]
    }
   ],
   "source": [
    "variables = 'B09008_010E,B09008_011E,B09008_012E,B09008_001E'\n",
    "df15 = collectAll_county2(year,variables)"
   ]
  },
  {
   "cell_type": "code",
   "execution_count": 81,
   "id": "cc8d4588-83c4-4f84-84d0-1a379ce8de09",
   "metadata": {},
   "outputs": [
    {
     "data": {
      "text/plain": [
       "(802, 7)"
      ]
     },
     "execution_count": 81,
     "metadata": {},
     "output_type": "execute_result"
    }
   ],
   "source": [
    "df15.shape"
   ]
  },
  {
   "cell_type": "code",
   "execution_count": 82,
   "id": "0aecfcf2-8774-4221-b2b3-d671c79d60e7",
   "metadata": {},
   "outputs": [],
   "source": [
    "df15['B09008_010E'] = df15['B09008_010E'].apply(changeInteger)\n",
    "df15['B09008_011E'] = df15['B09008_011E'].apply(changeInteger)\n",
    "df15['B09008_012E'] = df15['B09008_012E'].apply(changeInteger)\n",
    "df15['B09008_001E'] = df15['B09008_001E'].apply(changeInteger)"
   ]
  },
  {
   "cell_type": "code",
   "execution_count": 83,
   "id": "48279050-99e3-401e-97d2-801d995710c2",
   "metadata": {},
   "outputs": [],
   "source": [
    "df15['percent_single_parent_households_CDC'] = ((df15['B09008_010E'] + df15['B09008_011E']+df15['B09008_012E'])/df15['B09008_001E'])*100"
   ]
  },
  {
   "cell_type": "code",
   "execution_count": 84,
   "id": "ff96d4cd-45ba-4f4c-b57b-5b4c0f397a84",
   "metadata": {},
   "outputs": [
    {
     "data": {
      "text/html": [
       "<div>\n",
       "<style scoped>\n",
       "    .dataframe tbody tr th:only-of-type {\n",
       "        vertical-align: middle;\n",
       "    }\n",
       "\n",
       "    .dataframe tbody tr th {\n",
       "        vertical-align: top;\n",
       "    }\n",
       "\n",
       "    .dataframe thead th {\n",
       "        text-align: right;\n",
       "    }\n",
       "</style>\n",
       "<table border=\"1\" class=\"dataframe\">\n",
       "  <thead>\n",
       "    <tr style=\"text-align: right;\">\n",
       "      <th></th>\n",
       "      <th>county_name</th>\n",
       "      <th>B09008_010E</th>\n",
       "      <th>B09008_011E</th>\n",
       "      <th>B09008_012E</th>\n",
       "      <th>B09008_001E</th>\n",
       "      <th>state code</th>\n",
       "      <th>county code</th>\n",
       "      <th>percent_single_parent_households_CDC</th>\n",
       "      <th>fips</th>\n",
       "    </tr>\n",
       "  </thead>\n",
       "  <tbody>\n",
       "    <tr>\n",
       "      <th>0</th>\n",
       "      <td>Litchfield County, Connecticut</td>\n",
       "      <td>1102.0</td>\n",
       "      <td>4423.0</td>\n",
       "      <td>51.0</td>\n",
       "      <td>39769.0</td>\n",
       "      <td>09</td>\n",
       "      <td>005</td>\n",
       "      <td>14.020971</td>\n",
       "      <td>09005</td>\n",
       "    </tr>\n",
       "    <tr>\n",
       "      <th>1</th>\n",
       "      <td>Middlesex County, Connecticut</td>\n",
       "      <td>415.0</td>\n",
       "      <td>6776.0</td>\n",
       "      <td>0.0</td>\n",
       "      <td>35704.0</td>\n",
       "      <td>09</td>\n",
       "      <td>007</td>\n",
       "      <td>20.140600</td>\n",
       "      <td>09007</td>\n",
       "    </tr>\n",
       "    <tr>\n",
       "      <th>2</th>\n",
       "      <td>New Haven County, Connecticut</td>\n",
       "      <td>5379.0</td>\n",
       "      <td>47671.0</td>\n",
       "      <td>263.0</td>\n",
       "      <td>194392.0</td>\n",
       "      <td>09</td>\n",
       "      <td>009</td>\n",
       "      <td>27.425511</td>\n",
       "      <td>09009</td>\n",
       "    </tr>\n",
       "    <tr>\n",
       "      <th>3</th>\n",
       "      <td>New London County, Connecticut</td>\n",
       "      <td>1539.0</td>\n",
       "      <td>11976.0</td>\n",
       "      <td>0.0</td>\n",
       "      <td>60013.0</td>\n",
       "      <td>09</td>\n",
       "      <td>011</td>\n",
       "      <td>22.520121</td>\n",
       "      <td>09011</td>\n",
       "    </tr>\n",
       "    <tr>\n",
       "      <th>4</th>\n",
       "      <td>Tolland County, Connecticut</td>\n",
       "      <td>791.0</td>\n",
       "      <td>4827.0</td>\n",
       "      <td>0.0</td>\n",
       "      <td>29375.0</td>\n",
       "      <td>09</td>\n",
       "      <td>013</td>\n",
       "      <td>19.125106</td>\n",
       "      <td>09013</td>\n",
       "    </tr>\n",
       "  </tbody>\n",
       "</table>\n",
       "</div>"
      ],
      "text/plain": [
       "                      county_name  B09008_010E  B09008_011E  B09008_012E  \\\n",
       "0  Litchfield County, Connecticut       1102.0       4423.0         51.0   \n",
       "1   Middlesex County, Connecticut        415.0       6776.0          0.0   \n",
       "2   New Haven County, Connecticut       5379.0      47671.0        263.0   \n",
       "3  New London County, Connecticut       1539.0      11976.0          0.0   \n",
       "4     Tolland County, Connecticut        791.0       4827.0          0.0   \n",
       "\n",
       "   B09008_001E state code county code  percent_single_parent_households_CDC  \\\n",
       "0      39769.0         09         005                             14.020971   \n",
       "1      35704.0         09         007                             20.140600   \n",
       "2     194392.0         09         009                             27.425511   \n",
       "3      60013.0         09         011                             22.520121   \n",
       "4      29375.0         09         013                             19.125106   \n",
       "\n",
       "    fips  \n",
       "0  09005  \n",
       "1  09007  \n",
       "2  09009  \n",
       "3  09011  \n",
       "4  09013  "
      ]
     },
     "execution_count": 84,
     "metadata": {},
     "output_type": "execute_result"
    }
   ],
   "source": [
    "df15['fips'] = df15['state code'] + df15['county code']\n",
    "df15.head()"
   ]
  },
  {
   "cell_type": "markdown",
   "id": "5acf173f-f4e1-4ded-a20b-61609a7be6a1",
   "metadata": {},
   "source": [
    "### age 18 to 34\n",
    "#### (B01001_007E+B01001_008E+B01001_009E+B01001_010E+B01001_011E+B01001_012E+B01001_031E+B01001_032E+B01001_033E+B01001_034E+B01001_035E+B01001_036E)/B01001_001E"
   ]
  },
  {
   "cell_type": "code",
   "execution_count": 85,
   "id": "330f9eb3-7e29-4ad8-9245-a595906bc370",
   "metadata": {},
   "outputs": [
    {
     "name": "stdout",
     "output_type": "stream",
     "text": [
      "['NAME', 'B01001_007E', 'B01001_008E', 'B01001_009E', 'B01001_010E', 'B01001_011E', 'B01001_012E', 'B01001_031E', 'B01001_032E', 'B01001_033E', 'B01001_034E', 'B01001_035E', 'B01001_036E', 'B01001_001E', 'state', 'county']\n"
     ]
    }
   ],
   "source": [
    "variables = 'B01001_007E,B01001_008E,B01001_009E,B01001_010E,B01001_011E,B01001_012E,B01001_031E,B01001_032E,B01001_033E,B01001_034E,B01001_035E,B01001_036E,B01001_001E'\n",
    "df16 = collectAll_county(year,variables)"
   ]
  },
  {
   "cell_type": "code",
   "execution_count": 86,
   "id": "6f63b764-614b-49c4-ab6e-c7844b362c09",
   "metadata": {},
   "outputs": [],
   "source": [
    "df16['B01001_007E'] = df16['B01001_007E'].apply(changeInteger)\n",
    "df16['B01001_008E'] = df16['B01001_008E'].apply(changeInteger)\n",
    "df16['B01001_009E'] = df16['B01001_009E'].apply(changeInteger)\n",
    "df16['B01001_010E'] = df16['B01001_010E'].apply(changeInteger)\n",
    "df16['B01001_011E'] = df16['B01001_011E'].apply(changeInteger)\n",
    "df16['B01001_012E'] = df16['B01001_012E'].apply(changeInteger)\n",
    "df16['B01001_031E'] = df16['B01001_031E'].apply(changeInteger)\n",
    "df16['B01001_032E'] = df16['B01001_032E'].apply(changeInteger)\n",
    "df16['B01001_033E'] = df16['B01001_033E'].apply(changeInteger)\n",
    "df16['B01001_034E'] = df16['B01001_034E'].apply(changeInteger)\n",
    "df16['B01001_035E'] = df16['B01001_035E'].apply(changeInteger)\n",
    "df16['B01001_036E'] = df16['B01001_036E'].apply(changeInteger)\n",
    "df16['B01001_001E'] = df16['B01001_001E'].apply(changeInteger)"
   ]
  },
  {
   "cell_type": "code",
   "execution_count": 87,
   "id": "086b601c-6584-4cec-b89e-6738c02f4918",
   "metadata": {},
   "outputs": [],
   "source": [
    "df16['percent_age_18_to_34'] = ((df16['B01001_007E'] + df16['B01001_008E'] +df16['B01001_009E'] +df16['B01001_010E'] +df16['B01001_011E']+df16['B01001_012E']+df16['B01001_031E']+df16['B01001_032E']+df16['B01001_033E']+df16['B01001_034E']+df16['B01001_035E']+df16['B01001_036E'])/df16['B01001_001E'])*100"
   ]
  },
  {
   "cell_type": "code",
   "execution_count": 88,
   "id": "4cf1c1e8-6ddb-4691-b8dd-fdf25c669094",
   "metadata": {},
   "outputs": [
    {
     "data": {
      "text/html": [
       "<div>\n",
       "<style scoped>\n",
       "    .dataframe tbody tr th:only-of-type {\n",
       "        vertical-align: middle;\n",
       "    }\n",
       "\n",
       "    .dataframe tbody tr th {\n",
       "        vertical-align: top;\n",
       "    }\n",
       "\n",
       "    .dataframe thead th {\n",
       "        text-align: right;\n",
       "    }\n",
       "</style>\n",
       "<table border=\"1\" class=\"dataframe\">\n",
       "  <thead>\n",
       "    <tr style=\"text-align: right;\">\n",
       "      <th></th>\n",
       "      <th>county_name</th>\n",
       "      <th>B01001_007E</th>\n",
       "      <th>B01001_008E</th>\n",
       "      <th>B01001_009E</th>\n",
       "      <th>B01001_010E</th>\n",
       "      <th>B01001_011E</th>\n",
       "      <th>B01001_012E</th>\n",
       "      <th>B01001_031E</th>\n",
       "      <th>B01001_032E</th>\n",
       "      <th>B01001_033E</th>\n",
       "      <th>B01001_034E</th>\n",
       "      <th>B01001_035E</th>\n",
       "      <th>B01001_036E</th>\n",
       "      <th>B01001_001E</th>\n",
       "      <th>state code</th>\n",
       "      <th>county code</th>\n",
       "      <th>percent_age_18_to_34</th>\n",
       "      <th>fips</th>\n",
       "    </tr>\n",
       "  </thead>\n",
       "  <tbody>\n",
       "    <tr>\n",
       "      <th>0</th>\n",
       "      <td>Franklin County, Maine</td>\n",
       "      <td>469</td>\n",
       "      <td>401</td>\n",
       "      <td>175</td>\n",
       "      <td>529</td>\n",
       "      <td>949</td>\n",
       "      <td>701</td>\n",
       "      <td>763</td>\n",
       "      <td>313</td>\n",
       "      <td>441</td>\n",
       "      <td>490</td>\n",
       "      <td>1009</td>\n",
       "      <td>834</td>\n",
       "      <td>29882</td>\n",
       "      <td>23</td>\n",
       "      <td>007</td>\n",
       "      <td>23.673114</td>\n",
       "      <td>23007</td>\n",
       "    </tr>\n",
       "    <tr>\n",
       "      <th>1</th>\n",
       "      <td>Hancock County, Maine</td>\n",
       "      <td>708</td>\n",
       "      <td>488</td>\n",
       "      <td>304</td>\n",
       "      <td>934</td>\n",
       "      <td>1341</td>\n",
       "      <td>1338</td>\n",
       "      <td>622</td>\n",
       "      <td>391</td>\n",
       "      <td>322</td>\n",
       "      <td>710</td>\n",
       "      <td>1410</td>\n",
       "      <td>1417</td>\n",
       "      <td>53183</td>\n",
       "      <td>23</td>\n",
       "      <td>009</td>\n",
       "      <td>18.774796</td>\n",
       "      <td>23009</td>\n",
       "    </tr>\n",
       "    <tr>\n",
       "      <th>2</th>\n",
       "      <td>Kennebec County, Maine</td>\n",
       "      <td>1727</td>\n",
       "      <td>1014</td>\n",
       "      <td>626</td>\n",
       "      <td>1999</td>\n",
       "      <td>3697</td>\n",
       "      <td>3151</td>\n",
       "      <td>1656</td>\n",
       "      <td>927</td>\n",
       "      <td>803</td>\n",
       "      <td>2007</td>\n",
       "      <td>3936</td>\n",
       "      <td>3435</td>\n",
       "      <td>120711</td>\n",
       "      <td>23</td>\n",
       "      <td>011</td>\n",
       "      <td>20.692398</td>\n",
       "      <td>23011</td>\n",
       "    </tr>\n",
       "    <tr>\n",
       "      <th>3</th>\n",
       "      <td>Knox County, Maine</td>\n",
       "      <td>376</td>\n",
       "      <td>255</td>\n",
       "      <td>179</td>\n",
       "      <td>643</td>\n",
       "      <td>1164</td>\n",
       "      <td>1216</td>\n",
       "      <td>383</td>\n",
       "      <td>190</td>\n",
       "      <td>435</td>\n",
       "      <td>362</td>\n",
       "      <td>1077</td>\n",
       "      <td>1098</td>\n",
       "      <td>40738</td>\n",
       "      <td>23</td>\n",
       "      <td>013</td>\n",
       "      <td>18.110855</td>\n",
       "      <td>23013</td>\n",
       "    </tr>\n",
       "    <tr>\n",
       "      <th>4</th>\n",
       "      <td>Lincoln County, Maine</td>\n",
       "      <td>340</td>\n",
       "      <td>177</td>\n",
       "      <td>189</td>\n",
       "      <td>477</td>\n",
       "      <td>949</td>\n",
       "      <td>805</td>\n",
       "      <td>292</td>\n",
       "      <td>254</td>\n",
       "      <td>234</td>\n",
       "      <td>327</td>\n",
       "      <td>923</td>\n",
       "      <td>901</td>\n",
       "      <td>34730</td>\n",
       "      <td>23</td>\n",
       "      <td>015</td>\n",
       "      <td>16.896055</td>\n",
       "      <td>23015</td>\n",
       "    </tr>\n",
       "  </tbody>\n",
       "</table>\n",
       "</div>"
      ],
      "text/plain": [
       "              county_name  B01001_007E  B01001_008E  B01001_009E  B01001_010E  \\\n",
       "0  Franklin County, Maine          469          401          175          529   \n",
       "1   Hancock County, Maine          708          488          304          934   \n",
       "2  Kennebec County, Maine         1727         1014          626         1999   \n",
       "3      Knox County, Maine          376          255          179          643   \n",
       "4   Lincoln County, Maine          340          177          189          477   \n",
       "\n",
       "   B01001_011E  B01001_012E  B01001_031E  B01001_032E  B01001_033E  \\\n",
       "0          949          701          763          313          441   \n",
       "1         1341         1338          622          391          322   \n",
       "2         3697         3151         1656          927          803   \n",
       "3         1164         1216          383          190          435   \n",
       "4          949          805          292          254          234   \n",
       "\n",
       "   B01001_034E  B01001_035E  B01001_036E  B01001_001E state code county code  \\\n",
       "0          490         1009          834        29882         23         007   \n",
       "1          710         1410         1417        53183         23         009   \n",
       "2         2007         3936         3435       120711         23         011   \n",
       "3          362         1077         1098        40738         23         013   \n",
       "4          327          923          901        34730         23         015   \n",
       "\n",
       "   percent_age_18_to_34   fips  \n",
       "0             23.673114  23007  \n",
       "1             18.774796  23009  \n",
       "2             20.692398  23011  \n",
       "3             18.110855  23013  \n",
       "4             16.896055  23015  "
      ]
     },
     "execution_count": 88,
     "metadata": {},
     "output_type": "execute_result"
    }
   ],
   "source": [
    "df16['fips'] = df16['state code'] + df16['county code']\n",
    "df16.head()"
   ]
  },
  {
   "cell_type": "code",
   "execution_count": 89,
   "id": "d9b661b1-c70b-4bc0-9cfc-cbd10fe37064",
   "metadata": {},
   "outputs": [
    {
     "data": {
      "text/plain": [
       "(1887, 18)"
      ]
     },
     "execution_count": 89,
     "metadata": {},
     "output_type": "execute_result"
    }
   ],
   "source": [
    "df16.shape"
   ]
  },
  {
   "cell_type": "markdown",
   "id": "730d8f25-cb06-4ce0-a74f-40a10c7452cd",
   "metadata": {},
   "source": [
    "### Age 35 to 44\n",
    "#### (B01001_013E+B01001_014E+B01001_037E+B01001_038E)/B01001_001E"
   ]
  },
  {
   "cell_type": "code",
   "execution_count": 90,
   "id": "9af10f52-ae54-49c9-a1aa-ba06033d2da1",
   "metadata": {},
   "outputs": [
    {
     "name": "stdout",
     "output_type": "stream",
     "text": [
      "['NAME', 'B01001_013E', 'B01001_014E', 'B01001_037E', 'B01001_038E', 'B01001_001E', 'state', 'county']\n"
     ]
    }
   ],
   "source": [
    "variables = 'B01001_013E,B01001_014E,B01001_037E,B01001_038E,B01001_001E'\n",
    "df17 = collectAll_county(year,variables)"
   ]
  },
  {
   "cell_type": "code",
   "execution_count": 91,
   "id": "aaeddf1d-e065-40c7-a7f5-bec08e79b9b6",
   "metadata": {},
   "outputs": [],
   "source": [
    "df17['B01001_013E'] = df17['B01001_013E'].apply(changeInteger)\n",
    "df17['B01001_014E'] = df17['B01001_014E'].apply(changeInteger)\n",
    "df17['B01001_037E'] = df17['B01001_037E'].apply(changeInteger)\n",
    "df17['B01001_038E'] = df17['B01001_038E'].apply(changeInteger)\n",
    "df17['B01001_001E'] = df17['B01001_001E'].apply(changeInteger)"
   ]
  },
  {
   "cell_type": "code",
   "execution_count": 92,
   "id": "2bb876f3-e566-4853-9177-a199142f5ed9",
   "metadata": {},
   "outputs": [],
   "source": [
    "df17['percent_age_35_to_44'] = ((df17['B01001_013E']+df17['B01001_014E'] +df17['B01001_037E']+df17['B01001_038E'])/df17['B01001_001E'])*100"
   ]
  },
  {
   "cell_type": "code",
   "execution_count": 93,
   "id": "836957f4-52ed-41b9-9824-e21c2defff0c",
   "metadata": {},
   "outputs": [
    {
     "data": {
      "text/html": [
       "<div>\n",
       "<style scoped>\n",
       "    .dataframe tbody tr th:only-of-type {\n",
       "        vertical-align: middle;\n",
       "    }\n",
       "\n",
       "    .dataframe tbody tr th {\n",
       "        vertical-align: top;\n",
       "    }\n",
       "\n",
       "    .dataframe thead th {\n",
       "        text-align: right;\n",
       "    }\n",
       "</style>\n",
       "<table border=\"1\" class=\"dataframe\">\n",
       "  <thead>\n",
       "    <tr style=\"text-align: right;\">\n",
       "      <th></th>\n",
       "      <th>county_name</th>\n",
       "      <th>B01001_013E</th>\n",
       "      <th>B01001_014E</th>\n",
       "      <th>B01001_037E</th>\n",
       "      <th>B01001_038E</th>\n",
       "      <th>B01001_001E</th>\n",
       "      <th>state code</th>\n",
       "      <th>county code</th>\n",
       "      <th>percent_age_35_to_44</th>\n",
       "      <th>fips</th>\n",
       "    </tr>\n",
       "  </thead>\n",
       "  <tbody>\n",
       "    <tr>\n",
       "      <th>0</th>\n",
       "      <td>Franklin County, Maine</td>\n",
       "      <td>1004</td>\n",
       "      <td>890</td>\n",
       "      <td>1009</td>\n",
       "      <td>943</td>\n",
       "      <td>29882</td>\n",
       "      <td>23</td>\n",
       "      <td>007</td>\n",
       "      <td>12.870624</td>\n",
       "      <td>23007</td>\n",
       "    </tr>\n",
       "    <tr>\n",
       "      <th>1</th>\n",
       "      <td>Hancock County, Maine</td>\n",
       "      <td>1419</td>\n",
       "      <td>2060</td>\n",
       "      <td>1967</td>\n",
       "      <td>1754</td>\n",
       "      <td>53183</td>\n",
       "      <td>23</td>\n",
       "      <td>009</td>\n",
       "      <td>13.538161</td>\n",
       "      <td>23009</td>\n",
       "    </tr>\n",
       "    <tr>\n",
       "      <th>2</th>\n",
       "      <td>Kennebec County, Maine</td>\n",
       "      <td>3713</td>\n",
       "      <td>4569</td>\n",
       "      <td>4063</td>\n",
       "      <td>4456</td>\n",
       "      <td>120711</td>\n",
       "      <td>23</td>\n",
       "      <td>011</td>\n",
       "      <td>13.918367</td>\n",
       "      <td>23011</td>\n",
       "    </tr>\n",
       "    <tr>\n",
       "      <th>3</th>\n",
       "      <td>Knox County, Maine</td>\n",
       "      <td>1239</td>\n",
       "      <td>1676</td>\n",
       "      <td>1311</td>\n",
       "      <td>1358</td>\n",
       "      <td>40738</td>\n",
       "      <td>23</td>\n",
       "      <td>013</td>\n",
       "      <td>13.707104</td>\n",
       "      <td>23013</td>\n",
       "    </tr>\n",
       "    <tr>\n",
       "      <th>4</th>\n",
       "      <td>Lincoln County, Maine</td>\n",
       "      <td>1042</td>\n",
       "      <td>1135</td>\n",
       "      <td>1076</td>\n",
       "      <td>1273</td>\n",
       "      <td>34730</td>\n",
       "      <td>23</td>\n",
       "      <td>015</td>\n",
       "      <td>13.031961</td>\n",
       "      <td>23015</td>\n",
       "    </tr>\n",
       "  </tbody>\n",
       "</table>\n",
       "</div>"
      ],
      "text/plain": [
       "              county_name  B01001_013E  B01001_014E  B01001_037E  B01001_038E  \\\n",
       "0  Franklin County, Maine         1004          890         1009          943   \n",
       "1   Hancock County, Maine         1419         2060         1967         1754   \n",
       "2  Kennebec County, Maine         3713         4569         4063         4456   \n",
       "3      Knox County, Maine         1239         1676         1311         1358   \n",
       "4   Lincoln County, Maine         1042         1135         1076         1273   \n",
       "\n",
       "   B01001_001E state code county code  percent_age_35_to_44   fips  \n",
       "0        29882         23         007             12.870624  23007  \n",
       "1        53183         23         009             13.538161  23009  \n",
       "2       120711         23         011             13.918367  23011  \n",
       "3        40738         23         013             13.707104  23013  \n",
       "4        34730         23         015             13.031961  23015  "
      ]
     },
     "execution_count": 93,
     "metadata": {},
     "output_type": "execute_result"
    }
   ],
   "source": [
    "df17['fips'] = df17['state code'] + df17['county code']\n",
    "df17.head()"
   ]
  },
  {
   "cell_type": "code",
   "execution_count": 94,
   "id": "d38de85f-8ed4-407f-b9fd-03a2bb4634f9",
   "metadata": {},
   "outputs": [
    {
     "data": {
      "text/plain": [
       "(1887, 10)"
      ]
     },
     "execution_count": 94,
     "metadata": {},
     "output_type": "execute_result"
    }
   ],
   "source": [
    "df17.shape"
   ]
  },
  {
   "cell_type": "markdown",
   "id": "eec42697-16ef-4a3d-b612-6a5632b1f442",
   "metadata": {},
   "source": [
    "### age 45 to 54\n",
    "#### (B01001_015E+B01001_016E+B01001_039E+B01001_040E)/B01001_001E"
   ]
  },
  {
   "cell_type": "code",
   "execution_count": 95,
   "id": "8223d7d3-da3b-4190-8c0f-877c3c61c359",
   "metadata": {},
   "outputs": [
    {
     "name": "stdout",
     "output_type": "stream",
     "text": [
      "['NAME', 'B01001_015E', 'B01001_016E', 'B01001_039E', 'B01001_040E', 'B01001_001E', 'state', 'county']\n"
     ]
    }
   ],
   "source": [
    "variables = 'B01001_015E,B01001_016E,B01001_039E,B01001_040E,B01001_001E'\n",
    "df18 = collectAll_county(year,variables)"
   ]
  },
  {
   "cell_type": "code",
   "execution_count": 96,
   "id": "64f93c52-adf3-4d36-9056-dc703c2df649",
   "metadata": {},
   "outputs": [],
   "source": [
    "df18['B01001_015E'] = df18['B01001_015E'].apply(changeInteger)\n",
    "df18['B01001_016E'] = df18['B01001_016E'].apply(changeInteger)\n",
    "df18['B01001_039E'] = df18['B01001_039E'].apply(changeInteger)\n",
    "df18['B01001_040E'] = df18['B01001_040E'].apply(changeInteger)\n",
    "df18['B01001_001E'] = df18['B01001_001E'].apply(changeInteger)"
   ]
  },
  {
   "cell_type": "code",
   "execution_count": 97,
   "id": "833adef1-1d4e-47ec-a6e1-40e3bef59ed6",
   "metadata": {},
   "outputs": [],
   "source": [
    "df18['percent_age_45_to_54'] = ((df18['B01001_015E']+df18['B01001_016E'] +df18['B01001_039E']+df18['B01001_040E'])/df18['B01001_001E'])*100"
   ]
  },
  {
   "cell_type": "code",
   "execution_count": 98,
   "id": "095b777f-0191-4a9f-a2a1-cf635a3a34bf",
   "metadata": {},
   "outputs": [
    {
     "data": {
      "text/html": [
       "<div>\n",
       "<style scoped>\n",
       "    .dataframe tbody tr th:only-of-type {\n",
       "        vertical-align: middle;\n",
       "    }\n",
       "\n",
       "    .dataframe tbody tr th {\n",
       "        vertical-align: top;\n",
       "    }\n",
       "\n",
       "    .dataframe thead th {\n",
       "        text-align: right;\n",
       "    }\n",
       "</style>\n",
       "<table border=\"1\" class=\"dataframe\">\n",
       "  <thead>\n",
       "    <tr style=\"text-align: right;\">\n",
       "      <th></th>\n",
       "      <th>county_name</th>\n",
       "      <th>B01001_015E</th>\n",
       "      <th>B01001_016E</th>\n",
       "      <th>B01001_039E</th>\n",
       "      <th>B01001_040E</th>\n",
       "      <th>B01001_001E</th>\n",
       "      <th>state code</th>\n",
       "      <th>county code</th>\n",
       "      <th>percent_age_45_to_54</th>\n",
       "      <th>fips</th>\n",
       "    </tr>\n",
       "  </thead>\n",
       "  <tbody>\n",
       "    <tr>\n",
       "      <th>0</th>\n",
       "      <td>Franklin County, Maine</td>\n",
       "      <td>1188</td>\n",
       "      <td>1119</td>\n",
       "      <td>1159</td>\n",
       "      <td>1196</td>\n",
       "      <td>29882</td>\n",
       "      <td>23</td>\n",
       "      <td>007</td>\n",
       "      <td>15.601365</td>\n",
       "      <td>23007</td>\n",
       "    </tr>\n",
       "    <tr>\n",
       "      <th>1</th>\n",
       "      <td>Hancock County, Maine</td>\n",
       "      <td>2109</td>\n",
       "      <td>2215</td>\n",
       "      <td>2292</td>\n",
       "      <td>2332</td>\n",
       "      <td>53183</td>\n",
       "      <td>23</td>\n",
       "      <td>009</td>\n",
       "      <td>16.824925</td>\n",
       "      <td>23009</td>\n",
       "    </tr>\n",
       "    <tr>\n",
       "      <th>2</th>\n",
       "      <td>Kennebec County, Maine</td>\n",
       "      <td>4854</td>\n",
       "      <td>4841</td>\n",
       "      <td>5491</td>\n",
       "      <td>5069</td>\n",
       "      <td>120711</td>\n",
       "      <td>23</td>\n",
       "      <td>011</td>\n",
       "      <td>16.779747</td>\n",
       "      <td>23011</td>\n",
       "    </tr>\n",
       "    <tr>\n",
       "      <th>3</th>\n",
       "      <td>Knox County, Maine</td>\n",
       "      <td>1606</td>\n",
       "      <td>1703</td>\n",
       "      <td>1652</td>\n",
       "      <td>1783</td>\n",
       "      <td>40738</td>\n",
       "      <td>23</td>\n",
       "      <td>013</td>\n",
       "      <td>16.554568</td>\n",
       "      <td>23013</td>\n",
       "    </tr>\n",
       "    <tr>\n",
       "      <th>4</th>\n",
       "      <td>Lincoln County, Maine</td>\n",
       "      <td>1393</td>\n",
       "      <td>1400</td>\n",
       "      <td>1439</td>\n",
       "      <td>1451</td>\n",
       "      <td>34730</td>\n",
       "      <td>23</td>\n",
       "      <td>015</td>\n",
       "      <td>16.363375</td>\n",
       "      <td>23015</td>\n",
       "    </tr>\n",
       "  </tbody>\n",
       "</table>\n",
       "</div>"
      ],
      "text/plain": [
       "              county_name  B01001_015E  B01001_016E  B01001_039E  B01001_040E  \\\n",
       "0  Franklin County, Maine         1188         1119         1159         1196   \n",
       "1   Hancock County, Maine         2109         2215         2292         2332   \n",
       "2  Kennebec County, Maine         4854         4841         5491         5069   \n",
       "3      Knox County, Maine         1606         1703         1652         1783   \n",
       "4   Lincoln County, Maine         1393         1400         1439         1451   \n",
       "\n",
       "   B01001_001E state code county code  percent_age_45_to_54   fips  \n",
       "0        29882         23         007             15.601365  23007  \n",
       "1        53183         23         009             16.824925  23009  \n",
       "2       120711         23         011             16.779747  23011  \n",
       "3        40738         23         013             16.554568  23013  \n",
       "4        34730         23         015             16.363375  23015  "
      ]
     },
     "execution_count": 98,
     "metadata": {},
     "output_type": "execute_result"
    }
   ],
   "source": [
    "df18['fips'] = df18['state code'] + df18['county code']\n",
    "df18.head()"
   ]
  },
  {
   "cell_type": "code",
   "execution_count": 99,
   "id": "bff38139-7fc5-4e8c-bed4-1f36dbc09d0e",
   "metadata": {},
   "outputs": [
    {
     "data": {
      "text/plain": [
       "(1887, 10)"
      ]
     },
     "execution_count": 99,
     "metadata": {},
     "output_type": "execute_result"
    }
   ],
   "source": [
    "df18.shape"
   ]
  },
  {
   "cell_type": "markdown",
   "id": "b6ec620f-65e9-4e13-83c3-1370b878b0e5",
   "metadata": {},
   "source": [
    "### age 55 to 64\n",
    "#### (B01001_017E+B01001_018E+B01001_019E+B01001_041E+B01001_042E+B01001_043E)/B01001_001E"
   ]
  },
  {
   "cell_type": "code",
   "execution_count": 100,
   "id": "579965cf-2f83-4d77-8177-1e0ba2fb9873",
   "metadata": {},
   "outputs": [
    {
     "name": "stdout",
     "output_type": "stream",
     "text": [
      "['NAME', 'B01001_017E', 'B01001_018E', 'B01001_019E', 'B01001_041E', 'B01001_042E', 'B01001_043E', 'B01001_001E', 'state', 'county']\n"
     ]
    }
   ],
   "source": [
    "variables = 'B01001_017E,B01001_018E,B01001_019E,B01001_041E,B01001_042E,B01001_043E,B01001_001E'\n",
    "df19 = collectAll_county(year,variables)"
   ]
  },
  {
   "cell_type": "code",
   "execution_count": 101,
   "id": "a61b7263-c36b-4e7b-bce2-3fd3b470bfc9",
   "metadata": {},
   "outputs": [],
   "source": [
    "df19['B01001_017E'] = df19['B01001_017E'].apply(changeInteger)\n",
    "df19['B01001_018E'] = df19['B01001_018E'].apply(changeInteger)\n",
    "df19['B01001_019E'] = df19['B01001_019E'].apply(changeInteger)\n",
    "df19['B01001_041E'] = df19['B01001_041E'].apply(changeInteger)\n",
    "df19['B01001_042E'] = df19['B01001_042E'].apply(changeInteger)\n",
    "df19['B01001_043E'] = df19['B01001_043E'].apply(changeInteger)\n",
    "df19['B01001_001E'] = df19['B01001_001E'].apply(changeInteger)"
   ]
  },
  {
   "cell_type": "code",
   "execution_count": 102,
   "id": "92d9ba4c-765a-48a3-8b96-f46f63118d0c",
   "metadata": {},
   "outputs": [],
   "source": [
    "df19['percent_age_55_to_64'] = ((df19['B01001_017E']+df19['B01001_018E'] +df19['B01001_019E']+df19['B01001_041E']+df19['B01001_042E']+df19['B01001_043E'])/df19['B01001_001E'])*100"
   ]
  },
  {
   "cell_type": "code",
   "execution_count": 103,
   "id": "cc37eab1-db3a-4a0d-b5ae-253140921bd2",
   "metadata": {},
   "outputs": [
    {
     "data": {
      "text/html": [
       "<div>\n",
       "<style scoped>\n",
       "    .dataframe tbody tr th:only-of-type {\n",
       "        vertical-align: middle;\n",
       "    }\n",
       "\n",
       "    .dataframe tbody tr th {\n",
       "        vertical-align: top;\n",
       "    }\n",
       "\n",
       "    .dataframe thead th {\n",
       "        text-align: right;\n",
       "    }\n",
       "</style>\n",
       "<table border=\"1\" class=\"dataframe\">\n",
       "  <thead>\n",
       "    <tr style=\"text-align: right;\">\n",
       "      <th></th>\n",
       "      <th>county_name</th>\n",
       "      <th>B01001_017E</th>\n",
       "      <th>B01001_018E</th>\n",
       "      <th>B01001_019E</th>\n",
       "      <th>B01001_041E</th>\n",
       "      <th>B01001_042E</th>\n",
       "      <th>B01001_043E</th>\n",
       "      <th>B01001_001E</th>\n",
       "      <th>state code</th>\n",
       "      <th>county code</th>\n",
       "      <th>percent_age_55_to_64</th>\n",
       "      <th>fips</th>\n",
       "    </tr>\n",
       "  </thead>\n",
       "  <tbody>\n",
       "    <tr>\n",
       "      <th>0</th>\n",
       "      <td>Franklin County, Maine</td>\n",
       "      <td>1050</td>\n",
       "      <td>432</td>\n",
       "      <td>563</td>\n",
       "      <td>947</td>\n",
       "      <td>439</td>\n",
       "      <td>647</td>\n",
       "      <td>29882</td>\n",
       "      <td>23</td>\n",
       "      <td>007</td>\n",
       "      <td>13.647012</td>\n",
       "      <td>23007</td>\n",
       "    </tr>\n",
       "    <tr>\n",
       "      <th>1</th>\n",
       "      <td>Hancock County, Maine</td>\n",
       "      <td>2202</td>\n",
       "      <td>726</td>\n",
       "      <td>871</td>\n",
       "      <td>2304</td>\n",
       "      <td>775</td>\n",
       "      <td>996</td>\n",
       "      <td>53183</td>\n",
       "      <td>23</td>\n",
       "      <td>009</td>\n",
       "      <td>14.805483</td>\n",
       "      <td>23009</td>\n",
       "    </tr>\n",
       "    <tr>\n",
       "      <th>2</th>\n",
       "      <td>Kennebec County, Maine</td>\n",
       "      <td>4502</td>\n",
       "      <td>1399</td>\n",
       "      <td>1816</td>\n",
       "      <td>4216</td>\n",
       "      <td>1695</td>\n",
       "      <td>2024</td>\n",
       "      <td>120711</td>\n",
       "      <td>23</td>\n",
       "      <td>011</td>\n",
       "      <td>12.966507</td>\n",
       "      <td>23011</td>\n",
       "    </tr>\n",
       "    <tr>\n",
       "      <th>3</th>\n",
       "      <td>Knox County, Maine</td>\n",
       "      <td>1426</td>\n",
       "      <td>463</td>\n",
       "      <td>939</td>\n",
       "      <td>1595</td>\n",
       "      <td>555</td>\n",
       "      <td>774</td>\n",
       "      <td>40738</td>\n",
       "      <td>23</td>\n",
       "      <td>013</td>\n",
       "      <td>14.119495</td>\n",
       "      <td>23013</td>\n",
       "    </tr>\n",
       "    <tr>\n",
       "      <th>4</th>\n",
       "      <td>Lincoln County, Maine</td>\n",
       "      <td>1146</td>\n",
       "      <td>615</td>\n",
       "      <td>806</td>\n",
       "      <td>1185</td>\n",
       "      <td>546</td>\n",
       "      <td>954</td>\n",
       "      <td>34730</td>\n",
       "      <td>23</td>\n",
       "      <td>015</td>\n",
       "      <td>15.122373</td>\n",
       "      <td>23015</td>\n",
       "    </tr>\n",
       "  </tbody>\n",
       "</table>\n",
       "</div>"
      ],
      "text/plain": [
       "              county_name  B01001_017E  B01001_018E  B01001_019E  B01001_041E  \\\n",
       "0  Franklin County, Maine         1050          432          563          947   \n",
       "1   Hancock County, Maine         2202          726          871         2304   \n",
       "2  Kennebec County, Maine         4502         1399         1816         4216   \n",
       "3      Knox County, Maine         1426          463          939         1595   \n",
       "4   Lincoln County, Maine         1146          615          806         1185   \n",
       "\n",
       "   B01001_042E  B01001_043E  B01001_001E state code county code  \\\n",
       "0          439          647        29882         23         007   \n",
       "1          775          996        53183         23         009   \n",
       "2         1695         2024       120711         23         011   \n",
       "3          555          774        40738         23         013   \n",
       "4          546          954        34730         23         015   \n",
       "\n",
       "   percent_age_55_to_64   fips  \n",
       "0             13.647012  23007  \n",
       "1             14.805483  23009  \n",
       "2             12.966507  23011  \n",
       "3             14.119495  23013  \n",
       "4             15.122373  23015  "
      ]
     },
     "execution_count": 103,
     "metadata": {},
     "output_type": "execute_result"
    }
   ],
   "source": [
    "df19['fips'] = df19['state code'] + df19['county code']\n",
    "df19.head()"
   ]
  },
  {
   "cell_type": "code",
   "execution_count": 104,
   "id": "4ed461b2-bb26-4730-8eff-f7c673e1fc6e",
   "metadata": {},
   "outputs": [
    {
     "data": {
      "text/plain": [
       "(1887, 12)"
      ]
     },
     "execution_count": 104,
     "metadata": {},
     "output_type": "execute_result"
    }
   ],
   "source": [
    "df19.shape"
   ]
  },
  {
   "cell_type": "markdown",
   "id": "9b41ea5e-df49-4b9f-9ea3-cfc5fb3f952b",
   "metadata": {},
   "source": [
    "### Combine 19 dataframes together"
   ]
  },
  {
   "cell_type": "code",
   "execution_count": 105,
   "id": "d3ce192e-6369-4897-85fa-d603ecd0eae4",
   "metadata": {},
   "outputs": [],
   "source": [
    "df = df1[['fips','per_capita_income']].merge(df2[['fips', 'percent_below_poverty']], on = 'fips', how = 'left')"
   ]
  },
  {
   "cell_type": "code",
   "execution_count": 106,
   "id": "769784f8-1230-4254-a8a5-e3fd82346352",
   "metadata": {},
   "outputs": [
    {
     "data": {
      "text/html": [
       "<div>\n",
       "<style scoped>\n",
       "    .dataframe tbody tr th:only-of-type {\n",
       "        vertical-align: middle;\n",
       "    }\n",
       "\n",
       "    .dataframe tbody tr th {\n",
       "        vertical-align: top;\n",
       "    }\n",
       "\n",
       "    .dataframe thead th {\n",
       "        text-align: right;\n",
       "    }\n",
       "</style>\n",
       "<table border=\"1\" class=\"dataframe\">\n",
       "  <thead>\n",
       "    <tr style=\"text-align: right;\">\n",
       "      <th></th>\n",
       "      <th>fips</th>\n",
       "      <th>per_capita_income</th>\n",
       "      <th>percent_below_poverty</th>\n",
       "      <th>percent_no_highschool_diploma</th>\n",
       "      <th>percent_mobile_homes</th>\n",
       "      <th>percent_no_vehicle</th>\n",
       "      <th>percent_overcrowding</th>\n",
       "      <th>percent_multi_unit_housing</th>\n",
       "      <th>percent_age_65_and_older</th>\n",
       "      <th>percent_limited_english_abilities</th>\n",
       "      <th>percent_minorities</th>\n",
       "      <th>percent_institutionalized_in_group_quarters</th>\n",
       "      <th>percent_age_18_to_34</th>\n",
       "      <th>percent_age_35_to_44</th>\n",
       "      <th>percent_age_45_to_54</th>\n",
       "      <th>percent_age_55_to_64</th>\n",
       "    </tr>\n",
       "  </thead>\n",
       "  <tbody>\n",
       "    <tr>\n",
       "      <th>0</th>\n",
       "      <td>06019</td>\n",
       "      <td>20640</td>\n",
       "      <td>21.229365</td>\n",
       "      <td>29.072699</td>\n",
       "      <td>3.625817</td>\n",
       "      <td>8.690495</td>\n",
       "      <td>9.245634</td>\n",
       "      <td>7.380423</td>\n",
       "      <td>9.768282</td>\n",
       "      <td>39.844420</td>\n",
       "      <td>64.285866</td>\n",
       "      <td>2.091568</td>\n",
       "      <td>26.490886</td>\n",
       "      <td>13.014809</td>\n",
       "      <td>12.227972</td>\n",
       "      <td>8.518278</td>\n",
       "    </tr>\n",
       "    <tr>\n",
       "      <th>1</th>\n",
       "      <td>06021</td>\n",
       "      <td>18754</td>\n",
       "      <td>18.980373</td>\n",
       "      <td>27.965513</td>\n",
       "      <td>12.288287</td>\n",
       "      <td>5.725111</td>\n",
       "      <td>4.504315</td>\n",
       "      <td>2.765580</td>\n",
       "      <td>11.945258</td>\n",
       "      <td>33.522132</td>\n",
       "      <td>41.849496</td>\n",
       "      <td>NaN</td>\n",
       "      <td>25.062531</td>\n",
       "      <td>12.642035</td>\n",
       "      <td>13.399557</td>\n",
       "      <td>9.418995</td>\n",
       "    </tr>\n",
       "    <tr>\n",
       "      <th>2</th>\n",
       "      <td>06023</td>\n",
       "      <td>23262</td>\n",
       "      <td>18.370465</td>\n",
       "      <td>11.249824</td>\n",
       "      <td>8.647616</td>\n",
       "      <td>6.123264</td>\n",
       "      <td>3.338406</td>\n",
       "      <td>4.386680</td>\n",
       "      <td>12.593776</td>\n",
       "      <td>8.682825</td>\n",
       "      <td>20.644390</td>\n",
       "      <td>3.377891</td>\n",
       "      <td>28.808273</td>\n",
       "      <td>11.735727</td>\n",
       "      <td>14.229967</td>\n",
       "      <td>12.080188</td>\n",
       "    </tr>\n",
       "    <tr>\n",
       "      <th>3</th>\n",
       "      <td>06025</td>\n",
       "      <td>16043</td>\n",
       "      <td>21.175196</td>\n",
       "      <td>38.440408</td>\n",
       "      <td>8.481997</td>\n",
       "      <td>10.955716</td>\n",
       "      <td>9.139551</td>\n",
       "      <td>10.351045</td>\n",
       "      <td>10.494396</td>\n",
       "      <td>69.066877</td>\n",
       "      <td>83.423412</td>\n",
       "      <td>6.424035</td>\n",
       "      <td>26.715442</td>\n",
       "      <td>13.416563</td>\n",
       "      <td>12.261519</td>\n",
       "      <td>7.823163</td>\n",
       "    </tr>\n",
       "    <tr>\n",
       "      <th>4</th>\n",
       "      <td>06029</td>\n",
       "      <td>20410</td>\n",
       "      <td>19.907261</td>\n",
       "      <td>30.492072</td>\n",
       "      <td>6.159056</td>\n",
       "      <td>7.511524</td>\n",
       "      <td>8.837356</td>\n",
       "      <td>4.498301</td>\n",
       "      <td>8.884501</td>\n",
       "      <td>39.231084</td>\n",
       "      <td>58.276640</td>\n",
       "      <td>5.136185</td>\n",
       "      <td>27.424286</td>\n",
       "      <td>13.549665</td>\n",
       "      <td>12.329109</td>\n",
       "      <td>7.814462</td>\n",
       "    </tr>\n",
       "  </tbody>\n",
       "</table>\n",
       "</div>"
      ],
      "text/plain": [
       "    fips per_capita_income  percent_below_poverty  \\\n",
       "0  06019             20640              21.229365   \n",
       "1  06021             18754              18.980373   \n",
       "2  06023             23262              18.370465   \n",
       "3  06025             16043              21.175196   \n",
       "4  06029             20410              19.907261   \n",
       "\n",
       "   percent_no_highschool_diploma  percent_mobile_homes  percent_no_vehicle  \\\n",
       "0                      29.072699              3.625817            8.690495   \n",
       "1                      27.965513             12.288287            5.725111   \n",
       "2                      11.249824              8.647616            6.123264   \n",
       "3                      38.440408              8.481997           10.955716   \n",
       "4                      30.492072              6.159056            7.511524   \n",
       "\n",
       "   percent_overcrowding  percent_multi_unit_housing  percent_age_65_and_older  \\\n",
       "0              9.245634                    7.380423                  9.768282   \n",
       "1              4.504315                    2.765580                 11.945258   \n",
       "2              3.338406                    4.386680                 12.593776   \n",
       "3              9.139551                   10.351045                 10.494396   \n",
       "4              8.837356                    4.498301                  8.884501   \n",
       "\n",
       "   percent_limited_english_abilities  percent_minorities  \\\n",
       "0                          39.844420           64.285866   \n",
       "1                          33.522132           41.849496   \n",
       "2                           8.682825           20.644390   \n",
       "3                          69.066877           83.423412   \n",
       "4                          39.231084           58.276640   \n",
       "\n",
       "   percent_institutionalized_in_group_quarters  percent_age_18_to_34  \\\n",
       "0                                     2.091568             26.490886   \n",
       "1                                          NaN             25.062531   \n",
       "2                                     3.377891             28.808273   \n",
       "3                                     6.424035             26.715442   \n",
       "4                                     5.136185             27.424286   \n",
       "\n",
       "   percent_age_35_to_44  percent_age_45_to_54  percent_age_55_to_64  \n",
       "0             13.014809             12.227972              8.518278  \n",
       "1             12.642035             13.399557              9.418995  \n",
       "2             11.735727             14.229967             12.080188  \n",
       "3             13.416563             12.261519              7.823163  \n",
       "4             13.549665             12.329109              7.814462  "
      ]
     },
     "execution_count": 106,
     "metadata": {},
     "output_type": "execute_result"
    }
   ],
   "source": [
    "df = df.merge(df3[['fips', 'percent_no_highschool_diploma']], on = 'fips', how = 'left')\n",
    "df = df.merge(df4[['fips', 'percent_mobile_homes']], on = 'fips', how = 'left')\n",
    "df = df.merge(df5[['fips', 'percent_no_vehicle']], on = 'fips', how = 'left')\n",
    "df = df.merge(df7[['fips', 'percent_overcrowding']], on = 'fips', how = 'left')\n",
    "df = df.merge(df8[['fips', 'percent_multi_unit_housing']], on = 'fips', how = 'left')\n",
    "df = df.merge(df9[['fips', 'percent_age_65_and_older']], on = 'fips', how = 'left')\n",
    "df = df.merge(df10[['fips', 'percent_limited_english_abilities']], on = 'fips', how = 'left')\n",
    "df = df.merge(df12[['fips', 'percent_minorities']], on = 'fips', how = 'left')\n",
    "df = df.merge(df14[['fips', 'percent_institutionalized_in_group_quarters']], on = 'fips', how = 'left')\n",
    "df = df.merge(df16[['fips', 'percent_age_18_to_34']], on = 'fips', how = 'left')\n",
    "df = df.merge(df17[['fips', 'percent_age_35_to_44']], on = 'fips', how = 'left')\n",
    "df = df.merge(df18[['fips', 'percent_age_45_to_54']], on = 'fips', how = 'left')\n",
    "df = df.merge(df19[['fips', 'percent_age_55_to_64']], on = 'fips', how = 'left')\n",
    "df.head()"
   ]
  },
  {
   "cell_type": "code",
   "execution_count": 107,
   "id": "8fb672d1-2308-45ba-aeb7-56bb577e7d66",
   "metadata": {},
   "outputs": [
    {
     "data": {
      "text/html": [
       "<div>\n",
       "<style scoped>\n",
       "    .dataframe tbody tr th:only-of-type {\n",
       "        vertical-align: middle;\n",
       "    }\n",
       "\n",
       "    .dataframe tbody tr th {\n",
       "        vertical-align: top;\n",
       "    }\n",
       "\n",
       "    .dataframe thead th {\n",
       "        text-align: right;\n",
       "    }\n",
       "</style>\n",
       "<table border=\"1\" class=\"dataframe\">\n",
       "  <thead>\n",
       "    <tr style=\"text-align: right;\">\n",
       "      <th></th>\n",
       "      <th>fips</th>\n",
       "      <th>per_capita_income</th>\n",
       "      <th>percent_below_poverty</th>\n",
       "      <th>percent_no_highschool_diploma</th>\n",
       "      <th>percent_mobile_homes</th>\n",
       "      <th>percent_no_vehicle</th>\n",
       "      <th>percent_overcrowding</th>\n",
       "      <th>percent_multi_unit_housing</th>\n",
       "      <th>percent_age_65_and_older</th>\n",
       "      <th>percent_limited_english_abilities</th>\n",
       "      <th>percent_minorities</th>\n",
       "      <th>percent_institutionalized_in_group_quarters</th>\n",
       "      <th>percent_age_18_to_34</th>\n",
       "      <th>percent_age_35_to_44</th>\n",
       "      <th>percent_age_45_to_54</th>\n",
       "      <th>percent_age_55_to_64</th>\n",
       "    </tr>\n",
       "  </thead>\n",
       "  <tbody>\n",
       "    <tr>\n",
       "      <th>0</th>\n",
       "      <td>06019</td>\n",
       "      <td>20640</td>\n",
       "      <td>21.229365</td>\n",
       "      <td>29.072699</td>\n",
       "      <td>3.625817</td>\n",
       "      <td>8.690495</td>\n",
       "      <td>9.245634</td>\n",
       "      <td>7.380423</td>\n",
       "      <td>9.768282</td>\n",
       "      <td>39.844420</td>\n",
       "      <td>64.285866</td>\n",
       "      <td>2.091568</td>\n",
       "      <td>26.490886</td>\n",
       "      <td>13.014809</td>\n",
       "      <td>12.227972</td>\n",
       "      <td>8.518278</td>\n",
       "    </tr>\n",
       "    <tr>\n",
       "      <th>1</th>\n",
       "      <td>06021</td>\n",
       "      <td>18754</td>\n",
       "      <td>18.980373</td>\n",
       "      <td>27.965513</td>\n",
       "      <td>12.288287</td>\n",
       "      <td>5.725111</td>\n",
       "      <td>4.504315</td>\n",
       "      <td>2.765580</td>\n",
       "      <td>11.945258</td>\n",
       "      <td>33.522132</td>\n",
       "      <td>41.849496</td>\n",
       "      <td>NaN</td>\n",
       "      <td>25.062531</td>\n",
       "      <td>12.642035</td>\n",
       "      <td>13.399557</td>\n",
       "      <td>9.418995</td>\n",
       "    </tr>\n",
       "    <tr>\n",
       "      <th>2</th>\n",
       "      <td>06023</td>\n",
       "      <td>23262</td>\n",
       "      <td>18.370465</td>\n",
       "      <td>11.249824</td>\n",
       "      <td>8.647616</td>\n",
       "      <td>6.123264</td>\n",
       "      <td>3.338406</td>\n",
       "      <td>4.386680</td>\n",
       "      <td>12.593776</td>\n",
       "      <td>8.682825</td>\n",
       "      <td>20.644390</td>\n",
       "      <td>3.377891</td>\n",
       "      <td>28.808273</td>\n",
       "      <td>11.735727</td>\n",
       "      <td>14.229967</td>\n",
       "      <td>12.080188</td>\n",
       "    </tr>\n",
       "    <tr>\n",
       "      <th>3</th>\n",
       "      <td>06025</td>\n",
       "      <td>16043</td>\n",
       "      <td>21.175196</td>\n",
       "      <td>38.440408</td>\n",
       "      <td>8.481997</td>\n",
       "      <td>10.955716</td>\n",
       "      <td>9.139551</td>\n",
       "      <td>10.351045</td>\n",
       "      <td>10.494396</td>\n",
       "      <td>69.066877</td>\n",
       "      <td>83.423412</td>\n",
       "      <td>6.424035</td>\n",
       "      <td>26.715442</td>\n",
       "      <td>13.416563</td>\n",
       "      <td>12.261519</td>\n",
       "      <td>7.823163</td>\n",
       "    </tr>\n",
       "    <tr>\n",
       "      <th>4</th>\n",
       "      <td>06029</td>\n",
       "      <td>20410</td>\n",
       "      <td>19.907261</td>\n",
       "      <td>30.492072</td>\n",
       "      <td>6.159056</td>\n",
       "      <td>7.511524</td>\n",
       "      <td>8.837356</td>\n",
       "      <td>4.498301</td>\n",
       "      <td>8.884501</td>\n",
       "      <td>39.231084</td>\n",
       "      <td>58.276640</td>\n",
       "      <td>5.136185</td>\n",
       "      <td>27.424286</td>\n",
       "      <td>13.549665</td>\n",
       "      <td>12.329109</td>\n",
       "      <td>7.814462</td>\n",
       "    </tr>\n",
       "  </tbody>\n",
       "</table>\n",
       "</div>"
      ],
      "text/plain": [
       "    fips per_capita_income  percent_below_poverty  \\\n",
       "0  06019             20640              21.229365   \n",
       "1  06021             18754              18.980373   \n",
       "2  06023             23262              18.370465   \n",
       "3  06025             16043              21.175196   \n",
       "4  06029             20410              19.907261   \n",
       "\n",
       "   percent_no_highschool_diploma  percent_mobile_homes  percent_no_vehicle  \\\n",
       "0                      29.072699              3.625817            8.690495   \n",
       "1                      27.965513             12.288287            5.725111   \n",
       "2                      11.249824              8.647616            6.123264   \n",
       "3                      38.440408              8.481997           10.955716   \n",
       "4                      30.492072              6.159056            7.511524   \n",
       "\n",
       "   percent_overcrowding  percent_multi_unit_housing  percent_age_65_and_older  \\\n",
       "0              9.245634                    7.380423                  9.768282   \n",
       "1              4.504315                    2.765580                 11.945258   \n",
       "2              3.338406                    4.386680                 12.593776   \n",
       "3              9.139551                   10.351045                 10.494396   \n",
       "4              8.837356                    4.498301                  8.884501   \n",
       "\n",
       "   percent_limited_english_abilities  percent_minorities  \\\n",
       "0                          39.844420           64.285866   \n",
       "1                          33.522132           41.849496   \n",
       "2                           8.682825           20.644390   \n",
       "3                          69.066877           83.423412   \n",
       "4                          39.231084           58.276640   \n",
       "\n",
       "   percent_institutionalized_in_group_quarters  percent_age_18_to_34  \\\n",
       "0                                     2.091568             26.490886   \n",
       "1                                          NaN             25.062531   \n",
       "2                                     3.377891             28.808273   \n",
       "3                                     6.424035             26.715442   \n",
       "4                                     5.136185             27.424286   \n",
       "\n",
       "   percent_age_35_to_44  percent_age_45_to_54  percent_age_55_to_64  \n",
       "0             13.014809             12.227972              8.518278  \n",
       "1             12.642035             13.399557              9.418995  \n",
       "2             11.735727             14.229967             12.080188  \n",
       "3             13.416563             12.261519              7.823163  \n",
       "4             13.549665             12.329109              7.814462  "
      ]
     },
     "execution_count": 107,
     "metadata": {},
     "output_type": "execute_result"
    }
   ],
   "source": [
    "df.head()"
   ]
  },
  {
   "cell_type": "code",
   "execution_count": 108,
   "id": "9ee5d6d3-6642-4cd7-8bcf-b966a22230a4",
   "metadata": {},
   "outputs": [
    {
     "data": {
      "text/html": [
       "<div>\n",
       "<style scoped>\n",
       "    .dataframe tbody tr th:only-of-type {\n",
       "        vertical-align: middle;\n",
       "    }\n",
       "\n",
       "    .dataframe tbody tr th {\n",
       "        vertical-align: top;\n",
       "    }\n",
       "\n",
       "    .dataframe thead th {\n",
       "        text-align: right;\n",
       "    }\n",
       "</style>\n",
       "<table border=\"1\" class=\"dataframe\">\n",
       "  <thead>\n",
       "    <tr style=\"text-align: right;\">\n",
       "      <th></th>\n",
       "      <th>fips</th>\n",
       "      <th>per_capita_income</th>\n",
       "      <th>percent_below_poverty</th>\n",
       "      <th>percent_no_highschool_diploma</th>\n",
       "      <th>percent_mobile_homes</th>\n",
       "      <th>percent_no_vehicle</th>\n",
       "      <th>percent_overcrowding</th>\n",
       "      <th>percent_multi_unit_housing</th>\n",
       "      <th>percent_age_65_and_older</th>\n",
       "      <th>percent_limited_english_abilities</th>\n",
       "      <th>percent_minorities</th>\n",
       "      <th>percent_institutionalized_in_group_quarters</th>\n",
       "      <th>percent_age_18_to_34</th>\n",
       "      <th>percent_age_35_to_44</th>\n",
       "      <th>percent_age_45_to_54</th>\n",
       "      <th>percent_age_55_to_64</th>\n",
       "    </tr>\n",
       "  </thead>\n",
       "  <tbody>\n",
       "    <tr>\n",
       "      <th>1757</th>\n",
       "      <td>01001</td>\n",
       "      <td>24051</td>\n",
       "      <td>11.455588</td>\n",
       "      <td>16.100346</td>\n",
       "      <td>21.307092</td>\n",
       "      <td>5.252272</td>\n",
       "      <td>1.741686</td>\n",
       "      <td>1.330231</td>\n",
       "      <td>10.990270</td>\n",
       "      <td>3.660903</td>\n",
       "      <td>21.910180</td>\n",
       "      <td>NaN</td>\n",
       "      <td>21.970489</td>\n",
       "      <td>14.998794</td>\n",
       "      <td>14.831940</td>\n",
       "      <td>10.570119</td>\n",
       "    </tr>\n",
       "    <tr>\n",
       "      <th>1758</th>\n",
       "      <td>01003</td>\n",
       "      <td>26678</td>\n",
       "      <td>10.347473</td>\n",
       "      <td>12.585528</td>\n",
       "      <td>15.716482</td>\n",
       "      <td>3.883075</td>\n",
       "      <td>1.893972</td>\n",
       "      <td>14.317360</td>\n",
       "      <td>16.512392</td>\n",
       "      <td>4.170307</td>\n",
       "      <td>14.768412</td>\n",
       "      <td>0.996226</td>\n",
       "      <td>21.232218</td>\n",
       "      <td>13.325984</td>\n",
       "      <td>14.164144</td>\n",
       "      <td>11.308451</td>\n",
       "    </tr>\n",
       "    <tr>\n",
       "      <th>1759</th>\n",
       "      <td>01005</td>\n",
       "      <td>15605</td>\n",
       "      <td>25.389379</td>\n",
       "      <td>28.331032</td>\n",
       "      <td>28.967179</td>\n",
       "      <td>10.202337</td>\n",
       "      <td>2.374846</td>\n",
       "      <td>1.017871</td>\n",
       "      <td>12.984760</td>\n",
       "      <td>3.663809</td>\n",
       "      <td>NaN</td>\n",
       "      <td>9.620357</td>\n",
       "      <td>23.785549</td>\n",
       "      <td>14.491768</td>\n",
       "      <td>13.722956</td>\n",
       "      <td>12.066268</td>\n",
       "    </tr>\n",
       "    <tr>\n",
       "      <th>1760</th>\n",
       "      <td>01007</td>\n",
       "      <td>21064</td>\n",
       "      <td>13.039694</td>\n",
       "      <td>27.623892</td>\n",
       "      <td>31.392941</td>\n",
       "      <td>6.716991</td>\n",
       "      <td>NaN</td>\n",
       "      <td>2.034884</td>\n",
       "      <td>12.494761</td>\n",
       "      <td>3.110490</td>\n",
       "      <td>NaN</td>\n",
       "      <td>NaN</td>\n",
       "      <td>22.390910</td>\n",
       "      <td>17.035347</td>\n",
       "      <td>13.146742</td>\n",
       "      <td>11.209426</td>\n",
       "    </tr>\n",
       "    <tr>\n",
       "      <th>1761</th>\n",
       "      <td>01009</td>\n",
       "      <td>20463</td>\n",
       "      <td>11.986534</td>\n",
       "      <td>27.343238</td>\n",
       "      <td>28.371769</td>\n",
       "      <td>4.088000</td>\n",
       "      <td>3.876461</td>\n",
       "      <td>0.344479</td>\n",
       "      <td>13.946950</td>\n",
       "      <td>5.855445</td>\n",
       "      <td>NaN</td>\n",
       "      <td>0.930150</td>\n",
       "      <td>21.978780</td>\n",
       "      <td>14.010610</td>\n",
       "      <td>14.201592</td>\n",
       "      <td>11.306808</td>\n",
       "    </tr>\n",
       "  </tbody>\n",
       "</table>\n",
       "</div>"
      ],
      "text/plain": [
       "       fips per_capita_income  percent_below_poverty  \\\n",
       "1757  01001             24051              11.455588   \n",
       "1758  01003             26678              10.347473   \n",
       "1759  01005             15605              25.389379   \n",
       "1760  01007             21064              13.039694   \n",
       "1761  01009             20463              11.986534   \n",
       "\n",
       "      percent_no_highschool_diploma  percent_mobile_homes  percent_no_vehicle  \\\n",
       "1757                      16.100346             21.307092            5.252272   \n",
       "1758                      12.585528             15.716482            3.883075   \n",
       "1759                      28.331032             28.967179           10.202337   \n",
       "1760                      27.623892             31.392941            6.716991   \n",
       "1761                      27.343238             28.371769            4.088000   \n",
       "\n",
       "      percent_overcrowding  percent_multi_unit_housing  \\\n",
       "1757              1.741686                    1.330231   \n",
       "1758              1.893972                   14.317360   \n",
       "1759              2.374846                    1.017871   \n",
       "1760                   NaN                    2.034884   \n",
       "1761              3.876461                    0.344479   \n",
       "\n",
       "      percent_age_65_and_older  percent_limited_english_abilities  \\\n",
       "1757                 10.990270                           3.660903   \n",
       "1758                 16.512392                           4.170307   \n",
       "1759                 12.984760                           3.663809   \n",
       "1760                 12.494761                           3.110490   \n",
       "1761                 13.946950                           5.855445   \n",
       "\n",
       "      percent_minorities  percent_institutionalized_in_group_quarters  \\\n",
       "1757           21.910180                                          NaN   \n",
       "1758           14.768412                                     0.996226   \n",
       "1759                 NaN                                     9.620357   \n",
       "1760                 NaN                                          NaN   \n",
       "1761                 NaN                                     0.930150   \n",
       "\n",
       "      percent_age_18_to_34  percent_age_35_to_44  percent_age_45_to_54  \\\n",
       "1757             21.970489             14.998794             14.831940   \n",
       "1758             21.232218             13.325984             14.164144   \n",
       "1759             23.785549             14.491768             13.722956   \n",
       "1760             22.390910             17.035347             13.146742   \n",
       "1761             21.978780             14.010610             14.201592   \n",
       "\n",
       "      percent_age_55_to_64  \n",
       "1757             10.570119  \n",
       "1758             11.308451  \n",
       "1759             12.066268  \n",
       "1760             11.209426  \n",
       "1761             11.306808  "
      ]
     },
     "execution_count": 108,
     "metadata": {},
     "output_type": "execute_result"
    }
   ],
   "source": [
    "df = df.sort_values('fips')\n",
    "df.head()"
   ]
  },
  {
   "cell_type": "code",
   "execution_count": 109,
   "id": "e71a412f-110f-413e-bb0f-db2f9dd71ea4",
   "metadata": {},
   "outputs": [],
   "source": [
    "df.to_csv('SDoH_3years/Social_Economic_3years_2008.csv')"
   ]
  },
  {
   "cell_type": "code",
   "execution_count": null,
   "id": "37ed9bf1-115d-4c43-9e7d-b07bb7fdaf85",
   "metadata": {},
   "outputs": [],
   "source": []
  },
  {
   "cell_type": "code",
   "execution_count": null,
   "id": "c7bed9e1-5e20-4643-97df-44f9b42f6fcc",
   "metadata": {},
   "outputs": [],
   "source": []
  },
  {
   "cell_type": "code",
   "execution_count": null,
   "id": "e16f5171-7956-41a4-a6f6-333c3bb1446b",
   "metadata": {},
   "outputs": [],
   "source": []
  }
 ],
 "metadata": {
  "kernelspec": {
   "display_name": "MyEnv",
   "language": "python",
   "name": "myenv"
  },
  "language_info": {
   "codemirror_mode": {
    "name": "ipython",
    "version": 3
   },
   "file_extension": ".py",
   "mimetype": "text/x-python",
   "name": "python",
   "nbconvert_exporter": "python",
   "pygments_lexer": "ipython3",
   "version": "3.7.11"
  }
 },
 "nbformat": 4,
 "nbformat_minor": 5
}
