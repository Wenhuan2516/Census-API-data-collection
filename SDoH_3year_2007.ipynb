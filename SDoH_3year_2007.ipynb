{
 "cells": [
  {
   "cell_type": "code",
   "execution_count": 1,
   "id": "1ceae829-a03e-466e-9656-2a34dbac8e37",
   "metadata": {},
   "outputs": [],
   "source": [
    "import pandas as pd\n",
    "import numpy as np\n",
    "import matplotlib.pyplot as plt\n",
    "import dask.dataframe as ddf\n",
    "from pandas import Series, DataFrame\n",
    "%matplotlib inline"
   ]
  },
  {
   "cell_type": "code",
   "execution_count": 2,
   "id": "331165ba-98cf-46d9-8529-d0a720926159",
   "metadata": {},
   "outputs": [],
   "source": [
    "import seaborn as sn\n",
    "import plotly.express as px"
   ]
  },
  {
   "cell_type": "markdown",
   "id": "7e4454ad-3fe4-4bb7-b924-8fcf489f2803",
   "metadata": {},
   "source": [
    "### Request for Census Tract Level Population data from Census API"
   ]
  },
  {
   "cell_type": "code",
   "execution_count": 3,
   "id": "c29f7104-19c9-49cf-9161-e5d226f6481c",
   "metadata": {},
   "outputs": [],
   "source": [
    "stateCode = ['01', '02', '04', '05', '06', '08', '09', '10', '11', '12', '13', '15', '16',\n",
    "             '17', '18', '19', '20', '21', '22', '23', '24', '25', '26', '27', '28', '29',\n",
    "            '30', '31', '32', '33', '34', '35', '36', '37', '38', '39', '40', '41', '42', \n",
    "             '44', '45', '46', '47', '48', '49', '50', '51', '53', '54', '55', '56']"
   ]
  },
  {
   "cell_type": "code",
   "execution_count": 4,
   "id": "0178df59-4807-43ba-a82b-9ac9fde763f4",
   "metadata": {},
   "outputs": [
    {
     "data": {
      "text/plain": [
       "51"
      ]
     },
     "execution_count": 4,
     "metadata": {},
     "output_type": "execute_result"
    }
   ],
   "source": [
    "len(stateCode)"
   ]
  },
  {
   "cell_type": "code",
   "execution_count": 5,
   "id": "0767a76a-e446-4a73-a850-7861f44c5f9c",
   "metadata": {},
   "outputs": [],
   "source": [
    "import requests\n",
    "import pandas as pd\n",
    "from datetime import datetime\n",
    "import time\n",
    "import json\n",
    "from io import StringIO"
   ]
  },
  {
   "cell_type": "code",
   "execution_count": 6,
   "id": "d9dc7da1-6aa4-4484-ba06-53ae6f7b9d67",
   "metadata": {},
   "outputs": [],
   "source": [
    "def collectAll_county(year, variables):\n",
    "    basic_url = 'https://api.census.gov/data/' + year + '/acs/acs3?get=NAME,'+ variables + '&for=county:*&in=state:*&key=250f58e35283d400e4185b197e3abe9021079afe'\n",
    "    r = requests.get(basic_url)\n",
    "    x = r.json()\n",
    "    print(x[0])\n",
    "    variable_list = variables.split(',')\n",
    "    column_list = ['county_name']\n",
    "    for item in variable_list:\n",
    "        column_list.append(item)\n",
    "    column_list.append('state code')\n",
    "    column_list.append('county code')\n",
    "    df = pd.DataFrame(x[1:])\n",
    "    df.columns = column_list\n",
    "    return df"
   ]
  },
  {
   "cell_type": "markdown",
   "id": "2cf40e7f-4f06-4d86-b47e-a4418022d334",
   "metadata": {},
   "source": [
    "#### Total population: B01003_001E"
   ]
  },
  {
   "cell_type": "code",
   "execution_count": 7,
   "id": "6c80f31f-3474-4c99-9d06-094da34df9d2",
   "metadata": {},
   "outputs": [],
   "source": [
    "year = '2007'\n",
    "variables = 'B01003_001E'"
   ]
  },
  {
   "cell_type": "code",
   "execution_count": 8,
   "id": "1c3cbc10-f564-4d44-94ee-24486b705c9c",
   "metadata": {},
   "outputs": [
    {
     "name": "stdout",
     "output_type": "stream",
     "text": [
      "['NAME', 'B01003_001E', 'state', 'county']\n"
     ]
    },
    {
     "data": {
      "text/html": [
       "<div>\n",
       "<style scoped>\n",
       "    .dataframe tbody tr th:only-of-type {\n",
       "        vertical-align: middle;\n",
       "    }\n",
       "\n",
       "    .dataframe tbody tr th {\n",
       "        vertical-align: top;\n",
       "    }\n",
       "\n",
       "    .dataframe thead th {\n",
       "        text-align: right;\n",
       "    }\n",
       "</style>\n",
       "<table border=\"1\" class=\"dataframe\">\n",
       "  <thead>\n",
       "    <tr style=\"text-align: right;\">\n",
       "      <th></th>\n",
       "      <th>county_name</th>\n",
       "      <th>B01003_001E</th>\n",
       "      <th>state code</th>\n",
       "      <th>county code</th>\n",
       "    </tr>\n",
       "  </thead>\n",
       "  <tbody>\n",
       "    <tr>\n",
       "      <th>0</th>\n",
       "      <td>Leake County, Mississippi</td>\n",
       "      <td>22636</td>\n",
       "      <td>28</td>\n",
       "      <td>079</td>\n",
       "    </tr>\n",
       "    <tr>\n",
       "      <th>1</th>\n",
       "      <td>Lee County, Mississippi</td>\n",
       "      <td>79343</td>\n",
       "      <td>28</td>\n",
       "      <td>081</td>\n",
       "    </tr>\n",
       "    <tr>\n",
       "      <th>2</th>\n",
       "      <td>Leflore County, Mississippi</td>\n",
       "      <td>35229</td>\n",
       "      <td>28</td>\n",
       "      <td>083</td>\n",
       "    </tr>\n",
       "    <tr>\n",
       "      <th>3</th>\n",
       "      <td>Lincoln County, Mississippi</td>\n",
       "      <td>34169</td>\n",
       "      <td>28</td>\n",
       "      <td>085</td>\n",
       "    </tr>\n",
       "    <tr>\n",
       "      <th>4</th>\n",
       "      <td>Lowndes County, Mississippi</td>\n",
       "      <td>59559</td>\n",
       "      <td>28</td>\n",
       "      <td>087</td>\n",
       "    </tr>\n",
       "  </tbody>\n",
       "</table>\n",
       "</div>"
      ],
      "text/plain": [
       "                   county_name B01003_001E state code county code\n",
       "0    Leake County, Mississippi       22636         28         079\n",
       "1      Lee County, Mississippi       79343         28         081\n",
       "2  Leflore County, Mississippi       35229         28         083\n",
       "3  Lincoln County, Mississippi       34169         28         085\n",
       "4  Lowndes County, Mississippi       59559         28         087"
      ]
     },
     "execution_count": 8,
     "metadata": {},
     "output_type": "execute_result"
    }
   ],
   "source": [
    "pop_09 = collectAll_county(year,variables)\n",
    "pop_09.head()"
   ]
  },
  {
   "cell_type": "code",
   "execution_count": 9,
   "id": "f0c3f3ea-2b57-4b94-8a49-de9648453f76",
   "metadata": {},
   "outputs": [
    {
     "data": {
      "text/plain": [
       "(1882, 4)"
      ]
     },
     "execution_count": 9,
     "metadata": {},
     "output_type": "execute_result"
    }
   ],
   "source": [
    "pop_09.shape"
   ]
  },
  {
   "cell_type": "markdown",
   "id": "60163fad-ec5e-4e88-9f4a-8842397bedfb",
   "metadata": {},
   "source": [
    "#### 1.per capita income: B19301_001E"
   ]
  },
  {
   "cell_type": "code",
   "execution_count": 10,
   "id": "5be9c9d4-1b1e-4cac-87ef-67af4321d3d1",
   "metadata": {},
   "outputs": [
    {
     "name": "stdout",
     "output_type": "stream",
     "text": [
      "['NAME', 'B19301_001E', 'state', 'county']\n"
     ]
    }
   ],
   "source": [
    "variables = 'B19301_001E'\n",
    "df1 = collectAll_county(year,variables)"
   ]
  },
  {
   "cell_type": "code",
   "execution_count": 11,
   "id": "2c56e829-7a86-4f8f-bac9-fcb7861ab45a",
   "metadata": {},
   "outputs": [
    {
     "data": {
      "text/plain": [
       "(1882, 4)"
      ]
     },
     "execution_count": 11,
     "metadata": {},
     "output_type": "execute_result"
    }
   ],
   "source": [
    "df1.shape"
   ]
  },
  {
   "cell_type": "code",
   "execution_count": 12,
   "id": "36bfc372-bdf7-43bf-8885-8fba42110dcf",
   "metadata": {},
   "outputs": [
    {
     "data": {
      "text/html": [
       "<div>\n",
       "<style scoped>\n",
       "    .dataframe tbody tr th:only-of-type {\n",
       "        vertical-align: middle;\n",
       "    }\n",
       "\n",
       "    .dataframe tbody tr th {\n",
       "        vertical-align: top;\n",
       "    }\n",
       "\n",
       "    .dataframe thead th {\n",
       "        text-align: right;\n",
       "    }\n",
       "</style>\n",
       "<table border=\"1\" class=\"dataframe\">\n",
       "  <thead>\n",
       "    <tr style=\"text-align: right;\">\n",
       "      <th></th>\n",
       "      <th>county_name</th>\n",
       "      <th>per_capita_income</th>\n",
       "      <th>state code</th>\n",
       "      <th>county code</th>\n",
       "      <th>fips</th>\n",
       "    </tr>\n",
       "  </thead>\n",
       "  <tbody>\n",
       "    <tr>\n",
       "      <th>0</th>\n",
       "      <td>Mille Lacs County, Minnesota</td>\n",
       "      <td>21236</td>\n",
       "      <td>27</td>\n",
       "      <td>095</td>\n",
       "      <td>27095</td>\n",
       "    </tr>\n",
       "    <tr>\n",
       "      <th>1</th>\n",
       "      <td>Morrison County, Minnesota</td>\n",
       "      <td>22348</td>\n",
       "      <td>27</td>\n",
       "      <td>097</td>\n",
       "      <td>27097</td>\n",
       "    </tr>\n",
       "    <tr>\n",
       "      <th>2</th>\n",
       "      <td>Mower County, Minnesota</td>\n",
       "      <td>23956</td>\n",
       "      <td>27</td>\n",
       "      <td>099</td>\n",
       "      <td>27099</td>\n",
       "    </tr>\n",
       "    <tr>\n",
       "      <th>3</th>\n",
       "      <td>Nicollet County, Minnesota</td>\n",
       "      <td>24917</td>\n",
       "      <td>27</td>\n",
       "      <td>103</td>\n",
       "      <td>27103</td>\n",
       "    </tr>\n",
       "    <tr>\n",
       "      <th>4</th>\n",
       "      <td>Nobles County, Minnesota</td>\n",
       "      <td>21047</td>\n",
       "      <td>27</td>\n",
       "      <td>105</td>\n",
       "      <td>27105</td>\n",
       "    </tr>\n",
       "  </tbody>\n",
       "</table>\n",
       "</div>"
      ],
      "text/plain": [
       "                    county_name per_capita_income state code county code  \\\n",
       "0  Mille Lacs County, Minnesota             21236         27         095   \n",
       "1    Morrison County, Minnesota             22348         27         097   \n",
       "2       Mower County, Minnesota             23956         27         099   \n",
       "3    Nicollet County, Minnesota             24917         27         103   \n",
       "4      Nobles County, Minnesota             21047         27         105   \n",
       "\n",
       "    fips  \n",
       "0  27095  \n",
       "1  27097  \n",
       "2  27099  \n",
       "3  27103  \n",
       "4  27105  "
      ]
     },
     "execution_count": 12,
     "metadata": {},
     "output_type": "execute_result"
    }
   ],
   "source": [
    "df1 = df1.rename(columns = {'B19301_001E': 'per_capita_income'})\n",
    "df1['fips'] = df1['state code'] + df1['county code']\n",
    "df1.head()"
   ]
  },
  {
   "cell_type": "markdown",
   "id": "20e579a0-3071-459e-9389-37b5c7699577",
   "metadata": {},
   "source": [
    "#### 2.Percent of Population Below Poverty Level: (C17002_002E+C17002_003E)/C17002_001E"
   ]
  },
  {
   "cell_type": "code",
   "execution_count": 13,
   "id": "26ecf325-eb30-4168-a61f-cae373c3a0da",
   "metadata": {},
   "outputs": [
    {
     "name": "stdout",
     "output_type": "stream",
     "text": [
      "['NAME', 'C17002_002E', 'C17002_003E', 'C17002_001E', 'state', 'county']\n"
     ]
    }
   ],
   "source": [
    "variables = 'C17002_002E,C17002_003E,C17002_001E'\n",
    "df2 = collectAll_county(year,variables)"
   ]
  },
  {
   "cell_type": "code",
   "execution_count": 14,
   "id": "af388139-f295-4ea8-8cda-a7f3f9cf07f5",
   "metadata": {},
   "outputs": [],
   "source": [
    "df2['C17002_002E'] = df2['C17002_002E'].astype('int')\n",
    "df2['C17002_003E'] = df2['C17002_003E'].astype('int')\n",
    "df2['C17002_001E'] = df2['C17002_001E'].astype('int')"
   ]
  },
  {
   "cell_type": "code",
   "execution_count": 15,
   "id": "b05ccb73-f46d-48ab-86d9-0a05a0768e36",
   "metadata": {},
   "outputs": [],
   "source": [
    "df2['percent_below_poverty'] = ((df2['C17002_002E'] + df2['C17002_003E'])/df2['C17002_001E'])*100"
   ]
  },
  {
   "cell_type": "code",
   "execution_count": 16,
   "id": "07d65dd3-cfe5-4fc9-91cf-c077b6c98d2f",
   "metadata": {},
   "outputs": [
    {
     "data": {
      "text/html": [
       "<div>\n",
       "<style scoped>\n",
       "    .dataframe tbody tr th:only-of-type {\n",
       "        vertical-align: middle;\n",
       "    }\n",
       "\n",
       "    .dataframe tbody tr th {\n",
       "        vertical-align: top;\n",
       "    }\n",
       "\n",
       "    .dataframe thead th {\n",
       "        text-align: right;\n",
       "    }\n",
       "</style>\n",
       "<table border=\"1\" class=\"dataframe\">\n",
       "  <thead>\n",
       "    <tr style=\"text-align: right;\">\n",
       "      <th></th>\n",
       "      <th>county_name</th>\n",
       "      <th>C17002_002E</th>\n",
       "      <th>C17002_003E</th>\n",
       "      <th>C17002_001E</th>\n",
       "      <th>state code</th>\n",
       "      <th>county code</th>\n",
       "      <th>percent_below_poverty</th>\n",
       "      <th>fips</th>\n",
       "    </tr>\n",
       "  </thead>\n",
       "  <tbody>\n",
       "    <tr>\n",
       "      <th>0</th>\n",
       "      <td>Anderson County, Kentucky</td>\n",
       "      <td>499</td>\n",
       "      <td>1137</td>\n",
       "      <td>20396</td>\n",
       "      <td>21</td>\n",
       "      <td>005</td>\n",
       "      <td>8.021181</td>\n",
       "      <td>21005</td>\n",
       "    </tr>\n",
       "    <tr>\n",
       "      <th>1</th>\n",
       "      <td>Barren County, Kentucky</td>\n",
       "      <td>3985</td>\n",
       "      <td>4011</td>\n",
       "      <td>40080</td>\n",
       "      <td>21</td>\n",
       "      <td>009</td>\n",
       "      <td>19.950100</td>\n",
       "      <td>21009</td>\n",
       "    </tr>\n",
       "    <tr>\n",
       "      <th>2</th>\n",
       "      <td>Bell County, Kentucky</td>\n",
       "      <td>3619</td>\n",
       "      <td>5523</td>\n",
       "      <td>28789</td>\n",
       "      <td>21</td>\n",
       "      <td>013</td>\n",
       "      <td>31.755184</td>\n",
       "      <td>21013</td>\n",
       "    </tr>\n",
       "    <tr>\n",
       "      <th>3</th>\n",
       "      <td>Boone County, Kentucky</td>\n",
       "      <td>3213</td>\n",
       "      <td>4251</td>\n",
       "      <td>107585</td>\n",
       "      <td>21</td>\n",
       "      <td>015</td>\n",
       "      <td>6.937770</td>\n",
       "      <td>21015</td>\n",
       "    </tr>\n",
       "    <tr>\n",
       "      <th>4</th>\n",
       "      <td>Boyd County, Kentucky</td>\n",
       "      <td>3032</td>\n",
       "      <td>4337</td>\n",
       "      <td>45461</td>\n",
       "      <td>21</td>\n",
       "      <td>019</td>\n",
       "      <td>16.209498</td>\n",
       "      <td>21019</td>\n",
       "    </tr>\n",
       "  </tbody>\n",
       "</table>\n",
       "</div>"
      ],
      "text/plain": [
       "                 county_name  C17002_002E  C17002_003E  C17002_001E  \\\n",
       "0  Anderson County, Kentucky          499         1137        20396   \n",
       "1    Barren County, Kentucky         3985         4011        40080   \n",
       "2      Bell County, Kentucky         3619         5523        28789   \n",
       "3     Boone County, Kentucky         3213         4251       107585   \n",
       "4      Boyd County, Kentucky         3032         4337        45461   \n",
       "\n",
       "  state code county code  percent_below_poverty   fips  \n",
       "0         21         005               8.021181  21005  \n",
       "1         21         009              19.950100  21009  \n",
       "2         21         013              31.755184  21013  \n",
       "3         21         015               6.937770  21015  \n",
       "4         21         019              16.209498  21019  "
      ]
     },
     "execution_count": 16,
     "metadata": {},
     "output_type": "execute_result"
    }
   ],
   "source": [
    "df2['fips'] = df2['state code'] + df2['county code']\n",
    "df2.head()"
   ]
  },
  {
   "cell_type": "code",
   "execution_count": 17,
   "id": "fab4ae9e-48cb-4bc6-981f-cf9640035bf8",
   "metadata": {},
   "outputs": [
    {
     "data": {
      "text/plain": [
       "(1882, 8)"
      ]
     },
     "execution_count": 17,
     "metadata": {},
     "output_type": "execute_result"
    }
   ],
   "source": [
    "df2.shape"
   ]
  },
  {
   "cell_type": "markdown",
   "id": "ff2773ce-bbd4-4af5-b139-167dfacd87b3",
   "metadata": {},
   "source": [
    "#### 3.Percent of Population 25+ with Less than a 12th Grade Education: (B15002_003E,B15002_004E,B15002_005E,B15002_003E,B15002_006E,B15002_007E,B15002_008E,B15002_009E,B15002_010E,B15002_020E,B15002_021E,B15002_022E,B15002_023E,B15002_024E,B15002_025E,B15002_026E,B15002_027E)/B15003_001E"
   ]
  },
  {
   "cell_type": "code",
   "execution_count": 18,
   "id": "f74fbcc1-230e-43ae-a328-403cf0170abf",
   "metadata": {},
   "outputs": [],
   "source": [
    "def collectAll_county2(year, variables):\n",
    "    basic_url = 'https://api.census.gov/data/' + year + '/acs/acs1?get=NAME,'+ variables + '&for=county:*&in=state:*'\n",
    "    r = requests.get(basic_url)\n",
    "    x = r.json()\n",
    "    print(x[0])\n",
    "    variable_list = variables.split(',')\n",
    "    column_list = ['county_name']\n",
    "    for item in variable_list:\n",
    "        column_list.append(item)\n",
    "    column_list.append('state code')\n",
    "    column_list.append('county code')\n",
    "    df = pd.DataFrame(x[1:])\n",
    "    df.columns = column_list\n",
    "    return df"
   ]
  },
  {
   "cell_type": "code",
   "execution_count": 19,
   "id": "4dce7e7d-55ac-4065-a65a-0bc55367a58b",
   "metadata": {},
   "outputs": [
    {
     "name": "stdout",
     "output_type": "stream",
     "text": [
      "['NAME', 'B15002_003E', 'B15002_004E', 'B15002_005E', 'B15002_006E', 'B15002_007E', 'B15002_008E', 'B15002_009E', 'B15002_010E', 'B15002_020E', 'B15002_021E', 'B15002_022E', 'B15002_023E', 'B15002_024E', 'B15002_025E', 'B15002_026E', 'B15002_027E', 'B15002_001E', 'state', 'county']\n"
     ]
    }
   ],
   "source": [
    "variables = 'B15002_003E,B15002_004E,B15002_005E,B15002_006E,B15002_007E,B15002_008E,B15002_009E,B15002_010E,B15002_020E,B15002_021E,B15002_022E,B15002_023E,B15002_024E,B15002_025E,B15002_026E,B15002_027E,B15002_001E'\n",
    "df3 = collectAll_county(year,variables)"
   ]
  },
  {
   "cell_type": "code",
   "execution_count": 20,
   "id": "b5d87626-551f-44f6-8814-8cd148424b59",
   "metadata": {},
   "outputs": [
    {
     "data": {
      "text/plain": [
       "(1882, 20)"
      ]
     },
     "execution_count": 20,
     "metadata": {},
     "output_type": "execute_result"
    }
   ],
   "source": [
    "df3.shape"
   ]
  },
  {
   "cell_type": "code",
   "execution_count": 21,
   "id": "12beeedf-46a1-4ae9-ba56-8989e86c05d7",
   "metadata": {},
   "outputs": [],
   "source": [
    "def changeInteger(value):\n",
    "    if value != None:\n",
    "        return int(value)\n",
    "    else:\n",
    "        return np.nan"
   ]
  },
  {
   "cell_type": "code",
   "execution_count": 22,
   "id": "6de4e5bd-4da3-4617-9211-c07583bce770",
   "metadata": {},
   "outputs": [],
   "source": [
    "df3['B15002_003E'] = df3['B15002_003E'].apply(changeInteger)\n",
    "df3['B15002_004E'] = df3['B15002_004E'].apply(changeInteger)\n",
    "df3['B15002_005E'] = df3['B15002_005E'].apply(changeInteger)\n",
    "df3['B15002_006E'] = df3['B15002_006E'].apply(changeInteger)\n",
    "df3['B15002_007E'] = df3['B15002_007E'].apply(changeInteger)\n",
    "df3['B15002_008E'] = df3['B15002_008E'].apply(changeInteger)\n",
    "df3['B15002_009E'] = df3['B15002_009E'].apply(changeInteger)\n",
    "df3['B15002_010E'] = df3['B15002_010E'].apply(changeInteger)\n",
    "df3['B15002_020E'] = df3['B15002_020E'].apply(changeInteger)\n",
    "df3['B15002_021E'] = df3['B15002_021E'].apply(changeInteger)\n",
    "df3['B15002_022E'] = df3['B15002_022E'].apply(changeInteger)\n",
    "df3['B15002_023E'] = df3['B15002_023E'].apply(changeInteger)\n",
    "df3['B15002_024E'] = df3['B15002_024E'].apply(changeInteger)\n",
    "df3['B15002_025E'] = df3['B15002_025E'].apply(changeInteger)\n",
    "df3['B15002_026E'] = df3['B15002_026E'].apply(changeInteger)\n",
    "df3['B15002_027E'] = df3['B15002_027E'].apply(changeInteger)\n",
    "df3['B15002_001E'] = df3['B15002_001E'].apply(changeInteger)"
   ]
  },
  {
   "cell_type": "code",
   "execution_count": 23,
   "id": "f70ce502-8e2b-4228-a121-5a617bfc4b49",
   "metadata": {},
   "outputs": [],
   "source": [
    "df3['percent_no_highschool_diploma'] = ((df3['B15002_003E']+df3['B15002_004E']+df3['B15002_005E']+df3['B15002_006E']+df3['B15002_007E']+df3['B15002_008E']+df3['B15002_009E']\n",
    "                                       +df3['B15002_010E']+df3['B15002_020E']+df3['B15002_021E']+df3['B15002_022E']+df3['B15002_023E']+df3['B15002_024E']+df3['B15002_025E']+df3['B15002_003E']\n",
    "                                       +df3['B15002_026E']+df3['B15002_027E'])/df3['B15002_001E'])*100"
   ]
  },
  {
   "cell_type": "code",
   "execution_count": 24,
   "id": "54da8218-8404-48da-9676-20d89484b1de",
   "metadata": {},
   "outputs": [
    {
     "data": {
      "text/html": [
       "<div>\n",
       "<style scoped>\n",
       "    .dataframe tbody tr th:only-of-type {\n",
       "        vertical-align: middle;\n",
       "    }\n",
       "\n",
       "    .dataframe tbody tr th {\n",
       "        vertical-align: top;\n",
       "    }\n",
       "\n",
       "    .dataframe thead th {\n",
       "        text-align: right;\n",
       "    }\n",
       "</style>\n",
       "<table border=\"1\" class=\"dataframe\">\n",
       "  <thead>\n",
       "    <tr style=\"text-align: right;\">\n",
       "      <th></th>\n",
       "      <th>county_name</th>\n",
       "      <th>B15002_003E</th>\n",
       "      <th>B15002_004E</th>\n",
       "      <th>B15002_005E</th>\n",
       "      <th>B15002_006E</th>\n",
       "      <th>B15002_007E</th>\n",
       "      <th>B15002_008E</th>\n",
       "      <th>B15002_009E</th>\n",
       "      <th>B15002_010E</th>\n",
       "      <th>B15002_020E</th>\n",
       "      <th>...</th>\n",
       "      <th>B15002_023E</th>\n",
       "      <th>B15002_024E</th>\n",
       "      <th>B15002_025E</th>\n",
       "      <th>B15002_026E</th>\n",
       "      <th>B15002_027E</th>\n",
       "      <th>B15002_001E</th>\n",
       "      <th>state code</th>\n",
       "      <th>county code</th>\n",
       "      <th>percent_no_highschool_diploma</th>\n",
       "      <th>fips</th>\n",
       "    </tr>\n",
       "  </thead>\n",
       "  <tbody>\n",
       "    <tr>\n",
       "      <th>0</th>\n",
       "      <td>Cumberland County, Maine</td>\n",
       "      <td>332.0</td>\n",
       "      <td>216.0</td>\n",
       "      <td>298.0</td>\n",
       "      <td>1340.0</td>\n",
       "      <td>1014.0</td>\n",
       "      <td>1070.0</td>\n",
       "      <td>887.0</td>\n",
       "      <td>1500.0</td>\n",
       "      <td>729.0</td>\n",
       "      <td>...</td>\n",
       "      <td>1682.0</td>\n",
       "      <td>1030.0</td>\n",
       "      <td>1239.0</td>\n",
       "      <td>1056.0</td>\n",
       "      <td>1519.0</td>\n",
       "      <td>190501.0</td>\n",
       "      <td>23</td>\n",
       "      <td>005</td>\n",
       "      <td>7.853502</td>\n",
       "      <td>23005</td>\n",
       "    </tr>\n",
       "    <tr>\n",
       "      <th>1</th>\n",
       "      <td>Franklin County, Maine</td>\n",
       "      <td>55.0</td>\n",
       "      <td>0.0</td>\n",
       "      <td>31.0</td>\n",
       "      <td>287.0</td>\n",
       "      <td>199.0</td>\n",
       "      <td>210.0</td>\n",
       "      <td>347.0</td>\n",
       "      <td>260.0</td>\n",
       "      <td>15.0</td>\n",
       "      <td>...</td>\n",
       "      <td>257.0</td>\n",
       "      <td>198.0</td>\n",
       "      <td>164.0</td>\n",
       "      <td>277.0</td>\n",
       "      <td>297.0</td>\n",
       "      <td>20237.0</td>\n",
       "      <td>23</td>\n",
       "      <td>007</td>\n",
       "      <td>13.213421</td>\n",
       "      <td>23007</td>\n",
       "    </tr>\n",
       "    <tr>\n",
       "      <th>2</th>\n",
       "      <td>Hancock County, Maine</td>\n",
       "      <td>27.0</td>\n",
       "      <td>36.0</td>\n",
       "      <td>30.0</td>\n",
       "      <td>380.0</td>\n",
       "      <td>243.0</td>\n",
       "      <td>434.0</td>\n",
       "      <td>442.0</td>\n",
       "      <td>345.0</td>\n",
       "      <td>20.0</td>\n",
       "      <td>...</td>\n",
       "      <td>268.0</td>\n",
       "      <td>223.0</td>\n",
       "      <td>421.0</td>\n",
       "      <td>283.0</td>\n",
       "      <td>116.0</td>\n",
       "      <td>38165.0</td>\n",
       "      <td>23</td>\n",
       "      <td>009</td>\n",
       "      <td>8.780296</td>\n",
       "      <td>23009</td>\n",
       "    </tr>\n",
       "    <tr>\n",
       "      <th>3</th>\n",
       "      <td>Kennebec County, Maine</td>\n",
       "      <td>72.0</td>\n",
       "      <td>70.0</td>\n",
       "      <td>101.0</td>\n",
       "      <td>1248.0</td>\n",
       "      <td>738.0</td>\n",
       "      <td>920.0</td>\n",
       "      <td>637.0</td>\n",
       "      <td>557.0</td>\n",
       "      <td>62.0</td>\n",
       "      <td>...</td>\n",
       "      <td>1114.0</td>\n",
       "      <td>620.0</td>\n",
       "      <td>564.0</td>\n",
       "      <td>775.0</td>\n",
       "      <td>614.0</td>\n",
       "      <td>84176.0</td>\n",
       "      <td>23</td>\n",
       "      <td>011</td>\n",
       "      <td>10.189365</td>\n",
       "      <td>23011</td>\n",
       "    </tr>\n",
       "    <tr>\n",
       "      <th>4</th>\n",
       "      <td>Knox County, Maine</td>\n",
       "      <td>0.0</td>\n",
       "      <td>57.0</td>\n",
       "      <td>38.0</td>\n",
       "      <td>720.0</td>\n",
       "      <td>380.0</td>\n",
       "      <td>197.0</td>\n",
       "      <td>364.0</td>\n",
       "      <td>208.0</td>\n",
       "      <td>28.0</td>\n",
       "      <td>...</td>\n",
       "      <td>347.0</td>\n",
       "      <td>204.0</td>\n",
       "      <td>423.0</td>\n",
       "      <td>127.0</td>\n",
       "      <td>204.0</td>\n",
       "      <td>29793.0</td>\n",
       "      <td>23</td>\n",
       "      <td>013</td>\n",
       "      <td>11.066358</td>\n",
       "      <td>23013</td>\n",
       "    </tr>\n",
       "  </tbody>\n",
       "</table>\n",
       "<p>5 rows × 22 columns</p>\n",
       "</div>"
      ],
      "text/plain": [
       "                county_name  B15002_003E  B15002_004E  B15002_005E  \\\n",
       "0  Cumberland County, Maine        332.0        216.0        298.0   \n",
       "1    Franklin County, Maine         55.0          0.0         31.0   \n",
       "2     Hancock County, Maine         27.0         36.0         30.0   \n",
       "3    Kennebec County, Maine         72.0         70.0        101.0   \n",
       "4        Knox County, Maine          0.0         57.0         38.0   \n",
       "\n",
       "   B15002_006E  B15002_007E  B15002_008E  B15002_009E  B15002_010E  \\\n",
       "0       1340.0       1014.0       1070.0        887.0       1500.0   \n",
       "1        287.0        199.0        210.0        347.0        260.0   \n",
       "2        380.0        243.0        434.0        442.0        345.0   \n",
       "3       1248.0        738.0        920.0        637.0        557.0   \n",
       "4        720.0        380.0        197.0        364.0        208.0   \n",
       "\n",
       "   B15002_020E  ...  B15002_023E  B15002_024E  B15002_025E  B15002_026E  \\\n",
       "0        729.0  ...       1682.0       1030.0       1239.0       1056.0   \n",
       "1         15.0  ...        257.0        198.0        164.0        277.0   \n",
       "2         20.0  ...        268.0        223.0        421.0        283.0   \n",
       "3         62.0  ...       1114.0        620.0        564.0        775.0   \n",
       "4         28.0  ...        347.0        204.0        423.0        127.0   \n",
       "\n",
       "   B15002_027E  B15002_001E  state code  county code  \\\n",
       "0       1519.0     190501.0          23          005   \n",
       "1        297.0      20237.0          23          007   \n",
       "2        116.0      38165.0          23          009   \n",
       "3        614.0      84176.0          23          011   \n",
       "4        204.0      29793.0          23          013   \n",
       "\n",
       "  percent_no_highschool_diploma   fips  \n",
       "0                      7.853502  23005  \n",
       "1                     13.213421  23007  \n",
       "2                      8.780296  23009  \n",
       "3                     10.189365  23011  \n",
       "4                     11.066358  23013  \n",
       "\n",
       "[5 rows x 22 columns]"
      ]
     },
     "execution_count": 24,
     "metadata": {},
     "output_type": "execute_result"
    }
   ],
   "source": [
    "df3['fips'] = df3['state code'] + df3['county code']\n",
    "df3.head()"
   ]
  },
  {
   "cell_type": "markdown",
   "id": "af41671e-ba16-4dbd-b37e-b5f7848aa36f",
   "metadata": {},
   "source": [
    "#### 4.Percent of Population Living in Mobile Homes: (B25033_006E+B25033_007E+B25033_012E+B25033_013E)/B25033_001E"
   ]
  },
  {
   "cell_type": "code",
   "execution_count": 25,
   "id": "c03e75e9-89db-4898-92ba-3d9f9ac528f1",
   "metadata": {},
   "outputs": [
    {
     "name": "stdout",
     "output_type": "stream",
     "text": [
      "['NAME', 'B25033_006E', 'B25033_007E', 'B25033_012E', 'B25033_013E', 'B25033_001E', 'state', 'county']\n"
     ]
    }
   ],
   "source": [
    "variables = 'B25033_006E,B25033_007E,B25033_012E,B25033_013E,B25033_001E'\n",
    "df4 = collectAll_county(year,variables)"
   ]
  },
  {
   "cell_type": "code",
   "execution_count": 26,
   "id": "12709efa-2915-43d6-b6e6-daeddcf01714",
   "metadata": {},
   "outputs": [
    {
     "data": {
      "text/plain": [
       "(1882, 8)"
      ]
     },
     "execution_count": 26,
     "metadata": {},
     "output_type": "execute_result"
    }
   ],
   "source": [
    "df4.shape"
   ]
  },
  {
   "cell_type": "code",
   "execution_count": 27,
   "id": "389f3ccf-4a99-4580-b9f3-11d448fcb052",
   "metadata": {},
   "outputs": [],
   "source": [
    "df4['B25033_006E'] = df4['B25033_006E'].apply(changeInteger)\n",
    "df4['B25033_007E'] = df4['B25033_007E'].apply(changeInteger)\n",
    "df4['B25033_012E'] = df4['B25033_012E'].apply(changeInteger)\n",
    "df4['B25033_013E'] = df4['B25033_013E'].apply(changeInteger)\n",
    "df4['B25033_001E'] = df4['B25033_001E'].apply(changeInteger)"
   ]
  },
  {
   "cell_type": "code",
   "execution_count": 28,
   "id": "e129c423-3162-4e27-bdbc-b519908fe576",
   "metadata": {},
   "outputs": [],
   "source": [
    "df4['percent_mobile_homes'] = ((df4['B25033_006E'] + df4['B25033_007E'] + df4['B25033_012E'] + df4['B25033_013E'])/df4['B25033_001E'])*100"
   ]
  },
  {
   "cell_type": "code",
   "execution_count": 29,
   "id": "7afc1666-b2dd-4559-99ad-a203776381ed",
   "metadata": {},
   "outputs": [
    {
     "data": {
      "text/html": [
       "<div>\n",
       "<style scoped>\n",
       "    .dataframe tbody tr th:only-of-type {\n",
       "        vertical-align: middle;\n",
       "    }\n",
       "\n",
       "    .dataframe tbody tr th {\n",
       "        vertical-align: top;\n",
       "    }\n",
       "\n",
       "    .dataframe thead th {\n",
       "        text-align: right;\n",
       "    }\n",
       "</style>\n",
       "<table border=\"1\" class=\"dataframe\">\n",
       "  <thead>\n",
       "    <tr style=\"text-align: right;\">\n",
       "      <th></th>\n",
       "      <th>county_name</th>\n",
       "      <th>B25033_006E</th>\n",
       "      <th>B25033_007E</th>\n",
       "      <th>B25033_012E</th>\n",
       "      <th>B25033_013E</th>\n",
       "      <th>B25033_001E</th>\n",
       "      <th>state code</th>\n",
       "      <th>county code</th>\n",
       "      <th>percent_mobile_homes</th>\n",
       "      <th>fips</th>\n",
       "    </tr>\n",
       "  </thead>\n",
       "  <tbody>\n",
       "    <tr>\n",
       "      <th>0</th>\n",
       "      <td>Plumas County, California</td>\n",
       "      <td>1876.0</td>\n",
       "      <td>0.0</td>\n",
       "      <td>1263.0</td>\n",
       "      <td>0.0</td>\n",
       "      <td>20793.0</td>\n",
       "      <td>06</td>\n",
       "      <td>063</td>\n",
       "      <td>15.096427</td>\n",
       "      <td>06063</td>\n",
       "    </tr>\n",
       "    <tr>\n",
       "      <th>1</th>\n",
       "      <td>Riverside County, California</td>\n",
       "      <td>110584.0</td>\n",
       "      <td>3426.0</td>\n",
       "      <td>40059.0</td>\n",
       "      <td>1086.0</td>\n",
       "      <td>1973219.0</td>\n",
       "      <td>06</td>\n",
       "      <td>065</td>\n",
       "      <td>7.863040</td>\n",
       "      <td>06065</td>\n",
       "    </tr>\n",
       "    <tr>\n",
       "      <th>2</th>\n",
       "      <td>Sacramento County, California</td>\n",
       "      <td>23619.0</td>\n",
       "      <td>1175.0</td>\n",
       "      <td>4250.0</td>\n",
       "      <td>76.0</td>\n",
       "      <td>1346758.0</td>\n",
       "      <td>06</td>\n",
       "      <td>067</td>\n",
       "      <td>2.162230</td>\n",
       "      <td>06067</td>\n",
       "    </tr>\n",
       "    <tr>\n",
       "      <th>3</th>\n",
       "      <td>San Benito County, California</td>\n",
       "      <td>781.0</td>\n",
       "      <td>14.0</td>\n",
       "      <td>709.0</td>\n",
       "      <td>0.0</td>\n",
       "      <td>50391.0</td>\n",
       "      <td>06</td>\n",
       "      <td>069</td>\n",
       "      <td>2.984660</td>\n",
       "      <td>06069</td>\n",
       "    </tr>\n",
       "    <tr>\n",
       "      <th>4</th>\n",
       "      <td>San Bernardino County, California</td>\n",
       "      <td>68907.0</td>\n",
       "      <td>890.0</td>\n",
       "      <td>17467.0</td>\n",
       "      <td>667.0</td>\n",
       "      <td>1938512.0</td>\n",
       "      <td>06</td>\n",
       "      <td>071</td>\n",
       "      <td>4.536005</td>\n",
       "      <td>06071</td>\n",
       "    </tr>\n",
       "  </tbody>\n",
       "</table>\n",
       "</div>"
      ],
      "text/plain": [
       "                         county_name  B25033_006E  B25033_007E  B25033_012E  \\\n",
       "0          Plumas County, California       1876.0          0.0       1263.0   \n",
       "1       Riverside County, California     110584.0       3426.0      40059.0   \n",
       "2      Sacramento County, California      23619.0       1175.0       4250.0   \n",
       "3      San Benito County, California        781.0         14.0        709.0   \n",
       "4  San Bernardino County, California      68907.0        890.0      17467.0   \n",
       "\n",
       "   B25033_013E  B25033_001E state code county code  percent_mobile_homes  \\\n",
       "0          0.0      20793.0         06         063             15.096427   \n",
       "1       1086.0    1973219.0         06         065              7.863040   \n",
       "2         76.0    1346758.0         06         067              2.162230   \n",
       "3          0.0      50391.0         06         069              2.984660   \n",
       "4        667.0    1938512.0         06         071              4.536005   \n",
       "\n",
       "    fips  \n",
       "0  06063  \n",
       "1  06065  \n",
       "2  06067  \n",
       "3  06069  \n",
       "4  06071  "
      ]
     },
     "execution_count": 29,
     "metadata": {},
     "output_type": "execute_result"
    }
   ],
   "source": [
    "df4['fips'] = df4['state code'] + df4['county code']\n",
    "df4.head()"
   ]
  },
  {
   "cell_type": "markdown",
   "id": "cdeaf879-eae7-4624-88f6-1b784b1e41c2",
   "metadata": {},
   "source": [
    "#### 5.Percent of Population with No Vehicle Available: (B25044_003E+B25044_010E)/B25044_001E"
   ]
  },
  {
   "cell_type": "code",
   "execution_count": 30,
   "id": "fc92edb5-03e2-4528-baf7-a3eeaae03484",
   "metadata": {},
   "outputs": [
    {
     "name": "stdout",
     "output_type": "stream",
     "text": [
      "['NAME', 'B25044_003E', 'B25044_010E', 'B25044_001E', 'state', 'county']\n"
     ]
    }
   ],
   "source": [
    "variables = 'B25044_003E,B25044_010E,B25044_001E'\n",
    "df5 = collectAll_county(year,variables)"
   ]
  },
  {
   "cell_type": "code",
   "execution_count": 31,
   "id": "ffe766d8-b979-441c-88cd-5e76f428bebf",
   "metadata": {},
   "outputs": [
    {
     "data": {
      "text/plain": [
       "(1882, 6)"
      ]
     },
     "execution_count": 31,
     "metadata": {},
     "output_type": "execute_result"
    }
   ],
   "source": [
    "df5.shape"
   ]
  },
  {
   "cell_type": "code",
   "execution_count": 32,
   "id": "7fee86e0-d3a9-4465-b16e-5396daeac844",
   "metadata": {},
   "outputs": [],
   "source": [
    "df5['B25044_003E'] = df5['B25044_003E'].apply(changeInteger)\n",
    "df5['B25044_010E'] = df5['B25044_010E'].apply(changeInteger)\n",
    "df5['B25044_001E'] = df5['B25044_001E'].apply(changeInteger)"
   ]
  },
  {
   "cell_type": "code",
   "execution_count": 33,
   "id": "6e2646ff-10d6-4960-8da9-6c8b4d0f8268",
   "metadata": {},
   "outputs": [],
   "source": [
    "df5['percent_no_vehicle'] = ((df5['B25044_003E'] + df5['B25044_010E'])/df5['B25044_001E'])*100"
   ]
  },
  {
   "cell_type": "code",
   "execution_count": 34,
   "id": "9d38e22b-b76e-4345-91c7-40b408bb3d17",
   "metadata": {},
   "outputs": [
    {
     "data": {
      "text/html": [
       "<div>\n",
       "<style scoped>\n",
       "    .dataframe tbody tr th:only-of-type {\n",
       "        vertical-align: middle;\n",
       "    }\n",
       "\n",
       "    .dataframe tbody tr th {\n",
       "        vertical-align: top;\n",
       "    }\n",
       "\n",
       "    .dataframe thead th {\n",
       "        text-align: right;\n",
       "    }\n",
       "</style>\n",
       "<table border=\"1\" class=\"dataframe\">\n",
       "  <thead>\n",
       "    <tr style=\"text-align: right;\">\n",
       "      <th></th>\n",
       "      <th>county_name</th>\n",
       "      <th>B25044_003E</th>\n",
       "      <th>B25044_010E</th>\n",
       "      <th>B25044_001E</th>\n",
       "      <th>state code</th>\n",
       "      <th>county code</th>\n",
       "      <th>percent_no_vehicle</th>\n",
       "      <th>fips</th>\n",
       "    </tr>\n",
       "  </thead>\n",
       "  <tbody>\n",
       "    <tr>\n",
       "      <th>0</th>\n",
       "      <td>Franklin County, Alabama</td>\n",
       "      <td>247</td>\n",
       "      <td>438</td>\n",
       "      <td>12192</td>\n",
       "      <td>01</td>\n",
       "      <td>059</td>\n",
       "      <td>5.618438</td>\n",
       "      <td>01059</td>\n",
       "    </tr>\n",
       "    <tr>\n",
       "      <th>1</th>\n",
       "      <td>Geneva County, Alabama</td>\n",
       "      <td>208</td>\n",
       "      <td>246</td>\n",
       "      <td>10308</td>\n",
       "      <td>01</td>\n",
       "      <td>061</td>\n",
       "      <td>4.404346</td>\n",
       "      <td>01061</td>\n",
       "    </tr>\n",
       "    <tr>\n",
       "      <th>2</th>\n",
       "      <td>Houston County, Alabama</td>\n",
       "      <td>737</td>\n",
       "      <td>1744</td>\n",
       "      <td>36562</td>\n",
       "      <td>01</td>\n",
       "      <td>069</td>\n",
       "      <td>6.785734</td>\n",
       "      <td>01069</td>\n",
       "    </tr>\n",
       "    <tr>\n",
       "      <th>3</th>\n",
       "      <td>Jackson County, Alabama</td>\n",
       "      <td>473</td>\n",
       "      <td>837</td>\n",
       "      <td>21129</td>\n",
       "      <td>01</td>\n",
       "      <td>071</td>\n",
       "      <td>6.200009</td>\n",
       "      <td>01071</td>\n",
       "    </tr>\n",
       "    <tr>\n",
       "      <th>4</th>\n",
       "      <td>Jefferson County, Alabama</td>\n",
       "      <td>6607</td>\n",
       "      <td>14575</td>\n",
       "      <td>266554</td>\n",
       "      <td>01</td>\n",
       "      <td>073</td>\n",
       "      <td>7.946607</td>\n",
       "      <td>01073</td>\n",
       "    </tr>\n",
       "  </tbody>\n",
       "</table>\n",
       "</div>"
      ],
      "text/plain": [
       "                 county_name  B25044_003E  B25044_010E  B25044_001E  \\\n",
       "0   Franklin County, Alabama          247          438        12192   \n",
       "1     Geneva County, Alabama          208          246        10308   \n",
       "2    Houston County, Alabama          737         1744        36562   \n",
       "3    Jackson County, Alabama          473          837        21129   \n",
       "4  Jefferson County, Alabama         6607        14575       266554   \n",
       "\n",
       "  state code county code  percent_no_vehicle   fips  \n",
       "0         01         059            5.618438  01059  \n",
       "1         01         061            4.404346  01061  \n",
       "2         01         069            6.785734  01069  \n",
       "3         01         071            6.200009  01071  \n",
       "4         01         073            7.946607  01073  "
      ]
     },
     "execution_count": 34,
     "metadata": {},
     "output_type": "execute_result"
    }
   ],
   "source": [
    "df5['fips'] = df5['state code'] + df5['county code']\n",
    "df5.head()"
   ]
  },
  {
   "cell_type": "markdown",
   "id": "2decc903-1e73-4a35-90ae-c0105c6d44ba",
   "metadata": {},
   "source": [
    "#### 6.Percent of Population Unemployed:sum(B21005_006E, B21005_007E, B21005_011E,B21005_012E,B21005_017E,B21005_022E,B21005_028E,B21005_029E,B21005_033E,B21005_034E)/B21005_001E"
   ]
  },
  {
   "cell_type": "code",
   "execution_count": 35,
   "id": "1fa00e51-9547-406a-8a0b-f9e3fe00dba2",
   "metadata": {},
   "outputs": [
    {
     "name": "stdout",
     "output_type": "stream",
     "text": [
      "['NAME', 'B21005_006E', 'B21005_007E', 'B21005_011E', 'B21005_012E', 'B21005_017E', 'B21005_022E', 'B21005_028E', 'B21005_029E', 'B21005_033E', 'B21005_034E', 'B21005_001E', 'state', 'county']\n"
     ]
    }
   ],
   "source": [
    "variables = 'B21005_006E,B21005_007E,B21005_011E,B21005_012E,B21005_017E,B21005_022E,B21005_028E,B21005_029E,B21005_033E,B21005_034E,B21005_001E'\n",
    "df6 = collectAll_county2(year,variables)"
   ]
  },
  {
   "cell_type": "code",
   "execution_count": 36,
   "id": "6be9f1b2-0ffe-44ff-8f4e-ec9c8190f1fa",
   "metadata": {},
   "outputs": [
    {
     "data": {
      "text/plain": [
       "(800, 14)"
      ]
     },
     "execution_count": 36,
     "metadata": {},
     "output_type": "execute_result"
    }
   ],
   "source": [
    "df6.shape"
   ]
  },
  {
   "cell_type": "code",
   "execution_count": 37,
   "id": "8a6b8b0a-3756-48f9-938f-e4eda374eaa8",
   "metadata": {},
   "outputs": [],
   "source": [
    "df6['B21005_006E'] = df6['B21005_006E'].apply(changeInteger)\n",
    "df6['B21005_007E'] = df6['B21005_007E'].apply(changeInteger)\n",
    "df6['B21005_011E'] = df6['B21005_011E'].apply(changeInteger)\n",
    "df6['B21005_012E'] = df6['B21005_012E'].apply(changeInteger)\n",
    "df6['B21005_017E'] = df6['B21005_017E'].apply(changeInteger)\n",
    "df6['B21005_022E'] = df6['B21005_022E'].apply(changeInteger)\n",
    "df6['B21005_028E'] = df6['B21005_028E'].apply(changeInteger)\n",
    "df6['B21005_029E'] = df6['B21005_029E'].apply(changeInteger)\n",
    "df6['B21005_033E'] = df6['B21005_033E'].apply(changeInteger)\n",
    "df6['B21005_034E'] = df6['B21005_034E'].apply(changeInteger)\n",
    "df6['B21005_001E'] = df6['B21005_001E'].apply(changeInteger)"
   ]
  },
  {
   "cell_type": "code",
   "execution_count": 38,
   "id": "52819727-7ad5-4d5f-8c15-8c629af18aea",
   "metadata": {},
   "outputs": [],
   "source": [
    "df6['percent_unemployed_CDC'] = ((df6['B21005_006E']+df6['B21005_007E']+df6['B21005_011E']+df6['B21005_012E']+df6['B21005_017E']+df6['B21005_022E']+df6['B21005_028E']+df6['B21005_029E']+df6['B21005_033E']+df6['B21005_034E'])/df6['B21005_001E'])*100"
   ]
  },
  {
   "cell_type": "code",
   "execution_count": 39,
   "id": "454d2d22-5100-46b6-a390-7f4e17d2d386",
   "metadata": {},
   "outputs": [
    {
     "data": {
      "text/html": [
       "<div>\n",
       "<style scoped>\n",
       "    .dataframe tbody tr th:only-of-type {\n",
       "        vertical-align: middle;\n",
       "    }\n",
       "\n",
       "    .dataframe tbody tr th {\n",
       "        vertical-align: top;\n",
       "    }\n",
       "\n",
       "    .dataframe thead th {\n",
       "        text-align: right;\n",
       "    }\n",
       "</style>\n",
       "<table border=\"1\" class=\"dataframe\">\n",
       "  <thead>\n",
       "    <tr style=\"text-align: right;\">\n",
       "      <th></th>\n",
       "      <th>county_name</th>\n",
       "      <th>B21005_006E</th>\n",
       "      <th>B21005_007E</th>\n",
       "      <th>B21005_011E</th>\n",
       "      <th>B21005_012E</th>\n",
       "      <th>B21005_017E</th>\n",
       "      <th>B21005_022E</th>\n",
       "      <th>B21005_028E</th>\n",
       "      <th>B21005_029E</th>\n",
       "      <th>B21005_033E</th>\n",
       "      <th>B21005_034E</th>\n",
       "      <th>B21005_001E</th>\n",
       "      <th>state code</th>\n",
       "      <th>county code</th>\n",
       "      <th>percent_unemployed_CDC</th>\n",
       "      <th>fips</th>\n",
       "    </tr>\n",
       "  </thead>\n",
       "  <tbody>\n",
       "    <tr>\n",
       "      <th>0</th>\n",
       "      <td>Grayson County, Texas</td>\n",
       "      <td>0</td>\n",
       "      <td>314</td>\n",
       "      <td>1243</td>\n",
       "      <td>5400</td>\n",
       "      <td>135</td>\n",
       "      <td>1232</td>\n",
       "      <td>0</td>\n",
       "      <td>1405</td>\n",
       "      <td>0</td>\n",
       "      <td>4372</td>\n",
       "      <td>71876</td>\n",
       "      <td>48</td>\n",
       "      <td>181</td>\n",
       "      <td>19.618510</td>\n",
       "      <td>48181</td>\n",
       "    </tr>\n",
       "    <tr>\n",
       "      <th>1</th>\n",
       "      <td>Gregg County, Texas</td>\n",
       "      <td>0</td>\n",
       "      <td>38</td>\n",
       "      <td>1229</td>\n",
       "      <td>6425</td>\n",
       "      <td>72</td>\n",
       "      <td>1082</td>\n",
       "      <td>59</td>\n",
       "      <td>907</td>\n",
       "      <td>441</td>\n",
       "      <td>4357</td>\n",
       "      <td>70820</td>\n",
       "      <td>48</td>\n",
       "      <td>183</td>\n",
       "      <td>20.629766</td>\n",
       "      <td>48183</td>\n",
       "    </tr>\n",
       "    <tr>\n",
       "      <th>2</th>\n",
       "      <td>Guadalupe County, Texas</td>\n",
       "      <td>0</td>\n",
       "      <td>92</td>\n",
       "      <td>981</td>\n",
       "      <td>5684</td>\n",
       "      <td>0</td>\n",
       "      <td>315</td>\n",
       "      <td>0</td>\n",
       "      <td>769</td>\n",
       "      <td>161</td>\n",
       "      <td>3980</td>\n",
       "      <td>69507</td>\n",
       "      <td>48</td>\n",
       "      <td>187</td>\n",
       "      <td>17.238552</td>\n",
       "      <td>48187</td>\n",
       "    </tr>\n",
       "    <tr>\n",
       "      <th>3</th>\n",
       "      <td>Harris County, Texas</td>\n",
       "      <td>921</td>\n",
       "      <td>2355</td>\n",
       "      <td>63521</td>\n",
       "      <td>229063</td>\n",
       "      <td>1764</td>\n",
       "      <td>35936</td>\n",
       "      <td>1828</td>\n",
       "      <td>14791</td>\n",
       "      <td>9737</td>\n",
       "      <td>109927</td>\n",
       "      <td>2495172</td>\n",
       "      <td>48</td>\n",
       "      <td>201</td>\n",
       "      <td>18.830085</td>\n",
       "      <td>48201</td>\n",
       "    </tr>\n",
       "    <tr>\n",
       "      <th>4</th>\n",
       "      <td>Hays County, Texas</td>\n",
       "      <td>471</td>\n",
       "      <td>131</td>\n",
       "      <td>3215</td>\n",
       "      <td>15664</td>\n",
       "      <td>44</td>\n",
       "      <td>768</td>\n",
       "      <td>18</td>\n",
       "      <td>808</td>\n",
       "      <td>68</td>\n",
       "      <td>3031</td>\n",
       "      <td>96174</td>\n",
       "      <td>48</td>\n",
       "      <td>209</td>\n",
       "      <td>25.181442</td>\n",
       "      <td>48209</td>\n",
       "    </tr>\n",
       "  </tbody>\n",
       "</table>\n",
       "</div>"
      ],
      "text/plain": [
       "               county_name  B21005_006E  B21005_007E  B21005_011E  \\\n",
       "0    Grayson County, Texas            0          314         1243   \n",
       "1      Gregg County, Texas            0           38         1229   \n",
       "2  Guadalupe County, Texas            0           92          981   \n",
       "3     Harris County, Texas          921         2355        63521   \n",
       "4       Hays County, Texas          471          131         3215   \n",
       "\n",
       "   B21005_012E  B21005_017E  B21005_022E  B21005_028E  B21005_029E  \\\n",
       "0         5400          135         1232            0         1405   \n",
       "1         6425           72         1082           59          907   \n",
       "2         5684            0          315            0          769   \n",
       "3       229063         1764        35936         1828        14791   \n",
       "4        15664           44          768           18          808   \n",
       "\n",
       "   B21005_033E  B21005_034E  B21005_001E state code county code  \\\n",
       "0            0         4372        71876         48         181   \n",
       "1          441         4357        70820         48         183   \n",
       "2          161         3980        69507         48         187   \n",
       "3         9737       109927      2495172         48         201   \n",
       "4           68         3031        96174         48         209   \n",
       "\n",
       "   percent_unemployed_CDC   fips  \n",
       "0               19.618510  48181  \n",
       "1               20.629766  48183  \n",
       "2               17.238552  48187  \n",
       "3               18.830085  48201  \n",
       "4               25.181442  48209  "
      ]
     },
     "execution_count": 39,
     "metadata": {},
     "output_type": "execute_result"
    }
   ],
   "source": [
    "df6['fips'] = df6['state code'] + df6['county code']\n",
    "df6.head()"
   ]
  },
  {
   "cell_type": "markdown",
   "id": "c9948355-bd31-4ab4-b7ee-c96586f8d3b1",
   "metadata": {},
   "source": [
    "#### 7.Percent of Population Living In Accommodations with Less Than 1 Room Per Person/Crowding: (B25014_005E+B25014_006E+B25014_007E+B25014_011E+B25014_012E+B25014_013E)/B25014_001E"
   ]
  },
  {
   "cell_type": "code",
   "execution_count": 40,
   "id": "cfca2197-92ec-4373-b8a3-39914cde1365",
   "metadata": {},
   "outputs": [
    {
     "name": "stdout",
     "output_type": "stream",
     "text": [
      "['NAME', 'B25014_005E', 'B25014_006E', 'B25014_007E', 'B25014_011E', 'B25014_012E', 'B25014_013E', 'B25014_001E', 'state', 'county']\n"
     ]
    }
   ],
   "source": [
    "variables = 'B25014_005E,B25014_006E,B25014_007E,B25014_011E,B25014_012E,B25014_013E,B25014_001E'\n",
    "df7 = collectAll_county(year,variables)"
   ]
  },
  {
   "cell_type": "code",
   "execution_count": 41,
   "id": "89125aba-8565-4a24-a3ac-bb5be0e22c56",
   "metadata": {},
   "outputs": [
    {
     "data": {
      "text/plain": [
       "(1882, 10)"
      ]
     },
     "execution_count": 41,
     "metadata": {},
     "output_type": "execute_result"
    }
   ],
   "source": [
    "df7.shape"
   ]
  },
  {
   "cell_type": "code",
   "execution_count": 42,
   "id": "b3a8bf30-04b1-44e3-9a3e-aeaf19720ff0",
   "metadata": {},
   "outputs": [],
   "source": [
    "df7['B25014_005E'] = df7['B25014_005E'].apply(changeInteger)\n",
    "df7['B25014_006E'] = df7['B25014_006E'].apply(changeInteger)\n",
    "df7['B25014_007E'] = df7['B25014_007E'].apply(changeInteger)\n",
    "df7['B25014_011E'] = df7['B25014_011E'].apply(changeInteger)\n",
    "df7['B25014_012E'] = df7['B25014_012E'].apply(changeInteger)\n",
    "df7['B25014_013E'] = df7['B25014_013E'].apply(changeInteger)\n",
    "df7['B25014_001E'] = df7['B25014_001E'].apply(changeInteger)"
   ]
  },
  {
   "cell_type": "code",
   "execution_count": 43,
   "id": "9f70d284-1e36-410e-9abe-2285db087ffb",
   "metadata": {},
   "outputs": [],
   "source": [
    "df7['percent_overcrowding'] = ((df7['B25014_005E']+df7['B25014_006E']+df7['B25014_007E']+df7['B25014_011E']+df7['B25014_012E']+df7['B25014_013E'])/df7['B25014_001E'])*100"
   ]
  },
  {
   "cell_type": "code",
   "execution_count": 44,
   "id": "072747b0-747e-41f3-8b2f-4a39a3e76d97",
   "metadata": {},
   "outputs": [
    {
     "data": {
      "text/html": [
       "<div>\n",
       "<style scoped>\n",
       "    .dataframe tbody tr th:only-of-type {\n",
       "        vertical-align: middle;\n",
       "    }\n",
       "\n",
       "    .dataframe tbody tr th {\n",
       "        vertical-align: top;\n",
       "    }\n",
       "\n",
       "    .dataframe thead th {\n",
       "        text-align: right;\n",
       "    }\n",
       "</style>\n",
       "<table border=\"1\" class=\"dataframe\">\n",
       "  <thead>\n",
       "    <tr style=\"text-align: right;\">\n",
       "      <th></th>\n",
       "      <th>county_name</th>\n",
       "      <th>B25014_005E</th>\n",
       "      <th>B25014_006E</th>\n",
       "      <th>B25014_007E</th>\n",
       "      <th>B25014_011E</th>\n",
       "      <th>B25014_012E</th>\n",
       "      <th>B25014_013E</th>\n",
       "      <th>B25014_001E</th>\n",
       "      <th>state code</th>\n",
       "      <th>county code</th>\n",
       "      <th>percent_overcrowding</th>\n",
       "      <th>fips</th>\n",
       "    </tr>\n",
       "  </thead>\n",
       "  <tbody>\n",
       "    <tr>\n",
       "      <th>0</th>\n",
       "      <td>District of Columbia, District of Columbia</td>\n",
       "      <td>996.0</td>\n",
       "      <td>183.0</td>\n",
       "      <td>25.0</td>\n",
       "      <td>4253.0</td>\n",
       "      <td>2487.0</td>\n",
       "      <td>478.0</td>\n",
       "      <td>249805.0</td>\n",
       "      <td>11</td>\n",
       "      <td>001</td>\n",
       "      <td>3.371430</td>\n",
       "      <td>11001</td>\n",
       "    </tr>\n",
       "    <tr>\n",
       "      <th>1</th>\n",
       "      <td>Alachua County, Florida</td>\n",
       "      <td>335.0</td>\n",
       "      <td>62.0</td>\n",
       "      <td>0.0</td>\n",
       "      <td>987.0</td>\n",
       "      <td>180.0</td>\n",
       "      <td>30.0</td>\n",
       "      <td>95850.0</td>\n",
       "      <td>12</td>\n",
       "      <td>001</td>\n",
       "      <td>1.663015</td>\n",
       "      <td>12001</td>\n",
       "    </tr>\n",
       "    <tr>\n",
       "      <th>2</th>\n",
       "      <td>Bay County, Florida</td>\n",
       "      <td>477.0</td>\n",
       "      <td>160.0</td>\n",
       "      <td>0.0</td>\n",
       "      <td>994.0</td>\n",
       "      <td>337.0</td>\n",
       "      <td>32.0</td>\n",
       "      <td>71417.0</td>\n",
       "      <td>12</td>\n",
       "      <td>005</td>\n",
       "      <td>2.800454</td>\n",
       "      <td>12005</td>\n",
       "    </tr>\n",
       "    <tr>\n",
       "      <th>3</th>\n",
       "      <td>Brevard County, Florida</td>\n",
       "      <td>1180.0</td>\n",
       "      <td>213.0</td>\n",
       "      <td>40.0</td>\n",
       "      <td>1081.0</td>\n",
       "      <td>292.0</td>\n",
       "      <td>0.0</td>\n",
       "      <td>217708.0</td>\n",
       "      <td>12</td>\n",
       "      <td>009</td>\n",
       "      <td>1.288882</td>\n",
       "      <td>12009</td>\n",
       "    </tr>\n",
       "    <tr>\n",
       "      <th>4</th>\n",
       "      <td>Broward County, Florida</td>\n",
       "      <td>6201.0</td>\n",
       "      <td>954.0</td>\n",
       "      <td>87.0</td>\n",
       "      <td>9012.0</td>\n",
       "      <td>2172.0</td>\n",
       "      <td>464.0</td>\n",
       "      <td>676384.0</td>\n",
       "      <td>12</td>\n",
       "      <td>011</td>\n",
       "      <td>2.792792</td>\n",
       "      <td>12011</td>\n",
       "    </tr>\n",
       "  </tbody>\n",
       "</table>\n",
       "</div>"
      ],
      "text/plain": [
       "                                  county_name  B25014_005E  B25014_006E  \\\n",
       "0  District of Columbia, District of Columbia        996.0        183.0   \n",
       "1                     Alachua County, Florida        335.0         62.0   \n",
       "2                         Bay County, Florida        477.0        160.0   \n",
       "3                     Brevard County, Florida       1180.0        213.0   \n",
       "4                     Broward County, Florida       6201.0        954.0   \n",
       "\n",
       "   B25014_007E  B25014_011E  B25014_012E  B25014_013E  B25014_001E state code  \\\n",
       "0         25.0       4253.0       2487.0        478.0     249805.0         11   \n",
       "1          0.0        987.0        180.0         30.0      95850.0         12   \n",
       "2          0.0        994.0        337.0         32.0      71417.0         12   \n",
       "3         40.0       1081.0        292.0          0.0     217708.0         12   \n",
       "4         87.0       9012.0       2172.0        464.0     676384.0         12   \n",
       "\n",
       "  county code  percent_overcrowding   fips  \n",
       "0         001              3.371430  11001  \n",
       "1         001              1.663015  12001  \n",
       "2         005              2.800454  12005  \n",
       "3         009              1.288882  12009  \n",
       "4         011              2.792792  12011  "
      ]
     },
     "execution_count": 44,
     "metadata": {},
     "output_type": "execute_result"
    }
   ],
   "source": [
    "df7['fips'] = df7['state code'] + df7['county code']\n",
    "df7.head()"
   ]
  },
  {
   "cell_type": "markdown",
   "id": "3aac238c-3f49-4579-86e9-27be71f44e3a",
   "metadata": {},
   "source": [
    "#### 8.Percent of Housing Units with 10+ Units in Structure: (B25024_007E+B25024_008E+B25024_009E)/B25024_001E"
   ]
  },
  {
   "cell_type": "code",
   "execution_count": 45,
   "id": "d9c481fc-3286-4ff1-a75e-4a6f1f1106e1",
   "metadata": {},
   "outputs": [
    {
     "name": "stdout",
     "output_type": "stream",
     "text": [
      "['NAME', 'B25024_007E', 'B25024_008E', 'B25024_009E', 'B25024_001E', 'state', 'county']\n"
     ]
    }
   ],
   "source": [
    "variables = 'B25024_007E,B25024_008E,B25024_009E,B25024_001E'\n",
    "df8 = collectAll_county(year,variables)"
   ]
  },
  {
   "cell_type": "code",
   "execution_count": 46,
   "id": "d7134adf-29cd-4150-80d1-6def45982559",
   "metadata": {},
   "outputs": [
    {
     "data": {
      "text/plain": [
       "(1882, 7)"
      ]
     },
     "execution_count": 46,
     "metadata": {},
     "output_type": "execute_result"
    }
   ],
   "source": [
    "df8.shape"
   ]
  },
  {
   "cell_type": "code",
   "execution_count": 47,
   "id": "468626db-72ee-467d-aa73-85803b8ebaae",
   "metadata": {},
   "outputs": [],
   "source": [
    "df8['B25024_007E'] = df8['B25024_007E'].apply(changeInteger)\n",
    "df8['B25024_008E'] = df8['B25024_008E'].apply(changeInteger)\n",
    "df8['B25024_009E'] = df8['B25024_009E'].apply(changeInteger)\n",
    "df8['B25024_001E'] = df8['B25024_001E'].apply(changeInteger)"
   ]
  },
  {
   "cell_type": "code",
   "execution_count": 48,
   "id": "580441b5-fa08-4898-b73f-565ed16106d8",
   "metadata": {},
   "outputs": [],
   "source": [
    "df8['percent_multi_unit_housing'] = ((df8['B25024_007E']+df8['B25024_008E']+df8['B25024_009E'])/df8['B25024_001E'])*100"
   ]
  },
  {
   "cell_type": "code",
   "execution_count": 49,
   "id": "a7fe92c1-17f6-43a4-a116-f6294d828159",
   "metadata": {},
   "outputs": [
    {
     "data": {
      "text/html": [
       "<div>\n",
       "<style scoped>\n",
       "    .dataframe tbody tr th:only-of-type {\n",
       "        vertical-align: middle;\n",
       "    }\n",
       "\n",
       "    .dataframe tbody tr th {\n",
       "        vertical-align: top;\n",
       "    }\n",
       "\n",
       "    .dataframe thead th {\n",
       "        text-align: right;\n",
       "    }\n",
       "</style>\n",
       "<table border=\"1\" class=\"dataframe\">\n",
       "  <thead>\n",
       "    <tr style=\"text-align: right;\">\n",
       "      <th></th>\n",
       "      <th>county_name</th>\n",
       "      <th>B25024_007E</th>\n",
       "      <th>B25024_008E</th>\n",
       "      <th>B25024_009E</th>\n",
       "      <th>B25024_001E</th>\n",
       "      <th>state code</th>\n",
       "      <th>county code</th>\n",
       "      <th>percent_multi_unit_housing</th>\n",
       "      <th>fips</th>\n",
       "    </tr>\n",
       "  </thead>\n",
       "  <tbody>\n",
       "    <tr>\n",
       "      <th>0</th>\n",
       "      <td>Richmond County, Georgia</td>\n",
       "      <td>2358.0</td>\n",
       "      <td>967.0</td>\n",
       "      <td>1659.0</td>\n",
       "      <td>86325.0</td>\n",
       "      <td>13</td>\n",
       "      <td>245</td>\n",
       "      <td>5.773530</td>\n",
       "      <td>13245</td>\n",
       "    </tr>\n",
       "    <tr>\n",
       "      <th>1</th>\n",
       "      <td>Rockdale County, Georgia</td>\n",
       "      <td>989.0</td>\n",
       "      <td>643.0</td>\n",
       "      <td>244.0</td>\n",
       "      <td>30209.0</td>\n",
       "      <td>13</td>\n",
       "      <td>247</td>\n",
       "      <td>6.210070</td>\n",
       "      <td>13247</td>\n",
       "    </tr>\n",
       "    <tr>\n",
       "      <th>2</th>\n",
       "      <td>Spalding County, Georgia</td>\n",
       "      <td>364.0</td>\n",
       "      <td>176.0</td>\n",
       "      <td>318.0</td>\n",
       "      <td>25821.0</td>\n",
       "      <td>13</td>\n",
       "      <td>255</td>\n",
       "      <td>3.322877</td>\n",
       "      <td>13255</td>\n",
       "    </tr>\n",
       "    <tr>\n",
       "      <th>3</th>\n",
       "      <td>Stephens County, Georgia</td>\n",
       "      <td>39.0</td>\n",
       "      <td>21.0</td>\n",
       "      <td>47.0</td>\n",
       "      <td>12274.0</td>\n",
       "      <td>13</td>\n",
       "      <td>257</td>\n",
       "      <td>0.871761</td>\n",
       "      <td>13257</td>\n",
       "    </tr>\n",
       "    <tr>\n",
       "      <th>4</th>\n",
       "      <td>Sumter County, Georgia</td>\n",
       "      <td>76.0</td>\n",
       "      <td>69.0</td>\n",
       "      <td>11.0</td>\n",
       "      <td>14200.0</td>\n",
       "      <td>13</td>\n",
       "      <td>261</td>\n",
       "      <td>1.098592</td>\n",
       "      <td>13261</td>\n",
       "    </tr>\n",
       "  </tbody>\n",
       "</table>\n",
       "</div>"
      ],
      "text/plain": [
       "                county_name  B25024_007E  B25024_008E  B25024_009E  \\\n",
       "0  Richmond County, Georgia       2358.0        967.0       1659.0   \n",
       "1  Rockdale County, Georgia        989.0        643.0        244.0   \n",
       "2  Spalding County, Georgia        364.0        176.0        318.0   \n",
       "3  Stephens County, Georgia         39.0         21.0         47.0   \n",
       "4    Sumter County, Georgia         76.0         69.0         11.0   \n",
       "\n",
       "   B25024_001E state code county code  percent_multi_unit_housing   fips  \n",
       "0      86325.0         13         245                    5.773530  13245  \n",
       "1      30209.0         13         247                    6.210070  13247  \n",
       "2      25821.0         13         255                    3.322877  13255  \n",
       "3      12274.0         13         257                    0.871761  13257  \n",
       "4      14200.0         13         261                    1.098592  13261  "
      ]
     },
     "execution_count": 49,
     "metadata": {},
     "output_type": "execute_result"
    }
   ],
   "source": [
    "df8['fips'] = df8['state code'] + df8['county code']\n",
    "df8.head()"
   ]
  },
  {
   "cell_type": "markdown",
   "id": "045aa5cc-659a-49fc-8928-86e41fa267c0",
   "metadata": {},
   "source": [
    "#### 9.Percent Of Population 65+: (B01001_020E,B01001_021E,B01001_022E,B01001_023E,B01001_024E,B01001_025E,B01001_044E,B01001_045E,B01001_046E,B01001_047E,B01001_049E)/B01001_001E"
   ]
  },
  {
   "cell_type": "code",
   "execution_count": 50,
   "id": "482dcdb3-80fd-4bbc-940b-2179aa106937",
   "metadata": {},
   "outputs": [
    {
     "name": "stdout",
     "output_type": "stream",
     "text": [
      "['NAME', 'B01001_020E', 'B01001_021E', 'B01001_022E', 'B01001_023E', 'B01001_024E', 'B01001_025E', 'B01001_044E', 'B01001_045E', 'B01001_046E', 'B01001_047E', 'B01001_048E', 'B01001_049E', 'B01001_001E', 'state', 'county']\n"
     ]
    }
   ],
   "source": [
    "variables = 'B01001_020E,B01001_021E,B01001_022E,B01001_023E,B01001_024E,B01001_025E,B01001_044E,B01001_045E,B01001_046E,B01001_047E,B01001_048E,B01001_049E,B01001_001E'\n",
    "df9 = collectAll_county(year,variables)"
   ]
  },
  {
   "cell_type": "code",
   "execution_count": 51,
   "id": "77b05482-58e0-4579-9068-4226dd49aa19",
   "metadata": {},
   "outputs": [
    {
     "data": {
      "text/plain": [
       "(1882, 16)"
      ]
     },
     "execution_count": 51,
     "metadata": {},
     "output_type": "execute_result"
    }
   ],
   "source": [
    "df9.shape"
   ]
  },
  {
   "cell_type": "code",
   "execution_count": 52,
   "id": "117d94de-9b6a-4912-b6f3-c5167ebbe6f0",
   "metadata": {},
   "outputs": [],
   "source": [
    "df9['B01001_020E'] = df9['B01001_020E'].apply(changeInteger)\n",
    "df9['B01001_021E'] = df9['B01001_021E'].apply(changeInteger)\n",
    "df9['B01001_022E'] = df9['B01001_022E'].apply(changeInteger)\n",
    "df9['B01001_023E'] = df9['B01001_023E'].apply(changeInteger)\n",
    "df9['B01001_024E'] = df9['B01001_024E'].apply(changeInteger)\n",
    "df9['B01001_025E'] = df9['B01001_025E'].apply(changeInteger)\n",
    "df9['B01001_044E'] = df9['B01001_044E'].apply(changeInteger)\n",
    "df9['B01001_045E'] = df9['B01001_045E'].apply(changeInteger)\n",
    "df9['B01001_046E'] = df9['B01001_046E'].apply(changeInteger)\n",
    "df9['B01001_047E'] = df9['B01001_047E'].apply(changeInteger)\n",
    "df9['B01001_048E'] = df9['B01001_048E'].apply(changeInteger)\n",
    "df9['B01001_049E'] = df9['B01001_049E'].apply(changeInteger)\n",
    "df9['B01001_001E'] = df9['B01001_001E'].apply(changeInteger)"
   ]
  },
  {
   "cell_type": "code",
   "execution_count": 53,
   "id": "cd9b0d69-3ed6-4340-9d81-c00cef379245",
   "metadata": {},
   "outputs": [],
   "source": [
    "df9['percent_age_65_and_older'] = ((df9['B01001_020E']+df9['B01001_021E']+df9['B01001_022E']+df9['B01001_023E']+df9['B01001_024E']+df9['B01001_025E']+df9['B01001_044E']\n",
    "                                  +df9['B01001_045E']+df9['B01001_046E']+df9['B01001_047E']+df9['B01001_048E']+df9['B01001_049E'])/df9['B01001_001E'])*100"
   ]
  },
  {
   "cell_type": "code",
   "execution_count": 54,
   "id": "9f8e8e5a-8892-4e65-9db9-a34f06a90cdb",
   "metadata": {},
   "outputs": [
    {
     "data": {
      "text/html": [
       "<div>\n",
       "<style scoped>\n",
       "    .dataframe tbody tr th:only-of-type {\n",
       "        vertical-align: middle;\n",
       "    }\n",
       "\n",
       "    .dataframe tbody tr th {\n",
       "        vertical-align: top;\n",
       "    }\n",
       "\n",
       "    .dataframe thead th {\n",
       "        text-align: right;\n",
       "    }\n",
       "</style>\n",
       "<table border=\"1\" class=\"dataframe\">\n",
       "  <thead>\n",
       "    <tr style=\"text-align: right;\">\n",
       "      <th></th>\n",
       "      <th>county_name</th>\n",
       "      <th>B01001_020E</th>\n",
       "      <th>B01001_021E</th>\n",
       "      <th>B01001_022E</th>\n",
       "      <th>B01001_023E</th>\n",
       "      <th>B01001_024E</th>\n",
       "      <th>B01001_025E</th>\n",
       "      <th>B01001_044E</th>\n",
       "      <th>B01001_045E</th>\n",
       "      <th>B01001_046E</th>\n",
       "      <th>B01001_047E</th>\n",
       "      <th>B01001_048E</th>\n",
       "      <th>B01001_049E</th>\n",
       "      <th>B01001_001E</th>\n",
       "      <th>state code</th>\n",
       "      <th>county code</th>\n",
       "      <th>percent_age_65_and_older</th>\n",
       "      <th>fips</th>\n",
       "    </tr>\n",
       "  </thead>\n",
       "  <tbody>\n",
       "    <tr>\n",
       "      <th>0</th>\n",
       "      <td>Cumberland County, Maine</td>\n",
       "      <td>2022</td>\n",
       "      <td>2383</td>\n",
       "      <td>4016</td>\n",
       "      <td>3177</td>\n",
       "      <td>2032</td>\n",
       "      <td>1700</td>\n",
       "      <td>2149</td>\n",
       "      <td>2946</td>\n",
       "      <td>4552</td>\n",
       "      <td>4722</td>\n",
       "      <td>3577</td>\n",
       "      <td>3753</td>\n",
       "      <td>274712</td>\n",
       "      <td>23</td>\n",
       "      <td>005</td>\n",
       "      <td>13.479207</td>\n",
       "      <td>23005</td>\n",
       "    </tr>\n",
       "    <tr>\n",
       "      <th>1</th>\n",
       "      <td>Franklin County, Maine</td>\n",
       "      <td>251</td>\n",
       "      <td>302</td>\n",
       "      <td>535</td>\n",
       "      <td>568</td>\n",
       "      <td>173</td>\n",
       "      <td>112</td>\n",
       "      <td>219</td>\n",
       "      <td>357</td>\n",
       "      <td>588</td>\n",
       "      <td>512</td>\n",
       "      <td>301</td>\n",
       "      <td>359</td>\n",
       "      <td>29840</td>\n",
       "      <td>23</td>\n",
       "      <td>007</td>\n",
       "      <td>14.333110</td>\n",
       "      <td>23007</td>\n",
       "    </tr>\n",
       "    <tr>\n",
       "      <th>2</th>\n",
       "      <td>Hancock County, Maine</td>\n",
       "      <td>486</td>\n",
       "      <td>674</td>\n",
       "      <td>889</td>\n",
       "      <td>764</td>\n",
       "      <td>456</td>\n",
       "      <td>494</td>\n",
       "      <td>464</td>\n",
       "      <td>725</td>\n",
       "      <td>1086</td>\n",
       "      <td>783</td>\n",
       "      <td>607</td>\n",
       "      <td>1092</td>\n",
       "      <td>53208</td>\n",
       "      <td>23</td>\n",
       "      <td>009</td>\n",
       "      <td>16.012630</td>\n",
       "      <td>23009</td>\n",
       "    </tr>\n",
       "    <tr>\n",
       "      <th>3</th>\n",
       "      <td>Kennebec County, Maine</td>\n",
       "      <td>940</td>\n",
       "      <td>1324</td>\n",
       "      <td>1862</td>\n",
       "      <td>1528</td>\n",
       "      <td>1076</td>\n",
       "      <td>629</td>\n",
       "      <td>962</td>\n",
       "      <td>1698</td>\n",
       "      <td>2051</td>\n",
       "      <td>2192</td>\n",
       "      <td>1770</td>\n",
       "      <td>1355</td>\n",
       "      <td>120559</td>\n",
       "      <td>23</td>\n",
       "      <td>011</td>\n",
       "      <td>14.421984</td>\n",
       "      <td>23011</td>\n",
       "    </tr>\n",
       "    <tr>\n",
       "      <th>4</th>\n",
       "      <td>Knox County, Maine</td>\n",
       "      <td>386</td>\n",
       "      <td>619</td>\n",
       "      <td>576</td>\n",
       "      <td>721</td>\n",
       "      <td>328</td>\n",
       "      <td>320</td>\n",
       "      <td>391</td>\n",
       "      <td>576</td>\n",
       "      <td>925</td>\n",
       "      <td>933</td>\n",
       "      <td>900</td>\n",
       "      <td>389</td>\n",
       "      <td>40879</td>\n",
       "      <td>23</td>\n",
       "      <td>013</td>\n",
       "      <td>17.280266</td>\n",
       "      <td>23013</td>\n",
       "    </tr>\n",
       "  </tbody>\n",
       "</table>\n",
       "</div>"
      ],
      "text/plain": [
       "                county_name  B01001_020E  B01001_021E  B01001_022E  \\\n",
       "0  Cumberland County, Maine         2022         2383         4016   \n",
       "1    Franklin County, Maine          251          302          535   \n",
       "2     Hancock County, Maine          486          674          889   \n",
       "3    Kennebec County, Maine          940         1324         1862   \n",
       "4        Knox County, Maine          386          619          576   \n",
       "\n",
       "   B01001_023E  B01001_024E  B01001_025E  B01001_044E  B01001_045E  \\\n",
       "0         3177         2032         1700         2149         2946   \n",
       "1          568          173          112          219          357   \n",
       "2          764          456          494          464          725   \n",
       "3         1528         1076          629          962         1698   \n",
       "4          721          328          320          391          576   \n",
       "\n",
       "   B01001_046E  B01001_047E  B01001_048E  B01001_049E  B01001_001E state code  \\\n",
       "0         4552         4722         3577         3753       274712         23   \n",
       "1          588          512          301          359        29840         23   \n",
       "2         1086          783          607         1092        53208         23   \n",
       "3         2051         2192         1770         1355       120559         23   \n",
       "4          925          933          900          389        40879         23   \n",
       "\n",
       "  county code  percent_age_65_and_older   fips  \n",
       "0         005                 13.479207  23005  \n",
       "1         007                 14.333110  23007  \n",
       "2         009                 16.012630  23009  \n",
       "3         011                 14.421984  23011  \n",
       "4         013                 17.280266  23013  "
      ]
     },
     "execution_count": 54,
     "metadata": {},
     "output_type": "execute_result"
    }
   ],
   "source": [
    "df9['fips'] = df9['state code'] + df9['county code']\n",
    "df9.head()"
   ]
  },
  {
   "cell_type": "markdown",
   "id": "dcb04516-8d7f-4ad2-beb3-e688daa12187",
   "metadata": {},
   "source": [
    "#### 10.Percent Of Population Who Do Not Speak English: B99163_005E/B99163_001E"
   ]
  },
  {
   "cell_type": "code",
   "execution_count": 55,
   "id": "f97dbc43-c00a-4e2b-b8c3-8db219707786",
   "metadata": {},
   "outputs": [
    {
     "name": "stdout",
     "output_type": "stream",
     "text": [
      "['NAME', 'B99163_005E', 'B99163_001E', 'state', 'county']\n"
     ]
    }
   ],
   "source": [
    "variables = 'B99163_005E,B99163_001E'\n",
    "df10 = collectAll_county(year,variables)"
   ]
  },
  {
   "cell_type": "code",
   "execution_count": 56,
   "id": "86a48711-061f-4a53-b7bb-a0523aa745f1",
   "metadata": {},
   "outputs": [
    {
     "data": {
      "text/plain": [
       "(1882, 5)"
      ]
     },
     "execution_count": 56,
     "metadata": {},
     "output_type": "execute_result"
    }
   ],
   "source": [
    "df10.shape"
   ]
  },
  {
   "cell_type": "code",
   "execution_count": 57,
   "id": "c87745bc-19ae-4efc-904d-7390a39c3c9d",
   "metadata": {},
   "outputs": [],
   "source": [
    "df10['B99163_005E'] = df10['B99163_005E'].apply(changeInteger)\n",
    "df10['B99163_001E'] = df10['B99163_001E'].apply(changeInteger)"
   ]
  },
  {
   "cell_type": "code",
   "execution_count": 58,
   "id": "79fc7f2e-ce55-499c-ab8b-aa573ca1801f",
   "metadata": {},
   "outputs": [],
   "source": [
    "df10['percent_limited_english_abilities'] = (df10['B99163_005E']/df10['B99163_001E'])*100"
   ]
  },
  {
   "cell_type": "code",
   "execution_count": 59,
   "id": "da196dd1-f265-41f4-8394-30c7bb0ac2b7",
   "metadata": {},
   "outputs": [
    {
     "data": {
      "text/html": [
       "<div>\n",
       "<style scoped>\n",
       "    .dataframe tbody tr th:only-of-type {\n",
       "        vertical-align: middle;\n",
       "    }\n",
       "\n",
       "    .dataframe tbody tr th {\n",
       "        vertical-align: top;\n",
       "    }\n",
       "\n",
       "    .dataframe thead th {\n",
       "        text-align: right;\n",
       "    }\n",
       "</style>\n",
       "<table border=\"1\" class=\"dataframe\">\n",
       "  <thead>\n",
       "    <tr style=\"text-align: right;\">\n",
       "      <th></th>\n",
       "      <th>county_name</th>\n",
       "      <th>B99163_005E</th>\n",
       "      <th>B99163_001E</th>\n",
       "      <th>state code</th>\n",
       "      <th>county code</th>\n",
       "      <th>percent_limited_english_abilities</th>\n",
       "      <th>fips</th>\n",
       "    </tr>\n",
       "  </thead>\n",
       "  <tbody>\n",
       "    <tr>\n",
       "      <th>0</th>\n",
       "      <td>Alcorn County, Mississippi</td>\n",
       "      <td>660</td>\n",
       "      <td>32969</td>\n",
       "      <td>28</td>\n",
       "      <td>003</td>\n",
       "      <td>2.001881</td>\n",
       "      <td>28003</td>\n",
       "    </tr>\n",
       "    <tr>\n",
       "      <th>1</th>\n",
       "      <td>Bolivar County, Mississippi</td>\n",
       "      <td>680</td>\n",
       "      <td>34607</td>\n",
       "      <td>28</td>\n",
       "      <td>011</td>\n",
       "      <td>1.964920</td>\n",
       "      <td>28011</td>\n",
       "    </tr>\n",
       "    <tr>\n",
       "      <th>2</th>\n",
       "      <td>Clay County, Mississippi</td>\n",
       "      <td>165</td>\n",
       "      <td>19573</td>\n",
       "      <td>28</td>\n",
       "      <td>025</td>\n",
       "      <td>0.842998</td>\n",
       "      <td>28025</td>\n",
       "    </tr>\n",
       "    <tr>\n",
       "      <th>3</th>\n",
       "      <td>Coahoma County, Mississippi</td>\n",
       "      <td>238</td>\n",
       "      <td>25447</td>\n",
       "      <td>28</td>\n",
       "      <td>027</td>\n",
       "      <td>0.935277</td>\n",
       "      <td>28027</td>\n",
       "    </tr>\n",
       "    <tr>\n",
       "      <th>4</th>\n",
       "      <td>Copiah County, Mississippi</td>\n",
       "      <td>595</td>\n",
       "      <td>26977</td>\n",
       "      <td>28</td>\n",
       "      <td>029</td>\n",
       "      <td>2.205583</td>\n",
       "      <td>28029</td>\n",
       "    </tr>\n",
       "  </tbody>\n",
       "</table>\n",
       "</div>"
      ],
      "text/plain": [
       "                   county_name  B99163_005E  B99163_001E state code  \\\n",
       "0   Alcorn County, Mississippi          660        32969         28   \n",
       "1  Bolivar County, Mississippi          680        34607         28   \n",
       "2     Clay County, Mississippi          165        19573         28   \n",
       "3  Coahoma County, Mississippi          238        25447         28   \n",
       "4   Copiah County, Mississippi          595        26977         28   \n",
       "\n",
       "  county code  percent_limited_english_abilities   fips  \n",
       "0         003                           2.001881  28003  \n",
       "1         011                           1.964920  28011  \n",
       "2         025                           0.842998  28025  \n",
       "3         027                           0.935277  28027  \n",
       "4         029                           2.205583  28029  "
      ]
     },
     "execution_count": 59,
     "metadata": {},
     "output_type": "execute_result"
    }
   ],
   "source": [
    "df10['fips'] = df10['state code'] + df10['county code']\n",
    "df10.head()"
   ]
  },
  {
   "cell_type": "markdown",
   "id": "230a9265-4827-498c-9cae-c18df3f821b6",
   "metadata": {},
   "source": [
    "#### 11.Percent of Population 17 Years of Age and Under: (B01001_003E+B01001_004E+B01001_005E+B01001_006E+B01001_027E+B01001_028E+B01001_029E+B01001_030E)/B01003_001E"
   ]
  },
  {
   "cell_type": "code",
   "execution_count": 60,
   "id": "43b38a7d-f7ca-4595-8f39-91f898996c9a",
   "metadata": {},
   "outputs": [
    {
     "name": "stdout",
     "output_type": "stream",
     "text": [
      "['NAME', 'B01001_003E', 'B01001_004E', 'B01001_005E', 'B01001_006E', 'B01001_027E', 'B01001_028E', 'B01001_029E', 'B01001_030E', 'B01003_001E', 'state', 'county']\n"
     ]
    }
   ],
   "source": [
    "variables = 'B01001_003E,B01001_004E,B01001_005E,B01001_006E,B01001_027E,B01001_028E,B01001_029E,B01001_030E,B01003_001E'\n",
    "df11 = collectAll_county(year,variables)"
   ]
  },
  {
   "cell_type": "code",
   "execution_count": 61,
   "id": "aab660f8-39a7-4dc8-ae57-9a715c2bb20e",
   "metadata": {},
   "outputs": [
    {
     "data": {
      "text/plain": [
       "(1882, 12)"
      ]
     },
     "execution_count": 61,
     "metadata": {},
     "output_type": "execute_result"
    }
   ],
   "source": [
    "df11.shape"
   ]
  },
  {
   "cell_type": "code",
   "execution_count": 62,
   "id": "3e91d91d-0f62-45e1-aa28-feb685e79554",
   "metadata": {},
   "outputs": [],
   "source": [
    "df11['B01001_003E'] = df11['B01001_003E'].apply(changeInteger)\n",
    "df11['B01001_004E'] = df11['B01001_004E'].apply(changeInteger)\n",
    "df11['B01001_005E'] = df11['B01001_005E'].apply(changeInteger)\n",
    "df11['B01001_006E'] = df11['B01001_006E'].apply(changeInteger)\n",
    "df11['B01001_027E'] = df11['B01001_027E'].apply(changeInteger)\n",
    "df11['B01001_028E'] = df11['B01001_028E'].apply(changeInteger)\n",
    "df11['B01001_029E'] = df11['B01001_029E'].apply(changeInteger)\n",
    "df11['B01001_030E'] = df11['B01001_030E'].apply(changeInteger)\n",
    "df11['B01003_001E'] = df11['B01003_001E'].apply(changeInteger)"
   ]
  },
  {
   "cell_type": "code",
   "execution_count": 63,
   "id": "7ef3e8d6-ddb3-4693-8418-2b8891a87a16",
   "metadata": {},
   "outputs": [],
   "source": [
    "df11['percent_age_17_and_younger'] = ((df11['B01001_003E']+df11['B01001_004E']+df11['B01001_005E']+df11['B01001_006E']+df11['B01001_027E']+df11['B01001_028E']+df11['B01001_029E']+df11['B01001_030E'])/df11['B01003_001E'])*100"
   ]
  },
  {
   "cell_type": "code",
   "execution_count": 64,
   "id": "b4e9178e-a1d3-479b-8a8f-35eb701d327d",
   "metadata": {},
   "outputs": [
    {
     "data": {
      "text/html": [
       "<div>\n",
       "<style scoped>\n",
       "    .dataframe tbody tr th:only-of-type {\n",
       "        vertical-align: middle;\n",
       "    }\n",
       "\n",
       "    .dataframe tbody tr th {\n",
       "        vertical-align: top;\n",
       "    }\n",
       "\n",
       "    .dataframe thead th {\n",
       "        text-align: right;\n",
       "    }\n",
       "</style>\n",
       "<table border=\"1\" class=\"dataframe\">\n",
       "  <thead>\n",
       "    <tr style=\"text-align: right;\">\n",
       "      <th></th>\n",
       "      <th>county_name</th>\n",
       "      <th>B01001_003E</th>\n",
       "      <th>B01001_004E</th>\n",
       "      <th>B01001_005E</th>\n",
       "      <th>B01001_006E</th>\n",
       "      <th>B01001_027E</th>\n",
       "      <th>B01001_028E</th>\n",
       "      <th>B01001_029E</th>\n",
       "      <th>B01001_030E</th>\n",
       "      <th>B01003_001E</th>\n",
       "      <th>state code</th>\n",
       "      <th>county code</th>\n",
       "      <th>percent_age_17_and_younger</th>\n",
       "      <th>fips</th>\n",
       "    </tr>\n",
       "  </thead>\n",
       "  <tbody>\n",
       "    <tr>\n",
       "      <th>0</th>\n",
       "      <td>Leake County, Mississippi</td>\n",
       "      <td>914</td>\n",
       "      <td>1107</td>\n",
       "      <td>881</td>\n",
       "      <td>505</td>\n",
       "      <td>834</td>\n",
       "      <td>878</td>\n",
       "      <td>627</td>\n",
       "      <td>799</td>\n",
       "      <td>22636</td>\n",
       "      <td>28</td>\n",
       "      <td>079</td>\n",
       "      <td>28.914119</td>\n",
       "      <td>28079</td>\n",
       "    </tr>\n",
       "    <tr>\n",
       "      <th>1</th>\n",
       "      <td>Lee County, Mississippi</td>\n",
       "      <td>3196</td>\n",
       "      <td>3059</td>\n",
       "      <td>3089</td>\n",
       "      <td>1807</td>\n",
       "      <td>2991</td>\n",
       "      <td>2966</td>\n",
       "      <td>2746</td>\n",
       "      <td>1862</td>\n",
       "      <td>79343</td>\n",
       "      <td>28</td>\n",
       "      <td>081</td>\n",
       "      <td>27.369774</td>\n",
       "      <td>28081</td>\n",
       "    </tr>\n",
       "    <tr>\n",
       "      <th>2</th>\n",
       "      <td>Leflore County, Mississippi</td>\n",
       "      <td>1599</td>\n",
       "      <td>1406</td>\n",
       "      <td>1298</td>\n",
       "      <td>809</td>\n",
       "      <td>1244</td>\n",
       "      <td>1270</td>\n",
       "      <td>1286</td>\n",
       "      <td>932</td>\n",
       "      <td>35229</td>\n",
       "      <td>28</td>\n",
       "      <td>083</td>\n",
       "      <td>27.942888</td>\n",
       "      <td>28083</td>\n",
       "    </tr>\n",
       "    <tr>\n",
       "      <th>3</th>\n",
       "      <td>Lincoln County, Mississippi</td>\n",
       "      <td>1221</td>\n",
       "      <td>1354</td>\n",
       "      <td>1068</td>\n",
       "      <td>549</td>\n",
       "      <td>1138</td>\n",
       "      <td>1632</td>\n",
       "      <td>747</td>\n",
       "      <td>910</td>\n",
       "      <td>34169</td>\n",
       "      <td>28</td>\n",
       "      <td>085</td>\n",
       "      <td>25.224619</td>\n",
       "      <td>28085</td>\n",
       "    </tr>\n",
       "    <tr>\n",
       "      <th>4</th>\n",
       "      <td>Lowndes County, Mississippi</td>\n",
       "      <td>2319</td>\n",
       "      <td>2251</td>\n",
       "      <td>2376</td>\n",
       "      <td>1490</td>\n",
       "      <td>2137</td>\n",
       "      <td>2044</td>\n",
       "      <td>2175</td>\n",
       "      <td>1389</td>\n",
       "      <td>59559</td>\n",
       "      <td>28</td>\n",
       "      <td>087</td>\n",
       "      <td>27.168018</td>\n",
       "      <td>28087</td>\n",
       "    </tr>\n",
       "  </tbody>\n",
       "</table>\n",
       "</div>"
      ],
      "text/plain": [
       "                   county_name  B01001_003E  B01001_004E  B01001_005E  \\\n",
       "0    Leake County, Mississippi          914         1107          881   \n",
       "1      Lee County, Mississippi         3196         3059         3089   \n",
       "2  Leflore County, Mississippi         1599         1406         1298   \n",
       "3  Lincoln County, Mississippi         1221         1354         1068   \n",
       "4  Lowndes County, Mississippi         2319         2251         2376   \n",
       "\n",
       "   B01001_006E  B01001_027E  B01001_028E  B01001_029E  B01001_030E  \\\n",
       "0          505          834          878          627          799   \n",
       "1         1807         2991         2966         2746         1862   \n",
       "2          809         1244         1270         1286          932   \n",
       "3          549         1138         1632          747          910   \n",
       "4         1490         2137         2044         2175         1389   \n",
       "\n",
       "   B01003_001E state code county code  percent_age_17_and_younger   fips  \n",
       "0        22636         28         079                   28.914119  28079  \n",
       "1        79343         28         081                   27.369774  28081  \n",
       "2        35229         28         083                   27.942888  28083  \n",
       "3        34169         28         085                   25.224619  28085  \n",
       "4        59559         28         087                   27.168018  28087  "
      ]
     },
     "execution_count": 64,
     "metadata": {},
     "output_type": "execute_result"
    }
   ],
   "source": [
    "df11['fips'] = df11['state code'] + df11['county code']\n",
    "df11.head()"
   ]
  },
  {
   "cell_type": "markdown",
   "id": "0dc9064e-fd0b-4281-8771-366259395f20",
   "metadata": {},
   "source": [
    "#### 12.Percent Minority: 1-(B03002_003E/B03002_001E)"
   ]
  },
  {
   "cell_type": "code",
   "execution_count": 65,
   "id": "0c50e5e9-378c-4077-80f2-687a37f92625",
   "metadata": {},
   "outputs": [
    {
     "name": "stdout",
     "output_type": "stream",
     "text": [
      "['NAME', 'B03002_003E', 'B03002_001E', 'state', 'county']\n"
     ]
    }
   ],
   "source": [
    "variables = 'B03002_003E,B03002_001E'\n",
    "df12 = collectAll_county(year,variables)"
   ]
  },
  {
   "cell_type": "code",
   "execution_count": 66,
   "id": "e07e365e-585c-4b97-ba5e-25fa6039d637",
   "metadata": {},
   "outputs": [
    {
     "data": {
      "text/plain": [
       "(1882, 5)"
      ]
     },
     "execution_count": 66,
     "metadata": {},
     "output_type": "execute_result"
    }
   ],
   "source": [
    "df12.shape"
   ]
  },
  {
   "cell_type": "code",
   "execution_count": 67,
   "id": "dbe1bd76-0991-4fd4-a082-6f9a49c9abd3",
   "metadata": {},
   "outputs": [],
   "source": [
    "df12['B03002_003E'] = df12['B03002_003E'].apply(changeInteger)\n",
    "df12['B03002_001E'] = df12['B03002_001E'].apply(changeInteger)"
   ]
  },
  {
   "cell_type": "code",
   "execution_count": 68,
   "id": "156010fd-f12e-4306-b90e-e4b0183df959",
   "metadata": {},
   "outputs": [],
   "source": [
    "df12['percent_minorities'] = (1 - (df12['B03002_003E']/df12['B03002_001E']))*100"
   ]
  },
  {
   "cell_type": "code",
   "execution_count": 69,
   "id": "7ef360b7-92cf-445f-a5fc-04cbe424922f",
   "metadata": {},
   "outputs": [
    {
     "data": {
      "text/html": [
       "<div>\n",
       "<style scoped>\n",
       "    .dataframe tbody tr th:only-of-type {\n",
       "        vertical-align: middle;\n",
       "    }\n",
       "\n",
       "    .dataframe tbody tr th {\n",
       "        vertical-align: top;\n",
       "    }\n",
       "\n",
       "    .dataframe thead th {\n",
       "        text-align: right;\n",
       "    }\n",
       "</style>\n",
       "<table border=\"1\" class=\"dataframe\">\n",
       "  <thead>\n",
       "    <tr style=\"text-align: right;\">\n",
       "      <th></th>\n",
       "      <th>county_name</th>\n",
       "      <th>B03002_003E</th>\n",
       "      <th>B03002_001E</th>\n",
       "      <th>state code</th>\n",
       "      <th>county code</th>\n",
       "      <th>percent_minorities</th>\n",
       "      <th>fips</th>\n",
       "    </tr>\n",
       "  </thead>\n",
       "  <tbody>\n",
       "    <tr>\n",
       "      <th>0</th>\n",
       "      <td>Lee County, Illinois</td>\n",
       "      <td>31636.0</td>\n",
       "      <td>35349.0</td>\n",
       "      <td>17</td>\n",
       "      <td>103</td>\n",
       "      <td>10.503833</td>\n",
       "      <td>17103</td>\n",
       "    </tr>\n",
       "    <tr>\n",
       "      <th>1</th>\n",
       "      <td>McHenry County, Illinois</td>\n",
       "      <td>263111.0</td>\n",
       "      <td>309448.0</td>\n",
       "      <td>17</td>\n",
       "      <td>111</td>\n",
       "      <td>14.974083</td>\n",
       "      <td>17111</td>\n",
       "    </tr>\n",
       "    <tr>\n",
       "      <th>2</th>\n",
       "      <td>McLean County, Illinois</td>\n",
       "      <td>138434.0</td>\n",
       "      <td>162031.0</td>\n",
       "      <td>17</td>\n",
       "      <td>113</td>\n",
       "      <td>14.563263</td>\n",
       "      <td>17113</td>\n",
       "    </tr>\n",
       "    <tr>\n",
       "      <th>3</th>\n",
       "      <td>Madison County, Illinois</td>\n",
       "      <td>233799.0</td>\n",
       "      <td>266142.0</td>\n",
       "      <td>17</td>\n",
       "      <td>119</td>\n",
       "      <td>12.152535</td>\n",
       "      <td>17119</td>\n",
       "    </tr>\n",
       "    <tr>\n",
       "      <th>4</th>\n",
       "      <td>Ogle County, Illinois</td>\n",
       "      <td>48714.0</td>\n",
       "      <td>54543.0</td>\n",
       "      <td>17</td>\n",
       "      <td>141</td>\n",
       "      <td>10.686981</td>\n",
       "      <td>17141</td>\n",
       "    </tr>\n",
       "  </tbody>\n",
       "</table>\n",
       "</div>"
      ],
      "text/plain": [
       "                county_name  B03002_003E  B03002_001E state code county code  \\\n",
       "0      Lee County, Illinois      31636.0      35349.0         17         103   \n",
       "1  McHenry County, Illinois     263111.0     309448.0         17         111   \n",
       "2   McLean County, Illinois     138434.0     162031.0         17         113   \n",
       "3  Madison County, Illinois     233799.0     266142.0         17         119   \n",
       "4     Ogle County, Illinois      48714.0      54543.0         17         141   \n",
       "\n",
       "   percent_minorities   fips  \n",
       "0           10.503833  17103  \n",
       "1           14.974083  17111  \n",
       "2           14.563263  17113  \n",
       "3           12.152535  17119  \n",
       "4           10.686981  17141  "
      ]
     },
     "execution_count": 69,
     "metadata": {},
     "output_type": "execute_result"
    }
   ],
   "source": [
    "df12['fips'] = df12['state code'] + df12['county code']\n",
    "df12.head()"
   ]
  },
  {
   "cell_type": "markdown",
   "id": "9733cd2c-c058-4c64-af28-8b32a4c8c066",
   "metadata": {},
   "source": [
    "#### 13.Percent of Population with a Disability: (B18101_004E+B18101_007E+B18101_010E+B18101_013E+B18101_016E+B18101_019E)/B18101_002E + (B18101_023E+B18101_026E+B18101_029E+B18101_032E+B18101_035E+B18101_038E)/B18101_021E"
   ]
  },
  {
   "cell_type": "code",
   "execution_count": 70,
   "id": "9d1f58e4-a62a-4b64-b7d4-9e75900dd490",
   "metadata": {},
   "outputs": [
    {
     "ename": "JSONDecodeError",
     "evalue": "Expecting value: line 1 column 1 (char 0)",
     "output_type": "error",
     "traceback": [
      "\u001b[0;31m---------------------------------------------------------------------------\u001b[0m",
      "\u001b[0;31mJSONDecodeError\u001b[0m                           Traceback (most recent call last)",
      "\u001b[0;32m~/.conda/envs/myenv/lib/python3.7/site-packages/requests/models.py\u001b[0m in \u001b[0;36mjson\u001b[0;34m(self, **kwargs)\u001b[0m\n\u001b[1;32m    970\u001b[0m         \u001b[0;32mtry\u001b[0m\u001b[0;34m:\u001b[0m\u001b[0;34m\u001b[0m\u001b[0;34m\u001b[0m\u001b[0m\n\u001b[0;32m--> 971\u001b[0;31m             \u001b[0;32mreturn\u001b[0m \u001b[0mcomplexjson\u001b[0m\u001b[0;34m.\u001b[0m\u001b[0mloads\u001b[0m\u001b[0;34m(\u001b[0m\u001b[0mself\u001b[0m\u001b[0;34m.\u001b[0m\u001b[0mtext\u001b[0m\u001b[0;34m,\u001b[0m \u001b[0;34m**\u001b[0m\u001b[0mkwargs\u001b[0m\u001b[0;34m)\u001b[0m\u001b[0;34m\u001b[0m\u001b[0;34m\u001b[0m\u001b[0m\n\u001b[0m\u001b[1;32m    972\u001b[0m         \u001b[0;32mexcept\u001b[0m \u001b[0mJSONDecodeError\u001b[0m \u001b[0;32mas\u001b[0m \u001b[0me\u001b[0m\u001b[0;34m:\u001b[0m\u001b[0;34m\u001b[0m\u001b[0;34m\u001b[0m\u001b[0m\n",
      "\u001b[0;32m~/.conda/envs/myenv/lib/python3.7/site-packages/simplejson/__init__.py\u001b[0m in \u001b[0;36mloads\u001b[0;34m(s, encoding, cls, object_hook, parse_float, parse_int, parse_constant, object_pairs_hook, use_decimal, **kw)\u001b[0m\n\u001b[1;32m    524\u001b[0m             and not use_decimal and not kw):\n\u001b[0;32m--> 525\u001b[0;31m         \u001b[0;32mreturn\u001b[0m \u001b[0m_default_decoder\u001b[0m\u001b[0;34m.\u001b[0m\u001b[0mdecode\u001b[0m\u001b[0;34m(\u001b[0m\u001b[0ms\u001b[0m\u001b[0;34m)\u001b[0m\u001b[0;34m\u001b[0m\u001b[0;34m\u001b[0m\u001b[0m\n\u001b[0m\u001b[1;32m    526\u001b[0m     \u001b[0;32mif\u001b[0m \u001b[0mcls\u001b[0m \u001b[0;32mis\u001b[0m \u001b[0;32mNone\u001b[0m\u001b[0;34m:\u001b[0m\u001b[0;34m\u001b[0m\u001b[0;34m\u001b[0m\u001b[0m\n",
      "\u001b[0;32m~/.conda/envs/myenv/lib/python3.7/site-packages/simplejson/decoder.py\u001b[0m in \u001b[0;36mdecode\u001b[0;34m(self, s, _w, _PY3)\u001b[0m\n\u001b[1;32m    369\u001b[0m             \u001b[0ms\u001b[0m \u001b[0;34m=\u001b[0m \u001b[0mstr\u001b[0m\u001b[0;34m(\u001b[0m\u001b[0ms\u001b[0m\u001b[0;34m,\u001b[0m \u001b[0mself\u001b[0m\u001b[0;34m.\u001b[0m\u001b[0mencoding\u001b[0m\u001b[0;34m)\u001b[0m\u001b[0;34m\u001b[0m\u001b[0;34m\u001b[0m\u001b[0m\n\u001b[0;32m--> 370\u001b[0;31m         \u001b[0mobj\u001b[0m\u001b[0;34m,\u001b[0m \u001b[0mend\u001b[0m \u001b[0;34m=\u001b[0m \u001b[0mself\u001b[0m\u001b[0;34m.\u001b[0m\u001b[0mraw_decode\u001b[0m\u001b[0;34m(\u001b[0m\u001b[0ms\u001b[0m\u001b[0;34m)\u001b[0m\u001b[0;34m\u001b[0m\u001b[0;34m\u001b[0m\u001b[0m\n\u001b[0m\u001b[1;32m    371\u001b[0m         \u001b[0mend\u001b[0m \u001b[0;34m=\u001b[0m \u001b[0m_w\u001b[0m\u001b[0;34m(\u001b[0m\u001b[0ms\u001b[0m\u001b[0;34m,\u001b[0m \u001b[0mend\u001b[0m\u001b[0;34m)\u001b[0m\u001b[0;34m.\u001b[0m\u001b[0mend\u001b[0m\u001b[0;34m(\u001b[0m\u001b[0;34m)\u001b[0m\u001b[0;34m\u001b[0m\u001b[0;34m\u001b[0m\u001b[0m\n",
      "\u001b[0;32m~/.conda/envs/myenv/lib/python3.7/site-packages/simplejson/decoder.py\u001b[0m in \u001b[0;36mraw_decode\u001b[0;34m(self, s, idx, _w, _PY3)\u001b[0m\n\u001b[1;32m    399\u001b[0m                 \u001b[0midx\u001b[0m \u001b[0;34m+=\u001b[0m \u001b[0;36m3\u001b[0m\u001b[0;34m\u001b[0m\u001b[0;34m\u001b[0m\u001b[0m\n\u001b[0;32m--> 400\u001b[0;31m         \u001b[0;32mreturn\u001b[0m \u001b[0mself\u001b[0m\u001b[0;34m.\u001b[0m\u001b[0mscan_once\u001b[0m\u001b[0;34m(\u001b[0m\u001b[0ms\u001b[0m\u001b[0;34m,\u001b[0m \u001b[0midx\u001b[0m\u001b[0;34m=\u001b[0m\u001b[0m_w\u001b[0m\u001b[0;34m(\u001b[0m\u001b[0ms\u001b[0m\u001b[0;34m,\u001b[0m \u001b[0midx\u001b[0m\u001b[0;34m)\u001b[0m\u001b[0;34m.\u001b[0m\u001b[0mend\u001b[0m\u001b[0;34m(\u001b[0m\u001b[0;34m)\u001b[0m\u001b[0;34m)\u001b[0m\u001b[0;34m\u001b[0m\u001b[0;34m\u001b[0m\u001b[0m\n\u001b[0m",
      "\u001b[0;31mJSONDecodeError\u001b[0m: Expecting value: line 1 column 1 (char 0)",
      "\nDuring handling of the above exception, another exception occurred:\n",
      "\u001b[0;31mJSONDecodeError\u001b[0m                           Traceback (most recent call last)",
      "\u001b[0;32m/tmp/ipykernel_19211/3313964660.py\u001b[0m in \u001b[0;36m<module>\u001b[0;34m\u001b[0m\n\u001b[1;32m      1\u001b[0m \u001b[0mvariables\u001b[0m \u001b[0;34m=\u001b[0m \u001b[0;34m'B18101_004E,B18101_007E,B18101_010E,B18101_013E,B18101_016E,B18101_019E,B18101_002E,B18101_023E,B18101_026E,B18101_029E,B18101_032E,B18101_035E,B18101_038E,B18101_021E'\u001b[0m\u001b[0;34m\u001b[0m\u001b[0;34m\u001b[0m\u001b[0m\n\u001b[0;32m----> 2\u001b[0;31m \u001b[0mdf13\u001b[0m \u001b[0;34m=\u001b[0m \u001b[0mcollectAll_county2\u001b[0m\u001b[0;34m(\u001b[0m\u001b[0myear\u001b[0m\u001b[0;34m,\u001b[0m\u001b[0mvariables\u001b[0m\u001b[0;34m)\u001b[0m\u001b[0;34m\u001b[0m\u001b[0;34m\u001b[0m\u001b[0m\n\u001b[0m",
      "\u001b[0;32m/tmp/ipykernel_19211/1958917764.py\u001b[0m in \u001b[0;36mcollectAll_county2\u001b[0;34m(year, variables)\u001b[0m\n\u001b[1;32m      2\u001b[0m     \u001b[0mbasic_url\u001b[0m \u001b[0;34m=\u001b[0m \u001b[0;34m'https://api.census.gov/data/'\u001b[0m \u001b[0;34m+\u001b[0m \u001b[0myear\u001b[0m \u001b[0;34m+\u001b[0m \u001b[0;34m'/acs/acs1?get=NAME,'\u001b[0m\u001b[0;34m+\u001b[0m \u001b[0mvariables\u001b[0m \u001b[0;34m+\u001b[0m \u001b[0;34m'&for=county:*&in=state:*'\u001b[0m\u001b[0;34m\u001b[0m\u001b[0;34m\u001b[0m\u001b[0m\n\u001b[1;32m      3\u001b[0m     \u001b[0mr\u001b[0m \u001b[0;34m=\u001b[0m \u001b[0mrequests\u001b[0m\u001b[0;34m.\u001b[0m\u001b[0mget\u001b[0m\u001b[0;34m(\u001b[0m\u001b[0mbasic_url\u001b[0m\u001b[0;34m)\u001b[0m\u001b[0;34m\u001b[0m\u001b[0;34m\u001b[0m\u001b[0m\n\u001b[0;32m----> 4\u001b[0;31m     \u001b[0mx\u001b[0m \u001b[0;34m=\u001b[0m \u001b[0mr\u001b[0m\u001b[0;34m.\u001b[0m\u001b[0mjson\u001b[0m\u001b[0;34m(\u001b[0m\u001b[0;34m)\u001b[0m\u001b[0;34m\u001b[0m\u001b[0;34m\u001b[0m\u001b[0m\n\u001b[0m\u001b[1;32m      5\u001b[0m     \u001b[0mprint\u001b[0m\u001b[0;34m(\u001b[0m\u001b[0mx\u001b[0m\u001b[0;34m[\u001b[0m\u001b[0;36m0\u001b[0m\u001b[0;34m]\u001b[0m\u001b[0;34m)\u001b[0m\u001b[0;34m\u001b[0m\u001b[0;34m\u001b[0m\u001b[0m\n\u001b[1;32m      6\u001b[0m     \u001b[0mvariable_list\u001b[0m \u001b[0;34m=\u001b[0m \u001b[0mvariables\u001b[0m\u001b[0;34m.\u001b[0m\u001b[0msplit\u001b[0m\u001b[0;34m(\u001b[0m\u001b[0;34m','\u001b[0m\u001b[0;34m)\u001b[0m\u001b[0;34m\u001b[0m\u001b[0;34m\u001b[0m\u001b[0m\n",
      "\u001b[0;32m~/.conda/envs/myenv/lib/python3.7/site-packages/requests/models.py\u001b[0m in \u001b[0;36mjson\u001b[0;34m(self, **kwargs)\u001b[0m\n\u001b[1;32m    973\u001b[0m             \u001b[0;31m# Catch JSON-related errors and raise as requests.JSONDecodeError\u001b[0m\u001b[0;34m\u001b[0m\u001b[0;34m\u001b[0m\u001b[0;34m\u001b[0m\u001b[0m\n\u001b[1;32m    974\u001b[0m             \u001b[0;31m# This aliases json.JSONDecodeError and simplejson.JSONDecodeError\u001b[0m\u001b[0;34m\u001b[0m\u001b[0;34m\u001b[0m\u001b[0;34m\u001b[0m\u001b[0m\n\u001b[0;32m--> 975\u001b[0;31m             \u001b[0;32mraise\u001b[0m \u001b[0mRequestsJSONDecodeError\u001b[0m\u001b[0;34m(\u001b[0m\u001b[0me\u001b[0m\u001b[0;34m.\u001b[0m\u001b[0mmsg\u001b[0m\u001b[0;34m,\u001b[0m \u001b[0me\u001b[0m\u001b[0;34m.\u001b[0m\u001b[0mdoc\u001b[0m\u001b[0;34m,\u001b[0m \u001b[0me\u001b[0m\u001b[0;34m.\u001b[0m\u001b[0mpos\u001b[0m\u001b[0;34m)\u001b[0m\u001b[0;34m\u001b[0m\u001b[0;34m\u001b[0m\u001b[0m\n\u001b[0m\u001b[1;32m    976\u001b[0m \u001b[0;34m\u001b[0m\u001b[0m\n\u001b[1;32m    977\u001b[0m     \u001b[0;34m@\u001b[0m\u001b[0mproperty\u001b[0m\u001b[0;34m\u001b[0m\u001b[0;34m\u001b[0m\u001b[0m\n",
      "\u001b[0;31mJSONDecodeError\u001b[0m: Expecting value: line 1 column 1 (char 0)"
     ]
    }
   ],
   "source": [
    "variables = 'B18101_004E,B18101_007E,B18101_010E,B18101_013E,B18101_016E,B18101_019E,B18101_002E,B18101_023E,B18101_026E,B18101_029E,B18101_032E,B18101_035E,B18101_038E,B18101_021E'\n",
    "df13 = collectAll_county2(year,variables)"
   ]
  },
  {
   "cell_type": "code",
   "execution_count": null,
   "id": "33abb6e8-5a53-423b-a4b2-c6b14f590b39",
   "metadata": {},
   "outputs": [],
   "source": [
    "df13.shape"
   ]
  },
  {
   "cell_type": "code",
   "execution_count": 72,
   "id": "27f65624-f448-401a-804f-ae498856af93",
   "metadata": {},
   "outputs": [],
   "source": [
    "df13['B18101_004E'] = df13['B18101_004E'].apply(changeInteger)\n",
    "df13['B18101_007E'] = df13['B18101_007E'].apply(changeInteger)\n",
    "df13['B18101_010E'] = df13['B18101_010E'].apply(changeInteger)\n",
    "df13['B18101_013E'] = df13['B18101_013E'].apply(changeInteger)\n",
    "df13['B18101_016E'] = df13['B18101_016E'].apply(changeInteger)\n",
    "df13['B18101_002E'] = df13['B18101_002E'].apply(changeInteger)\n",
    "df13['B18101_023E'] = df13['B18101_023E'].apply(changeInteger)\n",
    "df13['B18101_026E'] = df13['B18101_026E'].apply(changeInteger)\n",
    "df13['B18101_029E'] = df13['B18101_029E'].apply(changeInteger)\n",
    "df13['B18101_032E'] = df13['B18101_032E'].apply(changeInteger)\n",
    "df13['B18101_035E'] = df13['B18101_035E'].apply(changeInteger)\n",
    "df13['B18101_038E'] = df13['B18101_038E'].apply(changeInteger)\n",
    "df13['B18101_021E'] = df13['B18101_021E'].apply(changeInteger)"
   ]
  },
  {
   "cell_type": "code",
   "execution_count": 73,
   "id": "3152ec37-5bda-4767-a23b-4af35f4a80a7",
   "metadata": {},
   "outputs": [],
   "source": [
    "df13['percent_disabled'] = ((df13['B18101_004E']+df13['B18101_007E']+df13['B18101_010E']+df13['B18101_013E']+df13['B18101_016E'])/df13['B18101_002E'] + (df13['B18101_023E']+df13['B18101_026E']+df13['B18101_029E']+df13['B18101_032E']+df13['B18101_035E']+df13['B18101_038E'])/df13['B18101_021E'])*100"
   ]
  },
  {
   "cell_type": "code",
   "execution_count": 74,
   "id": "2ff35508-4ed4-4ee4-89e6-459ec0fb53f4",
   "metadata": {},
   "outputs": [
    {
     "data": {
      "text/html": [
       "<div>\n",
       "<style scoped>\n",
       "    .dataframe tbody tr th:only-of-type {\n",
       "        vertical-align: middle;\n",
       "    }\n",
       "\n",
       "    .dataframe tbody tr th {\n",
       "        vertical-align: top;\n",
       "    }\n",
       "\n",
       "    .dataframe thead th {\n",
       "        text-align: right;\n",
       "    }\n",
       "</style>\n",
       "<table border=\"1\" class=\"dataframe\">\n",
       "  <thead>\n",
       "    <tr style=\"text-align: right;\">\n",
       "      <th></th>\n",
       "      <th>county_name</th>\n",
       "      <th>B18101_004E</th>\n",
       "      <th>B18101_007E</th>\n",
       "      <th>B18101_010E</th>\n",
       "      <th>B18101_013E</th>\n",
       "      <th>B18101_016E</th>\n",
       "      <th>B18101_019E</th>\n",
       "      <th>B18101_002E</th>\n",
       "      <th>B18101_023E</th>\n",
       "      <th>B18101_026E</th>\n",
       "      <th>B18101_029E</th>\n",
       "      <th>B18101_032E</th>\n",
       "      <th>B18101_035E</th>\n",
       "      <th>B18101_038E</th>\n",
       "      <th>B18101_021E</th>\n",
       "      <th>state code</th>\n",
       "      <th>county code</th>\n",
       "      <th>percent_disabled</th>\n",
       "      <th>fips</th>\n",
       "    </tr>\n",
       "  </thead>\n",
       "  <tbody>\n",
       "    <tr>\n",
       "      <th>0</th>\n",
       "      <td>El Paso County, Texas</td>\n",
       "      <td>0</td>\n",
       "      <td>4649</td>\n",
       "      <td>3632</td>\n",
       "      <td>15570</td>\n",
       "      <td>5729</td>\n",
       "      <td>7714</td>\n",
       "      <td>347383</td>\n",
       "      <td>214</td>\n",
       "      <td>2309</td>\n",
       "      <td>3585</td>\n",
       "      <td>17446</td>\n",
       "      <td>7555</td>\n",
       "      <td>13989</td>\n",
       "      <td>383941</td>\n",
       "      <td>48</td>\n",
       "      <td>141</td>\n",
       "      <td>20.261173</td>\n",
       "      <td>48141</td>\n",
       "    </tr>\n",
       "    <tr>\n",
       "      <th>1</th>\n",
       "      <td>Fort Bend County, Texas</td>\n",
       "      <td>148</td>\n",
       "      <td>2730</td>\n",
       "      <td>2473</td>\n",
       "      <td>8295</td>\n",
       "      <td>2182</td>\n",
       "      <td>3709</td>\n",
       "      <td>272988</td>\n",
       "      <td>0</td>\n",
       "      <td>1637</td>\n",
       "      <td>1615</td>\n",
       "      <td>7413</td>\n",
       "      <td>2793</td>\n",
       "      <td>4939</td>\n",
       "      <td>278447</td>\n",
       "      <td>48</td>\n",
       "      <td>157</td>\n",
       "      <td>12.405059</td>\n",
       "      <td>48157</td>\n",
       "    </tr>\n",
       "    <tr>\n",
       "      <th>2</th>\n",
       "      <td>Galveston County, Texas</td>\n",
       "      <td>107</td>\n",
       "      <td>1802</td>\n",
       "      <td>980</td>\n",
       "      <td>6907</td>\n",
       "      <td>2046</td>\n",
       "      <td>2725</td>\n",
       "      <td>138863</td>\n",
       "      <td>0</td>\n",
       "      <td>968</td>\n",
       "      <td>1080</td>\n",
       "      <td>6778</td>\n",
       "      <td>2709</td>\n",
       "      <td>4987</td>\n",
       "      <td>145464</td>\n",
       "      <td>48</td>\n",
       "      <td>167</td>\n",
       "      <td>19.885966</td>\n",
       "      <td>48167</td>\n",
       "    </tr>\n",
       "    <tr>\n",
       "      <th>3</th>\n",
       "      <td>Grayson County, Texas</td>\n",
       "      <td>0</td>\n",
       "      <td>542</td>\n",
       "      <td>364</td>\n",
       "      <td>3851</td>\n",
       "      <td>1912</td>\n",
       "      <td>1603</td>\n",
       "      <td>57965</td>\n",
       "      <td>0</td>\n",
       "      <td>853</td>\n",
       "      <td>574</td>\n",
       "      <td>4168</td>\n",
       "      <td>1230</td>\n",
       "      <td>2649</td>\n",
       "      <td>60448</td>\n",
       "      <td>48</td>\n",
       "      <td>181</td>\n",
       "      <td>27.178194</td>\n",
       "      <td>48181</td>\n",
       "    </tr>\n",
       "    <tr>\n",
       "      <th>4</th>\n",
       "      <td>Gregg County, Texas</td>\n",
       "      <td>93</td>\n",
       "      <td>1371</td>\n",
       "      <td>1257</td>\n",
       "      <td>3394</td>\n",
       "      <td>1186</td>\n",
       "      <td>1236</td>\n",
       "      <td>56665</td>\n",
       "      <td>0</td>\n",
       "      <td>750</td>\n",
       "      <td>568</td>\n",
       "      <td>4653</td>\n",
       "      <td>1267</td>\n",
       "      <td>3063</td>\n",
       "      <td>61612</td>\n",
       "      <td>48</td>\n",
       "      <td>183</td>\n",
       "      <td>29.603642</td>\n",
       "      <td>48183</td>\n",
       "    </tr>\n",
       "  </tbody>\n",
       "</table>\n",
       "</div>"
      ],
      "text/plain": [
       "               county_name  B18101_004E  B18101_007E  B18101_010E  \\\n",
       "0    El Paso County, Texas            0         4649         3632   \n",
       "1  Fort Bend County, Texas          148         2730         2473   \n",
       "2  Galveston County, Texas          107         1802          980   \n",
       "3    Grayson County, Texas            0          542          364   \n",
       "4      Gregg County, Texas           93         1371         1257   \n",
       "\n",
       "   B18101_013E  B18101_016E B18101_019E  B18101_002E  B18101_023E  \\\n",
       "0        15570         5729        7714       347383          214   \n",
       "1         8295         2182        3709       272988            0   \n",
       "2         6907         2046        2725       138863            0   \n",
       "3         3851         1912        1603        57965            0   \n",
       "4         3394         1186        1236        56665            0   \n",
       "\n",
       "   B18101_026E  B18101_029E  B18101_032E  B18101_035E  B18101_038E  \\\n",
       "0         2309         3585        17446         7555        13989   \n",
       "1         1637         1615         7413         2793         4939   \n",
       "2          968         1080         6778         2709         4987   \n",
       "3          853          574         4168         1230         2649   \n",
       "4          750          568         4653         1267         3063   \n",
       "\n",
       "   B18101_021E state code county code  percent_disabled   fips  \n",
       "0       383941         48         141         20.261173  48141  \n",
       "1       278447         48         157         12.405059  48157  \n",
       "2       145464         48         167         19.885966  48167  \n",
       "3        60448         48         181         27.178194  48181  \n",
       "4        61612         48         183         29.603642  48183  "
      ]
     },
     "execution_count": 74,
     "metadata": {},
     "output_type": "execute_result"
    }
   ],
   "source": [
    "df13['fips'] = df13['state code'] + df13['county code']\n",
    "df13.head()"
   ]
  },
  {
   "cell_type": "markdown",
   "id": "e94438b4-e185-4f2d-89cd-369beeacf4be",
   "metadata": {},
   "source": [
    "#### 14.Percent of Population Living in Group Quarters: B26001_001E/B01003_001E"
   ]
  },
  {
   "cell_type": "code",
   "execution_count": 71,
   "id": "c4352062-4f3f-4d14-8968-3c70d8a3228f",
   "metadata": {},
   "outputs": [
    {
     "name": "stdout",
     "output_type": "stream",
     "text": [
      "['NAME', 'B26001_001E', 'B01003_001E', 'state', 'county']\n"
     ]
    }
   ],
   "source": [
    "variables = 'B26001_001E,B01003_001E'\n",
    "df14 = collectAll_county(year,variables)"
   ]
  },
  {
   "cell_type": "code",
   "execution_count": 72,
   "id": "ce36db24-97f4-43c4-bb4b-43ad3181d51b",
   "metadata": {},
   "outputs": [
    {
     "data": {
      "text/plain": [
       "(1882, 5)"
      ]
     },
     "execution_count": 72,
     "metadata": {},
     "output_type": "execute_result"
    }
   ],
   "source": [
    "df14.shape"
   ]
  },
  {
   "cell_type": "code",
   "execution_count": 73,
   "id": "67a5eb8e-0e90-4e1e-8c02-b74ac7717e5d",
   "metadata": {},
   "outputs": [],
   "source": [
    "df14['B26001_001E'] = df14['B26001_001E'].apply(changeInteger)\n",
    "df14['B01003_001E'] = df14['B01003_001E'].apply(changeInteger)"
   ]
  },
  {
   "cell_type": "code",
   "execution_count": 74,
   "id": "0fc7a5a2-9133-4096-b752-b1241ab76905",
   "metadata": {},
   "outputs": [],
   "source": [
    "df14['percent_institutionalized_in_group_quarters'] = (df14['B26001_001E']/df14['B01003_001E'])*100"
   ]
  },
  {
   "cell_type": "code",
   "execution_count": 75,
   "id": "a499fda8-15f8-448e-93fd-aa3b2eb601cf",
   "metadata": {},
   "outputs": [
    {
     "data": {
      "text/html": [
       "<div>\n",
       "<style scoped>\n",
       "    .dataframe tbody tr th:only-of-type {\n",
       "        vertical-align: middle;\n",
       "    }\n",
       "\n",
       "    .dataframe tbody tr th {\n",
       "        vertical-align: top;\n",
       "    }\n",
       "\n",
       "    .dataframe thead th {\n",
       "        text-align: right;\n",
       "    }\n",
       "</style>\n",
       "<table border=\"1\" class=\"dataframe\">\n",
       "  <thead>\n",
       "    <tr style=\"text-align: right;\">\n",
       "      <th></th>\n",
       "      <th>county_name</th>\n",
       "      <th>B26001_001E</th>\n",
       "      <th>B01003_001E</th>\n",
       "      <th>state code</th>\n",
       "      <th>county code</th>\n",
       "      <th>percent_institutionalized_in_group_quarters</th>\n",
       "      <th>fips</th>\n",
       "    </tr>\n",
       "  </thead>\n",
       "  <tbody>\n",
       "    <tr>\n",
       "      <th>0</th>\n",
       "      <td>Leake County, Mississippi</td>\n",
       "      <td>702.0</td>\n",
       "      <td>22636</td>\n",
       "      <td>28</td>\n",
       "      <td>079</td>\n",
       "      <td>3.101255</td>\n",
       "      <td>28079</td>\n",
       "    </tr>\n",
       "    <tr>\n",
       "      <th>1</th>\n",
       "      <td>Lee County, Mississippi</td>\n",
       "      <td>1891.0</td>\n",
       "      <td>79343</td>\n",
       "      <td>28</td>\n",
       "      <td>081</td>\n",
       "      <td>2.383323</td>\n",
       "      <td>28081</td>\n",
       "    </tr>\n",
       "    <tr>\n",
       "      <th>2</th>\n",
       "      <td>Leflore County, Mississippi</td>\n",
       "      <td>1616.0</td>\n",
       "      <td>35229</td>\n",
       "      <td>28</td>\n",
       "      <td>083</td>\n",
       "      <td>4.587130</td>\n",
       "      <td>28083</td>\n",
       "    </tr>\n",
       "    <tr>\n",
       "      <th>3</th>\n",
       "      <td>Lincoln County, Mississippi</td>\n",
       "      <td>238.0</td>\n",
       "      <td>34169</td>\n",
       "      <td>28</td>\n",
       "      <td>085</td>\n",
       "      <td>0.696538</td>\n",
       "      <td>28085</td>\n",
       "    </tr>\n",
       "    <tr>\n",
       "      <th>4</th>\n",
       "      <td>Lowndes County, Mississippi</td>\n",
       "      <td>2830.0</td>\n",
       "      <td>59559</td>\n",
       "      <td>28</td>\n",
       "      <td>087</td>\n",
       "      <td>4.751591</td>\n",
       "      <td>28087</td>\n",
       "    </tr>\n",
       "  </tbody>\n",
       "</table>\n",
       "</div>"
      ],
      "text/plain": [
       "                   county_name  B26001_001E  B01003_001E state code  \\\n",
       "0    Leake County, Mississippi        702.0        22636         28   \n",
       "1      Lee County, Mississippi       1891.0        79343         28   \n",
       "2  Leflore County, Mississippi       1616.0        35229         28   \n",
       "3  Lincoln County, Mississippi        238.0        34169         28   \n",
       "4  Lowndes County, Mississippi       2830.0        59559         28   \n",
       "\n",
       "  county code  percent_institutionalized_in_group_quarters   fips  \n",
       "0         079                                     3.101255  28079  \n",
       "1         081                                     2.383323  28081  \n",
       "2         083                                     4.587130  28083  \n",
       "3         085                                     0.696538  28085  \n",
       "4         087                                     4.751591  28087  "
      ]
     },
     "execution_count": 75,
     "metadata": {},
     "output_type": "execute_result"
    }
   ],
   "source": [
    "df14['fips'] = df14['state code'] + df14['county code']\n",
    "df14.head()"
   ]
  },
  {
   "cell_type": "markdown",
   "id": "74b84cad-5d54-44dd-9cb8-1c663ac8ca10",
   "metadata": {},
   "source": [
    "#### 15.Percent of Children Living in Single Parent Households: (B09008_010E+B09008_011E+B09008_012E)/B09008_001E"
   ]
  },
  {
   "cell_type": "code",
   "execution_count": 76,
   "id": "bff02592-6a29-43d7-92c2-5b580485d18c",
   "metadata": {},
   "outputs": [
    {
     "name": "stdout",
     "output_type": "stream",
     "text": [
      "['NAME', 'B09008_010E', 'B09008_011E', 'B09008_012E', 'B09008_001E', 'state', 'county']\n"
     ]
    }
   ],
   "source": [
    "variables = 'B09008_010E,B09008_011E,B09008_012E,B09008_001E'\n",
    "df15 = collectAll_county2(year,variables)"
   ]
  },
  {
   "cell_type": "code",
   "execution_count": 77,
   "id": "cc8d4588-83c4-4f84-84d0-1a379ce8de09",
   "metadata": {},
   "outputs": [
    {
     "data": {
      "text/plain": [
       "(800, 7)"
      ]
     },
     "execution_count": 77,
     "metadata": {},
     "output_type": "execute_result"
    }
   ],
   "source": [
    "df15.shape"
   ]
  },
  {
   "cell_type": "code",
   "execution_count": 78,
   "id": "0aecfcf2-8774-4221-b2b3-d671c79d60e7",
   "metadata": {},
   "outputs": [],
   "source": [
    "df15['B09008_010E'] = df15['B09008_010E'].apply(changeInteger)\n",
    "df15['B09008_011E'] = df15['B09008_011E'].apply(changeInteger)\n",
    "df15['B09008_012E'] = df15['B09008_012E'].apply(changeInteger)\n",
    "df15['B09008_001E'] = df15['B09008_001E'].apply(changeInteger)"
   ]
  },
  {
   "cell_type": "code",
   "execution_count": 79,
   "id": "48279050-99e3-401e-97d2-801d995710c2",
   "metadata": {},
   "outputs": [],
   "source": [
    "df15['percent_single_parent_households_CDC'] = ((df15['B09008_010E'] + df15['B09008_011E']+df15['B09008_012E'])/df15['B09008_001E'])*100"
   ]
  },
  {
   "cell_type": "code",
   "execution_count": 80,
   "id": "ff96d4cd-45ba-4f4c-b57b-5b4c0f397a84",
   "metadata": {},
   "outputs": [
    {
     "data": {
      "text/html": [
       "<div>\n",
       "<style scoped>\n",
       "    .dataframe tbody tr th:only-of-type {\n",
       "        vertical-align: middle;\n",
       "    }\n",
       "\n",
       "    .dataframe tbody tr th {\n",
       "        vertical-align: top;\n",
       "    }\n",
       "\n",
       "    .dataframe thead th {\n",
       "        text-align: right;\n",
       "    }\n",
       "</style>\n",
       "<table border=\"1\" class=\"dataframe\">\n",
       "  <thead>\n",
       "    <tr style=\"text-align: right;\">\n",
       "      <th></th>\n",
       "      <th>county_name</th>\n",
       "      <th>B09008_010E</th>\n",
       "      <th>B09008_011E</th>\n",
       "      <th>B09008_012E</th>\n",
       "      <th>B09008_001E</th>\n",
       "      <th>state code</th>\n",
       "      <th>county code</th>\n",
       "      <th>percent_single_parent_households_CDC</th>\n",
       "      <th>fips</th>\n",
       "    </tr>\n",
       "  </thead>\n",
       "  <tbody>\n",
       "    <tr>\n",
       "      <th>0</th>\n",
       "      <td>Livingston Parish, Louisiana</td>\n",
       "      <td>2151.0</td>\n",
       "      <td>5188.0</td>\n",
       "      <td>39.0</td>\n",
       "      <td>31723.0</td>\n",
       "      <td>22</td>\n",
       "      <td>063</td>\n",
       "      <td>23.257573</td>\n",
       "      <td>22063</td>\n",
       "    </tr>\n",
       "    <tr>\n",
       "      <th>1</th>\n",
       "      <td>Orleans Parish, Louisiana</td>\n",
       "      <td>1015.0</td>\n",
       "      <td>23832.0</td>\n",
       "      <td>53.0</td>\n",
       "      <td>44088.0</td>\n",
       "      <td>22</td>\n",
       "      <td>071</td>\n",
       "      <td>56.477953</td>\n",
       "      <td>22071</td>\n",
       "    </tr>\n",
       "    <tr>\n",
       "      <th>2</th>\n",
       "      <td>Ouachita Parish, Louisiana</td>\n",
       "      <td>1223.0</td>\n",
       "      <td>15329.0</td>\n",
       "      <td>163.0</td>\n",
       "      <td>38990.0</td>\n",
       "      <td>22</td>\n",
       "      <td>073</td>\n",
       "      <td>42.869967</td>\n",
       "      <td>22073</td>\n",
       "    </tr>\n",
       "    <tr>\n",
       "      <th>3</th>\n",
       "      <td>Rapides Parish, Louisiana</td>\n",
       "      <td>992.0</td>\n",
       "      <td>10895.0</td>\n",
       "      <td>235.0</td>\n",
       "      <td>32765.0</td>\n",
       "      <td>22</td>\n",
       "      <td>079</td>\n",
       "      <td>36.996795</td>\n",
       "      <td>22079</td>\n",
       "    </tr>\n",
       "    <tr>\n",
       "      <th>4</th>\n",
       "      <td>St. Landry Parish, Louisiana</td>\n",
       "      <td>572.0</td>\n",
       "      <td>9126.0</td>\n",
       "      <td>0.0</td>\n",
       "      <td>24647.0</td>\n",
       "      <td>22</td>\n",
       "      <td>097</td>\n",
       "      <td>39.347588</td>\n",
       "      <td>22097</td>\n",
       "    </tr>\n",
       "  </tbody>\n",
       "</table>\n",
       "</div>"
      ],
      "text/plain": [
       "                    county_name  B09008_010E  B09008_011E  B09008_012E  \\\n",
       "0  Livingston Parish, Louisiana       2151.0       5188.0         39.0   \n",
       "1     Orleans Parish, Louisiana       1015.0      23832.0         53.0   \n",
       "2    Ouachita Parish, Louisiana       1223.0      15329.0        163.0   \n",
       "3     Rapides Parish, Louisiana        992.0      10895.0        235.0   \n",
       "4  St. Landry Parish, Louisiana        572.0       9126.0          0.0   \n",
       "\n",
       "   B09008_001E state code county code  percent_single_parent_households_CDC  \\\n",
       "0      31723.0         22         063                             23.257573   \n",
       "1      44088.0         22         071                             56.477953   \n",
       "2      38990.0         22         073                             42.869967   \n",
       "3      32765.0         22         079                             36.996795   \n",
       "4      24647.0         22         097                             39.347588   \n",
       "\n",
       "    fips  \n",
       "0  22063  \n",
       "1  22071  \n",
       "2  22073  \n",
       "3  22079  \n",
       "4  22097  "
      ]
     },
     "execution_count": 80,
     "metadata": {},
     "output_type": "execute_result"
    }
   ],
   "source": [
    "df15['fips'] = df15['state code'] + df15['county code']\n",
    "df15.head()"
   ]
  },
  {
   "cell_type": "markdown",
   "id": "5acf173f-f4e1-4ded-a20b-61609a7be6a1",
   "metadata": {},
   "source": [
    "### age 18 to 34\n",
    "#### (B01001_007E+B01001_008E+B01001_009E+B01001_010E+B01001_011E+B01001_012E+B01001_031E+B01001_032E+B01001_033E+B01001_034E+B01001_035E+B01001_036E)/B01001_001E"
   ]
  },
  {
   "cell_type": "code",
   "execution_count": 81,
   "id": "330f9eb3-7e29-4ad8-9245-a595906bc370",
   "metadata": {},
   "outputs": [
    {
     "name": "stdout",
     "output_type": "stream",
     "text": [
      "['NAME', 'B01001_007E', 'B01001_008E', 'B01001_009E', 'B01001_010E', 'B01001_011E', 'B01001_012E', 'B01001_031E', 'B01001_032E', 'B01001_033E', 'B01001_034E', 'B01001_035E', 'B01001_036E', 'B01001_001E', 'state', 'county']\n"
     ]
    }
   ],
   "source": [
    "variables = 'B01001_007E,B01001_008E,B01001_009E,B01001_010E,B01001_011E,B01001_012E,B01001_031E,B01001_032E,B01001_033E,B01001_034E,B01001_035E,B01001_036E,B01001_001E'\n",
    "df16 = collectAll_county(year,variables)"
   ]
  },
  {
   "cell_type": "code",
   "execution_count": 82,
   "id": "6f63b764-614b-49c4-ab6e-c7844b362c09",
   "metadata": {},
   "outputs": [],
   "source": [
    "df16['B01001_007E'] = df16['B01001_007E'].apply(changeInteger)\n",
    "df16['B01001_008E'] = df16['B01001_008E'].apply(changeInteger)\n",
    "df16['B01001_009E'] = df16['B01001_009E'].apply(changeInteger)\n",
    "df16['B01001_010E'] = df16['B01001_010E'].apply(changeInteger)\n",
    "df16['B01001_011E'] = df16['B01001_011E'].apply(changeInteger)\n",
    "df16['B01001_012E'] = df16['B01001_012E'].apply(changeInteger)\n",
    "df16['B01001_031E'] = df16['B01001_031E'].apply(changeInteger)\n",
    "df16['B01001_032E'] = df16['B01001_032E'].apply(changeInteger)\n",
    "df16['B01001_033E'] = df16['B01001_033E'].apply(changeInteger)\n",
    "df16['B01001_034E'] = df16['B01001_034E'].apply(changeInteger)\n",
    "df16['B01001_035E'] = df16['B01001_035E'].apply(changeInteger)\n",
    "df16['B01001_036E'] = df16['B01001_036E'].apply(changeInteger)\n",
    "df16['B01001_001E'] = df16['B01001_001E'].apply(changeInteger)"
   ]
  },
  {
   "cell_type": "code",
   "execution_count": 83,
   "id": "086b601c-6584-4cec-b89e-6738c02f4918",
   "metadata": {},
   "outputs": [],
   "source": [
    "df16['percent_age_18_to_34'] = ((df16['B01001_007E'] + df16['B01001_008E'] +df16['B01001_009E'] +df16['B01001_010E'] +df16['B01001_011E']+df16['B01001_012E']+df16['B01001_031E']+df16['B01001_032E']+df16['B01001_033E']+df16['B01001_034E']+df16['B01001_035E']+df16['B01001_036E'])/df16['B01001_001E'])*100"
   ]
  },
  {
   "cell_type": "code",
   "execution_count": 84,
   "id": "4cf1c1e8-6ddb-4691-b8dd-fdf25c669094",
   "metadata": {},
   "outputs": [
    {
     "data": {
      "text/html": [
       "<div>\n",
       "<style scoped>\n",
       "    .dataframe tbody tr th:only-of-type {\n",
       "        vertical-align: middle;\n",
       "    }\n",
       "\n",
       "    .dataframe tbody tr th {\n",
       "        vertical-align: top;\n",
       "    }\n",
       "\n",
       "    .dataframe thead th {\n",
       "        text-align: right;\n",
       "    }\n",
       "</style>\n",
       "<table border=\"1\" class=\"dataframe\">\n",
       "  <thead>\n",
       "    <tr style=\"text-align: right;\">\n",
       "      <th></th>\n",
       "      <th>county_name</th>\n",
       "      <th>B01001_007E</th>\n",
       "      <th>B01001_008E</th>\n",
       "      <th>B01001_009E</th>\n",
       "      <th>B01001_010E</th>\n",
       "      <th>B01001_011E</th>\n",
       "      <th>B01001_012E</th>\n",
       "      <th>B01001_031E</th>\n",
       "      <th>B01001_032E</th>\n",
       "      <th>B01001_033E</th>\n",
       "      <th>B01001_034E</th>\n",
       "      <th>B01001_035E</th>\n",
       "      <th>B01001_036E</th>\n",
       "      <th>B01001_001E</th>\n",
       "      <th>state code</th>\n",
       "      <th>county code</th>\n",
       "      <th>percent_age_18_to_34</th>\n",
       "      <th>fips</th>\n",
       "    </tr>\n",
       "  </thead>\n",
       "  <tbody>\n",
       "    <tr>\n",
       "      <th>0</th>\n",
       "      <td>Cumberland County, Maine</td>\n",
       "      <td>3890</td>\n",
       "      <td>1554</td>\n",
       "      <td>2202</td>\n",
       "      <td>4606</td>\n",
       "      <td>6713</td>\n",
       "      <td>8544</td>\n",
       "      <td>3558</td>\n",
       "      <td>1729</td>\n",
       "      <td>2029</td>\n",
       "      <td>4143</td>\n",
       "      <td>6893</td>\n",
       "      <td>8305</td>\n",
       "      <td>274712</td>\n",
       "      <td>23</td>\n",
       "      <td>005</td>\n",
       "      <td>19.717377</td>\n",
       "      <td>23005</td>\n",
       "    </tr>\n",
       "    <tr>\n",
       "      <th>1</th>\n",
       "      <td>Franklin County, Maine</td>\n",
       "      <td>468</td>\n",
       "      <td>417</td>\n",
       "      <td>189</td>\n",
       "      <td>548</td>\n",
       "      <td>884</td>\n",
       "      <td>702</td>\n",
       "      <td>744</td>\n",
       "      <td>301</td>\n",
       "      <td>425</td>\n",
       "      <td>533</td>\n",
       "      <td>951</td>\n",
       "      <td>821</td>\n",
       "      <td>29840</td>\n",
       "      <td>23</td>\n",
       "      <td>007</td>\n",
       "      <td>23.401475</td>\n",
       "      <td>23007</td>\n",
       "    </tr>\n",
       "    <tr>\n",
       "      <th>2</th>\n",
       "      <td>Hancock County, Maine</td>\n",
       "      <td>706</td>\n",
       "      <td>425</td>\n",
       "      <td>316</td>\n",
       "      <td>1039</td>\n",
       "      <td>1299</td>\n",
       "      <td>1373</td>\n",
       "      <td>573</td>\n",
       "      <td>300</td>\n",
       "      <td>317</td>\n",
       "      <td>780</td>\n",
       "      <td>1357</td>\n",
       "      <td>1478</td>\n",
       "      <td>53208</td>\n",
       "      <td>23</td>\n",
       "      <td>009</td>\n",
       "      <td>18.724628</td>\n",
       "      <td>23009</td>\n",
       "    </tr>\n",
       "    <tr>\n",
       "      <th>3</th>\n",
       "      <td>Kennebec County, Maine</td>\n",
       "      <td>1690</td>\n",
       "      <td>884</td>\n",
       "      <td>699</td>\n",
       "      <td>1983</td>\n",
       "      <td>3554</td>\n",
       "      <td>3182</td>\n",
       "      <td>1601</td>\n",
       "      <td>1043</td>\n",
       "      <td>666</td>\n",
       "      <td>2098</td>\n",
       "      <td>3761</td>\n",
       "      <td>3359</td>\n",
       "      <td>120559</td>\n",
       "      <td>23</td>\n",
       "      <td>011</td>\n",
       "      <td>20.338589</td>\n",
       "      <td>23011</td>\n",
       "    </tr>\n",
       "    <tr>\n",
       "      <th>4</th>\n",
       "      <td>Knox County, Maine</td>\n",
       "      <td>389</td>\n",
       "      <td>209</td>\n",
       "      <td>182</td>\n",
       "      <td>746</td>\n",
       "      <td>1111</td>\n",
       "      <td>1268</td>\n",
       "      <td>394</td>\n",
       "      <td>117</td>\n",
       "      <td>441</td>\n",
       "      <td>416</td>\n",
       "      <td>1059</td>\n",
       "      <td>1144</td>\n",
       "      <td>40879</td>\n",
       "      <td>23</td>\n",
       "      <td>013</td>\n",
       "      <td>18.288119</td>\n",
       "      <td>23013</td>\n",
       "    </tr>\n",
       "  </tbody>\n",
       "</table>\n",
       "</div>"
      ],
      "text/plain": [
       "                county_name  B01001_007E  B01001_008E  B01001_009E  \\\n",
       "0  Cumberland County, Maine         3890         1554         2202   \n",
       "1    Franklin County, Maine          468          417          189   \n",
       "2     Hancock County, Maine          706          425          316   \n",
       "3    Kennebec County, Maine         1690          884          699   \n",
       "4        Knox County, Maine          389          209          182   \n",
       "\n",
       "   B01001_010E  B01001_011E  B01001_012E  B01001_031E  B01001_032E  \\\n",
       "0         4606         6713         8544         3558         1729   \n",
       "1          548          884          702          744          301   \n",
       "2         1039         1299         1373          573          300   \n",
       "3         1983         3554         3182         1601         1043   \n",
       "4          746         1111         1268          394          117   \n",
       "\n",
       "   B01001_033E  B01001_034E  B01001_035E  B01001_036E  B01001_001E state code  \\\n",
       "0         2029         4143         6893         8305       274712         23   \n",
       "1          425          533          951          821        29840         23   \n",
       "2          317          780         1357         1478        53208         23   \n",
       "3          666         2098         3761         3359       120559         23   \n",
       "4          441          416         1059         1144        40879         23   \n",
       "\n",
       "  county code  percent_age_18_to_34   fips  \n",
       "0         005             19.717377  23005  \n",
       "1         007             23.401475  23007  \n",
       "2         009             18.724628  23009  \n",
       "3         011             20.338589  23011  \n",
       "4         013             18.288119  23013  "
      ]
     },
     "execution_count": 84,
     "metadata": {},
     "output_type": "execute_result"
    }
   ],
   "source": [
    "df16['fips'] = df16['state code'] + df16['county code']\n",
    "df16.head()"
   ]
  },
  {
   "cell_type": "code",
   "execution_count": 85,
   "id": "d9b661b1-c70b-4bc0-9cfc-cbd10fe37064",
   "metadata": {},
   "outputs": [
    {
     "data": {
      "text/plain": [
       "(1882, 18)"
      ]
     },
     "execution_count": 85,
     "metadata": {},
     "output_type": "execute_result"
    }
   ],
   "source": [
    "df16.shape"
   ]
  },
  {
   "cell_type": "markdown",
   "id": "730d8f25-cb06-4ce0-a74f-40a10c7452cd",
   "metadata": {},
   "source": [
    "### Age 35 to 44\n",
    "#### (B01001_013E+B01001_014E+B01001_037E+B01001_038E)/B01001_001E"
   ]
  },
  {
   "cell_type": "code",
   "execution_count": 86,
   "id": "9af10f52-ae54-49c9-a1aa-ba06033d2da1",
   "metadata": {},
   "outputs": [
    {
     "name": "stdout",
     "output_type": "stream",
     "text": [
      "['NAME', 'B01001_013E', 'B01001_014E', 'B01001_037E', 'B01001_038E', 'B01001_001E', 'state', 'county']\n"
     ]
    }
   ],
   "source": [
    "variables = 'B01001_013E,B01001_014E,B01001_037E,B01001_038E,B01001_001E'\n",
    "df17 = collectAll_county(year,variables)"
   ]
  },
  {
   "cell_type": "code",
   "execution_count": 87,
   "id": "aaeddf1d-e065-40c7-a7f5-bec08e79b9b6",
   "metadata": {},
   "outputs": [],
   "source": [
    "df17['B01001_013E'] = df17['B01001_013E'].apply(changeInteger)\n",
    "df17['B01001_014E'] = df17['B01001_014E'].apply(changeInteger)\n",
    "df17['B01001_037E'] = df17['B01001_037E'].apply(changeInteger)\n",
    "df17['B01001_038E'] = df17['B01001_038E'].apply(changeInteger)\n",
    "df17['B01001_001E'] = df17['B01001_001E'].apply(changeInteger)"
   ]
  },
  {
   "cell_type": "code",
   "execution_count": 88,
   "id": "2bb876f3-e566-4853-9177-a199142f5ed9",
   "metadata": {},
   "outputs": [],
   "source": [
    "df17['percent_age_35_to_44'] = ((df17['B01001_013E']+df17['B01001_014E'] +df17['B01001_037E']+df17['B01001_038E'])/df17['B01001_001E'])*100"
   ]
  },
  {
   "cell_type": "code",
   "execution_count": 89,
   "id": "836957f4-52ed-41b9-9824-e21c2defff0c",
   "metadata": {},
   "outputs": [
    {
     "data": {
      "text/html": [
       "<div>\n",
       "<style scoped>\n",
       "    .dataframe tbody tr th:only-of-type {\n",
       "        vertical-align: middle;\n",
       "    }\n",
       "\n",
       "    .dataframe tbody tr th {\n",
       "        vertical-align: top;\n",
       "    }\n",
       "\n",
       "    .dataframe thead th {\n",
       "        text-align: right;\n",
       "    }\n",
       "</style>\n",
       "<table border=\"1\" class=\"dataframe\">\n",
       "  <thead>\n",
       "    <tr style=\"text-align: right;\">\n",
       "      <th></th>\n",
       "      <th>county_name</th>\n",
       "      <th>B01001_013E</th>\n",
       "      <th>B01001_014E</th>\n",
       "      <th>B01001_037E</th>\n",
       "      <th>B01001_038E</th>\n",
       "      <th>B01001_001E</th>\n",
       "      <th>state code</th>\n",
       "      <th>county code</th>\n",
       "      <th>percent_age_35_to_44</th>\n",
       "      <th>fips</th>\n",
       "    </tr>\n",
       "  </thead>\n",
       "  <tbody>\n",
       "    <tr>\n",
       "      <th>0</th>\n",
       "      <td>Cumberland County, Maine</td>\n",
       "      <td>9527</td>\n",
       "      <td>11739</td>\n",
       "      <td>10730</td>\n",
       "      <td>11718</td>\n",
       "      <td>274712</td>\n",
       "      <td>23</td>\n",
       "      <td>005</td>\n",
       "      <td>15.912665</td>\n",
       "      <td>23005</td>\n",
       "    </tr>\n",
       "    <tr>\n",
       "      <th>1</th>\n",
       "      <td>Franklin County, Maine</td>\n",
       "      <td>954</td>\n",
       "      <td>1037</td>\n",
       "      <td>978</td>\n",
       "      <td>1026</td>\n",
       "      <td>29840</td>\n",
       "      <td>23</td>\n",
       "      <td>007</td>\n",
       "      <td>13.388070</td>\n",
       "      <td>23007</td>\n",
       "    </tr>\n",
       "    <tr>\n",
       "      <th>2</th>\n",
       "      <td>Hancock County, Maine</td>\n",
       "      <td>1493</td>\n",
       "      <td>2159</td>\n",
       "      <td>1842</td>\n",
       "      <td>1989</td>\n",
       "      <td>53208</td>\n",
       "      <td>23</td>\n",
       "      <td>009</td>\n",
       "      <td>14.063675</td>\n",
       "      <td>23009</td>\n",
       "    </tr>\n",
       "    <tr>\n",
       "      <th>3</th>\n",
       "      <td>Kennebec County, Maine</td>\n",
       "      <td>4139</td>\n",
       "      <td>4391</td>\n",
       "      <td>3991</td>\n",
       "      <td>4927</td>\n",
       "      <td>120559</td>\n",
       "      <td>23</td>\n",
       "      <td>011</td>\n",
       "      <td>14.472582</td>\n",
       "      <td>23011</td>\n",
       "    </tr>\n",
       "    <tr>\n",
       "      <th>4</th>\n",
       "      <td>Knox County, Maine</td>\n",
       "      <td>1363</td>\n",
       "      <td>1604</td>\n",
       "      <td>1354</td>\n",
       "      <td>1369</td>\n",
       "      <td>40879</td>\n",
       "      <td>23</td>\n",
       "      <td>013</td>\n",
       "      <td>13.919127</td>\n",
       "      <td>23013</td>\n",
       "    </tr>\n",
       "  </tbody>\n",
       "</table>\n",
       "</div>"
      ],
      "text/plain": [
       "                county_name  B01001_013E  B01001_014E  B01001_037E  \\\n",
       "0  Cumberland County, Maine         9527        11739        10730   \n",
       "1    Franklin County, Maine          954         1037          978   \n",
       "2     Hancock County, Maine         1493         2159         1842   \n",
       "3    Kennebec County, Maine         4139         4391         3991   \n",
       "4        Knox County, Maine         1363         1604         1354   \n",
       "\n",
       "   B01001_038E  B01001_001E state code county code  percent_age_35_to_44  \\\n",
       "0        11718       274712         23         005             15.912665   \n",
       "1         1026        29840         23         007             13.388070   \n",
       "2         1989        53208         23         009             14.063675   \n",
       "3         4927       120559         23         011             14.472582   \n",
       "4         1369        40879         23         013             13.919127   \n",
       "\n",
       "    fips  \n",
       "0  23005  \n",
       "1  23007  \n",
       "2  23009  \n",
       "3  23011  \n",
       "4  23013  "
      ]
     },
     "execution_count": 89,
     "metadata": {},
     "output_type": "execute_result"
    }
   ],
   "source": [
    "df17['fips'] = df17['state code'] + df17['county code']\n",
    "df17.head()"
   ]
  },
  {
   "cell_type": "code",
   "execution_count": 90,
   "id": "d38de85f-8ed4-407f-b9fd-03a2bb4634f9",
   "metadata": {},
   "outputs": [
    {
     "data": {
      "text/plain": [
       "(1882, 10)"
      ]
     },
     "execution_count": 90,
     "metadata": {},
     "output_type": "execute_result"
    }
   ],
   "source": [
    "df17.shape"
   ]
  },
  {
   "cell_type": "markdown",
   "id": "eec42697-16ef-4a3d-b612-6a5632b1f442",
   "metadata": {},
   "source": [
    "### age 45 to 54\n",
    "#### (B01001_015E+B01001_016E+B01001_039E+B01001_040E)/B01001_001E"
   ]
  },
  {
   "cell_type": "code",
   "execution_count": 91,
   "id": "8223d7d3-da3b-4190-8c0f-877c3c61c359",
   "metadata": {},
   "outputs": [
    {
     "name": "stdout",
     "output_type": "stream",
     "text": [
      "['NAME', 'B01001_015E', 'B01001_016E', 'B01001_039E', 'B01001_040E', 'B01001_001E', 'state', 'county']\n"
     ]
    }
   ],
   "source": [
    "variables = 'B01001_015E,B01001_016E,B01001_039E,B01001_040E,B01001_001E'\n",
    "df18 = collectAll_county(year,variables)"
   ]
  },
  {
   "cell_type": "code",
   "execution_count": 92,
   "id": "64f93c52-adf3-4d36-9056-dc703c2df649",
   "metadata": {},
   "outputs": [],
   "source": [
    "df18['B01001_015E'] = df18['B01001_015E'].apply(changeInteger)\n",
    "df18['B01001_016E'] = df18['B01001_016E'].apply(changeInteger)\n",
    "df18['B01001_039E'] = df18['B01001_039E'].apply(changeInteger)\n",
    "df18['B01001_040E'] = df18['B01001_040E'].apply(changeInteger)\n",
    "df18['B01001_001E'] = df18['B01001_001E'].apply(changeInteger)"
   ]
  },
  {
   "cell_type": "code",
   "execution_count": 93,
   "id": "833adef1-1d4e-47ec-a6e1-40e3bef59ed6",
   "metadata": {},
   "outputs": [],
   "source": [
    "df18['percent_age_45_to_54'] = ((df18['B01001_015E']+df18['B01001_016E'] +df18['B01001_039E']+df18['B01001_040E'])/df18['B01001_001E'])*100"
   ]
  },
  {
   "cell_type": "code",
   "execution_count": 94,
   "id": "095b777f-0191-4a9f-a2a1-cf635a3a34bf",
   "metadata": {},
   "outputs": [
    {
     "data": {
      "text/html": [
       "<div>\n",
       "<style scoped>\n",
       "    .dataframe tbody tr th:only-of-type {\n",
       "        vertical-align: middle;\n",
       "    }\n",
       "\n",
       "    .dataframe tbody tr th {\n",
       "        vertical-align: top;\n",
       "    }\n",
       "\n",
       "    .dataframe thead th {\n",
       "        text-align: right;\n",
       "    }\n",
       "</style>\n",
       "<table border=\"1\" class=\"dataframe\">\n",
       "  <thead>\n",
       "    <tr style=\"text-align: right;\">\n",
       "      <th></th>\n",
       "      <th>county_name</th>\n",
       "      <th>B01001_015E</th>\n",
       "      <th>B01001_016E</th>\n",
       "      <th>B01001_039E</th>\n",
       "      <th>B01001_040E</th>\n",
       "      <th>B01001_001E</th>\n",
       "      <th>state code</th>\n",
       "      <th>county code</th>\n",
       "      <th>percent_age_45_to_54</th>\n",
       "      <th>fips</th>\n",
       "    </tr>\n",
       "  </thead>\n",
       "  <tbody>\n",
       "    <tr>\n",
       "      <th>0</th>\n",
       "      <td>Cumberland County, Maine</td>\n",
       "      <td>11558</td>\n",
       "      <td>10621</td>\n",
       "      <td>12525</td>\n",
       "      <td>11317</td>\n",
       "      <td>274712</td>\n",
       "      <td>23</td>\n",
       "      <td>005</td>\n",
       "      <td>16.752453</td>\n",
       "      <td>23005</td>\n",
       "    </tr>\n",
       "    <tr>\n",
       "      <th>1</th>\n",
       "      <td>Franklin County, Maine</td>\n",
       "      <td>1195</td>\n",
       "      <td>1135</td>\n",
       "      <td>1145</td>\n",
       "      <td>1197</td>\n",
       "      <td>29840</td>\n",
       "      <td>23</td>\n",
       "      <td>007</td>\n",
       "      <td>15.656836</td>\n",
       "      <td>23007</td>\n",
       "    </tr>\n",
       "    <tr>\n",
       "      <th>2</th>\n",
       "      <td>Hancock County, Maine</td>\n",
       "      <td>2228</td>\n",
       "      <td>2161</td>\n",
       "      <td>2314</td>\n",
       "      <td>2345</td>\n",
       "      <td>53208</td>\n",
       "      <td>23</td>\n",
       "      <td>009</td>\n",
       "      <td>17.004962</td>\n",
       "      <td>23009</td>\n",
       "    </tr>\n",
       "    <tr>\n",
       "      <th>3</th>\n",
       "      <td>Kennebec County, Maine</td>\n",
       "      <td>5032</td>\n",
       "      <td>4682</td>\n",
       "      <td>5581</td>\n",
       "      <td>4932</td>\n",
       "      <td>120559</td>\n",
       "      <td>23</td>\n",
       "      <td>011</td>\n",
       "      <td>16.777677</td>\n",
       "      <td>23011</td>\n",
       "    </tr>\n",
       "    <tr>\n",
       "      <th>4</th>\n",
       "      <td>Knox County, Maine</td>\n",
       "      <td>1688</td>\n",
       "      <td>1801</td>\n",
       "      <td>1707</td>\n",
       "      <td>1724</td>\n",
       "      <td>40879</td>\n",
       "      <td>23</td>\n",
       "      <td>013</td>\n",
       "      <td>16.928007</td>\n",
       "      <td>23013</td>\n",
       "    </tr>\n",
       "  </tbody>\n",
       "</table>\n",
       "</div>"
      ],
      "text/plain": [
       "                county_name  B01001_015E  B01001_016E  B01001_039E  \\\n",
       "0  Cumberland County, Maine        11558        10621        12525   \n",
       "1    Franklin County, Maine         1195         1135         1145   \n",
       "2     Hancock County, Maine         2228         2161         2314   \n",
       "3    Kennebec County, Maine         5032         4682         5581   \n",
       "4        Knox County, Maine         1688         1801         1707   \n",
       "\n",
       "   B01001_040E  B01001_001E state code county code  percent_age_45_to_54  \\\n",
       "0        11317       274712         23         005             16.752453   \n",
       "1         1197        29840         23         007             15.656836   \n",
       "2         2345        53208         23         009             17.004962   \n",
       "3         4932       120559         23         011             16.777677   \n",
       "4         1724        40879         23         013             16.928007   \n",
       "\n",
       "    fips  \n",
       "0  23005  \n",
       "1  23007  \n",
       "2  23009  \n",
       "3  23011  \n",
       "4  23013  "
      ]
     },
     "execution_count": 94,
     "metadata": {},
     "output_type": "execute_result"
    }
   ],
   "source": [
    "df18['fips'] = df18['state code'] + df18['county code']\n",
    "df18.head()"
   ]
  },
  {
   "cell_type": "code",
   "execution_count": 95,
   "id": "bff38139-7fc5-4e8c-bed4-1f36dbc09d0e",
   "metadata": {},
   "outputs": [
    {
     "data": {
      "text/plain": [
       "(1882, 10)"
      ]
     },
     "execution_count": 95,
     "metadata": {},
     "output_type": "execute_result"
    }
   ],
   "source": [
    "df18.shape"
   ]
  },
  {
   "cell_type": "markdown",
   "id": "b6ec620f-65e9-4e13-83c3-1370b878b0e5",
   "metadata": {},
   "source": [
    "### age 55 to 64\n",
    "#### (B01001_017E+B01001_018E+B01001_019E+B01001_041E+B01001_042E+B01001_043E)/B01001_001E"
   ]
  },
  {
   "cell_type": "code",
   "execution_count": 96,
   "id": "579965cf-2f83-4d77-8177-1e0ba2fb9873",
   "metadata": {},
   "outputs": [
    {
     "name": "stdout",
     "output_type": "stream",
     "text": [
      "['NAME', 'B01001_017E', 'B01001_018E', 'B01001_019E', 'B01001_041E', 'B01001_042E', 'B01001_043E', 'B01001_001E', 'state', 'county']\n"
     ]
    }
   ],
   "source": [
    "variables = 'B01001_017E,B01001_018E,B01001_019E,B01001_041E,B01001_042E,B01001_043E,B01001_001E'\n",
    "df19 = collectAll_county(year,variables)"
   ]
  },
  {
   "cell_type": "code",
   "execution_count": 97,
   "id": "a61b7263-c36b-4e7b-bce2-3fd3b470bfc9",
   "metadata": {},
   "outputs": [],
   "source": [
    "df19['B01001_017E'] = df19['B01001_017E'].apply(changeInteger)\n",
    "df19['B01001_018E'] = df19['B01001_018E'].apply(changeInteger)\n",
    "df19['B01001_019E'] = df19['B01001_019E'].apply(changeInteger)\n",
    "df19['B01001_041E'] = df19['B01001_041E'].apply(changeInteger)\n",
    "df19['B01001_042E'] = df19['B01001_042E'].apply(changeInteger)\n",
    "df19['B01001_043E'] = df19['B01001_043E'].apply(changeInteger)\n",
    "df19['B01001_001E'] = df19['B01001_001E'].apply(changeInteger)"
   ]
  },
  {
   "cell_type": "code",
   "execution_count": 98,
   "id": "92d9ba4c-765a-48a3-8b96-f46f63118d0c",
   "metadata": {},
   "outputs": [],
   "source": [
    "df19['percent_age_55_to_64'] = ((df19['B01001_017E']+df19['B01001_018E'] +df19['B01001_019E']+df19['B01001_041E']+df19['B01001_042E']+df19['B01001_043E'])/df19['B01001_001E'])*100"
   ]
  },
  {
   "cell_type": "code",
   "execution_count": 99,
   "id": "cc37eab1-db3a-4a0d-b5ae-253140921bd2",
   "metadata": {},
   "outputs": [
    {
     "data": {
      "text/html": [
       "<div>\n",
       "<style scoped>\n",
       "    .dataframe tbody tr th:only-of-type {\n",
       "        vertical-align: middle;\n",
       "    }\n",
       "\n",
       "    .dataframe tbody tr th {\n",
       "        vertical-align: top;\n",
       "    }\n",
       "\n",
       "    .dataframe thead th {\n",
       "        text-align: right;\n",
       "    }\n",
       "</style>\n",
       "<table border=\"1\" class=\"dataframe\">\n",
       "  <thead>\n",
       "    <tr style=\"text-align: right;\">\n",
       "      <th></th>\n",
       "      <th>county_name</th>\n",
       "      <th>B01001_017E</th>\n",
       "      <th>B01001_018E</th>\n",
       "      <th>B01001_019E</th>\n",
       "      <th>B01001_041E</th>\n",
       "      <th>B01001_042E</th>\n",
       "      <th>B01001_043E</th>\n",
       "      <th>B01001_001E</th>\n",
       "      <th>state code</th>\n",
       "      <th>county code</th>\n",
       "      <th>percent_age_55_to_64</th>\n",
       "      <th>fips</th>\n",
       "    </tr>\n",
       "  </thead>\n",
       "  <tbody>\n",
       "    <tr>\n",
       "      <th>0</th>\n",
       "      <td>Cumberland County, Maine</td>\n",
       "      <td>9656</td>\n",
       "      <td>2828</td>\n",
       "      <td>3884</td>\n",
       "      <td>9556</td>\n",
       "      <td>3038</td>\n",
       "      <td>4320</td>\n",
       "      <td>274712</td>\n",
       "      <td>23</td>\n",
       "      <td>005</td>\n",
       "      <td>12.115233</td>\n",
       "      <td>23005</td>\n",
       "    </tr>\n",
       "    <tr>\n",
       "      <th>1</th>\n",
       "      <td>Franklin County, Maine</td>\n",
       "      <td>1013</td>\n",
       "      <td>381</td>\n",
       "      <td>608</td>\n",
       "      <td>877</td>\n",
       "      <td>478</td>\n",
       "      <td>578</td>\n",
       "      <td>29840</td>\n",
       "      <td>23</td>\n",
       "      <td>007</td>\n",
       "      <td>13.186997</td>\n",
       "      <td>23007</td>\n",
       "    </tr>\n",
       "    <tr>\n",
       "      <th>2</th>\n",
       "      <td>Hancock County, Maine</td>\n",
       "      <td>2193</td>\n",
       "      <td>732</td>\n",
       "      <td>771</td>\n",
       "      <td>2292</td>\n",
       "      <td>633</td>\n",
       "      <td>986</td>\n",
       "      <td>53208</td>\n",
       "      <td>23</td>\n",
       "      <td>009</td>\n",
       "      <td>14.296722</td>\n",
       "      <td>23009</td>\n",
       "    </tr>\n",
       "    <tr>\n",
       "      <th>3</th>\n",
       "      <td>Kennebec County, Maine</td>\n",
       "      <td>4286</td>\n",
       "      <td>1437</td>\n",
       "      <td>1836</td>\n",
       "      <td>4351</td>\n",
       "      <td>1607</td>\n",
       "      <td>1741</td>\n",
       "      <td>120559</td>\n",
       "      <td>23</td>\n",
       "      <td>011</td>\n",
       "      <td>12.656044</td>\n",
       "      <td>23011</td>\n",
       "    </tr>\n",
       "    <tr>\n",
       "      <th>4</th>\n",
       "      <td>Knox County, Maine</td>\n",
       "      <td>1450</td>\n",
       "      <td>481</td>\n",
       "      <td>803</td>\n",
       "      <td>1584</td>\n",
       "      <td>425</td>\n",
       "      <td>794</td>\n",
       "      <td>40879</td>\n",
       "      <td>23</td>\n",
       "      <td>013</td>\n",
       "      <td>13.544852</td>\n",
       "      <td>23013</td>\n",
       "    </tr>\n",
       "  </tbody>\n",
       "</table>\n",
       "</div>"
      ],
      "text/plain": [
       "                county_name  B01001_017E  B01001_018E  B01001_019E  \\\n",
       "0  Cumberland County, Maine         9656         2828         3884   \n",
       "1    Franklin County, Maine         1013          381          608   \n",
       "2     Hancock County, Maine         2193          732          771   \n",
       "3    Kennebec County, Maine         4286         1437         1836   \n",
       "4        Knox County, Maine         1450          481          803   \n",
       "\n",
       "   B01001_041E  B01001_042E  B01001_043E  B01001_001E state code county code  \\\n",
       "0         9556         3038         4320       274712         23         005   \n",
       "1          877          478          578        29840         23         007   \n",
       "2         2292          633          986        53208         23         009   \n",
       "3         4351         1607         1741       120559         23         011   \n",
       "4         1584          425          794        40879         23         013   \n",
       "\n",
       "   percent_age_55_to_64   fips  \n",
       "0             12.115233  23005  \n",
       "1             13.186997  23007  \n",
       "2             14.296722  23009  \n",
       "3             12.656044  23011  \n",
       "4             13.544852  23013  "
      ]
     },
     "execution_count": 99,
     "metadata": {},
     "output_type": "execute_result"
    }
   ],
   "source": [
    "df19['fips'] = df19['state code'] + df19['county code']\n",
    "df19.head()"
   ]
  },
  {
   "cell_type": "code",
   "execution_count": 100,
   "id": "4ed461b2-bb26-4730-8eff-f7c673e1fc6e",
   "metadata": {},
   "outputs": [
    {
     "data": {
      "text/plain": [
       "(1882, 12)"
      ]
     },
     "execution_count": 100,
     "metadata": {},
     "output_type": "execute_result"
    }
   ],
   "source": [
    "df19.shape"
   ]
  },
  {
   "cell_type": "markdown",
   "id": "9b41ea5e-df49-4b9f-9ea3-cfc5fb3f952b",
   "metadata": {},
   "source": [
    "### Combine 19 dataframes together"
   ]
  },
  {
   "cell_type": "code",
   "execution_count": 101,
   "id": "d3ce192e-6369-4897-85fa-d603ecd0eae4",
   "metadata": {},
   "outputs": [],
   "source": [
    "df = df1[['fips','per_capita_income']].merge(df2[['fips', 'percent_below_poverty']], on = 'fips', how = 'left')"
   ]
  },
  {
   "cell_type": "code",
   "execution_count": 102,
   "id": "769784f8-1230-4254-a8a5-e3fd82346352",
   "metadata": {},
   "outputs": [
    {
     "data": {
      "text/html": [
       "<div>\n",
       "<style scoped>\n",
       "    .dataframe tbody tr th:only-of-type {\n",
       "        vertical-align: middle;\n",
       "    }\n",
       "\n",
       "    .dataframe tbody tr th {\n",
       "        vertical-align: top;\n",
       "    }\n",
       "\n",
       "    .dataframe thead th {\n",
       "        text-align: right;\n",
       "    }\n",
       "</style>\n",
       "<table border=\"1\" class=\"dataframe\">\n",
       "  <thead>\n",
       "    <tr style=\"text-align: right;\">\n",
       "      <th></th>\n",
       "      <th>fips</th>\n",
       "      <th>per_capita_income</th>\n",
       "      <th>percent_below_poverty</th>\n",
       "      <th>percent_no_highschool_diploma</th>\n",
       "      <th>percent_mobile_homes</th>\n",
       "      <th>percent_no_vehicle</th>\n",
       "      <th>percent_overcrowding</th>\n",
       "      <th>percent_multi_unit_housing</th>\n",
       "      <th>percent_age_65_and_older</th>\n",
       "      <th>percent_limited_english_abilities</th>\n",
       "      <th>percent_minorities</th>\n",
       "      <th>percent_institutionalized_in_group_quarters</th>\n",
       "      <th>percent_age_18_to_34</th>\n",
       "      <th>percent_age_35_to_44</th>\n",
       "      <th>percent_age_45_to_54</th>\n",
       "      <th>percent_age_55_to_64</th>\n",
       "    </tr>\n",
       "  </thead>\n",
       "  <tbody>\n",
       "    <tr>\n",
       "      <th>0</th>\n",
       "      <td>27095</td>\n",
       "      <td>21236</td>\n",
       "      <td>10.778708</td>\n",
       "      <td>14.302092</td>\n",
       "      <td>7.163574</td>\n",
       "      <td>5.951190</td>\n",
       "      <td>NaN</td>\n",
       "      <td>6.998834</td>\n",
       "      <td>15.541087</td>\n",
       "      <td>3.168505</td>\n",
       "      <td>NaN</td>\n",
       "      <td>3.035790</td>\n",
       "      <td>23.230728</td>\n",
       "      <td>13.329738</td>\n",
       "      <td>13.976962</td>\n",
       "      <td>9.847055</td>\n",
       "    </tr>\n",
       "    <tr>\n",
       "      <th>1</th>\n",
       "      <td>27097</td>\n",
       "      <td>22348</td>\n",
       "      <td>9.238518</td>\n",
       "      <td>14.248729</td>\n",
       "      <td>9.169323</td>\n",
       "      <td>4.101111</td>\n",
       "      <td>1.200507</td>\n",
       "      <td>6.198400</td>\n",
       "      <td>15.268910</td>\n",
       "      <td>2.530148</td>\n",
       "      <td>NaN</td>\n",
       "      <td>1.774312</td>\n",
       "      <td>21.460584</td>\n",
       "      <td>13.190693</td>\n",
       "      <td>15.081655</td>\n",
       "      <td>10.240668</td>\n",
       "    </tr>\n",
       "    <tr>\n",
       "      <th>2</th>\n",
       "      <td>27099</td>\n",
       "      <td>23956</td>\n",
       "      <td>12.041345</td>\n",
       "      <td>14.703225</td>\n",
       "      <td>1.807582</td>\n",
       "      <td>6.293528</td>\n",
       "      <td>3.086065</td>\n",
       "      <td>7.215825</td>\n",
       "      <td>18.387790</td>\n",
       "      <td>8.551203</td>\n",
       "      <td>NaN</td>\n",
       "      <td>1.494729</td>\n",
       "      <td>19.924477</td>\n",
       "      <td>12.928096</td>\n",
       "      <td>13.887869</td>\n",
       "      <td>10.350344</td>\n",
       "    </tr>\n",
       "    <tr>\n",
       "      <th>3</th>\n",
       "      <td>27103</td>\n",
       "      <td>24917</td>\n",
       "      <td>11.323224</td>\n",
       "      <td>7.776017</td>\n",
       "      <td>7.807989</td>\n",
       "      <td>6.994754</td>\n",
       "      <td>1.840286</td>\n",
       "      <td>11.349377</td>\n",
       "      <td>11.711827</td>\n",
       "      <td>5.630485</td>\n",
       "      <td>NaN</td>\n",
       "      <td>5.036659</td>\n",
       "      <td>28.763150</td>\n",
       "      <td>12.645840</td>\n",
       "      <td>14.615875</td>\n",
       "      <td>9.859739</td>\n",
       "    </tr>\n",
       "    <tr>\n",
       "      <th>4</th>\n",
       "      <td>27105</td>\n",
       "      <td>21047</td>\n",
       "      <td>19.024611</td>\n",
       "      <td>21.855011</td>\n",
       "      <td>3.729317</td>\n",
       "      <td>9.356436</td>\n",
       "      <td>NaN</td>\n",
       "      <td>7.390084</td>\n",
       "      <td>16.462416</td>\n",
       "      <td>16.528748</td>\n",
       "      <td>NaN</td>\n",
       "      <td>3.145621</td>\n",
       "      <td>19.910692</td>\n",
       "      <td>12.016869</td>\n",
       "      <td>14.671297</td>\n",
       "      <td>10.905483</td>\n",
       "    </tr>\n",
       "  </tbody>\n",
       "</table>\n",
       "</div>"
      ],
      "text/plain": [
       "    fips per_capita_income  percent_below_poverty  \\\n",
       "0  27095             21236              10.778708   \n",
       "1  27097             22348               9.238518   \n",
       "2  27099             23956              12.041345   \n",
       "3  27103             24917              11.323224   \n",
       "4  27105             21047              19.024611   \n",
       "\n",
       "   percent_no_highschool_diploma  percent_mobile_homes  percent_no_vehicle  \\\n",
       "0                      14.302092              7.163574            5.951190   \n",
       "1                      14.248729              9.169323            4.101111   \n",
       "2                      14.703225              1.807582            6.293528   \n",
       "3                       7.776017              7.807989            6.994754   \n",
       "4                      21.855011              3.729317            9.356436   \n",
       "\n",
       "   percent_overcrowding  percent_multi_unit_housing  percent_age_65_and_older  \\\n",
       "0                   NaN                    6.998834                 15.541087   \n",
       "1              1.200507                    6.198400                 15.268910   \n",
       "2              3.086065                    7.215825                 18.387790   \n",
       "3              1.840286                   11.349377                 11.711827   \n",
       "4                   NaN                    7.390084                 16.462416   \n",
       "\n",
       "   percent_limited_english_abilities  percent_minorities  \\\n",
       "0                           3.168505                 NaN   \n",
       "1                           2.530148                 NaN   \n",
       "2                           8.551203                 NaN   \n",
       "3                           5.630485                 NaN   \n",
       "4                          16.528748                 NaN   \n",
       "\n",
       "   percent_institutionalized_in_group_quarters  percent_age_18_to_34  \\\n",
       "0                                     3.035790             23.230728   \n",
       "1                                     1.774312             21.460584   \n",
       "2                                     1.494729             19.924477   \n",
       "3                                     5.036659             28.763150   \n",
       "4                                     3.145621             19.910692   \n",
       "\n",
       "   percent_age_35_to_44  percent_age_45_to_54  percent_age_55_to_64  \n",
       "0             13.329738             13.976962              9.847055  \n",
       "1             13.190693             15.081655             10.240668  \n",
       "2             12.928096             13.887869             10.350344  \n",
       "3             12.645840             14.615875              9.859739  \n",
       "4             12.016869             14.671297             10.905483  "
      ]
     },
     "execution_count": 102,
     "metadata": {},
     "output_type": "execute_result"
    }
   ],
   "source": [
    "df = df.merge(df3[['fips', 'percent_no_highschool_diploma']], on = 'fips', how = 'left')\n",
    "df = df.merge(df4[['fips', 'percent_mobile_homes']], on = 'fips', how = 'left')\n",
    "df = df.merge(df5[['fips', 'percent_no_vehicle']], on = 'fips', how = 'left')\n",
    "df = df.merge(df7[['fips', 'percent_overcrowding']], on = 'fips', how = 'left')\n",
    "df = df.merge(df8[['fips', 'percent_multi_unit_housing']], on = 'fips', how = 'left')\n",
    "df = df.merge(df9[['fips', 'percent_age_65_and_older']], on = 'fips', how = 'left')\n",
    "df = df.merge(df10[['fips', 'percent_limited_english_abilities']], on = 'fips', how = 'left')\n",
    "df = df.merge(df12[['fips', 'percent_minorities']], on = 'fips', how = 'left')\n",
    "df = df.merge(df14[['fips', 'percent_institutionalized_in_group_quarters']], on = 'fips', how = 'left')\n",
    "df = df.merge(df16[['fips', 'percent_age_18_to_34']], on = 'fips', how = 'left')\n",
    "df = df.merge(df17[['fips', 'percent_age_35_to_44']], on = 'fips', how = 'left')\n",
    "df = df.merge(df18[['fips', 'percent_age_45_to_54']], on = 'fips', how = 'left')\n",
    "df = df.merge(df19[['fips', 'percent_age_55_to_64']], on = 'fips', how = 'left')\n",
    "df.head()"
   ]
  },
  {
   "cell_type": "code",
   "execution_count": 103,
   "id": "8fb672d1-2308-45ba-aeb7-56bb577e7d66",
   "metadata": {},
   "outputs": [
    {
     "data": {
      "text/html": [
       "<div>\n",
       "<style scoped>\n",
       "    .dataframe tbody tr th:only-of-type {\n",
       "        vertical-align: middle;\n",
       "    }\n",
       "\n",
       "    .dataframe tbody tr th {\n",
       "        vertical-align: top;\n",
       "    }\n",
       "\n",
       "    .dataframe thead th {\n",
       "        text-align: right;\n",
       "    }\n",
       "</style>\n",
       "<table border=\"1\" class=\"dataframe\">\n",
       "  <thead>\n",
       "    <tr style=\"text-align: right;\">\n",
       "      <th></th>\n",
       "      <th>fips</th>\n",
       "      <th>per_capita_income</th>\n",
       "      <th>percent_below_poverty</th>\n",
       "      <th>percent_no_highschool_diploma</th>\n",
       "      <th>percent_mobile_homes</th>\n",
       "      <th>percent_no_vehicle</th>\n",
       "      <th>percent_overcrowding</th>\n",
       "      <th>percent_multi_unit_housing</th>\n",
       "      <th>percent_age_65_and_older</th>\n",
       "      <th>percent_limited_english_abilities</th>\n",
       "      <th>percent_minorities</th>\n",
       "      <th>percent_institutionalized_in_group_quarters</th>\n",
       "      <th>percent_age_18_to_34</th>\n",
       "      <th>percent_age_35_to_44</th>\n",
       "      <th>percent_age_45_to_54</th>\n",
       "      <th>percent_age_55_to_64</th>\n",
       "    </tr>\n",
       "  </thead>\n",
       "  <tbody>\n",
       "    <tr>\n",
       "      <th>0</th>\n",
       "      <td>27095</td>\n",
       "      <td>21236</td>\n",
       "      <td>10.778708</td>\n",
       "      <td>14.302092</td>\n",
       "      <td>7.163574</td>\n",
       "      <td>5.951190</td>\n",
       "      <td>NaN</td>\n",
       "      <td>6.998834</td>\n",
       "      <td>15.541087</td>\n",
       "      <td>3.168505</td>\n",
       "      <td>NaN</td>\n",
       "      <td>3.035790</td>\n",
       "      <td>23.230728</td>\n",
       "      <td>13.329738</td>\n",
       "      <td>13.976962</td>\n",
       "      <td>9.847055</td>\n",
       "    </tr>\n",
       "    <tr>\n",
       "      <th>1</th>\n",
       "      <td>27097</td>\n",
       "      <td>22348</td>\n",
       "      <td>9.238518</td>\n",
       "      <td>14.248729</td>\n",
       "      <td>9.169323</td>\n",
       "      <td>4.101111</td>\n",
       "      <td>1.200507</td>\n",
       "      <td>6.198400</td>\n",
       "      <td>15.268910</td>\n",
       "      <td>2.530148</td>\n",
       "      <td>NaN</td>\n",
       "      <td>1.774312</td>\n",
       "      <td>21.460584</td>\n",
       "      <td>13.190693</td>\n",
       "      <td>15.081655</td>\n",
       "      <td>10.240668</td>\n",
       "    </tr>\n",
       "    <tr>\n",
       "      <th>2</th>\n",
       "      <td>27099</td>\n",
       "      <td>23956</td>\n",
       "      <td>12.041345</td>\n",
       "      <td>14.703225</td>\n",
       "      <td>1.807582</td>\n",
       "      <td>6.293528</td>\n",
       "      <td>3.086065</td>\n",
       "      <td>7.215825</td>\n",
       "      <td>18.387790</td>\n",
       "      <td>8.551203</td>\n",
       "      <td>NaN</td>\n",
       "      <td>1.494729</td>\n",
       "      <td>19.924477</td>\n",
       "      <td>12.928096</td>\n",
       "      <td>13.887869</td>\n",
       "      <td>10.350344</td>\n",
       "    </tr>\n",
       "    <tr>\n",
       "      <th>3</th>\n",
       "      <td>27103</td>\n",
       "      <td>24917</td>\n",
       "      <td>11.323224</td>\n",
       "      <td>7.776017</td>\n",
       "      <td>7.807989</td>\n",
       "      <td>6.994754</td>\n",
       "      <td>1.840286</td>\n",
       "      <td>11.349377</td>\n",
       "      <td>11.711827</td>\n",
       "      <td>5.630485</td>\n",
       "      <td>NaN</td>\n",
       "      <td>5.036659</td>\n",
       "      <td>28.763150</td>\n",
       "      <td>12.645840</td>\n",
       "      <td>14.615875</td>\n",
       "      <td>9.859739</td>\n",
       "    </tr>\n",
       "    <tr>\n",
       "      <th>4</th>\n",
       "      <td>27105</td>\n",
       "      <td>21047</td>\n",
       "      <td>19.024611</td>\n",
       "      <td>21.855011</td>\n",
       "      <td>3.729317</td>\n",
       "      <td>9.356436</td>\n",
       "      <td>NaN</td>\n",
       "      <td>7.390084</td>\n",
       "      <td>16.462416</td>\n",
       "      <td>16.528748</td>\n",
       "      <td>NaN</td>\n",
       "      <td>3.145621</td>\n",
       "      <td>19.910692</td>\n",
       "      <td>12.016869</td>\n",
       "      <td>14.671297</td>\n",
       "      <td>10.905483</td>\n",
       "    </tr>\n",
       "  </tbody>\n",
       "</table>\n",
       "</div>"
      ],
      "text/plain": [
       "    fips per_capita_income  percent_below_poverty  \\\n",
       "0  27095             21236              10.778708   \n",
       "1  27097             22348               9.238518   \n",
       "2  27099             23956              12.041345   \n",
       "3  27103             24917              11.323224   \n",
       "4  27105             21047              19.024611   \n",
       "\n",
       "   percent_no_highschool_diploma  percent_mobile_homes  percent_no_vehicle  \\\n",
       "0                      14.302092              7.163574            5.951190   \n",
       "1                      14.248729              9.169323            4.101111   \n",
       "2                      14.703225              1.807582            6.293528   \n",
       "3                       7.776017              7.807989            6.994754   \n",
       "4                      21.855011              3.729317            9.356436   \n",
       "\n",
       "   percent_overcrowding  percent_multi_unit_housing  percent_age_65_and_older  \\\n",
       "0                   NaN                    6.998834                 15.541087   \n",
       "1              1.200507                    6.198400                 15.268910   \n",
       "2              3.086065                    7.215825                 18.387790   \n",
       "3              1.840286                   11.349377                 11.711827   \n",
       "4                   NaN                    7.390084                 16.462416   \n",
       "\n",
       "   percent_limited_english_abilities  percent_minorities  \\\n",
       "0                           3.168505                 NaN   \n",
       "1                           2.530148                 NaN   \n",
       "2                           8.551203                 NaN   \n",
       "3                           5.630485                 NaN   \n",
       "4                          16.528748                 NaN   \n",
       "\n",
       "   percent_institutionalized_in_group_quarters  percent_age_18_to_34  \\\n",
       "0                                     3.035790             23.230728   \n",
       "1                                     1.774312             21.460584   \n",
       "2                                     1.494729             19.924477   \n",
       "3                                     5.036659             28.763150   \n",
       "4                                     3.145621             19.910692   \n",
       "\n",
       "   percent_age_35_to_44  percent_age_45_to_54  percent_age_55_to_64  \n",
       "0             13.329738             13.976962              9.847055  \n",
       "1             13.190693             15.081655             10.240668  \n",
       "2             12.928096             13.887869             10.350344  \n",
       "3             12.645840             14.615875              9.859739  \n",
       "4             12.016869             14.671297             10.905483  "
      ]
     },
     "execution_count": 103,
     "metadata": {},
     "output_type": "execute_result"
    }
   ],
   "source": [
    "df.head()"
   ]
  },
  {
   "cell_type": "code",
   "execution_count": 104,
   "id": "9ee5d6d3-6642-4cd7-8bcf-b966a22230a4",
   "metadata": {},
   "outputs": [
    {
     "data": {
      "text/html": [
       "<div>\n",
       "<style scoped>\n",
       "    .dataframe tbody tr th:only-of-type {\n",
       "        vertical-align: middle;\n",
       "    }\n",
       "\n",
       "    .dataframe tbody tr th {\n",
       "        vertical-align: top;\n",
       "    }\n",
       "\n",
       "    .dataframe thead th {\n",
       "        text-align: right;\n",
       "    }\n",
       "</style>\n",
       "<table border=\"1\" class=\"dataframe\">\n",
       "  <thead>\n",
       "    <tr style=\"text-align: right;\">\n",
       "      <th></th>\n",
       "      <th>fips</th>\n",
       "      <th>per_capita_income</th>\n",
       "      <th>percent_below_poverty</th>\n",
       "      <th>percent_no_highschool_diploma</th>\n",
       "      <th>percent_mobile_homes</th>\n",
       "      <th>percent_no_vehicle</th>\n",
       "      <th>percent_overcrowding</th>\n",
       "      <th>percent_multi_unit_housing</th>\n",
       "      <th>percent_age_65_and_older</th>\n",
       "      <th>percent_limited_english_abilities</th>\n",
       "      <th>percent_minorities</th>\n",
       "      <th>percent_institutionalized_in_group_quarters</th>\n",
       "      <th>percent_age_18_to_34</th>\n",
       "      <th>percent_age_35_to_44</th>\n",
       "      <th>percent_age_45_to_54</th>\n",
       "      <th>percent_age_55_to_64</th>\n",
       "    </tr>\n",
       "  </thead>\n",
       "  <tbody>\n",
       "    <tr>\n",
       "      <th>585</th>\n",
       "      <td>01001</td>\n",
       "      <td>22270</td>\n",
       "      <td>10.686882</td>\n",
       "      <td>15.586557</td>\n",
       "      <td>22.569650</td>\n",
       "      <td>4.935705</td>\n",
       "      <td>1.411765</td>\n",
       "      <td>1.141599</td>\n",
       "      <td>10.858251</td>\n",
       "      <td>3.544326</td>\n",
       "      <td>NaN</td>\n",
       "      <td>NaN</td>\n",
       "      <td>21.559343</td>\n",
       "      <td>15.577100</td>\n",
       "      <td>14.634146</td>\n",
       "      <td>10.415349</td>\n",
       "    </tr>\n",
       "    <tr>\n",
       "      <th>586</th>\n",
       "      <td>01003</td>\n",
       "      <td>25673</td>\n",
       "      <td>11.412840</td>\n",
       "      <td>12.955327</td>\n",
       "      <td>16.298765</td>\n",
       "      <td>4.422221</td>\n",
       "      <td>1.721294</td>\n",
       "      <td>12.396625</td>\n",
       "      <td>16.438201</td>\n",
       "      <td>4.542152</td>\n",
       "      <td>14.453384</td>\n",
       "      <td>0.910877</td>\n",
       "      <td>21.156247</td>\n",
       "      <td>13.363915</td>\n",
       "      <td>14.189976</td>\n",
       "      <td>11.331912</td>\n",
       "    </tr>\n",
       "    <tr>\n",
       "      <th>587</th>\n",
       "      <td>01005</td>\n",
       "      <td>16184</td>\n",
       "      <td>23.179403</td>\n",
       "      <td>30.958128</td>\n",
       "      <td>28.070661</td>\n",
       "      <td>10.723477</td>\n",
       "      <td>1.677628</td>\n",
       "      <td>0.688791</td>\n",
       "      <td>12.968033</td>\n",
       "      <td>3.977725</td>\n",
       "      <td>NaN</td>\n",
       "      <td>10.023824</td>\n",
       "      <td>23.678128</td>\n",
       "      <td>14.984177</td>\n",
       "      <td>13.600967</td>\n",
       "      <td>11.549266</td>\n",
       "    </tr>\n",
       "    <tr>\n",
       "      <th>588</th>\n",
       "      <td>01007</td>\n",
       "      <td>18720</td>\n",
       "      <td>11.934156</td>\n",
       "      <td>31.193694</td>\n",
       "      <td>29.016506</td>\n",
       "      <td>5.058155</td>\n",
       "      <td>NaN</td>\n",
       "      <td>5.057686</td>\n",
       "      <td>12.112584</td>\n",
       "      <td>1.713745</td>\n",
       "      <td>NaN</td>\n",
       "      <td>4.415609</td>\n",
       "      <td>23.865758</td>\n",
       "      <td>16.542196</td>\n",
       "      <td>12.285288</td>\n",
       "      <td>11.043689</td>\n",
       "    </tr>\n",
       "    <tr>\n",
       "      <th>589</th>\n",
       "      <td>01009</td>\n",
       "      <td>19406</td>\n",
       "      <td>10.639650</td>\n",
       "      <td>26.329801</td>\n",
       "      <td>26.212837</td>\n",
       "      <td>3.882521</td>\n",
       "      <td>2.667582</td>\n",
       "      <td>0.630668</td>\n",
       "      <td>13.518986</td>\n",
       "      <td>5.975612</td>\n",
       "      <td>NaN</td>\n",
       "      <td>0.967690</td>\n",
       "      <td>22.262244</td>\n",
       "      <td>13.988495</td>\n",
       "      <td>14.212498</td>\n",
       "      <td>11.332724</td>\n",
       "    </tr>\n",
       "  </tbody>\n",
       "</table>\n",
       "</div>"
      ],
      "text/plain": [
       "      fips per_capita_income  percent_below_poverty  \\\n",
       "585  01001             22270              10.686882   \n",
       "586  01003             25673              11.412840   \n",
       "587  01005             16184              23.179403   \n",
       "588  01007             18720              11.934156   \n",
       "589  01009             19406              10.639650   \n",
       "\n",
       "     percent_no_highschool_diploma  percent_mobile_homes  percent_no_vehicle  \\\n",
       "585                      15.586557             22.569650            4.935705   \n",
       "586                      12.955327             16.298765            4.422221   \n",
       "587                      30.958128             28.070661           10.723477   \n",
       "588                      31.193694             29.016506            5.058155   \n",
       "589                      26.329801             26.212837            3.882521   \n",
       "\n",
       "     percent_overcrowding  percent_multi_unit_housing  \\\n",
       "585              1.411765                    1.141599   \n",
       "586              1.721294                   12.396625   \n",
       "587              1.677628                    0.688791   \n",
       "588                   NaN                    5.057686   \n",
       "589              2.667582                    0.630668   \n",
       "\n",
       "     percent_age_65_and_older  percent_limited_english_abilities  \\\n",
       "585                 10.858251                           3.544326   \n",
       "586                 16.438201                           4.542152   \n",
       "587                 12.968033                           3.977725   \n",
       "588                 12.112584                           1.713745   \n",
       "589                 13.518986                           5.975612   \n",
       "\n",
       "     percent_minorities  percent_institutionalized_in_group_quarters  \\\n",
       "585                 NaN                                          NaN   \n",
       "586           14.453384                                     0.910877   \n",
       "587                 NaN                                    10.023824   \n",
       "588                 NaN                                     4.415609   \n",
       "589                 NaN                                     0.967690   \n",
       "\n",
       "     percent_age_18_to_34  percent_age_35_to_44  percent_age_45_to_54  \\\n",
       "585             21.559343             15.577100             14.634146   \n",
       "586             21.156247             13.363915             14.189976   \n",
       "587             23.678128             14.984177             13.600967   \n",
       "588             23.865758             16.542196             12.285288   \n",
       "589             22.262244             13.988495             14.212498   \n",
       "\n",
       "     percent_age_55_to_64  \n",
       "585             10.415349  \n",
       "586             11.331912  \n",
       "587             11.549266  \n",
       "588             11.043689  \n",
       "589             11.332724  "
      ]
     },
     "execution_count": 104,
     "metadata": {},
     "output_type": "execute_result"
    }
   ],
   "source": [
    "df = df.sort_values('fips')\n",
    "df.head()"
   ]
  },
  {
   "cell_type": "code",
   "execution_count": 105,
   "id": "e71a412f-110f-413e-bb0f-db2f9dd71ea4",
   "metadata": {},
   "outputs": [],
   "source": [
    "df.to_csv('SDoH_3years/Social_Economic_3years_2007.csv')"
   ]
  },
  {
   "cell_type": "code",
   "execution_count": null,
   "id": "37ed9bf1-115d-4c43-9e7d-b07bb7fdaf85",
   "metadata": {},
   "outputs": [],
   "source": []
  },
  {
   "cell_type": "code",
   "execution_count": null,
   "id": "c7bed9e1-5e20-4643-97df-44f9b42f6fcc",
   "metadata": {},
   "outputs": [],
   "source": []
  },
  {
   "cell_type": "code",
   "execution_count": null,
   "id": "e16f5171-7956-41a4-a6f6-333c3bb1446b",
   "metadata": {},
   "outputs": [],
   "source": []
  }
 ],
 "metadata": {
  "kernelspec": {
   "display_name": "MyEnv",
   "language": "python",
   "name": "myenv"
  },
  "language_info": {
   "codemirror_mode": {
    "name": "ipython",
    "version": 3
   },
   "file_extension": ".py",
   "mimetype": "text/x-python",
   "name": "python",
   "nbconvert_exporter": "python",
   "pygments_lexer": "ipython3",
   "version": "3.7.11"
  }
 },
 "nbformat": 4,
 "nbformat_minor": 5
}
