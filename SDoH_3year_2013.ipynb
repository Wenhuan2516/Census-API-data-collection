{
 "cells": [
  {
   "cell_type": "code",
   "execution_count": 1,
   "id": "1ceae829-a03e-466e-9656-2a34dbac8e37",
   "metadata": {},
   "outputs": [],
   "source": [
    "import pandas as pd\n",
    "import numpy as np\n",
    "import matplotlib.pyplot as plt\n",
    "import dask.dataframe as ddf\n",
    "from pandas import Series, DataFrame\n",
    "%matplotlib inline"
   ]
  },
  {
   "cell_type": "code",
   "execution_count": 2,
   "id": "331165ba-98cf-46d9-8529-d0a720926159",
   "metadata": {},
   "outputs": [],
   "source": [
    "import seaborn as sn\n",
    "import plotly.express as px"
   ]
  },
  {
   "cell_type": "markdown",
   "id": "7e4454ad-3fe4-4bb7-b924-8fcf489f2803",
   "metadata": {},
   "source": [
    "### Request for Census Tract Level Population data from Census API"
   ]
  },
  {
   "cell_type": "code",
   "execution_count": 3,
   "id": "c29f7104-19c9-49cf-9161-e5d226f6481c",
   "metadata": {},
   "outputs": [],
   "source": [
    "stateCode = ['01', '02', '04', '05', '06', '08', '09', '10', '11', '12', '13', '15', '16',\n",
    "             '17', '18', '19', '20', '21', '22', '23', '24', '25', '26', '27', '28', '29',\n",
    "            '30', '31', '32', '33', '34', '35', '36', '37', '38', '39', '40', '41', '42', \n",
    "             '44', '45', '46', '47', '48', '49', '50', '51', '53', '54', '55', '56']"
   ]
  },
  {
   "cell_type": "code",
   "execution_count": 4,
   "id": "0178df59-4807-43ba-a82b-9ac9fde763f4",
   "metadata": {},
   "outputs": [
    {
     "data": {
      "text/plain": [
       "51"
      ]
     },
     "execution_count": 4,
     "metadata": {},
     "output_type": "execute_result"
    }
   ],
   "source": [
    "len(stateCode)"
   ]
  },
  {
   "cell_type": "code",
   "execution_count": 5,
   "id": "0767a76a-e446-4a73-a850-7861f44c5f9c",
   "metadata": {},
   "outputs": [],
   "source": [
    "import requests\n",
    "import pandas as pd\n",
    "from datetime import datetime\n",
    "import time\n",
    "import json\n",
    "from io import StringIO"
   ]
  },
  {
   "cell_type": "code",
   "execution_count": 6,
   "id": "d9dc7da1-6aa4-4484-ba06-53ae6f7b9d67",
   "metadata": {},
   "outputs": [],
   "source": [
    "def collectAll_county(year, variables):\n",
    "    basic_url = 'https://api.census.gov/data/' + year + '/acs/acs3?get=NAME,'+ variables + '&for=county:*&in=state:*&key=250f58e35283d400e4185b197e3abe9021079afe'\n",
    "    r = requests.get(basic_url)\n",
    "    x = r.json()\n",
    "    print(x[0])\n",
    "    variable_list = variables.split(',')\n",
    "    column_list = ['county_name']\n",
    "    for item in variable_list:\n",
    "        column_list.append(item)\n",
    "    column_list.append('state code')\n",
    "    column_list.append('county code')\n",
    "    df = pd.DataFrame(x[1:])\n",
    "    df.columns = column_list\n",
    "    return df"
   ]
  },
  {
   "cell_type": "markdown",
   "id": "2cf40e7f-4f06-4d86-b47e-a4418022d334",
   "metadata": {},
   "source": [
    "#### Total population: B01003_001E"
   ]
  },
  {
   "cell_type": "code",
   "execution_count": 7,
   "id": "6c80f31f-3474-4c99-9d06-094da34df9d2",
   "metadata": {},
   "outputs": [],
   "source": [
    "year = '2013'\n",
    "variables = 'B01003_001E'"
   ]
  },
  {
   "cell_type": "code",
   "execution_count": 8,
   "id": "1c3cbc10-f564-4d44-94ee-24486b705c9c",
   "metadata": {},
   "outputs": [
    {
     "name": "stdout",
     "output_type": "stream",
     "text": [
      "['NAME', 'B01003_001E', 'state', 'county']\n"
     ]
    },
    {
     "data": {
      "text/html": [
       "<div>\n",
       "<style scoped>\n",
       "    .dataframe tbody tr th:only-of-type {\n",
       "        vertical-align: middle;\n",
       "    }\n",
       "\n",
       "    .dataframe tbody tr th {\n",
       "        vertical-align: top;\n",
       "    }\n",
       "\n",
       "    .dataframe thead th {\n",
       "        text-align: right;\n",
       "    }\n",
       "</style>\n",
       "<table border=\"1\" class=\"dataframe\">\n",
       "  <thead>\n",
       "    <tr style=\"text-align: right;\">\n",
       "      <th></th>\n",
       "      <th>county_name</th>\n",
       "      <th>B01003_001E</th>\n",
       "      <th>state code</th>\n",
       "      <th>county code</th>\n",
       "    </tr>\n",
       "  </thead>\n",
       "  <tbody>\n",
       "    <tr>\n",
       "      <th>0</th>\n",
       "      <td>Dorchester County, Maryland</td>\n",
       "      <td>32645</td>\n",
       "      <td>24</td>\n",
       "      <td>019</td>\n",
       "    </tr>\n",
       "    <tr>\n",
       "      <th>1</th>\n",
       "      <td>Frederick County, Maryland</td>\n",
       "      <td>239407</td>\n",
       "      <td>24</td>\n",
       "      <td>021</td>\n",
       "    </tr>\n",
       "    <tr>\n",
       "      <th>2</th>\n",
       "      <td>Garrett County, Maryland</td>\n",
       "      <td>29946</td>\n",
       "      <td>24</td>\n",
       "      <td>023</td>\n",
       "    </tr>\n",
       "    <tr>\n",
       "      <th>3</th>\n",
       "      <td>Harford County, Maryland</td>\n",
       "      <td>248145</td>\n",
       "      <td>24</td>\n",
       "      <td>025</td>\n",
       "    </tr>\n",
       "    <tr>\n",
       "      <th>4</th>\n",
       "      <td>Howard County, Maryland</td>\n",
       "      <td>299188</td>\n",
       "      <td>24</td>\n",
       "      <td>027</td>\n",
       "    </tr>\n",
       "  </tbody>\n",
       "</table>\n",
       "</div>"
      ],
      "text/plain": [
       "                   county_name B01003_001E state code county code\n",
       "0  Dorchester County, Maryland       32645         24         019\n",
       "1   Frederick County, Maryland      239407         24         021\n",
       "2     Garrett County, Maryland       29946         24         023\n",
       "3     Harford County, Maryland      248145         24         025\n",
       "4      Howard County, Maryland      299188         24         027"
      ]
     },
     "execution_count": 8,
     "metadata": {},
     "output_type": "execute_result"
    }
   ],
   "source": [
    "pop_09 = collectAll_county(year,variables)\n",
    "pop_09.head()"
   ]
  },
  {
   "cell_type": "code",
   "execution_count": 9,
   "id": "f0c3f3ea-2b57-4b94-8a49-de9648453f76",
   "metadata": {},
   "outputs": [
    {
     "data": {
      "text/plain": [
       "(1910, 4)"
      ]
     },
     "execution_count": 9,
     "metadata": {},
     "output_type": "execute_result"
    }
   ],
   "source": [
    "pop_09.shape"
   ]
  },
  {
   "cell_type": "markdown",
   "id": "60163fad-ec5e-4e88-9f4a-8842397bedfb",
   "metadata": {},
   "source": [
    "#### 1.per capita income: B19301_001E"
   ]
  },
  {
   "cell_type": "code",
   "execution_count": 10,
   "id": "5be9c9d4-1b1e-4cac-87ef-67af4321d3d1",
   "metadata": {},
   "outputs": [
    {
     "name": "stdout",
     "output_type": "stream",
     "text": [
      "['NAME', 'B19301_001E', 'state', 'county']\n"
     ]
    }
   ],
   "source": [
    "variables = 'B19301_001E'\n",
    "df1 = collectAll_county(year,variables)"
   ]
  },
  {
   "cell_type": "code",
   "execution_count": 11,
   "id": "2c56e829-7a86-4f8f-bac9-fcb7861ab45a",
   "metadata": {},
   "outputs": [
    {
     "data": {
      "text/plain": [
       "(1910, 4)"
      ]
     },
     "execution_count": 11,
     "metadata": {},
     "output_type": "execute_result"
    }
   ],
   "source": [
    "df1.shape"
   ]
  },
  {
   "cell_type": "code",
   "execution_count": 12,
   "id": "36bfc372-bdf7-43bf-8885-8fba42110dcf",
   "metadata": {},
   "outputs": [
    {
     "data": {
      "text/html": [
       "<div>\n",
       "<style scoped>\n",
       "    .dataframe tbody tr th:only-of-type {\n",
       "        vertical-align: middle;\n",
       "    }\n",
       "\n",
       "    .dataframe tbody tr th {\n",
       "        vertical-align: top;\n",
       "    }\n",
       "\n",
       "    .dataframe thead th {\n",
       "        text-align: right;\n",
       "    }\n",
       "</style>\n",
       "<table border=\"1\" class=\"dataframe\">\n",
       "  <thead>\n",
       "    <tr style=\"text-align: right;\">\n",
       "      <th></th>\n",
       "      <th>county_name</th>\n",
       "      <th>per_capita_income</th>\n",
       "      <th>state code</th>\n",
       "      <th>county code</th>\n",
       "      <th>fips</th>\n",
       "    </tr>\n",
       "  </thead>\n",
       "  <tbody>\n",
       "    <tr>\n",
       "      <th>0</th>\n",
       "      <td>Autauga County, Alabama</td>\n",
       "      <td>23178</td>\n",
       "      <td>01</td>\n",
       "      <td>001</td>\n",
       "      <td>01001</td>\n",
       "    </tr>\n",
       "    <tr>\n",
       "      <th>1</th>\n",
       "      <td>Baldwin County, Alabama</td>\n",
       "      <td>26309</td>\n",
       "      <td>01</td>\n",
       "      <td>003</td>\n",
       "      <td>01003</td>\n",
       "    </tr>\n",
       "    <tr>\n",
       "      <th>2</th>\n",
       "      <td>Barbour County, Alabama</td>\n",
       "      <td>15697</td>\n",
       "      <td>01</td>\n",
       "      <td>005</td>\n",
       "      <td>01005</td>\n",
       "    </tr>\n",
       "    <tr>\n",
       "      <th>3</th>\n",
       "      <td>Bibb County, Alabama</td>\n",
       "      <td>17192</td>\n",
       "      <td>01</td>\n",
       "      <td>007</td>\n",
       "      <td>01007</td>\n",
       "    </tr>\n",
       "    <tr>\n",
       "      <th>4</th>\n",
       "      <td>Blount County, Alabama</td>\n",
       "      <td>19861</td>\n",
       "      <td>01</td>\n",
       "      <td>009</td>\n",
       "      <td>01009</td>\n",
       "    </tr>\n",
       "  </tbody>\n",
       "</table>\n",
       "</div>"
      ],
      "text/plain": [
       "               county_name per_capita_income state code county code   fips\n",
       "0  Autauga County, Alabama             23178         01         001  01001\n",
       "1  Baldwin County, Alabama             26309         01         003  01003\n",
       "2  Barbour County, Alabama             15697         01         005  01005\n",
       "3     Bibb County, Alabama             17192         01         007  01007\n",
       "4   Blount County, Alabama             19861         01         009  01009"
      ]
     },
     "execution_count": 12,
     "metadata": {},
     "output_type": "execute_result"
    }
   ],
   "source": [
    "df1 = df1.rename(columns = {'B19301_001E': 'per_capita_income'})\n",
    "df1['fips'] = df1['state code'] + df1['county code']\n",
    "df1.head()"
   ]
  },
  {
   "cell_type": "markdown",
   "id": "20e579a0-3071-459e-9389-37b5c7699577",
   "metadata": {},
   "source": [
    "#### 2.Percent of Population Below Poverty Level: (C17002_002E+C17002_003E)/C17002_001E"
   ]
  },
  {
   "cell_type": "code",
   "execution_count": 13,
   "id": "26ecf325-eb30-4168-a61f-cae373c3a0da",
   "metadata": {},
   "outputs": [
    {
     "name": "stdout",
     "output_type": "stream",
     "text": [
      "['NAME', 'C17002_002E', 'C17002_003E', 'C17002_001E', 'state', 'county']\n"
     ]
    }
   ],
   "source": [
    "variables = 'C17002_002E,C17002_003E,C17002_001E'\n",
    "df2 = collectAll_county(year,variables)"
   ]
  },
  {
   "cell_type": "code",
   "execution_count": 14,
   "id": "af388139-f295-4ea8-8cda-a7f3f9cf07f5",
   "metadata": {},
   "outputs": [],
   "source": [
    "df2['C17002_002E'] = df2['C17002_002E'].astype('int')\n",
    "df2['C17002_003E'] = df2['C17002_003E'].astype('int')\n",
    "df2['C17002_001E'] = df2['C17002_001E'].astype('int')"
   ]
  },
  {
   "cell_type": "code",
   "execution_count": 15,
   "id": "b05ccb73-f46d-48ab-86d9-0a05a0768e36",
   "metadata": {},
   "outputs": [],
   "source": [
    "df2['percent_below_poverty'] = ((df2['C17002_002E'] + df2['C17002_003E'])/df2['C17002_001E'])*100"
   ]
  },
  {
   "cell_type": "code",
   "execution_count": 16,
   "id": "07d65dd3-cfe5-4fc9-91cf-c077b6c98d2f",
   "metadata": {},
   "outputs": [
    {
     "data": {
      "text/html": [
       "<div>\n",
       "<style scoped>\n",
       "    .dataframe tbody tr th:only-of-type {\n",
       "        vertical-align: middle;\n",
       "    }\n",
       "\n",
       "    .dataframe tbody tr th {\n",
       "        vertical-align: top;\n",
       "    }\n",
       "\n",
       "    .dataframe thead th {\n",
       "        text-align: right;\n",
       "    }\n",
       "</style>\n",
       "<table border=\"1\" class=\"dataframe\">\n",
       "  <thead>\n",
       "    <tr style=\"text-align: right;\">\n",
       "      <th></th>\n",
       "      <th>county_name</th>\n",
       "      <th>C17002_002E</th>\n",
       "      <th>C17002_003E</th>\n",
       "      <th>C17002_001E</th>\n",
       "      <th>state code</th>\n",
       "      <th>county code</th>\n",
       "      <th>percent_below_poverty</th>\n",
       "      <th>fips</th>\n",
       "    </tr>\n",
       "  </thead>\n",
       "  <tbody>\n",
       "    <tr>\n",
       "      <th>0</th>\n",
       "      <td>Autauga County, Alabama</td>\n",
       "      <td>3698</td>\n",
       "      <td>4076</td>\n",
       "      <td>54842</td>\n",
       "      <td>01</td>\n",
       "      <td>001</td>\n",
       "      <td>14.175267</td>\n",
       "      <td>01001</td>\n",
       "    </tr>\n",
       "    <tr>\n",
       "      <th>1</th>\n",
       "      <td>Baldwin County, Alabama</td>\n",
       "      <td>10860</td>\n",
       "      <td>14952</td>\n",
       "      <td>188493</td>\n",
       "      <td>01</td>\n",
       "      <td>003</td>\n",
       "      <td>13.693877</td>\n",
       "      <td>01003</td>\n",
       "    </tr>\n",
       "    <tr>\n",
       "      <th>2</th>\n",
       "      <td>Barbour County, Alabama</td>\n",
       "      <td>3924</td>\n",
       "      <td>2961</td>\n",
       "      <td>24359</td>\n",
       "      <td>01</td>\n",
       "      <td>005</td>\n",
       "      <td>28.264707</td>\n",
       "      <td>01005</td>\n",
       "    </tr>\n",
       "    <tr>\n",
       "      <th>3</th>\n",
       "      <td>Bibb County, Alabama</td>\n",
       "      <td>1439</td>\n",
       "      <td>3046</td>\n",
       "      <td>20933</td>\n",
       "      <td>01</td>\n",
       "      <td>007</td>\n",
       "      <td>21.425500</td>\n",
       "      <td>01007</td>\n",
       "    </tr>\n",
       "    <tr>\n",
       "      <th>4</th>\n",
       "      <td>Blount County, Alabama</td>\n",
       "      <td>3326</td>\n",
       "      <td>5778</td>\n",
       "      <td>57181</td>\n",
       "      <td>01</td>\n",
       "      <td>009</td>\n",
       "      <td>15.921372</td>\n",
       "      <td>01009</td>\n",
       "    </tr>\n",
       "  </tbody>\n",
       "</table>\n",
       "</div>"
      ],
      "text/plain": [
       "               county_name  C17002_002E  C17002_003E  C17002_001E state code  \\\n",
       "0  Autauga County, Alabama         3698         4076        54842         01   \n",
       "1  Baldwin County, Alabama        10860        14952       188493         01   \n",
       "2  Barbour County, Alabama         3924         2961        24359         01   \n",
       "3     Bibb County, Alabama         1439         3046        20933         01   \n",
       "4   Blount County, Alabama         3326         5778        57181         01   \n",
       "\n",
       "  county code  percent_below_poverty   fips  \n",
       "0         001              14.175267  01001  \n",
       "1         003              13.693877  01003  \n",
       "2         005              28.264707  01005  \n",
       "3         007              21.425500  01007  \n",
       "4         009              15.921372  01009  "
      ]
     },
     "execution_count": 16,
     "metadata": {},
     "output_type": "execute_result"
    }
   ],
   "source": [
    "df2['fips'] = df2['state code'] + df2['county code']\n",
    "df2.head()"
   ]
  },
  {
   "cell_type": "code",
   "execution_count": 17,
   "id": "fab4ae9e-48cb-4bc6-981f-cf9640035bf8",
   "metadata": {},
   "outputs": [
    {
     "data": {
      "text/plain": [
       "(1910, 8)"
      ]
     },
     "execution_count": 17,
     "metadata": {},
     "output_type": "execute_result"
    }
   ],
   "source": [
    "df2.shape"
   ]
  },
  {
   "cell_type": "markdown",
   "id": "ff2773ce-bbd4-4af5-b139-167dfacd87b3",
   "metadata": {},
   "source": [
    "#### 3.Percent of Population 25+ with Less than a 12th Grade Education: (B15002_003E,B15002_004E,B15002_005E,B15002_003E,B15002_006E,B15002_007E,B15002_008E,B15002_009E,B15002_010E,B15002_020E,B15002_021E,B15002_022E,B15002_023E,B15002_024E,B15002_025E,B15002_026E,B15002_027E)/B15003_001E"
   ]
  },
  {
   "cell_type": "code",
   "execution_count": 18,
   "id": "f74fbcc1-230e-43ae-a328-403cf0170abf",
   "metadata": {},
   "outputs": [],
   "source": [
    "def collectAll_county2(year, variables):\n",
    "    basic_url = 'https://api.census.gov/data/' + year + '/acs/acs1?get=NAME,'+ variables + '&for=county:*&in=state:*'\n",
    "    r = requests.get(basic_url)\n",
    "    x = r.json()\n",
    "    print(x[0])\n",
    "    variable_list = variables.split(',')\n",
    "    column_list = ['county_name']\n",
    "    for item in variable_list:\n",
    "        column_list.append(item)\n",
    "    column_list.append('state code')\n",
    "    column_list.append('county code')\n",
    "    df = pd.DataFrame(x[1:])\n",
    "    df.columns = column_list\n",
    "    return df"
   ]
  },
  {
   "cell_type": "code",
   "execution_count": 19,
   "id": "4dce7e7d-55ac-4065-a65a-0bc55367a58b",
   "metadata": {},
   "outputs": [
    {
     "name": "stdout",
     "output_type": "stream",
     "text": [
      "['NAME', 'B15002_003E', 'B15002_004E', 'B15002_005E', 'B15002_006E', 'B15002_007E', 'B15002_008E', 'B15002_009E', 'B15002_010E', 'B15002_020E', 'B15002_021E', 'B15002_022E', 'B15002_023E', 'B15002_024E', 'B15002_025E', 'B15002_026E', 'B15002_027E', 'B15002_001E', 'state', 'county']\n"
     ]
    }
   ],
   "source": [
    "variables = 'B15002_003E,B15002_004E,B15002_005E,B15002_006E,B15002_007E,B15002_008E,B15002_009E,B15002_010E,B15002_020E,B15002_021E,B15002_022E,B15002_023E,B15002_024E,B15002_025E,B15002_026E,B15002_027E,B15002_001E'\n",
    "df3 = collectAll_county(year,variables)"
   ]
  },
  {
   "cell_type": "code",
   "execution_count": 20,
   "id": "b5d87626-551f-44f6-8814-8cd148424b59",
   "metadata": {},
   "outputs": [
    {
     "data": {
      "text/plain": [
       "(1910, 20)"
      ]
     },
     "execution_count": 20,
     "metadata": {},
     "output_type": "execute_result"
    }
   ],
   "source": [
    "df3.shape"
   ]
  },
  {
   "cell_type": "code",
   "execution_count": 21,
   "id": "12beeedf-46a1-4ae9-ba56-8989e86c05d7",
   "metadata": {},
   "outputs": [],
   "source": [
    "def changeInteger(value):\n",
    "    if value != None:\n",
    "        return int(value)\n",
    "    else:\n",
    "        return np.nan"
   ]
  },
  {
   "cell_type": "code",
   "execution_count": 22,
   "id": "6de4e5bd-4da3-4617-9211-c07583bce770",
   "metadata": {},
   "outputs": [],
   "source": [
    "df3['B15002_003E'] = df3['B15002_003E'].apply(changeInteger)\n",
    "df3['B15002_004E'] = df3['B15002_004E'].apply(changeInteger)\n",
    "df3['B15002_005E'] = df3['B15002_005E'].apply(changeInteger)\n",
    "df3['B15002_006E'] = df3['B15002_006E'].apply(changeInteger)\n",
    "df3['B15002_007E'] = df3['B15002_007E'].apply(changeInteger)\n",
    "df3['B15002_008E'] = df3['B15002_008E'].apply(changeInteger)\n",
    "df3['B15002_009E'] = df3['B15002_009E'].apply(changeInteger)\n",
    "df3['B15002_010E'] = df3['B15002_010E'].apply(changeInteger)\n",
    "df3['B15002_020E'] = df3['B15002_020E'].apply(changeInteger)\n",
    "df3['B15002_021E'] = df3['B15002_021E'].apply(changeInteger)\n",
    "df3['B15002_022E'] = df3['B15002_022E'].apply(changeInteger)\n",
    "df3['B15002_023E'] = df3['B15002_023E'].apply(changeInteger)\n",
    "df3['B15002_024E'] = df3['B15002_024E'].apply(changeInteger)\n",
    "df3['B15002_025E'] = df3['B15002_025E'].apply(changeInteger)\n",
    "df3['B15002_026E'] = df3['B15002_026E'].apply(changeInteger)\n",
    "df3['B15002_027E'] = df3['B15002_027E'].apply(changeInteger)\n",
    "df3['B15002_001E'] = df3['B15002_001E'].apply(changeInteger)"
   ]
  },
  {
   "cell_type": "code",
   "execution_count": 23,
   "id": "f70ce502-8e2b-4228-a121-5a617bfc4b49",
   "metadata": {},
   "outputs": [],
   "source": [
    "df3['percent_no_highschool_diploma'] = ((df3['B15002_003E']+df3['B15002_004E']+df3['B15002_005E']+df3['B15002_006E']+df3['B15002_007E']+df3['B15002_008E']+df3['B15002_009E']\n",
    "                                       +df3['B15002_010E']+df3['B15002_020E']+df3['B15002_021E']+df3['B15002_022E']+df3['B15002_023E']+df3['B15002_024E']+df3['B15002_025E']+df3['B15002_003E']\n",
    "                                       +df3['B15002_026E']+df3['B15002_027E'])/df3['B15002_001E'])*100"
   ]
  },
  {
   "cell_type": "code",
   "execution_count": 24,
   "id": "54da8218-8404-48da-9676-20d89484b1de",
   "metadata": {},
   "outputs": [
    {
     "data": {
      "text/html": [
       "<div>\n",
       "<style scoped>\n",
       "    .dataframe tbody tr th:only-of-type {\n",
       "        vertical-align: middle;\n",
       "    }\n",
       "\n",
       "    .dataframe tbody tr th {\n",
       "        vertical-align: top;\n",
       "    }\n",
       "\n",
       "    .dataframe thead th {\n",
       "        text-align: right;\n",
       "    }\n",
       "</style>\n",
       "<table border=\"1\" class=\"dataframe\">\n",
       "  <thead>\n",
       "    <tr style=\"text-align: right;\">\n",
       "      <th></th>\n",
       "      <th>county_name</th>\n",
       "      <th>B15002_003E</th>\n",
       "      <th>B15002_004E</th>\n",
       "      <th>B15002_005E</th>\n",
       "      <th>B15002_006E</th>\n",
       "      <th>B15002_007E</th>\n",
       "      <th>B15002_008E</th>\n",
       "      <th>B15002_009E</th>\n",
       "      <th>B15002_010E</th>\n",
       "      <th>B15002_020E</th>\n",
       "      <th>...</th>\n",
       "      <th>B15002_023E</th>\n",
       "      <th>B15002_024E</th>\n",
       "      <th>B15002_025E</th>\n",
       "      <th>B15002_026E</th>\n",
       "      <th>B15002_027E</th>\n",
       "      <th>B15002_001E</th>\n",
       "      <th>state code</th>\n",
       "      <th>county code</th>\n",
       "      <th>percent_no_highschool_diploma</th>\n",
       "      <th>fips</th>\n",
       "    </tr>\n",
       "  </thead>\n",
       "  <tbody>\n",
       "    <tr>\n",
       "      <th>0</th>\n",
       "      <td>Pulaski County, Arkansas</td>\n",
       "      <td>1342</td>\n",
       "      <td>421</td>\n",
       "      <td>976</td>\n",
       "      <td>1473</td>\n",
       "      <td>1320</td>\n",
       "      <td>1901</td>\n",
       "      <td>3132</td>\n",
       "      <td>1394</td>\n",
       "      <td>1083</td>\n",
       "      <td>...</td>\n",
       "      <td>1206</td>\n",
       "      <td>1574</td>\n",
       "      <td>3462</td>\n",
       "      <td>4101</td>\n",
       "      <td>2024</td>\n",
       "      <td>259968</td>\n",
       "      <td>05</td>\n",
       "      <td>119</td>\n",
       "      <td>10.757093</td>\n",
       "      <td>05119</td>\n",
       "    </tr>\n",
       "    <tr>\n",
       "      <th>1</th>\n",
       "      <td>St. Francis County, Arkansas</td>\n",
       "      <td>227</td>\n",
       "      <td>95</td>\n",
       "      <td>29</td>\n",
       "      <td>325</td>\n",
       "      <td>266</td>\n",
       "      <td>564</td>\n",
       "      <td>583</td>\n",
       "      <td>387</td>\n",
       "      <td>208</td>\n",
       "      <td>...</td>\n",
       "      <td>212</td>\n",
       "      <td>231</td>\n",
       "      <td>333</td>\n",
       "      <td>630</td>\n",
       "      <td>230</td>\n",
       "      <td>19054</td>\n",
       "      <td>05</td>\n",
       "      <td>123</td>\n",
       "      <td>25.107589</td>\n",
       "      <td>05123</td>\n",
       "    </tr>\n",
       "    <tr>\n",
       "      <th>2</th>\n",
       "      <td>Saline County, Arkansas</td>\n",
       "      <td>379</td>\n",
       "      <td>61</td>\n",
       "      <td>198</td>\n",
       "      <td>567</td>\n",
       "      <td>492</td>\n",
       "      <td>890</td>\n",
       "      <td>1044</td>\n",
       "      <td>723</td>\n",
       "      <td>307</td>\n",
       "      <td>...</td>\n",
       "      <td>429</td>\n",
       "      <td>906</td>\n",
       "      <td>929</td>\n",
       "      <td>1046</td>\n",
       "      <td>727</td>\n",
       "      <td>77026</td>\n",
       "      <td>05</td>\n",
       "      <td>125</td>\n",
       "      <td>12.069950</td>\n",
       "      <td>05125</td>\n",
       "    </tr>\n",
       "    <tr>\n",
       "      <th>3</th>\n",
       "      <td>Sebastian County, Arkansas</td>\n",
       "      <td>456</td>\n",
       "      <td>693</td>\n",
       "      <td>895</td>\n",
       "      <td>1143</td>\n",
       "      <td>931</td>\n",
       "      <td>980</td>\n",
       "      <td>1251</td>\n",
       "      <td>1196</td>\n",
       "      <td>736</td>\n",
       "      <td>...</td>\n",
       "      <td>1114</td>\n",
       "      <td>742</td>\n",
       "      <td>866</td>\n",
       "      <td>995</td>\n",
       "      <td>1179</td>\n",
       "      <td>83438</td>\n",
       "      <td>05</td>\n",
       "      <td>131</td>\n",
       "      <td>17.901915</td>\n",
       "      <td>05131</td>\n",
       "    </tr>\n",
       "    <tr>\n",
       "      <th>4</th>\n",
       "      <td>Union County, Arkansas</td>\n",
       "      <td>178</td>\n",
       "      <td>156</td>\n",
       "      <td>27</td>\n",
       "      <td>323</td>\n",
       "      <td>335</td>\n",
       "      <td>409</td>\n",
       "      <td>623</td>\n",
       "      <td>334</td>\n",
       "      <td>155</td>\n",
       "      <td>...</td>\n",
       "      <td>307</td>\n",
       "      <td>273</td>\n",
       "      <td>416</td>\n",
       "      <td>511</td>\n",
       "      <td>504</td>\n",
       "      <td>27794</td>\n",
       "      <td>05</td>\n",
       "      <td>139</td>\n",
       "      <td>18.111823</td>\n",
       "      <td>05139</td>\n",
       "    </tr>\n",
       "  </tbody>\n",
       "</table>\n",
       "<p>5 rows × 22 columns</p>\n",
       "</div>"
      ],
      "text/plain": [
       "                    county_name  B15002_003E  B15002_004E  B15002_005E  \\\n",
       "0      Pulaski County, Arkansas         1342          421          976   \n",
       "1  St. Francis County, Arkansas          227           95           29   \n",
       "2       Saline County, Arkansas          379           61          198   \n",
       "3    Sebastian County, Arkansas          456          693          895   \n",
       "4        Union County, Arkansas          178          156           27   \n",
       "\n",
       "   B15002_006E  B15002_007E  B15002_008E  B15002_009E  B15002_010E  \\\n",
       "0         1473         1320         1901         3132         1394   \n",
       "1          325          266          564          583          387   \n",
       "2          567          492          890         1044          723   \n",
       "3         1143          931          980         1251         1196   \n",
       "4          323          335          409          623          334   \n",
       "\n",
       "   B15002_020E  ...  B15002_023E  B15002_024E  B15002_025E  B15002_026E  \\\n",
       "0         1083  ...         1206         1574         3462         4101   \n",
       "1          208  ...          212          231          333          630   \n",
       "2          307  ...          429          906          929         1046   \n",
       "3          736  ...         1114          742          866          995   \n",
       "4          155  ...          307          273          416          511   \n",
       "\n",
       "   B15002_027E  B15002_001E  state code  county code  \\\n",
       "0         2024       259968          05          119   \n",
       "1          230        19054          05          123   \n",
       "2          727        77026          05          125   \n",
       "3         1179        83438          05          131   \n",
       "4          504        27794          05          139   \n",
       "\n",
       "  percent_no_highschool_diploma   fips  \n",
       "0                     10.757093  05119  \n",
       "1                     25.107589  05123  \n",
       "2                     12.069950  05125  \n",
       "3                     17.901915  05131  \n",
       "4                     18.111823  05139  \n",
       "\n",
       "[5 rows x 22 columns]"
      ]
     },
     "execution_count": 24,
     "metadata": {},
     "output_type": "execute_result"
    }
   ],
   "source": [
    "df3['fips'] = df3['state code'] + df3['county code']\n",
    "df3.head()"
   ]
  },
  {
   "cell_type": "markdown",
   "id": "af41671e-ba16-4dbd-b37e-b5f7848aa36f",
   "metadata": {},
   "source": [
    "#### 4.Percent of Population Living in Mobile Homes: (B25033_006E+B25033_007E+B25033_012E+B25033_013E)/B25033_001E"
   ]
  },
  {
   "cell_type": "code",
   "execution_count": 25,
   "id": "c03e75e9-89db-4898-92ba-3d9f9ac528f1",
   "metadata": {},
   "outputs": [
    {
     "name": "stdout",
     "output_type": "stream",
     "text": [
      "['NAME', 'B25033_006E', 'B25033_007E', 'B25033_012E', 'B25033_013E', 'B25033_001E', 'state', 'county']\n"
     ]
    }
   ],
   "source": [
    "variables = 'B25033_006E,B25033_007E,B25033_012E,B25033_013E,B25033_001E'\n",
    "df4 = collectAll_county(year,variables)"
   ]
  },
  {
   "cell_type": "code",
   "execution_count": 26,
   "id": "12709efa-2915-43d6-b6e6-daeddcf01714",
   "metadata": {},
   "outputs": [
    {
     "data": {
      "text/plain": [
       "(1910, 8)"
      ]
     },
     "execution_count": 26,
     "metadata": {},
     "output_type": "execute_result"
    }
   ],
   "source": [
    "df4.shape"
   ]
  },
  {
   "cell_type": "code",
   "execution_count": 27,
   "id": "389f3ccf-4a99-4580-b9f3-11d448fcb052",
   "metadata": {},
   "outputs": [],
   "source": [
    "df4['B25033_006E'] = df4['B25033_006E'].apply(changeInteger)\n",
    "df4['B25033_007E'] = df4['B25033_007E'].apply(changeInteger)\n",
    "df4['B25033_012E'] = df4['B25033_012E'].apply(changeInteger)\n",
    "df4['B25033_013E'] = df4['B25033_013E'].apply(changeInteger)\n",
    "df4['B25033_001E'] = df4['B25033_001E'].apply(changeInteger)"
   ]
  },
  {
   "cell_type": "code",
   "execution_count": 28,
   "id": "e129c423-3162-4e27-bdbc-b519908fe576",
   "metadata": {},
   "outputs": [],
   "source": [
    "df4['percent_mobile_homes'] = ((df4['B25033_006E'] + df4['B25033_007E'] + df4['B25033_012E'] + df4['B25033_013E'])/df4['B25033_001E'])*100"
   ]
  },
  {
   "cell_type": "code",
   "execution_count": 29,
   "id": "7afc1666-b2dd-4559-99ad-a203776381ed",
   "metadata": {},
   "outputs": [
    {
     "data": {
      "text/html": [
       "<div>\n",
       "<style scoped>\n",
       "    .dataframe tbody tr th:only-of-type {\n",
       "        vertical-align: middle;\n",
       "    }\n",
       "\n",
       "    .dataframe tbody tr th {\n",
       "        vertical-align: top;\n",
       "    }\n",
       "\n",
       "    .dataframe thead th {\n",
       "        text-align: right;\n",
       "    }\n",
       "</style>\n",
       "<table border=\"1\" class=\"dataframe\">\n",
       "  <thead>\n",
       "    <tr style=\"text-align: right;\">\n",
       "      <th></th>\n",
       "      <th>county_name</th>\n",
       "      <th>B25033_006E</th>\n",
       "      <th>B25033_007E</th>\n",
       "      <th>B25033_012E</th>\n",
       "      <th>B25033_013E</th>\n",
       "      <th>B25033_001E</th>\n",
       "      <th>state code</th>\n",
       "      <th>county code</th>\n",
       "      <th>percent_mobile_homes</th>\n",
       "      <th>fips</th>\n",
       "    </tr>\n",
       "  </thead>\n",
       "  <tbody>\n",
       "    <tr>\n",
       "      <th>0</th>\n",
       "      <td>Randolph County, Indiana</td>\n",
       "      <td>946.0</td>\n",
       "      <td>0.0</td>\n",
       "      <td>1288.0</td>\n",
       "      <td>0.0</td>\n",
       "      <td>25442.0</td>\n",
       "      <td>18</td>\n",
       "      <td>135</td>\n",
       "      <td>8.780756</td>\n",
       "      <td>18135</td>\n",
       "    </tr>\n",
       "    <tr>\n",
       "      <th>1</th>\n",
       "      <td>Ripley County, Indiana</td>\n",
       "      <td>1419.0</td>\n",
       "      <td>2.0</td>\n",
       "      <td>524.0</td>\n",
       "      <td>0.0</td>\n",
       "      <td>28070.0</td>\n",
       "      <td>18</td>\n",
       "      <td>137</td>\n",
       "      <td>6.929106</td>\n",
       "      <td>18137</td>\n",
       "    </tr>\n",
       "    <tr>\n",
       "      <th>2</th>\n",
       "      <td>St. Joseph County, Indiana</td>\n",
       "      <td>3725.0</td>\n",
       "      <td>0.0</td>\n",
       "      <td>1081.0</td>\n",
       "      <td>0.0</td>\n",
       "      <td>255035.0</td>\n",
       "      <td>18</td>\n",
       "      <td>141</td>\n",
       "      <td>1.884447</td>\n",
       "      <td>18141</td>\n",
       "    </tr>\n",
       "    <tr>\n",
       "      <th>3</th>\n",
       "      <td>Scott County, Indiana</td>\n",
       "      <td>3512.0</td>\n",
       "      <td>0.0</td>\n",
       "      <td>908.0</td>\n",
       "      <td>0.0</td>\n",
       "      <td>23585.0</td>\n",
       "      <td>18</td>\n",
       "      <td>143</td>\n",
       "      <td>18.740725</td>\n",
       "      <td>18143</td>\n",
       "    </tr>\n",
       "    <tr>\n",
       "      <th>4</th>\n",
       "      <td>Shelby County, Indiana</td>\n",
       "      <td>1115.0</td>\n",
       "      <td>0.0</td>\n",
       "      <td>795.0</td>\n",
       "      <td>0.0</td>\n",
       "      <td>43850.0</td>\n",
       "      <td>18</td>\n",
       "      <td>145</td>\n",
       "      <td>4.355758</td>\n",
       "      <td>18145</td>\n",
       "    </tr>\n",
       "  </tbody>\n",
       "</table>\n",
       "</div>"
      ],
      "text/plain": [
       "                  county_name  B25033_006E  B25033_007E  B25033_012E  \\\n",
       "0    Randolph County, Indiana        946.0          0.0       1288.0   \n",
       "1      Ripley County, Indiana       1419.0          2.0        524.0   \n",
       "2  St. Joseph County, Indiana       3725.0          0.0       1081.0   \n",
       "3       Scott County, Indiana       3512.0          0.0        908.0   \n",
       "4      Shelby County, Indiana       1115.0          0.0        795.0   \n",
       "\n",
       "   B25033_013E  B25033_001E state code county code  percent_mobile_homes  \\\n",
       "0          0.0      25442.0         18         135              8.780756   \n",
       "1          0.0      28070.0         18         137              6.929106   \n",
       "2          0.0     255035.0         18         141              1.884447   \n",
       "3          0.0      23585.0         18         143             18.740725   \n",
       "4          0.0      43850.0         18         145              4.355758   \n",
       "\n",
       "    fips  \n",
       "0  18135  \n",
       "1  18137  \n",
       "2  18141  \n",
       "3  18143  \n",
       "4  18145  "
      ]
     },
     "execution_count": 29,
     "metadata": {},
     "output_type": "execute_result"
    }
   ],
   "source": [
    "df4['fips'] = df4['state code'] + df4['county code']\n",
    "df4.head()"
   ]
  },
  {
   "cell_type": "markdown",
   "id": "cdeaf879-eae7-4624-88f6-1b784b1e41c2",
   "metadata": {},
   "source": [
    "#### 5.Percent of Population with No Vehicle Available: (B25044_003E+B25044_010E)/B25044_001E"
   ]
  },
  {
   "cell_type": "code",
   "execution_count": 30,
   "id": "fc92edb5-03e2-4528-baf7-a3eeaae03484",
   "metadata": {},
   "outputs": [
    {
     "name": "stdout",
     "output_type": "stream",
     "text": [
      "['NAME', 'B25044_003E', 'B25044_010E', 'B25044_001E', 'state', 'county']\n"
     ]
    }
   ],
   "source": [
    "variables = 'B25044_003E,B25044_010E,B25044_001E'\n",
    "df5 = collectAll_county(year,variables)"
   ]
  },
  {
   "cell_type": "code",
   "execution_count": 31,
   "id": "ffe766d8-b979-441c-88cd-5e76f428bebf",
   "metadata": {},
   "outputs": [
    {
     "data": {
      "text/plain": [
       "(1910, 6)"
      ]
     },
     "execution_count": 31,
     "metadata": {},
     "output_type": "execute_result"
    }
   ],
   "source": [
    "df5.shape"
   ]
  },
  {
   "cell_type": "code",
   "execution_count": 32,
   "id": "7fee86e0-d3a9-4465-b16e-5396daeac844",
   "metadata": {},
   "outputs": [],
   "source": [
    "df5['B25044_003E'] = df5['B25044_003E'].apply(changeInteger)\n",
    "df5['B25044_010E'] = df5['B25044_010E'].apply(changeInteger)\n",
    "df5['B25044_001E'] = df5['B25044_001E'].apply(changeInteger)"
   ]
  },
  {
   "cell_type": "code",
   "execution_count": 33,
   "id": "6e2646ff-10d6-4960-8da9-6c8b4d0f8268",
   "metadata": {},
   "outputs": [],
   "source": [
    "df5['percent_no_vehicle'] = ((df5['B25044_003E'] + df5['B25044_010E'])/df5['B25044_001E'])*100"
   ]
  },
  {
   "cell_type": "code",
   "execution_count": 34,
   "id": "9d38e22b-b76e-4345-91c7-40b408bb3d17",
   "metadata": {},
   "outputs": [
    {
     "data": {
      "text/html": [
       "<div>\n",
       "<style scoped>\n",
       "    .dataframe tbody tr th:only-of-type {\n",
       "        vertical-align: middle;\n",
       "    }\n",
       "\n",
       "    .dataframe tbody tr th {\n",
       "        vertical-align: top;\n",
       "    }\n",
       "\n",
       "    .dataframe thead th {\n",
       "        text-align: right;\n",
       "    }\n",
       "</style>\n",
       "<table border=\"1\" class=\"dataframe\">\n",
       "  <thead>\n",
       "    <tr style=\"text-align: right;\">\n",
       "      <th></th>\n",
       "      <th>county_name</th>\n",
       "      <th>B25044_003E</th>\n",
       "      <th>B25044_010E</th>\n",
       "      <th>B25044_001E</th>\n",
       "      <th>state code</th>\n",
       "      <th>county code</th>\n",
       "      <th>percent_no_vehicle</th>\n",
       "      <th>fips</th>\n",
       "    </tr>\n",
       "  </thead>\n",
       "  <tbody>\n",
       "    <tr>\n",
       "      <th>0</th>\n",
       "      <td>Thomas County, Georgia</td>\n",
       "      <td>416</td>\n",
       "      <td>1308</td>\n",
       "      <td>17490</td>\n",
       "      <td>13</td>\n",
       "      <td>275</td>\n",
       "      <td>9.857061</td>\n",
       "      <td>13275</td>\n",
       "    </tr>\n",
       "    <tr>\n",
       "      <th>1</th>\n",
       "      <td>Tift County, Georgia</td>\n",
       "      <td>307</td>\n",
       "      <td>828</td>\n",
       "      <td>13558</td>\n",
       "      <td>13</td>\n",
       "      <td>277</td>\n",
       "      <td>8.371441</td>\n",
       "      <td>13277</td>\n",
       "    </tr>\n",
       "    <tr>\n",
       "      <th>2</th>\n",
       "      <td>Toombs County, Georgia</td>\n",
       "      <td>261</td>\n",
       "      <td>996</td>\n",
       "      <td>10374</td>\n",
       "      <td>13</td>\n",
       "      <td>279</td>\n",
       "      <td>12.116831</td>\n",
       "      <td>13279</td>\n",
       "    </tr>\n",
       "    <tr>\n",
       "      <th>3</th>\n",
       "      <td>Troup County, Georgia</td>\n",
       "      <td>572</td>\n",
       "      <td>1704</td>\n",
       "      <td>24461</td>\n",
       "      <td>13</td>\n",
       "      <td>285</td>\n",
       "      <td>9.304607</td>\n",
       "      <td>13285</td>\n",
       "    </tr>\n",
       "    <tr>\n",
       "      <th>4</th>\n",
       "      <td>Union County, Georgia</td>\n",
       "      <td>137</td>\n",
       "      <td>347</td>\n",
       "      <td>8526</td>\n",
       "      <td>13</td>\n",
       "      <td>291</td>\n",
       "      <td>5.676753</td>\n",
       "      <td>13291</td>\n",
       "    </tr>\n",
       "  </tbody>\n",
       "</table>\n",
       "</div>"
      ],
      "text/plain": [
       "              county_name  B25044_003E  B25044_010E  B25044_001E state code  \\\n",
       "0  Thomas County, Georgia          416         1308        17490         13   \n",
       "1    Tift County, Georgia          307          828        13558         13   \n",
       "2  Toombs County, Georgia          261          996        10374         13   \n",
       "3   Troup County, Georgia          572         1704        24461         13   \n",
       "4   Union County, Georgia          137          347         8526         13   \n",
       "\n",
       "  county code  percent_no_vehicle   fips  \n",
       "0         275            9.857061  13275  \n",
       "1         277            8.371441  13277  \n",
       "2         279           12.116831  13279  \n",
       "3         285            9.304607  13285  \n",
       "4         291            5.676753  13291  "
      ]
     },
     "execution_count": 34,
     "metadata": {},
     "output_type": "execute_result"
    }
   ],
   "source": [
    "df5['fips'] = df5['state code'] + df5['county code']\n",
    "df5.head()"
   ]
  },
  {
   "cell_type": "markdown",
   "id": "2decc903-1e73-4a35-90ae-c0105c6d44ba",
   "metadata": {},
   "source": [
    "#### 6.Percent of Population Unemployed:sum(B21005_006E, B21005_007E, B21005_011E,B21005_012E,B21005_017E,B21005_022E,B21005_028E,B21005_029E,B21005_033E,B21005_034E)/B21005_001E"
   ]
  },
  {
   "cell_type": "code",
   "execution_count": 35,
   "id": "1fa00e51-9547-406a-8a0b-f9e3fe00dba2",
   "metadata": {},
   "outputs": [
    {
     "name": "stdout",
     "output_type": "stream",
     "text": [
      "['NAME', 'B21005_006E', 'B21005_007E', 'B21005_011E', 'B21005_012E', 'B21005_017E', 'B21005_022E', 'B21005_028E', 'B21005_029E', 'B21005_033E', 'B21005_034E', 'B21005_001E', 'state', 'county']\n"
     ]
    }
   ],
   "source": [
    "variables = 'B21005_006E,B21005_007E,B21005_011E,B21005_012E,B21005_017E,B21005_022E,B21005_028E,B21005_029E,B21005_033E,B21005_034E,B21005_001E'\n",
    "df6 = collectAll_county2(year,variables)"
   ]
  },
  {
   "cell_type": "code",
   "execution_count": 36,
   "id": "6be9f1b2-0ffe-44ff-8f4e-ec9c8190f1fa",
   "metadata": {},
   "outputs": [
    {
     "data": {
      "text/plain": [
       "(828, 14)"
      ]
     },
     "execution_count": 36,
     "metadata": {},
     "output_type": "execute_result"
    }
   ],
   "source": [
    "df6.shape"
   ]
  },
  {
   "cell_type": "code",
   "execution_count": 37,
   "id": "8a6b8b0a-3756-48f9-938f-e4eda374eaa8",
   "metadata": {},
   "outputs": [],
   "source": [
    "df6['B21005_006E'] = df6['B21005_006E'].apply(changeInteger)\n",
    "df6['B21005_007E'] = df6['B21005_007E'].apply(changeInteger)\n",
    "df6['B21005_011E'] = df6['B21005_011E'].apply(changeInteger)\n",
    "df6['B21005_012E'] = df6['B21005_012E'].apply(changeInteger)\n",
    "df6['B21005_017E'] = df6['B21005_017E'].apply(changeInteger)\n",
    "df6['B21005_022E'] = df6['B21005_022E'].apply(changeInteger)\n",
    "df6['B21005_028E'] = df6['B21005_028E'].apply(changeInteger)\n",
    "df6['B21005_029E'] = df6['B21005_029E'].apply(changeInteger)\n",
    "df6['B21005_033E'] = df6['B21005_033E'].apply(changeInteger)\n",
    "df6['B21005_034E'] = df6['B21005_034E'].apply(changeInteger)\n",
    "df6['B21005_001E'] = df6['B21005_001E'].apply(changeInteger)"
   ]
  },
  {
   "cell_type": "code",
   "execution_count": 38,
   "id": "52819727-7ad5-4d5f-8c15-8c629af18aea",
   "metadata": {},
   "outputs": [],
   "source": [
    "df6['percent_unemployed_CDC'] = ((df6['B21005_006E']+df6['B21005_007E']+df6['B21005_011E']+df6['B21005_012E']+df6['B21005_017E']+df6['B21005_022E']+df6['B21005_028E']+df6['B21005_029E']+df6['B21005_033E']+df6['B21005_034E'])/df6['B21005_001E'])*100"
   ]
  },
  {
   "cell_type": "code",
   "execution_count": 39,
   "id": "454d2d22-5100-46b6-a390-7f4e17d2d386",
   "metadata": {},
   "outputs": [
    {
     "data": {
      "text/html": [
       "<div>\n",
       "<style scoped>\n",
       "    .dataframe tbody tr th:only-of-type {\n",
       "        vertical-align: middle;\n",
       "    }\n",
       "\n",
       "    .dataframe tbody tr th {\n",
       "        vertical-align: top;\n",
       "    }\n",
       "\n",
       "    .dataframe thead th {\n",
       "        text-align: right;\n",
       "    }\n",
       "</style>\n",
       "<table border=\"1\" class=\"dataframe\">\n",
       "  <thead>\n",
       "    <tr style=\"text-align: right;\">\n",
       "      <th></th>\n",
       "      <th>county_name</th>\n",
       "      <th>B21005_006E</th>\n",
       "      <th>B21005_007E</th>\n",
       "      <th>B21005_011E</th>\n",
       "      <th>B21005_012E</th>\n",
       "      <th>B21005_017E</th>\n",
       "      <th>B21005_022E</th>\n",
       "      <th>B21005_028E</th>\n",
       "      <th>B21005_029E</th>\n",
       "      <th>B21005_033E</th>\n",
       "      <th>B21005_034E</th>\n",
       "      <th>B21005_001E</th>\n",
       "      <th>state code</th>\n",
       "      <th>county code</th>\n",
       "      <th>percent_unemployed_CDC</th>\n",
       "      <th>fips</th>\n",
       "    </tr>\n",
       "  </thead>\n",
       "  <tbody>\n",
       "    <tr>\n",
       "      <th>0</th>\n",
       "      <td>Escambia County, Florida</td>\n",
       "      <td>142</td>\n",
       "      <td>365</td>\n",
       "      <td>7430</td>\n",
       "      <td>17731</td>\n",
       "      <td>481</td>\n",
       "      <td>3890</td>\n",
       "      <td>570</td>\n",
       "      <td>2913</td>\n",
       "      <td>895</td>\n",
       "      <td>13396</td>\n",
       "      <td>184054</td>\n",
       "      <td>12</td>\n",
       "      <td>033</td>\n",
       "      <td>25.977702</td>\n",
       "      <td>12033</td>\n",
       "    </tr>\n",
       "    <tr>\n",
       "      <th>1</th>\n",
       "      <td>Hernando County, Florida</td>\n",
       "      <td>179</td>\n",
       "      <td>71</td>\n",
       "      <td>3596</td>\n",
       "      <td>7922</td>\n",
       "      <td>102</td>\n",
       "      <td>3275</td>\n",
       "      <td>262</td>\n",
       "      <td>1632</td>\n",
       "      <td>937</td>\n",
       "      <td>10495</td>\n",
       "      <td>94149</td>\n",
       "      <td>12</td>\n",
       "      <td>053</td>\n",
       "      <td>30.240364</td>\n",
       "      <td>12053</td>\n",
       "    </tr>\n",
       "    <tr>\n",
       "      <th>2</th>\n",
       "      <td>Hillsborough County, Florida</td>\n",
       "      <td>1079</td>\n",
       "      <td>2549</td>\n",
       "      <td>27365</td>\n",
       "      <td>69593</td>\n",
       "      <td>1471</td>\n",
       "      <td>16486</td>\n",
       "      <td>1161</td>\n",
       "      <td>6231</td>\n",
       "      <td>5708</td>\n",
       "      <td>49267</td>\n",
       "      <td>818148</td>\n",
       "      <td>12</td>\n",
       "      <td>057</td>\n",
       "      <td>22.112136</td>\n",
       "      <td>12057</td>\n",
       "    </tr>\n",
       "    <tr>\n",
       "      <th>3</th>\n",
       "      <td>Okaloosa County, Florida</td>\n",
       "      <td>281</td>\n",
       "      <td>650</td>\n",
       "      <td>2120</td>\n",
       "      <td>9850</td>\n",
       "      <td>655</td>\n",
       "      <td>1381</td>\n",
       "      <td>267</td>\n",
       "      <td>2772</td>\n",
       "      <td>660</td>\n",
       "      <td>7781</td>\n",
       "      <td>113839</td>\n",
       "      <td>12</td>\n",
       "      <td>091</td>\n",
       "      <td>23.205580</td>\n",
       "      <td>12091</td>\n",
       "    </tr>\n",
       "    <tr>\n",
       "      <th>4</th>\n",
       "      <td>Dougherty County, Georgia</td>\n",
       "      <td>218</td>\n",
       "      <td>32</td>\n",
       "      <td>4681</td>\n",
       "      <td>6677</td>\n",
       "      <td>0</td>\n",
       "      <td>2197</td>\n",
       "      <td>107</td>\n",
       "      <td>739</td>\n",
       "      <td>394</td>\n",
       "      <td>4261</td>\n",
       "      <td>57231</td>\n",
       "      <td>13</td>\n",
       "      <td>095</td>\n",
       "      <td>33.733466</td>\n",
       "      <td>13095</td>\n",
       "    </tr>\n",
       "  </tbody>\n",
       "</table>\n",
       "</div>"
      ],
      "text/plain": [
       "                    county_name  B21005_006E  B21005_007E  B21005_011E  \\\n",
       "0      Escambia County, Florida          142          365         7430   \n",
       "1      Hernando County, Florida          179           71         3596   \n",
       "2  Hillsborough County, Florida         1079         2549        27365   \n",
       "3      Okaloosa County, Florida          281          650         2120   \n",
       "4     Dougherty County, Georgia          218           32         4681   \n",
       "\n",
       "   B21005_012E  B21005_017E  B21005_022E  B21005_028E  B21005_029E  \\\n",
       "0        17731          481         3890          570         2913   \n",
       "1         7922          102         3275          262         1632   \n",
       "2        69593         1471        16486         1161         6231   \n",
       "3         9850          655         1381          267         2772   \n",
       "4         6677            0         2197          107          739   \n",
       "\n",
       "   B21005_033E  B21005_034E  B21005_001E state code county code  \\\n",
       "0          895        13396       184054         12         033   \n",
       "1          937        10495        94149         12         053   \n",
       "2         5708        49267       818148         12         057   \n",
       "3          660         7781       113839         12         091   \n",
       "4          394         4261        57231         13         095   \n",
       "\n",
       "   percent_unemployed_CDC   fips  \n",
       "0               25.977702  12033  \n",
       "1               30.240364  12053  \n",
       "2               22.112136  12057  \n",
       "3               23.205580  12091  \n",
       "4               33.733466  13095  "
      ]
     },
     "execution_count": 39,
     "metadata": {},
     "output_type": "execute_result"
    }
   ],
   "source": [
    "df6['fips'] = df6['state code'] + df6['county code']\n",
    "df6.head()"
   ]
  },
  {
   "cell_type": "markdown",
   "id": "c9948355-bd31-4ab4-b7ee-c96586f8d3b1",
   "metadata": {},
   "source": [
    "#### 7.Percent of Population Living In Accommodations with Less Than 1 Room Per Person/Crowding: (B25014_005E+B25014_006E+B25014_007E+B25014_011E+B25014_012E+B25014_013E)/B25014_001E"
   ]
  },
  {
   "cell_type": "code",
   "execution_count": 40,
   "id": "cfca2197-92ec-4373-b8a3-39914cde1365",
   "metadata": {},
   "outputs": [
    {
     "name": "stdout",
     "output_type": "stream",
     "text": [
      "['NAME', 'B25014_005E', 'B25014_006E', 'B25014_007E', 'B25014_011E', 'B25014_012E', 'B25014_013E', 'B25014_001E', 'state', 'county']\n"
     ]
    }
   ],
   "source": [
    "variables = 'B25014_005E,B25014_006E,B25014_007E,B25014_011E,B25014_012E,B25014_013E,B25014_001E'\n",
    "df7 = collectAll_county(year,variables)"
   ]
  },
  {
   "cell_type": "code",
   "execution_count": 41,
   "id": "89125aba-8565-4a24-a3ac-bb5be0e22c56",
   "metadata": {},
   "outputs": [
    {
     "data": {
      "text/plain": [
       "(1910, 10)"
      ]
     },
     "execution_count": 41,
     "metadata": {},
     "output_type": "execute_result"
    }
   ],
   "source": [
    "df7.shape"
   ]
  },
  {
   "cell_type": "code",
   "execution_count": 42,
   "id": "b3a8bf30-04b1-44e3-9a3e-aeaf19720ff0",
   "metadata": {},
   "outputs": [],
   "source": [
    "df7['B25014_005E'] = df7['B25014_005E'].apply(changeInteger)\n",
    "df7['B25014_006E'] = df7['B25014_006E'].apply(changeInteger)\n",
    "df7['B25014_007E'] = df7['B25014_007E'].apply(changeInteger)\n",
    "df7['B25014_011E'] = df7['B25014_011E'].apply(changeInteger)\n",
    "df7['B25014_012E'] = df7['B25014_012E'].apply(changeInteger)\n",
    "df7['B25014_013E'] = df7['B25014_013E'].apply(changeInteger)\n",
    "df7['B25014_001E'] = df7['B25014_001E'].apply(changeInteger)"
   ]
  },
  {
   "cell_type": "code",
   "execution_count": 43,
   "id": "9f70d284-1e36-410e-9abe-2285db087ffb",
   "metadata": {},
   "outputs": [],
   "source": [
    "df7['percent_overcrowding'] = ((df7['B25014_005E']+df7['B25014_006E']+df7['B25014_007E']+df7['B25014_011E']+df7['B25014_012E']+df7['B25014_013E'])/df7['B25014_001E'])*100"
   ]
  },
  {
   "cell_type": "code",
   "execution_count": 44,
   "id": "072747b0-747e-41f3-8b2f-4a39a3e76d97",
   "metadata": {},
   "outputs": [
    {
     "data": {
      "text/html": [
       "<div>\n",
       "<style scoped>\n",
       "    .dataframe tbody tr th:only-of-type {\n",
       "        vertical-align: middle;\n",
       "    }\n",
       "\n",
       "    .dataframe tbody tr th {\n",
       "        vertical-align: top;\n",
       "    }\n",
       "\n",
       "    .dataframe thead th {\n",
       "        text-align: right;\n",
       "    }\n",
       "</style>\n",
       "<table border=\"1\" class=\"dataframe\">\n",
       "  <thead>\n",
       "    <tr style=\"text-align: right;\">\n",
       "      <th></th>\n",
       "      <th>county_name</th>\n",
       "      <th>B25014_005E</th>\n",
       "      <th>B25014_006E</th>\n",
       "      <th>B25014_007E</th>\n",
       "      <th>B25014_011E</th>\n",
       "      <th>B25014_012E</th>\n",
       "      <th>B25014_013E</th>\n",
       "      <th>B25014_001E</th>\n",
       "      <th>state code</th>\n",
       "      <th>county code</th>\n",
       "      <th>percent_overcrowding</th>\n",
       "      <th>fips</th>\n",
       "    </tr>\n",
       "  </thead>\n",
       "  <tbody>\n",
       "    <tr>\n",
       "      <th>0</th>\n",
       "      <td>Iberia Parish, Louisiana</td>\n",
       "      <td>222.0</td>\n",
       "      <td>50.0</td>\n",
       "      <td>66.0</td>\n",
       "      <td>410.0</td>\n",
       "      <td>149.0</td>\n",
       "      <td>56.0</td>\n",
       "      <td>26553.0</td>\n",
       "      <td>22</td>\n",
       "      <td>045</td>\n",
       "      <td>3.589048</td>\n",
       "      <td>22045</td>\n",
       "    </tr>\n",
       "    <tr>\n",
       "      <th>1</th>\n",
       "      <td>Iberville Parish, Louisiana</td>\n",
       "      <td>121.0</td>\n",
       "      <td>71.0</td>\n",
       "      <td>0.0</td>\n",
       "      <td>103.0</td>\n",
       "      <td>0.0</td>\n",
       "      <td>20.0</td>\n",
       "      <td>11396.0</td>\n",
       "      <td>22</td>\n",
       "      <td>047</td>\n",
       "      <td>2.764128</td>\n",
       "      <td>22047</td>\n",
       "    </tr>\n",
       "    <tr>\n",
       "      <th>2</th>\n",
       "      <td>Jefferson Parish, Louisiana</td>\n",
       "      <td>802.0</td>\n",
       "      <td>191.0</td>\n",
       "      <td>71.0</td>\n",
       "      <td>1679.0</td>\n",
       "      <td>715.0</td>\n",
       "      <td>154.0</td>\n",
       "      <td>166684.0</td>\n",
       "      <td>22</td>\n",
       "      <td>051</td>\n",
       "      <td>2.166975</td>\n",
       "      <td>22051</td>\n",
       "    </tr>\n",
       "    <tr>\n",
       "      <th>3</th>\n",
       "      <td>Jefferson Davis Parish, Louisiana</td>\n",
       "      <td>338.0</td>\n",
       "      <td>0.0</td>\n",
       "      <td>0.0</td>\n",
       "      <td>99.0</td>\n",
       "      <td>0.0</td>\n",
       "      <td>39.0</td>\n",
       "      <td>11587.0</td>\n",
       "      <td>22</td>\n",
       "      <td>053</td>\n",
       "      <td>4.108052</td>\n",
       "      <td>22053</td>\n",
       "    </tr>\n",
       "    <tr>\n",
       "      <th>4</th>\n",
       "      <td>Lafayette Parish, Louisiana</td>\n",
       "      <td>610.0</td>\n",
       "      <td>208.0</td>\n",
       "      <td>65.0</td>\n",
       "      <td>557.0</td>\n",
       "      <td>202.0</td>\n",
       "      <td>10.0</td>\n",
       "      <td>87666.0</td>\n",
       "      <td>22</td>\n",
       "      <td>055</td>\n",
       "      <td>1.884425</td>\n",
       "      <td>22055</td>\n",
       "    </tr>\n",
       "  </tbody>\n",
       "</table>\n",
       "</div>"
      ],
      "text/plain": [
       "                         county_name  B25014_005E  B25014_006E  B25014_007E  \\\n",
       "0           Iberia Parish, Louisiana        222.0         50.0         66.0   \n",
       "1        Iberville Parish, Louisiana        121.0         71.0          0.0   \n",
       "2        Jefferson Parish, Louisiana        802.0        191.0         71.0   \n",
       "3  Jefferson Davis Parish, Louisiana        338.0          0.0          0.0   \n",
       "4        Lafayette Parish, Louisiana        610.0        208.0         65.0   \n",
       "\n",
       "   B25014_011E  B25014_012E  B25014_013E  B25014_001E state code county code  \\\n",
       "0        410.0        149.0         56.0      26553.0         22         045   \n",
       "1        103.0          0.0         20.0      11396.0         22         047   \n",
       "2       1679.0        715.0        154.0     166684.0         22         051   \n",
       "3         99.0          0.0         39.0      11587.0         22         053   \n",
       "4        557.0        202.0         10.0      87666.0         22         055   \n",
       "\n",
       "   percent_overcrowding   fips  \n",
       "0              3.589048  22045  \n",
       "1              2.764128  22047  \n",
       "2              2.166975  22051  \n",
       "3              4.108052  22053  \n",
       "4              1.884425  22055  "
      ]
     },
     "execution_count": 44,
     "metadata": {},
     "output_type": "execute_result"
    }
   ],
   "source": [
    "df7['fips'] = df7['state code'] + df7['county code']\n",
    "df7.head()"
   ]
  },
  {
   "cell_type": "markdown",
   "id": "3aac238c-3f49-4579-86e9-27be71f44e3a",
   "metadata": {},
   "source": [
    "#### 8.Percent of Housing Units with 10+ Units in Structure: (B25024_007E+B25024_008E+B25024_009E)/B25024_001E"
   ]
  },
  {
   "cell_type": "code",
   "execution_count": 45,
   "id": "d9c481fc-3286-4ff1-a75e-4a6f1f1106e1",
   "metadata": {},
   "outputs": [
    {
     "name": "stdout",
     "output_type": "stream",
     "text": [
      "['NAME', 'B25024_007E', 'B25024_008E', 'B25024_009E', 'B25024_001E', 'state', 'county']\n"
     ]
    }
   ],
   "source": [
    "variables = 'B25024_007E,B25024_008E,B25024_009E,B25024_001E'\n",
    "df8 = collectAll_county(year,variables)"
   ]
  },
  {
   "cell_type": "code",
   "execution_count": 46,
   "id": "d7134adf-29cd-4150-80d1-6def45982559",
   "metadata": {},
   "outputs": [
    {
     "data": {
      "text/plain": [
       "(1910, 7)"
      ]
     },
     "execution_count": 46,
     "metadata": {},
     "output_type": "execute_result"
    }
   ],
   "source": [
    "df8.shape"
   ]
  },
  {
   "cell_type": "code",
   "execution_count": 47,
   "id": "468626db-72ee-467d-aa73-85803b8ebaae",
   "metadata": {},
   "outputs": [],
   "source": [
    "df8['B25024_007E'] = df8['B25024_007E'].apply(changeInteger)\n",
    "df8['B25024_008E'] = df8['B25024_008E'].apply(changeInteger)\n",
    "df8['B25024_009E'] = df8['B25024_009E'].apply(changeInteger)\n",
    "df8['B25024_001E'] = df8['B25024_001E'].apply(changeInteger)"
   ]
  },
  {
   "cell_type": "code",
   "execution_count": 48,
   "id": "580441b5-fa08-4898-b73f-565ed16106d8",
   "metadata": {},
   "outputs": [],
   "source": [
    "df8['percent_multi_unit_housing'] = ((df8['B25024_007E']+df8['B25024_008E']+df8['B25024_009E'])/df8['B25024_001E'])*100"
   ]
  },
  {
   "cell_type": "code",
   "execution_count": 49,
   "id": "a7fe92c1-17f6-43a4-a116-f6294d828159",
   "metadata": {},
   "outputs": [
    {
     "data": {
      "text/html": [
       "<div>\n",
       "<style scoped>\n",
       "    .dataframe tbody tr th:only-of-type {\n",
       "        vertical-align: middle;\n",
       "    }\n",
       "\n",
       "    .dataframe tbody tr th {\n",
       "        vertical-align: top;\n",
       "    }\n",
       "\n",
       "    .dataframe thead th {\n",
       "        text-align: right;\n",
       "    }\n",
       "</style>\n",
       "<table border=\"1\" class=\"dataframe\">\n",
       "  <thead>\n",
       "    <tr style=\"text-align: right;\">\n",
       "      <th></th>\n",
       "      <th>county_name</th>\n",
       "      <th>B25024_007E</th>\n",
       "      <th>B25024_008E</th>\n",
       "      <th>B25024_009E</th>\n",
       "      <th>B25024_001E</th>\n",
       "      <th>state code</th>\n",
       "      <th>county code</th>\n",
       "      <th>percent_multi_unit_housing</th>\n",
       "      <th>fips</th>\n",
       "    </tr>\n",
       "  </thead>\n",
       "  <tbody>\n",
       "    <tr>\n",
       "      <th>0</th>\n",
       "      <td>Berrien County, Michigan</td>\n",
       "      <td>2306.0</td>\n",
       "      <td>1384.0</td>\n",
       "      <td>1267.0</td>\n",
       "      <td>76618.0</td>\n",
       "      <td>26</td>\n",
       "      <td>021</td>\n",
       "      <td>6.469759</td>\n",
       "      <td>26021</td>\n",
       "    </tr>\n",
       "    <tr>\n",
       "      <th>1</th>\n",
       "      <td>Branch County, Michigan</td>\n",
       "      <td>159.0</td>\n",
       "      <td>237.0</td>\n",
       "      <td>276.0</td>\n",
       "      <td>20647.0</td>\n",
       "      <td>26</td>\n",
       "      <td>023</td>\n",
       "      <td>3.254710</td>\n",
       "      <td>26023</td>\n",
       "    </tr>\n",
       "    <tr>\n",
       "      <th>2</th>\n",
       "      <td>Calhoun County, Michigan</td>\n",
       "      <td>2563.0</td>\n",
       "      <td>2502.0</td>\n",
       "      <td>1533.0</td>\n",
       "      <td>60659.0</td>\n",
       "      <td>26</td>\n",
       "      <td>025</td>\n",
       "      <td>10.877199</td>\n",
       "      <td>26025</td>\n",
       "    </tr>\n",
       "    <tr>\n",
       "      <th>3</th>\n",
       "      <td>Cass County, Michigan</td>\n",
       "      <td>194.0</td>\n",
       "      <td>195.0</td>\n",
       "      <td>228.0</td>\n",
       "      <td>25812.0</td>\n",
       "      <td>26</td>\n",
       "      <td>027</td>\n",
       "      <td>2.390361</td>\n",
       "      <td>26027</td>\n",
       "    </tr>\n",
       "    <tr>\n",
       "      <th>4</th>\n",
       "      <td>Charlevoix County, Michigan</td>\n",
       "      <td>387.0</td>\n",
       "      <td>156.0</td>\n",
       "      <td>175.0</td>\n",
       "      <td>17266.0</td>\n",
       "      <td>26</td>\n",
       "      <td>029</td>\n",
       "      <td>4.158462</td>\n",
       "      <td>26029</td>\n",
       "    </tr>\n",
       "  </tbody>\n",
       "</table>\n",
       "</div>"
      ],
      "text/plain": [
       "                   county_name  B25024_007E  B25024_008E  B25024_009E  \\\n",
       "0     Berrien County, Michigan       2306.0       1384.0       1267.0   \n",
       "1      Branch County, Michigan        159.0        237.0        276.0   \n",
       "2     Calhoun County, Michigan       2563.0       2502.0       1533.0   \n",
       "3        Cass County, Michigan        194.0        195.0        228.0   \n",
       "4  Charlevoix County, Michigan        387.0        156.0        175.0   \n",
       "\n",
       "   B25024_001E state code county code  percent_multi_unit_housing   fips  \n",
       "0      76618.0         26         021                    6.469759  26021  \n",
       "1      20647.0         26         023                    3.254710  26023  \n",
       "2      60659.0         26         025                   10.877199  26025  \n",
       "3      25812.0         26         027                    2.390361  26027  \n",
       "4      17266.0         26         029                    4.158462  26029  "
      ]
     },
     "execution_count": 49,
     "metadata": {},
     "output_type": "execute_result"
    }
   ],
   "source": [
    "df8['fips'] = df8['state code'] + df8['county code']\n",
    "df8.head()"
   ]
  },
  {
   "cell_type": "markdown",
   "id": "045aa5cc-659a-49fc-8928-86e41fa267c0",
   "metadata": {},
   "source": [
    "#### 9.Percent Of Population 65+: (B01001_020E,B01001_021E,B01001_022E,B01001_023E,B01001_024E,B01001_025E,B01001_044E,B01001_045E,B01001_046E,B01001_047E,B01001_049E)/B01001_001E"
   ]
  },
  {
   "cell_type": "code",
   "execution_count": 50,
   "id": "482dcdb3-80fd-4bbc-940b-2179aa106937",
   "metadata": {},
   "outputs": [
    {
     "name": "stdout",
     "output_type": "stream",
     "text": [
      "['NAME', 'B01001_020E', 'B01001_021E', 'B01001_022E', 'B01001_023E', 'B01001_024E', 'B01001_025E', 'B01001_044E', 'B01001_045E', 'B01001_046E', 'B01001_047E', 'B01001_048E', 'B01001_049E', 'B01001_001E', 'state', 'county']\n"
     ]
    }
   ],
   "source": [
    "variables = 'B01001_020E,B01001_021E,B01001_022E,B01001_023E,B01001_024E,B01001_025E,B01001_044E,B01001_045E,B01001_046E,B01001_047E,B01001_048E,B01001_049E,B01001_001E'\n",
    "df9 = collectAll_county(year,variables)"
   ]
  },
  {
   "cell_type": "code",
   "execution_count": 51,
   "id": "77b05482-58e0-4579-9068-4226dd49aa19",
   "metadata": {},
   "outputs": [
    {
     "data": {
      "text/plain": [
       "(1910, 16)"
      ]
     },
     "execution_count": 51,
     "metadata": {},
     "output_type": "execute_result"
    }
   ],
   "source": [
    "df9.shape"
   ]
  },
  {
   "cell_type": "code",
   "execution_count": 52,
   "id": "117d94de-9b6a-4912-b6f3-c5167ebbe6f0",
   "metadata": {},
   "outputs": [],
   "source": [
    "df9['B01001_020E'] = df9['B01001_020E'].apply(changeInteger)\n",
    "df9['B01001_021E'] = df9['B01001_021E'].apply(changeInteger)\n",
    "df9['B01001_022E'] = df9['B01001_022E'].apply(changeInteger)\n",
    "df9['B01001_023E'] = df9['B01001_023E'].apply(changeInteger)\n",
    "df9['B01001_024E'] = df9['B01001_024E'].apply(changeInteger)\n",
    "df9['B01001_025E'] = df9['B01001_025E'].apply(changeInteger)\n",
    "df9['B01001_044E'] = df9['B01001_044E'].apply(changeInteger)\n",
    "df9['B01001_045E'] = df9['B01001_045E'].apply(changeInteger)\n",
    "df9['B01001_046E'] = df9['B01001_046E'].apply(changeInteger)\n",
    "df9['B01001_047E'] = df9['B01001_047E'].apply(changeInteger)\n",
    "df9['B01001_048E'] = df9['B01001_048E'].apply(changeInteger)\n",
    "df9['B01001_049E'] = df9['B01001_049E'].apply(changeInteger)\n",
    "df9['B01001_001E'] = df9['B01001_001E'].apply(changeInteger)"
   ]
  },
  {
   "cell_type": "code",
   "execution_count": 53,
   "id": "cd9b0d69-3ed6-4340-9d81-c00cef379245",
   "metadata": {},
   "outputs": [],
   "source": [
    "df9['percent_age_65_and_older'] = ((df9['B01001_020E']+df9['B01001_021E']+df9['B01001_022E']+df9['B01001_023E']+df9['B01001_024E']+df9['B01001_025E']+df9['B01001_044E']\n",
    "                                  +df9['B01001_045E']+df9['B01001_046E']+df9['B01001_047E']+df9['B01001_048E']+df9['B01001_049E'])/df9['B01001_001E'])*100"
   ]
  },
  {
   "cell_type": "code",
   "execution_count": 54,
   "id": "9f8e8e5a-8892-4e65-9db9-a34f06a90cdb",
   "metadata": {},
   "outputs": [
    {
     "data": {
      "text/html": [
       "<div>\n",
       "<style scoped>\n",
       "    .dataframe tbody tr th:only-of-type {\n",
       "        vertical-align: middle;\n",
       "    }\n",
       "\n",
       "    .dataframe tbody tr th {\n",
       "        vertical-align: top;\n",
       "    }\n",
       "\n",
       "    .dataframe thead th {\n",
       "        text-align: right;\n",
       "    }\n",
       "</style>\n",
       "<table border=\"1\" class=\"dataframe\">\n",
       "  <thead>\n",
       "    <tr style=\"text-align: right;\">\n",
       "      <th></th>\n",
       "      <th>county_name</th>\n",
       "      <th>B01001_020E</th>\n",
       "      <th>B01001_021E</th>\n",
       "      <th>B01001_022E</th>\n",
       "      <th>B01001_023E</th>\n",
       "      <th>B01001_024E</th>\n",
       "      <th>B01001_025E</th>\n",
       "      <th>B01001_044E</th>\n",
       "      <th>B01001_045E</th>\n",
       "      <th>B01001_046E</th>\n",
       "      <th>B01001_047E</th>\n",
       "      <th>B01001_048E</th>\n",
       "      <th>B01001_049E</th>\n",
       "      <th>B01001_001E</th>\n",
       "      <th>state code</th>\n",
       "      <th>county code</th>\n",
       "      <th>percent_age_65_and_older</th>\n",
       "      <th>fips</th>\n",
       "    </tr>\n",
       "  </thead>\n",
       "  <tbody>\n",
       "    <tr>\n",
       "      <th>0</th>\n",
       "      <td>Washington County, Florida</td>\n",
       "      <td>211</td>\n",
       "      <td>378</td>\n",
       "      <td>662</td>\n",
       "      <td>386</td>\n",
       "      <td>207</td>\n",
       "      <td>75</td>\n",
       "      <td>341</td>\n",
       "      <td>313</td>\n",
       "      <td>595</td>\n",
       "      <td>330</td>\n",
       "      <td>343</td>\n",
       "      <td>247</td>\n",
       "      <td>24688</td>\n",
       "      <td>12</td>\n",
       "      <td>133</td>\n",
       "      <td>16.558652</td>\n",
       "      <td>12133</td>\n",
       "    </tr>\n",
       "    <tr>\n",
       "      <th>1</th>\n",
       "      <td>Baldwin County, Georgia</td>\n",
       "      <td>354</td>\n",
       "      <td>679</td>\n",
       "      <td>662</td>\n",
       "      <td>298</td>\n",
       "      <td>482</td>\n",
       "      <td>204</td>\n",
       "      <td>380</td>\n",
       "      <td>555</td>\n",
       "      <td>872</td>\n",
       "      <td>461</td>\n",
       "      <td>402</td>\n",
       "      <td>514</td>\n",
       "      <td>45800</td>\n",
       "      <td>13</td>\n",
       "      <td>009</td>\n",
       "      <td>12.801310</td>\n",
       "      <td>13009</td>\n",
       "    </tr>\n",
       "    <tr>\n",
       "      <th>2</th>\n",
       "      <td>Barrow County, Georgia</td>\n",
       "      <td>540</td>\n",
       "      <td>613</td>\n",
       "      <td>721</td>\n",
       "      <td>587</td>\n",
       "      <td>317</td>\n",
       "      <td>184</td>\n",
       "      <td>676</td>\n",
       "      <td>842</td>\n",
       "      <td>1048</td>\n",
       "      <td>693</td>\n",
       "      <td>581</td>\n",
       "      <td>411</td>\n",
       "      <td>70478</td>\n",
       "      <td>13</td>\n",
       "      <td>013</td>\n",
       "      <td>10.234399</td>\n",
       "      <td>13013</td>\n",
       "    </tr>\n",
       "    <tr>\n",
       "      <th>3</th>\n",
       "      <td>Bartow County, Georgia</td>\n",
       "      <td>708</td>\n",
       "      <td>1229</td>\n",
       "      <td>1499</td>\n",
       "      <td>988</td>\n",
       "      <td>630</td>\n",
       "      <td>236</td>\n",
       "      <td>1254</td>\n",
       "      <td>1435</td>\n",
       "      <td>1166</td>\n",
       "      <td>1268</td>\n",
       "      <td>891</td>\n",
       "      <td>511</td>\n",
       "      <td>100659</td>\n",
       "      <td>13</td>\n",
       "      <td>015</td>\n",
       "      <td>11.737649</td>\n",
       "      <td>13015</td>\n",
       "    </tr>\n",
       "    <tr>\n",
       "      <th>4</th>\n",
       "      <td>Bibb County, Georgia</td>\n",
       "      <td>1193</td>\n",
       "      <td>1525</td>\n",
       "      <td>2229</td>\n",
       "      <td>1462</td>\n",
       "      <td>1122</td>\n",
       "      <td>668</td>\n",
       "      <td>1791</td>\n",
       "      <td>1966</td>\n",
       "      <td>2483</td>\n",
       "      <td>2201</td>\n",
       "      <td>1778</td>\n",
       "      <td>1964</td>\n",
       "      <td>155611</td>\n",
       "      <td>13</td>\n",
       "      <td>021</td>\n",
       "      <td>13.098046</td>\n",
       "      <td>13021</td>\n",
       "    </tr>\n",
       "  </tbody>\n",
       "</table>\n",
       "</div>"
      ],
      "text/plain": [
       "                  county_name  B01001_020E  B01001_021E  B01001_022E  \\\n",
       "0  Washington County, Florida          211          378          662   \n",
       "1     Baldwin County, Georgia          354          679          662   \n",
       "2      Barrow County, Georgia          540          613          721   \n",
       "3      Bartow County, Georgia          708         1229         1499   \n",
       "4        Bibb County, Georgia         1193         1525         2229   \n",
       "\n",
       "   B01001_023E  B01001_024E  B01001_025E  B01001_044E  B01001_045E  \\\n",
       "0          386          207           75          341          313   \n",
       "1          298          482          204          380          555   \n",
       "2          587          317          184          676          842   \n",
       "3          988          630          236         1254         1435   \n",
       "4         1462         1122          668         1791         1966   \n",
       "\n",
       "   B01001_046E  B01001_047E  B01001_048E  B01001_049E  B01001_001E state code  \\\n",
       "0          595          330          343          247        24688         12   \n",
       "1          872          461          402          514        45800         13   \n",
       "2         1048          693          581          411        70478         13   \n",
       "3         1166         1268          891          511       100659         13   \n",
       "4         2483         2201         1778         1964       155611         13   \n",
       "\n",
       "  county code  percent_age_65_and_older   fips  \n",
       "0         133                 16.558652  12133  \n",
       "1         009                 12.801310  13009  \n",
       "2         013                 10.234399  13013  \n",
       "3         015                 11.737649  13015  \n",
       "4         021                 13.098046  13021  "
      ]
     },
     "execution_count": 54,
     "metadata": {},
     "output_type": "execute_result"
    }
   ],
   "source": [
    "df9['fips'] = df9['state code'] + df9['county code']\n",
    "df9.head()"
   ]
  },
  {
   "cell_type": "markdown",
   "id": "dcb04516-8d7f-4ad2-beb3-e688daa12187",
   "metadata": {},
   "source": [
    "#### 10.Percent Of Population Who Do Not Speak English: B99163_005E/B99163_001E"
   ]
  },
  {
   "cell_type": "code",
   "execution_count": 55,
   "id": "f97dbc43-c00a-4e2b-b8c3-8db219707786",
   "metadata": {},
   "outputs": [
    {
     "name": "stdout",
     "output_type": "stream",
     "text": [
      "['NAME', 'B99163_005E', 'B99163_001E', 'state', 'county']\n"
     ]
    }
   ],
   "source": [
    "variables = 'B99163_005E,B99163_001E'\n",
    "df10 = collectAll_county(year,variables)"
   ]
  },
  {
   "cell_type": "code",
   "execution_count": 56,
   "id": "86a48711-061f-4a53-b7bb-a0523aa745f1",
   "metadata": {},
   "outputs": [
    {
     "data": {
      "text/plain": [
       "(1910, 5)"
      ]
     },
     "execution_count": 56,
     "metadata": {},
     "output_type": "execute_result"
    }
   ],
   "source": [
    "df10.shape"
   ]
  },
  {
   "cell_type": "code",
   "execution_count": 57,
   "id": "c87745bc-19ae-4efc-904d-7390a39c3c9d",
   "metadata": {},
   "outputs": [],
   "source": [
    "df10['B99163_005E'] = df10['B99163_005E'].apply(changeInteger)\n",
    "df10['B99163_001E'] = df10['B99163_001E'].apply(changeInteger)"
   ]
  },
  {
   "cell_type": "code",
   "execution_count": 58,
   "id": "79fc7f2e-ce55-499c-ab8b-aa573ca1801f",
   "metadata": {},
   "outputs": [],
   "source": [
    "df10['percent_limited_english_abilities'] = (df10['B99163_005E']/df10['B99163_001E'])*100"
   ]
  },
  {
   "cell_type": "code",
   "execution_count": 59,
   "id": "da196dd1-f265-41f4-8394-30c7bb0ac2b7",
   "metadata": {},
   "outputs": [
    {
     "data": {
      "text/html": [
       "<div>\n",
       "<style scoped>\n",
       "    .dataframe tbody tr th:only-of-type {\n",
       "        vertical-align: middle;\n",
       "    }\n",
       "\n",
       "    .dataframe tbody tr th {\n",
       "        vertical-align: top;\n",
       "    }\n",
       "\n",
       "    .dataframe thead th {\n",
       "        text-align: right;\n",
       "    }\n",
       "</style>\n",
       "<table border=\"1\" class=\"dataframe\">\n",
       "  <thead>\n",
       "    <tr style=\"text-align: right;\">\n",
       "      <th></th>\n",
       "      <th>county_name</th>\n",
       "      <th>B99163_005E</th>\n",
       "      <th>B99163_001E</th>\n",
       "      <th>state code</th>\n",
       "      <th>county code</th>\n",
       "      <th>percent_limited_english_abilities</th>\n",
       "      <th>fips</th>\n",
       "    </tr>\n",
       "  </thead>\n",
       "  <tbody>\n",
       "    <tr>\n",
       "      <th>0</th>\n",
       "      <td>Clarke County, Georgia</td>\n",
       "      <td>14352</td>\n",
       "      <td>112984</td>\n",
       "      <td>13</td>\n",
       "      <td>059</td>\n",
       "      <td>12.702684</td>\n",
       "      <td>13059</td>\n",
       "    </tr>\n",
       "    <tr>\n",
       "      <th>1</th>\n",
       "      <td>Clayton County, Georgia</td>\n",
       "      <td>46611</td>\n",
       "      <td>242597</td>\n",
       "      <td>13</td>\n",
       "      <td>063</td>\n",
       "      <td>19.213346</td>\n",
       "      <td>13063</td>\n",
       "    </tr>\n",
       "    <tr>\n",
       "      <th>2</th>\n",
       "      <td>Cobb County, Georgia</td>\n",
       "      <td>132806</td>\n",
       "      <td>659274</td>\n",
       "      <td>13</td>\n",
       "      <td>067</td>\n",
       "      <td>20.144280</td>\n",
       "      <td>13067</td>\n",
       "    </tr>\n",
       "    <tr>\n",
       "      <th>3</th>\n",
       "      <td>Coffee County, Georgia</td>\n",
       "      <td>3428</td>\n",
       "      <td>40169</td>\n",
       "      <td>13</td>\n",
       "      <td>069</td>\n",
       "      <td>8.533944</td>\n",
       "      <td>13069</td>\n",
       "    </tr>\n",
       "    <tr>\n",
       "      <th>4</th>\n",
       "      <td>Colquitt County, Georgia</td>\n",
       "      <td>7116</td>\n",
       "      <td>42278</td>\n",
       "      <td>13</td>\n",
       "      <td>071</td>\n",
       "      <td>16.831449</td>\n",
       "      <td>13071</td>\n",
       "    </tr>\n",
       "  </tbody>\n",
       "</table>\n",
       "</div>"
      ],
      "text/plain": [
       "                county_name  B99163_005E  B99163_001E state code county code  \\\n",
       "0    Clarke County, Georgia        14352       112984         13         059   \n",
       "1   Clayton County, Georgia        46611       242597         13         063   \n",
       "2      Cobb County, Georgia       132806       659274         13         067   \n",
       "3    Coffee County, Georgia         3428        40169         13         069   \n",
       "4  Colquitt County, Georgia         7116        42278         13         071   \n",
       "\n",
       "   percent_limited_english_abilities   fips  \n",
       "0                          12.702684  13059  \n",
       "1                          19.213346  13063  \n",
       "2                          20.144280  13067  \n",
       "3                           8.533944  13069  \n",
       "4                          16.831449  13071  "
      ]
     },
     "execution_count": 59,
     "metadata": {},
     "output_type": "execute_result"
    }
   ],
   "source": [
    "df10['fips'] = df10['state code'] + df10['county code']\n",
    "df10.head()"
   ]
  },
  {
   "cell_type": "markdown",
   "id": "230a9265-4827-498c-9cae-c18df3f821b6",
   "metadata": {},
   "source": [
    "#### 11.Percent of Population 17 Years of Age and Under: (B01001_003E+B01001_004E+B01001_005E+B01001_006E+B01001_027E+B01001_028E+B01001_029E+B01001_030E)/B01003_001E"
   ]
  },
  {
   "cell_type": "code",
   "execution_count": 60,
   "id": "43b38a7d-f7ca-4595-8f39-91f898996c9a",
   "metadata": {},
   "outputs": [
    {
     "name": "stdout",
     "output_type": "stream",
     "text": [
      "['NAME', 'B01001_003E', 'B01001_004E', 'B01001_005E', 'B01001_006E', 'B01001_027E', 'B01001_028E', 'B01001_029E', 'B01001_030E', 'B01003_001E', 'state', 'county']\n"
     ]
    }
   ],
   "source": [
    "variables = 'B01001_003E,B01001_004E,B01001_005E,B01001_006E,B01001_027E,B01001_028E,B01001_029E,B01001_030E,B01003_001E'\n",
    "df11 = collectAll_county(year,variables)"
   ]
  },
  {
   "cell_type": "code",
   "execution_count": 61,
   "id": "aab660f8-39a7-4dc8-ae57-9a715c2bb20e",
   "metadata": {},
   "outputs": [
    {
     "data": {
      "text/plain": [
       "(1910, 12)"
      ]
     },
     "execution_count": 61,
     "metadata": {},
     "output_type": "execute_result"
    }
   ],
   "source": [
    "df11.shape"
   ]
  },
  {
   "cell_type": "code",
   "execution_count": 62,
   "id": "3e91d91d-0f62-45e1-aa28-feb685e79554",
   "metadata": {},
   "outputs": [],
   "source": [
    "df11['B01001_003E'] = df11['B01001_003E'].apply(changeInteger)\n",
    "df11['B01001_004E'] = df11['B01001_004E'].apply(changeInteger)\n",
    "df11['B01001_005E'] = df11['B01001_005E'].apply(changeInteger)\n",
    "df11['B01001_006E'] = df11['B01001_006E'].apply(changeInteger)\n",
    "df11['B01001_027E'] = df11['B01001_027E'].apply(changeInteger)\n",
    "df11['B01001_028E'] = df11['B01001_028E'].apply(changeInteger)\n",
    "df11['B01001_029E'] = df11['B01001_029E'].apply(changeInteger)\n",
    "df11['B01001_030E'] = df11['B01001_030E'].apply(changeInteger)\n",
    "df11['B01003_001E'] = df11['B01003_001E'].apply(changeInteger)"
   ]
  },
  {
   "cell_type": "code",
   "execution_count": 63,
   "id": "7ef3e8d6-ddb3-4693-8418-2b8891a87a16",
   "metadata": {},
   "outputs": [],
   "source": [
    "df11['percent_age_17_and_younger'] = ((df11['B01001_003E']+df11['B01001_004E']+df11['B01001_005E']+df11['B01001_006E']+df11['B01001_027E']+df11['B01001_028E']+df11['B01001_029E']+df11['B01001_030E'])/df11['B01003_001E'])*100"
   ]
  },
  {
   "cell_type": "code",
   "execution_count": 64,
   "id": "b4e9178e-a1d3-479b-8a8f-35eb701d327d",
   "metadata": {},
   "outputs": [
    {
     "data": {
      "text/html": [
       "<div>\n",
       "<style scoped>\n",
       "    .dataframe tbody tr th:only-of-type {\n",
       "        vertical-align: middle;\n",
       "    }\n",
       "\n",
       "    .dataframe tbody tr th {\n",
       "        vertical-align: top;\n",
       "    }\n",
       "\n",
       "    .dataframe thead th {\n",
       "        text-align: right;\n",
       "    }\n",
       "</style>\n",
       "<table border=\"1\" class=\"dataframe\">\n",
       "  <thead>\n",
       "    <tr style=\"text-align: right;\">\n",
       "      <th></th>\n",
       "      <th>county_name</th>\n",
       "      <th>B01001_003E</th>\n",
       "      <th>B01001_004E</th>\n",
       "      <th>B01001_005E</th>\n",
       "      <th>B01001_006E</th>\n",
       "      <th>B01001_027E</th>\n",
       "      <th>B01001_028E</th>\n",
       "      <th>B01001_029E</th>\n",
       "      <th>B01001_030E</th>\n",
       "      <th>B01003_001E</th>\n",
       "      <th>state code</th>\n",
       "      <th>county code</th>\n",
       "      <th>percent_age_17_and_younger</th>\n",
       "      <th>fips</th>\n",
       "    </tr>\n",
       "  </thead>\n",
       "  <tbody>\n",
       "    <tr>\n",
       "      <th>0</th>\n",
       "      <td>Dorchester County, Maryland</td>\n",
       "      <td>1041</td>\n",
       "      <td>1020</td>\n",
       "      <td>910</td>\n",
       "      <td>576</td>\n",
       "      <td>970</td>\n",
       "      <td>998</td>\n",
       "      <td>775</td>\n",
       "      <td>627</td>\n",
       "      <td>32645</td>\n",
       "      <td>24</td>\n",
       "      <td>019</td>\n",
       "      <td>21.188543</td>\n",
       "      <td>24019</td>\n",
       "    </tr>\n",
       "    <tr>\n",
       "      <th>1</th>\n",
       "      <td>Frederick County, Maryland</td>\n",
       "      <td>7561</td>\n",
       "      <td>8006</td>\n",
       "      <td>9049</td>\n",
       "      <td>5507</td>\n",
       "      <td>7035</td>\n",
       "      <td>8539</td>\n",
       "      <td>7798</td>\n",
       "      <td>5025</td>\n",
       "      <td>239407</td>\n",
       "      <td>24</td>\n",
       "      <td>021</td>\n",
       "      <td>24.443730</td>\n",
       "      <td>24021</td>\n",
       "    </tr>\n",
       "    <tr>\n",
       "      <th>2</th>\n",
       "      <td>Garrett County, Maryland</td>\n",
       "      <td>741</td>\n",
       "      <td>922</td>\n",
       "      <td>911</td>\n",
       "      <td>671</td>\n",
       "      <td>713</td>\n",
       "      <td>919</td>\n",
       "      <td>773</td>\n",
       "      <td>574</td>\n",
       "      <td>29946</td>\n",
       "      <td>24</td>\n",
       "      <td>023</td>\n",
       "      <td>20.784078</td>\n",
       "      <td>24023</td>\n",
       "    </tr>\n",
       "    <tr>\n",
       "      <th>3</th>\n",
       "      <td>Harford County, Maryland</td>\n",
       "      <td>7335</td>\n",
       "      <td>8317</td>\n",
       "      <td>8940</td>\n",
       "      <td>5466</td>\n",
       "      <td>6961</td>\n",
       "      <td>8333</td>\n",
       "      <td>7981</td>\n",
       "      <td>5432</td>\n",
       "      <td>248145</td>\n",
       "      <td>24</td>\n",
       "      <td>025</td>\n",
       "      <td>23.681718</td>\n",
       "      <td>24025</td>\n",
       "    </tr>\n",
       "    <tr>\n",
       "      <th>4</th>\n",
       "      <td>Howard County, Maryland</td>\n",
       "      <td>9118</td>\n",
       "      <td>11606</td>\n",
       "      <td>10549</td>\n",
       "      <td>7394</td>\n",
       "      <td>8767</td>\n",
       "      <td>9392</td>\n",
       "      <td>11564</td>\n",
       "      <td>6896</td>\n",
       "      <td>299188</td>\n",
       "      <td>24</td>\n",
       "      <td>027</td>\n",
       "      <td>25.163442</td>\n",
       "      <td>24027</td>\n",
       "    </tr>\n",
       "  </tbody>\n",
       "</table>\n",
       "</div>"
      ],
      "text/plain": [
       "                   county_name  B01001_003E  B01001_004E  B01001_005E  \\\n",
       "0  Dorchester County, Maryland         1041         1020          910   \n",
       "1   Frederick County, Maryland         7561         8006         9049   \n",
       "2     Garrett County, Maryland          741          922          911   \n",
       "3     Harford County, Maryland         7335         8317         8940   \n",
       "4      Howard County, Maryland         9118        11606        10549   \n",
       "\n",
       "   B01001_006E  B01001_027E  B01001_028E  B01001_029E  B01001_030E  \\\n",
       "0          576          970          998          775          627   \n",
       "1         5507         7035         8539         7798         5025   \n",
       "2          671          713          919          773          574   \n",
       "3         5466         6961         8333         7981         5432   \n",
       "4         7394         8767         9392        11564         6896   \n",
       "\n",
       "   B01003_001E state code county code  percent_age_17_and_younger   fips  \n",
       "0        32645         24         019                   21.188543  24019  \n",
       "1       239407         24         021                   24.443730  24021  \n",
       "2        29946         24         023                   20.784078  24023  \n",
       "3       248145         24         025                   23.681718  24025  \n",
       "4       299188         24         027                   25.163442  24027  "
      ]
     },
     "execution_count": 64,
     "metadata": {},
     "output_type": "execute_result"
    }
   ],
   "source": [
    "df11['fips'] = df11['state code'] + df11['county code']\n",
    "df11.head()"
   ]
  },
  {
   "cell_type": "markdown",
   "id": "0dc9064e-fd0b-4281-8771-366259395f20",
   "metadata": {},
   "source": [
    "#### 12.Percent Minority: 1-(B03002_003E/B03002_001E)"
   ]
  },
  {
   "cell_type": "code",
   "execution_count": 65,
   "id": "0c50e5e9-378c-4077-80f2-687a37f92625",
   "metadata": {},
   "outputs": [
    {
     "name": "stdout",
     "output_type": "stream",
     "text": [
      "['NAME', 'B03002_003E', 'B03002_001E', 'state', 'county']\n"
     ]
    }
   ],
   "source": [
    "variables = 'B03002_003E,B03002_001E'\n",
    "df12 = collectAll_county(year,variables)"
   ]
  },
  {
   "cell_type": "code",
   "execution_count": 66,
   "id": "e07e365e-585c-4b97-ba5e-25fa6039d637",
   "metadata": {},
   "outputs": [
    {
     "data": {
      "text/plain": [
       "(1910, 5)"
      ]
     },
     "execution_count": 66,
     "metadata": {},
     "output_type": "execute_result"
    }
   ],
   "source": [
    "df12.shape"
   ]
  },
  {
   "cell_type": "code",
   "execution_count": 67,
   "id": "dbe1bd76-0991-4fd4-a082-6f9a49c9abd3",
   "metadata": {},
   "outputs": [],
   "source": [
    "df12['B03002_003E'] = df12['B03002_003E'].apply(changeInteger)\n",
    "df12['B03002_001E'] = df12['B03002_001E'].apply(changeInteger)"
   ]
  },
  {
   "cell_type": "code",
   "execution_count": 68,
   "id": "156010fd-f12e-4306-b90e-e4b0183df959",
   "metadata": {},
   "outputs": [],
   "source": [
    "df12['percent_minorities'] = (1 - (df12['B03002_003E']/df12['B03002_001E']))*100"
   ]
  },
  {
   "cell_type": "code",
   "execution_count": 69,
   "id": "7ef360b7-92cf-445f-a5fc-04cbe424922f",
   "metadata": {},
   "outputs": [
    {
     "data": {
      "text/html": [
       "<div>\n",
       "<style scoped>\n",
       "    .dataframe tbody tr th:only-of-type {\n",
       "        vertical-align: middle;\n",
       "    }\n",
       "\n",
       "    .dataframe tbody tr th {\n",
       "        vertical-align: top;\n",
       "    }\n",
       "\n",
       "    .dataframe thead th {\n",
       "        text-align: right;\n",
       "    }\n",
       "</style>\n",
       "<table border=\"1\" class=\"dataframe\">\n",
       "  <thead>\n",
       "    <tr style=\"text-align: right;\">\n",
       "      <th></th>\n",
       "      <th>county_name</th>\n",
       "      <th>B03002_003E</th>\n",
       "      <th>B03002_001E</th>\n",
       "      <th>state code</th>\n",
       "      <th>county code</th>\n",
       "      <th>percent_minorities</th>\n",
       "      <th>fips</th>\n",
       "    </tr>\n",
       "  </thead>\n",
       "  <tbody>\n",
       "    <tr>\n",
       "      <th>0</th>\n",
       "      <td>Hernando County, Florida</td>\n",
       "      <td>140777.0</td>\n",
       "      <td>173549.0</td>\n",
       "      <td>12</td>\n",
       "      <td>053</td>\n",
       "      <td>18.883428</td>\n",
       "      <td>12053</td>\n",
       "    </tr>\n",
       "    <tr>\n",
       "      <th>1</th>\n",
       "      <td>Highlands County, Florida</td>\n",
       "      <td>68114.0</td>\n",
       "      <td>97903.0</td>\n",
       "      <td>12</td>\n",
       "      <td>055</td>\n",
       "      <td>30.427055</td>\n",
       "      <td>12055</td>\n",
       "    </tr>\n",
       "    <tr>\n",
       "      <th>2</th>\n",
       "      <td>Hillsborough County, Florida</td>\n",
       "      <td>672249.0</td>\n",
       "      <td>1280536.0</td>\n",
       "      <td>12</td>\n",
       "      <td>057</td>\n",
       "      <td>47.502530</td>\n",
       "      <td>12057</td>\n",
       "    </tr>\n",
       "    <tr>\n",
       "      <th>3</th>\n",
       "      <td>Indian River County, Florida</td>\n",
       "      <td>107929.0</td>\n",
       "      <td>140509.0</td>\n",
       "      <td>12</td>\n",
       "      <td>061</td>\n",
       "      <td>23.187127</td>\n",
       "      <td>12061</td>\n",
       "    </tr>\n",
       "    <tr>\n",
       "      <th>4</th>\n",
       "      <td>Jackson County, Florida</td>\n",
       "      <td>32204.0</td>\n",
       "      <td>48987.0</td>\n",
       "      <td>12</td>\n",
       "      <td>063</td>\n",
       "      <td>34.260110</td>\n",
       "      <td>12063</td>\n",
       "    </tr>\n",
       "  </tbody>\n",
       "</table>\n",
       "</div>"
      ],
      "text/plain": [
       "                    county_name  B03002_003E  B03002_001E state code  \\\n",
       "0      Hernando County, Florida     140777.0     173549.0         12   \n",
       "1     Highlands County, Florida      68114.0      97903.0         12   \n",
       "2  Hillsborough County, Florida     672249.0    1280536.0         12   \n",
       "3  Indian River County, Florida     107929.0     140509.0         12   \n",
       "4       Jackson County, Florida      32204.0      48987.0         12   \n",
       "\n",
       "  county code  percent_minorities   fips  \n",
       "0         053           18.883428  12053  \n",
       "1         055           30.427055  12055  \n",
       "2         057           47.502530  12057  \n",
       "3         061           23.187127  12061  \n",
       "4         063           34.260110  12063  "
      ]
     },
     "execution_count": 69,
     "metadata": {},
     "output_type": "execute_result"
    }
   ],
   "source": [
    "df12['fips'] = df12['state code'] + df12['county code']\n",
    "df12.head()"
   ]
  },
  {
   "cell_type": "markdown",
   "id": "9733cd2c-c058-4c64-af28-8b32a4c8c066",
   "metadata": {},
   "source": [
    "#### 13.Percent of Population with a Disability: (B18101_004E+B18101_007E+B18101_010E+B18101_013E+B18101_016E+B18101_019E)/B18101_002E + (B18101_023E+B18101_026E+B18101_029E+B18101_032E+B18101_035E+B18101_038E)/B18101_021E"
   ]
  },
  {
   "cell_type": "code",
   "execution_count": 70,
   "id": "9d1f58e4-a62a-4b64-b7d4-9e75900dd490",
   "metadata": {},
   "outputs": [
    {
     "name": "stdout",
     "output_type": "stream",
     "text": [
      "['NAME', 'B18101_004E', 'B18101_007E', 'B18101_010E', 'B18101_013E', 'B18101_016E', 'B18101_019E', 'B18101_002E', 'B18101_023E', 'B18101_026E', 'B18101_029E', 'B18101_032E', 'B18101_035E', 'B18101_038E', 'B18101_021E', 'state', 'county']\n"
     ]
    }
   ],
   "source": [
    "variables = 'B18101_004E,B18101_007E,B18101_010E,B18101_013E,B18101_016E,B18101_019E,B18101_002E,B18101_023E,B18101_026E,B18101_029E,B18101_032E,B18101_035E,B18101_038E,B18101_021E'\n",
    "df13 = collectAll_county2(year,variables)"
   ]
  },
  {
   "cell_type": "code",
   "execution_count": 71,
   "id": "33abb6e8-5a53-423b-a4b2-c6b14f590b39",
   "metadata": {},
   "outputs": [
    {
     "data": {
      "text/plain": [
       "(828, 17)"
      ]
     },
     "execution_count": 71,
     "metadata": {},
     "output_type": "execute_result"
    }
   ],
   "source": [
    "df13.shape"
   ]
  },
  {
   "cell_type": "code",
   "execution_count": 72,
   "id": "27f65624-f448-401a-804f-ae498856af93",
   "metadata": {},
   "outputs": [],
   "source": [
    "df13['B18101_004E'] = df13['B18101_004E'].apply(changeInteger)\n",
    "df13['B18101_007E'] = df13['B18101_007E'].apply(changeInteger)\n",
    "df13['B18101_010E'] = df13['B18101_010E'].apply(changeInteger)\n",
    "df13['B18101_013E'] = df13['B18101_013E'].apply(changeInteger)\n",
    "df13['B18101_016E'] = df13['B18101_016E'].apply(changeInteger)\n",
    "df13['B18101_002E'] = df13['B18101_002E'].apply(changeInteger)\n",
    "df13['B18101_023E'] = df13['B18101_023E'].apply(changeInteger)\n",
    "df13['B18101_026E'] = df13['B18101_026E'].apply(changeInteger)\n",
    "df13['B18101_029E'] = df13['B18101_029E'].apply(changeInteger)\n",
    "df13['B18101_032E'] = df13['B18101_032E'].apply(changeInteger)\n",
    "df13['B18101_035E'] = df13['B18101_035E'].apply(changeInteger)\n",
    "df13['B18101_038E'] = df13['B18101_038E'].apply(changeInteger)\n",
    "df13['B18101_021E'] = df13['B18101_021E'].apply(changeInteger)"
   ]
  },
  {
   "cell_type": "code",
   "execution_count": 73,
   "id": "3152ec37-5bda-4767-a23b-4af35f4a80a7",
   "metadata": {},
   "outputs": [],
   "source": [
    "df13['percent_disabled'] = ((df13['B18101_004E']+df13['B18101_007E']+df13['B18101_010E']+df13['B18101_013E']+df13['B18101_016E'])/df13['B18101_002E'] + (df13['B18101_023E']+df13['B18101_026E']+df13['B18101_029E']+df13['B18101_032E']+df13['B18101_035E']+df13['B18101_038E'])/df13['B18101_021E'])*100"
   ]
  },
  {
   "cell_type": "code",
   "execution_count": 74,
   "id": "2ff35508-4ed4-4ee4-89e6-459ec0fb53f4",
   "metadata": {},
   "outputs": [
    {
     "data": {
      "text/html": [
       "<div>\n",
       "<style scoped>\n",
       "    .dataframe tbody tr th:only-of-type {\n",
       "        vertical-align: middle;\n",
       "    }\n",
       "\n",
       "    .dataframe tbody tr th {\n",
       "        vertical-align: top;\n",
       "    }\n",
       "\n",
       "    .dataframe thead th {\n",
       "        text-align: right;\n",
       "    }\n",
       "</style>\n",
       "<table border=\"1\" class=\"dataframe\">\n",
       "  <thead>\n",
       "    <tr style=\"text-align: right;\">\n",
       "      <th></th>\n",
       "      <th>county_name</th>\n",
       "      <th>B18101_004E</th>\n",
       "      <th>B18101_007E</th>\n",
       "      <th>B18101_010E</th>\n",
       "      <th>B18101_013E</th>\n",
       "      <th>B18101_016E</th>\n",
       "      <th>B18101_019E</th>\n",
       "      <th>B18101_002E</th>\n",
       "      <th>B18101_023E</th>\n",
       "      <th>B18101_026E</th>\n",
       "      <th>B18101_029E</th>\n",
       "      <th>B18101_032E</th>\n",
       "      <th>B18101_035E</th>\n",
       "      <th>B18101_038E</th>\n",
       "      <th>B18101_021E</th>\n",
       "      <th>state code</th>\n",
       "      <th>county code</th>\n",
       "      <th>percent_disabled</th>\n",
       "      <th>fips</th>\n",
       "    </tr>\n",
       "  </thead>\n",
       "  <tbody>\n",
       "    <tr>\n",
       "      <th>0</th>\n",
       "      <td>Escambia County, Florida</td>\n",
       "      <td>0</td>\n",
       "      <td>1682</td>\n",
       "      <td>2235</td>\n",
       "      <td>9789</td>\n",
       "      <td>3932</td>\n",
       "      <td>4120</td>\n",
       "      <td>140220</td>\n",
       "      <td>86</td>\n",
       "      <td>1801</td>\n",
       "      <td>1768</td>\n",
       "      <td>9123</td>\n",
       "      <td>3571</td>\n",
       "      <td>7480</td>\n",
       "      <td>149557</td>\n",
       "      <td>12</td>\n",
       "      <td>033</td>\n",
       "      <td>28.511860</td>\n",
       "      <td>12033</td>\n",
       "    </tr>\n",
       "    <tr>\n",
       "      <th>1</th>\n",
       "      <td>Hernando County, Florida</td>\n",
       "      <td>0</td>\n",
       "      <td>1094</td>\n",
       "      <td>1479</td>\n",
       "      <td>5755</td>\n",
       "      <td>3957</td>\n",
       "      <td>4884</td>\n",
       "      <td>83229</td>\n",
       "      <td>0</td>\n",
       "      <td>969</td>\n",
       "      <td>1390</td>\n",
       "      <td>6227</td>\n",
       "      <td>3451</td>\n",
       "      <td>4283</td>\n",
       "      <td>89381</td>\n",
       "      <td>12</td>\n",
       "      <td>053</td>\n",
       "      <td>33.019394</td>\n",
       "      <td>12053</td>\n",
       "    </tr>\n",
       "    <tr>\n",
       "      <th>2</th>\n",
       "      <td>Hillsborough County, Florida</td>\n",
       "      <td>202</td>\n",
       "      <td>7212</td>\n",
       "      <td>8371</td>\n",
       "      <td>28605</td>\n",
       "      <td>9797</td>\n",
       "      <td>14533</td>\n",
       "      <td>621195</td>\n",
       "      <td>201</td>\n",
       "      <td>4201</td>\n",
       "      <td>8017</td>\n",
       "      <td>33527</td>\n",
       "      <td>10843</td>\n",
       "      <td>19963</td>\n",
       "      <td>657694</td>\n",
       "      <td>12</td>\n",
       "      <td>057</td>\n",
       "      <td>20.392890</td>\n",
       "      <td>12057</td>\n",
       "    </tr>\n",
       "    <tr>\n",
       "      <th>3</th>\n",
       "      <td>Okaloosa County, Florida</td>\n",
       "      <td>134</td>\n",
       "      <td>1313</td>\n",
       "      <td>1428</td>\n",
       "      <td>5416</td>\n",
       "      <td>2165</td>\n",
       "      <td>3491</td>\n",
       "      <td>88499</td>\n",
       "      <td>0</td>\n",
       "      <td>847</td>\n",
       "      <td>1360</td>\n",
       "      <td>5799</td>\n",
       "      <td>1909</td>\n",
       "      <td>3849</td>\n",
       "      <td>93887</td>\n",
       "      <td>12</td>\n",
       "      <td>091</td>\n",
       "      <td>26.474999</td>\n",
       "      <td>12091</td>\n",
       "    </tr>\n",
       "    <tr>\n",
       "      <th>4</th>\n",
       "      <td>Dougherty County, Georgia</td>\n",
       "      <td>31</td>\n",
       "      <td>327</td>\n",
       "      <td>437</td>\n",
       "      <td>3356</td>\n",
       "      <td>615</td>\n",
       "      <td>898</td>\n",
       "      <td>41341</td>\n",
       "      <td>0</td>\n",
       "      <td>131</td>\n",
       "      <td>754</td>\n",
       "      <td>3566</td>\n",
       "      <td>1260</td>\n",
       "      <td>1820</td>\n",
       "      <td>49327</td>\n",
       "      <td>13</td>\n",
       "      <td>095</td>\n",
       "      <td>26.796007</td>\n",
       "      <td>13095</td>\n",
       "    </tr>\n",
       "  </tbody>\n",
       "</table>\n",
       "</div>"
      ],
      "text/plain": [
       "                    county_name  B18101_004E  B18101_007E  B18101_010E  \\\n",
       "0      Escambia County, Florida            0         1682         2235   \n",
       "1      Hernando County, Florida            0         1094         1479   \n",
       "2  Hillsborough County, Florida          202         7212         8371   \n",
       "3      Okaloosa County, Florida          134         1313         1428   \n",
       "4     Dougherty County, Georgia           31          327          437   \n",
       "\n",
       "   B18101_013E  B18101_016E B18101_019E  B18101_002E  B18101_023E  \\\n",
       "0         9789         3932        4120       140220           86   \n",
       "1         5755         3957        4884        83229            0   \n",
       "2        28605         9797       14533       621195          201   \n",
       "3         5416         2165        3491        88499            0   \n",
       "4         3356          615         898        41341            0   \n",
       "\n",
       "   B18101_026E  B18101_029E  B18101_032E  B18101_035E  B18101_038E  \\\n",
       "0         1801         1768         9123         3571         7480   \n",
       "1          969         1390         6227         3451         4283   \n",
       "2         4201         8017        33527        10843        19963   \n",
       "3          847         1360         5799         1909         3849   \n",
       "4          131          754         3566         1260         1820   \n",
       "\n",
       "   B18101_021E state code county code  percent_disabled   fips  \n",
       "0       149557         12         033         28.511860  12033  \n",
       "1        89381         12         053         33.019394  12053  \n",
       "2       657694         12         057         20.392890  12057  \n",
       "3        93887         12         091         26.474999  12091  \n",
       "4        49327         13         095         26.796007  13095  "
      ]
     },
     "execution_count": 74,
     "metadata": {},
     "output_type": "execute_result"
    }
   ],
   "source": [
    "df13['fips'] = df13['state code'] + df13['county code']\n",
    "df13.head()"
   ]
  },
  {
   "cell_type": "markdown",
   "id": "e94438b4-e185-4f2d-89cd-369beeacf4be",
   "metadata": {},
   "source": [
    "#### 14.Percent of Population Living in Group Quarters: B26001_001E/B01003_001E"
   ]
  },
  {
   "cell_type": "code",
   "execution_count": 75,
   "id": "c4352062-4f3f-4d14-8968-3c70d8a3228f",
   "metadata": {},
   "outputs": [
    {
     "name": "stdout",
     "output_type": "stream",
     "text": [
      "['NAME', 'B26001_001E', 'B01003_001E', 'state', 'county']\n"
     ]
    }
   ],
   "source": [
    "variables = 'B26001_001E,B01003_001E'\n",
    "df14 = collectAll_county(year,variables)"
   ]
  },
  {
   "cell_type": "code",
   "execution_count": 76,
   "id": "ce36db24-97f4-43c4-bb4b-43ad3181d51b",
   "metadata": {},
   "outputs": [
    {
     "data": {
      "text/plain": [
       "(1910, 5)"
      ]
     },
     "execution_count": 76,
     "metadata": {},
     "output_type": "execute_result"
    }
   ],
   "source": [
    "df14.shape"
   ]
  },
  {
   "cell_type": "code",
   "execution_count": 77,
   "id": "67a5eb8e-0e90-4e1e-8c02-b74ac7717e5d",
   "metadata": {},
   "outputs": [],
   "source": [
    "df14['B26001_001E'] = df14['B26001_001E'].apply(changeInteger)\n",
    "df14['B01003_001E'] = df14['B01003_001E'].apply(changeInteger)"
   ]
  },
  {
   "cell_type": "code",
   "execution_count": 78,
   "id": "0fc7a5a2-9133-4096-b752-b1241ab76905",
   "metadata": {},
   "outputs": [],
   "source": [
    "df14['percent_institutionalized_in_group_quarters'] = (df14['B26001_001E']/df14['B01003_001E'])*100"
   ]
  },
  {
   "cell_type": "code",
   "execution_count": 79,
   "id": "a499fda8-15f8-448e-93fd-aa3b2eb601cf",
   "metadata": {},
   "outputs": [
    {
     "data": {
      "text/html": [
       "<div>\n",
       "<style scoped>\n",
       "    .dataframe tbody tr th:only-of-type {\n",
       "        vertical-align: middle;\n",
       "    }\n",
       "\n",
       "    .dataframe tbody tr th {\n",
       "        vertical-align: top;\n",
       "    }\n",
       "\n",
       "    .dataframe thead th {\n",
       "        text-align: right;\n",
       "    }\n",
       "</style>\n",
       "<table border=\"1\" class=\"dataframe\">\n",
       "  <thead>\n",
       "    <tr style=\"text-align: right;\">\n",
       "      <th></th>\n",
       "      <th>county_name</th>\n",
       "      <th>B26001_001E</th>\n",
       "      <th>B01003_001E</th>\n",
       "      <th>state code</th>\n",
       "      <th>county code</th>\n",
       "      <th>percent_institutionalized_in_group_quarters</th>\n",
       "      <th>fips</th>\n",
       "    </tr>\n",
       "  </thead>\n",
       "  <tbody>\n",
       "    <tr>\n",
       "      <th>0</th>\n",
       "      <td>Dorchester County, Maryland</td>\n",
       "      <td>606.0</td>\n",
       "      <td>32645</td>\n",
       "      <td>24</td>\n",
       "      <td>019</td>\n",
       "      <td>1.856333</td>\n",
       "      <td>24019</td>\n",
       "    </tr>\n",
       "    <tr>\n",
       "      <th>1</th>\n",
       "      <td>Frederick County, Maryland</td>\n",
       "      <td>4243.0</td>\n",
       "      <td>239407</td>\n",
       "      <td>24</td>\n",
       "      <td>021</td>\n",
       "      <td>1.772296</td>\n",
       "      <td>24021</td>\n",
       "    </tr>\n",
       "    <tr>\n",
       "      <th>2</th>\n",
       "      <td>Garrett County, Maryland</td>\n",
       "      <td>562.0</td>\n",
       "      <td>29946</td>\n",
       "      <td>24</td>\n",
       "      <td>023</td>\n",
       "      <td>1.876711</td>\n",
       "      <td>24023</td>\n",
       "    </tr>\n",
       "    <tr>\n",
       "      <th>3</th>\n",
       "      <td>Harford County, Maryland</td>\n",
       "      <td>2226.0</td>\n",
       "      <td>248145</td>\n",
       "      <td>24</td>\n",
       "      <td>025</td>\n",
       "      <td>0.897056</td>\n",
       "      <td>24025</td>\n",
       "    </tr>\n",
       "    <tr>\n",
       "      <th>4</th>\n",
       "      <td>Howard County, Maryland</td>\n",
       "      <td>1986.0</td>\n",
       "      <td>299188</td>\n",
       "      <td>24</td>\n",
       "      <td>027</td>\n",
       "      <td>0.663797</td>\n",
       "      <td>24027</td>\n",
       "    </tr>\n",
       "  </tbody>\n",
       "</table>\n",
       "</div>"
      ],
      "text/plain": [
       "                   county_name  B26001_001E  B01003_001E state code  \\\n",
       "0  Dorchester County, Maryland        606.0        32645         24   \n",
       "1   Frederick County, Maryland       4243.0       239407         24   \n",
       "2     Garrett County, Maryland        562.0        29946         24   \n",
       "3     Harford County, Maryland       2226.0       248145         24   \n",
       "4      Howard County, Maryland       1986.0       299188         24   \n",
       "\n",
       "  county code  percent_institutionalized_in_group_quarters   fips  \n",
       "0         019                                     1.856333  24019  \n",
       "1         021                                     1.772296  24021  \n",
       "2         023                                     1.876711  24023  \n",
       "3         025                                     0.897056  24025  \n",
       "4         027                                     0.663797  24027  "
      ]
     },
     "execution_count": 79,
     "metadata": {},
     "output_type": "execute_result"
    }
   ],
   "source": [
    "df14['fips'] = df14['state code'] + df14['county code']\n",
    "df14.head()"
   ]
  },
  {
   "cell_type": "markdown",
   "id": "74b84cad-5d54-44dd-9cb8-1c663ac8ca10",
   "metadata": {},
   "source": [
    "#### 15.Percent of Children Living in Single Parent Households: (B09008_010E+B09008_011E+B09008_012E)/B09008_001E"
   ]
  },
  {
   "cell_type": "code",
   "execution_count": 80,
   "id": "bff02592-6a29-43d7-92c2-5b580485d18c",
   "metadata": {},
   "outputs": [
    {
     "name": "stdout",
     "output_type": "stream",
     "text": [
      "['NAME', 'B09008_010E', 'B09008_011E', 'B09008_012E', 'B09008_001E', 'state', 'county']\n"
     ]
    }
   ],
   "source": [
    "variables = 'B09008_010E,B09008_011E,B09008_012E,B09008_001E'\n",
    "df15 = collectAll_county2(year,variables)"
   ]
  },
  {
   "cell_type": "code",
   "execution_count": 81,
   "id": "cc8d4588-83c4-4f84-84d0-1a379ce8de09",
   "metadata": {},
   "outputs": [
    {
     "data": {
      "text/plain": [
       "(828, 7)"
      ]
     },
     "execution_count": 81,
     "metadata": {},
     "output_type": "execute_result"
    }
   ],
   "source": [
    "df15.shape"
   ]
  },
  {
   "cell_type": "code",
   "execution_count": 82,
   "id": "0aecfcf2-8774-4221-b2b3-d671c79d60e7",
   "metadata": {},
   "outputs": [],
   "source": [
    "df15['B09008_010E'] = df15['B09008_010E'].apply(changeInteger)\n",
    "df15['B09008_011E'] = df15['B09008_011E'].apply(changeInteger)\n",
    "df15['B09008_012E'] = df15['B09008_012E'].apply(changeInteger)\n",
    "df15['B09008_001E'] = df15['B09008_001E'].apply(changeInteger)"
   ]
  },
  {
   "cell_type": "code",
   "execution_count": 83,
   "id": "48279050-99e3-401e-97d2-801d995710c2",
   "metadata": {},
   "outputs": [],
   "source": [
    "df15['percent_single_parent_households_CDC'] = ((df15['B09008_010E'] + df15['B09008_011E']+df15['B09008_012E'])/df15['B09008_001E'])*100"
   ]
  },
  {
   "cell_type": "code",
   "execution_count": 84,
   "id": "ff96d4cd-45ba-4f4c-b57b-5b4c0f397a84",
   "metadata": {},
   "outputs": [
    {
     "data": {
      "text/html": [
       "<div>\n",
       "<style scoped>\n",
       "    .dataframe tbody tr th:only-of-type {\n",
       "        vertical-align: middle;\n",
       "    }\n",
       "\n",
       "    .dataframe tbody tr th {\n",
       "        vertical-align: top;\n",
       "    }\n",
       "\n",
       "    .dataframe thead th {\n",
       "        text-align: right;\n",
       "    }\n",
       "</style>\n",
       "<table border=\"1\" class=\"dataframe\">\n",
       "  <thead>\n",
       "    <tr style=\"text-align: right;\">\n",
       "      <th></th>\n",
       "      <th>county_name</th>\n",
       "      <th>B09008_010E</th>\n",
       "      <th>B09008_011E</th>\n",
       "      <th>B09008_012E</th>\n",
       "      <th>B09008_001E</th>\n",
       "      <th>state code</th>\n",
       "      <th>county code</th>\n",
       "      <th>percent_single_parent_households_CDC</th>\n",
       "      <th>fips</th>\n",
       "    </tr>\n",
       "  </thead>\n",
       "  <tbody>\n",
       "    <tr>\n",
       "      <th>0</th>\n",
       "      <td>St. Clair County, Michigan</td>\n",
       "      <td>2038.0</td>\n",
       "      <td>6821.0</td>\n",
       "      <td>112.0</td>\n",
       "      <td>36007.0</td>\n",
       "      <td>26</td>\n",
       "      <td>147</td>\n",
       "      <td>24.914600</td>\n",
       "      <td>26147</td>\n",
       "    </tr>\n",
       "    <tr>\n",
       "      <th>1</th>\n",
       "      <td>Shiawassee County, Michigan</td>\n",
       "      <td>303.0</td>\n",
       "      <td>2037.0</td>\n",
       "      <td>0.0</td>\n",
       "      <td>15340.0</td>\n",
       "      <td>26</td>\n",
       "      <td>155</td>\n",
       "      <td>15.254237</td>\n",
       "      <td>26155</td>\n",
       "    </tr>\n",
       "    <tr>\n",
       "      <th>2</th>\n",
       "      <td>Van Buren County, Michigan</td>\n",
       "      <td>501.0</td>\n",
       "      <td>2689.0</td>\n",
       "      <td>177.0</td>\n",
       "      <td>18239.0</td>\n",
       "      <td>26</td>\n",
       "      <td>159</td>\n",
       "      <td>18.460442</td>\n",
       "      <td>26159</td>\n",
       "    </tr>\n",
       "    <tr>\n",
       "      <th>3</th>\n",
       "      <td>Washtenaw County, Michigan</td>\n",
       "      <td>2212.0</td>\n",
       "      <td>13495.0</td>\n",
       "      <td>0.0</td>\n",
       "      <td>70419.0</td>\n",
       "      <td>26</td>\n",
       "      <td>161</td>\n",
       "      <td>22.305060</td>\n",
       "      <td>26161</td>\n",
       "    </tr>\n",
       "    <tr>\n",
       "      <th>4</th>\n",
       "      <td>Wayne County, Michigan</td>\n",
       "      <td>20817.0</td>\n",
       "      <td>148367.0</td>\n",
       "      <td>593.0</td>\n",
       "      <td>429799.0</td>\n",
       "      <td>26</td>\n",
       "      <td>163</td>\n",
       "      <td>39.501488</td>\n",
       "      <td>26163</td>\n",
       "    </tr>\n",
       "  </tbody>\n",
       "</table>\n",
       "</div>"
      ],
      "text/plain": [
       "                   county_name  B09008_010E  B09008_011E  B09008_012E  \\\n",
       "0   St. Clair County, Michigan       2038.0       6821.0        112.0   \n",
       "1  Shiawassee County, Michigan        303.0       2037.0          0.0   \n",
       "2   Van Buren County, Michigan        501.0       2689.0        177.0   \n",
       "3   Washtenaw County, Michigan       2212.0      13495.0          0.0   \n",
       "4       Wayne County, Michigan      20817.0     148367.0        593.0   \n",
       "\n",
       "   B09008_001E state code county code  percent_single_parent_households_CDC  \\\n",
       "0      36007.0         26         147                             24.914600   \n",
       "1      15340.0         26         155                             15.254237   \n",
       "2      18239.0         26         159                             18.460442   \n",
       "3      70419.0         26         161                             22.305060   \n",
       "4     429799.0         26         163                             39.501488   \n",
       "\n",
       "    fips  \n",
       "0  26147  \n",
       "1  26155  \n",
       "2  26159  \n",
       "3  26161  \n",
       "4  26163  "
      ]
     },
     "execution_count": 84,
     "metadata": {},
     "output_type": "execute_result"
    }
   ],
   "source": [
    "df15['fips'] = df15['state code'] + df15['county code']\n",
    "df15.head()"
   ]
  },
  {
   "cell_type": "markdown",
   "id": "5acf173f-f4e1-4ded-a20b-61609a7be6a1",
   "metadata": {},
   "source": [
    "### age 18 to 34\n",
    "#### (B01001_007E+B01001_008E+B01001_009E+B01001_010E+B01001_011E+B01001_012E+B01001_031E+B01001_032E+B01001_033E+B01001_034E+B01001_035E+B01001_036E)/B01001_001E"
   ]
  },
  {
   "cell_type": "code",
   "execution_count": 85,
   "id": "330f9eb3-7e29-4ad8-9245-a595906bc370",
   "metadata": {},
   "outputs": [
    {
     "name": "stdout",
     "output_type": "stream",
     "text": [
      "['NAME', 'B01001_007E', 'B01001_008E', 'B01001_009E', 'B01001_010E', 'B01001_011E', 'B01001_012E', 'B01001_031E', 'B01001_032E', 'B01001_033E', 'B01001_034E', 'B01001_035E', 'B01001_036E', 'B01001_001E', 'state', 'county']\n"
     ]
    }
   ],
   "source": [
    "variables = 'B01001_007E,B01001_008E,B01001_009E,B01001_010E,B01001_011E,B01001_012E,B01001_031E,B01001_032E,B01001_033E,B01001_034E,B01001_035E,B01001_036E,B01001_001E'\n",
    "df16 = collectAll_county(year,variables)"
   ]
  },
  {
   "cell_type": "code",
   "execution_count": 86,
   "id": "6f63b764-614b-49c4-ab6e-c7844b362c09",
   "metadata": {},
   "outputs": [],
   "source": [
    "df16['B01001_007E'] = df16['B01001_007E'].apply(changeInteger)\n",
    "df16['B01001_008E'] = df16['B01001_008E'].apply(changeInteger)\n",
    "df16['B01001_009E'] = df16['B01001_009E'].apply(changeInteger)\n",
    "df16['B01001_010E'] = df16['B01001_010E'].apply(changeInteger)\n",
    "df16['B01001_011E'] = df16['B01001_011E'].apply(changeInteger)\n",
    "df16['B01001_012E'] = df16['B01001_012E'].apply(changeInteger)\n",
    "df16['B01001_031E'] = df16['B01001_031E'].apply(changeInteger)\n",
    "df16['B01001_032E'] = df16['B01001_032E'].apply(changeInteger)\n",
    "df16['B01001_033E'] = df16['B01001_033E'].apply(changeInteger)\n",
    "df16['B01001_034E'] = df16['B01001_034E'].apply(changeInteger)\n",
    "df16['B01001_035E'] = df16['B01001_035E'].apply(changeInteger)\n",
    "df16['B01001_036E'] = df16['B01001_036E'].apply(changeInteger)\n",
    "df16['B01001_001E'] = df16['B01001_001E'].apply(changeInteger)"
   ]
  },
  {
   "cell_type": "code",
   "execution_count": 87,
   "id": "086b601c-6584-4cec-b89e-6738c02f4918",
   "metadata": {},
   "outputs": [],
   "source": [
    "df16['percent_age_18_to_34'] = ((df16['B01001_007E'] + df16['B01001_008E'] +df16['B01001_009E'] +df16['B01001_010E'] +df16['B01001_011E']+df16['B01001_012E']+df16['B01001_031E']+df16['B01001_032E']+df16['B01001_033E']+df16['B01001_034E']+df16['B01001_035E']+df16['B01001_036E'])/df16['B01001_001E'])*100"
   ]
  },
  {
   "cell_type": "code",
   "execution_count": 88,
   "id": "4cf1c1e8-6ddb-4691-b8dd-fdf25c669094",
   "metadata": {},
   "outputs": [
    {
     "data": {
      "text/html": [
       "<div>\n",
       "<style scoped>\n",
       "    .dataframe tbody tr th:only-of-type {\n",
       "        vertical-align: middle;\n",
       "    }\n",
       "\n",
       "    .dataframe tbody tr th {\n",
       "        vertical-align: top;\n",
       "    }\n",
       "\n",
       "    .dataframe thead th {\n",
       "        text-align: right;\n",
       "    }\n",
       "</style>\n",
       "<table border=\"1\" class=\"dataframe\">\n",
       "  <thead>\n",
       "    <tr style=\"text-align: right;\">\n",
       "      <th></th>\n",
       "      <th>county_name</th>\n",
       "      <th>B01001_007E</th>\n",
       "      <th>B01001_008E</th>\n",
       "      <th>B01001_009E</th>\n",
       "      <th>B01001_010E</th>\n",
       "      <th>B01001_011E</th>\n",
       "      <th>B01001_012E</th>\n",
       "      <th>B01001_031E</th>\n",
       "      <th>B01001_032E</th>\n",
       "      <th>B01001_033E</th>\n",
       "      <th>B01001_034E</th>\n",
       "      <th>B01001_035E</th>\n",
       "      <th>B01001_036E</th>\n",
       "      <th>B01001_001E</th>\n",
       "      <th>state code</th>\n",
       "      <th>county code</th>\n",
       "      <th>percent_age_18_to_34</th>\n",
       "      <th>fips</th>\n",
       "    </tr>\n",
       "  </thead>\n",
       "  <tbody>\n",
       "    <tr>\n",
       "      <th>0</th>\n",
       "      <td>Washington County, Florida</td>\n",
       "      <td>326</td>\n",
       "      <td>52</td>\n",
       "      <td>168</td>\n",
       "      <td>846</td>\n",
       "      <td>925</td>\n",
       "      <td>932</td>\n",
       "      <td>135</td>\n",
       "      <td>92</td>\n",
       "      <td>228</td>\n",
       "      <td>337</td>\n",
       "      <td>605</td>\n",
       "      <td>508</td>\n",
       "      <td>24688</td>\n",
       "      <td>12</td>\n",
       "      <td>133</td>\n",
       "      <td>20.876539</td>\n",
       "      <td>12133</td>\n",
       "    </tr>\n",
       "    <tr>\n",
       "      <th>1</th>\n",
       "      <td>Baldwin County, Georgia</td>\n",
       "      <td>872</td>\n",
       "      <td>940</td>\n",
       "      <td>1180</td>\n",
       "      <td>1206</td>\n",
       "      <td>1412</td>\n",
       "      <td>1350</td>\n",
       "      <td>1001</td>\n",
       "      <td>1079</td>\n",
       "      <td>1555</td>\n",
       "      <td>1160</td>\n",
       "      <td>1299</td>\n",
       "      <td>1230</td>\n",
       "      <td>45800</td>\n",
       "      <td>13</td>\n",
       "      <td>009</td>\n",
       "      <td>31.187773</td>\n",
       "      <td>13009</td>\n",
       "    </tr>\n",
       "    <tr>\n",
       "      <th>2</th>\n",
       "      <td>Barrow County, Georgia</td>\n",
       "      <td>992</td>\n",
       "      <td>231</td>\n",
       "      <td>422</td>\n",
       "      <td>1200</td>\n",
       "      <td>2560</td>\n",
       "      <td>2655</td>\n",
       "      <td>669</td>\n",
       "      <td>227</td>\n",
       "      <td>415</td>\n",
       "      <td>1419</td>\n",
       "      <td>2760</td>\n",
       "      <td>2728</td>\n",
       "      <td>70478</td>\n",
       "      <td>13</td>\n",
       "      <td>013</td>\n",
       "      <td>23.096569</td>\n",
       "      <td>13013</td>\n",
       "    </tr>\n",
       "    <tr>\n",
       "      <th>3</th>\n",
       "      <td>Bartow County, Georgia</td>\n",
       "      <td>1583</td>\n",
       "      <td>713</td>\n",
       "      <td>714</td>\n",
       "      <td>1775</td>\n",
       "      <td>2873</td>\n",
       "      <td>3381</td>\n",
       "      <td>1220</td>\n",
       "      <td>633</td>\n",
       "      <td>512</td>\n",
       "      <td>2104</td>\n",
       "      <td>3007</td>\n",
       "      <td>3579</td>\n",
       "      <td>100659</td>\n",
       "      <td>13</td>\n",
       "      <td>015</td>\n",
       "      <td>21.949354</td>\n",
       "      <td>13015</td>\n",
       "    </tr>\n",
       "    <tr>\n",
       "      <th>4</th>\n",
       "      <td>Bibb County, Georgia</td>\n",
       "      <td>2176</td>\n",
       "      <td>1094</td>\n",
       "      <td>906</td>\n",
       "      <td>3413</td>\n",
       "      <td>5266</td>\n",
       "      <td>4840</td>\n",
       "      <td>3115</td>\n",
       "      <td>1523</td>\n",
       "      <td>1132</td>\n",
       "      <td>3078</td>\n",
       "      <td>5727</td>\n",
       "      <td>5308</td>\n",
       "      <td>155611</td>\n",
       "      <td>13</td>\n",
       "      <td>021</td>\n",
       "      <td>24.148678</td>\n",
       "      <td>13021</td>\n",
       "    </tr>\n",
       "  </tbody>\n",
       "</table>\n",
       "</div>"
      ],
      "text/plain": [
       "                  county_name  B01001_007E  B01001_008E  B01001_009E  \\\n",
       "0  Washington County, Florida          326           52          168   \n",
       "1     Baldwin County, Georgia          872          940         1180   \n",
       "2      Barrow County, Georgia          992          231          422   \n",
       "3      Bartow County, Georgia         1583          713          714   \n",
       "4        Bibb County, Georgia         2176         1094          906   \n",
       "\n",
       "   B01001_010E  B01001_011E  B01001_012E  B01001_031E  B01001_032E  \\\n",
       "0          846          925          932          135           92   \n",
       "1         1206         1412         1350         1001         1079   \n",
       "2         1200         2560         2655          669          227   \n",
       "3         1775         2873         3381         1220          633   \n",
       "4         3413         5266         4840         3115         1523   \n",
       "\n",
       "   B01001_033E  B01001_034E  B01001_035E  B01001_036E  B01001_001E state code  \\\n",
       "0          228          337          605          508        24688         12   \n",
       "1         1555         1160         1299         1230        45800         13   \n",
       "2          415         1419         2760         2728        70478         13   \n",
       "3          512         2104         3007         3579       100659         13   \n",
       "4         1132         3078         5727         5308       155611         13   \n",
       "\n",
       "  county code  percent_age_18_to_34   fips  \n",
       "0         133             20.876539  12133  \n",
       "1         009             31.187773  13009  \n",
       "2         013             23.096569  13013  \n",
       "3         015             21.949354  13015  \n",
       "4         021             24.148678  13021  "
      ]
     },
     "execution_count": 88,
     "metadata": {},
     "output_type": "execute_result"
    }
   ],
   "source": [
    "df16['fips'] = df16['state code'] + df16['county code']\n",
    "df16.head()"
   ]
  },
  {
   "cell_type": "code",
   "execution_count": 89,
   "id": "d9b661b1-c70b-4bc0-9cfc-cbd10fe37064",
   "metadata": {},
   "outputs": [
    {
     "data": {
      "text/plain": [
       "(1910, 18)"
      ]
     },
     "execution_count": 89,
     "metadata": {},
     "output_type": "execute_result"
    }
   ],
   "source": [
    "df16.shape"
   ]
  },
  {
   "cell_type": "markdown",
   "id": "730d8f25-cb06-4ce0-a74f-40a10c7452cd",
   "metadata": {},
   "source": [
    "### Age 35 to 44\n",
    "#### (B01001_013E+B01001_014E+B01001_037E+B01001_038E)/B01001_001E"
   ]
  },
  {
   "cell_type": "code",
   "execution_count": 90,
   "id": "9af10f52-ae54-49c9-a1aa-ba06033d2da1",
   "metadata": {},
   "outputs": [
    {
     "name": "stdout",
     "output_type": "stream",
     "text": [
      "['NAME', 'B01001_013E', 'B01001_014E', 'B01001_037E', 'B01001_038E', 'B01001_001E', 'state', 'county']\n"
     ]
    }
   ],
   "source": [
    "variables = 'B01001_013E,B01001_014E,B01001_037E,B01001_038E,B01001_001E'\n",
    "df17 = collectAll_county(year,variables)"
   ]
  },
  {
   "cell_type": "code",
   "execution_count": 91,
   "id": "aaeddf1d-e065-40c7-a7f5-bec08e79b9b6",
   "metadata": {},
   "outputs": [],
   "source": [
    "df17['B01001_013E'] = df17['B01001_013E'].apply(changeInteger)\n",
    "df17['B01001_014E'] = df17['B01001_014E'].apply(changeInteger)\n",
    "df17['B01001_037E'] = df17['B01001_037E'].apply(changeInteger)\n",
    "df17['B01001_038E'] = df17['B01001_038E'].apply(changeInteger)\n",
    "df17['B01001_001E'] = df17['B01001_001E'].apply(changeInteger)"
   ]
  },
  {
   "cell_type": "code",
   "execution_count": 92,
   "id": "2bb876f3-e566-4853-9177-a199142f5ed9",
   "metadata": {},
   "outputs": [],
   "source": [
    "df17['percent_age_35_to_44'] = ((df17['B01001_013E']+df17['B01001_014E'] +df17['B01001_037E']+df17['B01001_038E'])/df17['B01001_001E'])*100"
   ]
  },
  {
   "cell_type": "code",
   "execution_count": 93,
   "id": "836957f4-52ed-41b9-9824-e21c2defff0c",
   "metadata": {},
   "outputs": [
    {
     "data": {
      "text/html": [
       "<div>\n",
       "<style scoped>\n",
       "    .dataframe tbody tr th:only-of-type {\n",
       "        vertical-align: middle;\n",
       "    }\n",
       "\n",
       "    .dataframe tbody tr th {\n",
       "        vertical-align: top;\n",
       "    }\n",
       "\n",
       "    .dataframe thead th {\n",
       "        text-align: right;\n",
       "    }\n",
       "</style>\n",
       "<table border=\"1\" class=\"dataframe\">\n",
       "  <thead>\n",
       "    <tr style=\"text-align: right;\">\n",
       "      <th></th>\n",
       "      <th>county_name</th>\n",
       "      <th>B01001_013E</th>\n",
       "      <th>B01001_014E</th>\n",
       "      <th>B01001_037E</th>\n",
       "      <th>B01001_038E</th>\n",
       "      <th>B01001_001E</th>\n",
       "      <th>state code</th>\n",
       "      <th>county code</th>\n",
       "      <th>percent_age_35_to_44</th>\n",
       "      <th>fips</th>\n",
       "    </tr>\n",
       "  </thead>\n",
       "  <tbody>\n",
       "    <tr>\n",
       "      <th>0</th>\n",
       "      <td>Washington County, Florida</td>\n",
       "      <td>1032</td>\n",
       "      <td>974</td>\n",
       "      <td>631</td>\n",
       "      <td>810</td>\n",
       "      <td>24688</td>\n",
       "      <td>12</td>\n",
       "      <td>133</td>\n",
       "      <td>13.962249</td>\n",
       "      <td>12133</td>\n",
       "    </tr>\n",
       "    <tr>\n",
       "      <th>1</th>\n",
       "      <td>Baldwin County, Georgia</td>\n",
       "      <td>1411</td>\n",
       "      <td>1087</td>\n",
       "      <td>1179</td>\n",
       "      <td>1153</td>\n",
       "      <td>45800</td>\n",
       "      <td>13</td>\n",
       "      <td>009</td>\n",
       "      <td>10.545852</td>\n",
       "      <td>13009</td>\n",
       "    </tr>\n",
       "    <tr>\n",
       "      <th>2</th>\n",
       "      <td>Barrow County, Georgia</td>\n",
       "      <td>2634</td>\n",
       "      <td>2277</td>\n",
       "      <td>2772</td>\n",
       "      <td>2263</td>\n",
       "      <td>70478</td>\n",
       "      <td>13</td>\n",
       "      <td>013</td>\n",
       "      <td>14.112205</td>\n",
       "      <td>13013</td>\n",
       "    </tr>\n",
       "    <tr>\n",
       "      <th>3</th>\n",
       "      <td>Bartow County, Georgia</td>\n",
       "      <td>3105</td>\n",
       "      <td>4063</td>\n",
       "      <td>3511</td>\n",
       "      <td>4047</td>\n",
       "      <td>100659</td>\n",
       "      <td>13</td>\n",
       "      <td>015</td>\n",
       "      <td>14.629591</td>\n",
       "      <td>13015</td>\n",
       "    </tr>\n",
       "    <tr>\n",
       "      <th>4</th>\n",
       "      <td>Bibb County, Georgia</td>\n",
       "      <td>4316</td>\n",
       "      <td>4560</td>\n",
       "      <td>4596</td>\n",
       "      <td>4996</td>\n",
       "      <td>155611</td>\n",
       "      <td>13</td>\n",
       "      <td>021</td>\n",
       "      <td>11.868056</td>\n",
       "      <td>13021</td>\n",
       "    </tr>\n",
       "  </tbody>\n",
       "</table>\n",
       "</div>"
      ],
      "text/plain": [
       "                  county_name  B01001_013E  B01001_014E  B01001_037E  \\\n",
       "0  Washington County, Florida         1032          974          631   \n",
       "1     Baldwin County, Georgia         1411         1087         1179   \n",
       "2      Barrow County, Georgia         2634         2277         2772   \n",
       "3      Bartow County, Georgia         3105         4063         3511   \n",
       "4        Bibb County, Georgia         4316         4560         4596   \n",
       "\n",
       "   B01001_038E  B01001_001E state code county code  percent_age_35_to_44  \\\n",
       "0          810        24688         12         133             13.962249   \n",
       "1         1153        45800         13         009             10.545852   \n",
       "2         2263        70478         13         013             14.112205   \n",
       "3         4047       100659         13         015             14.629591   \n",
       "4         4996       155611         13         021             11.868056   \n",
       "\n",
       "    fips  \n",
       "0  12133  \n",
       "1  13009  \n",
       "2  13013  \n",
       "3  13015  \n",
       "4  13021  "
      ]
     },
     "execution_count": 93,
     "metadata": {},
     "output_type": "execute_result"
    }
   ],
   "source": [
    "df17['fips'] = df17['state code'] + df17['county code']\n",
    "df17.head()"
   ]
  },
  {
   "cell_type": "code",
   "execution_count": 94,
   "id": "d38de85f-8ed4-407f-b9fd-03a2bb4634f9",
   "metadata": {},
   "outputs": [
    {
     "data": {
      "text/plain": [
       "(1910, 10)"
      ]
     },
     "execution_count": 94,
     "metadata": {},
     "output_type": "execute_result"
    }
   ],
   "source": [
    "df17.shape"
   ]
  },
  {
   "cell_type": "markdown",
   "id": "eec42697-16ef-4a3d-b612-6a5632b1f442",
   "metadata": {},
   "source": [
    "### age 45 to 54\n",
    "#### (B01001_015E+B01001_016E+B01001_039E+B01001_040E)/B01001_001E"
   ]
  },
  {
   "cell_type": "code",
   "execution_count": 95,
   "id": "8223d7d3-da3b-4190-8c0f-877c3c61c359",
   "metadata": {},
   "outputs": [
    {
     "name": "stdout",
     "output_type": "stream",
     "text": [
      "['NAME', 'B01001_015E', 'B01001_016E', 'B01001_039E', 'B01001_040E', 'B01001_001E', 'state', 'county']\n"
     ]
    }
   ],
   "source": [
    "variables = 'B01001_015E,B01001_016E,B01001_039E,B01001_040E,B01001_001E'\n",
    "df18 = collectAll_county(year,variables)"
   ]
  },
  {
   "cell_type": "code",
   "execution_count": 96,
   "id": "64f93c52-adf3-4d36-9056-dc703c2df649",
   "metadata": {},
   "outputs": [],
   "source": [
    "df18['B01001_015E'] = df18['B01001_015E'].apply(changeInteger)\n",
    "df18['B01001_016E'] = df18['B01001_016E'].apply(changeInteger)\n",
    "df18['B01001_039E'] = df18['B01001_039E'].apply(changeInteger)\n",
    "df18['B01001_040E'] = df18['B01001_040E'].apply(changeInteger)\n",
    "df18['B01001_001E'] = df18['B01001_001E'].apply(changeInteger)"
   ]
  },
  {
   "cell_type": "code",
   "execution_count": 97,
   "id": "833adef1-1d4e-47ec-a6e1-40e3bef59ed6",
   "metadata": {},
   "outputs": [],
   "source": [
    "df18['percent_age_45_to_54'] = ((df18['B01001_015E']+df18['B01001_016E'] +df18['B01001_039E']+df18['B01001_040E'])/df18['B01001_001E'])*100"
   ]
  },
  {
   "cell_type": "code",
   "execution_count": 98,
   "id": "095b777f-0191-4a9f-a2a1-cf635a3a34bf",
   "metadata": {},
   "outputs": [
    {
     "data": {
      "text/html": [
       "<div>\n",
       "<style scoped>\n",
       "    .dataframe tbody tr th:only-of-type {\n",
       "        vertical-align: middle;\n",
       "    }\n",
       "\n",
       "    .dataframe tbody tr th {\n",
       "        vertical-align: top;\n",
       "    }\n",
       "\n",
       "    .dataframe thead th {\n",
       "        text-align: right;\n",
       "    }\n",
       "</style>\n",
       "<table border=\"1\" class=\"dataframe\">\n",
       "  <thead>\n",
       "    <tr style=\"text-align: right;\">\n",
       "      <th></th>\n",
       "      <th>county_name</th>\n",
       "      <th>B01001_015E</th>\n",
       "      <th>B01001_016E</th>\n",
       "      <th>B01001_039E</th>\n",
       "      <th>B01001_040E</th>\n",
       "      <th>B01001_001E</th>\n",
       "      <th>state code</th>\n",
       "      <th>county code</th>\n",
       "      <th>percent_age_45_to_54</th>\n",
       "      <th>fips</th>\n",
       "    </tr>\n",
       "  </thead>\n",
       "  <tbody>\n",
       "    <tr>\n",
       "      <th>0</th>\n",
       "      <td>Washington County, Florida</td>\n",
       "      <td>1087</td>\n",
       "      <td>949</td>\n",
       "      <td>778</td>\n",
       "      <td>862</td>\n",
       "      <td>24688</td>\n",
       "      <td>12</td>\n",
       "      <td>133</td>\n",
       "      <td>14.889825</td>\n",
       "      <td>12133</td>\n",
       "    </tr>\n",
       "    <tr>\n",
       "      <th>1</th>\n",
       "      <td>Baldwin County, Georgia</td>\n",
       "      <td>1526</td>\n",
       "      <td>1586</td>\n",
       "      <td>1354</td>\n",
       "      <td>1549</td>\n",
       "      <td>45800</td>\n",
       "      <td>13</td>\n",
       "      <td>009</td>\n",
       "      <td>13.133188</td>\n",
       "      <td>13009</td>\n",
       "    </tr>\n",
       "    <tr>\n",
       "      <th>2</th>\n",
       "      <td>Barrow County, Georgia</td>\n",
       "      <td>2663</td>\n",
       "      <td>2548</td>\n",
       "      <td>2480</td>\n",
       "      <td>2424</td>\n",
       "      <td>70478</td>\n",
       "      <td>13</td>\n",
       "      <td>013</td>\n",
       "      <td>14.351996</td>\n",
       "      <td>13013</td>\n",
       "    </tr>\n",
       "    <tr>\n",
       "      <th>3</th>\n",
       "      <td>Bartow County, Georgia</td>\n",
       "      <td>4003</td>\n",
       "      <td>3258</td>\n",
       "      <td>3495</td>\n",
       "      <td>3517</td>\n",
       "      <td>100659</td>\n",
       "      <td>13</td>\n",
       "      <td>015</td>\n",
       "      <td>14.179557</td>\n",
       "      <td>13015</td>\n",
       "    </tr>\n",
       "    <tr>\n",
       "      <th>4</th>\n",
       "      <td>Bibb County, Georgia</td>\n",
       "      <td>4649</td>\n",
       "      <td>5007</td>\n",
       "      <td>5125</td>\n",
       "      <td>5771</td>\n",
       "      <td>155611</td>\n",
       "      <td>13</td>\n",
       "      <td>021</td>\n",
       "      <td>13.207293</td>\n",
       "      <td>13021</td>\n",
       "    </tr>\n",
       "  </tbody>\n",
       "</table>\n",
       "</div>"
      ],
      "text/plain": [
       "                  county_name  B01001_015E  B01001_016E  B01001_039E  \\\n",
       "0  Washington County, Florida         1087          949          778   \n",
       "1     Baldwin County, Georgia         1526         1586         1354   \n",
       "2      Barrow County, Georgia         2663         2548         2480   \n",
       "3      Bartow County, Georgia         4003         3258         3495   \n",
       "4        Bibb County, Georgia         4649         5007         5125   \n",
       "\n",
       "   B01001_040E  B01001_001E state code county code  percent_age_45_to_54  \\\n",
       "0          862        24688         12         133             14.889825   \n",
       "1         1549        45800         13         009             13.133188   \n",
       "2         2424        70478         13         013             14.351996   \n",
       "3         3517       100659         13         015             14.179557   \n",
       "4         5771       155611         13         021             13.207293   \n",
       "\n",
       "    fips  \n",
       "0  12133  \n",
       "1  13009  \n",
       "2  13013  \n",
       "3  13015  \n",
       "4  13021  "
      ]
     },
     "execution_count": 98,
     "metadata": {},
     "output_type": "execute_result"
    }
   ],
   "source": [
    "df18['fips'] = df18['state code'] + df18['county code']\n",
    "df18.head()"
   ]
  },
  {
   "cell_type": "code",
   "execution_count": 99,
   "id": "bff38139-7fc5-4e8c-bed4-1f36dbc09d0e",
   "metadata": {},
   "outputs": [
    {
     "data": {
      "text/plain": [
       "(1910, 10)"
      ]
     },
     "execution_count": 99,
     "metadata": {},
     "output_type": "execute_result"
    }
   ],
   "source": [
    "df18.shape"
   ]
  },
  {
   "cell_type": "markdown",
   "id": "b6ec620f-65e9-4e13-83c3-1370b878b0e5",
   "metadata": {},
   "source": [
    "### age 55 to 64\n",
    "#### (B01001_017E+B01001_018E+B01001_019E+B01001_041E+B01001_042E+B01001_043E)/B01001_001E"
   ]
  },
  {
   "cell_type": "code",
   "execution_count": 100,
   "id": "579965cf-2f83-4d77-8177-1e0ba2fb9873",
   "metadata": {},
   "outputs": [
    {
     "name": "stdout",
     "output_type": "stream",
     "text": [
      "['NAME', 'B01001_017E', 'B01001_018E', 'B01001_019E', 'B01001_041E', 'B01001_042E', 'B01001_043E', 'B01001_001E', 'state', 'county']\n"
     ]
    }
   ],
   "source": [
    "variables = 'B01001_017E,B01001_018E,B01001_019E,B01001_041E,B01001_042E,B01001_043E,B01001_001E'\n",
    "df19 = collectAll_county(year,variables)"
   ]
  },
  {
   "cell_type": "code",
   "execution_count": 101,
   "id": "a61b7263-c36b-4e7b-bce2-3fd3b470bfc9",
   "metadata": {},
   "outputs": [],
   "source": [
    "df19['B01001_017E'] = df19['B01001_017E'].apply(changeInteger)\n",
    "df19['B01001_018E'] = df19['B01001_018E'].apply(changeInteger)\n",
    "df19['B01001_019E'] = df19['B01001_019E'].apply(changeInteger)\n",
    "df19['B01001_041E'] = df19['B01001_041E'].apply(changeInteger)\n",
    "df19['B01001_042E'] = df19['B01001_042E'].apply(changeInteger)\n",
    "df19['B01001_043E'] = df19['B01001_043E'].apply(changeInteger)\n",
    "df19['B01001_001E'] = df19['B01001_001E'].apply(changeInteger)"
   ]
  },
  {
   "cell_type": "code",
   "execution_count": 102,
   "id": "92d9ba4c-765a-48a3-8b96-f46f63118d0c",
   "metadata": {},
   "outputs": [],
   "source": [
    "df19['percent_age_55_to_64'] = ((df19['B01001_017E']+df19['B01001_018E'] +df19['B01001_019E']+df19['B01001_041E']+df19['B01001_042E']+df19['B01001_043E'])/df19['B01001_001E'])*100"
   ]
  },
  {
   "cell_type": "code",
   "execution_count": 103,
   "id": "cc37eab1-db3a-4a0d-b5ae-253140921bd2",
   "metadata": {},
   "outputs": [
    {
     "data": {
      "text/html": [
       "<div>\n",
       "<style scoped>\n",
       "    .dataframe tbody tr th:only-of-type {\n",
       "        vertical-align: middle;\n",
       "    }\n",
       "\n",
       "    .dataframe tbody tr th {\n",
       "        vertical-align: top;\n",
       "    }\n",
       "\n",
       "    .dataframe thead th {\n",
       "        text-align: right;\n",
       "    }\n",
       "</style>\n",
       "<table border=\"1\" class=\"dataframe\">\n",
       "  <thead>\n",
       "    <tr style=\"text-align: right;\">\n",
       "      <th></th>\n",
       "      <th>county_name</th>\n",
       "      <th>B01001_017E</th>\n",
       "      <th>B01001_018E</th>\n",
       "      <th>B01001_019E</th>\n",
       "      <th>B01001_041E</th>\n",
       "      <th>B01001_042E</th>\n",
       "      <th>B01001_043E</th>\n",
       "      <th>B01001_001E</th>\n",
       "      <th>state code</th>\n",
       "      <th>county code</th>\n",
       "      <th>percent_age_55_to_64</th>\n",
       "      <th>fips</th>\n",
       "    </tr>\n",
       "  </thead>\n",
       "  <tbody>\n",
       "    <tr>\n",
       "      <th>0</th>\n",
       "      <td>Washington County, Florida</td>\n",
       "      <td>981</td>\n",
       "      <td>332</td>\n",
       "      <td>336</td>\n",
       "      <td>879</td>\n",
       "      <td>200</td>\n",
       "      <td>503</td>\n",
       "      <td>24688</td>\n",
       "      <td>12</td>\n",
       "      <td>133</td>\n",
       "      <td>13.087330</td>\n",
       "      <td>12133</td>\n",
       "    </tr>\n",
       "    <tr>\n",
       "      <th>1</th>\n",
       "      <td>Baldwin County, Georgia</td>\n",
       "      <td>1622</td>\n",
       "      <td>246</td>\n",
       "      <td>984</td>\n",
       "      <td>1322</td>\n",
       "      <td>577</td>\n",
       "      <td>910</td>\n",
       "      <td>45800</td>\n",
       "      <td>13</td>\n",
       "      <td>009</td>\n",
       "      <td>12.360262</td>\n",
       "      <td>13009</td>\n",
       "    </tr>\n",
       "    <tr>\n",
       "      <th>2</th>\n",
       "      <td>Barrow County, Georgia</td>\n",
       "      <td>2076</td>\n",
       "      <td>685</td>\n",
       "      <td>859</td>\n",
       "      <td>2043</td>\n",
       "      <td>964</td>\n",
       "      <td>860</td>\n",
       "      <td>70478</td>\n",
       "      <td>13</td>\n",
       "      <td>013</td>\n",
       "      <td>10.623173</td>\n",
       "      <td>13013</td>\n",
       "    </tr>\n",
       "    <tr>\n",
       "      <th>3</th>\n",
       "      <td>Bartow County, Georgia</td>\n",
       "      <td>3073</td>\n",
       "      <td>1079</td>\n",
       "      <td>1527</td>\n",
       "      <td>3731</td>\n",
       "      <td>1054</td>\n",
       "      <td>1289</td>\n",
       "      <td>100659</td>\n",
       "      <td>13</td>\n",
       "      <td>015</td>\n",
       "      <td>11.676055</td>\n",
       "      <td>13015</td>\n",
       "    </tr>\n",
       "    <tr>\n",
       "      <th>4</th>\n",
       "      <td>Bibb County, Georgia</td>\n",
       "      <td>4645</td>\n",
       "      <td>1973</td>\n",
       "      <td>2298</td>\n",
       "      <td>5419</td>\n",
       "      <td>1868</td>\n",
       "      <td>2906</td>\n",
       "      <td>155611</td>\n",
       "      <td>13</td>\n",
       "      <td>021</td>\n",
       "      <td>12.279980</td>\n",
       "      <td>13021</td>\n",
       "    </tr>\n",
       "  </tbody>\n",
       "</table>\n",
       "</div>"
      ],
      "text/plain": [
       "                  county_name  B01001_017E  B01001_018E  B01001_019E  \\\n",
       "0  Washington County, Florida          981          332          336   \n",
       "1     Baldwin County, Georgia         1622          246          984   \n",
       "2      Barrow County, Georgia         2076          685          859   \n",
       "3      Bartow County, Georgia         3073         1079         1527   \n",
       "4        Bibb County, Georgia         4645         1973         2298   \n",
       "\n",
       "   B01001_041E  B01001_042E  B01001_043E  B01001_001E state code county code  \\\n",
       "0          879          200          503        24688         12         133   \n",
       "1         1322          577          910        45800         13         009   \n",
       "2         2043          964          860        70478         13         013   \n",
       "3         3731         1054         1289       100659         13         015   \n",
       "4         5419         1868         2906       155611         13         021   \n",
       "\n",
       "   percent_age_55_to_64   fips  \n",
       "0             13.087330  12133  \n",
       "1             12.360262  13009  \n",
       "2             10.623173  13013  \n",
       "3             11.676055  13015  \n",
       "4             12.279980  13021  "
      ]
     },
     "execution_count": 103,
     "metadata": {},
     "output_type": "execute_result"
    }
   ],
   "source": [
    "df19['fips'] = df19['state code'] + df19['county code']\n",
    "df19.head()"
   ]
  },
  {
   "cell_type": "code",
   "execution_count": 104,
   "id": "4ed461b2-bb26-4730-8eff-f7c673e1fc6e",
   "metadata": {},
   "outputs": [
    {
     "data": {
      "text/plain": [
       "(1910, 12)"
      ]
     },
     "execution_count": 104,
     "metadata": {},
     "output_type": "execute_result"
    }
   ],
   "source": [
    "df19.shape"
   ]
  },
  {
   "cell_type": "markdown",
   "id": "9b41ea5e-df49-4b9f-9ea3-cfc5fb3f952b",
   "metadata": {},
   "source": [
    "### Combine 19 dataframes together"
   ]
  },
  {
   "cell_type": "code",
   "execution_count": 105,
   "id": "d3ce192e-6369-4897-85fa-d603ecd0eae4",
   "metadata": {},
   "outputs": [],
   "source": [
    "df = df1[['fips','per_capita_income']].merge(df2[['fips', 'percent_below_poverty']], on = 'fips', how = 'left')"
   ]
  },
  {
   "cell_type": "code",
   "execution_count": 106,
   "id": "769784f8-1230-4254-a8a5-e3fd82346352",
   "metadata": {},
   "outputs": [
    {
     "data": {
      "text/html": [
       "<div>\n",
       "<style scoped>\n",
       "    .dataframe tbody tr th:only-of-type {\n",
       "        vertical-align: middle;\n",
       "    }\n",
       "\n",
       "    .dataframe tbody tr th {\n",
       "        vertical-align: top;\n",
       "    }\n",
       "\n",
       "    .dataframe thead th {\n",
       "        text-align: right;\n",
       "    }\n",
       "</style>\n",
       "<table border=\"1\" class=\"dataframe\">\n",
       "  <thead>\n",
       "    <tr style=\"text-align: right;\">\n",
       "      <th></th>\n",
       "      <th>fips</th>\n",
       "      <th>per_capita_income</th>\n",
       "      <th>percent_below_poverty</th>\n",
       "      <th>percent_no_highschool_diploma</th>\n",
       "      <th>percent_mobile_homes</th>\n",
       "      <th>percent_no_vehicle</th>\n",
       "      <th>percent_overcrowding</th>\n",
       "      <th>percent_multi_unit_housing</th>\n",
       "      <th>percent_age_65_and_older</th>\n",
       "      <th>percent_limited_english_abilities</th>\n",
       "      <th>percent_minorities</th>\n",
       "      <th>percent_institutionalized_in_group_quarters</th>\n",
       "      <th>percent_age_18_to_34</th>\n",
       "      <th>percent_age_35_to_44</th>\n",
       "      <th>percent_age_45_to_54</th>\n",
       "      <th>percent_age_55_to_64</th>\n",
       "    </tr>\n",
       "  </thead>\n",
       "  <tbody>\n",
       "    <tr>\n",
       "      <th>0</th>\n",
       "      <td>01001</td>\n",
       "      <td>23178</td>\n",
       "      <td>14.175267</td>\n",
       "      <td>16.000664</td>\n",
       "      <td>20.720671</td>\n",
       "      <td>3.965697</td>\n",
       "      <td>3.385714</td>\n",
       "      <td>3.222342</td>\n",
       "      <td>13.432134</td>\n",
       "      <td>2.994832</td>\n",
       "      <td>NaN</td>\n",
       "      <td>0.819717</td>\n",
       "      <td>20.666630</td>\n",
       "      <td>14.141469</td>\n",
       "      <td>15.218139</td>\n",
       "      <td>10.938603</td>\n",
       "    </tr>\n",
       "    <tr>\n",
       "      <th>1</th>\n",
       "      <td>01003</td>\n",
       "      <td>26309</td>\n",
       "      <td>13.693877</td>\n",
       "      <td>10.160911</td>\n",
       "      <td>13.020698</td>\n",
       "      <td>3.284909</td>\n",
       "      <td>1.160017</td>\n",
       "      <td>18.629167</td>\n",
       "      <td>17.551484</td>\n",
       "      <td>5.128919</td>\n",
       "      <td>NaN</td>\n",
       "      <td>1.363486</td>\n",
       "      <td>19.190391</td>\n",
       "      <td>12.616438</td>\n",
       "      <td>14.145910</td>\n",
       "      <td>13.845880</td>\n",
       "    </tr>\n",
       "    <tr>\n",
       "      <th>2</th>\n",
       "      <td>01005</td>\n",
       "      <td>15697</td>\n",
       "      <td>28.264707</td>\n",
       "      <td>26.743814</td>\n",
       "      <td>27.609372</td>\n",
       "      <td>10.013032</td>\n",
       "      <td>1.683319</td>\n",
       "      <td>1.488728</td>\n",
       "      <td>15.318163</td>\n",
       "      <td>4.423054</td>\n",
       "      <td>NaN</td>\n",
       "      <td>10.259898</td>\n",
       "      <td>22.155645</td>\n",
       "      <td>13.924935</td>\n",
       "      <td>14.259457</td>\n",
       "      <td>13.050031</td>\n",
       "    </tr>\n",
       "    <tr>\n",
       "      <th>3</th>\n",
       "      <td>01007</td>\n",
       "      <td>17192</td>\n",
       "      <td>21.425500</td>\n",
       "      <td>23.530916</td>\n",
       "      <td>33.347683</td>\n",
       "      <td>4.791494</td>\n",
       "      <td>NaN</td>\n",
       "      <td>1.723366</td>\n",
       "      <td>13.921759</td>\n",
       "      <td>2.373581</td>\n",
       "      <td>NaN</td>\n",
       "      <td>7.687213</td>\n",
       "      <td>21.118863</td>\n",
       "      <td>15.621688</td>\n",
       "      <td>15.524550</td>\n",
       "      <td>12.071706</td>\n",
       "    </tr>\n",
       "    <tr>\n",
       "      <th>4</th>\n",
       "      <td>01009</td>\n",
       "      <td>19861</td>\n",
       "      <td>15.921372</td>\n",
       "      <td>23.348714</td>\n",
       "      <td>22.423077</td>\n",
       "      <td>3.986522</td>\n",
       "      <td>1.589863</td>\n",
       "      <td>0.669586</td>\n",
       "      <td>15.728199</td>\n",
       "      <td>6.635526</td>\n",
       "      <td>NaN</td>\n",
       "      <td>1.050046</td>\n",
       "      <td>19.886865</td>\n",
       "      <td>13.211203</td>\n",
       "      <td>13.981006</td>\n",
       "      <td>13.109139</td>\n",
       "    </tr>\n",
       "  </tbody>\n",
       "</table>\n",
       "</div>"
      ],
      "text/plain": [
       "    fips per_capita_income  percent_below_poverty  \\\n",
       "0  01001             23178              14.175267   \n",
       "1  01003             26309              13.693877   \n",
       "2  01005             15697              28.264707   \n",
       "3  01007             17192              21.425500   \n",
       "4  01009             19861              15.921372   \n",
       "\n",
       "   percent_no_highschool_diploma  percent_mobile_homes  percent_no_vehicle  \\\n",
       "0                      16.000664             20.720671            3.965697   \n",
       "1                      10.160911             13.020698            3.284909   \n",
       "2                      26.743814             27.609372           10.013032   \n",
       "3                      23.530916             33.347683            4.791494   \n",
       "4                      23.348714             22.423077            3.986522   \n",
       "\n",
       "   percent_overcrowding  percent_multi_unit_housing  percent_age_65_and_older  \\\n",
       "0              3.385714                    3.222342                 13.432134   \n",
       "1              1.160017                   18.629167                 17.551484   \n",
       "2              1.683319                    1.488728                 15.318163   \n",
       "3                   NaN                    1.723366                 13.921759   \n",
       "4              1.589863                    0.669586                 15.728199   \n",
       "\n",
       "   percent_limited_english_abilities  percent_minorities  \\\n",
       "0                           2.994832                 NaN   \n",
       "1                           5.128919                 NaN   \n",
       "2                           4.423054                 NaN   \n",
       "3                           2.373581                 NaN   \n",
       "4                           6.635526                 NaN   \n",
       "\n",
       "   percent_institutionalized_in_group_quarters  percent_age_18_to_34  \\\n",
       "0                                     0.819717             20.666630   \n",
       "1                                     1.363486             19.190391   \n",
       "2                                    10.259898             22.155645   \n",
       "3                                     7.687213             21.118863   \n",
       "4                                     1.050046             19.886865   \n",
       "\n",
       "   percent_age_35_to_44  percent_age_45_to_54  percent_age_55_to_64  \n",
       "0             14.141469             15.218139             10.938603  \n",
       "1             12.616438             14.145910             13.845880  \n",
       "2             13.924935             14.259457             13.050031  \n",
       "3             15.621688             15.524550             12.071706  \n",
       "4             13.211203             13.981006             13.109139  "
      ]
     },
     "execution_count": 106,
     "metadata": {},
     "output_type": "execute_result"
    }
   ],
   "source": [
    "df = df.merge(df3[['fips', 'percent_no_highschool_diploma']], on = 'fips', how = 'left')\n",
    "df = df.merge(df4[['fips', 'percent_mobile_homes']], on = 'fips', how = 'left')\n",
    "df = df.merge(df5[['fips', 'percent_no_vehicle']], on = 'fips', how = 'left')\n",
    "df = df.merge(df7[['fips', 'percent_overcrowding']], on = 'fips', how = 'left')\n",
    "df = df.merge(df8[['fips', 'percent_multi_unit_housing']], on = 'fips', how = 'left')\n",
    "df = df.merge(df9[['fips', 'percent_age_65_and_older']], on = 'fips', how = 'left')\n",
    "df = df.merge(df10[['fips', 'percent_limited_english_abilities']], on = 'fips', how = 'left')\n",
    "df = df.merge(df12[['fips', 'percent_minorities']], on = 'fips', how = 'left')\n",
    "df = df.merge(df14[['fips', 'percent_institutionalized_in_group_quarters']], on = 'fips', how = 'left')\n",
    "df = df.merge(df16[['fips', 'percent_age_18_to_34']], on = 'fips', how = 'left')\n",
    "df = df.merge(df17[['fips', 'percent_age_35_to_44']], on = 'fips', how = 'left')\n",
    "df = df.merge(df18[['fips', 'percent_age_45_to_54']], on = 'fips', how = 'left')\n",
    "df = df.merge(df19[['fips', 'percent_age_55_to_64']], on = 'fips', how = 'left')\n",
    "df.head()"
   ]
  },
  {
   "cell_type": "code",
   "execution_count": 107,
   "id": "8fb672d1-2308-45ba-aeb7-56bb577e7d66",
   "metadata": {},
   "outputs": [
    {
     "data": {
      "text/html": [
       "<div>\n",
       "<style scoped>\n",
       "    .dataframe tbody tr th:only-of-type {\n",
       "        vertical-align: middle;\n",
       "    }\n",
       "\n",
       "    .dataframe tbody tr th {\n",
       "        vertical-align: top;\n",
       "    }\n",
       "\n",
       "    .dataframe thead th {\n",
       "        text-align: right;\n",
       "    }\n",
       "</style>\n",
       "<table border=\"1\" class=\"dataframe\">\n",
       "  <thead>\n",
       "    <tr style=\"text-align: right;\">\n",
       "      <th></th>\n",
       "      <th>fips</th>\n",
       "      <th>per_capita_income</th>\n",
       "      <th>percent_below_poverty</th>\n",
       "      <th>percent_no_highschool_diploma</th>\n",
       "      <th>percent_mobile_homes</th>\n",
       "      <th>percent_no_vehicle</th>\n",
       "      <th>percent_overcrowding</th>\n",
       "      <th>percent_multi_unit_housing</th>\n",
       "      <th>percent_age_65_and_older</th>\n",
       "      <th>percent_limited_english_abilities</th>\n",
       "      <th>percent_minorities</th>\n",
       "      <th>percent_institutionalized_in_group_quarters</th>\n",
       "      <th>percent_age_18_to_34</th>\n",
       "      <th>percent_age_35_to_44</th>\n",
       "      <th>percent_age_45_to_54</th>\n",
       "      <th>percent_age_55_to_64</th>\n",
       "    </tr>\n",
       "  </thead>\n",
       "  <tbody>\n",
       "    <tr>\n",
       "      <th>0</th>\n",
       "      <td>01001</td>\n",
       "      <td>23178</td>\n",
       "      <td>14.175267</td>\n",
       "      <td>16.000664</td>\n",
       "      <td>20.720671</td>\n",
       "      <td>3.965697</td>\n",
       "      <td>3.385714</td>\n",
       "      <td>3.222342</td>\n",
       "      <td>13.432134</td>\n",
       "      <td>2.994832</td>\n",
       "      <td>NaN</td>\n",
       "      <td>0.819717</td>\n",
       "      <td>20.666630</td>\n",
       "      <td>14.141469</td>\n",
       "      <td>15.218139</td>\n",
       "      <td>10.938603</td>\n",
       "    </tr>\n",
       "    <tr>\n",
       "      <th>1</th>\n",
       "      <td>01003</td>\n",
       "      <td>26309</td>\n",
       "      <td>13.693877</td>\n",
       "      <td>10.160911</td>\n",
       "      <td>13.020698</td>\n",
       "      <td>3.284909</td>\n",
       "      <td>1.160017</td>\n",
       "      <td>18.629167</td>\n",
       "      <td>17.551484</td>\n",
       "      <td>5.128919</td>\n",
       "      <td>NaN</td>\n",
       "      <td>1.363486</td>\n",
       "      <td>19.190391</td>\n",
       "      <td>12.616438</td>\n",
       "      <td>14.145910</td>\n",
       "      <td>13.845880</td>\n",
       "    </tr>\n",
       "    <tr>\n",
       "      <th>2</th>\n",
       "      <td>01005</td>\n",
       "      <td>15697</td>\n",
       "      <td>28.264707</td>\n",
       "      <td>26.743814</td>\n",
       "      <td>27.609372</td>\n",
       "      <td>10.013032</td>\n",
       "      <td>1.683319</td>\n",
       "      <td>1.488728</td>\n",
       "      <td>15.318163</td>\n",
       "      <td>4.423054</td>\n",
       "      <td>NaN</td>\n",
       "      <td>10.259898</td>\n",
       "      <td>22.155645</td>\n",
       "      <td>13.924935</td>\n",
       "      <td>14.259457</td>\n",
       "      <td>13.050031</td>\n",
       "    </tr>\n",
       "    <tr>\n",
       "      <th>3</th>\n",
       "      <td>01007</td>\n",
       "      <td>17192</td>\n",
       "      <td>21.425500</td>\n",
       "      <td>23.530916</td>\n",
       "      <td>33.347683</td>\n",
       "      <td>4.791494</td>\n",
       "      <td>NaN</td>\n",
       "      <td>1.723366</td>\n",
       "      <td>13.921759</td>\n",
       "      <td>2.373581</td>\n",
       "      <td>NaN</td>\n",
       "      <td>7.687213</td>\n",
       "      <td>21.118863</td>\n",
       "      <td>15.621688</td>\n",
       "      <td>15.524550</td>\n",
       "      <td>12.071706</td>\n",
       "    </tr>\n",
       "    <tr>\n",
       "      <th>4</th>\n",
       "      <td>01009</td>\n",
       "      <td>19861</td>\n",
       "      <td>15.921372</td>\n",
       "      <td>23.348714</td>\n",
       "      <td>22.423077</td>\n",
       "      <td>3.986522</td>\n",
       "      <td>1.589863</td>\n",
       "      <td>0.669586</td>\n",
       "      <td>15.728199</td>\n",
       "      <td>6.635526</td>\n",
       "      <td>NaN</td>\n",
       "      <td>1.050046</td>\n",
       "      <td>19.886865</td>\n",
       "      <td>13.211203</td>\n",
       "      <td>13.981006</td>\n",
       "      <td>13.109139</td>\n",
       "    </tr>\n",
       "  </tbody>\n",
       "</table>\n",
       "</div>"
      ],
      "text/plain": [
       "    fips per_capita_income  percent_below_poverty  \\\n",
       "0  01001             23178              14.175267   \n",
       "1  01003             26309              13.693877   \n",
       "2  01005             15697              28.264707   \n",
       "3  01007             17192              21.425500   \n",
       "4  01009             19861              15.921372   \n",
       "\n",
       "   percent_no_highschool_diploma  percent_mobile_homes  percent_no_vehicle  \\\n",
       "0                      16.000664             20.720671            3.965697   \n",
       "1                      10.160911             13.020698            3.284909   \n",
       "2                      26.743814             27.609372           10.013032   \n",
       "3                      23.530916             33.347683            4.791494   \n",
       "4                      23.348714             22.423077            3.986522   \n",
       "\n",
       "   percent_overcrowding  percent_multi_unit_housing  percent_age_65_and_older  \\\n",
       "0              3.385714                    3.222342                 13.432134   \n",
       "1              1.160017                   18.629167                 17.551484   \n",
       "2              1.683319                    1.488728                 15.318163   \n",
       "3                   NaN                    1.723366                 13.921759   \n",
       "4              1.589863                    0.669586                 15.728199   \n",
       "\n",
       "   percent_limited_english_abilities  percent_minorities  \\\n",
       "0                           2.994832                 NaN   \n",
       "1                           5.128919                 NaN   \n",
       "2                           4.423054                 NaN   \n",
       "3                           2.373581                 NaN   \n",
       "4                           6.635526                 NaN   \n",
       "\n",
       "   percent_institutionalized_in_group_quarters  percent_age_18_to_34  \\\n",
       "0                                     0.819717             20.666630   \n",
       "1                                     1.363486             19.190391   \n",
       "2                                    10.259898             22.155645   \n",
       "3                                     7.687213             21.118863   \n",
       "4                                     1.050046             19.886865   \n",
       "\n",
       "   percent_age_35_to_44  percent_age_45_to_54  percent_age_55_to_64  \n",
       "0             14.141469             15.218139             10.938603  \n",
       "1             12.616438             14.145910             13.845880  \n",
       "2             13.924935             14.259457             13.050031  \n",
       "3             15.621688             15.524550             12.071706  \n",
       "4             13.211203             13.981006             13.109139  "
      ]
     },
     "execution_count": 107,
     "metadata": {},
     "output_type": "execute_result"
    }
   ],
   "source": [
    "df.head()"
   ]
  },
  {
   "cell_type": "code",
   "execution_count": 108,
   "id": "9ee5d6d3-6642-4cd7-8bcf-b966a22230a4",
   "metadata": {},
   "outputs": [
    {
     "data": {
      "text/html": [
       "<div>\n",
       "<style scoped>\n",
       "    .dataframe tbody tr th:only-of-type {\n",
       "        vertical-align: middle;\n",
       "    }\n",
       "\n",
       "    .dataframe tbody tr th {\n",
       "        vertical-align: top;\n",
       "    }\n",
       "\n",
       "    .dataframe thead th {\n",
       "        text-align: right;\n",
       "    }\n",
       "</style>\n",
       "<table border=\"1\" class=\"dataframe\">\n",
       "  <thead>\n",
       "    <tr style=\"text-align: right;\">\n",
       "      <th></th>\n",
       "      <th>fips</th>\n",
       "      <th>per_capita_income</th>\n",
       "      <th>percent_below_poverty</th>\n",
       "      <th>percent_no_highschool_diploma</th>\n",
       "      <th>percent_mobile_homes</th>\n",
       "      <th>percent_no_vehicle</th>\n",
       "      <th>percent_overcrowding</th>\n",
       "      <th>percent_multi_unit_housing</th>\n",
       "      <th>percent_age_65_and_older</th>\n",
       "      <th>percent_limited_english_abilities</th>\n",
       "      <th>percent_minorities</th>\n",
       "      <th>percent_institutionalized_in_group_quarters</th>\n",
       "      <th>percent_age_18_to_34</th>\n",
       "      <th>percent_age_35_to_44</th>\n",
       "      <th>percent_age_45_to_54</th>\n",
       "      <th>percent_age_55_to_64</th>\n",
       "    </tr>\n",
       "  </thead>\n",
       "  <tbody>\n",
       "    <tr>\n",
       "      <th>0</th>\n",
       "      <td>01001</td>\n",
       "      <td>23178</td>\n",
       "      <td>14.175267</td>\n",
       "      <td>16.000664</td>\n",
       "      <td>20.720671</td>\n",
       "      <td>3.965697</td>\n",
       "      <td>3.385714</td>\n",
       "      <td>3.222342</td>\n",
       "      <td>13.432134</td>\n",
       "      <td>2.994832</td>\n",
       "      <td>NaN</td>\n",
       "      <td>0.819717</td>\n",
       "      <td>20.666630</td>\n",
       "      <td>14.141469</td>\n",
       "      <td>15.218139</td>\n",
       "      <td>10.938603</td>\n",
       "    </tr>\n",
       "    <tr>\n",
       "      <th>1</th>\n",
       "      <td>01003</td>\n",
       "      <td>26309</td>\n",
       "      <td>13.693877</td>\n",
       "      <td>10.160911</td>\n",
       "      <td>13.020698</td>\n",
       "      <td>3.284909</td>\n",
       "      <td>1.160017</td>\n",
       "      <td>18.629167</td>\n",
       "      <td>17.551484</td>\n",
       "      <td>5.128919</td>\n",
       "      <td>NaN</td>\n",
       "      <td>1.363486</td>\n",
       "      <td>19.190391</td>\n",
       "      <td>12.616438</td>\n",
       "      <td>14.145910</td>\n",
       "      <td>13.845880</td>\n",
       "    </tr>\n",
       "    <tr>\n",
       "      <th>2</th>\n",
       "      <td>01005</td>\n",
       "      <td>15697</td>\n",
       "      <td>28.264707</td>\n",
       "      <td>26.743814</td>\n",
       "      <td>27.609372</td>\n",
       "      <td>10.013032</td>\n",
       "      <td>1.683319</td>\n",
       "      <td>1.488728</td>\n",
       "      <td>15.318163</td>\n",
       "      <td>4.423054</td>\n",
       "      <td>NaN</td>\n",
       "      <td>10.259898</td>\n",
       "      <td>22.155645</td>\n",
       "      <td>13.924935</td>\n",
       "      <td>14.259457</td>\n",
       "      <td>13.050031</td>\n",
       "    </tr>\n",
       "    <tr>\n",
       "      <th>3</th>\n",
       "      <td>01007</td>\n",
       "      <td>17192</td>\n",
       "      <td>21.425500</td>\n",
       "      <td>23.530916</td>\n",
       "      <td>33.347683</td>\n",
       "      <td>4.791494</td>\n",
       "      <td>NaN</td>\n",
       "      <td>1.723366</td>\n",
       "      <td>13.921759</td>\n",
       "      <td>2.373581</td>\n",
       "      <td>NaN</td>\n",
       "      <td>7.687213</td>\n",
       "      <td>21.118863</td>\n",
       "      <td>15.621688</td>\n",
       "      <td>15.524550</td>\n",
       "      <td>12.071706</td>\n",
       "    </tr>\n",
       "    <tr>\n",
       "      <th>4</th>\n",
       "      <td>01009</td>\n",
       "      <td>19861</td>\n",
       "      <td>15.921372</td>\n",
       "      <td>23.348714</td>\n",
       "      <td>22.423077</td>\n",
       "      <td>3.986522</td>\n",
       "      <td>1.589863</td>\n",
       "      <td>0.669586</td>\n",
       "      <td>15.728199</td>\n",
       "      <td>6.635526</td>\n",
       "      <td>NaN</td>\n",
       "      <td>1.050046</td>\n",
       "      <td>19.886865</td>\n",
       "      <td>13.211203</td>\n",
       "      <td>13.981006</td>\n",
       "      <td>13.109139</td>\n",
       "    </tr>\n",
       "  </tbody>\n",
       "</table>\n",
       "</div>"
      ],
      "text/plain": [
       "    fips per_capita_income  percent_below_poverty  \\\n",
       "0  01001             23178              14.175267   \n",
       "1  01003             26309              13.693877   \n",
       "2  01005             15697              28.264707   \n",
       "3  01007             17192              21.425500   \n",
       "4  01009             19861              15.921372   \n",
       "\n",
       "   percent_no_highschool_diploma  percent_mobile_homes  percent_no_vehicle  \\\n",
       "0                      16.000664             20.720671            3.965697   \n",
       "1                      10.160911             13.020698            3.284909   \n",
       "2                      26.743814             27.609372           10.013032   \n",
       "3                      23.530916             33.347683            4.791494   \n",
       "4                      23.348714             22.423077            3.986522   \n",
       "\n",
       "   percent_overcrowding  percent_multi_unit_housing  percent_age_65_and_older  \\\n",
       "0              3.385714                    3.222342                 13.432134   \n",
       "1              1.160017                   18.629167                 17.551484   \n",
       "2              1.683319                    1.488728                 15.318163   \n",
       "3                   NaN                    1.723366                 13.921759   \n",
       "4              1.589863                    0.669586                 15.728199   \n",
       "\n",
       "   percent_limited_english_abilities  percent_minorities  \\\n",
       "0                           2.994832                 NaN   \n",
       "1                           5.128919                 NaN   \n",
       "2                           4.423054                 NaN   \n",
       "3                           2.373581                 NaN   \n",
       "4                           6.635526                 NaN   \n",
       "\n",
       "   percent_institutionalized_in_group_quarters  percent_age_18_to_34  \\\n",
       "0                                     0.819717             20.666630   \n",
       "1                                     1.363486             19.190391   \n",
       "2                                    10.259898             22.155645   \n",
       "3                                     7.687213             21.118863   \n",
       "4                                     1.050046             19.886865   \n",
       "\n",
       "   percent_age_35_to_44  percent_age_45_to_54  percent_age_55_to_64  \n",
       "0             14.141469             15.218139             10.938603  \n",
       "1             12.616438             14.145910             13.845880  \n",
       "2             13.924935             14.259457             13.050031  \n",
       "3             15.621688             15.524550             12.071706  \n",
       "4             13.211203             13.981006             13.109139  "
      ]
     },
     "execution_count": 108,
     "metadata": {},
     "output_type": "execute_result"
    }
   ],
   "source": [
    "df = df.sort_values('fips')\n",
    "df.head()"
   ]
  },
  {
   "cell_type": "code",
   "execution_count": 109,
   "id": "e71a412f-110f-413e-bb0f-db2f9dd71ea4",
   "metadata": {},
   "outputs": [],
   "source": [
    "df.to_csv('SDoH_3years/Social_Economic_3years_2013.csv')"
   ]
  },
  {
   "cell_type": "code",
   "execution_count": null,
   "id": "37ed9bf1-115d-4c43-9e7d-b07bb7fdaf85",
   "metadata": {},
   "outputs": [],
   "source": []
  },
  {
   "cell_type": "code",
   "execution_count": null,
   "id": "c7bed9e1-5e20-4643-97df-44f9b42f6fcc",
   "metadata": {},
   "outputs": [],
   "source": []
  },
  {
   "cell_type": "code",
   "execution_count": null,
   "id": "e16f5171-7956-41a4-a6f6-333c3bb1446b",
   "metadata": {},
   "outputs": [],
   "source": []
  }
 ],
 "metadata": {
  "kernelspec": {
   "display_name": "MyEnv",
   "language": "python",
   "name": "myenv"
  },
  "language_info": {
   "codemirror_mode": {
    "name": "ipython",
    "version": 3
   },
   "file_extension": ".py",
   "mimetype": "text/x-python",
   "name": "python",
   "nbconvert_exporter": "python",
   "pygments_lexer": "ipython3",
   "version": "3.7.11"
  }
 },
 "nbformat": 4,
 "nbformat_minor": 5
}
