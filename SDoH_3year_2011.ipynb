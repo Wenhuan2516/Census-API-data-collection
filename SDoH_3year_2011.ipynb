{
 "cells": [
  {
   "cell_type": "code",
   "execution_count": 1,
   "id": "1ceae829-a03e-466e-9656-2a34dbac8e37",
   "metadata": {},
   "outputs": [],
   "source": [
    "import pandas as pd\n",
    "import numpy as np\n",
    "import matplotlib.pyplot as plt\n",
    "import dask.dataframe as ddf\n",
    "from pandas import Series, DataFrame\n",
    "%matplotlib inline"
   ]
  },
  {
   "cell_type": "code",
   "execution_count": 2,
   "id": "331165ba-98cf-46d9-8529-d0a720926159",
   "metadata": {},
   "outputs": [],
   "source": [
    "import seaborn as sn\n",
    "import plotly.express as px"
   ]
  },
  {
   "cell_type": "markdown",
   "id": "7e4454ad-3fe4-4bb7-b924-8fcf489f2803",
   "metadata": {},
   "source": [
    "### Request for Census Tract Level Population data from Census API"
   ]
  },
  {
   "cell_type": "code",
   "execution_count": 3,
   "id": "c29f7104-19c9-49cf-9161-e5d226f6481c",
   "metadata": {},
   "outputs": [],
   "source": [
    "stateCode = ['01', '02', '04', '05', '06', '08', '09', '10', '11', '12', '13', '15', '16',\n",
    "             '17', '18', '19', '20', '21', '22', '23', '24', '25', '26', '27', '28', '29',\n",
    "            '30', '31', '32', '33', '34', '35', '36', '37', '38', '39', '40', '41', '42', \n",
    "             '44', '45', '46', '47', '48', '49', '50', '51', '53', '54', '55', '56']"
   ]
  },
  {
   "cell_type": "code",
   "execution_count": 4,
   "id": "0178df59-4807-43ba-a82b-9ac9fde763f4",
   "metadata": {},
   "outputs": [
    {
     "data": {
      "text/plain": [
       "51"
      ]
     },
     "execution_count": 4,
     "metadata": {},
     "output_type": "execute_result"
    }
   ],
   "source": [
    "len(stateCode)"
   ]
  },
  {
   "cell_type": "code",
   "execution_count": 5,
   "id": "0767a76a-e446-4a73-a850-7861f44c5f9c",
   "metadata": {},
   "outputs": [],
   "source": [
    "import requests\n",
    "import pandas as pd\n",
    "from datetime import datetime\n",
    "import time\n",
    "import json\n",
    "from io import StringIO"
   ]
  },
  {
   "cell_type": "code",
   "execution_count": 6,
   "id": "d9dc7da1-6aa4-4484-ba06-53ae6f7b9d67",
   "metadata": {},
   "outputs": [],
   "source": [
    "def collectAll_county(year, variables):\n",
    "    basic_url = 'https://api.census.gov/data/' + year + '/acs/acs3?get=NAME,'+ variables + '&for=county:*&in=state:*&key=250f58e35283d400e4185b197e3abe9021079afe'\n",
    "    r = requests.get(basic_url)\n",
    "    x = r.json()\n",
    "    print(x[0])\n",
    "    variable_list = variables.split(',')\n",
    "    column_list = ['county_name']\n",
    "    for item in variable_list:\n",
    "        column_list.append(item)\n",
    "    column_list.append('state code')\n",
    "    column_list.append('county code')\n",
    "    df = pd.DataFrame(x[1:])\n",
    "    df.columns = column_list\n",
    "    return df"
   ]
  },
  {
   "cell_type": "markdown",
   "id": "2cf40e7f-4f06-4d86-b47e-a4418022d334",
   "metadata": {},
   "source": [
    "#### Total population: B01003_001E"
   ]
  },
  {
   "cell_type": "code",
   "execution_count": 7,
   "id": "6c80f31f-3474-4c99-9d06-094da34df9d2",
   "metadata": {},
   "outputs": [],
   "source": [
    "year = '2011'\n",
    "variables = 'B01003_001E'"
   ]
  },
  {
   "cell_type": "code",
   "execution_count": 8,
   "id": "1c3cbc10-f564-4d44-94ee-24486b705c9c",
   "metadata": {},
   "outputs": [
    {
     "name": "stdout",
     "output_type": "stream",
     "text": [
      "['NAME', 'B01003_001E', 'state', 'county']\n"
     ]
    },
    {
     "data": {
      "text/html": [
       "<div>\n",
       "<style scoped>\n",
       "    .dataframe tbody tr th:only-of-type {\n",
       "        vertical-align: middle;\n",
       "    }\n",
       "\n",
       "    .dataframe tbody tr th {\n",
       "        vertical-align: top;\n",
       "    }\n",
       "\n",
       "    .dataframe thead th {\n",
       "        text-align: right;\n",
       "    }\n",
       "</style>\n",
       "<table border=\"1\" class=\"dataframe\">\n",
       "  <thead>\n",
       "    <tr style=\"text-align: right;\">\n",
       "      <th></th>\n",
       "      <th>county_name</th>\n",
       "      <th>B01003_001E</th>\n",
       "      <th>state code</th>\n",
       "      <th>county code</th>\n",
       "    </tr>\n",
       "  </thead>\n",
       "  <tbody>\n",
       "    <tr>\n",
       "      <th>0</th>\n",
       "      <td>Carroll County, Maryland</td>\n",
       "      <td>167188</td>\n",
       "      <td>24</td>\n",
       "      <td>013</td>\n",
       "    </tr>\n",
       "    <tr>\n",
       "      <th>1</th>\n",
       "      <td>Cecil County, Maryland</td>\n",
       "      <td>101240</td>\n",
       "      <td>24</td>\n",
       "      <td>015</td>\n",
       "    </tr>\n",
       "    <tr>\n",
       "      <th>2</th>\n",
       "      <td>Charles County, Maryland</td>\n",
       "      <td>147012</td>\n",
       "      <td>24</td>\n",
       "      <td>017</td>\n",
       "    </tr>\n",
       "    <tr>\n",
       "      <th>3</th>\n",
       "      <td>Dorchester County, Maryland</td>\n",
       "      <td>32587</td>\n",
       "      <td>24</td>\n",
       "      <td>019</td>\n",
       "    </tr>\n",
       "    <tr>\n",
       "      <th>4</th>\n",
       "      <td>Frederick County, Maryland</td>\n",
       "      <td>233958</td>\n",
       "      <td>24</td>\n",
       "      <td>021</td>\n",
       "    </tr>\n",
       "  </tbody>\n",
       "</table>\n",
       "</div>"
      ],
      "text/plain": [
       "                   county_name B01003_001E state code county code\n",
       "0     Carroll County, Maryland      167188         24         013\n",
       "1       Cecil County, Maryland      101240         24         015\n",
       "2     Charles County, Maryland      147012         24         017\n",
       "3  Dorchester County, Maryland       32587         24         019\n",
       "4   Frederick County, Maryland      233958         24         021"
      ]
     },
     "execution_count": 8,
     "metadata": {},
     "output_type": "execute_result"
    }
   ],
   "source": [
    "pop_09 = collectAll_county(year,variables)\n",
    "pop_09.head()"
   ]
  },
  {
   "cell_type": "code",
   "execution_count": 9,
   "id": "f0c3f3ea-2b57-4b94-8a49-de9648453f76",
   "metadata": {},
   "outputs": [
    {
     "data": {
      "text/plain": [
       "(1909, 4)"
      ]
     },
     "execution_count": 9,
     "metadata": {},
     "output_type": "execute_result"
    }
   ],
   "source": [
    "pop_09.shape"
   ]
  },
  {
   "cell_type": "markdown",
   "id": "60163fad-ec5e-4e88-9f4a-8842397bedfb",
   "metadata": {},
   "source": [
    "#### 1.per capita income: B19301_001E"
   ]
  },
  {
   "cell_type": "code",
   "execution_count": 10,
   "id": "5be9c9d4-1b1e-4cac-87ef-67af4321d3d1",
   "metadata": {},
   "outputs": [
    {
     "name": "stdout",
     "output_type": "stream",
     "text": [
      "['NAME', 'B19301_001E', 'state', 'county']\n"
     ]
    }
   ],
   "source": [
    "variables = 'B19301_001E'\n",
    "df1 = collectAll_county(year,variables)"
   ]
  },
  {
   "cell_type": "code",
   "execution_count": 11,
   "id": "2c56e829-7a86-4f8f-bac9-fcb7861ab45a",
   "metadata": {},
   "outputs": [
    {
     "data": {
      "text/plain": [
       "(1909, 4)"
      ]
     },
     "execution_count": 11,
     "metadata": {},
     "output_type": "execute_result"
    }
   ],
   "source": [
    "df1.shape"
   ]
  },
  {
   "cell_type": "code",
   "execution_count": 12,
   "id": "36bfc372-bdf7-43bf-8885-8fba42110dcf",
   "metadata": {},
   "outputs": [
    {
     "data": {
      "text/html": [
       "<div>\n",
       "<style scoped>\n",
       "    .dataframe tbody tr th:only-of-type {\n",
       "        vertical-align: middle;\n",
       "    }\n",
       "\n",
       "    .dataframe tbody tr th {\n",
       "        vertical-align: top;\n",
       "    }\n",
       "\n",
       "    .dataframe thead th {\n",
       "        text-align: right;\n",
       "    }\n",
       "</style>\n",
       "<table border=\"1\" class=\"dataframe\">\n",
       "  <thead>\n",
       "    <tr style=\"text-align: right;\">\n",
       "      <th></th>\n",
       "      <th>county_name</th>\n",
       "      <th>per_capita_income</th>\n",
       "      <th>state code</th>\n",
       "      <th>county code</th>\n",
       "      <th>fips</th>\n",
       "    </tr>\n",
       "  </thead>\n",
       "  <tbody>\n",
       "    <tr>\n",
       "      <th>0</th>\n",
       "      <td>George County, Mississippi</td>\n",
       "      <td>18979</td>\n",
       "      <td>28</td>\n",
       "      <td>039</td>\n",
       "      <td>28039</td>\n",
       "    </tr>\n",
       "    <tr>\n",
       "      <th>1</th>\n",
       "      <td>Grenada County, Mississippi</td>\n",
       "      <td>19513</td>\n",
       "      <td>28</td>\n",
       "      <td>043</td>\n",
       "      <td>28043</td>\n",
       "    </tr>\n",
       "    <tr>\n",
       "      <th>2</th>\n",
       "      <td>Hancock County, Mississippi</td>\n",
       "      <td>22709</td>\n",
       "      <td>28</td>\n",
       "      <td>045</td>\n",
       "      <td>28045</td>\n",
       "    </tr>\n",
       "    <tr>\n",
       "      <th>3</th>\n",
       "      <td>Harrison County, Mississippi</td>\n",
       "      <td>22317</td>\n",
       "      <td>28</td>\n",
       "      <td>047</td>\n",
       "      <td>28047</td>\n",
       "    </tr>\n",
       "    <tr>\n",
       "      <th>4</th>\n",
       "      <td>Hinds County, Mississippi</td>\n",
       "      <td>19846</td>\n",
       "      <td>28</td>\n",
       "      <td>049</td>\n",
       "      <td>28049</td>\n",
       "    </tr>\n",
       "  </tbody>\n",
       "</table>\n",
       "</div>"
      ],
      "text/plain": [
       "                    county_name per_capita_income state code county code  \\\n",
       "0    George County, Mississippi             18979         28         039   \n",
       "1   Grenada County, Mississippi             19513         28         043   \n",
       "2   Hancock County, Mississippi             22709         28         045   \n",
       "3  Harrison County, Mississippi             22317         28         047   \n",
       "4     Hinds County, Mississippi             19846         28         049   \n",
       "\n",
       "    fips  \n",
       "0  28039  \n",
       "1  28043  \n",
       "2  28045  \n",
       "3  28047  \n",
       "4  28049  "
      ]
     },
     "execution_count": 12,
     "metadata": {},
     "output_type": "execute_result"
    }
   ],
   "source": [
    "df1 = df1.rename(columns = {'B19301_001E': 'per_capita_income'})\n",
    "df1['fips'] = df1['state code'] + df1['county code']\n",
    "df1.head()"
   ]
  },
  {
   "cell_type": "markdown",
   "id": "20e579a0-3071-459e-9389-37b5c7699577",
   "metadata": {},
   "source": [
    "#### 2.Percent of Population Below Poverty Level: (C17002_002E+C17002_003E)/C17002_001E"
   ]
  },
  {
   "cell_type": "code",
   "execution_count": 13,
   "id": "26ecf325-eb30-4168-a61f-cae373c3a0da",
   "metadata": {},
   "outputs": [
    {
     "name": "stdout",
     "output_type": "stream",
     "text": [
      "['NAME', 'C17002_002E', 'C17002_003E', 'C17002_001E', 'state', 'county']\n"
     ]
    }
   ],
   "source": [
    "variables = 'C17002_002E,C17002_003E,C17002_001E'\n",
    "df2 = collectAll_county(year,variables)"
   ]
  },
  {
   "cell_type": "code",
   "execution_count": 14,
   "id": "af388139-f295-4ea8-8cda-a7f3f9cf07f5",
   "metadata": {},
   "outputs": [],
   "source": [
    "df2['C17002_002E'] = df2['C17002_002E'].astype('int')\n",
    "df2['C17002_003E'] = df2['C17002_003E'].astype('int')\n",
    "df2['C17002_001E'] = df2['C17002_001E'].astype('int')"
   ]
  },
  {
   "cell_type": "code",
   "execution_count": 15,
   "id": "b05ccb73-f46d-48ab-86d9-0a05a0768e36",
   "metadata": {},
   "outputs": [],
   "source": [
    "df2['percent_below_poverty'] = ((df2['C17002_002E'] + df2['C17002_003E'])/df2['C17002_001E'])*100"
   ]
  },
  {
   "cell_type": "code",
   "execution_count": 16,
   "id": "07d65dd3-cfe5-4fc9-91cf-c077b6c98d2f",
   "metadata": {},
   "outputs": [
    {
     "data": {
      "text/html": [
       "<div>\n",
       "<style scoped>\n",
       "    .dataframe tbody tr th:only-of-type {\n",
       "        vertical-align: middle;\n",
       "    }\n",
       "\n",
       "    .dataframe tbody tr th {\n",
       "        vertical-align: top;\n",
       "    }\n",
       "\n",
       "    .dataframe thead th {\n",
       "        text-align: right;\n",
       "    }\n",
       "</style>\n",
       "<table border=\"1\" class=\"dataframe\">\n",
       "  <thead>\n",
       "    <tr style=\"text-align: right;\">\n",
       "      <th></th>\n",
       "      <th>county_name</th>\n",
       "      <th>C17002_002E</th>\n",
       "      <th>C17002_003E</th>\n",
       "      <th>C17002_001E</th>\n",
       "      <th>state code</th>\n",
       "      <th>county code</th>\n",
       "      <th>percent_below_poverty</th>\n",
       "      <th>fips</th>\n",
       "    </tr>\n",
       "  </thead>\n",
       "  <tbody>\n",
       "    <tr>\n",
       "      <th>0</th>\n",
       "      <td>Autauga County, Alabama</td>\n",
       "      <td>2986</td>\n",
       "      <td>3479</td>\n",
       "      <td>54331</td>\n",
       "      <td>01</td>\n",
       "      <td>001</td>\n",
       "      <td>11.899284</td>\n",
       "      <td>01001</td>\n",
       "    </tr>\n",
       "    <tr>\n",
       "      <th>1</th>\n",
       "      <td>Baldwin County, Alabama</td>\n",
       "      <td>8172</td>\n",
       "      <td>15273</td>\n",
       "      <td>180935</td>\n",
       "      <td>01</td>\n",
       "      <td>003</td>\n",
       "      <td>12.957692</td>\n",
       "      <td>01003</td>\n",
       "    </tr>\n",
       "    <tr>\n",
       "      <th>2</th>\n",
       "      <td>Barbour County, Alabama</td>\n",
       "      <td>2811</td>\n",
       "      <td>3810</td>\n",
       "      <td>24589</td>\n",
       "      <td>01</td>\n",
       "      <td>005</td>\n",
       "      <td>26.926675</td>\n",
       "      <td>01005</td>\n",
       "    </tr>\n",
       "    <tr>\n",
       "      <th>3</th>\n",
       "      <td>Bibb County, Alabama</td>\n",
       "      <td>995</td>\n",
       "      <td>1948</td>\n",
       "      <td>21979</td>\n",
       "      <td>01</td>\n",
       "      <td>007</td>\n",
       "      <td>13.390054</td>\n",
       "      <td>01007</td>\n",
       "    </tr>\n",
       "    <tr>\n",
       "      <th>4</th>\n",
       "      <td>Blount County, Alabama</td>\n",
       "      <td>3477</td>\n",
       "      <td>4951</td>\n",
       "      <td>56989</td>\n",
       "      <td>01</td>\n",
       "      <td>009</td>\n",
       "      <td>14.788819</td>\n",
       "      <td>01009</td>\n",
       "    </tr>\n",
       "  </tbody>\n",
       "</table>\n",
       "</div>"
      ],
      "text/plain": [
       "               county_name  C17002_002E  C17002_003E  C17002_001E state code  \\\n",
       "0  Autauga County, Alabama         2986         3479        54331         01   \n",
       "1  Baldwin County, Alabama         8172        15273       180935         01   \n",
       "2  Barbour County, Alabama         2811         3810        24589         01   \n",
       "3     Bibb County, Alabama          995         1948        21979         01   \n",
       "4   Blount County, Alabama         3477         4951        56989         01   \n",
       "\n",
       "  county code  percent_below_poverty   fips  \n",
       "0         001              11.899284  01001  \n",
       "1         003              12.957692  01003  \n",
       "2         005              26.926675  01005  \n",
       "3         007              13.390054  01007  \n",
       "4         009              14.788819  01009  "
      ]
     },
     "execution_count": 16,
     "metadata": {},
     "output_type": "execute_result"
    }
   ],
   "source": [
    "df2['fips'] = df2['state code'] + df2['county code']\n",
    "df2.head()"
   ]
  },
  {
   "cell_type": "code",
   "execution_count": 17,
   "id": "fab4ae9e-48cb-4bc6-981f-cf9640035bf8",
   "metadata": {},
   "outputs": [
    {
     "data": {
      "text/plain": [
       "(1909, 8)"
      ]
     },
     "execution_count": 17,
     "metadata": {},
     "output_type": "execute_result"
    }
   ],
   "source": [
    "df2.shape"
   ]
  },
  {
   "cell_type": "markdown",
   "id": "ff2773ce-bbd4-4af5-b139-167dfacd87b3",
   "metadata": {},
   "source": [
    "#### 3.Percent of Population 25+ with Less than a 12th Grade Education: (B15002_003E,B15002_004E,B15002_005E,B15002_003E,B15002_006E,B15002_007E,B15002_008E,B15002_009E,B15002_010E,B15002_020E,B15002_021E,B15002_022E,B15002_023E,B15002_024E,B15002_025E,B15002_026E,B15002_027E)/B15003_001E"
   ]
  },
  {
   "cell_type": "code",
   "execution_count": 18,
   "id": "f74fbcc1-230e-43ae-a328-403cf0170abf",
   "metadata": {},
   "outputs": [],
   "source": [
    "def collectAll_county2(year, variables):\n",
    "    basic_url = 'https://api.census.gov/data/' + year + '/acs/acs1?get=NAME,'+ variables + '&for=county:*&in=state:*'\n",
    "    r = requests.get(basic_url)\n",
    "    x = r.json()\n",
    "    print(x[0])\n",
    "    variable_list = variables.split(',')\n",
    "    column_list = ['county_name']\n",
    "    for item in variable_list:\n",
    "        column_list.append(item)\n",
    "    column_list.append('state code')\n",
    "    column_list.append('county code')\n",
    "    df = pd.DataFrame(x[1:])\n",
    "    df.columns = column_list\n",
    "    return df"
   ]
  },
  {
   "cell_type": "code",
   "execution_count": 19,
   "id": "4dce7e7d-55ac-4065-a65a-0bc55367a58b",
   "metadata": {},
   "outputs": [
    {
     "name": "stdout",
     "output_type": "stream",
     "text": [
      "['NAME', 'B15002_003E', 'B15002_004E', 'B15002_005E', 'B15002_006E', 'B15002_007E', 'B15002_008E', 'B15002_009E', 'B15002_010E', 'B15002_020E', 'B15002_021E', 'B15002_022E', 'B15002_023E', 'B15002_024E', 'B15002_025E', 'B15002_026E', 'B15002_027E', 'B15002_001E', 'state', 'county']\n"
     ]
    }
   ],
   "source": [
    "variables = 'B15002_003E,B15002_004E,B15002_005E,B15002_006E,B15002_007E,B15002_008E,B15002_009E,B15002_010E,B15002_020E,B15002_021E,B15002_022E,B15002_023E,B15002_024E,B15002_025E,B15002_026E,B15002_027E,B15002_001E'\n",
    "df3 = collectAll_county(year,variables)"
   ]
  },
  {
   "cell_type": "code",
   "execution_count": 20,
   "id": "b5d87626-551f-44f6-8814-8cd148424b59",
   "metadata": {},
   "outputs": [
    {
     "data": {
      "text/plain": [
       "(1909, 20)"
      ]
     },
     "execution_count": 20,
     "metadata": {},
     "output_type": "execute_result"
    }
   ],
   "source": [
    "df3.shape"
   ]
  },
  {
   "cell_type": "code",
   "execution_count": 21,
   "id": "12beeedf-46a1-4ae9-ba56-8989e86c05d7",
   "metadata": {},
   "outputs": [],
   "source": [
    "def changeInteger(value):\n",
    "    if value != None:\n",
    "        return int(value)\n",
    "    else:\n",
    "        return np.nan"
   ]
  },
  {
   "cell_type": "code",
   "execution_count": 22,
   "id": "6de4e5bd-4da3-4617-9211-c07583bce770",
   "metadata": {},
   "outputs": [],
   "source": [
    "df3['B15002_003E'] = df3['B15002_003E'].apply(changeInteger)\n",
    "df3['B15002_004E'] = df3['B15002_004E'].apply(changeInteger)\n",
    "df3['B15002_005E'] = df3['B15002_005E'].apply(changeInteger)\n",
    "df3['B15002_006E'] = df3['B15002_006E'].apply(changeInteger)\n",
    "df3['B15002_007E'] = df3['B15002_007E'].apply(changeInteger)\n",
    "df3['B15002_008E'] = df3['B15002_008E'].apply(changeInteger)\n",
    "df3['B15002_009E'] = df3['B15002_009E'].apply(changeInteger)\n",
    "df3['B15002_010E'] = df3['B15002_010E'].apply(changeInteger)\n",
    "df3['B15002_020E'] = df3['B15002_020E'].apply(changeInteger)\n",
    "df3['B15002_021E'] = df3['B15002_021E'].apply(changeInteger)\n",
    "df3['B15002_022E'] = df3['B15002_022E'].apply(changeInteger)\n",
    "df3['B15002_023E'] = df3['B15002_023E'].apply(changeInteger)\n",
    "df3['B15002_024E'] = df3['B15002_024E'].apply(changeInteger)\n",
    "df3['B15002_025E'] = df3['B15002_025E'].apply(changeInteger)\n",
    "df3['B15002_026E'] = df3['B15002_026E'].apply(changeInteger)\n",
    "df3['B15002_027E'] = df3['B15002_027E'].apply(changeInteger)\n",
    "df3['B15002_001E'] = df3['B15002_001E'].apply(changeInteger)"
   ]
  },
  {
   "cell_type": "code",
   "execution_count": 23,
   "id": "f70ce502-8e2b-4228-a121-5a617bfc4b49",
   "metadata": {},
   "outputs": [],
   "source": [
    "df3['percent_no_highschool_diploma'] = ((df3['B15002_003E']+df3['B15002_004E']+df3['B15002_005E']+df3['B15002_006E']+df3['B15002_007E']+df3['B15002_008E']+df3['B15002_009E']\n",
    "                                       +df3['B15002_010E']+df3['B15002_020E']+df3['B15002_021E']+df3['B15002_022E']+df3['B15002_023E']+df3['B15002_024E']+df3['B15002_025E']+df3['B15002_003E']\n",
    "                                       +df3['B15002_026E']+df3['B15002_027E'])/df3['B15002_001E'])*100"
   ]
  },
  {
   "cell_type": "code",
   "execution_count": 24,
   "id": "54da8218-8404-48da-9676-20d89484b1de",
   "metadata": {},
   "outputs": [
    {
     "data": {
      "text/html": [
       "<div>\n",
       "<style scoped>\n",
       "    .dataframe tbody tr th:only-of-type {\n",
       "        vertical-align: middle;\n",
       "    }\n",
       "\n",
       "    .dataframe tbody tr th {\n",
       "        vertical-align: top;\n",
       "    }\n",
       "\n",
       "    .dataframe thead th {\n",
       "        text-align: right;\n",
       "    }\n",
       "</style>\n",
       "<table border=\"1\" class=\"dataframe\">\n",
       "  <thead>\n",
       "    <tr style=\"text-align: right;\">\n",
       "      <th></th>\n",
       "      <th>county_name</th>\n",
       "      <th>B15002_003E</th>\n",
       "      <th>B15002_004E</th>\n",
       "      <th>B15002_005E</th>\n",
       "      <th>B15002_006E</th>\n",
       "      <th>B15002_007E</th>\n",
       "      <th>B15002_008E</th>\n",
       "      <th>B15002_009E</th>\n",
       "      <th>B15002_010E</th>\n",
       "      <th>B15002_020E</th>\n",
       "      <th>...</th>\n",
       "      <th>B15002_023E</th>\n",
       "      <th>B15002_024E</th>\n",
       "      <th>B15002_025E</th>\n",
       "      <th>B15002_026E</th>\n",
       "      <th>B15002_027E</th>\n",
       "      <th>B15002_001E</th>\n",
       "      <th>state code</th>\n",
       "      <th>county code</th>\n",
       "      <th>percent_no_highschool_diploma</th>\n",
       "      <th>fips</th>\n",
       "    </tr>\n",
       "  </thead>\n",
       "  <tbody>\n",
       "    <tr>\n",
       "      <th>0</th>\n",
       "      <td>Talladega County, Alabama</td>\n",
       "      <td>296.0</td>\n",
       "      <td>215.0</td>\n",
       "      <td>397.0</td>\n",
       "      <td>1374.0</td>\n",
       "      <td>785.0</td>\n",
       "      <td>1366.0</td>\n",
       "      <td>1369.0</td>\n",
       "      <td>658.0</td>\n",
       "      <td>117.0</td>\n",
       "      <td>...</td>\n",
       "      <td>1276.0</td>\n",
       "      <td>1439.0</td>\n",
       "      <td>1254.0</td>\n",
       "      <td>1296.0</td>\n",
       "      <td>461.0</td>\n",
       "      <td>55893.0</td>\n",
       "      <td>01</td>\n",
       "      <td>121</td>\n",
       "      <td>23.409014</td>\n",
       "      <td>01121</td>\n",
       "    </tr>\n",
       "    <tr>\n",
       "      <th>1</th>\n",
       "      <td>Tallapoosa County, Alabama</td>\n",
       "      <td>195.0</td>\n",
       "      <td>91.0</td>\n",
       "      <td>317.0</td>\n",
       "      <td>461.0</td>\n",
       "      <td>339.0</td>\n",
       "      <td>493.0</td>\n",
       "      <td>927.0</td>\n",
       "      <td>473.0</td>\n",
       "      <td>203.0</td>\n",
       "      <td>...</td>\n",
       "      <td>605.0</td>\n",
       "      <td>530.0</td>\n",
       "      <td>465.0</td>\n",
       "      <td>640.0</td>\n",
       "      <td>255.0</td>\n",
       "      <td>28973.0</td>\n",
       "      <td>01</td>\n",
       "      <td>123</td>\n",
       "      <td>22.172367</td>\n",
       "      <td>01123</td>\n",
       "    </tr>\n",
       "    <tr>\n",
       "      <th>2</th>\n",
       "      <td>Tuscaloosa County, Alabama</td>\n",
       "      <td>738.0</td>\n",
       "      <td>287.0</td>\n",
       "      <td>401.0</td>\n",
       "      <td>1372.0</td>\n",
       "      <td>1118.0</td>\n",
       "      <td>2149.0</td>\n",
       "      <td>1694.0</td>\n",
       "      <td>846.0</td>\n",
       "      <td>419.0</td>\n",
       "      <td>...</td>\n",
       "      <td>741.0</td>\n",
       "      <td>803.0</td>\n",
       "      <td>1542.0</td>\n",
       "      <td>1919.0</td>\n",
       "      <td>953.0</td>\n",
       "      <td>114653.0</td>\n",
       "      <td>01</td>\n",
       "      <td>125</td>\n",
       "      <td>14.305775</td>\n",
       "      <td>01125</td>\n",
       "    </tr>\n",
       "    <tr>\n",
       "      <th>3</th>\n",
       "      <td>Walker County, Alabama</td>\n",
       "      <td>219.0</td>\n",
       "      <td>200.0</td>\n",
       "      <td>584.0</td>\n",
       "      <td>912.0</td>\n",
       "      <td>1109.0</td>\n",
       "      <td>1574.0</td>\n",
       "      <td>919.0</td>\n",
       "      <td>498.0</td>\n",
       "      <td>253.0</td>\n",
       "      <td>...</td>\n",
       "      <td>869.0</td>\n",
       "      <td>1264.0</td>\n",
       "      <td>1001.0</td>\n",
       "      <td>1104.0</td>\n",
       "      <td>348.0</td>\n",
       "      <td>46592.0</td>\n",
       "      <td>01</td>\n",
       "      <td>127</td>\n",
       "      <td>24.927026</td>\n",
       "      <td>01127</td>\n",
       "    </tr>\n",
       "    <tr>\n",
       "      <th>4</th>\n",
       "      <td>Winston County, Alabama</td>\n",
       "      <td>181.0</td>\n",
       "      <td>207.0</td>\n",
       "      <td>244.0</td>\n",
       "      <td>364.0</td>\n",
       "      <td>270.0</td>\n",
       "      <td>588.0</td>\n",
       "      <td>360.0</td>\n",
       "      <td>240.0</td>\n",
       "      <td>195.0</td>\n",
       "      <td>...</td>\n",
       "      <td>432.0</td>\n",
       "      <td>425.0</td>\n",
       "      <td>502.0</td>\n",
       "      <td>425.0</td>\n",
       "      <td>244.0</td>\n",
       "      <td>17074.0</td>\n",
       "      <td>01</td>\n",
       "      <td>133</td>\n",
       "      <td>29.184725</td>\n",
       "      <td>01133</td>\n",
       "    </tr>\n",
       "  </tbody>\n",
       "</table>\n",
       "<p>5 rows × 22 columns</p>\n",
       "</div>"
      ],
      "text/plain": [
       "                  county_name  B15002_003E  B15002_004E  B15002_005E  \\\n",
       "0   Talladega County, Alabama        296.0        215.0        397.0   \n",
       "1  Tallapoosa County, Alabama        195.0         91.0        317.0   \n",
       "2  Tuscaloosa County, Alabama        738.0        287.0        401.0   \n",
       "3      Walker County, Alabama        219.0        200.0        584.0   \n",
       "4     Winston County, Alabama        181.0        207.0        244.0   \n",
       "\n",
       "   B15002_006E  B15002_007E  B15002_008E  B15002_009E  B15002_010E  \\\n",
       "0       1374.0        785.0       1366.0       1369.0        658.0   \n",
       "1        461.0        339.0        493.0        927.0        473.0   \n",
       "2       1372.0       1118.0       2149.0       1694.0        846.0   \n",
       "3        912.0       1109.0       1574.0        919.0        498.0   \n",
       "4        364.0        270.0        588.0        360.0        240.0   \n",
       "\n",
       "   B15002_020E  ...  B15002_023E  B15002_024E  B15002_025E  B15002_026E  \\\n",
       "0        117.0  ...       1276.0       1439.0       1254.0       1296.0   \n",
       "1        203.0  ...        605.0        530.0        465.0        640.0   \n",
       "2        419.0  ...        741.0        803.0       1542.0       1919.0   \n",
       "3        253.0  ...        869.0       1264.0       1001.0       1104.0   \n",
       "4        195.0  ...        432.0        425.0        502.0        425.0   \n",
       "\n",
       "   B15002_027E  B15002_001E  state code  county code  \\\n",
       "0        461.0      55893.0          01          121   \n",
       "1        255.0      28973.0          01          123   \n",
       "2        953.0     114653.0          01          125   \n",
       "3        348.0      46592.0          01          127   \n",
       "4        244.0      17074.0          01          133   \n",
       "\n",
       "  percent_no_highschool_diploma   fips  \n",
       "0                     23.409014  01121  \n",
       "1                     22.172367  01123  \n",
       "2                     14.305775  01125  \n",
       "3                     24.927026  01127  \n",
       "4                     29.184725  01133  \n",
       "\n",
       "[5 rows x 22 columns]"
      ]
     },
     "execution_count": 24,
     "metadata": {},
     "output_type": "execute_result"
    }
   ],
   "source": [
    "df3['fips'] = df3['state code'] + df3['county code']\n",
    "df3.head()"
   ]
  },
  {
   "cell_type": "markdown",
   "id": "af41671e-ba16-4dbd-b37e-b5f7848aa36f",
   "metadata": {},
   "source": [
    "#### 4.Percent of Population Living in Mobile Homes: (B25033_006E+B25033_007E+B25033_012E+B25033_013E)/B25033_001E"
   ]
  },
  {
   "cell_type": "code",
   "execution_count": 25,
   "id": "c03e75e9-89db-4898-92ba-3d9f9ac528f1",
   "metadata": {},
   "outputs": [
    {
     "name": "stdout",
     "output_type": "stream",
     "text": [
      "['NAME', 'B25033_006E', 'B25033_007E', 'B25033_012E', 'B25033_013E', 'B25033_001E', 'state', 'county']\n"
     ]
    }
   ],
   "source": [
    "variables = 'B25033_006E,B25033_007E,B25033_012E,B25033_013E,B25033_001E'\n",
    "df4 = collectAll_county(year,variables)"
   ]
  },
  {
   "cell_type": "code",
   "execution_count": 26,
   "id": "12709efa-2915-43d6-b6e6-daeddcf01714",
   "metadata": {},
   "outputs": [
    {
     "data": {
      "text/plain": [
       "(1909, 8)"
      ]
     },
     "execution_count": 26,
     "metadata": {},
     "output_type": "execute_result"
    }
   ],
   "source": [
    "df4.shape"
   ]
  },
  {
   "cell_type": "code",
   "execution_count": 27,
   "id": "389f3ccf-4a99-4580-b9f3-11d448fcb052",
   "metadata": {},
   "outputs": [],
   "source": [
    "df4['B25033_006E'] = df4['B25033_006E'].apply(changeInteger)\n",
    "df4['B25033_007E'] = df4['B25033_007E'].apply(changeInteger)\n",
    "df4['B25033_012E'] = df4['B25033_012E'].apply(changeInteger)\n",
    "df4['B25033_013E'] = df4['B25033_013E'].apply(changeInteger)\n",
    "df4['B25033_001E'] = df4['B25033_001E'].apply(changeInteger)"
   ]
  },
  {
   "cell_type": "code",
   "execution_count": 28,
   "id": "e129c423-3162-4e27-bdbc-b519908fe576",
   "metadata": {},
   "outputs": [],
   "source": [
    "df4['percent_mobile_homes'] = ((df4['B25033_006E'] + df4['B25033_007E'] + df4['B25033_012E'] + df4['B25033_013E'])/df4['B25033_001E'])*100"
   ]
  },
  {
   "cell_type": "code",
   "execution_count": 29,
   "id": "7afc1666-b2dd-4559-99ad-a203776381ed",
   "metadata": {},
   "outputs": [
    {
     "data": {
      "text/html": [
       "<div>\n",
       "<style scoped>\n",
       "    .dataframe tbody tr th:only-of-type {\n",
       "        vertical-align: middle;\n",
       "    }\n",
       "\n",
       "    .dataframe tbody tr th {\n",
       "        vertical-align: top;\n",
       "    }\n",
       "\n",
       "    .dataframe thead th {\n",
       "        text-align: right;\n",
       "    }\n",
       "</style>\n",
       "<table border=\"1\" class=\"dataframe\">\n",
       "  <thead>\n",
       "    <tr style=\"text-align: right;\">\n",
       "      <th></th>\n",
       "      <th>county_name</th>\n",
       "      <th>B25033_006E</th>\n",
       "      <th>B25033_007E</th>\n",
       "      <th>B25033_012E</th>\n",
       "      <th>B25033_013E</th>\n",
       "      <th>B25033_001E</th>\n",
       "      <th>state code</th>\n",
       "      <th>county code</th>\n",
       "      <th>percent_mobile_homes</th>\n",
       "      <th>fips</th>\n",
       "    </tr>\n",
       "  </thead>\n",
       "  <tbody>\n",
       "    <tr>\n",
       "      <th>0</th>\n",
       "      <td>Bonner County, Idaho</td>\n",
       "      <td>6017.0</td>\n",
       "      <td>199.0</td>\n",
       "      <td>1929.0</td>\n",
       "      <td>34.0</td>\n",
       "      <td>40462.0</td>\n",
       "      <td>16</td>\n",
       "      <td>017</td>\n",
       "      <td>20.214028</td>\n",
       "      <td>16017</td>\n",
       "    </tr>\n",
       "    <tr>\n",
       "      <th>1</th>\n",
       "      <td>Bonneville County, Idaho</td>\n",
       "      <td>3916.0</td>\n",
       "      <td>0.0</td>\n",
       "      <td>1303.0</td>\n",
       "      <td>0.0</td>\n",
       "      <td>103514.0</td>\n",
       "      <td>16</td>\n",
       "      <td>019</td>\n",
       "      <td>5.041830</td>\n",
       "      <td>16019</td>\n",
       "    </tr>\n",
       "    <tr>\n",
       "      <th>2</th>\n",
       "      <td>Canyon County, Idaho</td>\n",
       "      <td>10496.0</td>\n",
       "      <td>107.0</td>\n",
       "      <td>4797.0</td>\n",
       "      <td>0.0</td>\n",
       "      <td>186664.0</td>\n",
       "      <td>16</td>\n",
       "      <td>027</td>\n",
       "      <td>8.250118</td>\n",
       "      <td>16027</td>\n",
       "    </tr>\n",
       "    <tr>\n",
       "      <th>3</th>\n",
       "      <td>Cassia County, Idaho</td>\n",
       "      <td>2221.0</td>\n",
       "      <td>18.0</td>\n",
       "      <td>1488.0</td>\n",
       "      <td>0.0</td>\n",
       "      <td>22524.0</td>\n",
       "      <td>16</td>\n",
       "      <td>031</td>\n",
       "      <td>16.546795</td>\n",
       "      <td>16031</td>\n",
       "    </tr>\n",
       "    <tr>\n",
       "      <th>4</th>\n",
       "      <td>Elmore County, Idaho</td>\n",
       "      <td>2275.0</td>\n",
       "      <td>35.0</td>\n",
       "      <td>402.0</td>\n",
       "      <td>0.0</td>\n",
       "      <td>25993.0</td>\n",
       "      <td>16</td>\n",
       "      <td>039</td>\n",
       "      <td>10.433578</td>\n",
       "      <td>16039</td>\n",
       "    </tr>\n",
       "  </tbody>\n",
       "</table>\n",
       "</div>"
      ],
      "text/plain": [
       "                county_name  B25033_006E  B25033_007E  B25033_012E  \\\n",
       "0      Bonner County, Idaho       6017.0        199.0       1929.0   \n",
       "1  Bonneville County, Idaho       3916.0          0.0       1303.0   \n",
       "2      Canyon County, Idaho      10496.0        107.0       4797.0   \n",
       "3      Cassia County, Idaho       2221.0         18.0       1488.0   \n",
       "4      Elmore County, Idaho       2275.0         35.0        402.0   \n",
       "\n",
       "   B25033_013E  B25033_001E state code county code  percent_mobile_homes  \\\n",
       "0         34.0      40462.0         16         017             20.214028   \n",
       "1          0.0     103514.0         16         019              5.041830   \n",
       "2          0.0     186664.0         16         027              8.250118   \n",
       "3          0.0      22524.0         16         031             16.546795   \n",
       "4          0.0      25993.0         16         039             10.433578   \n",
       "\n",
       "    fips  \n",
       "0  16017  \n",
       "1  16019  \n",
       "2  16027  \n",
       "3  16031  \n",
       "4  16039  "
      ]
     },
     "execution_count": 29,
     "metadata": {},
     "output_type": "execute_result"
    }
   ],
   "source": [
    "df4['fips'] = df4['state code'] + df4['county code']\n",
    "df4.head()"
   ]
  },
  {
   "cell_type": "markdown",
   "id": "cdeaf879-eae7-4624-88f6-1b784b1e41c2",
   "metadata": {},
   "source": [
    "#### 5.Percent of Population with No Vehicle Available: (B25044_003E+B25044_010E)/B25044_001E"
   ]
  },
  {
   "cell_type": "code",
   "execution_count": 30,
   "id": "fc92edb5-03e2-4528-baf7-a3eeaae03484",
   "metadata": {},
   "outputs": [
    {
     "name": "stdout",
     "output_type": "stream",
     "text": [
      "['NAME', 'B25044_003E', 'B25044_010E', 'B25044_001E', 'state', 'county']\n"
     ]
    }
   ],
   "source": [
    "variables = 'B25044_003E,B25044_010E,B25044_001E'\n",
    "df5 = collectAll_county(year,variables)"
   ]
  },
  {
   "cell_type": "code",
   "execution_count": 31,
   "id": "ffe766d8-b979-441c-88cd-5e76f428bebf",
   "metadata": {},
   "outputs": [
    {
     "data": {
      "text/plain": [
       "(1909, 6)"
      ]
     },
     "execution_count": 31,
     "metadata": {},
     "output_type": "execute_result"
    }
   ],
   "source": [
    "df5.shape"
   ]
  },
  {
   "cell_type": "code",
   "execution_count": 32,
   "id": "7fee86e0-d3a9-4465-b16e-5396daeac844",
   "metadata": {},
   "outputs": [],
   "source": [
    "df5['B25044_003E'] = df5['B25044_003E'].apply(changeInteger)\n",
    "df5['B25044_010E'] = df5['B25044_010E'].apply(changeInteger)\n",
    "df5['B25044_001E'] = df5['B25044_001E'].apply(changeInteger)"
   ]
  },
  {
   "cell_type": "code",
   "execution_count": 33,
   "id": "6e2646ff-10d6-4960-8da9-6c8b4d0f8268",
   "metadata": {},
   "outputs": [],
   "source": [
    "df5['percent_no_vehicle'] = ((df5['B25044_003E'] + df5['B25044_010E'])/df5['B25044_001E'])*100"
   ]
  },
  {
   "cell_type": "code",
   "execution_count": 34,
   "id": "9d38e22b-b76e-4345-91c7-40b408bb3d17",
   "metadata": {},
   "outputs": [
    {
     "data": {
      "text/html": [
       "<div>\n",
       "<style scoped>\n",
       "    .dataframe tbody tr th:only-of-type {\n",
       "        vertical-align: middle;\n",
       "    }\n",
       "\n",
       "    .dataframe tbody tr th {\n",
       "        vertical-align: top;\n",
       "    }\n",
       "\n",
       "    .dataframe thead th {\n",
       "        text-align: right;\n",
       "    }\n",
       "</style>\n",
       "<table border=\"1\" class=\"dataframe\">\n",
       "  <thead>\n",
       "    <tr style=\"text-align: right;\">\n",
       "      <th></th>\n",
       "      <th>county_name</th>\n",
       "      <th>B25044_003E</th>\n",
       "      <th>B25044_010E</th>\n",
       "      <th>B25044_001E</th>\n",
       "      <th>state code</th>\n",
       "      <th>county code</th>\n",
       "      <th>percent_no_vehicle</th>\n",
       "      <th>fips</th>\n",
       "    </tr>\n",
       "  </thead>\n",
       "  <tbody>\n",
       "    <tr>\n",
       "      <th>0</th>\n",
       "      <td>Lake County, Florida</td>\n",
       "      <td>2341</td>\n",
       "      <td>2967</td>\n",
       "      <td>116576</td>\n",
       "      <td>12</td>\n",
       "      <td>069</td>\n",
       "      <td>4.553253</td>\n",
       "      <td>12069</td>\n",
       "    </tr>\n",
       "    <tr>\n",
       "      <th>1</th>\n",
       "      <td>Lee County, Florida</td>\n",
       "      <td>4091</td>\n",
       "      <td>7361</td>\n",
       "      <td>237009</td>\n",
       "      <td>12</td>\n",
       "      <td>071</td>\n",
       "      <td>4.831884</td>\n",
       "      <td>12071</td>\n",
       "    </tr>\n",
       "    <tr>\n",
       "      <th>2</th>\n",
       "      <td>Leon County, Florida</td>\n",
       "      <td>1459</td>\n",
       "      <td>6076</td>\n",
       "      <td>109822</td>\n",
       "      <td>12</td>\n",
       "      <td>073</td>\n",
       "      <td>6.861103</td>\n",
       "      <td>12073</td>\n",
       "    </tr>\n",
       "    <tr>\n",
       "      <th>3</th>\n",
       "      <td>Levy County, Florida</td>\n",
       "      <td>463</td>\n",
       "      <td>716</td>\n",
       "      <td>16466</td>\n",
       "      <td>12</td>\n",
       "      <td>075</td>\n",
       "      <td>7.160209</td>\n",
       "      <td>12075</td>\n",
       "    </tr>\n",
       "    <tr>\n",
       "      <th>4</th>\n",
       "      <td>Manatee County, Florida</td>\n",
       "      <td>2495</td>\n",
       "      <td>3935</td>\n",
       "      <td>130834</td>\n",
       "      <td>12</td>\n",
       "      <td>081</td>\n",
       "      <td>4.914625</td>\n",
       "      <td>12081</td>\n",
       "    </tr>\n",
       "  </tbody>\n",
       "</table>\n",
       "</div>"
      ],
      "text/plain": [
       "               county_name  B25044_003E  B25044_010E  B25044_001E state code  \\\n",
       "0     Lake County, Florida         2341         2967       116576         12   \n",
       "1      Lee County, Florida         4091         7361       237009         12   \n",
       "2     Leon County, Florida         1459         6076       109822         12   \n",
       "3     Levy County, Florida          463          716        16466         12   \n",
       "4  Manatee County, Florida         2495         3935       130834         12   \n",
       "\n",
       "  county code  percent_no_vehicle   fips  \n",
       "0         069            4.553253  12069  \n",
       "1         071            4.831884  12071  \n",
       "2         073            6.861103  12073  \n",
       "3         075            7.160209  12075  \n",
       "4         081            4.914625  12081  "
      ]
     },
     "execution_count": 34,
     "metadata": {},
     "output_type": "execute_result"
    }
   ],
   "source": [
    "df5['fips'] = df5['state code'] + df5['county code']\n",
    "df5.head()"
   ]
  },
  {
   "cell_type": "markdown",
   "id": "2decc903-1e73-4a35-90ae-c0105c6d44ba",
   "metadata": {},
   "source": [
    "#### 6.Percent of Population Unemployed:sum(B21005_006E, B21005_007E, B21005_011E,B21005_012E,B21005_017E,B21005_022E,B21005_028E,B21005_029E,B21005_033E,B21005_034E)/B21005_001E"
   ]
  },
  {
   "cell_type": "code",
   "execution_count": 35,
   "id": "1fa00e51-9547-406a-8a0b-f9e3fe00dba2",
   "metadata": {},
   "outputs": [
    {
     "name": "stdout",
     "output_type": "stream",
     "text": [
      "['NAME', 'B21005_006E', 'B21005_007E', 'B21005_011E', 'B21005_012E', 'B21005_017E', 'B21005_022E', 'B21005_028E', 'B21005_029E', 'B21005_033E', 'B21005_034E', 'B21005_001E', 'state', 'county']\n"
     ]
    }
   ],
   "source": [
    "variables = 'B21005_006E,B21005_007E,B21005_011E,B21005_012E,B21005_017E,B21005_022E,B21005_028E,B21005_029E,B21005_033E,B21005_034E,B21005_001E'\n",
    "df6 = collectAll_county2(year,variables)"
   ]
  },
  {
   "cell_type": "code",
   "execution_count": 36,
   "id": "6be9f1b2-0ffe-44ff-8f4e-ec9c8190f1fa",
   "metadata": {},
   "outputs": [
    {
     "data": {
      "text/plain": [
       "(822, 14)"
      ]
     },
     "execution_count": 36,
     "metadata": {},
     "output_type": "execute_result"
    }
   ],
   "source": [
    "df6.shape"
   ]
  },
  {
   "cell_type": "code",
   "execution_count": 37,
   "id": "8a6b8b0a-3756-48f9-938f-e4eda374eaa8",
   "metadata": {},
   "outputs": [],
   "source": [
    "df6['B21005_006E'] = df6['B21005_006E'].apply(changeInteger)\n",
    "df6['B21005_007E'] = df6['B21005_007E'].apply(changeInteger)\n",
    "df6['B21005_011E'] = df6['B21005_011E'].apply(changeInteger)\n",
    "df6['B21005_012E'] = df6['B21005_012E'].apply(changeInteger)\n",
    "df6['B21005_017E'] = df6['B21005_017E'].apply(changeInteger)\n",
    "df6['B21005_022E'] = df6['B21005_022E'].apply(changeInteger)\n",
    "df6['B21005_028E'] = df6['B21005_028E'].apply(changeInteger)\n",
    "df6['B21005_029E'] = df6['B21005_029E'].apply(changeInteger)\n",
    "df6['B21005_033E'] = df6['B21005_033E'].apply(changeInteger)\n",
    "df6['B21005_034E'] = df6['B21005_034E'].apply(changeInteger)\n",
    "df6['B21005_001E'] = df6['B21005_001E'].apply(changeInteger)"
   ]
  },
  {
   "cell_type": "code",
   "execution_count": 38,
   "id": "52819727-7ad5-4d5f-8c15-8c629af18aea",
   "metadata": {},
   "outputs": [],
   "source": [
    "df6['percent_unemployed_CDC'] = ((df6['B21005_006E']+df6['B21005_007E']+df6['B21005_011E']+df6['B21005_012E']+df6['B21005_017E']+df6['B21005_022E']+df6['B21005_028E']+df6['B21005_029E']+df6['B21005_033E']+df6['B21005_034E'])/df6['B21005_001E'])*100"
   ]
  },
  {
   "cell_type": "code",
   "execution_count": 39,
   "id": "454d2d22-5100-46b6-a390-7f4e17d2d386",
   "metadata": {},
   "outputs": [
    {
     "data": {
      "text/html": [
       "<div>\n",
       "<style scoped>\n",
       "    .dataframe tbody tr th:only-of-type {\n",
       "        vertical-align: middle;\n",
       "    }\n",
       "\n",
       "    .dataframe tbody tr th {\n",
       "        vertical-align: top;\n",
       "    }\n",
       "\n",
       "    .dataframe thead th {\n",
       "        text-align: right;\n",
       "    }\n",
       "</style>\n",
       "<table border=\"1\" class=\"dataframe\">\n",
       "  <thead>\n",
       "    <tr style=\"text-align: right;\">\n",
       "      <th></th>\n",
       "      <th>county_name</th>\n",
       "      <th>B21005_006E</th>\n",
       "      <th>B21005_007E</th>\n",
       "      <th>B21005_011E</th>\n",
       "      <th>B21005_012E</th>\n",
       "      <th>B21005_017E</th>\n",
       "      <th>B21005_022E</th>\n",
       "      <th>B21005_028E</th>\n",
       "      <th>B21005_029E</th>\n",
       "      <th>B21005_033E</th>\n",
       "      <th>B21005_034E</th>\n",
       "      <th>B21005_001E</th>\n",
       "      <th>state code</th>\n",
       "      <th>county code</th>\n",
       "      <th>percent_unemployed_CDC</th>\n",
       "      <th>fips</th>\n",
       "    </tr>\n",
       "  </thead>\n",
       "  <tbody>\n",
       "    <tr>\n",
       "      <th>0</th>\n",
       "      <td>Sumter County, Florida</td>\n",
       "      <td>0</td>\n",
       "      <td>112</td>\n",
       "      <td>518</td>\n",
       "      <td>4932</td>\n",
       "      <td>0</td>\n",
       "      <td>658</td>\n",
       "      <td>507</td>\n",
       "      <td>2599</td>\n",
       "      <td>204</td>\n",
       "      <td>10312</td>\n",
       "      <td>44694</td>\n",
       "      <td>12</td>\n",
       "      <td>119</td>\n",
       "      <td>44.395221</td>\n",
       "      <td>12119</td>\n",
       "    </tr>\n",
       "    <tr>\n",
       "      <th>1</th>\n",
       "      <td>Volusia County, Florida</td>\n",
       "      <td>268</td>\n",
       "      <td>1107</td>\n",
       "      <td>10662</td>\n",
       "      <td>33198</td>\n",
       "      <td>589</td>\n",
       "      <td>8206</td>\n",
       "      <td>1148</td>\n",
       "      <td>7464</td>\n",
       "      <td>3578</td>\n",
       "      <td>22796</td>\n",
       "      <td>296352</td>\n",
       "      <td>12</td>\n",
       "      <td>127</td>\n",
       "      <td>30.037253</td>\n",
       "      <td>12127</td>\n",
       "    </tr>\n",
       "    <tr>\n",
       "      <th>2</th>\n",
       "      <td>Barrow County, Georgia</td>\n",
       "      <td>0</td>\n",
       "      <td>0</td>\n",
       "      <td>3792</td>\n",
       "      <td>2272</td>\n",
       "      <td>23</td>\n",
       "      <td>1486</td>\n",
       "      <td>22</td>\n",
       "      <td>226</td>\n",
       "      <td>27</td>\n",
       "      <td>2485</td>\n",
       "      <td>43514</td>\n",
       "      <td>13</td>\n",
       "      <td>013</td>\n",
       "      <td>23.746380</td>\n",
       "      <td>13013</td>\n",
       "    </tr>\n",
       "    <tr>\n",
       "      <th>3</th>\n",
       "      <td>Bartow County, Georgia</td>\n",
       "      <td>0</td>\n",
       "      <td>76</td>\n",
       "      <td>2491</td>\n",
       "      <td>5729</td>\n",
       "      <td>308</td>\n",
       "      <td>2515</td>\n",
       "      <td>241</td>\n",
       "      <td>796</td>\n",
       "      <td>714</td>\n",
       "      <td>4136</td>\n",
       "      <td>62986</td>\n",
       "      <td>13</td>\n",
       "      <td>015</td>\n",
       "      <td>26.999651</td>\n",
       "      <td>13015</td>\n",
       "    </tr>\n",
       "    <tr>\n",
       "      <th>4</th>\n",
       "      <td>Bibb County, Georgia</td>\n",
       "      <td>222</td>\n",
       "      <td>166</td>\n",
       "      <td>5050</td>\n",
       "      <td>11004</td>\n",
       "      <td>471</td>\n",
       "      <td>2564</td>\n",
       "      <td>0</td>\n",
       "      <td>1560</td>\n",
       "      <td>480</td>\n",
       "      <td>7655</td>\n",
       "      <td>95941</td>\n",
       "      <td>13</td>\n",
       "      <td>021</td>\n",
       "      <td>30.406187</td>\n",
       "      <td>13021</td>\n",
       "    </tr>\n",
       "  </tbody>\n",
       "</table>\n",
       "</div>"
      ],
      "text/plain": [
       "               county_name  B21005_006E  B21005_007E  B21005_011E  \\\n",
       "0   Sumter County, Florida            0          112          518   \n",
       "1  Volusia County, Florida          268         1107        10662   \n",
       "2   Barrow County, Georgia            0            0         3792   \n",
       "3   Bartow County, Georgia            0           76         2491   \n",
       "4     Bibb County, Georgia          222          166         5050   \n",
       "\n",
       "   B21005_012E  B21005_017E  B21005_022E  B21005_028E  B21005_029E  \\\n",
       "0         4932            0          658          507         2599   \n",
       "1        33198          589         8206         1148         7464   \n",
       "2         2272           23         1486           22          226   \n",
       "3         5729          308         2515          241          796   \n",
       "4        11004          471         2564            0         1560   \n",
       "\n",
       "   B21005_033E  B21005_034E  B21005_001E state code county code  \\\n",
       "0          204        10312        44694         12         119   \n",
       "1         3578        22796       296352         12         127   \n",
       "2           27         2485        43514         13         013   \n",
       "3          714         4136        62986         13         015   \n",
       "4          480         7655        95941         13         021   \n",
       "\n",
       "   percent_unemployed_CDC   fips  \n",
       "0               44.395221  12119  \n",
       "1               30.037253  12127  \n",
       "2               23.746380  13013  \n",
       "3               26.999651  13015  \n",
       "4               30.406187  13021  "
      ]
     },
     "execution_count": 39,
     "metadata": {},
     "output_type": "execute_result"
    }
   ],
   "source": [
    "df6['fips'] = df6['state code'] + df6['county code']\n",
    "df6.head()"
   ]
  },
  {
   "cell_type": "markdown",
   "id": "c9948355-bd31-4ab4-b7ee-c96586f8d3b1",
   "metadata": {},
   "source": [
    "#### 7.Percent of Population Living In Accommodations with Less Than 1 Room Per Person/Crowding: (B25014_005E+B25014_006E+B25014_007E+B25014_011E+B25014_012E+B25014_013E)/B25014_001E"
   ]
  },
  {
   "cell_type": "code",
   "execution_count": 40,
   "id": "cfca2197-92ec-4373-b8a3-39914cde1365",
   "metadata": {},
   "outputs": [
    {
     "name": "stdout",
     "output_type": "stream",
     "text": [
      "['NAME', 'B25014_005E', 'B25014_006E', 'B25014_007E', 'B25014_011E', 'B25014_012E', 'B25014_013E', 'B25014_001E', 'state', 'county']\n"
     ]
    }
   ],
   "source": [
    "variables = 'B25014_005E,B25014_006E,B25014_007E,B25014_011E,B25014_012E,B25014_013E,B25014_001E'\n",
    "df7 = collectAll_county(year,variables)"
   ]
  },
  {
   "cell_type": "code",
   "execution_count": 41,
   "id": "89125aba-8565-4a24-a3ac-bb5be0e22c56",
   "metadata": {},
   "outputs": [
    {
     "data": {
      "text/plain": [
       "(1909, 10)"
      ]
     },
     "execution_count": 41,
     "metadata": {},
     "output_type": "execute_result"
    }
   ],
   "source": [
    "df7.shape"
   ]
  },
  {
   "cell_type": "code",
   "execution_count": 42,
   "id": "b3a8bf30-04b1-44e3-9a3e-aeaf19720ff0",
   "metadata": {},
   "outputs": [],
   "source": [
    "df7['B25014_005E'] = df7['B25014_005E'].apply(changeInteger)\n",
    "df7['B25014_006E'] = df7['B25014_006E'].apply(changeInteger)\n",
    "df7['B25014_007E'] = df7['B25014_007E'].apply(changeInteger)\n",
    "df7['B25014_011E'] = df7['B25014_011E'].apply(changeInteger)\n",
    "df7['B25014_012E'] = df7['B25014_012E'].apply(changeInteger)\n",
    "df7['B25014_013E'] = df7['B25014_013E'].apply(changeInteger)\n",
    "df7['B25014_001E'] = df7['B25014_001E'].apply(changeInteger)"
   ]
  },
  {
   "cell_type": "code",
   "execution_count": 43,
   "id": "9f70d284-1e36-410e-9abe-2285db087ffb",
   "metadata": {},
   "outputs": [],
   "source": [
    "df7['percent_overcrowding'] = ((df7['B25014_005E']+df7['B25014_006E']+df7['B25014_007E']+df7['B25014_011E']+df7['B25014_012E']+df7['B25014_013E'])/df7['B25014_001E'])*100"
   ]
  },
  {
   "cell_type": "code",
   "execution_count": 44,
   "id": "072747b0-747e-41f3-8b2f-4a39a3e76d97",
   "metadata": {},
   "outputs": [
    {
     "data": {
      "text/html": [
       "<div>\n",
       "<style scoped>\n",
       "    .dataframe tbody tr th:only-of-type {\n",
       "        vertical-align: middle;\n",
       "    }\n",
       "\n",
       "    .dataframe tbody tr th {\n",
       "        vertical-align: top;\n",
       "    }\n",
       "\n",
       "    .dataframe thead th {\n",
       "        text-align: right;\n",
       "    }\n",
       "</style>\n",
       "<table border=\"1\" class=\"dataframe\">\n",
       "  <thead>\n",
       "    <tr style=\"text-align: right;\">\n",
       "      <th></th>\n",
       "      <th>county_name</th>\n",
       "      <th>B25014_005E</th>\n",
       "      <th>B25014_006E</th>\n",
       "      <th>B25014_007E</th>\n",
       "      <th>B25014_011E</th>\n",
       "      <th>B25014_012E</th>\n",
       "      <th>B25014_013E</th>\n",
       "      <th>B25014_001E</th>\n",
       "      <th>state code</th>\n",
       "      <th>county code</th>\n",
       "      <th>percent_overcrowding</th>\n",
       "      <th>fips</th>\n",
       "    </tr>\n",
       "  </thead>\n",
       "  <tbody>\n",
       "    <tr>\n",
       "      <th>0</th>\n",
       "      <td>Madison County, Indiana</td>\n",
       "      <td>259.0</td>\n",
       "      <td>9.0</td>\n",
       "      <td>0.0</td>\n",
       "      <td>362.0</td>\n",
       "      <td>60.0</td>\n",
       "      <td>32.0</td>\n",
       "      <td>50290.0</td>\n",
       "      <td>18</td>\n",
       "      <td>095</td>\n",
       "      <td>1.435673</td>\n",
       "      <td>18095</td>\n",
       "    </tr>\n",
       "    <tr>\n",
       "      <th>1</th>\n",
       "      <td>Marion County, Indiana</td>\n",
       "      <td>1942.0</td>\n",
       "      <td>184.0</td>\n",
       "      <td>59.0</td>\n",
       "      <td>3888.0</td>\n",
       "      <td>1029.0</td>\n",
       "      <td>521.0</td>\n",
       "      <td>356059.0</td>\n",
       "      <td>18</td>\n",
       "      <td>097</td>\n",
       "      <td>2.140937</td>\n",
       "      <td>18097</td>\n",
       "    </tr>\n",
       "    <tr>\n",
       "      <th>2</th>\n",
       "      <td>Marshall County, Indiana</td>\n",
       "      <td>215.0</td>\n",
       "      <td>0.0</td>\n",
       "      <td>0.0</td>\n",
       "      <td>69.0</td>\n",
       "      <td>29.0</td>\n",
       "      <td>13.0</td>\n",
       "      <td>17662.0</td>\n",
       "      <td>18</td>\n",
       "      <td>099</td>\n",
       "      <td>1.845771</td>\n",
       "      <td>18099</td>\n",
       "    </tr>\n",
       "    <tr>\n",
       "      <th>3</th>\n",
       "      <td>Miami County, Indiana</td>\n",
       "      <td>73.0</td>\n",
       "      <td>0.0</td>\n",
       "      <td>0.0</td>\n",
       "      <td>146.0</td>\n",
       "      <td>0.0</td>\n",
       "      <td>0.0</td>\n",
       "      <td>13313.0</td>\n",
       "      <td>18</td>\n",
       "      <td>103</td>\n",
       "      <td>1.645009</td>\n",
       "      <td>18103</td>\n",
       "    </tr>\n",
       "    <tr>\n",
       "      <th>4</th>\n",
       "      <td>Monroe County, Indiana</td>\n",
       "      <td>158.0</td>\n",
       "      <td>37.0</td>\n",
       "      <td>0.0</td>\n",
       "      <td>271.0</td>\n",
       "      <td>57.0</td>\n",
       "      <td>158.0</td>\n",
       "      <td>53659.0</td>\n",
       "      <td>18</td>\n",
       "      <td>105</td>\n",
       "      <td>1.269125</td>\n",
       "      <td>18105</td>\n",
       "    </tr>\n",
       "  </tbody>\n",
       "</table>\n",
       "</div>"
      ],
      "text/plain": [
       "                county_name  B25014_005E  B25014_006E  B25014_007E  \\\n",
       "0   Madison County, Indiana        259.0          9.0          0.0   \n",
       "1    Marion County, Indiana       1942.0        184.0         59.0   \n",
       "2  Marshall County, Indiana        215.0          0.0          0.0   \n",
       "3     Miami County, Indiana         73.0          0.0          0.0   \n",
       "4    Monroe County, Indiana        158.0         37.0          0.0   \n",
       "\n",
       "   B25014_011E  B25014_012E  B25014_013E  B25014_001E state code county code  \\\n",
       "0        362.0         60.0         32.0      50290.0         18         095   \n",
       "1       3888.0       1029.0        521.0     356059.0         18         097   \n",
       "2         69.0         29.0         13.0      17662.0         18         099   \n",
       "3        146.0          0.0          0.0      13313.0         18         103   \n",
       "4        271.0         57.0        158.0      53659.0         18         105   \n",
       "\n",
       "   percent_overcrowding   fips  \n",
       "0              1.435673  18095  \n",
       "1              2.140937  18097  \n",
       "2              1.845771  18099  \n",
       "3              1.645009  18103  \n",
       "4              1.269125  18105  "
      ]
     },
     "execution_count": 44,
     "metadata": {},
     "output_type": "execute_result"
    }
   ],
   "source": [
    "df7['fips'] = df7['state code'] + df7['county code']\n",
    "df7.head()"
   ]
  },
  {
   "cell_type": "markdown",
   "id": "3aac238c-3f49-4579-86e9-27be71f44e3a",
   "metadata": {},
   "source": [
    "#### 8.Percent of Housing Units with 10+ Units in Structure: (B25024_007E+B25024_008E+B25024_009E)/B25024_001E"
   ]
  },
  {
   "cell_type": "code",
   "execution_count": 45,
   "id": "d9c481fc-3286-4ff1-a75e-4a6f1f1106e1",
   "metadata": {},
   "outputs": [
    {
     "name": "stdout",
     "output_type": "stream",
     "text": [
      "['NAME', 'B25024_007E', 'B25024_008E', 'B25024_009E', 'B25024_001E', 'state', 'county']\n"
     ]
    }
   ],
   "source": [
    "variables = 'B25024_007E,B25024_008E,B25024_009E,B25024_001E'\n",
    "df8 = collectAll_county(year,variables)"
   ]
  },
  {
   "cell_type": "code",
   "execution_count": 46,
   "id": "d7134adf-29cd-4150-80d1-6def45982559",
   "metadata": {},
   "outputs": [
    {
     "data": {
      "text/plain": [
       "(1909, 7)"
      ]
     },
     "execution_count": 46,
     "metadata": {},
     "output_type": "execute_result"
    }
   ],
   "source": [
    "df8.shape"
   ]
  },
  {
   "cell_type": "code",
   "execution_count": 47,
   "id": "468626db-72ee-467d-aa73-85803b8ebaae",
   "metadata": {},
   "outputs": [],
   "source": [
    "df8['B25024_007E'] = df8['B25024_007E'].apply(changeInteger)\n",
    "df8['B25024_008E'] = df8['B25024_008E'].apply(changeInteger)\n",
    "df8['B25024_009E'] = df8['B25024_009E'].apply(changeInteger)\n",
    "df8['B25024_001E'] = df8['B25024_001E'].apply(changeInteger)"
   ]
  },
  {
   "cell_type": "code",
   "execution_count": 48,
   "id": "580441b5-fa08-4898-b73f-565ed16106d8",
   "metadata": {},
   "outputs": [],
   "source": [
    "df8['percent_multi_unit_housing'] = ((df8['B25024_007E']+df8['B25024_008E']+df8['B25024_009E'])/df8['B25024_001E'])*100"
   ]
  },
  {
   "cell_type": "code",
   "execution_count": 49,
   "id": "a7fe92c1-17f6-43a4-a116-f6294d828159",
   "metadata": {},
   "outputs": [
    {
     "data": {
      "text/html": [
       "<div>\n",
       "<style scoped>\n",
       "    .dataframe tbody tr th:only-of-type {\n",
       "        vertical-align: middle;\n",
       "    }\n",
       "\n",
       "    .dataframe tbody tr th {\n",
       "        vertical-align: top;\n",
       "    }\n",
       "\n",
       "    .dataframe thead th {\n",
       "        text-align: right;\n",
       "    }\n",
       "</style>\n",
       "<table border=\"1\" class=\"dataframe\">\n",
       "  <thead>\n",
       "    <tr style=\"text-align: right;\">\n",
       "      <th></th>\n",
       "      <th>county_name</th>\n",
       "      <th>B25024_007E</th>\n",
       "      <th>B25024_008E</th>\n",
       "      <th>B25024_009E</th>\n",
       "      <th>B25024_001E</th>\n",
       "      <th>state code</th>\n",
       "      <th>county code</th>\n",
       "      <th>percent_multi_unit_housing</th>\n",
       "      <th>fips</th>\n",
       "    </tr>\n",
       "  </thead>\n",
       "  <tbody>\n",
       "    <tr>\n",
       "      <th>0</th>\n",
       "      <td>Greenup County, Kentucky</td>\n",
       "      <td>128.0</td>\n",
       "      <td>77.0</td>\n",
       "      <td>151.0</td>\n",
       "      <td>16328.0</td>\n",
       "      <td>21</td>\n",
       "      <td>089</td>\n",
       "      <td>2.180304</td>\n",
       "      <td>21089</td>\n",
       "    </tr>\n",
       "    <tr>\n",
       "      <th>1</th>\n",
       "      <td>Hardin County, Kentucky</td>\n",
       "      <td>669.0</td>\n",
       "      <td>180.0</td>\n",
       "      <td>250.0</td>\n",
       "      <td>43330.0</td>\n",
       "      <td>21</td>\n",
       "      <td>093</td>\n",
       "      <td>2.536349</td>\n",
       "      <td>21093</td>\n",
       "    </tr>\n",
       "    <tr>\n",
       "      <th>2</th>\n",
       "      <td>Harlan County, Kentucky</td>\n",
       "      <td>242.0</td>\n",
       "      <td>94.0</td>\n",
       "      <td>62.0</td>\n",
       "      <td>13469.0</td>\n",
       "      <td>21</td>\n",
       "      <td>095</td>\n",
       "      <td>2.954934</td>\n",
       "      <td>21095</td>\n",
       "    </tr>\n",
       "    <tr>\n",
       "      <th>3</th>\n",
       "      <td>Henderson County, Kentucky</td>\n",
       "      <td>446.0</td>\n",
       "      <td>94.0</td>\n",
       "      <td>234.0</td>\n",
       "      <td>20326.0</td>\n",
       "      <td>21</td>\n",
       "      <td>101</td>\n",
       "      <td>3.807931</td>\n",
       "      <td>21101</td>\n",
       "    </tr>\n",
       "    <tr>\n",
       "      <th>4</th>\n",
       "      <td>Hopkins County, Kentucky</td>\n",
       "      <td>258.0</td>\n",
       "      <td>162.0</td>\n",
       "      <td>0.0</td>\n",
       "      <td>21165.0</td>\n",
       "      <td>21</td>\n",
       "      <td>107</td>\n",
       "      <td>1.984408</td>\n",
       "      <td>21107</td>\n",
       "    </tr>\n",
       "  </tbody>\n",
       "</table>\n",
       "</div>"
      ],
      "text/plain": [
       "                  county_name  B25024_007E  B25024_008E  B25024_009E  \\\n",
       "0    Greenup County, Kentucky        128.0         77.0        151.0   \n",
       "1     Hardin County, Kentucky        669.0        180.0        250.0   \n",
       "2     Harlan County, Kentucky        242.0         94.0         62.0   \n",
       "3  Henderson County, Kentucky        446.0         94.0        234.0   \n",
       "4    Hopkins County, Kentucky        258.0        162.0          0.0   \n",
       "\n",
       "   B25024_001E state code county code  percent_multi_unit_housing   fips  \n",
       "0      16328.0         21         089                    2.180304  21089  \n",
       "1      43330.0         21         093                    2.536349  21093  \n",
       "2      13469.0         21         095                    2.954934  21095  \n",
       "3      20326.0         21         101                    3.807931  21101  \n",
       "4      21165.0         21         107                    1.984408  21107  "
      ]
     },
     "execution_count": 49,
     "metadata": {},
     "output_type": "execute_result"
    }
   ],
   "source": [
    "df8['fips'] = df8['state code'] + df8['county code']\n",
    "df8.head()"
   ]
  },
  {
   "cell_type": "markdown",
   "id": "045aa5cc-659a-49fc-8928-86e41fa267c0",
   "metadata": {},
   "source": [
    "#### 9.Percent Of Population 65+: (B01001_020E,B01001_021E,B01001_022E,B01001_023E,B01001_024E,B01001_025E,B01001_044E,B01001_045E,B01001_046E,B01001_047E,B01001_049E)/B01001_001E"
   ]
  },
  {
   "cell_type": "code",
   "execution_count": 50,
   "id": "482dcdb3-80fd-4bbc-940b-2179aa106937",
   "metadata": {},
   "outputs": [
    {
     "name": "stdout",
     "output_type": "stream",
     "text": [
      "['NAME', 'B01001_020E', 'B01001_021E', 'B01001_022E', 'B01001_023E', 'B01001_024E', 'B01001_025E', 'B01001_044E', 'B01001_045E', 'B01001_046E', 'B01001_047E', 'B01001_048E', 'B01001_049E', 'B01001_001E', 'state', 'county']\n"
     ]
    }
   ],
   "source": [
    "variables = 'B01001_020E,B01001_021E,B01001_022E,B01001_023E,B01001_024E,B01001_025E,B01001_044E,B01001_045E,B01001_046E,B01001_047E,B01001_048E,B01001_049E,B01001_001E'\n",
    "df9 = collectAll_county(year,variables)"
   ]
  },
  {
   "cell_type": "code",
   "execution_count": 51,
   "id": "77b05482-58e0-4579-9068-4226dd49aa19",
   "metadata": {},
   "outputs": [
    {
     "data": {
      "text/plain": [
       "(1909, 16)"
      ]
     },
     "execution_count": 51,
     "metadata": {},
     "output_type": "execute_result"
    }
   ],
   "source": [
    "df9.shape"
   ]
  },
  {
   "cell_type": "code",
   "execution_count": 52,
   "id": "117d94de-9b6a-4912-b6f3-c5167ebbe6f0",
   "metadata": {},
   "outputs": [],
   "source": [
    "df9['B01001_020E'] = df9['B01001_020E'].apply(changeInteger)\n",
    "df9['B01001_021E'] = df9['B01001_021E'].apply(changeInteger)\n",
    "df9['B01001_022E'] = df9['B01001_022E'].apply(changeInteger)\n",
    "df9['B01001_023E'] = df9['B01001_023E'].apply(changeInteger)\n",
    "df9['B01001_024E'] = df9['B01001_024E'].apply(changeInteger)\n",
    "df9['B01001_025E'] = df9['B01001_025E'].apply(changeInteger)\n",
    "df9['B01001_044E'] = df9['B01001_044E'].apply(changeInteger)\n",
    "df9['B01001_045E'] = df9['B01001_045E'].apply(changeInteger)\n",
    "df9['B01001_046E'] = df9['B01001_046E'].apply(changeInteger)\n",
    "df9['B01001_047E'] = df9['B01001_047E'].apply(changeInteger)\n",
    "df9['B01001_048E'] = df9['B01001_048E'].apply(changeInteger)\n",
    "df9['B01001_049E'] = df9['B01001_049E'].apply(changeInteger)\n",
    "df9['B01001_001E'] = df9['B01001_001E'].apply(changeInteger)"
   ]
  },
  {
   "cell_type": "code",
   "execution_count": 53,
   "id": "cd9b0d69-3ed6-4340-9d81-c00cef379245",
   "metadata": {},
   "outputs": [],
   "source": [
    "df9['percent_age_65_and_older'] = ((df9['B01001_020E']+df9['B01001_021E']+df9['B01001_022E']+df9['B01001_023E']+df9['B01001_024E']+df9['B01001_025E']+df9['B01001_044E']\n",
    "                                  +df9['B01001_045E']+df9['B01001_046E']+df9['B01001_047E']+df9['B01001_048E']+df9['B01001_049E'])/df9['B01001_001E'])*100"
   ]
  },
  {
   "cell_type": "code",
   "execution_count": 54,
   "id": "9f8e8e5a-8892-4e65-9db9-a34f06a90cdb",
   "metadata": {},
   "outputs": [
    {
     "data": {
      "text/html": [
       "<div>\n",
       "<style scoped>\n",
       "    .dataframe tbody tr th:only-of-type {\n",
       "        vertical-align: middle;\n",
       "    }\n",
       "\n",
       "    .dataframe tbody tr th {\n",
       "        vertical-align: top;\n",
       "    }\n",
       "\n",
       "    .dataframe thead th {\n",
       "        text-align: right;\n",
       "    }\n",
       "</style>\n",
       "<table border=\"1\" class=\"dataframe\">\n",
       "  <thead>\n",
       "    <tr style=\"text-align: right;\">\n",
       "      <th></th>\n",
       "      <th>county_name</th>\n",
       "      <th>B01001_020E</th>\n",
       "      <th>B01001_021E</th>\n",
       "      <th>B01001_022E</th>\n",
       "      <th>B01001_023E</th>\n",
       "      <th>B01001_024E</th>\n",
       "      <th>B01001_025E</th>\n",
       "      <th>B01001_044E</th>\n",
       "      <th>B01001_045E</th>\n",
       "      <th>B01001_046E</th>\n",
       "      <th>B01001_047E</th>\n",
       "      <th>B01001_048E</th>\n",
       "      <th>B01001_049E</th>\n",
       "      <th>B01001_001E</th>\n",
       "      <th>state code</th>\n",
       "      <th>county code</th>\n",
       "      <th>percent_age_65_and_older</th>\n",
       "      <th>fips</th>\n",
       "    </tr>\n",
       "  </thead>\n",
       "  <tbody>\n",
       "    <tr>\n",
       "      <th>0</th>\n",
       "      <td>LaSalle County, Illinois</td>\n",
       "      <td>1093</td>\n",
       "      <td>1385</td>\n",
       "      <td>1890</td>\n",
       "      <td>1687</td>\n",
       "      <td>1089</td>\n",
       "      <td>888</td>\n",
       "      <td>1074</td>\n",
       "      <td>1474</td>\n",
       "      <td>2395</td>\n",
       "      <td>1787</td>\n",
       "      <td>1875</td>\n",
       "      <td>2120</td>\n",
       "      <td>113787</td>\n",
       "      <td>17</td>\n",
       "      <td>099</td>\n",
       "      <td>16.484308</td>\n",
       "      <td>17099</td>\n",
       "    </tr>\n",
       "    <tr>\n",
       "      <th>1</th>\n",
       "      <td>Lee County, Illinois</td>\n",
       "      <td>436</td>\n",
       "      <td>335</td>\n",
       "      <td>663</td>\n",
       "      <td>533</td>\n",
       "      <td>299</td>\n",
       "      <td>282</td>\n",
       "      <td>160</td>\n",
       "      <td>497</td>\n",
       "      <td>796</td>\n",
       "      <td>551</td>\n",
       "      <td>409</td>\n",
       "      <td>650</td>\n",
       "      <td>35866</td>\n",
       "      <td>17</td>\n",
       "      <td>103</td>\n",
       "      <td>15.644343</td>\n",
       "      <td>17103</td>\n",
       "    </tr>\n",
       "    <tr>\n",
       "      <th>2</th>\n",
       "      <td>Livingston County, Illinois</td>\n",
       "      <td>260</td>\n",
       "      <td>421</td>\n",
       "      <td>672</td>\n",
       "      <td>462</td>\n",
       "      <td>453</td>\n",
       "      <td>245</td>\n",
       "      <td>354</td>\n",
       "      <td>378</td>\n",
       "      <td>896</td>\n",
       "      <td>629</td>\n",
       "      <td>564</td>\n",
       "      <td>714</td>\n",
       "      <td>38940</td>\n",
       "      <td>17</td>\n",
       "      <td>105</td>\n",
       "      <td>15.531587</td>\n",
       "      <td>17105</td>\n",
       "    </tr>\n",
       "    <tr>\n",
       "      <th>3</th>\n",
       "      <td>Logan County, Illinois</td>\n",
       "      <td>313</td>\n",
       "      <td>299</td>\n",
       "      <td>467</td>\n",
       "      <td>409</td>\n",
       "      <td>183</td>\n",
       "      <td>313</td>\n",
       "      <td>223</td>\n",
       "      <td>331</td>\n",
       "      <td>720</td>\n",
       "      <td>465</td>\n",
       "      <td>503</td>\n",
       "      <td>538</td>\n",
       "      <td>30251</td>\n",
       "      <td>17</td>\n",
       "      <td>107</td>\n",
       "      <td>15.748240</td>\n",
       "      <td>17107</td>\n",
       "    </tr>\n",
       "    <tr>\n",
       "      <th>4</th>\n",
       "      <td>McDonough County, Illinois</td>\n",
       "      <td>195</td>\n",
       "      <td>303</td>\n",
       "      <td>552</td>\n",
       "      <td>321</td>\n",
       "      <td>374</td>\n",
       "      <td>154</td>\n",
       "      <td>249</td>\n",
       "      <td>290</td>\n",
       "      <td>595</td>\n",
       "      <td>702</td>\n",
       "      <td>443</td>\n",
       "      <td>451</td>\n",
       "      <td>32602</td>\n",
       "      <td>17</td>\n",
       "      <td>109</td>\n",
       "      <td>14.198515</td>\n",
       "      <td>17109</td>\n",
       "    </tr>\n",
       "  </tbody>\n",
       "</table>\n",
       "</div>"
      ],
      "text/plain": [
       "                   county_name  B01001_020E  B01001_021E  B01001_022E  \\\n",
       "0     LaSalle County, Illinois         1093         1385         1890   \n",
       "1         Lee County, Illinois          436          335          663   \n",
       "2  Livingston County, Illinois          260          421          672   \n",
       "3       Logan County, Illinois          313          299          467   \n",
       "4   McDonough County, Illinois          195          303          552   \n",
       "\n",
       "   B01001_023E  B01001_024E  B01001_025E  B01001_044E  B01001_045E  \\\n",
       "0         1687         1089          888         1074         1474   \n",
       "1          533          299          282          160          497   \n",
       "2          462          453          245          354          378   \n",
       "3          409          183          313          223          331   \n",
       "4          321          374          154          249          290   \n",
       "\n",
       "   B01001_046E  B01001_047E  B01001_048E  B01001_049E  B01001_001E state code  \\\n",
       "0         2395         1787         1875         2120       113787         17   \n",
       "1          796          551          409          650        35866         17   \n",
       "2          896          629          564          714        38940         17   \n",
       "3          720          465          503          538        30251         17   \n",
       "4          595          702          443          451        32602         17   \n",
       "\n",
       "  county code  percent_age_65_and_older   fips  \n",
       "0         099                 16.484308  17099  \n",
       "1         103                 15.644343  17103  \n",
       "2         105                 15.531587  17105  \n",
       "3         107                 15.748240  17107  \n",
       "4         109                 14.198515  17109  "
      ]
     },
     "execution_count": 54,
     "metadata": {},
     "output_type": "execute_result"
    }
   ],
   "source": [
    "df9['fips'] = df9['state code'] + df9['county code']\n",
    "df9.head()"
   ]
  },
  {
   "cell_type": "markdown",
   "id": "dcb04516-8d7f-4ad2-beb3-e688daa12187",
   "metadata": {},
   "source": [
    "#### 10.Percent Of Population Who Do Not Speak English: B99163_005E/B99163_001E"
   ]
  },
  {
   "cell_type": "code",
   "execution_count": 55,
   "id": "f97dbc43-c00a-4e2b-b8c3-8db219707786",
   "metadata": {},
   "outputs": [
    {
     "name": "stdout",
     "output_type": "stream",
     "text": [
      "['NAME', 'B99163_005E', 'B99163_001E', 'state', 'county']\n"
     ]
    }
   ],
   "source": [
    "variables = 'B99163_005E,B99163_001E'\n",
    "df10 = collectAll_county(year,variables)"
   ]
  },
  {
   "cell_type": "code",
   "execution_count": 56,
   "id": "86a48711-061f-4a53-b7bb-a0523aa745f1",
   "metadata": {},
   "outputs": [
    {
     "data": {
      "text/plain": [
       "(1909, 5)"
      ]
     },
     "execution_count": 56,
     "metadata": {},
     "output_type": "execute_result"
    }
   ],
   "source": [
    "df10.shape"
   ]
  },
  {
   "cell_type": "code",
   "execution_count": 57,
   "id": "c87745bc-19ae-4efc-904d-7390a39c3c9d",
   "metadata": {},
   "outputs": [],
   "source": [
    "df10['B99163_005E'] = df10['B99163_005E'].apply(changeInteger)\n",
    "df10['B99163_001E'] = df10['B99163_001E'].apply(changeInteger)"
   ]
  },
  {
   "cell_type": "code",
   "execution_count": 58,
   "id": "79fc7f2e-ce55-499c-ab8b-aa573ca1801f",
   "metadata": {},
   "outputs": [],
   "source": [
    "df10['percent_limited_english_abilities'] = (df10['B99163_005E']/df10['B99163_001E'])*100"
   ]
  },
  {
   "cell_type": "code",
   "execution_count": 59,
   "id": "da196dd1-f265-41f4-8394-30c7bb0ac2b7",
   "metadata": {},
   "outputs": [
    {
     "data": {
      "text/html": [
       "<div>\n",
       "<style scoped>\n",
       "    .dataframe tbody tr th:only-of-type {\n",
       "        vertical-align: middle;\n",
       "    }\n",
       "\n",
       "    .dataframe tbody tr th {\n",
       "        vertical-align: top;\n",
       "    }\n",
       "\n",
       "    .dataframe thead th {\n",
       "        text-align: right;\n",
       "    }\n",
       "</style>\n",
       "<table border=\"1\" class=\"dataframe\">\n",
       "  <thead>\n",
       "    <tr style=\"text-align: right;\">\n",
       "      <th></th>\n",
       "      <th>county_name</th>\n",
       "      <th>B99163_005E</th>\n",
       "      <th>B99163_001E</th>\n",
       "      <th>state code</th>\n",
       "      <th>county code</th>\n",
       "      <th>percent_limited_english_abilities</th>\n",
       "      <th>fips</th>\n",
       "    </tr>\n",
       "  </thead>\n",
       "  <tbody>\n",
       "    <tr>\n",
       "      <th>0</th>\n",
       "      <td>Chatham County, Georgia</td>\n",
       "      <td>19492</td>\n",
       "      <td>247846</td>\n",
       "      <td>13</td>\n",
       "      <td>051</td>\n",
       "      <td>7.864561</td>\n",
       "      <td>13051</td>\n",
       "    </tr>\n",
       "    <tr>\n",
       "      <th>1</th>\n",
       "      <td>Chattooga County, Georgia</td>\n",
       "      <td>901</td>\n",
       "      <td>24320</td>\n",
       "      <td>13</td>\n",
       "      <td>055</td>\n",
       "      <td>3.704770</td>\n",
       "      <td>13055</td>\n",
       "    </tr>\n",
       "    <tr>\n",
       "      <th>2</th>\n",
       "      <td>Cherokee County, Georgia</td>\n",
       "      <td>23809</td>\n",
       "      <td>199444</td>\n",
       "      <td>13</td>\n",
       "      <td>057</td>\n",
       "      <td>11.937687</td>\n",
       "      <td>13057</td>\n",
       "    </tr>\n",
       "    <tr>\n",
       "      <th>3</th>\n",
       "      <td>Clarke County, Georgia</td>\n",
       "      <td>14038</td>\n",
       "      <td>110008</td>\n",
       "      <td>13</td>\n",
       "      <td>059</td>\n",
       "      <td>12.760890</td>\n",
       "      <td>13059</td>\n",
       "    </tr>\n",
       "    <tr>\n",
       "      <th>4</th>\n",
       "      <td>Clayton County, Georgia</td>\n",
       "      <td>46306</td>\n",
       "      <td>238515</td>\n",
       "      <td>13</td>\n",
       "      <td>063</td>\n",
       "      <td>19.414293</td>\n",
       "      <td>13063</td>\n",
       "    </tr>\n",
       "  </tbody>\n",
       "</table>\n",
       "</div>"
      ],
      "text/plain": [
       "                 county_name  B99163_005E  B99163_001E state code county code  \\\n",
       "0    Chatham County, Georgia        19492       247846         13         051   \n",
       "1  Chattooga County, Georgia          901        24320         13         055   \n",
       "2   Cherokee County, Georgia        23809       199444         13         057   \n",
       "3     Clarke County, Georgia        14038       110008         13         059   \n",
       "4    Clayton County, Georgia        46306       238515         13         063   \n",
       "\n",
       "   percent_limited_english_abilities   fips  \n",
       "0                           7.864561  13051  \n",
       "1                           3.704770  13055  \n",
       "2                          11.937687  13057  \n",
       "3                          12.760890  13059  \n",
       "4                          19.414293  13063  "
      ]
     },
     "execution_count": 59,
     "metadata": {},
     "output_type": "execute_result"
    }
   ],
   "source": [
    "df10['fips'] = df10['state code'] + df10['county code']\n",
    "df10.head()"
   ]
  },
  {
   "cell_type": "markdown",
   "id": "230a9265-4827-498c-9cae-c18df3f821b6",
   "metadata": {},
   "source": [
    "#### 11.Percent of Population 17 Years of Age and Under: (B01001_003E+B01001_004E+B01001_005E+B01001_006E+B01001_027E+B01001_028E+B01001_029E+B01001_030E)/B01003_001E"
   ]
  },
  {
   "cell_type": "code",
   "execution_count": 60,
   "id": "43b38a7d-f7ca-4595-8f39-91f898996c9a",
   "metadata": {},
   "outputs": [
    {
     "name": "stdout",
     "output_type": "stream",
     "text": [
      "['NAME', 'B01001_003E', 'B01001_004E', 'B01001_005E', 'B01001_006E', 'B01001_027E', 'B01001_028E', 'B01001_029E', 'B01001_030E', 'B01003_001E', 'state', 'county']\n"
     ]
    }
   ],
   "source": [
    "variables = 'B01001_003E,B01001_004E,B01001_005E,B01001_006E,B01001_027E,B01001_028E,B01001_029E,B01001_030E,B01003_001E'\n",
    "df11 = collectAll_county(year,variables)"
   ]
  },
  {
   "cell_type": "code",
   "execution_count": 61,
   "id": "aab660f8-39a7-4dc8-ae57-9a715c2bb20e",
   "metadata": {},
   "outputs": [
    {
     "data": {
      "text/plain": [
       "(1909, 12)"
      ]
     },
     "execution_count": 61,
     "metadata": {},
     "output_type": "execute_result"
    }
   ],
   "source": [
    "df11.shape"
   ]
  },
  {
   "cell_type": "code",
   "execution_count": 62,
   "id": "3e91d91d-0f62-45e1-aa28-feb685e79554",
   "metadata": {},
   "outputs": [],
   "source": [
    "df11['B01001_003E'] = df11['B01001_003E'].apply(changeInteger)\n",
    "df11['B01001_004E'] = df11['B01001_004E'].apply(changeInteger)\n",
    "df11['B01001_005E'] = df11['B01001_005E'].apply(changeInteger)\n",
    "df11['B01001_006E'] = df11['B01001_006E'].apply(changeInteger)\n",
    "df11['B01001_027E'] = df11['B01001_027E'].apply(changeInteger)\n",
    "df11['B01001_028E'] = df11['B01001_028E'].apply(changeInteger)\n",
    "df11['B01001_029E'] = df11['B01001_029E'].apply(changeInteger)\n",
    "df11['B01001_030E'] = df11['B01001_030E'].apply(changeInteger)\n",
    "df11['B01003_001E'] = df11['B01003_001E'].apply(changeInteger)"
   ]
  },
  {
   "cell_type": "code",
   "execution_count": 63,
   "id": "7ef3e8d6-ddb3-4693-8418-2b8891a87a16",
   "metadata": {},
   "outputs": [],
   "source": [
    "df11['percent_age_17_and_younger'] = ((df11['B01001_003E']+df11['B01001_004E']+df11['B01001_005E']+df11['B01001_006E']+df11['B01001_027E']+df11['B01001_028E']+df11['B01001_029E']+df11['B01001_030E'])/df11['B01003_001E'])*100"
   ]
  },
  {
   "cell_type": "code",
   "execution_count": 64,
   "id": "b4e9178e-a1d3-479b-8a8f-35eb701d327d",
   "metadata": {},
   "outputs": [
    {
     "data": {
      "text/html": [
       "<div>\n",
       "<style scoped>\n",
       "    .dataframe tbody tr th:only-of-type {\n",
       "        vertical-align: middle;\n",
       "    }\n",
       "\n",
       "    .dataframe tbody tr th {\n",
       "        vertical-align: top;\n",
       "    }\n",
       "\n",
       "    .dataframe thead th {\n",
       "        text-align: right;\n",
       "    }\n",
       "</style>\n",
       "<table border=\"1\" class=\"dataframe\">\n",
       "  <thead>\n",
       "    <tr style=\"text-align: right;\">\n",
       "      <th></th>\n",
       "      <th>county_name</th>\n",
       "      <th>B01001_003E</th>\n",
       "      <th>B01001_004E</th>\n",
       "      <th>B01001_005E</th>\n",
       "      <th>B01001_006E</th>\n",
       "      <th>B01001_027E</th>\n",
       "      <th>B01001_028E</th>\n",
       "      <th>B01001_029E</th>\n",
       "      <th>B01001_030E</th>\n",
       "      <th>B01003_001E</th>\n",
       "      <th>state code</th>\n",
       "      <th>county code</th>\n",
       "      <th>percent_age_17_and_younger</th>\n",
       "      <th>fips</th>\n",
       "    </tr>\n",
       "  </thead>\n",
       "  <tbody>\n",
       "    <tr>\n",
       "      <th>0</th>\n",
       "      <td>Carroll County, Maryland</td>\n",
       "      <td>4689</td>\n",
       "      <td>5198</td>\n",
       "      <td>6924</td>\n",
       "      <td>4043</td>\n",
       "      <td>4340</td>\n",
       "      <td>5773</td>\n",
       "      <td>5948</td>\n",
       "      <td>4065</td>\n",
       "      <td>167188</td>\n",
       "      <td>24</td>\n",
       "      <td>013</td>\n",
       "      <td>24.511329</td>\n",
       "      <td>24013</td>\n",
       "    </tr>\n",
       "    <tr>\n",
       "      <th>1</th>\n",
       "      <td>Cecil County, Maryland</td>\n",
       "      <td>2999</td>\n",
       "      <td>3616</td>\n",
       "      <td>3668</td>\n",
       "      <td>2473</td>\n",
       "      <td>3377</td>\n",
       "      <td>3307</td>\n",
       "      <td>3680</td>\n",
       "      <td>2189</td>\n",
       "      <td>101240</td>\n",
       "      <td>24</td>\n",
       "      <td>015</td>\n",
       "      <td>24.999012</td>\n",
       "      <td>24015</td>\n",
       "    </tr>\n",
       "    <tr>\n",
       "      <th>2</th>\n",
       "      <td>Charles County, Maryland</td>\n",
       "      <td>4906</td>\n",
       "      <td>5490</td>\n",
       "      <td>5688</td>\n",
       "      <td>3801</td>\n",
       "      <td>4466</td>\n",
       "      <td>4999</td>\n",
       "      <td>5609</td>\n",
       "      <td>3651</td>\n",
       "      <td>147012</td>\n",
       "      <td>24</td>\n",
       "      <td>017</td>\n",
       "      <td>26.263162</td>\n",
       "      <td>24017</td>\n",
       "    </tr>\n",
       "    <tr>\n",
       "      <th>3</th>\n",
       "      <td>Dorchester County, Maryland</td>\n",
       "      <td>1070</td>\n",
       "      <td>792</td>\n",
       "      <td>1103</td>\n",
       "      <td>576</td>\n",
       "      <td>947</td>\n",
       "      <td>788</td>\n",
       "      <td>1001</td>\n",
       "      <td>718</td>\n",
       "      <td>32587</td>\n",
       "      <td>24</td>\n",
       "      <td>019</td>\n",
       "      <td>21.465615</td>\n",
       "      <td>24019</td>\n",
       "    </tr>\n",
       "    <tr>\n",
       "      <th>4</th>\n",
       "      <td>Frederick County, Maryland</td>\n",
       "      <td>7637</td>\n",
       "      <td>8418</td>\n",
       "      <td>8752</td>\n",
       "      <td>5526</td>\n",
       "      <td>7192</td>\n",
       "      <td>7760</td>\n",
       "      <td>8632</td>\n",
       "      <td>5008</td>\n",
       "      <td>233958</td>\n",
       "      <td>24</td>\n",
       "      <td>021</td>\n",
       "      <td>25.186145</td>\n",
       "      <td>24021</td>\n",
       "    </tr>\n",
       "  </tbody>\n",
       "</table>\n",
       "</div>"
      ],
      "text/plain": [
       "                   county_name  B01001_003E  B01001_004E  B01001_005E  \\\n",
       "0     Carroll County, Maryland         4689         5198         6924   \n",
       "1       Cecil County, Maryland         2999         3616         3668   \n",
       "2     Charles County, Maryland         4906         5490         5688   \n",
       "3  Dorchester County, Maryland         1070          792         1103   \n",
       "4   Frederick County, Maryland         7637         8418         8752   \n",
       "\n",
       "   B01001_006E  B01001_027E  B01001_028E  B01001_029E  B01001_030E  \\\n",
       "0         4043         4340         5773         5948         4065   \n",
       "1         2473         3377         3307         3680         2189   \n",
       "2         3801         4466         4999         5609         3651   \n",
       "3          576          947          788         1001          718   \n",
       "4         5526         7192         7760         8632         5008   \n",
       "\n",
       "   B01003_001E state code county code  percent_age_17_and_younger   fips  \n",
       "0       167188         24         013                   24.511329  24013  \n",
       "1       101240         24         015                   24.999012  24015  \n",
       "2       147012         24         017                   26.263162  24017  \n",
       "3        32587         24         019                   21.465615  24019  \n",
       "4       233958         24         021                   25.186145  24021  "
      ]
     },
     "execution_count": 64,
     "metadata": {},
     "output_type": "execute_result"
    }
   ],
   "source": [
    "df11['fips'] = df11['state code'] + df11['county code']\n",
    "df11.head()"
   ]
  },
  {
   "cell_type": "markdown",
   "id": "0dc9064e-fd0b-4281-8771-366259395f20",
   "metadata": {},
   "source": [
    "#### 12.Percent Minority: 1-(B03002_003E/B03002_001E)"
   ]
  },
  {
   "cell_type": "code",
   "execution_count": 65,
   "id": "0c50e5e9-378c-4077-80f2-687a37f92625",
   "metadata": {},
   "outputs": [
    {
     "name": "stdout",
     "output_type": "stream",
     "text": [
      "['NAME', 'B03002_003E', 'B03002_001E', 'state', 'county']\n"
     ]
    }
   ],
   "source": [
    "variables = 'B03002_003E,B03002_001E'\n",
    "df12 = collectAll_county(year,variables)"
   ]
  },
  {
   "cell_type": "code",
   "execution_count": 66,
   "id": "e07e365e-585c-4b97-ba5e-25fa6039d637",
   "metadata": {},
   "outputs": [
    {
     "data": {
      "text/plain": [
       "(1909, 5)"
      ]
     },
     "execution_count": 66,
     "metadata": {},
     "output_type": "execute_result"
    }
   ],
   "source": [
    "df12.shape"
   ]
  },
  {
   "cell_type": "code",
   "execution_count": 67,
   "id": "dbe1bd76-0991-4fd4-a082-6f9a49c9abd3",
   "metadata": {},
   "outputs": [],
   "source": [
    "df12['B03002_003E'] = df12['B03002_003E'].apply(changeInteger)\n",
    "df12['B03002_001E'] = df12['B03002_001E'].apply(changeInteger)"
   ]
  },
  {
   "cell_type": "code",
   "execution_count": 68,
   "id": "156010fd-f12e-4306-b90e-e4b0183df959",
   "metadata": {},
   "outputs": [],
   "source": [
    "df12['percent_minorities'] = (1 - (df12['B03002_003E']/df12['B03002_001E']))*100"
   ]
  },
  {
   "cell_type": "code",
   "execution_count": 69,
   "id": "7ef360b7-92cf-445f-a5fc-04cbe424922f",
   "metadata": {},
   "outputs": [
    {
     "data": {
      "text/html": [
       "<div>\n",
       "<style scoped>\n",
       "    .dataframe tbody tr th:only-of-type {\n",
       "        vertical-align: middle;\n",
       "    }\n",
       "\n",
       "    .dataframe tbody tr th {\n",
       "        vertical-align: top;\n",
       "    }\n",
       "\n",
       "    .dataframe thead th {\n",
       "        text-align: right;\n",
       "    }\n",
       "</style>\n",
       "<table border=\"1\" class=\"dataframe\">\n",
       "  <thead>\n",
       "    <tr style=\"text-align: right;\">\n",
       "      <th></th>\n",
       "      <th>county_name</th>\n",
       "      <th>B03002_003E</th>\n",
       "      <th>B03002_001E</th>\n",
       "      <th>state code</th>\n",
       "      <th>county code</th>\n",
       "      <th>percent_minorities</th>\n",
       "      <th>fips</th>\n",
       "    </tr>\n",
       "  </thead>\n",
       "  <tbody>\n",
       "    <tr>\n",
       "      <th>0</th>\n",
       "      <td>Calhoun County, Alabama</td>\n",
       "      <td>86920.0</td>\n",
       "      <td>118195.0</td>\n",
       "      <td>01</td>\n",
       "      <td>015</td>\n",
       "      <td>26.460510</td>\n",
       "      <td>01015</td>\n",
       "    </tr>\n",
       "    <tr>\n",
       "      <th>1</th>\n",
       "      <td>Coffee County, Alabama</td>\n",
       "      <td>36152.0</td>\n",
       "      <td>50044.0</td>\n",
       "      <td>01</td>\n",
       "      <td>031</td>\n",
       "      <td>27.759572</td>\n",
       "      <td>01031</td>\n",
       "    </tr>\n",
       "    <tr>\n",
       "      <th>2</th>\n",
       "      <td>Elmore County, Alabama</td>\n",
       "      <td>59372.0</td>\n",
       "      <td>79461.0</td>\n",
       "      <td>01</td>\n",
       "      <td>051</td>\n",
       "      <td>25.281585</td>\n",
       "      <td>01051</td>\n",
       "    </tr>\n",
       "    <tr>\n",
       "      <th>3</th>\n",
       "      <td>Houston County, Alabama</td>\n",
       "      <td>69657.0</td>\n",
       "      <td>101546.0</td>\n",
       "      <td>01</td>\n",
       "      <td>069</td>\n",
       "      <td>31.403502</td>\n",
       "      <td>01069</td>\n",
       "    </tr>\n",
       "    <tr>\n",
       "      <th>4</th>\n",
       "      <td>Jefferson County, Alabama</td>\n",
       "      <td>339970.0</td>\n",
       "      <td>658586.0</td>\n",
       "      <td>01</td>\n",
       "      <td>073</td>\n",
       "      <td>48.378799</td>\n",
       "      <td>01073</td>\n",
       "    </tr>\n",
       "  </tbody>\n",
       "</table>\n",
       "</div>"
      ],
      "text/plain": [
       "                 county_name  B03002_003E  B03002_001E state code county code  \\\n",
       "0    Calhoun County, Alabama      86920.0     118195.0         01         015   \n",
       "1     Coffee County, Alabama      36152.0      50044.0         01         031   \n",
       "2     Elmore County, Alabama      59372.0      79461.0         01         051   \n",
       "3    Houston County, Alabama      69657.0     101546.0         01         069   \n",
       "4  Jefferson County, Alabama     339970.0     658586.0         01         073   \n",
       "\n",
       "   percent_minorities   fips  \n",
       "0           26.460510  01015  \n",
       "1           27.759572  01031  \n",
       "2           25.281585  01051  \n",
       "3           31.403502  01069  \n",
       "4           48.378799  01073  "
      ]
     },
     "execution_count": 69,
     "metadata": {},
     "output_type": "execute_result"
    }
   ],
   "source": [
    "df12['fips'] = df12['state code'] + df12['county code']\n",
    "df12.head()"
   ]
  },
  {
   "cell_type": "markdown",
   "id": "9733cd2c-c058-4c64-af28-8b32a4c8c066",
   "metadata": {},
   "source": [
    "#### 13.Percent of Population with a Disability: (B18101_004E+B18101_007E+B18101_010E+B18101_013E+B18101_016E+B18101_019E)/B18101_002E + (B18101_023E+B18101_026E+B18101_029E+B18101_032E+B18101_035E+B18101_038E)/B18101_021E"
   ]
  },
  {
   "cell_type": "code",
   "execution_count": 70,
   "id": "9d1f58e4-a62a-4b64-b7d4-9e75900dd490",
   "metadata": {},
   "outputs": [
    {
     "name": "stdout",
     "output_type": "stream",
     "text": [
      "['NAME', 'B18101_004E', 'B18101_007E', 'B18101_010E', 'B18101_013E', 'B18101_016E', 'B18101_019E', 'B18101_002E', 'B18101_023E', 'B18101_026E', 'B18101_029E', 'B18101_032E', 'B18101_035E', 'B18101_038E', 'B18101_021E', 'state', 'county']\n"
     ]
    }
   ],
   "source": [
    "variables = 'B18101_004E,B18101_007E,B18101_010E,B18101_013E,B18101_016E,B18101_019E,B18101_002E,B18101_023E,B18101_026E,B18101_029E,B18101_032E,B18101_035E,B18101_038E,B18101_021E'\n",
    "df13 = collectAll_county2(year,variables)"
   ]
  },
  {
   "cell_type": "code",
   "execution_count": 71,
   "id": "33abb6e8-5a53-423b-a4b2-c6b14f590b39",
   "metadata": {},
   "outputs": [
    {
     "data": {
      "text/plain": [
       "(822, 17)"
      ]
     },
     "execution_count": 71,
     "metadata": {},
     "output_type": "execute_result"
    }
   ],
   "source": [
    "df13.shape"
   ]
  },
  {
   "cell_type": "code",
   "execution_count": 72,
   "id": "27f65624-f448-401a-804f-ae498856af93",
   "metadata": {},
   "outputs": [],
   "source": [
    "df13['B18101_004E'] = df13['B18101_004E'].apply(changeInteger)\n",
    "df13['B18101_007E'] = df13['B18101_007E'].apply(changeInteger)\n",
    "df13['B18101_010E'] = df13['B18101_010E'].apply(changeInteger)\n",
    "df13['B18101_013E'] = df13['B18101_013E'].apply(changeInteger)\n",
    "df13['B18101_016E'] = df13['B18101_016E'].apply(changeInteger)\n",
    "df13['B18101_002E'] = df13['B18101_002E'].apply(changeInteger)\n",
    "df13['B18101_023E'] = df13['B18101_023E'].apply(changeInteger)\n",
    "df13['B18101_026E'] = df13['B18101_026E'].apply(changeInteger)\n",
    "df13['B18101_029E'] = df13['B18101_029E'].apply(changeInteger)\n",
    "df13['B18101_032E'] = df13['B18101_032E'].apply(changeInteger)\n",
    "df13['B18101_035E'] = df13['B18101_035E'].apply(changeInteger)\n",
    "df13['B18101_038E'] = df13['B18101_038E'].apply(changeInteger)\n",
    "df13['B18101_021E'] = df13['B18101_021E'].apply(changeInteger)"
   ]
  },
  {
   "cell_type": "code",
   "execution_count": 73,
   "id": "3152ec37-5bda-4767-a23b-4af35f4a80a7",
   "metadata": {},
   "outputs": [],
   "source": [
    "df13['percent_disabled'] = ((df13['B18101_004E']+df13['B18101_007E']+df13['B18101_010E']+df13['B18101_013E']+df13['B18101_016E'])/df13['B18101_002E'] + (df13['B18101_023E']+df13['B18101_026E']+df13['B18101_029E']+df13['B18101_032E']+df13['B18101_035E']+df13['B18101_038E'])/df13['B18101_021E'])*100"
   ]
  },
  {
   "cell_type": "code",
   "execution_count": 74,
   "id": "2ff35508-4ed4-4ee4-89e6-459ec0fb53f4",
   "metadata": {},
   "outputs": [
    {
     "data": {
      "text/html": [
       "<div>\n",
       "<style scoped>\n",
       "    .dataframe tbody tr th:only-of-type {\n",
       "        vertical-align: middle;\n",
       "    }\n",
       "\n",
       "    .dataframe tbody tr th {\n",
       "        vertical-align: top;\n",
       "    }\n",
       "\n",
       "    .dataframe thead th {\n",
       "        text-align: right;\n",
       "    }\n",
       "</style>\n",
       "<table border=\"1\" class=\"dataframe\">\n",
       "  <thead>\n",
       "    <tr style=\"text-align: right;\">\n",
       "      <th></th>\n",
       "      <th>county_name</th>\n",
       "      <th>B18101_004E</th>\n",
       "      <th>B18101_007E</th>\n",
       "      <th>B18101_010E</th>\n",
       "      <th>B18101_013E</th>\n",
       "      <th>B18101_016E</th>\n",
       "      <th>B18101_019E</th>\n",
       "      <th>B18101_002E</th>\n",
       "      <th>B18101_023E</th>\n",
       "      <th>B18101_026E</th>\n",
       "      <th>B18101_029E</th>\n",
       "      <th>B18101_032E</th>\n",
       "      <th>B18101_035E</th>\n",
       "      <th>B18101_038E</th>\n",
       "      <th>B18101_021E</th>\n",
       "      <th>state code</th>\n",
       "      <th>county code</th>\n",
       "      <th>percent_disabled</th>\n",
       "      <th>fips</th>\n",
       "    </tr>\n",
       "  </thead>\n",
       "  <tbody>\n",
       "    <tr>\n",
       "      <th>0</th>\n",
       "      <td>Sumter County, Florida</td>\n",
       "      <td>0</td>\n",
       "      <td>145</td>\n",
       "      <td>260</td>\n",
       "      <td>985</td>\n",
       "      <td>4202</td>\n",
       "      <td>3905</td>\n",
       "      <td>43364</td>\n",
       "      <td>0</td>\n",
       "      <td>198</td>\n",
       "      <td>82</td>\n",
       "      <td>2798</td>\n",
       "      <td>1075</td>\n",
       "      <td>2657</td>\n",
       "      <td>46051</td>\n",
       "      <td>12</td>\n",
       "      <td>119</td>\n",
       "      <td>27.683442</td>\n",
       "      <td>12119</td>\n",
       "    </tr>\n",
       "    <tr>\n",
       "      <th>1</th>\n",
       "      <td>Volusia County, Florida</td>\n",
       "      <td>115</td>\n",
       "      <td>2816</td>\n",
       "      <td>5066</td>\n",
       "      <td>15785</td>\n",
       "      <td>6211</td>\n",
       "      <td>10077</td>\n",
       "      <td>239174</td>\n",
       "      <td>276</td>\n",
       "      <td>1666</td>\n",
       "      <td>2132</td>\n",
       "      <td>15274</td>\n",
       "      <td>5635</td>\n",
       "      <td>14445</td>\n",
       "      <td>249670</td>\n",
       "      <td>12</td>\n",
       "      <td>127</td>\n",
       "      <td>28.332288</td>\n",
       "      <td>12127</td>\n",
       "    </tr>\n",
       "    <tr>\n",
       "      <th>2</th>\n",
       "      <td>Barrow County, Georgia</td>\n",
       "      <td>0</td>\n",
       "      <td>0</td>\n",
       "      <td>620</td>\n",
       "      <td>1568</td>\n",
       "      <td>387</td>\n",
       "      <td>409</td>\n",
       "      <td>35591</td>\n",
       "      <td>0</td>\n",
       "      <td>456</td>\n",
       "      <td>480</td>\n",
       "      <td>2570</td>\n",
       "      <td>555</td>\n",
       "      <td>944</td>\n",
       "      <td>33704</td>\n",
       "      <td>13</td>\n",
       "      <td>013</td>\n",
       "      <td>22.084845</td>\n",
       "      <td>13013</td>\n",
       "    </tr>\n",
       "    <tr>\n",
       "      <th>3</th>\n",
       "      <td>Bartow County, Georgia</td>\n",
       "      <td>0</td>\n",
       "      <td>216</td>\n",
       "      <td>64</td>\n",
       "      <td>2611</td>\n",
       "      <td>1209</td>\n",
       "      <td>924</td>\n",
       "      <td>48361</td>\n",
       "      <td>0</td>\n",
       "      <td>92</td>\n",
       "      <td>616</td>\n",
       "      <td>3579</td>\n",
       "      <td>1656</td>\n",
       "      <td>1140</td>\n",
       "      <td>51103</td>\n",
       "      <td>13</td>\n",
       "      <td>015</td>\n",
       "      <td>22.338149</td>\n",
       "      <td>13015</td>\n",
       "    </tr>\n",
       "    <tr>\n",
       "      <th>4</th>\n",
       "      <td>Bibb County, Georgia</td>\n",
       "      <td>0</td>\n",
       "      <td>1464</td>\n",
       "      <td>939</td>\n",
       "      <td>3340</td>\n",
       "      <td>1277</td>\n",
       "      <td>1555</td>\n",
       "      <td>70252</td>\n",
       "      <td>174</td>\n",
       "      <td>1656</td>\n",
       "      <td>906</td>\n",
       "      <td>5245</td>\n",
       "      <td>2256</td>\n",
       "      <td>2808</td>\n",
       "      <td>82052</td>\n",
       "      <td>13</td>\n",
       "      <td>021</td>\n",
       "      <td>25.891053</td>\n",
       "      <td>13021</td>\n",
       "    </tr>\n",
       "  </tbody>\n",
       "</table>\n",
       "</div>"
      ],
      "text/plain": [
       "               county_name  B18101_004E  B18101_007E  B18101_010E  \\\n",
       "0   Sumter County, Florida            0          145          260   \n",
       "1  Volusia County, Florida          115         2816         5066   \n",
       "2   Barrow County, Georgia            0            0          620   \n",
       "3   Bartow County, Georgia            0          216           64   \n",
       "4     Bibb County, Georgia            0         1464          939   \n",
       "\n",
       "   B18101_013E  B18101_016E B18101_019E  B18101_002E  B18101_023E  \\\n",
       "0          985         4202        3905        43364            0   \n",
       "1        15785         6211       10077       239174          276   \n",
       "2         1568          387         409        35591            0   \n",
       "3         2611         1209         924        48361            0   \n",
       "4         3340         1277        1555        70252          174   \n",
       "\n",
       "   B18101_026E  B18101_029E  B18101_032E  B18101_035E  B18101_038E  \\\n",
       "0          198           82         2798         1075         2657   \n",
       "1         1666         2132        15274         5635        14445   \n",
       "2          456          480         2570          555          944   \n",
       "3           92          616         3579         1656         1140   \n",
       "4         1656          906         5245         2256         2808   \n",
       "\n",
       "   B18101_021E state code county code  percent_disabled   fips  \n",
       "0        46051         12         119         27.683442  12119  \n",
       "1       249670         12         127         28.332288  12127  \n",
       "2        33704         13         013         22.084845  13013  \n",
       "3        51103         13         015         22.338149  13015  \n",
       "4        82052         13         021         25.891053  13021  "
      ]
     },
     "execution_count": 74,
     "metadata": {},
     "output_type": "execute_result"
    }
   ],
   "source": [
    "df13['fips'] = df13['state code'] + df13['county code']\n",
    "df13.head()"
   ]
  },
  {
   "cell_type": "markdown",
   "id": "e94438b4-e185-4f2d-89cd-369beeacf4be",
   "metadata": {},
   "source": [
    "#### 14.Percent of Population Living in Group Quarters: B26001_001E/B01003_001E"
   ]
  },
  {
   "cell_type": "code",
   "execution_count": 75,
   "id": "c4352062-4f3f-4d14-8968-3c70d8a3228f",
   "metadata": {},
   "outputs": [
    {
     "name": "stdout",
     "output_type": "stream",
     "text": [
      "['NAME', 'B26001_001E', 'B01003_001E', 'state', 'county']\n"
     ]
    }
   ],
   "source": [
    "variables = 'B26001_001E,B01003_001E'\n",
    "df14 = collectAll_county(year,variables)"
   ]
  },
  {
   "cell_type": "code",
   "execution_count": 76,
   "id": "ce36db24-97f4-43c4-bb4b-43ad3181d51b",
   "metadata": {},
   "outputs": [
    {
     "data": {
      "text/plain": [
       "(1909, 5)"
      ]
     },
     "execution_count": 76,
     "metadata": {},
     "output_type": "execute_result"
    }
   ],
   "source": [
    "df14.shape"
   ]
  },
  {
   "cell_type": "code",
   "execution_count": 77,
   "id": "67a5eb8e-0e90-4e1e-8c02-b74ac7717e5d",
   "metadata": {},
   "outputs": [],
   "source": [
    "df14['B26001_001E'] = df14['B26001_001E'].apply(changeInteger)\n",
    "df14['B01003_001E'] = df14['B01003_001E'].apply(changeInteger)"
   ]
  },
  {
   "cell_type": "code",
   "execution_count": 78,
   "id": "0fc7a5a2-9133-4096-b752-b1241ab76905",
   "metadata": {},
   "outputs": [],
   "source": [
    "df14['percent_institutionalized_in_group_quarters'] = (df14['B26001_001E']/df14['B01003_001E'])*100"
   ]
  },
  {
   "cell_type": "code",
   "execution_count": 79,
   "id": "a499fda8-15f8-448e-93fd-aa3b2eb601cf",
   "metadata": {},
   "outputs": [
    {
     "data": {
      "text/html": [
       "<div>\n",
       "<style scoped>\n",
       "    .dataframe tbody tr th:only-of-type {\n",
       "        vertical-align: middle;\n",
       "    }\n",
       "\n",
       "    .dataframe tbody tr th {\n",
       "        vertical-align: top;\n",
       "    }\n",
       "\n",
       "    .dataframe thead th {\n",
       "        text-align: right;\n",
       "    }\n",
       "</style>\n",
       "<table border=\"1\" class=\"dataframe\">\n",
       "  <thead>\n",
       "    <tr style=\"text-align: right;\">\n",
       "      <th></th>\n",
       "      <th>county_name</th>\n",
       "      <th>B26001_001E</th>\n",
       "      <th>B01003_001E</th>\n",
       "      <th>state code</th>\n",
       "      <th>county code</th>\n",
       "      <th>percent_institutionalized_in_group_quarters</th>\n",
       "      <th>fips</th>\n",
       "    </tr>\n",
       "  </thead>\n",
       "  <tbody>\n",
       "    <tr>\n",
       "      <th>0</th>\n",
       "      <td>Carroll County, Maryland</td>\n",
       "      <td>4062.0</td>\n",
       "      <td>167188</td>\n",
       "      <td>24</td>\n",
       "      <td>013</td>\n",
       "      <td>2.429600</td>\n",
       "      <td>24013</td>\n",
       "    </tr>\n",
       "    <tr>\n",
       "      <th>1</th>\n",
       "      <td>Cecil County, Maryland</td>\n",
       "      <td>1835.0</td>\n",
       "      <td>101240</td>\n",
       "      <td>24</td>\n",
       "      <td>015</td>\n",
       "      <td>1.812525</td>\n",
       "      <td>24015</td>\n",
       "    </tr>\n",
       "    <tr>\n",
       "      <th>2</th>\n",
       "      <td>Charles County, Maryland</td>\n",
       "      <td>1413.0</td>\n",
       "      <td>147012</td>\n",
       "      <td>24</td>\n",
       "      <td>017</td>\n",
       "      <td>0.961146</td>\n",
       "      <td>24017</td>\n",
       "    </tr>\n",
       "    <tr>\n",
       "      <th>3</th>\n",
       "      <td>Dorchester County, Maryland</td>\n",
       "      <td>625.0</td>\n",
       "      <td>32587</td>\n",
       "      <td>24</td>\n",
       "      <td>019</td>\n",
       "      <td>1.917943</td>\n",
       "      <td>24019</td>\n",
       "    </tr>\n",
       "    <tr>\n",
       "      <th>4</th>\n",
       "      <td>Frederick County, Maryland</td>\n",
       "      <td>4550.0</td>\n",
       "      <td>233958</td>\n",
       "      <td>24</td>\n",
       "      <td>021</td>\n",
       "      <td>1.944794</td>\n",
       "      <td>24021</td>\n",
       "    </tr>\n",
       "  </tbody>\n",
       "</table>\n",
       "</div>"
      ],
      "text/plain": [
       "                   county_name  B26001_001E  B01003_001E state code  \\\n",
       "0     Carroll County, Maryland       4062.0       167188         24   \n",
       "1       Cecil County, Maryland       1835.0       101240         24   \n",
       "2     Charles County, Maryland       1413.0       147012         24   \n",
       "3  Dorchester County, Maryland        625.0        32587         24   \n",
       "4   Frederick County, Maryland       4550.0       233958         24   \n",
       "\n",
       "  county code  percent_institutionalized_in_group_quarters   fips  \n",
       "0         013                                     2.429600  24013  \n",
       "1         015                                     1.812525  24015  \n",
       "2         017                                     0.961146  24017  \n",
       "3         019                                     1.917943  24019  \n",
       "4         021                                     1.944794  24021  "
      ]
     },
     "execution_count": 79,
     "metadata": {},
     "output_type": "execute_result"
    }
   ],
   "source": [
    "df14['fips'] = df14['state code'] + df14['county code']\n",
    "df14.head()"
   ]
  },
  {
   "cell_type": "markdown",
   "id": "74b84cad-5d54-44dd-9cb8-1c663ac8ca10",
   "metadata": {},
   "source": [
    "#### 15.Percent of Children Living in Single Parent Households: (B09008_010E+B09008_011E+B09008_012E)/B09008_001E"
   ]
  },
  {
   "cell_type": "code",
   "execution_count": 80,
   "id": "bff02592-6a29-43d7-92c2-5b580485d18c",
   "metadata": {},
   "outputs": [
    {
     "name": "stdout",
     "output_type": "stream",
     "text": [
      "['NAME', 'B09008_010E', 'B09008_011E', 'B09008_012E', 'B09008_001E', 'state', 'county']\n"
     ]
    }
   ],
   "source": [
    "variables = 'B09008_010E,B09008_011E,B09008_012E,B09008_001E'\n",
    "df15 = collectAll_county2(year,variables)"
   ]
  },
  {
   "cell_type": "code",
   "execution_count": 81,
   "id": "cc8d4588-83c4-4f84-84d0-1a379ce8de09",
   "metadata": {},
   "outputs": [
    {
     "data": {
      "text/plain": [
       "(822, 7)"
      ]
     },
     "execution_count": 81,
     "metadata": {},
     "output_type": "execute_result"
    }
   ],
   "source": [
    "df15.shape"
   ]
  },
  {
   "cell_type": "code",
   "execution_count": 82,
   "id": "0aecfcf2-8774-4221-b2b3-d671c79d60e7",
   "metadata": {},
   "outputs": [],
   "source": [
    "df15['B09008_010E'] = df15['B09008_010E'].apply(changeInteger)\n",
    "df15['B09008_011E'] = df15['B09008_011E'].apply(changeInteger)\n",
    "df15['B09008_012E'] = df15['B09008_012E'].apply(changeInteger)\n",
    "df15['B09008_001E'] = df15['B09008_001E'].apply(changeInteger)"
   ]
  },
  {
   "cell_type": "code",
   "execution_count": 83,
   "id": "48279050-99e3-401e-97d2-801d995710c2",
   "metadata": {},
   "outputs": [],
   "source": [
    "df15['percent_single_parent_households_CDC'] = ((df15['B09008_010E'] + df15['B09008_011E']+df15['B09008_012E'])/df15['B09008_001E'])*100"
   ]
  },
  {
   "cell_type": "code",
   "execution_count": 84,
   "id": "ff96d4cd-45ba-4f4c-b57b-5b4c0f397a84",
   "metadata": {},
   "outputs": [
    {
     "data": {
      "text/html": [
       "<div>\n",
       "<style scoped>\n",
       "    .dataframe tbody tr th:only-of-type {\n",
       "        vertical-align: middle;\n",
       "    }\n",
       "\n",
       "    .dataframe tbody tr th {\n",
       "        vertical-align: top;\n",
       "    }\n",
       "\n",
       "    .dataframe thead th {\n",
       "        text-align: right;\n",
       "    }\n",
       "</style>\n",
       "<table border=\"1\" class=\"dataframe\">\n",
       "  <thead>\n",
       "    <tr style=\"text-align: right;\">\n",
       "      <th></th>\n",
       "      <th>county_name</th>\n",
       "      <th>B09008_010E</th>\n",
       "      <th>B09008_011E</th>\n",
       "      <th>B09008_012E</th>\n",
       "      <th>B09008_001E</th>\n",
       "      <th>state code</th>\n",
       "      <th>county code</th>\n",
       "      <th>percent_single_parent_households_CDC</th>\n",
       "      <th>fips</th>\n",
       "    </tr>\n",
       "  </thead>\n",
       "  <tbody>\n",
       "    <tr>\n",
       "      <th>0</th>\n",
       "      <td>Cleveland County, North Carolina</td>\n",
       "      <td>1094.0</td>\n",
       "      <td>7623.0</td>\n",
       "      <td>0.0</td>\n",
       "      <td>22407.0</td>\n",
       "      <td>37</td>\n",
       "      <td>045</td>\n",
       "      <td>38.903021</td>\n",
       "      <td>37045</td>\n",
       "    </tr>\n",
       "    <tr>\n",
       "      <th>1</th>\n",
       "      <td>Craven County, North Carolina</td>\n",
       "      <td>835.0</td>\n",
       "      <td>6774.0</td>\n",
       "      <td>0.0</td>\n",
       "      <td>23908.0</td>\n",
       "      <td>37</td>\n",
       "      <td>049</td>\n",
       "      <td>31.826167</td>\n",
       "      <td>37049</td>\n",
       "    </tr>\n",
       "    <tr>\n",
       "      <th>2</th>\n",
       "      <td>Cumberland County, North Carolina</td>\n",
       "      <td>3814.0</td>\n",
       "      <td>28896.0</td>\n",
       "      <td>0.0</td>\n",
       "      <td>85801.0</td>\n",
       "      <td>37</td>\n",
       "      <td>051</td>\n",
       "      <td>38.123099</td>\n",
       "      <td>37051</td>\n",
       "    </tr>\n",
       "    <tr>\n",
       "      <th>3</th>\n",
       "      <td>Davidson County, North Carolina</td>\n",
       "      <td>821.0</td>\n",
       "      <td>9350.0</td>\n",
       "      <td>101.0</td>\n",
       "      <td>38019.0</td>\n",
       "      <td>37</td>\n",
       "      <td>057</td>\n",
       "      <td>27.018070</td>\n",
       "      <td>37057</td>\n",
       "    </tr>\n",
       "    <tr>\n",
       "      <th>4</th>\n",
       "      <td>Durham County, North Carolina</td>\n",
       "      <td>2541.0</td>\n",
       "      <td>20092.0</td>\n",
       "      <td>168.0</td>\n",
       "      <td>61683.0</td>\n",
       "      <td>37</td>\n",
       "      <td>063</td>\n",
       "      <td>36.964804</td>\n",
       "      <td>37063</td>\n",
       "    </tr>\n",
       "  </tbody>\n",
       "</table>\n",
       "</div>"
      ],
      "text/plain": [
       "                         county_name  B09008_010E  B09008_011E  B09008_012E  \\\n",
       "0   Cleveland County, North Carolina       1094.0       7623.0          0.0   \n",
       "1      Craven County, North Carolina        835.0       6774.0          0.0   \n",
       "2  Cumberland County, North Carolina       3814.0      28896.0          0.0   \n",
       "3    Davidson County, North Carolina        821.0       9350.0        101.0   \n",
       "4      Durham County, North Carolina       2541.0      20092.0        168.0   \n",
       "\n",
       "   B09008_001E state code county code  percent_single_parent_households_CDC  \\\n",
       "0      22407.0         37         045                             38.903021   \n",
       "1      23908.0         37         049                             31.826167   \n",
       "2      85801.0         37         051                             38.123099   \n",
       "3      38019.0         37         057                             27.018070   \n",
       "4      61683.0         37         063                             36.964804   \n",
       "\n",
       "    fips  \n",
       "0  37045  \n",
       "1  37049  \n",
       "2  37051  \n",
       "3  37057  \n",
       "4  37063  "
      ]
     },
     "execution_count": 84,
     "metadata": {},
     "output_type": "execute_result"
    }
   ],
   "source": [
    "df15['fips'] = df15['state code'] + df15['county code']\n",
    "df15.head()"
   ]
  },
  {
   "cell_type": "markdown",
   "id": "5acf173f-f4e1-4ded-a20b-61609a7be6a1",
   "metadata": {},
   "source": [
    "### age 18 to 34\n",
    "#### (B01001_007E+B01001_008E+B01001_009E+B01001_010E+B01001_011E+B01001_012E+B01001_031E+B01001_032E+B01001_033E+B01001_034E+B01001_035E+B01001_036E)/B01001_001E"
   ]
  },
  {
   "cell_type": "code",
   "execution_count": 85,
   "id": "330f9eb3-7e29-4ad8-9245-a595906bc370",
   "metadata": {},
   "outputs": [
    {
     "name": "stdout",
     "output_type": "stream",
     "text": [
      "['NAME', 'B01001_007E', 'B01001_008E', 'B01001_009E', 'B01001_010E', 'B01001_011E', 'B01001_012E', 'B01001_031E', 'B01001_032E', 'B01001_033E', 'B01001_034E', 'B01001_035E', 'B01001_036E', 'B01001_001E', 'state', 'county']\n"
     ]
    }
   ],
   "source": [
    "variables = 'B01001_007E,B01001_008E,B01001_009E,B01001_010E,B01001_011E,B01001_012E,B01001_031E,B01001_032E,B01001_033E,B01001_034E,B01001_035E,B01001_036E,B01001_001E'\n",
    "df16 = collectAll_county(year,variables)"
   ]
  },
  {
   "cell_type": "code",
   "execution_count": 86,
   "id": "6f63b764-614b-49c4-ab6e-c7844b362c09",
   "metadata": {},
   "outputs": [],
   "source": [
    "df16['B01001_007E'] = df16['B01001_007E'].apply(changeInteger)\n",
    "df16['B01001_008E'] = df16['B01001_008E'].apply(changeInteger)\n",
    "df16['B01001_009E'] = df16['B01001_009E'].apply(changeInteger)\n",
    "df16['B01001_010E'] = df16['B01001_010E'].apply(changeInteger)\n",
    "df16['B01001_011E'] = df16['B01001_011E'].apply(changeInteger)\n",
    "df16['B01001_012E'] = df16['B01001_012E'].apply(changeInteger)\n",
    "df16['B01001_031E'] = df16['B01001_031E'].apply(changeInteger)\n",
    "df16['B01001_032E'] = df16['B01001_032E'].apply(changeInteger)\n",
    "df16['B01001_033E'] = df16['B01001_033E'].apply(changeInteger)\n",
    "df16['B01001_034E'] = df16['B01001_034E'].apply(changeInteger)\n",
    "df16['B01001_035E'] = df16['B01001_035E'].apply(changeInteger)\n",
    "df16['B01001_036E'] = df16['B01001_036E'].apply(changeInteger)\n",
    "df16['B01001_001E'] = df16['B01001_001E'].apply(changeInteger)"
   ]
  },
  {
   "cell_type": "code",
   "execution_count": 87,
   "id": "086b601c-6584-4cec-b89e-6738c02f4918",
   "metadata": {},
   "outputs": [],
   "source": [
    "df16['percent_age_18_to_34'] = ((df16['B01001_007E'] + df16['B01001_008E'] +df16['B01001_009E'] +df16['B01001_010E'] +df16['B01001_011E']+df16['B01001_012E']+df16['B01001_031E']+df16['B01001_032E']+df16['B01001_033E']+df16['B01001_034E']+df16['B01001_035E']+df16['B01001_036E'])/df16['B01001_001E'])*100"
   ]
  },
  {
   "cell_type": "code",
   "execution_count": 88,
   "id": "4cf1c1e8-6ddb-4691-b8dd-fdf25c669094",
   "metadata": {},
   "outputs": [
    {
     "data": {
      "text/html": [
       "<div>\n",
       "<style scoped>\n",
       "    .dataframe tbody tr th:only-of-type {\n",
       "        vertical-align: middle;\n",
       "    }\n",
       "\n",
       "    .dataframe tbody tr th {\n",
       "        vertical-align: top;\n",
       "    }\n",
       "\n",
       "    .dataframe thead th {\n",
       "        text-align: right;\n",
       "    }\n",
       "</style>\n",
       "<table border=\"1\" class=\"dataframe\">\n",
       "  <thead>\n",
       "    <tr style=\"text-align: right;\">\n",
       "      <th></th>\n",
       "      <th>county_name</th>\n",
       "      <th>B01001_007E</th>\n",
       "      <th>B01001_008E</th>\n",
       "      <th>B01001_009E</th>\n",
       "      <th>B01001_010E</th>\n",
       "      <th>B01001_011E</th>\n",
       "      <th>B01001_012E</th>\n",
       "      <th>B01001_031E</th>\n",
       "      <th>B01001_032E</th>\n",
       "      <th>B01001_033E</th>\n",
       "      <th>B01001_034E</th>\n",
       "      <th>B01001_035E</th>\n",
       "      <th>B01001_036E</th>\n",
       "      <th>B01001_001E</th>\n",
       "      <th>state code</th>\n",
       "      <th>county code</th>\n",
       "      <th>percent_age_18_to_34</th>\n",
       "      <th>fips</th>\n",
       "    </tr>\n",
       "  </thead>\n",
       "  <tbody>\n",
       "    <tr>\n",
       "      <th>0</th>\n",
       "      <td>LaSalle County, Illinois</td>\n",
       "      <td>1639</td>\n",
       "      <td>734</td>\n",
       "      <td>942</td>\n",
       "      <td>1897</td>\n",
       "      <td>3633</td>\n",
       "      <td>3187</td>\n",
       "      <td>1521</td>\n",
       "      <td>911</td>\n",
       "      <td>706</td>\n",
       "      <td>1257</td>\n",
       "      <td>3242</td>\n",
       "      <td>3096</td>\n",
       "      <td>113787</td>\n",
       "      <td>17</td>\n",
       "      <td>099</td>\n",
       "      <td>20.006679</td>\n",
       "      <td>17099</td>\n",
       "    </tr>\n",
       "    <tr>\n",
       "      <th>1</th>\n",
       "      <td>Lee County, Illinois</td>\n",
       "      <td>504</td>\n",
       "      <td>317</td>\n",
       "      <td>289</td>\n",
       "      <td>712</td>\n",
       "      <td>1109</td>\n",
       "      <td>1118</td>\n",
       "      <td>496</td>\n",
       "      <td>245</td>\n",
       "      <td>34</td>\n",
       "      <td>596</td>\n",
       "      <td>896</td>\n",
       "      <td>933</td>\n",
       "      <td>35866</td>\n",
       "      <td>17</td>\n",
       "      <td>103</td>\n",
       "      <td>20.211342</td>\n",
       "      <td>17103</td>\n",
       "    </tr>\n",
       "    <tr>\n",
       "      <th>2</th>\n",
       "      <td>Livingston County, Illinois</td>\n",
       "      <td>477</td>\n",
       "      <td>166</td>\n",
       "      <td>127</td>\n",
       "      <td>966</td>\n",
       "      <td>1111</td>\n",
       "      <td>1413</td>\n",
       "      <td>420</td>\n",
       "      <td>205</td>\n",
       "      <td>203</td>\n",
       "      <td>631</td>\n",
       "      <td>1107</td>\n",
       "      <td>1355</td>\n",
       "      <td>38940</td>\n",
       "      <td>17</td>\n",
       "      <td>105</td>\n",
       "      <td>21.009245</td>\n",
       "      <td>17105</td>\n",
       "    </tr>\n",
       "    <tr>\n",
       "      <th>3</th>\n",
       "      <td>Logan County, Illinois</td>\n",
       "      <td>598</td>\n",
       "      <td>300</td>\n",
       "      <td>198</td>\n",
       "      <td>494</td>\n",
       "      <td>1459</td>\n",
       "      <td>1257</td>\n",
       "      <td>462</td>\n",
       "      <td>85</td>\n",
       "      <td>207</td>\n",
       "      <td>649</td>\n",
       "      <td>923</td>\n",
       "      <td>1024</td>\n",
       "      <td>30251</td>\n",
       "      <td>17</td>\n",
       "      <td>107</td>\n",
       "      <td>25.308254</td>\n",
       "      <td>17107</td>\n",
       "    </tr>\n",
       "    <tr>\n",
       "      <th>4</th>\n",
       "      <td>McDonough County, Illinois</td>\n",
       "      <td>2186</td>\n",
       "      <td>794</td>\n",
       "      <td>716</td>\n",
       "      <td>1507</td>\n",
       "      <td>1076</td>\n",
       "      <td>726</td>\n",
       "      <td>1486</td>\n",
       "      <td>709</td>\n",
       "      <td>1039</td>\n",
       "      <td>1421</td>\n",
       "      <td>787</td>\n",
       "      <td>705</td>\n",
       "      <td>32602</td>\n",
       "      <td>17</td>\n",
       "      <td>109</td>\n",
       "      <td>40.341083</td>\n",
       "      <td>17109</td>\n",
       "    </tr>\n",
       "  </tbody>\n",
       "</table>\n",
       "</div>"
      ],
      "text/plain": [
       "                   county_name  B01001_007E  B01001_008E  B01001_009E  \\\n",
       "0     LaSalle County, Illinois         1639          734          942   \n",
       "1         Lee County, Illinois          504          317          289   \n",
       "2  Livingston County, Illinois          477          166          127   \n",
       "3       Logan County, Illinois          598          300          198   \n",
       "4   McDonough County, Illinois         2186          794          716   \n",
       "\n",
       "   B01001_010E  B01001_011E  B01001_012E  B01001_031E  B01001_032E  \\\n",
       "0         1897         3633         3187         1521          911   \n",
       "1          712         1109         1118          496          245   \n",
       "2          966         1111         1413          420          205   \n",
       "3          494         1459         1257          462           85   \n",
       "4         1507         1076          726         1486          709   \n",
       "\n",
       "   B01001_033E  B01001_034E  B01001_035E  B01001_036E  B01001_001E state code  \\\n",
       "0          706         1257         3242         3096       113787         17   \n",
       "1           34          596          896          933        35866         17   \n",
       "2          203          631         1107         1355        38940         17   \n",
       "3          207          649          923         1024        30251         17   \n",
       "4         1039         1421          787          705        32602         17   \n",
       "\n",
       "  county code  percent_age_18_to_34   fips  \n",
       "0         099             20.006679  17099  \n",
       "1         103             20.211342  17103  \n",
       "2         105             21.009245  17105  \n",
       "3         107             25.308254  17107  \n",
       "4         109             40.341083  17109  "
      ]
     },
     "execution_count": 88,
     "metadata": {},
     "output_type": "execute_result"
    }
   ],
   "source": [
    "df16['fips'] = df16['state code'] + df16['county code']\n",
    "df16.head()"
   ]
  },
  {
   "cell_type": "code",
   "execution_count": 89,
   "id": "d9b661b1-c70b-4bc0-9cfc-cbd10fe37064",
   "metadata": {},
   "outputs": [
    {
     "data": {
      "text/plain": [
       "(1909, 18)"
      ]
     },
     "execution_count": 89,
     "metadata": {},
     "output_type": "execute_result"
    }
   ],
   "source": [
    "df16.shape"
   ]
  },
  {
   "cell_type": "markdown",
   "id": "730d8f25-cb06-4ce0-a74f-40a10c7452cd",
   "metadata": {},
   "source": [
    "### Age 35 to 44\n",
    "#### (B01001_013E+B01001_014E+B01001_037E+B01001_038E)/B01001_001E"
   ]
  },
  {
   "cell_type": "code",
   "execution_count": 90,
   "id": "9af10f52-ae54-49c9-a1aa-ba06033d2da1",
   "metadata": {},
   "outputs": [
    {
     "name": "stdout",
     "output_type": "stream",
     "text": [
      "['NAME', 'B01001_013E', 'B01001_014E', 'B01001_037E', 'B01001_038E', 'B01001_001E', 'state', 'county']\n"
     ]
    }
   ],
   "source": [
    "variables = 'B01001_013E,B01001_014E,B01001_037E,B01001_038E,B01001_001E'\n",
    "df17 = collectAll_county(year,variables)"
   ]
  },
  {
   "cell_type": "code",
   "execution_count": 91,
   "id": "aaeddf1d-e065-40c7-a7f5-bec08e79b9b6",
   "metadata": {},
   "outputs": [],
   "source": [
    "df17['B01001_013E'] = df17['B01001_013E'].apply(changeInteger)\n",
    "df17['B01001_014E'] = df17['B01001_014E'].apply(changeInteger)\n",
    "df17['B01001_037E'] = df17['B01001_037E'].apply(changeInteger)\n",
    "df17['B01001_038E'] = df17['B01001_038E'].apply(changeInteger)\n",
    "df17['B01001_001E'] = df17['B01001_001E'].apply(changeInteger)"
   ]
  },
  {
   "cell_type": "code",
   "execution_count": 92,
   "id": "2bb876f3-e566-4853-9177-a199142f5ed9",
   "metadata": {},
   "outputs": [],
   "source": [
    "df17['percent_age_35_to_44'] = ((df17['B01001_013E']+df17['B01001_014E'] +df17['B01001_037E']+df17['B01001_038E'])/df17['B01001_001E'])*100"
   ]
  },
  {
   "cell_type": "code",
   "execution_count": 93,
   "id": "836957f4-52ed-41b9-9824-e21c2defff0c",
   "metadata": {},
   "outputs": [
    {
     "data": {
      "text/html": [
       "<div>\n",
       "<style scoped>\n",
       "    .dataframe tbody tr th:only-of-type {\n",
       "        vertical-align: middle;\n",
       "    }\n",
       "\n",
       "    .dataframe tbody tr th {\n",
       "        vertical-align: top;\n",
       "    }\n",
       "\n",
       "    .dataframe thead th {\n",
       "        text-align: right;\n",
       "    }\n",
       "</style>\n",
       "<table border=\"1\" class=\"dataframe\">\n",
       "  <thead>\n",
       "    <tr style=\"text-align: right;\">\n",
       "      <th></th>\n",
       "      <th>county_name</th>\n",
       "      <th>B01001_013E</th>\n",
       "      <th>B01001_014E</th>\n",
       "      <th>B01001_037E</th>\n",
       "      <th>B01001_038E</th>\n",
       "      <th>B01001_001E</th>\n",
       "      <th>state code</th>\n",
       "      <th>county code</th>\n",
       "      <th>percent_age_35_to_44</th>\n",
       "      <th>fips</th>\n",
       "    </tr>\n",
       "  </thead>\n",
       "  <tbody>\n",
       "    <tr>\n",
       "      <th>0</th>\n",
       "      <td>LaSalle County, Illinois</td>\n",
       "      <td>3357</td>\n",
       "      <td>3826</td>\n",
       "      <td>2969</td>\n",
       "      <td>3754</td>\n",
       "      <td>113787</td>\n",
       "      <td>17</td>\n",
       "      <td>099</td>\n",
       "      <td>12.221080</td>\n",
       "      <td>17099</td>\n",
       "    </tr>\n",
       "    <tr>\n",
       "      <th>1</th>\n",
       "      <td>Lee County, Illinois</td>\n",
       "      <td>1322</td>\n",
       "      <td>1251</td>\n",
       "      <td>1104</td>\n",
       "      <td>1143</td>\n",
       "      <td>35866</td>\n",
       "      <td>17</td>\n",
       "      <td>103</td>\n",
       "      <td>13.438912</td>\n",
       "      <td>17103</td>\n",
       "    </tr>\n",
       "    <tr>\n",
       "      <th>2</th>\n",
       "      <td>Livingston County, Illinois</td>\n",
       "      <td>1522</td>\n",
       "      <td>1153</td>\n",
       "      <td>1122</td>\n",
       "      <td>1358</td>\n",
       "      <td>38940</td>\n",
       "      <td>17</td>\n",
       "      <td>105</td>\n",
       "      <td>13.238315</td>\n",
       "      <td>17105</td>\n",
       "    </tr>\n",
       "    <tr>\n",
       "      <th>3</th>\n",
       "      <td>Logan County, Illinois</td>\n",
       "      <td>1156</td>\n",
       "      <td>794</td>\n",
       "      <td>710</td>\n",
       "      <td>1174</td>\n",
       "      <td>30251</td>\n",
       "      <td>17</td>\n",
       "      <td>107</td>\n",
       "      <td>12.673961</td>\n",
       "      <td>17107</td>\n",
       "    </tr>\n",
       "    <tr>\n",
       "      <th>4</th>\n",
       "      <td>McDonough County, Illinois</td>\n",
       "      <td>751</td>\n",
       "      <td>574</td>\n",
       "      <td>732</td>\n",
       "      <td>732</td>\n",
       "      <td>32602</td>\n",
       "      <td>17</td>\n",
       "      <td>109</td>\n",
       "      <td>8.554690</td>\n",
       "      <td>17109</td>\n",
       "    </tr>\n",
       "  </tbody>\n",
       "</table>\n",
       "</div>"
      ],
      "text/plain": [
       "                   county_name  B01001_013E  B01001_014E  B01001_037E  \\\n",
       "0     LaSalle County, Illinois         3357         3826         2969   \n",
       "1         Lee County, Illinois         1322         1251         1104   \n",
       "2  Livingston County, Illinois         1522         1153         1122   \n",
       "3       Logan County, Illinois         1156          794          710   \n",
       "4   McDonough County, Illinois          751          574          732   \n",
       "\n",
       "   B01001_038E  B01001_001E state code county code  percent_age_35_to_44  \\\n",
       "0         3754       113787         17         099             12.221080   \n",
       "1         1143        35866         17         103             13.438912   \n",
       "2         1358        38940         17         105             13.238315   \n",
       "3         1174        30251         17         107             12.673961   \n",
       "4          732        32602         17         109              8.554690   \n",
       "\n",
       "    fips  \n",
       "0  17099  \n",
       "1  17103  \n",
       "2  17105  \n",
       "3  17107  \n",
       "4  17109  "
      ]
     },
     "execution_count": 93,
     "metadata": {},
     "output_type": "execute_result"
    }
   ],
   "source": [
    "df17['fips'] = df17['state code'] + df17['county code']\n",
    "df17.head()"
   ]
  },
  {
   "cell_type": "code",
   "execution_count": 94,
   "id": "d38de85f-8ed4-407f-b9fd-03a2bb4634f9",
   "metadata": {},
   "outputs": [
    {
     "data": {
      "text/plain": [
       "(1909, 10)"
      ]
     },
     "execution_count": 94,
     "metadata": {},
     "output_type": "execute_result"
    }
   ],
   "source": [
    "df17.shape"
   ]
  },
  {
   "cell_type": "markdown",
   "id": "eec42697-16ef-4a3d-b612-6a5632b1f442",
   "metadata": {},
   "source": [
    "### age 45 to 54\n",
    "#### (B01001_015E+B01001_016E+B01001_039E+B01001_040E)/B01001_001E"
   ]
  },
  {
   "cell_type": "code",
   "execution_count": 95,
   "id": "8223d7d3-da3b-4190-8c0f-877c3c61c359",
   "metadata": {},
   "outputs": [
    {
     "name": "stdout",
     "output_type": "stream",
     "text": [
      "['NAME', 'B01001_015E', 'B01001_016E', 'B01001_039E', 'B01001_040E', 'B01001_001E', 'state', 'county']\n"
     ]
    }
   ],
   "source": [
    "variables = 'B01001_015E,B01001_016E,B01001_039E,B01001_040E,B01001_001E'\n",
    "df18 = collectAll_county(year,variables)"
   ]
  },
  {
   "cell_type": "code",
   "execution_count": 96,
   "id": "64f93c52-adf3-4d36-9056-dc703c2df649",
   "metadata": {},
   "outputs": [],
   "source": [
    "df18['B01001_015E'] = df18['B01001_015E'].apply(changeInteger)\n",
    "df18['B01001_016E'] = df18['B01001_016E'].apply(changeInteger)\n",
    "df18['B01001_039E'] = df18['B01001_039E'].apply(changeInteger)\n",
    "df18['B01001_040E'] = df18['B01001_040E'].apply(changeInteger)\n",
    "df18['B01001_001E'] = df18['B01001_001E'].apply(changeInteger)"
   ]
  },
  {
   "cell_type": "code",
   "execution_count": 97,
   "id": "833adef1-1d4e-47ec-a6e1-40e3bef59ed6",
   "metadata": {},
   "outputs": [],
   "source": [
    "df18['percent_age_45_to_54'] = ((df18['B01001_015E']+df18['B01001_016E'] +df18['B01001_039E']+df18['B01001_040E'])/df18['B01001_001E'])*100"
   ]
  },
  {
   "cell_type": "code",
   "execution_count": 98,
   "id": "095b777f-0191-4a9f-a2a1-cf635a3a34bf",
   "metadata": {},
   "outputs": [
    {
     "data": {
      "text/html": [
       "<div>\n",
       "<style scoped>\n",
       "    .dataframe tbody tr th:only-of-type {\n",
       "        vertical-align: middle;\n",
       "    }\n",
       "\n",
       "    .dataframe tbody tr th {\n",
       "        vertical-align: top;\n",
       "    }\n",
       "\n",
       "    .dataframe thead th {\n",
       "        text-align: right;\n",
       "    }\n",
       "</style>\n",
       "<table border=\"1\" class=\"dataframe\">\n",
       "  <thead>\n",
       "    <tr style=\"text-align: right;\">\n",
       "      <th></th>\n",
       "      <th>county_name</th>\n",
       "      <th>B01001_015E</th>\n",
       "      <th>B01001_016E</th>\n",
       "      <th>B01001_039E</th>\n",
       "      <th>B01001_040E</th>\n",
       "      <th>B01001_001E</th>\n",
       "      <th>state code</th>\n",
       "      <th>county code</th>\n",
       "      <th>percent_age_45_to_54</th>\n",
       "      <th>fips</th>\n",
       "    </tr>\n",
       "  </thead>\n",
       "  <tbody>\n",
       "    <tr>\n",
       "      <th>0</th>\n",
       "      <td>LaSalle County, Illinois</td>\n",
       "      <td>4472</td>\n",
       "      <td>4582</td>\n",
       "      <td>4271</td>\n",
       "      <td>4568</td>\n",
       "      <td>113787</td>\n",
       "      <td>17</td>\n",
       "      <td>099</td>\n",
       "      <td>15.724995</td>\n",
       "      <td>17099</td>\n",
       "    </tr>\n",
       "    <tr>\n",
       "      <th>1</th>\n",
       "      <td>Lee County, Illinois</td>\n",
       "      <td>1662</td>\n",
       "      <td>1475</td>\n",
       "      <td>1329</td>\n",
       "      <td>1345</td>\n",
       "      <td>35866</td>\n",
       "      <td>17</td>\n",
       "      <td>103</td>\n",
       "      <td>16.201974</td>\n",
       "      <td>17103</td>\n",
       "    </tr>\n",
       "    <tr>\n",
       "      <th>2</th>\n",
       "      <td>Livingston County, Illinois</td>\n",
       "      <td>1671</td>\n",
       "      <td>1589</td>\n",
       "      <td>1439</td>\n",
       "      <td>1559</td>\n",
       "      <td>38940</td>\n",
       "      <td>17</td>\n",
       "      <td>105</td>\n",
       "      <td>16.070878</td>\n",
       "      <td>17105</td>\n",
       "    </tr>\n",
       "    <tr>\n",
       "      <th>3</th>\n",
       "      <td>Logan County, Illinois</td>\n",
       "      <td>1150</td>\n",
       "      <td>1152</td>\n",
       "      <td>1053</td>\n",
       "      <td>1112</td>\n",
       "      <td>30251</td>\n",
       "      <td>17</td>\n",
       "      <td>107</td>\n",
       "      <td>14.766454</td>\n",
       "      <td>17107</td>\n",
       "    </tr>\n",
       "    <tr>\n",
       "      <th>4</th>\n",
       "      <td>McDonough County, Illinois</td>\n",
       "      <td>777</td>\n",
       "      <td>931</td>\n",
       "      <td>811</td>\n",
       "      <td>994</td>\n",
       "      <td>32602</td>\n",
       "      <td>17</td>\n",
       "      <td>109</td>\n",
       "      <td>10.775413</td>\n",
       "      <td>17109</td>\n",
       "    </tr>\n",
       "  </tbody>\n",
       "</table>\n",
       "</div>"
      ],
      "text/plain": [
       "                   county_name  B01001_015E  B01001_016E  B01001_039E  \\\n",
       "0     LaSalle County, Illinois         4472         4582         4271   \n",
       "1         Lee County, Illinois         1662         1475         1329   \n",
       "2  Livingston County, Illinois         1671         1589         1439   \n",
       "3       Logan County, Illinois         1150         1152         1053   \n",
       "4   McDonough County, Illinois          777          931          811   \n",
       "\n",
       "   B01001_040E  B01001_001E state code county code  percent_age_45_to_54  \\\n",
       "0         4568       113787         17         099             15.724995   \n",
       "1         1345        35866         17         103             16.201974   \n",
       "2         1559        38940         17         105             16.070878   \n",
       "3         1112        30251         17         107             14.766454   \n",
       "4          994        32602         17         109             10.775413   \n",
       "\n",
       "    fips  \n",
       "0  17099  \n",
       "1  17103  \n",
       "2  17105  \n",
       "3  17107  \n",
       "4  17109  "
      ]
     },
     "execution_count": 98,
     "metadata": {},
     "output_type": "execute_result"
    }
   ],
   "source": [
    "df18['fips'] = df18['state code'] + df18['county code']\n",
    "df18.head()"
   ]
  },
  {
   "cell_type": "code",
   "execution_count": 99,
   "id": "bff38139-7fc5-4e8c-bed4-1f36dbc09d0e",
   "metadata": {},
   "outputs": [
    {
     "data": {
      "text/plain": [
       "(1909, 10)"
      ]
     },
     "execution_count": 99,
     "metadata": {},
     "output_type": "execute_result"
    }
   ],
   "source": [
    "df18.shape"
   ]
  },
  {
   "cell_type": "markdown",
   "id": "b6ec620f-65e9-4e13-83c3-1370b878b0e5",
   "metadata": {},
   "source": [
    "### age 55 to 64\n",
    "#### (B01001_017E+B01001_018E+B01001_019E+B01001_041E+B01001_042E+B01001_043E)/B01001_001E"
   ]
  },
  {
   "cell_type": "code",
   "execution_count": 100,
   "id": "579965cf-2f83-4d77-8177-1e0ba2fb9873",
   "metadata": {},
   "outputs": [
    {
     "name": "stdout",
     "output_type": "stream",
     "text": [
      "['NAME', 'B01001_017E', 'B01001_018E', 'B01001_019E', 'B01001_041E', 'B01001_042E', 'B01001_043E', 'B01001_001E', 'state', 'county']\n"
     ]
    }
   ],
   "source": [
    "variables = 'B01001_017E,B01001_018E,B01001_019E,B01001_041E,B01001_042E,B01001_043E,B01001_001E'\n",
    "df19 = collectAll_county(year,variables)"
   ]
  },
  {
   "cell_type": "code",
   "execution_count": 101,
   "id": "a61b7263-c36b-4e7b-bce2-3fd3b470bfc9",
   "metadata": {},
   "outputs": [],
   "source": [
    "df19['B01001_017E'] = df19['B01001_017E'].apply(changeInteger)\n",
    "df19['B01001_018E'] = df19['B01001_018E'].apply(changeInteger)\n",
    "df19['B01001_019E'] = df19['B01001_019E'].apply(changeInteger)\n",
    "df19['B01001_041E'] = df19['B01001_041E'].apply(changeInteger)\n",
    "df19['B01001_042E'] = df19['B01001_042E'].apply(changeInteger)\n",
    "df19['B01001_043E'] = df19['B01001_043E'].apply(changeInteger)\n",
    "df19['B01001_001E'] = df19['B01001_001E'].apply(changeInteger)"
   ]
  },
  {
   "cell_type": "code",
   "execution_count": 102,
   "id": "92d9ba4c-765a-48a3-8b96-f46f63118d0c",
   "metadata": {},
   "outputs": [],
   "source": [
    "df19['percent_age_55_to_64'] = ((df19['B01001_017E']+df19['B01001_018E'] +df19['B01001_019E']+df19['B01001_041E']+df19['B01001_042E']+df19['B01001_043E'])/df19['B01001_001E'])*100"
   ]
  },
  {
   "cell_type": "code",
   "execution_count": 103,
   "id": "cc37eab1-db3a-4a0d-b5ae-253140921bd2",
   "metadata": {},
   "outputs": [
    {
     "data": {
      "text/html": [
       "<div>\n",
       "<style scoped>\n",
       "    .dataframe tbody tr th:only-of-type {\n",
       "        vertical-align: middle;\n",
       "    }\n",
       "\n",
       "    .dataframe tbody tr th {\n",
       "        vertical-align: top;\n",
       "    }\n",
       "\n",
       "    .dataframe thead th {\n",
       "        text-align: right;\n",
       "    }\n",
       "</style>\n",
       "<table border=\"1\" class=\"dataframe\">\n",
       "  <thead>\n",
       "    <tr style=\"text-align: right;\">\n",
       "      <th></th>\n",
       "      <th>county_name</th>\n",
       "      <th>B01001_017E</th>\n",
       "      <th>B01001_018E</th>\n",
       "      <th>B01001_019E</th>\n",
       "      <th>B01001_041E</th>\n",
       "      <th>B01001_042E</th>\n",
       "      <th>B01001_043E</th>\n",
       "      <th>B01001_001E</th>\n",
       "      <th>state code</th>\n",
       "      <th>county code</th>\n",
       "      <th>percent_age_55_to_64</th>\n",
       "      <th>fips</th>\n",
       "    </tr>\n",
       "  </thead>\n",
       "  <tbody>\n",
       "    <tr>\n",
       "      <th>0</th>\n",
       "      <td>LaSalle County, Illinois</td>\n",
       "      <td>3827</td>\n",
       "      <td>1508</td>\n",
       "      <td>1893</td>\n",
       "      <td>3930</td>\n",
       "      <td>1512</td>\n",
       "      <td>1692</td>\n",
       "      <td>113787</td>\n",
       "      <td>17</td>\n",
       "      <td>099</td>\n",
       "      <td>12.621829</td>\n",
       "      <td>17099</td>\n",
       "    </tr>\n",
       "    <tr>\n",
       "      <th>1</th>\n",
       "      <td>Lee County, Illinois</td>\n",
       "      <td>1165</td>\n",
       "      <td>488</td>\n",
       "      <td>724</td>\n",
       "      <td>1128</td>\n",
       "      <td>581</td>\n",
       "      <td>571</td>\n",
       "      <td>35866</td>\n",
       "      <td>17</td>\n",
       "      <td>103</td>\n",
       "      <td>12.984442</td>\n",
       "      <td>17103</td>\n",
       "    </tr>\n",
       "    <tr>\n",
       "      <th>2</th>\n",
       "      <td>Livingston County, Illinois</td>\n",
       "      <td>1458</td>\n",
       "      <td>495</td>\n",
       "      <td>520</td>\n",
       "      <td>1149</td>\n",
       "      <td>474</td>\n",
       "      <td>746</td>\n",
       "      <td>38940</td>\n",
       "      <td>17</td>\n",
       "      <td>105</td>\n",
       "      <td>12.434515</td>\n",
       "      <td>17105</td>\n",
       "    </tr>\n",
       "    <tr>\n",
       "      <th>3</th>\n",
       "      <td>Logan County, Illinois</td>\n",
       "      <td>992</td>\n",
       "      <td>380</td>\n",
       "      <td>421</td>\n",
       "      <td>948</td>\n",
       "      <td>382</td>\n",
       "      <td>515</td>\n",
       "      <td>30251</td>\n",
       "      <td>17</td>\n",
       "      <td>107</td>\n",
       "      <td>12.026049</td>\n",
       "      <td>17107</td>\n",
       "    </tr>\n",
       "    <tr>\n",
       "      <th>4</th>\n",
       "      <td>McDonough County, Illinois</td>\n",
       "      <td>868</td>\n",
       "      <td>282</td>\n",
       "      <td>598</td>\n",
       "      <td>1024</td>\n",
       "      <td>298</td>\n",
       "      <td>406</td>\n",
       "      <td>32602</td>\n",
       "      <td>17</td>\n",
       "      <td>109</td>\n",
       "      <td>10.661923</td>\n",
       "      <td>17109</td>\n",
       "    </tr>\n",
       "  </tbody>\n",
       "</table>\n",
       "</div>"
      ],
      "text/plain": [
       "                   county_name  B01001_017E  B01001_018E  B01001_019E  \\\n",
       "0     LaSalle County, Illinois         3827         1508         1893   \n",
       "1         Lee County, Illinois         1165          488          724   \n",
       "2  Livingston County, Illinois         1458          495          520   \n",
       "3       Logan County, Illinois          992          380          421   \n",
       "4   McDonough County, Illinois          868          282          598   \n",
       "\n",
       "   B01001_041E  B01001_042E  B01001_043E  B01001_001E state code county code  \\\n",
       "0         3930         1512         1692       113787         17         099   \n",
       "1         1128          581          571        35866         17         103   \n",
       "2         1149          474          746        38940         17         105   \n",
       "3          948          382          515        30251         17         107   \n",
       "4         1024          298          406        32602         17         109   \n",
       "\n",
       "   percent_age_55_to_64   fips  \n",
       "0             12.621829  17099  \n",
       "1             12.984442  17103  \n",
       "2             12.434515  17105  \n",
       "3             12.026049  17107  \n",
       "4             10.661923  17109  "
      ]
     },
     "execution_count": 103,
     "metadata": {},
     "output_type": "execute_result"
    }
   ],
   "source": [
    "df19['fips'] = df19['state code'] + df19['county code']\n",
    "df19.head()"
   ]
  },
  {
   "cell_type": "code",
   "execution_count": 104,
   "id": "4ed461b2-bb26-4730-8eff-f7c673e1fc6e",
   "metadata": {},
   "outputs": [
    {
     "data": {
      "text/plain": [
       "(1909, 12)"
      ]
     },
     "execution_count": 104,
     "metadata": {},
     "output_type": "execute_result"
    }
   ],
   "source": [
    "df19.shape"
   ]
  },
  {
   "cell_type": "markdown",
   "id": "9b41ea5e-df49-4b9f-9ea3-cfc5fb3f952b",
   "metadata": {},
   "source": [
    "### Combine 19 dataframes together"
   ]
  },
  {
   "cell_type": "code",
   "execution_count": 105,
   "id": "d3ce192e-6369-4897-85fa-d603ecd0eae4",
   "metadata": {},
   "outputs": [],
   "source": [
    "df = df1[['fips','per_capita_income']].merge(df2[['fips', 'percent_below_poverty']], on = 'fips', how = 'left')"
   ]
  },
  {
   "cell_type": "code",
   "execution_count": 106,
   "id": "769784f8-1230-4254-a8a5-e3fd82346352",
   "metadata": {},
   "outputs": [
    {
     "data": {
      "text/html": [
       "<div>\n",
       "<style scoped>\n",
       "    .dataframe tbody tr th:only-of-type {\n",
       "        vertical-align: middle;\n",
       "    }\n",
       "\n",
       "    .dataframe tbody tr th {\n",
       "        vertical-align: top;\n",
       "    }\n",
       "\n",
       "    .dataframe thead th {\n",
       "        text-align: right;\n",
       "    }\n",
       "</style>\n",
       "<table border=\"1\" class=\"dataframe\">\n",
       "  <thead>\n",
       "    <tr style=\"text-align: right;\">\n",
       "      <th></th>\n",
       "      <th>fips</th>\n",
       "      <th>per_capita_income</th>\n",
       "      <th>percent_below_poverty</th>\n",
       "      <th>percent_no_highschool_diploma</th>\n",
       "      <th>percent_mobile_homes</th>\n",
       "      <th>percent_no_vehicle</th>\n",
       "      <th>percent_overcrowding</th>\n",
       "      <th>percent_multi_unit_housing</th>\n",
       "      <th>percent_age_65_and_older</th>\n",
       "      <th>percent_limited_english_abilities</th>\n",
       "      <th>percent_minorities</th>\n",
       "      <th>percent_institutionalized_in_group_quarters</th>\n",
       "      <th>percent_age_18_to_34</th>\n",
       "      <th>percent_age_35_to_44</th>\n",
       "      <th>percent_age_45_to_54</th>\n",
       "      <th>percent_age_55_to_64</th>\n",
       "    </tr>\n",
       "  </thead>\n",
       "  <tbody>\n",
       "    <tr>\n",
       "      <th>0</th>\n",
       "      <td>28039</td>\n",
       "      <td>18979</td>\n",
       "      <td>15.922081</td>\n",
       "      <td>15.728385</td>\n",
       "      <td>24.213965</td>\n",
       "      <td>5.849931</td>\n",
       "      <td>3.519980</td>\n",
       "      <td>NaN</td>\n",
       "      <td>13.132296</td>\n",
       "      <td>2.234717</td>\n",
       "      <td>NaN</td>\n",
       "      <td>2.542448</td>\n",
       "      <td>22.568093</td>\n",
       "      <td>12.637071</td>\n",
       "      <td>13.715953</td>\n",
       "      <td>11.160241</td>\n",
       "    </tr>\n",
       "    <tr>\n",
       "      <th>1</th>\n",
       "      <td>28043</td>\n",
       "      <td>19513</td>\n",
       "      <td>20.664275</td>\n",
       "      <td>20.825490</td>\n",
       "      <td>15.856503</td>\n",
       "      <td>7.677703</td>\n",
       "      <td>NaN</td>\n",
       "      <td>3.298868</td>\n",
       "      <td>15.107881</td>\n",
       "      <td>0.602115</td>\n",
       "      <td>NaN</td>\n",
       "      <td>2.011337</td>\n",
       "      <td>19.477967</td>\n",
       "      <td>14.138782</td>\n",
       "      <td>13.663375</td>\n",
       "      <td>12.931980</td>\n",
       "    </tr>\n",
       "    <tr>\n",
       "      <th>2</th>\n",
       "      <td>28045</td>\n",
       "      <td>22709</td>\n",
       "      <td>21.007065</td>\n",
       "      <td>15.269759</td>\n",
       "      <td>13.616123</td>\n",
       "      <td>3.630252</td>\n",
       "      <td>NaN</td>\n",
       "      <td>2.381277</td>\n",
       "      <td>15.646923</td>\n",
       "      <td>4.240035</td>\n",
       "      <td>NaN</td>\n",
       "      <td>1.092015</td>\n",
       "      <td>18.557450</td>\n",
       "      <td>12.493473</td>\n",
       "      <td>15.510704</td>\n",
       "      <td>14.171226</td>\n",
       "    </tr>\n",
       "    <tr>\n",
       "      <th>3</th>\n",
       "      <td>28047</td>\n",
       "      <td>22317</td>\n",
       "      <td>18.766355</td>\n",
       "      <td>15.908550</td>\n",
       "      <td>10.935382</td>\n",
       "      <td>5.047220</td>\n",
       "      <td>3.580701</td>\n",
       "      <td>8.753282</td>\n",
       "      <td>11.791717</td>\n",
       "      <td>6.553957</td>\n",
       "      <td>32.978072</td>\n",
       "      <td>2.669512</td>\n",
       "      <td>24.974859</td>\n",
       "      <td>12.712239</td>\n",
       "      <td>14.559666</td>\n",
       "      <td>11.466076</td>\n",
       "    </tr>\n",
       "    <tr>\n",
       "      <th>4</th>\n",
       "      <td>28049</td>\n",
       "      <td>19846</td>\n",
       "      <td>23.845571</td>\n",
       "      <td>16.424755</td>\n",
       "      <td>4.613637</td>\n",
       "      <td>7.772039</td>\n",
       "      <td>2.698577</td>\n",
       "      <td>7.465936</td>\n",
       "      <td>10.883400</td>\n",
       "      <td>3.125699</td>\n",
       "      <td>71.868803</td>\n",
       "      <td>3.390065</td>\n",
       "      <td>26.026529</td>\n",
       "      <td>12.004210</td>\n",
       "      <td>13.696804</td>\n",
       "      <td>10.982152</td>\n",
       "    </tr>\n",
       "  </tbody>\n",
       "</table>\n",
       "</div>"
      ],
      "text/plain": [
       "    fips per_capita_income  percent_below_poverty  \\\n",
       "0  28039             18979              15.922081   \n",
       "1  28043             19513              20.664275   \n",
       "2  28045             22709              21.007065   \n",
       "3  28047             22317              18.766355   \n",
       "4  28049             19846              23.845571   \n",
       "\n",
       "   percent_no_highschool_diploma  percent_mobile_homes  percent_no_vehicle  \\\n",
       "0                      15.728385             24.213965            5.849931   \n",
       "1                      20.825490             15.856503            7.677703   \n",
       "2                      15.269759             13.616123            3.630252   \n",
       "3                      15.908550             10.935382            5.047220   \n",
       "4                      16.424755              4.613637            7.772039   \n",
       "\n",
       "   percent_overcrowding  percent_multi_unit_housing  percent_age_65_and_older  \\\n",
       "0              3.519980                         NaN                 13.132296   \n",
       "1                   NaN                    3.298868                 15.107881   \n",
       "2                   NaN                    2.381277                 15.646923   \n",
       "3              3.580701                    8.753282                 11.791717   \n",
       "4              2.698577                    7.465936                 10.883400   \n",
       "\n",
       "   percent_limited_english_abilities  percent_minorities  \\\n",
       "0                           2.234717                 NaN   \n",
       "1                           0.602115                 NaN   \n",
       "2                           4.240035                 NaN   \n",
       "3                           6.553957           32.978072   \n",
       "4                           3.125699           71.868803   \n",
       "\n",
       "   percent_institutionalized_in_group_quarters  percent_age_18_to_34  \\\n",
       "0                                     2.542448             22.568093   \n",
       "1                                     2.011337             19.477967   \n",
       "2                                     1.092015             18.557450   \n",
       "3                                     2.669512             24.974859   \n",
       "4                                     3.390065             26.026529   \n",
       "\n",
       "   percent_age_35_to_44  percent_age_45_to_54  percent_age_55_to_64  \n",
       "0             12.637071             13.715953             11.160241  \n",
       "1             14.138782             13.663375             12.931980  \n",
       "2             12.493473             15.510704             14.171226  \n",
       "3             12.712239             14.559666             11.466076  \n",
       "4             12.004210             13.696804             10.982152  "
      ]
     },
     "execution_count": 106,
     "metadata": {},
     "output_type": "execute_result"
    }
   ],
   "source": [
    "df = df.merge(df3[['fips', 'percent_no_highschool_diploma']], on = 'fips', how = 'left')\n",
    "df = df.merge(df4[['fips', 'percent_mobile_homes']], on = 'fips', how = 'left')\n",
    "df = df.merge(df5[['fips', 'percent_no_vehicle']], on = 'fips', how = 'left')\n",
    "df = df.merge(df7[['fips', 'percent_overcrowding']], on = 'fips', how = 'left')\n",
    "df = df.merge(df8[['fips', 'percent_multi_unit_housing']], on = 'fips', how = 'left')\n",
    "df = df.merge(df9[['fips', 'percent_age_65_and_older']], on = 'fips', how = 'left')\n",
    "df = df.merge(df10[['fips', 'percent_limited_english_abilities']], on = 'fips', how = 'left')\n",
    "df = df.merge(df12[['fips', 'percent_minorities']], on = 'fips', how = 'left')\n",
    "df = df.merge(df14[['fips', 'percent_institutionalized_in_group_quarters']], on = 'fips', how = 'left')\n",
    "df = df.merge(df16[['fips', 'percent_age_18_to_34']], on = 'fips', how = 'left')\n",
    "df = df.merge(df17[['fips', 'percent_age_35_to_44']], on = 'fips', how = 'left')\n",
    "df = df.merge(df18[['fips', 'percent_age_45_to_54']], on = 'fips', how = 'left')\n",
    "df = df.merge(df19[['fips', 'percent_age_55_to_64']], on = 'fips', how = 'left')\n",
    "df.head()"
   ]
  },
  {
   "cell_type": "code",
   "execution_count": 107,
   "id": "8fb672d1-2308-45ba-aeb7-56bb577e7d66",
   "metadata": {},
   "outputs": [
    {
     "data": {
      "text/html": [
       "<div>\n",
       "<style scoped>\n",
       "    .dataframe tbody tr th:only-of-type {\n",
       "        vertical-align: middle;\n",
       "    }\n",
       "\n",
       "    .dataframe tbody tr th {\n",
       "        vertical-align: top;\n",
       "    }\n",
       "\n",
       "    .dataframe thead th {\n",
       "        text-align: right;\n",
       "    }\n",
       "</style>\n",
       "<table border=\"1\" class=\"dataframe\">\n",
       "  <thead>\n",
       "    <tr style=\"text-align: right;\">\n",
       "      <th></th>\n",
       "      <th>fips</th>\n",
       "      <th>per_capita_income</th>\n",
       "      <th>percent_below_poverty</th>\n",
       "      <th>percent_no_highschool_diploma</th>\n",
       "      <th>percent_mobile_homes</th>\n",
       "      <th>percent_no_vehicle</th>\n",
       "      <th>percent_overcrowding</th>\n",
       "      <th>percent_multi_unit_housing</th>\n",
       "      <th>percent_age_65_and_older</th>\n",
       "      <th>percent_limited_english_abilities</th>\n",
       "      <th>percent_minorities</th>\n",
       "      <th>percent_institutionalized_in_group_quarters</th>\n",
       "      <th>percent_age_18_to_34</th>\n",
       "      <th>percent_age_35_to_44</th>\n",
       "      <th>percent_age_45_to_54</th>\n",
       "      <th>percent_age_55_to_64</th>\n",
       "    </tr>\n",
       "  </thead>\n",
       "  <tbody>\n",
       "    <tr>\n",
       "      <th>0</th>\n",
       "      <td>28039</td>\n",
       "      <td>18979</td>\n",
       "      <td>15.922081</td>\n",
       "      <td>15.728385</td>\n",
       "      <td>24.213965</td>\n",
       "      <td>5.849931</td>\n",
       "      <td>3.519980</td>\n",
       "      <td>NaN</td>\n",
       "      <td>13.132296</td>\n",
       "      <td>2.234717</td>\n",
       "      <td>NaN</td>\n",
       "      <td>2.542448</td>\n",
       "      <td>22.568093</td>\n",
       "      <td>12.637071</td>\n",
       "      <td>13.715953</td>\n",
       "      <td>11.160241</td>\n",
       "    </tr>\n",
       "    <tr>\n",
       "      <th>1</th>\n",
       "      <td>28043</td>\n",
       "      <td>19513</td>\n",
       "      <td>20.664275</td>\n",
       "      <td>20.825490</td>\n",
       "      <td>15.856503</td>\n",
       "      <td>7.677703</td>\n",
       "      <td>NaN</td>\n",
       "      <td>3.298868</td>\n",
       "      <td>15.107881</td>\n",
       "      <td>0.602115</td>\n",
       "      <td>NaN</td>\n",
       "      <td>2.011337</td>\n",
       "      <td>19.477967</td>\n",
       "      <td>14.138782</td>\n",
       "      <td>13.663375</td>\n",
       "      <td>12.931980</td>\n",
       "    </tr>\n",
       "    <tr>\n",
       "      <th>2</th>\n",
       "      <td>28045</td>\n",
       "      <td>22709</td>\n",
       "      <td>21.007065</td>\n",
       "      <td>15.269759</td>\n",
       "      <td>13.616123</td>\n",
       "      <td>3.630252</td>\n",
       "      <td>NaN</td>\n",
       "      <td>2.381277</td>\n",
       "      <td>15.646923</td>\n",
       "      <td>4.240035</td>\n",
       "      <td>NaN</td>\n",
       "      <td>1.092015</td>\n",
       "      <td>18.557450</td>\n",
       "      <td>12.493473</td>\n",
       "      <td>15.510704</td>\n",
       "      <td>14.171226</td>\n",
       "    </tr>\n",
       "    <tr>\n",
       "      <th>3</th>\n",
       "      <td>28047</td>\n",
       "      <td>22317</td>\n",
       "      <td>18.766355</td>\n",
       "      <td>15.908550</td>\n",
       "      <td>10.935382</td>\n",
       "      <td>5.047220</td>\n",
       "      <td>3.580701</td>\n",
       "      <td>8.753282</td>\n",
       "      <td>11.791717</td>\n",
       "      <td>6.553957</td>\n",
       "      <td>32.978072</td>\n",
       "      <td>2.669512</td>\n",
       "      <td>24.974859</td>\n",
       "      <td>12.712239</td>\n",
       "      <td>14.559666</td>\n",
       "      <td>11.466076</td>\n",
       "    </tr>\n",
       "    <tr>\n",
       "      <th>4</th>\n",
       "      <td>28049</td>\n",
       "      <td>19846</td>\n",
       "      <td>23.845571</td>\n",
       "      <td>16.424755</td>\n",
       "      <td>4.613637</td>\n",
       "      <td>7.772039</td>\n",
       "      <td>2.698577</td>\n",
       "      <td>7.465936</td>\n",
       "      <td>10.883400</td>\n",
       "      <td>3.125699</td>\n",
       "      <td>71.868803</td>\n",
       "      <td>3.390065</td>\n",
       "      <td>26.026529</td>\n",
       "      <td>12.004210</td>\n",
       "      <td>13.696804</td>\n",
       "      <td>10.982152</td>\n",
       "    </tr>\n",
       "  </tbody>\n",
       "</table>\n",
       "</div>"
      ],
      "text/plain": [
       "    fips per_capita_income  percent_below_poverty  \\\n",
       "0  28039             18979              15.922081   \n",
       "1  28043             19513              20.664275   \n",
       "2  28045             22709              21.007065   \n",
       "3  28047             22317              18.766355   \n",
       "4  28049             19846              23.845571   \n",
       "\n",
       "   percent_no_highschool_diploma  percent_mobile_homes  percent_no_vehicle  \\\n",
       "0                      15.728385             24.213965            5.849931   \n",
       "1                      20.825490             15.856503            7.677703   \n",
       "2                      15.269759             13.616123            3.630252   \n",
       "3                      15.908550             10.935382            5.047220   \n",
       "4                      16.424755              4.613637            7.772039   \n",
       "\n",
       "   percent_overcrowding  percent_multi_unit_housing  percent_age_65_and_older  \\\n",
       "0              3.519980                         NaN                 13.132296   \n",
       "1                   NaN                    3.298868                 15.107881   \n",
       "2                   NaN                    2.381277                 15.646923   \n",
       "3              3.580701                    8.753282                 11.791717   \n",
       "4              2.698577                    7.465936                 10.883400   \n",
       "\n",
       "   percent_limited_english_abilities  percent_minorities  \\\n",
       "0                           2.234717                 NaN   \n",
       "1                           0.602115                 NaN   \n",
       "2                           4.240035                 NaN   \n",
       "3                           6.553957           32.978072   \n",
       "4                           3.125699           71.868803   \n",
       "\n",
       "   percent_institutionalized_in_group_quarters  percent_age_18_to_34  \\\n",
       "0                                     2.542448             22.568093   \n",
       "1                                     2.011337             19.477967   \n",
       "2                                     1.092015             18.557450   \n",
       "3                                     2.669512             24.974859   \n",
       "4                                     3.390065             26.026529   \n",
       "\n",
       "   percent_age_35_to_44  percent_age_45_to_54  percent_age_55_to_64  \n",
       "0             12.637071             13.715953             11.160241  \n",
       "1             14.138782             13.663375             12.931980  \n",
       "2             12.493473             15.510704             14.171226  \n",
       "3             12.712239             14.559666             11.466076  \n",
       "4             12.004210             13.696804             10.982152  "
      ]
     },
     "execution_count": 107,
     "metadata": {},
     "output_type": "execute_result"
    }
   ],
   "source": [
    "df.head()"
   ]
  },
  {
   "cell_type": "code",
   "execution_count": 108,
   "id": "9ee5d6d3-6642-4cd7-8bcf-b966a22230a4",
   "metadata": {},
   "outputs": [
    {
     "data": {
      "text/html": [
       "<div>\n",
       "<style scoped>\n",
       "    .dataframe tbody tr th:only-of-type {\n",
       "        vertical-align: middle;\n",
       "    }\n",
       "\n",
       "    .dataframe tbody tr th {\n",
       "        vertical-align: top;\n",
       "    }\n",
       "\n",
       "    .dataframe thead th {\n",
       "        text-align: right;\n",
       "    }\n",
       "</style>\n",
       "<table border=\"1\" class=\"dataframe\">\n",
       "  <thead>\n",
       "    <tr style=\"text-align: right;\">\n",
       "      <th></th>\n",
       "      <th>fips</th>\n",
       "      <th>per_capita_income</th>\n",
       "      <th>percent_below_poverty</th>\n",
       "      <th>percent_no_highschool_diploma</th>\n",
       "      <th>percent_mobile_homes</th>\n",
       "      <th>percent_no_vehicle</th>\n",
       "      <th>percent_overcrowding</th>\n",
       "      <th>percent_multi_unit_housing</th>\n",
       "      <th>percent_age_65_and_older</th>\n",
       "      <th>percent_limited_english_abilities</th>\n",
       "      <th>percent_minorities</th>\n",
       "      <th>percent_institutionalized_in_group_quarters</th>\n",
       "      <th>percent_age_18_to_34</th>\n",
       "      <th>percent_age_35_to_44</th>\n",
       "      <th>percent_age_45_to_54</th>\n",
       "      <th>percent_age_55_to_64</th>\n",
       "    </tr>\n",
       "  </thead>\n",
       "  <tbody>\n",
       "    <tr>\n",
       "      <th>1010</th>\n",
       "      <td>01001</td>\n",
       "      <td>24330</td>\n",
       "      <td>11.899284</td>\n",
       "      <td>15.417352</td>\n",
       "      <td>20.549005</td>\n",
       "      <td>5.046126</td>\n",
       "      <td>2.575994</td>\n",
       "      <td>2.098437</td>\n",
       "      <td>11.995245</td>\n",
       "      <td>2.651026</td>\n",
       "      <td>NaN</td>\n",
       "      <td>0.731529</td>\n",
       "      <td>20.747988</td>\n",
       "      <td>14.743965</td>\n",
       "      <td>14.970739</td>\n",
       "      <td>10.771763</td>\n",
       "    </tr>\n",
       "    <tr>\n",
       "      <th>1011</th>\n",
       "      <td>01003</td>\n",
       "      <td>26848</td>\n",
       "      <td>12.957692</td>\n",
       "      <td>12.145905</td>\n",
       "      <td>13.050596</td>\n",
       "      <td>3.371146</td>\n",
       "      <td>2.076904</td>\n",
       "      <td>17.290621</td>\n",
       "      <td>16.961999</td>\n",
       "      <td>5.566193</td>\n",
       "      <td>NaN</td>\n",
       "      <td>1.268519</td>\n",
       "      <td>19.044707</td>\n",
       "      <td>12.721772</td>\n",
       "      <td>14.870554</td>\n",
       "      <td>13.424563</td>\n",
       "    </tr>\n",
       "    <tr>\n",
       "      <th>1012</th>\n",
       "      <td>01005</td>\n",
       "      <td>16256</td>\n",
       "      <td>26.926675</td>\n",
       "      <td>28.968065</td>\n",
       "      <td>23.494000</td>\n",
       "      <td>10.857265</td>\n",
       "      <td>NaN</td>\n",
       "      <td>1.296720</td>\n",
       "      <td>14.776005</td>\n",
       "      <td>4.351032</td>\n",
       "      <td>NaN</td>\n",
       "      <td>10.237687</td>\n",
       "      <td>21.917558</td>\n",
       "      <td>13.834021</td>\n",
       "      <td>14.553288</td>\n",
       "      <td>13.008872</td>\n",
       "    </tr>\n",
       "    <tr>\n",
       "      <th>1013</th>\n",
       "      <td>01007</td>\n",
       "      <td>17178</td>\n",
       "      <td>13.390054</td>\n",
       "      <td>25.468740</td>\n",
       "      <td>32.623436</td>\n",
       "      <td>3.001344</td>\n",
       "      <td>NaN</td>\n",
       "      <td>NaN</td>\n",
       "      <td>12.837897</td>\n",
       "      <td>1.138476</td>\n",
       "      <td>NaN</td>\n",
       "      <td>3.879801</td>\n",
       "      <td>21.463564</td>\n",
       "      <td>16.420261</td>\n",
       "      <td>14.696877</td>\n",
       "      <td>11.998075</td>\n",
       "    </tr>\n",
       "    <tr>\n",
       "      <th>1014</th>\n",
       "      <td>01009</td>\n",
       "      <td>20774</td>\n",
       "      <td>14.788819</td>\n",
       "      <td>26.622537</td>\n",
       "      <td>21.418405</td>\n",
       "      <td>4.165103</td>\n",
       "      <td>1.158537</td>\n",
       "      <td>1.032048</td>\n",
       "      <td>14.575068</td>\n",
       "      <td>6.592957</td>\n",
       "      <td>NaN</td>\n",
       "      <td>0.972715</td>\n",
       "      <td>20.221689</td>\n",
       "      <td>13.581471</td>\n",
       "      <td>14.059999</td>\n",
       "      <td>13.057702</td>\n",
       "    </tr>\n",
       "  </tbody>\n",
       "</table>\n",
       "</div>"
      ],
      "text/plain": [
       "       fips per_capita_income  percent_below_poverty  \\\n",
       "1010  01001             24330              11.899284   \n",
       "1011  01003             26848              12.957692   \n",
       "1012  01005             16256              26.926675   \n",
       "1013  01007             17178              13.390054   \n",
       "1014  01009             20774              14.788819   \n",
       "\n",
       "      percent_no_highschool_diploma  percent_mobile_homes  percent_no_vehicle  \\\n",
       "1010                      15.417352             20.549005            5.046126   \n",
       "1011                      12.145905             13.050596            3.371146   \n",
       "1012                      28.968065             23.494000           10.857265   \n",
       "1013                      25.468740             32.623436            3.001344   \n",
       "1014                      26.622537             21.418405            4.165103   \n",
       "\n",
       "      percent_overcrowding  percent_multi_unit_housing  \\\n",
       "1010              2.575994                    2.098437   \n",
       "1011              2.076904                   17.290621   \n",
       "1012                   NaN                    1.296720   \n",
       "1013                   NaN                         NaN   \n",
       "1014              1.158537                    1.032048   \n",
       "\n",
       "      percent_age_65_and_older  percent_limited_english_abilities  \\\n",
       "1010                 11.995245                           2.651026   \n",
       "1011                 16.961999                           5.566193   \n",
       "1012                 14.776005                           4.351032   \n",
       "1013                 12.837897                           1.138476   \n",
       "1014                 14.575068                           6.592957   \n",
       "\n",
       "      percent_minorities  percent_institutionalized_in_group_quarters  \\\n",
       "1010                 NaN                                     0.731529   \n",
       "1011                 NaN                                     1.268519   \n",
       "1012                 NaN                                    10.237687   \n",
       "1013                 NaN                                     3.879801   \n",
       "1014                 NaN                                     0.972715   \n",
       "\n",
       "      percent_age_18_to_34  percent_age_35_to_44  percent_age_45_to_54  \\\n",
       "1010             20.747988             14.743965             14.970739   \n",
       "1011             19.044707             12.721772             14.870554   \n",
       "1012             21.917558             13.834021             14.553288   \n",
       "1013             21.463564             16.420261             14.696877   \n",
       "1014             20.221689             13.581471             14.059999   \n",
       "\n",
       "      percent_age_55_to_64  \n",
       "1010             10.771763  \n",
       "1011             13.424563  \n",
       "1012             13.008872  \n",
       "1013             11.998075  \n",
       "1014             13.057702  "
      ]
     },
     "execution_count": 108,
     "metadata": {},
     "output_type": "execute_result"
    }
   ],
   "source": [
    "df = df.sort_values('fips')\n",
    "df.head()"
   ]
  },
  {
   "cell_type": "code",
   "execution_count": 110,
   "id": "e71a412f-110f-413e-bb0f-db2f9dd71ea4",
   "metadata": {},
   "outputs": [],
   "source": [
    "df.to_csv('SDoH_3years/Social_Economic_3years_2011.csv')"
   ]
  },
  {
   "cell_type": "code",
   "execution_count": null,
   "id": "37ed9bf1-115d-4c43-9e7d-b07bb7fdaf85",
   "metadata": {},
   "outputs": [],
   "source": []
  },
  {
   "cell_type": "code",
   "execution_count": null,
   "id": "c7bed9e1-5e20-4643-97df-44f9b42f6fcc",
   "metadata": {},
   "outputs": [],
   "source": []
  },
  {
   "cell_type": "code",
   "execution_count": null,
   "id": "e16f5171-7956-41a4-a6f6-333c3bb1446b",
   "metadata": {},
   "outputs": [],
   "source": []
  }
 ],
 "metadata": {
  "kernelspec": {
   "display_name": "MyEnv",
   "language": "python",
   "name": "myenv"
  },
  "language_info": {
   "codemirror_mode": {
    "name": "ipython",
    "version": 3
   },
   "file_extension": ".py",
   "mimetype": "text/x-python",
   "name": "python",
   "nbconvert_exporter": "python",
   "pygments_lexer": "ipython3",
   "version": "3.7.11"
  }
 },
 "nbformat": 4,
 "nbformat_minor": 5
}
